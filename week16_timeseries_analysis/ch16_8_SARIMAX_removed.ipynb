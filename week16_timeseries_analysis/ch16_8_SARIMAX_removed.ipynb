{
 "cells": [
  {
   "cell_type": "markdown",
   "id": "62f80a96-43fe-48ef-8d03-d297db433572",
   "metadata": {},
   "source": [
    "# ch 16_8 SARIMAX\n",
    "\n",
    "지금까지 배운 ARIMA, SARIMA 모델 등은 시간에 흐름에 따른 종속 변수의 변화만 고려했습니다. 여기에 exogenous variable, 외생 변수의 영향을 포함시킨 것이 SARIMAX 모델입니다.\n",
    "\n",
    "예를들어 치킨집의 매출 시계열 데이터가 주어졌다고 가정하겠습니다. 국가대표 스포츠 경기가 있는 날엔 치킨집의 매출이 급증합니다만, 시간만 고려한 모델은 이를 반영하지 못합니다. 이런 외생 변수를 시계열 모델에 포함시킬 수 있는 모델이 SARIMAX입니다."
   ]
  },
  {
   "cell_type": "markdown",
   "id": "785c9d36-c1a8-4bcf-a3e9-fcdf72f0bf8a",
   "metadata": {},
   "source": [
    "## 데이터 셋 준비\n",
    "\n",
    "데이터 셋 링크: https://www.kaggle.com/datasets/prakharprasad/time-series-data-1?select=RestaurantVisitors.csv  \n",
    "참고 자료: https://www.kaggle.com/code/prakharprasad/restaurant-visitors-forecast-with-sarimax/log"
   ]
  },
  {
   "cell_type": "code",
   "execution_count": null,
   "id": "9bb98503-c7cf-445d-9cdd-250a02881925",
   "metadata": {},
   "outputs": [],
   "source": []
  },
  {
   "cell_type": "markdown",
   "id": "106c6218-c30e-48f5-a900-9f939b320b8c",
   "metadata": {},
   "source": [
    "### 계절성 확인\n",
    "\n",
    "계절성 확인을 위해서 ACF plot을 그려보면 7일의 주기를 가짐을 알 수 있습니다."
   ]
  },
  {
   "cell_type": "code",
   "execution_count": null,
   "id": "bb548f9d-dfac-4057-a298-db796d51b18c",
   "metadata": {},
   "outputs": [],
   "source": []
  },
  {
   "cell_type": "markdown",
   "id": "870405b6-a41c-4d5d-8be9-c9e2fd5f6be7",
   "metadata": {
    "tags": []
   },
   "source": [
    "### 계절 차분 적용\n",
    "\n",
    "학습용 데이터 셋에 계절 차분을 적용한 뒤, acf와 pacf plot을 그려보겠습니다."
   ]
  },
  {
   "cell_type": "code",
   "execution_count": null,
   "id": "9dd2c69e-5014-4052-9145-6c93a374ab92",
   "metadata": {},
   "outputs": [],
   "source": []
  },
  {
   "cell_type": "markdown",
   "id": "f5cd5358-3298-4cc2-a300-d882ec8f8619",
   "metadata": {},
   "source": [
    "## SARIMA \n",
    "\n",
    "### 모델 학습\n",
    "외생 변수의 영향을 파악하기 위해서 먼저 SARIMA 모델을 학습시키고, 예측 결과를 시각화 해보겠습니다. auto_arima와 train set으로 모델을 학습시키겠습니다."
   ]
  },
  {
   "cell_type": "code",
   "execution_count": null,
   "id": "ca02a0f3-9482-4ac1-88ce-a8b0744eb7b2",
   "metadata": {},
   "outputs": [],
   "source": []
  },
  {
   "cell_type": "markdown",
   "id": "d2392916-1f0f-49ba-b535-85520a5788f9",
   "metadata": {},
   "source": [
    "### 인퍼런스\n",
    "\n",
    "test set에 대해서 예측을 내려보겠습니다."
   ]
  },
  {
   "cell_type": "code",
   "execution_count": null,
   "id": "72b873d3-8767-4521-9147-4c349c7e3ce2",
   "metadata": {},
   "outputs": [],
   "source": []
  },
  {
   "cell_type": "markdown",
   "id": "84e0fddc-1060-4ee8-b7e5-c85b0640a650",
   "metadata": {},
   "source": [
    "### 결과 시각화"
   ]
  },
  {
   "cell_type": "markdown",
   "id": "5a44e414-9dad-4741-85a1-f7881162a197",
   "metadata": {},
   "source": [
    "공휴일을 함께 시각화해보면 공휴일에 SARIMA 모델이 예측한 값보다 실제 방문객이 많음을 알 수 있습니다. 즉, 공휴일이라는 외생 변수를 모델에 추가할 경우, 성능 향상을 기대할 수 있습니다."
   ]
  },
  {
   "cell_type": "code",
   "execution_count": null,
   "id": "c2557a1c-d677-4733-9f98-21a161ef2e08",
   "metadata": {},
   "outputs": [],
   "source": []
  },
  {
   "cell_type": "markdown",
   "id": "36e6f529-4558-4d8d-b583-88c44c3bf9b0",
   "metadata": {},
   "source": [
    "## SARIMAX 모델 학습\n",
    "\n",
    "SARIMAX 모델은 SARIMA와 달리 auto_arima로 바로 학습시킬 수가 없습니다. 때문에 먼저 auto_arima로 적합한 파라미터를 찾고, 이를 이용하여 statsmodels에 내장된 SARIMAX 모델을 학습시켜야 합니다. 외생 변수의 영향을 모델에 포함시키기 위해서 exogeneous 옵션에 holiday를 넣어주겠습니다."
   ]
  },
  {
   "cell_type": "markdown",
   "id": "4064e995-7d5c-4d10-846d-0c6832414b61",
   "metadata": {},
   "source": [
    "### auto_arima를 이용한 파라미터 탐색"
   ]
  },
  {
   "cell_type": "code",
   "execution_count": null,
   "id": "1e54afaa-5f80-4280-8856-94992859b77f",
   "metadata": {},
   "outputs": [],
   "source": []
  },
  {
   "cell_type": "markdown",
   "id": "c981f9cb-23dd-4655-b437-8da2e740360a",
   "metadata": {},
   "source": [
    "### SARIMAX 모델 학습\n",
    "\n",
    "train set과 auto_arima를 이용해 탐색한 파라미터를 가지고 SARIMAX 모델을 학습시킵니다. 마찬가지로 exog에 holiday를 넣어줍니다."
   ]
  },
  {
   "cell_type": "code",
   "execution_count": null,
   "id": "4a17c796-57d3-4045-bd39-7942aade4c7c",
   "metadata": {},
   "outputs": [],
   "source": []
  },
  {
   "cell_type": "markdown",
   "id": "7a11e36f-0018-40da-9e2f-a20ee5b58d64",
   "metadata": {},
   "source": [
    "### 인퍼런스"
   ]
  },
  {
   "cell_type": "code",
   "execution_count": null,
   "id": "381fa34c-ff9b-4288-bd68-eceba5889a29",
   "metadata": {},
   "outputs": [],
   "source": []
  },
  {
   "cell_type": "markdown",
   "id": "67f92f43-897d-4f2a-8725-5dda93d20bc1",
   "metadata": {},
   "source": [
    "### 결과 시각화\n",
    "\n",
    "SARIMA 모델과 비교를 해보면 공휴일에 실제 방문객과 더 근접하게 예측값을 내려주는 것을 확인할 수 있습니다."
   ]
  },
  {
   "cell_type": "code",
   "execution_count": null,
   "id": "32357573-2219-48f9-9cf3-77581552a245",
   "metadata": {},
   "outputs": [],
   "source": []
  },
  {
   "cell_type": "markdown",
   "id": "cef82ff7-9416-4d90-9bb8-b33d8b9e916b",
   "metadata": {},
   "source": [
    "## 메트릭 비교\n",
    "\n",
    "SARIMA 모델과 SARIMAX 모델의 RMSE를 비교해보면 train set에서는 SARIMAX의 결과가 더 좋지만, test set에서는 SARIMA 모델이 조금 더 좋습니다. 이는 아마도 test set에 포함된 공휴일의 수가 적어서 발생한 현상으로 추측됩니다."
   ]
  },
  {
   "cell_type": "code",
   "execution_count": null,
   "id": "b2803899-daf9-4bac-a35f-e4f4878b8670",
   "metadata": {},
   "outputs": [],
   "source": []
  },
  {
   "cell_type": "markdown",
   "id": "6b81b26a-a4bb-40a2-a1ae-8c1ca442e8b4",
   "metadata": {},
   "source": [
    "## 정리\n",
    "\n",
    "이번 챕터에서는 외생 변수의 영향을 함께 고려할 수 있는 SARIMAX 모델에 대해서 배워봤습니다. 그리고 대표적인 외생 변수인 공휴일 여부를 포함하여 SARIMAX 모델을 학습시켰고, SARIMA 모델과 성능을 비교해보았습니다."
   ]
  }
 ],
 "metadata": {
  "kernelspec": {
   "display_name": "Python 3 (ipykernel)",
   "language": "python",
   "name": "python3"
  },
  "language_info": {
   "codemirror_mode": {
    "name": "ipython",
    "version": 3
   },
   "file_extension": ".py",
   "mimetype": "text/x-python",
   "name": "python",
   "nbconvert_exporter": "python",
   "pygments_lexer": "ipython3",
   "version": "3.10.8"
  }
 },
 "nbformat": 4,
 "nbformat_minor": 5
}
