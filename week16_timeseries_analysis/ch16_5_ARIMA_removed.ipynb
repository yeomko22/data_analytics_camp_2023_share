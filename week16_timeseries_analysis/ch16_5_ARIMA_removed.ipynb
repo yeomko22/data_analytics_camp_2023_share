{
 "cells": [
  {
   "cell_type": "markdown",
   "id": "18d483d8-5032-4dca-98bc-2a1cf999be9c",
   "metadata": {},
   "source": [
    "# ch 16_5 ARIMA\n",
    "\n",
    "이번 챕터에서는 본격적으로 시계열 예측 모델들에 대해서 배웁니다. 그 중에서도 ARIMA는 가장 기본적인 시계열 예측 모델입니다."
   ]
  },
  {
   "cell_type": "code",
   "execution_count": null,
   "id": "d1727a2e-5532-4e46-80e2-fb7d2c5f425d",
   "metadata": {},
   "outputs": [],
   "source": [
    "import warnings\n",
    "\n",
    "warnings.filterwarnings(action='ignore')"
   ]
  },
  {
   "cell_type": "markdown",
   "id": "adb7c429-a07c-4599-815f-accb43fddbd8",
   "metadata": {},
   "source": [
    "## 데이터 셋 준비\n",
    "\n",
    "과적합 여부 파악과 성능 평가를 위해 특정 시점을 기준으로 train과 test 셋을 나누겠습니다."
   ]
  },
  {
   "cell_type": "code",
   "execution_count": null,
   "id": "eac07523-406c-46b1-a0ff-18ebed6effe4",
   "metadata": {},
   "outputs": [],
   "source": []
  },
  {
   "cell_type": "markdown",
   "id": "0f4eb0a2-948c-415d-84a1-b671080850c2",
   "metadata": {},
   "source": [
    "## ARIMA\n",
    "\n",
    "ARIMA 모델은 가장 기본적인 시계열 예측 모델이며 크게 세가지 구성 요소로 이루어져 있습니다. \n",
    "\n",
    "- AR(Auto Regression): 현재 관측값과 이전 기간의 관측값 사이의 종속 관계를 활용하는 회귀 모델입니다.\n",
    "- I(Integration):  시계열을 고정시키기 위해 관측치 차분을 사용합니다. 미분은 시계열의 현재 값에서 이전 값 d 횟수를 빼는 것을 포함합니다.\n",
    "- MA(Moving Average): 잔차 오차와 관측치 간의 종속성을 사용하는 모델입니다. 이동 평균 성분은 모델의 오차를 이전 오차 항의 조합으로 나타냅니다.\n",
    "\n",
    "ARIMA 모델을 학습시키기 위해서는 p, d, q 세가지 파라미터를 결정해야 하며, 이를 위해선 각 구성 요소들이 어떻게 동작하는지 이해해야 합니다."
   ]
  },
  {
   "cell_type": "markdown",
   "id": "f09f0e3c-4e28-4040-8178-ce483c363ad8",
   "metadata": {},
   "source": [
    "### Auto Regressive\n",
    "\n",
    "이전 시점의 값들을 feature로 사용하여 다음에 올 값을 예측하는 회귀 모델입니다. 스스로를 feature로 사용하기 때문에 auto regressive 모델이라고 부릅니다. \n",
    "\n",
    "$$Y_{t}=\\alpha+\\beta_{1}Y_{t-1}+\\beta_{t-2}+...+\\beta_{p}Y_{t-p}+\\epsilon_{t}$$\n",
    "\n",
    "여기서 몇번째 lag 까지를 회귀식에 포함할 지를 의미하는 p가 ARIMA 모델을 학습시키기 위해 필요한 첫번째 파라미터입니다."
   ]
  },
  {
   "cell_type": "markdown",
   "id": "c900c582-1e31-4b4b-9ada-b01e07eb501d",
   "metadata": {},
   "source": [
    "간단하게 AR 모델을 학습시켜보고, 시각화해보겠습니다."
   ]
  },
  {
   "cell_type": "code",
   "execution_count": null,
   "id": "8359d417-0b31-4827-bb68-07d67d2019c1",
   "metadata": {},
   "outputs": [],
   "source": []
  },
  {
   "cell_type": "markdown",
   "id": "d1372ff9-f9be-4aa9-9bbb-768c75f7ec29",
   "metadata": {},
   "source": [
    "예측 결과가 얼마나 정확한지 오차를 측정해보겠습니다."
   ]
  },
  {
   "cell_type": "code",
   "execution_count": null,
   "id": "1b548d93-907a-4005-b0a9-4b54fbcf0160",
   "metadata": {},
   "outputs": [],
   "source": []
  },
  {
   "cell_type": "markdown",
   "id": "fe34fd8d-ec56-47af-8278-3ce73f665238",
   "metadata": {},
   "source": [
    "### Moving Average\n",
    "\n",
    "ARIMA 모델에서 등장하는 moving average는 이전에 직접 구해보았던 이동 평균과는 다른 개념입니다. 이는 auto regressive 모델의 예측값과 실제 값 사이의 오차를 feature로 사용하는 회귀 모델입니다. 앞서 학습시킨 auto regressive의 예측값과 실제 값 사이에 오차항을 확인해보겠습니다."
   ]
  },
  {
   "cell_type": "code",
   "execution_count": null,
   "id": "ddfa937d-e025-4dbf-bdd7-d55f45a2c2f7",
   "metadata": {},
   "outputs": [],
   "source": []
  },
  {
   "cell_type": "markdown",
   "id": "2c58bb50-2182-408a-993b-479fb5e9cb17",
   "metadata": {},
   "source": [
    "Moving Average는 AR 모델의 오차항들을 feature로 사용해서 예측을 하는 모델입니다. 이 때, 현재 시점으로부터 몇번째 전의 오차항까지 볼 것인지를 결정하는 파라미터가 q입니다. \n",
    "\n",
    "$$Y_{t}=\\alpha+\\epsilon_{t}+\\phi_{1}\\epsilon_{t-1}+\\phi_{2}\\epsilon_{t-2}+...+\\phi_{q}\\epsilon_{t-q}$$\n",
    "\n",
    "$$\\epsilon_{t}=Y_{t}-\\hat{Y}_{t}$$\n",
    "\n",
    "Moving Average 모델은 Auto Regressive 모델을 필요로 하기에, 단독으로 사용되지 않고, ARMA나 ARIMA 모델에서 AR 모델과 결합된 형태로 사용됩니다."
   ]
  },
  {
   "cell_type": "markdown",
   "id": "0d151491-8a4d-4330-a4ef-819b59ba99a0",
   "metadata": {},
   "source": [
    "### ARMA\n",
    "\n",
    "ARMA 모델은 AR 모델과 MA 모델을 단순 결합시킨 모델입니다. 이는 과거 시점의 데이터와 auto regressive 모델의 오차항을 독립 변수로 사용하는 회귀 모델입니다. 수식으로 표현하면 아래와 같습니다.\n",
    "\n",
    "$$Y_{t}=\\alpha+\\beta_{1}Y_{t-1}+\\beta_{t-2}Y_{t-2}+...+\\beta_{p}Y_{t-p}+\\epsilon_{t} +\\phi_{1}\\epsilon_{t-1}+\\phi_{2}\\epsilon_{t-2}+...+\\phi_{q}\\epsilon_{t-q}$$ \n",
    "\n",
    "이는 statsmodels에서 별도로 클래스로 제공하는 것은 없고, ARIMA 모델 생성시에 전달하는 차분 파라미터 d를 0으로 설정하면 학습시킬 수 있습니다."
   ]
  },
  {
   "cell_type": "markdown",
   "id": "4e9c2cff-c16c-4741-ade8-98142d89b298",
   "metadata": {},
   "source": [
    "### ARIMA\n",
    "\n",
    "드디어 오늘의 주인공 ARIMA입니다. ARIMA는 차분을 적용하여 정상성을 확보한 데이터에 ARMA 모델을 학습시킨 모델입니다.\n",
    "\n",
    "- AR: auto regressive (p)\n",
    "- I: integrated (d)\n",
    "- MA: Moving Average (q)\n",
    "\n",
    "ARIMA 모델을 학습시키기 위해서는 p, q, d 세 파라미터가 필요합니다. \n",
    "\n",
    "- p: auto regressive 모델이 몇 lag 까지를 모델에 포함시킬 것인가\n",
    "- d: 차분을 몇번 적용할 것인가\n",
    "- q: moving average 모델이 몇 lag 까지를 모델에 포함시킬 것인가\n",
    "\n",
    "여기서는 간단하게 임의의 파라미터를 지정해서 ARIMA를 학습시켜보고 결과를 시각화해보겠습니다."
   ]
  },
  {
   "cell_type": "code",
   "execution_count": null,
   "id": "8907ac59-ef70-4197-a246-f32774c53ced",
   "metadata": {},
   "outputs": [],
   "source": []
  },
  {
   "cell_type": "markdown",
   "id": "1485e74e-b83a-4f0d-9584-8082d9925291",
   "metadata": {},
   "source": [
    "AR 모델과 ARIMA 모델의 성능을 측정해보겠습니다."
   ]
  },
  {
   "cell_type": "code",
   "execution_count": null,
   "id": "f3acd03f-4718-4a72-a84c-eaa0e0a7f55a",
   "metadata": {},
   "outputs": [],
   "source": []
  },
  {
   "cell_type": "markdown",
   "id": "548f1412-8890-4411-8e1b-d4cf3574cc2c",
   "metadata": {},
   "source": [
    "## 정리\n",
    "\n",
    "이번 챕터에서는 기본적인 시계열 예측 모델인 ARIMA에 대해서 배워보았습니다. 그리고 ARIMA 모델을 학습시키기 위해서 필요한 파라미터 p, d, q에 대해서 알아보았고, 임의의 파라미터를 지정해서 모델을 학습시키고 결과를 확인해보았습니다. 다음 챕터에서는 ACF와 PACF를 이용해서 p, d, q 각 파라미터를 선택하는 방법에 대해서 알아보겠습니다."
   ]
  }
 ],
 "metadata": {
  "kernelspec": {
   "display_name": "Python 3 (ipykernel)",
   "language": "python",
   "name": "python3"
  },
  "language_info": {
   "codemirror_mode": {
    "name": "ipython",
    "version": 3
   },
   "file_extension": ".py",
   "mimetype": "text/x-python",
   "name": "python",
   "nbconvert_exporter": "python",
   "pygments_lexer": "ipython3",
   "version": "3.10.8"
  }
 },
 "nbformat": 4,
 "nbformat_minor": 5
}
