{
 "cells": [
  {
   "cell_type": "markdown",
   "id": "fba2f078-b55f-4a19-9acc-df03965f59d6",
   "metadata": {},
   "source": [
    "# ch 16_2 Stationary, Non Stationary\n",
    "\n",
    "이전 챕터에서 시계열 데이터의 정상성과 비정상성에 대해서 배워보았습니다. 그리고 정상성을 갖춘 데이터는 시간의 흐름에 따라서 평균과 분산이 변하지 않는다고 했습니다. 이번 챕터에서는 데이터가 정상성인지 비정상성인지 테스트 할 수 있는 방법에 대해서 배우고, 비정상 데이터를 차분을 이용해서 정상 데이터로 변환해보겠습니다."
   ]
  },
  {
   "cell_type": "markdown",
   "id": "30ec1493-dd79-4613-b218-d258b91a1046",
   "metadata": {
    "tags": []
   },
   "source": [
    "## 데이터 준비"
   ]
  },
  {
   "cell_type": "code",
   "execution_count": null,
   "id": "7e2b4579-f84d-4d4c-9025-d7919106d8a0",
   "metadata": {},
   "outputs": [],
   "source": []
  },
  {
   "cell_type": "markdown",
   "id": "175bba89-79d4-4475-aeac-d5052c12a2ad",
   "metadata": {},
   "source": [
    "## Stationary Test\n",
    "\n",
    "육안으로 정상인지, 비정상인지를 판단하는 데에는 한계가 있습니다. 시계열 데이터가 stationary인지 체크하는 기법은 크게 2가지 통계적 가설 검정 기법이 사용됩니다."
   ]
  },
  {
   "cell_type": "markdown",
   "id": "432ae273-9e56-4712-99d3-08407b92319e",
   "metadata": {},
   "source": [
    "### ADF Test\n",
    "Augmented Dickey Fuller test의 약자로 시계열 데이터가 단위근(unit root) 문제를 포함하는지 여부를 확인하여 정상성을 검사합니다. 만일 통과하지 못했다면 \n",
    "\n",
    "- 귀무 가설: 시계열 데이터에 단위근이 존재하며, 비정상성을 가지고 있다. (기각해야 정상성)\n",
    "- 대립 가설: 시계열 데이터가 정상성을 가지며, 단위근이 존재하지 않는다."
   ]
  },
  {
   "cell_type": "code",
   "execution_count": null,
   "id": "ab4c9ab8-6c71-4f64-8aed-b6bed6be936a",
   "metadata": {},
   "outputs": [],
   "source": []
  },
  {
   "cell_type": "markdown",
   "id": "5fff8801-0bd0-4987-be8d-c32b329bebbf",
   "metadata": {},
   "source": [
    "### KPSS Test \n",
    "\n",
    "Kwiatkowski-Phillips-Schmidt-Shin test의 약자로  시계열 데이터의 트렌드 정상성을 검사하는 데 사용합니다.\n",
    "\n",
    "- 귀무 가설: 시계열 데이터가 정상성을 가지며, 트렌드를 가지지 않는다. (기각하지 못해야 정상성)\n",
    "- 대립 가설: 시계열 데이터가 트렌드 정상성을 가지지 않으며, 추세를 따라 움직인다."
   ]
  },
  {
   "cell_type": "code",
   "execution_count": null,
   "id": "2ec746ba-2bb9-4f89-9e9f-dfadd2dca8b3",
   "metadata": {},
   "outputs": [],
   "source": []
  },
  {
   "cell_type": "markdown",
   "id": "f4c8e018-3e9c-4525-b8bb-7d86a58e34ba",
   "metadata": {},
   "source": [
    "이를 함수로 정리해보겠습니다."
   ]
  },
  {
   "cell_type": "code",
   "execution_count": null,
   "id": "935a704f-f97f-4974-83a8-b95212d0e986",
   "metadata": {},
   "outputs": [],
   "source": []
  },
  {
   "cell_type": "markdown",
   "id": "11d8e157-1de6-49b5-b212-cba965264f69",
   "metadata": {},
   "source": [
    "### 검사 결과 정리\n",
    "\n",
    "두 검사 결과가 일치할 때는 상관없지만, 일치하지 않을 경우 취할 수 있는 대처 방법들을 정리하였습니다.\n",
    "\n",
    "|  | ADF - stationary | ADF - non-stationary |\n",
    "| --- | --- | --- |\n",
    "| KPSS - stationary | stationary | trend stationary, remove the trend |\n",
    "| KPSS - non stationary | difference stationary, use defferencing | non-stationary |"
   ]
  },
  {
   "cell_type": "markdown",
   "id": "4781d55e-d0f9-42b9-9113-b1aa60d95610",
   "metadata": {},
   "source": [
    "## 차분을 이용한 정상성 확보\n",
    "\n",
    "차분을 적용하는 것은 가장 기본적이면서도 많이 사용되는 정상성 확보 기법입니다. 특히 앞으로 배울 가장 기본적인 시계열 예측 모델인 ARIMA 모델이 사용하는 기법입니다.\n",
    "\n",
    "먼저 원본 데이터가 정상성을 확보했는지 테스트를 해봅니다. 만약 비정상성이라면 1차 차분을 적용하고 정상성이 확보되는지 확인합니다. 그래도 비정상성이라면 2차 차분을 적용합니다."
   ]
  },
  {
   "cell_type": "markdown",
   "id": "f909f75a-0057-4122-a4cc-255482dd0721",
   "metadata": {},
   "source": [
    "### 1차 차분 후 정상성 테스트\n",
    "\n",
    "1차 차분을 적용한 다음 플랏을 그려보면, 시간의 흐름에 평균은 유지되는 것 같으나 분산은 커지는 것을 확인할 수 있습니다. 즉, 여전히 비정상성 데이터라는 것을 알 수 있습니다."
   ]
  },
  {
   "cell_type": "code",
   "execution_count": null,
   "id": "894b5233-9ae1-4934-8893-2b74f3ba52f0",
   "metadata": {},
   "outputs": [],
   "source": []
  },
  {
   "cell_type": "markdown",
   "id": "105fefb3-2b2b-49bf-928a-fa121f476cf1",
   "metadata": {},
   "source": [
    "stationary test를 적용해보면 adf test는 통과하지 못하였으나, kpss test는 통과하였습니다. 이는 추가적인 차분으로 해결할 수 있습니다."
   ]
  },
  {
   "cell_type": "code",
   "execution_count": null,
   "id": "2ff67d12-02f3-40f7-a498-7b9db6c2fabb",
   "metadata": {},
   "outputs": [],
   "source": []
  },
  {
   "cell_type": "markdown",
   "id": "3f65527e-0bac-4703-b93d-4803816a7243",
   "metadata": {},
   "source": [
    "### 2차 차분 적용 후 정상성 테스트"
   ]
  },
  {
   "cell_type": "code",
   "execution_count": null,
   "id": "8d35929b-4236-4bdc-a09c-604d8a490c4f",
   "metadata": {},
   "outputs": [],
   "source": []
  },
  {
   "cell_type": "markdown",
   "id": "6478dd79-cf77-46ad-bdc4-6064b22f7a06",
   "metadata": {},
   "source": [
    "2차 차분을 적용한 다음 정상성 테스트를 하면 모두 통과하는 것을 확인할 수 있습니다. 즉, 차분의 차원을 2로 적용할 경우, 시계열 데이터의 정상성을 확보할 수 있습니다."
   ]
  },
  {
   "cell_type": "code",
   "execution_count": null,
   "id": "ddd76bbd-0172-44f7-8c7b-0053f0aec0cf",
   "metadata": {},
   "outputs": [],
   "source": []
  },
  {
   "cell_type": "markdown",
   "id": "67021679-fa2a-4906-9843-4609211f3a8b",
   "metadata": {},
   "source": [
    "## 시계열 데이터 트렌드 제거\n",
    "\n",
    "잘 사용되지는 않습니다만 시계열 데이터의 정상성을 확보하기 위해서 트렌드와 계절성을 각각 제거해주는 기법들을 사용할 수 있습니다. 가볍게 한번 알아보겠습니다.\n",
    "\n",
    "1. timeseries decompose: 시계열 분해에서 얻은 추세 성분을 뺍니다.\n",
    "2. linear regression: 시계열에서 가장 잘 맞는 선을 뺍니다. 가장 잘 맞는 선은 시간 단계를 예측자로 사용하는 선형 회귀 모델에서 얻을 수 있습니다. 더 복잡한 추세의 경우 모델에서 이차 항(x^2)을 사용할 수 있습니다.\n",
    "3. mean: 평균을 뺍니다."
   ]
  },
  {
   "cell_type": "markdown",
   "id": "314155e9-5e63-4312-954c-db421d9aa048",
   "metadata": {
    "tags": []
   },
   "source": [
    "### Timeseries Decompose\n",
    "\n",
    "시계열 데이터를 분해한 다음, 추세 성분을 빼줍니다."
   ]
  },
  {
   "cell_type": "code",
   "execution_count": null,
   "id": "19f1c3e7-38bf-4b0a-80e6-2f863a282f8e",
   "metadata": {},
   "outputs": [],
   "source": []
  },
  {
   "cell_type": "markdown",
   "id": "1f416f84-6880-4b60-8bb9-0783cee0433c",
   "metadata": {},
   "source": [
    "육안으로 보기에는 시간이 흐름에 따라서 분산이 약간 커지는 것으로 보입니다만, 정상성 테스트를 돌려보면 통과합니다."
   ]
  },
  {
   "cell_type": "code",
   "execution_count": null,
   "id": "3be13524-e15f-4859-8258-90fbc33315ff",
   "metadata": {},
   "outputs": [],
   "source": []
  },
  {
   "cell_type": "markdown",
   "id": "94b1b3ab-1367-46bd-8dcd-484f557f5166",
   "metadata": {},
   "source": [
    "### Linear Regression\n",
    "\n",
    "시계열 데이터로 linear regression을 돌려서 회귀 예측값을 빼주는 기법입니다."
   ]
  },
  {
   "cell_type": "code",
   "execution_count": null,
   "id": "e155d9d5-55ff-4e37-a7fd-1654108887e9",
   "metadata": {},
   "outputs": [],
   "source": []
  },
  {
   "cell_type": "markdown",
   "id": "2e6339ff-bd79-458f-b5cc-da9d1a4e2b2d",
   "metadata": {},
   "source": [
    "## 계절성 제거\n",
    "\n",
    "시계열 데이터에서 계절성만 따로 제거할 수 있습니다. 특히 계절 차분 기법은 SARIMA 모델에서 사용되는 기법입니다.\n",
    "\n",
    "1. Timeseries Decompose: 시계열 분해에서 얻은 계절 성분을 뺍니다.\n",
    "2. Seasonal Difference: 계절 차분이라고도 부릅니다. 현재 값에서 이전 시즌 값을 빼줍니다."
   ]
  },
  {
   "cell_type": "markdown",
   "id": "ffa70bc1-efb2-4ef9-9c22-592710165ff4",
   "metadata": {},
   "source": [
    "### timeseries decompose"
   ]
  },
  {
   "cell_type": "code",
   "execution_count": null,
   "id": "0e0dc10c-363c-456a-921d-8980371e9c2a",
   "metadata": {},
   "outputs": [],
   "source": []
  },
  {
   "cell_type": "markdown",
   "id": "0d542c70-7250-49c5-9298-dbdb4a7a5d97",
   "metadata": {
    "tags": []
   },
   "source": [
    "### Seasonal Differencing\n",
    "\n",
    "계절 차분은 계절성이 나타나는 데이터의 계절성을 제거해주기 위해서 사용합니다. 현재 관측치에서 이전 계절의 관측치를 빼줍니다. 위 예제에서는 12개월 주기로 계절성이 나타나므로, 계절 차분을 적용해보겠습니다."
   ]
  },
  {
   "cell_type": "code",
   "execution_count": null,
   "id": "a000bca2-0e86-4687-bffd-4ab0f09c1574",
   "metadata": {},
   "outputs": [],
   "source": []
  },
  {
   "cell_type": "markdown",
   "id": "a69d99c9-1157-4e33-b12d-10f43d500137",
   "metadata": {
    "jp-MarkdownHeadingCollapsed": true,
    "tags": []
   },
   "source": [
    "\n"
   ]
  },
  {
   "cell_type": "markdown",
   "id": "9a860157-3511-437d-9329-3dbd79395d72",
   "metadata": {
    "tags": []
   },
   "source": [
    "## 정리\n",
    "\n",
    "이번 챕터에서는 시계열 데이터의 정상성과 비정상성에 대해서 알아보았습니다. 그리고 분석을 진행하기 이전에 non-stationary data를 stationary 데이터로 변환해주어야 하며, 이 때 적용 가능한 기법들에 대해서 배워보았습니다. 앞으로 배울 기법들에서 주로 사용되는 기법은 차분과 계절 차분이니, 이를 중심으로 복습해주시기 바랍니다."
   ]
  }
 ],
 "metadata": {
  "kernelspec": {
   "display_name": "Python 3 (ipykernel)",
   "language": "python",
   "name": "python3"
  },
  "language_info": {
   "codemirror_mode": {
    "name": "ipython",
    "version": 3
   },
   "file_extension": ".py",
   "mimetype": "text/x-python",
   "name": "python",
   "nbconvert_exporter": "python",
   "pygments_lexer": "ipython3",
   "version": "3.10.8"
  }
 },
 "nbformat": 4,
 "nbformat_minor": 5
}
