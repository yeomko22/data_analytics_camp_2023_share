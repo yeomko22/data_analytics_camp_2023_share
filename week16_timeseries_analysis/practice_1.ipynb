{
 "cells": [
  {
   "cell_type": "markdown",
   "id": "91682bbd-fafa-42ce-a093-c5beab8f6e63",
   "metadata": {},
   "source": [
    "# Practice 1. timeseries basics\n",
    "\n",
    "데이터 셋 링크: https://www.kaggle.com/datasets/robervalt/sunspots\n",
    "\n",
    "다음은 태양의 흑점 개수를 집계한 시계열 데이터 셋입니다. 데이터 셋이 트렌드와 계절성을 띄는지 확인해보세요. 그리고 SMA와 EWMA를 계산하고, 시각화 해보세요."
   ]
  },
  {
   "cell_type": "code",
   "execution_count": 8,
   "id": "fae9f0be-b2d3-44ee-b725-5c112c8a461d",
   "metadata": {},
   "outputs": [
    {
     "data": {
      "text/html": [
       "<div>\n",
       "<style scoped>\n",
       "    .dataframe tbody tr th:only-of-type {\n",
       "        vertical-align: middle;\n",
       "    }\n",
       "\n",
       "    .dataframe tbody tr th {\n",
       "        vertical-align: top;\n",
       "    }\n",
       "\n",
       "    .dataframe thead th {\n",
       "        text-align: right;\n",
       "    }\n",
       "</style>\n",
       "<table border=\"1\" class=\"dataframe\">\n",
       "  <thead>\n",
       "    <tr style=\"text-align: right;\">\n",
       "      <th></th>\n",
       "      <th>Sunspots</th>\n",
       "    </tr>\n",
       "    <tr>\n",
       "      <th>Date</th>\n",
       "      <th></th>\n",
       "    </tr>\n",
       "  </thead>\n",
       "  <tbody>\n",
       "    <tr>\n",
       "      <th>1749-01-31</th>\n",
       "      <td>96.7</td>\n",
       "    </tr>\n",
       "    <tr>\n",
       "      <th>1749-02-28</th>\n",
       "      <td>104.3</td>\n",
       "    </tr>\n",
       "    <tr>\n",
       "      <th>1749-03-31</th>\n",
       "      <td>116.7</td>\n",
       "    </tr>\n",
       "    <tr>\n",
       "      <th>1749-04-30</th>\n",
       "      <td>92.8</td>\n",
       "    </tr>\n",
       "    <tr>\n",
       "      <th>1749-05-31</th>\n",
       "      <td>141.7</td>\n",
       "    </tr>\n",
       "    <tr>\n",
       "      <th>...</th>\n",
       "      <td>...</td>\n",
       "    </tr>\n",
       "    <tr>\n",
       "      <th>2020-09-30</th>\n",
       "      <td>0.6</td>\n",
       "    </tr>\n",
       "    <tr>\n",
       "      <th>2020-10-31</th>\n",
       "      <td>14.4</td>\n",
       "    </tr>\n",
       "    <tr>\n",
       "      <th>2020-11-30</th>\n",
       "      <td>34.0</td>\n",
       "    </tr>\n",
       "    <tr>\n",
       "      <th>2020-12-31</th>\n",
       "      <td>21.8</td>\n",
       "    </tr>\n",
       "    <tr>\n",
       "      <th>2021-01-31</th>\n",
       "      <td>10.4</td>\n",
       "    </tr>\n",
       "  </tbody>\n",
       "</table>\n",
       "<p>3265 rows × 1 columns</p>\n",
       "</div>"
      ],
      "text/plain": [
       "            Sunspots\n",
       "Date                \n",
       "1749-01-31      96.7\n",
       "1749-02-28     104.3\n",
       "1749-03-31     116.7\n",
       "1749-04-30      92.8\n",
       "1749-05-31     141.7\n",
       "...              ...\n",
       "2020-09-30       0.6\n",
       "2020-10-31      14.4\n",
       "2020-11-30      34.0\n",
       "2020-12-31      21.8\n",
       "2021-01-31      10.4\n",
       "\n",
       "[3265 rows x 1 columns]"
      ]
     },
     "execution_count": 8,
     "metadata": {},
     "output_type": "execute_result"
    }
   ],
   "source": [
    "import pandas as pd\n",
    "\n",
    "df = pd.read_csv(\"./data/Sunspots.csv\", index_col=\"Date\", parse_dates=True)\n",
    "df"
   ]
  },
  {
   "cell_type": "code",
   "execution_count": null,
   "id": "9c58d329-928e-4dd3-94e9-45f8d009c041",
   "metadata": {},
   "outputs": [],
   "source": []
  },
  {
   "cell_type": "code",
   "execution_count": 16,
   "id": "6a347eb9-b611-4731-913d-abceb2ce6e81",
   "metadata": {},
   "outputs": [],
   "source": [
    "threshold = pd.Timestamp(\"2000-01-01\")\n",
    "train_df = df[:threshold]\n",
    "test_df = df[threshold:]"
   ]
  },
  {
   "cell_type": "code",
   "execution_count": 22,
   "id": "2a49cacc-be9f-4e51-898f-d11055b54e0c",
   "metadata": {},
   "outputs": [
    {
     "name": "stdout",
     "output_type": "stream",
     "text": [
      "Performing stepwise search to minimize aic\n",
      " ARIMA(2,1,2)(0,0,0)[0] intercept   : AIC=28020.942, Time=0.92 sec\n",
      " ARIMA(0,1,0)(0,0,0)[0] intercept   : AIC=28608.894, Time=0.06 sec\n",
      " ARIMA(1,1,0)(0,0,0)[0] intercept   : AIC=28317.265, Time=0.08 sec\n",
      " ARIMA(0,1,1)(0,0,0)[0] intercept   : AIC=28140.992, Time=0.16 sec\n",
      " ARIMA(0,1,0)(0,0,0)[0]             : AIC=28606.894, Time=0.05 sec\n",
      " ARIMA(1,1,2)(0,0,0)[0] intercept   : AIC=28097.504, Time=0.40 sec\n",
      " ARIMA(2,1,1)(0,0,0)[0] intercept   : AIC=28095.983, Time=0.45 sec\n",
      " ARIMA(3,1,2)(0,0,0)[0] intercept   : AIC=28020.481, Time=1.22 sec\n",
      " ARIMA(3,1,1)(0,0,0)[0] intercept   : AIC=28093.471, Time=0.56 sec\n",
      " ARIMA(4,1,2)(0,0,0)[0] intercept   : AIC=28021.302, Time=1.25 sec\n",
      " ARIMA(3,1,3)(0,0,0)[0] intercept   : AIC=28086.494, Time=1.72 sec\n",
      " ARIMA(2,1,3)(0,0,0)[0] intercept   : AIC=28097.522, Time=1.13 sec\n",
      " ARIMA(4,1,1)(0,0,0)[0] intercept   : AIC=28095.217, Time=0.71 sec\n",
      " ARIMA(4,1,3)(0,0,0)[0] intercept   : AIC=28087.266, Time=1.52 sec\n",
      " ARIMA(3,1,2)(0,0,0)[0]             : AIC=28018.491, Time=0.70 sec\n",
      " ARIMA(2,1,2)(0,0,0)[0]             : AIC=28018.952, Time=0.53 sec\n",
      " ARIMA(3,1,1)(0,0,0)[0]             : AIC=28091.472, Time=0.45 sec\n",
      " ARIMA(4,1,2)(0,0,0)[0]             : AIC=28019.311, Time=0.89 sec\n",
      " ARIMA(3,1,3)(0,0,0)[0]             : AIC=28084.408, Time=0.92 sec\n",
      " ARIMA(2,1,1)(0,0,0)[0]             : AIC=28093.986, Time=0.15 sec\n",
      " ARIMA(2,1,3)(0,0,0)[0]             : AIC=28095.525, Time=0.62 sec\n",
      " ARIMA(4,1,1)(0,0,0)[0]             : AIC=28093.220, Time=0.50 sec\n",
      " ARIMA(4,1,3)(0,0,0)[0]             : AIC=28085.269, Time=1.07 sec\n",
      "\n",
      "Best model:  ARIMA(3,1,2)(0,0,0)[0]          \n",
      "Total fit time: 16.057 seconds\n"
     ]
    },
    {
     "data": {
      "text/html": [
       "<table class=\"simpletable\">\n",
       "<caption>SARIMAX Results</caption>\n",
       "<tr>\n",
       "  <th>Dep. Variable:</th>           <td>y</td>        <th>  No. Observations:  </th>    <td>3012</td>   \n",
       "</tr>\n",
       "<tr>\n",
       "  <th>Model:</th>           <td>SARIMAX(3, 1, 2)</td> <th>  Log Likelihood     </th> <td>-14003.245</td>\n",
       "</tr>\n",
       "<tr>\n",
       "  <th>Date:</th>            <td>Tue, 01 Aug 2023</td> <th>  AIC                </th>  <td>28018.491</td>\n",
       "</tr>\n",
       "<tr>\n",
       "  <th>Time:</th>                <td>14:59:54</td>     <th>  BIC                </th>  <td>28054.551</td>\n",
       "</tr>\n",
       "<tr>\n",
       "  <th>Sample:</th>             <td>01-31-1749</td>    <th>  HQIC               </th>  <td>28031.459</td>\n",
       "</tr>\n",
       "<tr>\n",
       "  <th></th>                   <td>- 12-31-1999</td>   <th>                     </th>      <td> </td>    \n",
       "</tr>\n",
       "<tr>\n",
       "  <th>Covariance Type:</th>        <td>opg</td>       <th>                     </th>      <td> </td>    \n",
       "</tr>\n",
       "</table>\n",
       "<table class=\"simpletable\">\n",
       "<tr>\n",
       "     <td></td>       <th>coef</th>     <th>std err</th>      <th>z</th>      <th>P>|z|</th>  <th>[0.025</th>    <th>0.975]</th>  \n",
       "</tr>\n",
       "<tr>\n",
       "  <th>ar.L1</th>  <td>    1.3406</td> <td>    0.022</td> <td>   60.242</td> <td> 0.000</td> <td>    1.297</td> <td>    1.384</td>\n",
       "</tr>\n",
       "<tr>\n",
       "  <th>ar.L2</th>  <td>   -0.3580</td> <td>    0.024</td> <td>  -15.205</td> <td> 0.000</td> <td>   -0.404</td> <td>   -0.312</td>\n",
       "</tr>\n",
       "<tr>\n",
       "  <th>ar.L3</th>  <td>   -0.0351</td> <td>    0.018</td> <td>   -1.951</td> <td> 0.051</td> <td>   -0.070</td> <td>    0.000</td>\n",
       "</tr>\n",
       "<tr>\n",
       "  <th>ma.L1</th>  <td>   -1.7821</td> <td>    0.017</td> <td> -105.071</td> <td> 0.000</td> <td>   -1.815</td> <td>   -1.749</td>\n",
       "</tr>\n",
       "<tr>\n",
       "  <th>ma.L2</th>  <td>    0.8222</td> <td>    0.017</td> <td>   47.246</td> <td> 0.000</td> <td>    0.788</td> <td>    0.856</td>\n",
       "</tr>\n",
       "<tr>\n",
       "  <th>sigma2</th> <td>  641.1866</td> <td>   10.618</td> <td>   60.388</td> <td> 0.000</td> <td>  620.376</td> <td>  661.997</td>\n",
       "</tr>\n",
       "</table>\n",
       "<table class=\"simpletable\">\n",
       "<tr>\n",
       "  <th>Ljung-Box (L1) (Q):</th>     <td>0.00</td> <th>  Jarque-Bera (JB):  </th> <td>1084.15</td>\n",
       "</tr>\n",
       "<tr>\n",
       "  <th>Prob(Q):</th>                <td>0.97</td> <th>  Prob(JB):          </th>  <td>0.00</td>  \n",
       "</tr>\n",
       "<tr>\n",
       "  <th>Heteroskedasticity (H):</th> <td>1.13</td> <th>  Skew:              </th>  <td>0.26</td>  \n",
       "</tr>\n",
       "<tr>\n",
       "  <th>Prob(H) (two-sided):</th>    <td>0.05</td> <th>  Kurtosis:          </th>  <td>5.89</td>  \n",
       "</tr>\n",
       "</table><br/><br/>Warnings:<br/>[1] Covariance matrix calculated using the outer product of gradients (complex-step)."
      ],
      "text/plain": [
       "<class 'statsmodels.iolib.summary.Summary'>\n",
       "\"\"\"\n",
       "                               SARIMAX Results                                \n",
       "==============================================================================\n",
       "Dep. Variable:                      y   No. Observations:                 3012\n",
       "Model:               SARIMAX(3, 1, 2)   Log Likelihood              -14003.245\n",
       "Date:                Tue, 01 Aug 2023   AIC                          28018.491\n",
       "Time:                        14:59:54   BIC                          28054.551\n",
       "Sample:                    01-31-1749   HQIC                         28031.459\n",
       "                         - 12-31-1999                                         \n",
       "Covariance Type:                  opg                                         \n",
       "==============================================================================\n",
       "                 coef    std err          z      P>|z|      [0.025      0.975]\n",
       "------------------------------------------------------------------------------\n",
       "ar.L1          1.3406      0.022     60.242      0.000       1.297       1.384\n",
       "ar.L2         -0.3580      0.024    -15.205      0.000      -0.404      -0.312\n",
       "ar.L3         -0.0351      0.018     -1.951      0.051      -0.070       0.000\n",
       "ma.L1         -1.7821      0.017   -105.071      0.000      -1.815      -1.749\n",
       "ma.L2          0.8222      0.017     47.246      0.000       0.788       0.856\n",
       "sigma2       641.1866     10.618     60.388      0.000     620.376     661.997\n",
       "===================================================================================\n",
       "Ljung-Box (L1) (Q):                   0.00   Jarque-Bera (JB):              1084.15\n",
       "Prob(Q):                              0.97   Prob(JB):                         0.00\n",
       "Heteroskedasticity (H):               1.13   Skew:                             0.26\n",
       "Prob(H) (two-sided):                  0.05   Kurtosis:                         5.89\n",
       "===================================================================================\n",
       "\n",
       "Warnings:\n",
       "[1] Covariance matrix calculated using the outer product of gradients (complex-step).\n",
       "\"\"\""
      ]
     },
     "execution_count": 22,
     "metadata": {},
     "output_type": "execute_result"
    }
   ],
   "source": [
    "from pmdarima.arima import auto_arima\n",
    "\n",
    "auto_arima_model = auto_arima(train_df[\"Sunspots\"], seasonal=True, trace=True)\n",
    "auto_arima_model.summary()"
   ]
  },
  {
   "cell_type": "code",
   "execution_count": 18,
   "id": "7c8eece0-998d-4256-93bf-58c3f6e8434f",
   "metadata": {},
   "outputs": [
    {
     "name": "stderr",
     "output_type": "stream",
     "text": [
      "/var/folders/wx/2vw1xwz972zdxff5h8gzrml00000gn/T/ipykernel_74129/1390291247.py:1: SettingWithCopyWarning: \n",
      "A value is trying to be set on a copy of a slice from a DataFrame.\n",
      "Try using .loc[row_indexer,col_indexer] = value instead\n",
      "\n",
      "See the caveats in the documentation: https://pandas.pydata.org/pandas-docs/stable/user_guide/indexing.html#returning-a-view-versus-a-copy\n",
      "  train_df[\"ARIMA\"] = auto_arima_model.predict_in_sample()\n",
      "/var/folders/wx/2vw1xwz972zdxff5h8gzrml00000gn/T/ipykernel_74129/1390291247.py:2: SettingWithCopyWarning: \n",
      "A value is trying to be set on a copy of a slice from a DataFrame.\n",
      "Try using .loc[row_indexer,col_indexer] = value instead\n",
      "\n",
      "See the caveats in the documentation: https://pandas.pydata.org/pandas-docs/stable/user_guide/indexing.html#returning-a-view-versus-a-copy\n",
      "  test_df[\"ARIMA\"] = auto_arima_model.predict(n_periods=len(test_df))\n"
     ]
    }
   ],
   "source": [
    "train_df[\"ARIMA\"] = auto_arima_model.predict_in_sample()\n",
    "test_df[\"ARIMA\"] = auto_arima_model.predict(n_periods=len(test_df))"
   ]
  },
  {
   "cell_type": "code",
   "execution_count": 21,
   "id": "4be15561-d015-4f04-be10-354fe4a54440",
   "metadata": {},
   "outputs": [
    {
     "data": {
      "text/plain": [
       "<Axes: xlabel='Date'>"
      ]
     },
     "execution_count": 21,
     "metadata": {},
     "output_type": "execute_result"
    },
    {
     "data": {
      "image/png": "[encoded data removed]",
      "text/plain": [
       "<Figure size 640x480 with 1 Axes>"
      ]
     },
     "metadata": {},
     "output_type": "display_data"
    }
   ],
   "source": [
    "test_df.plot()"
   ]
  },
  {
   "cell_type": "code",
   "execution_count": null,
   "id": "247ff9bd-ad89-4853-90ce-23d729b4688a",
   "metadata": {},
   "outputs": [],
   "source": []
  }
 ],
 "metadata": {
  "kernelspec": {
   "display_name": "Python 3 (ipykernel)",
   "language": "python",
   "name": "python3"
  },
  "language_info": {
   "codemirror_mode": {
    "name": "ipython",
    "version": 3
   },
   "file_extension": ".py",
   "mimetype": "text/x-python",
   "name": "python",
   "nbconvert_exporter": "python",
   "pygments_lexer": "ipython3",
   "version": "3.10.8"
  }
 },
 "nbformat": 4,
 "nbformat_minor": 5
}
