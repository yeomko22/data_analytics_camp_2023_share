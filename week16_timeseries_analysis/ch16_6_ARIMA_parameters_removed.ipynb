{
 "cells": [
  {
   "cell_type": "markdown",
   "id": "18d483d8-5032-4dca-98bc-2a1cf999be9c",
   "metadata": {},
   "source": [
    "# ch 16_6 ARIMA parameters\n",
    "\n",
    "이전 챕터에서 ARIMA 모델의 기본적인 개념을 배우고 임의의 파라미터를 설정하여 모델을 학습시켜 보았습니다. ARIMA 모델의 세 파라미터는 아래와 같습니다.\n",
    "\n",
    "- p: AR 모델이 얼마나 이전 시점까지 고려할 것인가\n",
    "- q: MA 모델이 얼마나 이전 시점까지 고려할 것인가\n",
    "- d: 차분을 얼마나 적용할 것인가\n",
    "\n",
    "이번 챕터에서는 ARIMA 모델을 학습시키기 위해서 필요한 p, d, q 파라미터를 선택하는 방법에 대해서 배워보겠습니다."
   ]
  },
  {
   "cell_type": "code",
   "execution_count": 1,
   "id": "791b4c7c-66db-4de4-ac23-740115f4d2a0",
   "metadata": {},
   "outputs": [],
   "source": [
    "import warnings\n",
    "\n",
    "warnings.filterwarnings(action='ignore')"
   ]
  },
  {
   "cell_type": "markdown",
   "id": "adb7c429-a07c-4599-815f-accb43fddbd8",
   "metadata": {},
   "source": [
    "## 데이터 셋 준비"
   ]
  },
  {
   "cell_type": "code",
   "execution_count": null,
   "id": "d7823ea6-ab19-4abb-bc2c-882baacd83e6",
   "metadata": {},
   "outputs": [],
   "source": []
  },
  {
   "cell_type": "markdown",
   "id": "96c1f0ed-68a5-497a-afc6-f813966bcab5",
   "metadata": {},
   "source": [
    "## 수작업으로 p, d, q 결정하기\n",
    "\n",
    "### 차분 파라미터 d 결정\n",
    "\n",
    "차분은 시계열 데이터를 stationary하게 만드는데 목적이 있습니다. 하지만 과도하게 차분하지 않도록 주의해야 합니다. 따라서 정상성을 확보하기 위한 최소한의 차분 정도를 결정해야 합니다. 차분 차원을 결정하는 데에는 몇가지 규칙을 적용할 수 있습니다.\n",
    "\n",
    "- 많은 lag에 대해서 양의 자기 상관을 보인다면 차분이 더 필요하다.\n",
    "- lag-1의 자기 상관이 0이거나 음수거나 크기가 작거나 패턴이 없으면 더 이상의 차분이 필요하지 않다.\n",
    "- lag-1의 자기 상관이 -0.5보다 작은 음수라면 과도하게 차분된 것이다.\n",
    "- 표준 편차가 가장 낮은 차분이 좋다.\n",
    "- 차분 차수가 없는 모델은 원래 데이터가 정상성이라고 가정한다.\n",
    "- 차분 차수가 1인 모델은 원래 데이터가 일정한 추세를 갖는다고 가정한다.\n",
    "- 차분 차수가 2인 모델은 원래 데이터가 변화하는 추세를 갖는다고 가정한다.\n",
    "- ACF 그래프가 급격하게 떨어지고, lag-1의 ACF 값이 음수이면 과도하게 차분된 것이다.\n",
    "- PACF 그래프가 급격하게 떨어지고, lag-1의 PACF 값이 양수이면 덜 차분된 것이다. \n",
    "\n",
    "위 규칙과 adf test를 이용해서 차분 차수를 정해보겠습니다."
   ]
  },
  {
   "cell_type": "code",
   "execution_count": null,
   "id": "da7cafec-515b-4dba-9074-db8d748925ac",
   "metadata": {},
   "outputs": [],
   "source": []
  },
  {
   "cell_type": "markdown",
   "id": "05ef0851-d3e6-4746-96ae-b909af5497bb",
   "metadata": {},
   "source": [
    "먼저 차분을 적용 안한 상태에서는 adf test를 통과하지 못합니다. ACF 또한 0으로 수렴하지 않아서 차분이 필요합니다. "
   ]
  },
  {
   "cell_type": "code",
   "execution_count": null,
   "id": "bf61f012-9de7-4f00-a200-d0306fb2fd70",
   "metadata": {},
   "outputs": [],
   "source": []
  },
  {
   "cell_type": "markdown",
   "id": "d98d1346-7a1b-4e13-bf42-08dd27768648",
   "metadata": {},
   "source": [
    "1차 차분 결과, adf test를 아직 통과하지 못했고 PACF 그래프의 lag-1 값이 양수입니다. 즉, 아직 덜 차분되었다고 볼 수 있습니다. 차분을 한번 더 적용해보고 결과를 비교해보겠습니다."
   ]
  },
  {
   "cell_type": "code",
   "execution_count": null,
   "id": "ea3fd814-cd65-4953-839b-f469cdb82842",
   "metadata": {},
   "outputs": [],
   "source": []
  },
  {
   "cell_type": "markdown",
   "id": "a080e792-f30f-413a-9c7a-e0182cef6c5b",
   "metadata": {},
   "source": [
    "2차 차분 결과 adf test는 통과하였습니다만 p-value가 0이어서 과도하게 차분되었을 우려가 있습니다. ACF 그래프를 보면 lag-1의 AC 값이 음수이므로 더 이상 차분할 필요성은 없습니다. 그리고 lag-1 ACF 값이 음수기 때문에 과도하게 차분되었을 우려가 있습니다. \n",
    "\n",
    "이제 1차 차분을 할지, 2차 차분을 할지 결정해야합니다. 1차 차분은 adf test를 통과하지 못하여 데이터가 비정상성이라는 단점이 있고, 2차 차분은 과도하게 차분되었을 우려가 있습니다. 차분은 최소한의 수준으로 유지하는 것이 좋으므로 1차 차분을 선택하겠습니다."
   ]
  },
  {
   "cell_type": "markdown",
   "id": "93febd71-1424-4b71-9695-ce7f683c84c8",
   "metadata": {},
   "source": [
    "### AR, MA 파라미터 p, q 결정하기\n",
    "\n",
    "AR과 MA의 파라미터 p, q를 결정하기 위해서는 차분한 데이터로 ACF, PACF 그래프를 그려보면 됩니다."
   ]
  },
  {
   "cell_type": "code",
   "execution_count": null,
   "id": "abc01335-6e39-4264-b336-19143af15527",
   "metadata": {},
   "outputs": [],
   "source": []
  },
  {
   "cell_type": "markdown",
   "id": "a9c1aca1-b267-4127-a39e-7e112deb8b4e",
   "metadata": {},
   "source": [
    "먼저 AR 모델의 파라미터 p를 결정하기 위해서는 PACF 플랏을 보면 됩니다. 유의 수준을 초과하는 lag들을 확인한 다음 적절한 p 값을 결정하면 됩니다. 여기서는 lag-2 까지 유의하다고 나왔으므로 2로 설정하겠습니다.\n",
    "\n",
    "다음으로 MA 모델의 파라미터 q를 결정하기 위해서는 ACF 플랏을 보면 됩니다. ACF 그래프가 급격하게 꺾이는 부분을 q 값으로 설정해주면 되며, 여기서는 1로 지정하겠습니다. \n",
    "\n",
    "이 외에도 ARIMA 모델의 파라미터를 결정하는데 적용할 수 있는 규칙들과 이론들이 많습니다.더 궁금하신 분들은 아래 자료를 참고해주세요  \n",
    "https://people.duke.edu/~rnau/411arim3.htm"
   ]
  },
  {
   "cell_type": "markdown",
   "id": "a90bc25a-5c92-4c54-9c91-8810739f3ba1",
   "metadata": {},
   "source": [
    "### 파라미터 지정해서 AIRMA 학습\n",
    "\n",
    "앞서 찾은 파라미터로 AIRMA 모델을 학습시키겠습니다."
   ]
  },
  {
   "cell_type": "code",
   "execution_count": null,
   "id": "7d34573e-4d3a-41ea-9b0a-f461792dce73",
   "metadata": {},
   "outputs": [],
   "source": []
  },
  {
   "cell_type": "markdown",
   "id": "deb5907a-e4ed-4ab6-92af-1a3101dc4f42",
   "metadata": {},
   "source": [
    "### 성능 측정\n",
    "\n",
    "육안으로 보더라도 test set에 대해서 ARIMA 모델이 제대로 예측값을 내려주지 못하는 모습을 볼 수 있습니다. 이는 Passengers 데이터 셋이 강한 계절성을 보여주지만, ARIMA 모델에는 계절성이 반영되지 않기 때문입니다. ARIMA 모델에 계절성을 추가한 SARIMA 모델을 선택하면 대폭 성능이 개선됩니다."
   ]
  },
  {
   "cell_type": "code",
   "execution_count": null,
   "id": "5f8087fc-d85d-4627-acff-f910cbbb563f",
   "metadata": {},
   "outputs": [],
   "source": []
  },
  {
   "cell_type": "markdown",
   "id": "d3b9b773-6b3c-4dea-8cdc-8cc2e497dcbd",
   "metadata": {},
   "source": [
    "## 자동으로 ARIMA 모델 파라미터 결정하기\n",
    "\n",
    "직접 ACF와 PACF를 그려서 파라미터를 결정할 수도 있지만, 이를 자동화 해놓은 라이브러리를 사용하면 알아서 파라미터를 결정해서 AIRMA 모델을 학습시켜줍니다."
   ]
  },
  {
   "cell_type": "code",
   "execution_count": 106,
   "id": "257feb69-afb9-4e01-87f4-993a760741b1",
   "metadata": {},
   "outputs": [
    {
     "name": "stdout",
     "output_type": "stream",
     "text": [
      "Requirement already satisfied: pmdarima in /Users/user/miniconda3/lib/python3.10/site-packages (2.0.3)\n",
      "Requirement already satisfied: joblib>=0.11 in /Users/user/miniconda3/lib/python3.10/site-packages (from pmdarima) (1.2.0)\n",
      "Requirement already satisfied: Cython!=0.29.18,!=0.29.31,>=0.29 in /Users/user/miniconda3/lib/python3.10/site-packages (from pmdarima) (3.0.0)\n",
      "Requirement already satisfied: numpy>=1.21.2 in /Users/user/miniconda3/lib/python3.10/site-packages (from pmdarima) (1.25.0)\n",
      "Requirement already satisfied: pandas>=0.19 in /Users/user/miniconda3/lib/python3.10/site-packages (from pmdarima) (1.5.1)\n",
      "Requirement already satisfied: scikit-learn>=0.22 in /Users/user/miniconda3/lib/python3.10/site-packages (from pmdarima) (1.2.0)\n",
      "Requirement already satisfied: scipy>=1.3.2 in /Users/user/miniconda3/lib/python3.10/site-packages (from pmdarima) (1.9.3)\n",
      "Requirement already satisfied: statsmodels>=0.13.2 in /Users/user/miniconda3/lib/python3.10/site-packages (from pmdarima) (0.13.5)\n",
      "Requirement already satisfied: urllib3 in /Users/user/miniconda3/lib/python3.10/site-packages (from pmdarima) (1.26.13)\n",
      "Requirement already satisfied: setuptools!=50.0.0,>=38.6.0 in /Users/user/miniconda3/lib/python3.10/site-packages (from pmdarima) (67.7.2)\n",
      "Requirement already satisfied: python-dateutil>=2.8.1 in /Users/user/miniconda3/lib/python3.10/site-packages (from pandas>=0.19->pmdarima) (2.8.2)\n",
      "Requirement already satisfied: pytz>=2020.1 in /Users/user/miniconda3/lib/python3.10/site-packages (from pandas>=0.19->pmdarima) (2022.7)\n",
      "Requirement already satisfied: threadpoolctl>=2.0.0 in /Users/user/miniconda3/lib/python3.10/site-packages (from scikit-learn>=0.22->pmdarima) (3.1.0)\n",
      "Requirement already satisfied: patsy>=0.5.2 in /Users/user/miniconda3/lib/python3.10/site-packages (from statsmodels>=0.13.2->pmdarima) (0.5.3)\n",
      "Requirement already satisfied: packaging>=21.3 in /Users/user/miniconda3/lib/python3.10/site-packages (from statsmodels>=0.13.2->pmdarima) (22.0)\n",
      "Requirement already satisfied: six in /Users/user/miniconda3/lib/python3.10/site-packages (from patsy>=0.5.2->statsmodels>=0.13.2->pmdarima) (1.16.0)\n",
      "\n",
      "\u001b[1m[\u001b[0m\u001b[34;49mnotice\u001b[0m\u001b[1;39;49m]\u001b[0m\u001b[39;49m A new release of pip is available: \u001b[0m\u001b[31;49m23.1.2\u001b[0m\u001b[39;49m -> \u001b[0m\u001b[32;49m23.2.1\u001b[0m\n",
      "\u001b[1m[\u001b[0m\u001b[34;49mnotice\u001b[0m\u001b[1;39;49m]\u001b[0m\u001b[39;49m To update, run: \u001b[0m\u001b[32;49mpip install --upgrade pip\u001b[0m\n"
     ]
    }
   ],
   "source": [
    "!pip install pmdarima"
   ]
  },
  {
   "cell_type": "markdown",
   "id": "b1217ac8-12d1-43c7-9172-e216203cd01b",
   "metadata": {},
   "source": [
    "auto arima는 ACF, PACF를 보고 결정하는 휴리스틱 로직에 더해, 각 파라미터 조합으로 모델을 학습시키고 AIC를 측정하여 최적의 파라미터 조합을 결정하는 grid search가 추가되었습니다."
   ]
  },
  {
   "cell_type": "code",
   "execution_count": null,
   "id": "c44d5ffc-6ba0-4f7e-9be6-44a10c1fb275",
   "metadata": {},
   "outputs": [],
   "source": []
  },
  {
   "cell_type": "markdown",
   "id": "44b5b1c1-de56-47b0-a094-cea56e96bf19",
   "metadata": {},
   "source": [
    "auto arima를 통해서 찾은 파라미터는 (2, 1, 2) 입니다. 이를 이용해 예측값을 구한 다음, 성능을 비교해보겠습니다."
   ]
  },
  {
   "cell_type": "code",
   "execution_count": null,
   "id": "586f8615-766f-423d-a7ee-10caf384eaa8",
   "metadata": {},
   "outputs": [],
   "source": []
  },
  {
   "cell_type": "markdown",
   "id": "6d891c8e-6887-4356-9afb-09c3f59cd5c9",
   "metadata": {},
   "source": [
    "## 정리\n",
    "\n",
    "이번 챕터에서는 대표적인 시계열 예측 모델인 ARIMA에 대해서 배웠습니다. ARIMA를 구성하는 기본 요소들과 파라미터의 의미에 대해서 알아보았습니다. 이어지는 챕터에서는 계절성을 띄는 데이터에 적용할 수 있는 ARIMA 모델의 변형인 SARIMA에 대해서 배워보겠습니다."
   ]
  }
 ],
 "metadata": {
  "kernelspec": {
   "display_name": "Python 3 (ipykernel)",
   "language": "python",
   "name": "python3"
  },
  "language_info": {
   "codemirror_mode": {
    "name": "ipython",
    "version": 3
   },
   "file_extension": ".py",
   "mimetype": "text/x-python",
   "name": "python",
   "nbconvert_exporter": "python",
   "pygments_lexer": "ipython3",
   "version": "3.10.8"
  }
 },
 "nbformat": 4,
 "nbformat_minor": 5
}
