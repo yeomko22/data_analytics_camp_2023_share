{
 "cells": [
  {
   "cell_type": "markdown",
   "id": "68e5905f-c604-4bd2-b80e-2dc53328cb8b",
   "metadata": {},
   "source": [
    "# ch 16_7 SARIMA\n",
    "\n",
    "이번 챕터에서는 ARIMA 모델이 계절성을 반영할 수 있도록 보완한 Seasonal ARIMA에 대해서 배워보겠습니다."
   ]
  },
  {
   "cell_type": "code",
   "execution_count": 1,
   "id": "1fecf03a-62bc-4a47-8eb4-61930dcd07ba",
   "metadata": {},
   "outputs": [],
   "source": [
    "import warnings\n",
    "\n",
    "warnings.filterwarnings(action='ignore')"
   ]
  },
  {
   "cell_type": "markdown",
   "id": "7ada010e-8b25-4715-bc95-3e992498f6c9",
   "metadata": {},
   "source": [
    "## 데이터 셋 준비"
   ]
  },
  {
   "cell_type": "code",
   "execution_count": null,
   "id": "117825d0-839c-44f5-9e4d-fa68d877f755",
   "metadata": {},
   "outputs": [],
   "source": []
  },
  {
   "cell_type": "markdown",
   "id": "35f6203c-a76b-4efb-9b8d-4f5d96959099",
   "metadata": {
    "tags": []
   },
   "source": [
    "### 계절성 확인\n",
    "\n",
    "seasonal_decompose를 이용해서 데이터 셋의 계절성을 먼저 확인해보겠습니다."
   ]
  },
  {
   "cell_type": "code",
   "execution_count": null,
   "id": "33fff24e-dbb2-44ac-95cd-98f36f82fcc1",
   "metadata": {},
   "outputs": [],
   "source": []
  },
  {
   "cell_type": "markdown",
   "id": "d3868058-7fa9-4e03-89e0-5dee82709394",
   "metadata": {},
   "source": [
    "seasonal만 따로 plot을 그려보면 12 개월 단위로 주기성을 띄는 것을 알 수 있습니다. "
   ]
  },
  {
   "cell_type": "code",
   "execution_count": null,
   "id": "39a4c0e0-2245-40aa-81fe-5f298bce52c7",
   "metadata": {},
   "outputs": [],
   "source": []
  },
  {
   "cell_type": "markdown",
   "id": "c70828f9-3b6c-4099-bcf8-83462ea94940",
   "metadata": {},
   "source": [
    "## SARIMA\n",
    "\n",
    "데이터가 계절성을 띈다면 ARIMA 처럼 단순 차분을 적용하는 것이 적합하지 않을 수 있습니다. 이런 경우, 계절 차분을 사용하는 Seasonal ARIMA 모델을 사용할 수 있습니다."
   ]
  },
  {
   "cell_type": "markdown",
   "id": "c5860488-cf6d-4114-a448-8166b423c004",
   "metadata": {},
   "source": [
    "### Seasonal Difference\n",
    "\n",
    "바로 이전 시점의 값을 빼주는 차분과 달리 계절 차분은 이전 계절의 값을 빼주면 됩니다. 탑승객 데이터의 계절성은 12개월이라고 가정하고, 단순 차분과 계절 차분을 비교해보겠습니다."
   ]
  },
  {
   "cell_type": "code",
   "execution_count": null,
   "id": "1298da71-44f4-42c6-b096-65f1caf2dc7b",
   "metadata": {},
   "outputs": [],
   "source": []
  },
  {
   "cell_type": "markdown",
   "id": "ccb56394-f82a-4ca2-8068-47405f0f6122",
   "metadata": {},
   "source": [
    "단순 차분을 할 경우, 계절성이 유지되는 모습을 확인할 수 있습니다. 반면에 계절 차분을 적용할 경우, 계절성이 제거된 것을 확인할 수 있습니다."
   ]
  },
  {
   "cell_type": "code",
   "execution_count": null,
   "id": "0cf585ca-5327-42ae-ae79-a62368aee92b",
   "metadata": {},
   "outputs": [],
   "source": []
  },
  {
   "cell_type": "markdown",
   "id": "2bb873c9-7299-48e2-8fdc-1e5df3852953",
   "metadata": {},
   "source": [
    "### SARIMA\n",
    "\n",
    "SARIMA 모델은 계절 차분을 사용하는 ARIMA 모델입니다. SARIMA는 ARIMA의 p, d, q 세 파라미터에 더해 P, D, Q 파라미터가 추가됩니다. 이는 각각 계절성을 반영한 P,  D, Q를 의미합니다.\n",
    "\n",
    "auto_arima를 이용해서 AIRMA와 SARIMA 모델을 학습시켜보고, 결과를 비교해보겠습니다. 계절성의 주기는 12로 설정해보겠습니다."
   ]
  },
  {
   "cell_type": "code",
   "execution_count": null,
   "id": "e33b53d0-7083-413c-9542-858db60d7820",
   "metadata": {},
   "outputs": [],
   "source": []
  },
  {
   "cell_type": "markdown",
   "id": "8b2fface-3fbd-4280-a0a6-0f7379270260",
   "metadata": {},
   "source": [
    "결국 auto_arima를 통해서 파라미터를 찾아서 학습시키는 모델은 statsmodels에 내장된 SARIMAX 모델입니다. SARIMAX 모델에 파라미터를 조절해서 계절성을 고려하지 않으면 ARIMA 모델이 학습되고, 계절성을 고려하면 SARIMA 모델이 학습됩니다. 외생 변수를 추가적으로 고려한 SARIMAX 모델은 다음 챕터에서 살펴보겠습니다."
   ]
  },
  {
   "cell_type": "markdown",
   "id": "d7f9ca06-580b-4f02-b8ca-390c1b1508c9",
   "metadata": {},
   "source": [
    "### Inference\n",
    " \n",
    "학습시킨 ARIMA, SARIMA 모델의 정확도를 비교하기 위해서 각각 예측값을 내려보겠습니다."
   ]
  },
  {
   "cell_type": "code",
   "execution_count": null,
   "id": "2f2b0c3c-42fa-419b-a4ed-436f3b39ab20",
   "metadata": {},
   "outputs": [],
   "source": []
  },
  {
   "cell_type": "markdown",
   "id": "75373c51-9ca2-48d6-bca3-42e48bacc680",
   "metadata": {},
   "source": [
    "### Visualize\n",
    "\n",
    "예측 값이 실제 값과 얼마나 차이가 나는지 시각화 해보겠습니다."
   ]
  },
  {
   "cell_type": "code",
   "execution_count": null,
   "id": "ae0d7456-3136-4eef-bcdd-8f1cbe0b50cf",
   "metadata": {},
   "outputs": [],
   "source": []
  },
  {
   "cell_type": "markdown",
   "id": "58079360-299f-474a-b3c4-8723d75797b8",
   "metadata": {},
   "source": [
    "육안으로 보기에도 SARIMA 모델이 ARIMA 모델보다 더 정확도가 높은 것을 알 수 있습니다."
   ]
  },
  {
   "cell_type": "markdown",
   "id": "45ebe5d5-856b-4029-8c98-00b46302fce6",
   "metadata": {},
   "source": [
    "### Metric 측정\n",
    "\n",
    "정량적으로 어느 모델이 더 정확한지 메트릭을 측정해보겠습니다."
   ]
  },
  {
   "cell_type": "code",
   "execution_count": null,
   "id": "915cf944-b200-4eec-9829-7f671ad21597",
   "metadata": {},
   "outputs": [],
   "source": []
  },
  {
   "cell_type": "markdown",
   "id": "b250a2a4-d259-4bf4-9ab6-c1066a08ead6",
   "metadata": {},
   "source": [
    "## 정리\n",
    "\n",
    "이번 챕터에서는 ARIMA 모델에 계절성을 반영한 SARIMA 모델을 배워봤습니다. 계절성을 뚜렷하게 보여주는 Passengers 데이터에 적용해보니 명확한 성능 개선 효과를 보여주었습니다."
   ]
  }
 ],
 "metadata": {
  "kernelspec": {
   "display_name": "Python 3 (ipykernel)",
   "language": "python",
   "name": "python3"
  },
  "language_info": {
   "codemirror_mode": {
    "name": "ipython",
    "version": 3
   },
   "file_extension": ".py",
   "mimetype": "text/x-python",
   "name": "python",
   "nbconvert_exporter": "python",
   "pygments_lexer": "ipython3",
   "version": "3.10.8"
  }
 },
 "nbformat": 4,
 "nbformat_minor": 5
}
