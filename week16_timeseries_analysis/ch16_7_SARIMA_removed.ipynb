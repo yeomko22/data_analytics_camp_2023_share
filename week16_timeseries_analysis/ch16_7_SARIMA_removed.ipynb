{
 "cells": [
  {
   "cell_type": "markdown",
   "id": "68e5905f-c604-4bd2-b80e-2dc53328cb8b",
   "metadata": {},
   "source": [
    "# ch 16_7 SARIMA\n",
    "\n",
    "이번 챕터에서는 ARIMA 모델이 계절성을 반영할 수 있도록 보완한 Seasonal ARIMA에 대해서 배워보겠습니다."
   ]
  },
  {
   "cell_type": "code",
   "execution_count": 1,
   "id": "1fecf03a-62bc-4a47-8eb4-61930dcd07ba",
   "metadata": {},
   "outputs": [],
   "source": [
    "import warnings\n",
    "\n",
    "warnings.filterwarnings(action='ignore')"
   ]
  },
  {
   "cell_type": "markdown",
   "id": "7ada010e-8b25-4715-bc95-3e992498f6c9",
   "metadata": {},
   "source": [
    "## 데이터 셋 준비"
   ]
  },
  {
   "cell_type": "code",
   "execution_count": null,
   "id": "9df190ca-0ba6-4b33-a215-1b65de3e25ec",
   "metadata": {},
   "outputs": [],
   "source": []
  },
  {
   "cell_type": "markdown",
   "id": "35f6203c-a76b-4efb-9b8d-4f5d96959099",
   "metadata": {
    "tags": []
   },
   "source": [
    "### 계절성 확인\n",
    "\n",
    "plot_acf를 이용해서 데이터의 계절성을 확인해보겠습니다. 12개월 주기로 spike가 발생하므로, 계절성의 주기가 12임을 알 수 있습니다."
   ]
  },
  {
   "cell_type": "code",
   "execution_count": null,
   "id": "86e3d2a3-1ac0-4672-8b5d-4391c4c7d6d3",
   "metadata": {},
   "outputs": [],
   "source": []
  },
  {
   "cell_type": "markdown",
   "id": "c5860488-cf6d-4114-a448-8166b423c004",
   "metadata": {},
   "source": [
    "### Seasonal Difference\n",
    "\n",
    "데이터가 계절성을 띈다면 ARIMA 처럼 단순 차분을 적용하는 것이 적합하지 않을 수 있습니다. 이런 경우, 계절 차분을 사용하는 Seasonal ARIMA 모델을 사용할 수 있습니다. \n",
    "\n",
    "바로 이전 시점의 값을 빼주는 차분과 달리 계절 차분은 이전 계절의 값을 빼주면 됩니다. 탑승객 데이터의 계절성은 12개월이라고 가정하고, 단순 차분과 계절 차분을 비교해보겠습니다."
   ]
  },
  {
   "cell_type": "code",
   "execution_count": null,
   "id": "f594d3a9-e6f7-4942-9175-3103a0b8c8c6",
   "metadata": {},
   "outputs": [],
   "source": []
  },
  {
   "cell_type": "markdown",
   "id": "ccb56394-f82a-4ca2-8068-47405f0f6122",
   "metadata": {},
   "source": [
    "단순 차분을 할 경우, 계절성이 유지되는 모습을 확인할 수 있습니다. 반면에 계절 차분을 적용할 경우, 계절성이 제거된 것을 확인할 수 있습니다."
   ]
  },
  {
   "cell_type": "code",
   "execution_count": null,
   "id": "a46e4456-c24b-48bb-a5f0-d4b6eb97069f",
   "metadata": {},
   "outputs": [],
   "source": []
  },
  {
   "cell_type": "markdown",
   "id": "9843798a-f5e8-4bea-b376-a96fb2168a72",
   "metadata": {
    "tags": []
   },
   "source": [
    "### ARIMA 모델 학습\n",
    "\n",
    "비교를 위해서 auto_arima를 이용하여 ARIMA 모델을 학습시키겠습니다."
   ]
  },
  {
   "cell_type": "code",
   "execution_count": null,
   "id": "9d1abbe7-4598-4450-bdb0-961e6284ad96",
   "metadata": {},
   "outputs": [],
   "source": []
  },
  {
   "cell_type": "markdown",
   "id": "145d112a-b967-4635-aa78-78ed29656a96",
   "metadata": {},
   "source": [
    "## SARIMA 모델 학습"
   ]
  },
  {
   "cell_type": "markdown",
   "id": "2bb873c9-7299-48e2-8fdc-1e5df3852953",
   "metadata": {},
   "source": [
    "### 수작업으로 SARIMA 모델 파라미터 찾기\n",
    "\n",
    "SARIMA 모델은 계절 차분을 사용하는 ARIMA 모델입니다. SARIMA는 ARIMA의 p, d, q 세 파라미터에 더해 P, D, Q 파라미터가 추가됩니다. 이는 각각 계절성을 반영한 P,  D, Q를 의미합니다.\n",
    "\n",
    "- P: 계절 차분을 적용한 데이터의 PACF 플랏에서 가장 높은 유의한 지연으로 설정합니다. 예제에서는 1을 사용합니다.\n",
    "- D: 데이터가 계절성을 보이지 않으면 0으로 설정합니다. 분명한 계절성을 보이면 1로 설정합니다.\n",
    "- Q: 계절 차분을 적용한 데이터의 ACF 플랏에서 유의한 지연수로 설정합니다."
   ]
  },
  {
   "cell_type": "code",
   "execution_count": null,
   "id": "cf4e0a5c-3435-41e2-b8cc-f65174e68deb",
   "metadata": {},
   "outputs": [],
   "source": []
  },
  {
   "cell_type": "markdown",
   "id": "2b791dd1-8724-4fa0-80d3-b2b5f39a460d",
   "metadata": {},
   "source": [
    "SARIMA 모델 파라미터 중 p, d, q는 (2, 1, 1)로 설정하겠습니다."
   ]
  },
  {
   "cell_type": "code",
   "execution_count": null,
   "id": "ce78a791-59bb-4eb3-aa74-40dcadfee356",
   "metadata": {},
   "outputs": [],
   "source": []
  },
  {
   "cell_type": "markdown",
   "id": "d253c615-a2a8-4630-8135-a63dec1233fb",
   "metadata": {},
   "source": [
    "SARIMA 모델의 파라미터 중 P, D, Q, m은 (1, 1, 4, 12)로 설정하겠습니다."
   ]
  },
  {
   "cell_type": "code",
   "execution_count": null,
   "id": "74c21f7e-74e8-4d9c-bc0f-84933b92adb5",
   "metadata": {},
   "outputs": [],
   "source": []
  },
  {
   "cell_type": "markdown",
   "id": "ec5ad29c-ae0b-4ab5-89ad-04d1b7c2a6c6",
   "metadata": {},
   "source": [
    "### 자동으로 SARIMA 모델 파라미터 찾기\n",
    "\n",
    "auto_arima를 이용해서 AIRMA와 SARIMA 모델을 학습시켜보고, 결과를 비교해보겠습니다. auto_arima를 이용해서 SARIMA 모델의 파라미터를 찾고자 할 때 주의할 점이 있습니다. \n",
    "- seasonal: True로 설정하기\n",
    "- m: 계절 차분에 적용할 값으로 앞서 찾은 주기 값 12\n",
    "- D: 계절성 차분으로 데이터가 분명한 계절성을 보인다면 1로 설정할 것"
   ]
  },
  {
   "cell_type": "code",
   "execution_count": null,
   "id": "447fcc5c-9d95-4e2d-bb73-47d91df8d970",
   "metadata": {},
   "outputs": [],
   "source": []
  },
  {
   "cell_type": "markdown",
   "id": "d7f9ca06-580b-4f02-b8ca-390c1b1508c9",
   "metadata": {},
   "source": [
    "### Inference\n",
    " \n",
    "학습시킨 ARIMA, SARIMA 모델의 정확도를 비교하기 위해서 각각 예측값을 내려보겠습니다."
   ]
  },
  {
   "cell_type": "code",
   "execution_count": null,
   "id": "8a7f1c02-2d2d-4640-9034-8064c2abbfb6",
   "metadata": {},
   "outputs": [],
   "source": []
  },
  {
   "cell_type": "markdown",
   "id": "75373c51-9ca2-48d6-bca3-42e48bacc680",
   "metadata": {},
   "source": [
    "### Visualize\n",
    "\n",
    "예측 값이 실제 값과 얼마나 차이가 나는지 시각화 해보겠습니다."
   ]
  },
  {
   "cell_type": "code",
   "execution_count": null,
   "id": "eac5e026-6815-4744-af36-f5924606e3c0",
   "metadata": {},
   "outputs": [],
   "source": []
  },
  {
   "cell_type": "markdown",
   "id": "58079360-299f-474a-b3c4-8723d75797b8",
   "metadata": {},
   "source": [
    "육안으로 보기에도 SARIMA 모델이 ARIMA 모델보다 더 정확도가 높은 것을 알 수 있습니다."
   ]
  },
  {
   "cell_type": "markdown",
   "id": "45ebe5d5-856b-4029-8c98-00b46302fce6",
   "metadata": {},
   "source": [
    "### Metric 측정\n",
    "\n",
    "정량적으로 어느 모델이 더 정확한지 메트릭을 측정해보겠습니다. 일반 ARIMA 모델 보다는 SARIMA 모델이 확실히 성능이 좋고, 수작업으로 파라미터를 결정한 모델이 성능이 근소하게 뛰어납니다."
   ]
  },
  {
   "cell_type": "code",
   "execution_count": null,
   "id": "661d32df-ef58-4f9a-b666-1441ccef3b9c",
   "metadata": {},
   "outputs": [],
   "source": []
  },
  {
   "cell_type": "markdown",
   "id": "b250a2a4-d259-4bf4-9ab6-c1066a08ead6",
   "metadata": {},
   "source": [
    "## 정리\n",
    "\n",
    "이번 챕터에서는 ARIMA 모델에 계절성을 반영한 SARIMA 모델을 배워봤습니다. 계절성을 뚜렷하게 보여주는 Passengers 데이터에 적용해보니 명확한 성능 개선 효과를 보여주었습니다."
   ]
  },
  {
   "cell_type": "code",
   "execution_count": null,
   "id": "39ff616e-77ff-4f45-b2d4-b8c9525389ee",
   "metadata": {},
   "outputs": [],
   "source": []
  }
 ],
 "metadata": {
  "kernelspec": {
   "display_name": "Python 3 (ipykernel)",
   "language": "python",
   "name": "python3"
  },
  "language_info": {
   "codemirror_mode": {
    "name": "ipython",
    "version": 3
   },
   "file_extension": ".py",
   "mimetype": "text/x-python",
   "name": "python",
   "nbconvert_exporter": "python",
   "pygments_lexer": "ipython3",
   "version": "3.10.8"
  }
 },
 "nbformat": 4,
 "nbformat_minor": 5
}
