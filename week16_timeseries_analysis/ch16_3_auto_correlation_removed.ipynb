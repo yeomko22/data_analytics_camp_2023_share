{
 "cells": [
  {
   "cell_type": "markdown",
   "id": "33693a78-3c2b-4a23-9a45-6f101cbec4ef",
   "metadata": {},
   "source": [
    "# ch 16_3 autocorrelation\n",
    "\n",
    "이번 챕터에서는 시계열 예측 모델에서 중요한 개념 중에 하나인 자기 상관(auto correlation)에 대해서 알아보겠습니다. 자기 상관이란 현재 시점의 값이 이전 시점의 값과 얼만큼 상관관계가 있는 지를 측정한 지표입니다. 이는 ACF, PACF 두 가지 형태의 지표로 측정할 수 있으며, 각각의 개념을 데이터와 함께 알아보겠습니다."
   ]
  },
  {
   "cell_type": "markdown",
   "id": "fbd951ee-64a0-428d-bae6-d916e36586ae",
   "metadata": {},
   "source": [
    "## 데이터 준비"
   ]
  },
  {
   "cell_type": "code",
   "execution_count": 2,
   "id": "aa9d1d64-467b-4927-ad47-361d520af93f",
   "metadata": {},
   "outputs": [
    {
     "data": {
      "text/html": [
       "<div>\n",
       "<style scoped>\n",
       "    .dataframe tbody tr th:only-of-type {\n",
       "        vertical-align: middle;\n",
       "    }\n",
       "\n",
       "    .dataframe tbody tr th {\n",
       "        vertical-align: top;\n",
       "    }\n",
       "\n",
       "    .dataframe thead th {\n",
       "        text-align: right;\n",
       "    }\n",
       "</style>\n",
       "<table border=\"1\" class=\"dataframe\">\n",
       "  <thead>\n",
       "    <tr style=\"text-align: right;\">\n",
       "      <th></th>\n",
       "      <th>Passengers</th>\n",
       "    </tr>\n",
       "    <tr>\n",
       "      <th>Month</th>\n",
       "      <th></th>\n",
       "    </tr>\n",
       "  </thead>\n",
       "  <tbody>\n",
       "    <tr>\n",
       "      <th>1949-01-01</th>\n",
       "      <td>112</td>\n",
       "    </tr>\n",
       "    <tr>\n",
       "      <th>1949-02-01</th>\n",
       "      <td>118</td>\n",
       "    </tr>\n",
       "    <tr>\n",
       "      <th>1949-03-01</th>\n",
       "      <td>132</td>\n",
       "    </tr>\n",
       "    <tr>\n",
       "      <th>1949-04-01</th>\n",
       "      <td>129</td>\n",
       "    </tr>\n",
       "    <tr>\n",
       "      <th>1949-05-01</th>\n",
       "      <td>121</td>\n",
       "    </tr>\n",
       "    <tr>\n",
       "      <th>...</th>\n",
       "      <td>...</td>\n",
       "    </tr>\n",
       "    <tr>\n",
       "      <th>1960-08-01</th>\n",
       "      <td>606</td>\n",
       "    </tr>\n",
       "    <tr>\n",
       "      <th>1960-09-01</th>\n",
       "      <td>508</td>\n",
       "    </tr>\n",
       "    <tr>\n",
       "      <th>1960-10-01</th>\n",
       "      <td>461</td>\n",
       "    </tr>\n",
       "    <tr>\n",
       "      <th>1960-11-01</th>\n",
       "      <td>390</td>\n",
       "    </tr>\n",
       "    <tr>\n",
       "      <th>1960-12-01</th>\n",
       "      <td>432</td>\n",
       "    </tr>\n",
       "  </tbody>\n",
       "</table>\n",
       "<p>144 rows × 1 columns</p>\n",
       "</div>"
      ],
      "text/plain": [
       "            Passengers\n",
       "Month                 \n",
       "1949-01-01         112\n",
       "1949-02-01         118\n",
       "1949-03-01         132\n",
       "1949-04-01         129\n",
       "1949-05-01         121\n",
       "...                ...\n",
       "1960-08-01         606\n",
       "1960-09-01         508\n",
       "1960-10-01         461\n",
       "1960-11-01         390\n",
       "1960-12-01         432\n",
       "\n",
       "[144 rows x 1 columns]"
      ]
     },
     "execution_count": 2,
     "metadata": {},
     "output_type": "execute_result"
    }
   ],
   "source": [
    "import pandas as pd\n",
    "\n",
    "df = pd.read_csv(\"./data/AirPassengers.csv\", index_col=\"Month\", parse_dates=True)\n",
    "df"
   ]
  },
  {
   "cell_type": "code",
   "execution_count": 4,
   "id": "6550ff0b-f1be-42fe-b713-e50100ed760b",
   "metadata": {},
   "outputs": [
    {
     "data": {
      "text/plain": [
       "<Axes: xlabel='Month'>"
      ]
     },
     "execution_count": 4,
     "metadata": {},
     "output_type": "execute_result"
    },
    {
     "data": {
      "image/png": "[encoded data removed]",
      "text/plain": [
       "<Figure size 800x200 with 1 Axes>"
      ]
     },
     "metadata": {},
     "output_type": "display_data"
    }
   ],
   "source": [
    "df[\"Passengers\"].plot(figsize=(8, 2))"
   ]
  },
  {
   "cell_type": "markdown",
   "id": "b6d0bc82-90b9-42b5-bb62-3fe89a6d67ce",
   "metadata": {},
   "source": [
    "## Autocorrelation과 ACF\n",
    "\n",
    "### Autocorrelation\n",
    "\n",
    "자기 상관이란 현재 시점의 값과 특정한 시차(lag)를 가진 값 간의 상관관계입니다. 이 때 유의미한 자기 상관을 갖는다는 것은 이전 시점의 값이 현재 시점의 값을 예측하는데 도움이 된다는 의미입니다.\n",
    "\n",
    "auto correlation의 측정은 현재 시점의 값과 특정 시차 이전 값 간의 pearson correlation을 측정하면 됩니다."
   ]
  },
  {
   "cell_type": "code",
   "execution_count": 5,
   "id": "c55c7a6f-63ae-41ba-ad3c-abf4472a9b32",
   "metadata": {},
   "outputs": [],
   "source": [
    "df[\"lag1\"] = df[\"Passengers\"].shift(1)\n",
    "df[\"lag2\"] = df[\"Passengers\"].shift(2)\n",
    "df[\"lag3\"] = df[\"Passengers\"].shift(3)\n",
    "df[\"lag4\"] = df[\"Passengers\"].shift(4)\n",
    "df[\"lag5\"] = df[\"Passengers\"].shift(5)"
   ]
  },
  {
   "cell_type": "code",
   "execution_count": 6,
   "id": "9da983ed-c5f6-4529-b2e4-66b40c666b9b",
   "metadata": {},
   "outputs": [
    {
     "data": {
      "text/html": [
       "<div>\n",
       "<style scoped>\n",
       "    .dataframe tbody tr th:only-of-type {\n",
       "        vertical-align: middle;\n",
       "    }\n",
       "\n",
       "    .dataframe tbody tr th {\n",
       "        vertical-align: top;\n",
       "    }\n",
       "\n",
       "    .dataframe thead th {\n",
       "        text-align: right;\n",
       "    }\n",
       "</style>\n",
       "<table border=\"1\" class=\"dataframe\">\n",
       "  <thead>\n",
       "    <tr style=\"text-align: right;\">\n",
       "      <th></th>\n",
       "      <th>Passengers</th>\n",
       "      <th>lag1</th>\n",
       "      <th>lag2</th>\n",
       "      <th>lag3</th>\n",
       "      <th>lag4</th>\n",
       "      <th>lag5</th>\n",
       "    </tr>\n",
       "    <tr>\n",
       "      <th>Month</th>\n",
       "      <th></th>\n",
       "      <th></th>\n",
       "      <th></th>\n",
       "      <th></th>\n",
       "      <th></th>\n",
       "      <th></th>\n",
       "    </tr>\n",
       "  </thead>\n",
       "  <tbody>\n",
       "    <tr>\n",
       "      <th>1949-01-01</th>\n",
       "      <td>112</td>\n",
       "      <td>NaN</td>\n",
       "      <td>NaN</td>\n",
       "      <td>NaN</td>\n",
       "      <td>NaN</td>\n",
       "      <td>NaN</td>\n",
       "    </tr>\n",
       "    <tr>\n",
       "      <th>1949-02-01</th>\n",
       "      <td>118</td>\n",
       "      <td>112.0</td>\n",
       "      <td>NaN</td>\n",
       "      <td>NaN</td>\n",
       "      <td>NaN</td>\n",
       "      <td>NaN</td>\n",
       "    </tr>\n",
       "    <tr>\n",
       "      <th>1949-03-01</th>\n",
       "      <td>132</td>\n",
       "      <td>118.0</td>\n",
       "      <td>112.0</td>\n",
       "      <td>NaN</td>\n",
       "      <td>NaN</td>\n",
       "      <td>NaN</td>\n",
       "    </tr>\n",
       "    <tr>\n",
       "      <th>1949-04-01</th>\n",
       "      <td>129</td>\n",
       "      <td>132.0</td>\n",
       "      <td>118.0</td>\n",
       "      <td>112.0</td>\n",
       "      <td>NaN</td>\n",
       "      <td>NaN</td>\n",
       "    </tr>\n",
       "    <tr>\n",
       "      <th>1949-05-01</th>\n",
       "      <td>121</td>\n",
       "      <td>129.0</td>\n",
       "      <td>132.0</td>\n",
       "      <td>118.0</td>\n",
       "      <td>112.0</td>\n",
       "      <td>NaN</td>\n",
       "    </tr>\n",
       "    <tr>\n",
       "      <th>...</th>\n",
       "      <td>...</td>\n",
       "      <td>...</td>\n",
       "      <td>...</td>\n",
       "      <td>...</td>\n",
       "      <td>...</td>\n",
       "      <td>...</td>\n",
       "    </tr>\n",
       "    <tr>\n",
       "      <th>1960-08-01</th>\n",
       "      <td>606</td>\n",
       "      <td>622.0</td>\n",
       "      <td>535.0</td>\n",
       "      <td>472.0</td>\n",
       "      <td>461.0</td>\n",
       "      <td>419.0</td>\n",
       "    </tr>\n",
       "    <tr>\n",
       "      <th>1960-09-01</th>\n",
       "      <td>508</td>\n",
       "      <td>606.0</td>\n",
       "      <td>622.0</td>\n",
       "      <td>535.0</td>\n",
       "      <td>472.0</td>\n",
       "      <td>461.0</td>\n",
       "    </tr>\n",
       "    <tr>\n",
       "      <th>1960-10-01</th>\n",
       "      <td>461</td>\n",
       "      <td>508.0</td>\n",
       "      <td>606.0</td>\n",
       "      <td>622.0</td>\n",
       "      <td>535.0</td>\n",
       "      <td>472.0</td>\n",
       "    </tr>\n",
       "    <tr>\n",
       "      <th>1960-11-01</th>\n",
       "      <td>390</td>\n",
       "      <td>461.0</td>\n",
       "      <td>508.0</td>\n",
       "      <td>606.0</td>\n",
       "      <td>622.0</td>\n",
       "      <td>535.0</td>\n",
       "    </tr>\n",
       "    <tr>\n",
       "      <th>1960-12-01</th>\n",
       "      <td>432</td>\n",
       "      <td>390.0</td>\n",
       "      <td>461.0</td>\n",
       "      <td>508.0</td>\n",
       "      <td>606.0</td>\n",
       "      <td>622.0</td>\n",
       "    </tr>\n",
       "  </tbody>\n",
       "</table>\n",
       "<p>144 rows × 6 columns</p>\n",
       "</div>"
      ],
      "text/plain": [
       "            Passengers   lag1   lag2   lag3   lag4   lag5\n",
       "Month                                                    \n",
       "1949-01-01         112    NaN    NaN    NaN    NaN    NaN\n",
       "1949-02-01         118  112.0    NaN    NaN    NaN    NaN\n",
       "1949-03-01         132  118.0  112.0    NaN    NaN    NaN\n",
       "1949-04-01         129  132.0  118.0  112.0    NaN    NaN\n",
       "1949-05-01         121  129.0  132.0  118.0  112.0    NaN\n",
       "...                ...    ...    ...    ...    ...    ...\n",
       "1960-08-01         606  622.0  535.0  472.0  461.0  419.0\n",
       "1960-09-01         508  606.0  622.0  535.0  472.0  461.0\n",
       "1960-10-01         461  508.0  606.0  622.0  535.0  472.0\n",
       "1960-11-01         390  461.0  508.0  606.0  622.0  535.0\n",
       "1960-12-01         432  390.0  461.0  508.0  606.0  622.0\n",
       "\n",
       "[144 rows x 6 columns]"
      ]
     },
     "execution_count": 6,
     "metadata": {},
     "output_type": "execute_result"
    }
   ],
   "source": [
    "df"
   ]
  },
  {
   "cell_type": "code",
   "execution_count": 7,
   "id": "66202c9f-b457-433a-9f5f-69cb6ac34283",
   "metadata": {},
   "outputs": [
    {
     "name": "stdout",
     "output_type": "stream",
     "text": [
      "lag 1 auto correlation: 0.9602\n",
      "lag 2 auto correlation: 0.8957\n",
      "lag 3 auto correlation: 0.8374\n",
      "lag 4 auto correlation: 0.7977\n",
      "lag 5 auto correlation: 0.7859\n"
     ]
    }
   ],
   "source": [
    "import numpy as np\n",
    "\n",
    "for i in range(1, 6):\n",
    "    target_column = f\"lag{i}\"\n",
    "    target_df = df[[\"Passengers\", target_column]].dropna()\n",
    "    mat = np.corrcoef(target_df[\"Passengers\"], target_df[target_column])\n",
    "    auto_correlation = round(mat[0][1], 4)\n",
    "    print(f\"lag {i} auto correlation: {auto_correlation}\")"
   ]
  },
  {
   "cell_type": "markdown",
   "id": "e3314e01-c8fa-478c-b0f6-edb8462d3815",
   "metadata": {},
   "source": [
    "### Auto Correlation Function\n",
    "\n",
    "시차를 늘려가며 자기 상관을 계산하는 함수를 Auto Correlation Function이라고 부릅니다. \n",
    "\n",
    "파란색 영역은 주로 자기상관 함수 값이 통계적으로 유의미하게 0과 다른지를 나타내기 위해 사용됩니다. 통계적으로 유의미한 영역을 초과하는 ACF 값들은 해당 시차(lag)에서 자기상관이 존재한다는 것을 의미합니다. 반대로 파란색 영역 안에 포함되는 경우에는 해당 시차에서 자기상관이 없다고 볼 수 있습니다."
   ]
  },
  {
   "cell_type": "code",
   "execution_count": 9,
   "id": "32a67d96-8f3f-4245-8671-8032894785ae",
   "metadata": {},
   "outputs": [
    {
     "data": {
      "text/plain": [
       "Text(0, 0.5, 'auto correlation')"
      ]
     },
     "execution_count": 9,
     "metadata": {},
     "output_type": "execute_result"
    },
    {
     "data": {
      "image/png": "[encoded data removed]",
      "text/plain": [
       "<Figure size 640x480 with 1 Axes>"
      ]
     },
     "metadata": {},
     "output_type": "display_data"
    }
   ],
   "source": [
    "from statsmodels.tsa.stattools import acf\n",
    "from matplotlib import pyplot as plt\n",
    "\n",
    "plot_acf(df['Passengers'].tolist(), lags=50);\n",
    "plt.xlabel(\"lags\")\n",
    "plt.ylabel(\"auto correlation\")"
   ]
  },
  {
   "cell_type": "markdown",
   "id": "8e583a48-fa4f-4d5e-beb6-a4b0463014f9",
   "metadata": {},
   "source": [
    "추가로 ACF에서 주기적인 spike가 관찰되면 데이터가 계절성을 띈다고 볼 수 있습니다."
   ]
  },
  {
   "cell_type": "markdown",
   "id": "5017cd88-18f3-4972-88c8-fb3d4fa4f30a",
   "metadata": {},
   "source": [
    "## Partial Autocorrelation과 PACF\n",
    "\n",
    "### Partial Autocorrelation\n",
    "Partial Autocorrelation은 Auto Correlation과 비슷한 정보를 전달하지만, 중간에 끼어있는 lag들의 영향을 제외한 순수한 현재 시점의 값과 특정 시차 이전 값간의 상관관계를 계산합니다. \n",
    "\n",
    "먼저 lag 1일 때는 중간에 끼인 lag들이 없기 때문에 auto correlation과 동일한 값을 갖습니다.\n",
    "\n",
    "$$\\phi_{1,1}=corr(z_{t+1},z_{t}),\\text{for k=1}$$"
   ]
  },
  {
   "cell_type": "markdown",
   "id": "fc235775-495d-4cd1-a5c6-94e05049bf0c",
   "metadata": {},
   "source": [
    "그 이후부터는 중간에 끼어있는 lag들의 영향을 제외한 다음, correlation을 계산합니다. 예를들어 lag5의 partial auto correlation을 측정하고 싶다면 중간에 끼어있는 lag1, lag2, lag3, lag4의 영향을 제거해준 다음 correlation을 계산하는 것입니다.\n",
    "\n",
    "$$\\phi_{k,k}=corr(z_{t+k}-\\hat{z}_{t+k},z_{t}-\\hat{z}_{t}),\\text{for k ≥ 2}$$\n",
    "\n",
    "수식을 보면 중간에 끼어있는 lag들의 영향을 제거하기 위해서 z_t+k와 z_t를 각각 z^_t+k와 z^t를 빼주었습니다. 이는 각각 중간에 끼어있는 lag 값들로 다중 선형 회귀식을 만들어서 예측한 값들입니다.\n",
    "\n",
    "$$\\hat{z}_{t+k}=\\beta_{1}z_{t+k-1}+...+\\beta_{k-1}z_{t+1}$$\n",
    "\n",
    "$$\\hat{z}_{t}=\\beta_{1}z_{t+1}+...+\\beta_{k-1}z_{t+k-1}$$\n",
    "\n",
    "Partial Auto Correlation에 대해서 더 궁금하신 분들은 아래 아티클을 참고해주세요.  \n",
    "https://hongl.tistory.com/67"
   ]
  },
  {
   "cell_type": "markdown",
   "id": "56509048-62d2-454c-824e-02555c7836ee",
   "metadata": {},
   "source": [
    "### PACF\n",
    "\n",
    "시차를 늘려가며 PAC를 계산하는 함수를 Partial Auto Correlation Function이라고 부릅니다. 마찬가지로 파란색 영역 밖에 PAC 값이 위치하면 PAC가 존재하는 것이고, 영역 안에 위치하면 PAC가 존재하지 않는 것으로 해석할 수 있습니다."
   ]
  },
  {
   "cell_type": "code",
   "execution_count": 10,
   "id": "5950f013-db11-4694-8cc9-ae9fe13971cc",
   "metadata": {},
   "outputs": [
    {
     "name": "stderr",
     "output_type": "stream",
     "text": [
      "/Users/user/miniconda3/lib/python3.10/site-packages/statsmodels/graphics/tsaplots.py:348: FutureWarning: The default method 'yw' can produce PACF values outside of the [-1,1] interval. After 0.13, the default will change tounadjusted Yule-Walker ('ywm'). You can use this method now by setting method='ywm'.\n",
      "  warnings.warn(\n"
     ]
    },
    {
     "data": {
      "text/plain": [
       "Text(0, 0.5, 'partial auto correlation')"
      ]
     },
     "execution_count": 10,
     "metadata": {},
     "output_type": "execute_result"
    },
    {
     "data": {
      "image/png": "[encoded data removed]",
      "text/plain": [
       "<Figure size 640x480 with 1 Axes>"
      ]
     },
     "metadata": {},
     "output_type": "display_data"
    }
   ],
   "source": [
    "from statsmodels.graphics.tsaplots import plot_pacf\n",
    "\n",
    "plot_pacf(df['Passengers'].tolist(), lags=50);\n",
    "plt.xlabel(\"lags\")\n",
    "plt.ylabel(\"partial auto correlation\")"
   ]
  },
  {
   "cell_type": "markdown",
   "id": "9c1a0e0b-d818-432d-9087-d75d352689c6",
   "metadata": {},
   "source": [
    "## 정리\n",
    "\n",
    "이번 챕터에서는 ACF와 PACF의 개념에 대해서 배우고, 직접 플랏을 그려보았습니다. 이는 뒤에 이어지는 ARIMA 모델을 이해하기 위해서 반드시 필요한 개념이므로 핵심 개념을 잘 기억해두시고 넘어가면 좋겠습니다."
   ]
  }
 ],
 "metadata": {
  "kernelspec": {
   "display_name": "Python 3 (ipykernel)",
   "language": "python",
   "name": "python3"
  },
  "language_info": {
   "codemirror_mode": {
    "name": "ipython",
    "version": 3
   },
   "file_extension": ".py",
   "mimetype": "text/x-python",
   "name": "python",
   "nbconvert_exporter": "python",
   "pygments_lexer": "ipython3",
   "version": "3.10.8"
  }
 },
 "nbformat": 4,
 "nbformat_minor": 5
}
