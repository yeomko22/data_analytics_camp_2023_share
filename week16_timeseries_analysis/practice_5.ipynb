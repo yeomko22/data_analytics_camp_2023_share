{
 "cells": [
  {
   "cell_type": "markdown",
   "id": "a818cf52-ae44-4cd5-a172-5f2d88a61804",
   "metadata": {},
   "source": [
    "## Practice 5. Granger Causality Test\n",
    "\n",
    "전력 소요량 데이터 셋에서 전력 소요량과 인과관계가 있는 데이터는 어떤 것들이 있는지 Granger Causality Test를 이용해서 검정해보세요."
   ]
  },
  {
   "cell_type": "code",
   "execution_count": 1,
   "id": "3cdc7289-4989-4c87-a169-fb3fc4ca2365",
   "metadata": {},
   "outputs": [],
   "source": [
    "from utils import load_power"
   ]
  },
  {
   "cell_type": "code",
   "execution_count": null,
   "id": "d606e8c9-476d-4329-a068-143f943fd960",
   "metadata": {},
   "outputs": [],
   "source": [
    "train_df"
   ]
  }
 ],
 "metadata": {
  "kernelspec": {
   "display_name": "Python 3 (ipykernel)",
   "language": "python",
   "name": "python3"
  },
  "language_info": {
   "codemirror_mode": {
    "name": "ipython",
    "version": 3
   },
   "file_extension": ".py",
   "mimetype": "text/x-python",
   "name": "python",
   "nbconvert_exporter": "python",
   "pygments_lexer": "ipython3",
   "version": "3.10.8"
  }
 },
 "nbformat": 4,
 "nbformat_minor": 5
}
