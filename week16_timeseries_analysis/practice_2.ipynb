{
 "cells": [
  {
   "cell_type": "markdown",
   "id": "91682bbd-fafa-42ce-a093-c5beab8f6e63",
   "metadata": {},
   "source": [
    "## Practice 2. ARIMA\n",
    "\n",
    "다음은 테슬라의 주가 데이터 셋입니다. ARIMA 모델을 이용하여 주식 가격 예측 모델을 만들고, 성능을 측정해보세요."
   ]
  },
  {
   "cell_type": "code",
   "execution_count": null,
   "id": "a9b6e4c8-5d39-4735-bba9-e7fb297aca81",
   "metadata": {},
   "outputs": [],
   "source": []
  }
 ],
 "metadata": {
  "kernelspec": {
   "display_name": "Python 3 (ipykernel)",
   "language": "python",
   "name": "python3"
  },
  "language_info": {
   "codemirror_mode": {
    "name": "ipython",
    "version": 3
   },
   "file_extension": ".py",
   "mimetype": "text/x-python",
   "name": "python",
   "nbconvert_exporter": "python",
   "pygments_lexer": "ipython3",
   "version": "3.10.8"
  }
 },
 "nbformat": 4,
 "nbformat_minor": 5
}
