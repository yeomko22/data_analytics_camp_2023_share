{
 "cells": [
  {
   "cell_type": "markdown",
   "id": "6e002488-8c12-468e-8ad3-17ea22b0caad",
   "metadata": {},
   "source": [
    "## 복습\n",
    "다이아몬드 데이터 셋은 다이아몬드의 특징으로 가격을 예측하는 데이터 셋입니다. 이를 실습 목적에 맞게 가공하였습니다.\n",
    "- https://www.kaggle.com/datasets/shivam2503/diamonds\n",
    "\n",
    "각 컬럼에 대한 설명은 다음과 같습니다.\n",
    "\n",
    "- price: price in US dollars (\\$326--\\$18,823)\n",
    "- carat: weight of the diamond (0.2--5.01)\n",
    "- cut: quality of the cut (Fair, Good, Very Good, Premium, Ideal)\n",
    "- color: diamond colour, from J (worst) to D (best)\n",
    "- clarity: a measurement of how clear the diamond is (I1 (worst), SI2, SI1, VS2, VS1, VVS2, VVS1, IF (best))\n",
    "- x: length in mm (0--10.74)\n",
    "- y: width in mm (0--58.9)\n",
    "- z: depth in mm (0--31.8)\n",
    "- table: width of top of diamond relative to widest point (43--95)"
   ]
  },
  {
   "cell_type": "code",
   "execution_count": 1,
   "id": "1a028e74-0768-4488-b760-01824cee8834",
   "metadata": {},
   "outputs": [],
   "source": [
    "import pandas as pd"
   ]
  },
  {
   "cell_type": "code",
   "execution_count": 2,
   "id": "0d9c7303-fa2f-4bed-a0d2-84b2d2311d60",
   "metadata": {},
   "outputs": [],
   "source": [
    "df = pd.read_csv(\"./data/diamonds.csv\")"
   ]
  },
  {
   "cell_type": "code",
   "execution_count": 3,
   "id": "8366b33a-15ae-4e71-889a-3c349afe95a0",
   "metadata": {},
   "outputs": [
    {
     "data": {
      "text/html": [
       "<div>\n",
       "<style scoped>\n",
       "    .dataframe tbody tr th:only-of-type {\n",
       "        vertical-align: middle;\n",
       "    }\n",
       "\n",
       "    .dataframe tbody tr th {\n",
       "        vertical-align: top;\n",
       "    }\n",
       "\n",
       "    .dataframe thead th {\n",
       "        text-align: right;\n",
       "    }\n",
       "</style>\n",
       "<table border=\"1\" class=\"dataframe\">\n",
       "  <thead>\n",
       "    <tr style=\"text-align: right;\">\n",
       "      <th></th>\n",
       "      <th>carat</th>\n",
       "      <th>cut</th>\n",
       "      <th>color</th>\n",
       "      <th>clarity</th>\n",
       "      <th>table</th>\n",
       "      <th>price</th>\n",
       "      <th>x</th>\n",
       "      <th>y</th>\n",
       "      <th>z</th>\n",
       "    </tr>\n",
       "  </thead>\n",
       "  <tbody>\n",
       "    <tr>\n",
       "      <th>0</th>\n",
       "      <td>0.23</td>\n",
       "      <td>Ideal</td>\n",
       "      <td>NaN</td>\n",
       "      <td>SI2</td>\n",
       "      <td>55.0</td>\n",
       "      <td>326</td>\n",
       "      <td>3.95</td>\n",
       "      <td>3.98</td>\n",
       "      <td>2.43</td>\n",
       "    </tr>\n",
       "    <tr>\n",
       "      <th>1</th>\n",
       "      <td>0.21</td>\n",
       "      <td>Premium</td>\n",
       "      <td>E</td>\n",
       "      <td>SI1</td>\n",
       "      <td>61.0</td>\n",
       "      <td>326</td>\n",
       "      <td>3.89</td>\n",
       "      <td>3.84</td>\n",
       "      <td>2.31</td>\n",
       "    </tr>\n",
       "    <tr>\n",
       "      <th>2</th>\n",
       "      <td>0.23</td>\n",
       "      <td>Good</td>\n",
       "      <td>NaN</td>\n",
       "      <td>VS1</td>\n",
       "      <td>65.0</td>\n",
       "      <td>327</td>\n",
       "      <td>4.05</td>\n",
       "      <td>4.07</td>\n",
       "      <td>2.31</td>\n",
       "    </tr>\n",
       "    <tr>\n",
       "      <th>3</th>\n",
       "      <td>0.29</td>\n",
       "      <td>Premium</td>\n",
       "      <td>I</td>\n",
       "      <td>VS2</td>\n",
       "      <td>58.0</td>\n",
       "      <td>334</td>\n",
       "      <td>4.20</td>\n",
       "      <td>4.23</td>\n",
       "      <td>2.63</td>\n",
       "    </tr>\n",
       "    <tr>\n",
       "      <th>4</th>\n",
       "      <td>0.31</td>\n",
       "      <td>Good</td>\n",
       "      <td>J</td>\n",
       "      <td>SI2</td>\n",
       "      <td>58.0</td>\n",
       "      <td>335</td>\n",
       "      <td>4.34</td>\n",
       "      <td>4.35</td>\n",
       "      <td>2.75</td>\n",
       "    </tr>\n",
       "    <tr>\n",
       "      <th>...</th>\n",
       "      <td>...</td>\n",
       "      <td>...</td>\n",
       "      <td>...</td>\n",
       "      <td>...</td>\n",
       "      <td>...</td>\n",
       "      <td>...</td>\n",
       "      <td>...</td>\n",
       "      <td>...</td>\n",
       "      <td>...</td>\n",
       "    </tr>\n",
       "    <tr>\n",
       "      <th>53935</th>\n",
       "      <td>0.72</td>\n",
       "      <td>Ideal</td>\n",
       "      <td>D</td>\n",
       "      <td>SI1</td>\n",
       "      <td>57.0</td>\n",
       "      <td>2757</td>\n",
       "      <td>5.75</td>\n",
       "      <td>5.76</td>\n",
       "      <td>3.50</td>\n",
       "    </tr>\n",
       "    <tr>\n",
       "      <th>53936</th>\n",
       "      <td>0.72</td>\n",
       "      <td>Good</td>\n",
       "      <td>D</td>\n",
       "      <td>SI1</td>\n",
       "      <td>55.0</td>\n",
       "      <td>2757</td>\n",
       "      <td>5.69</td>\n",
       "      <td>5.75</td>\n",
       "      <td>3.61</td>\n",
       "    </tr>\n",
       "    <tr>\n",
       "      <th>53937</th>\n",
       "      <td>0.70</td>\n",
       "      <td>Very Good</td>\n",
       "      <td>D</td>\n",
       "      <td>SI1</td>\n",
       "      <td>60.0</td>\n",
       "      <td>2757</td>\n",
       "      <td>5.66</td>\n",
       "      <td>5.68</td>\n",
       "      <td>3.56</td>\n",
       "    </tr>\n",
       "    <tr>\n",
       "      <th>53938</th>\n",
       "      <td>NaN</td>\n",
       "      <td>Premium</td>\n",
       "      <td>H</td>\n",
       "      <td>SI2</td>\n",
       "      <td>58.0</td>\n",
       "      <td>2757</td>\n",
       "      <td>6.15</td>\n",
       "      <td>6.12</td>\n",
       "      <td>3.74</td>\n",
       "    </tr>\n",
       "    <tr>\n",
       "      <th>53939</th>\n",
       "      <td>0.75</td>\n",
       "      <td>Ideal</td>\n",
       "      <td>D</td>\n",
       "      <td>SI2</td>\n",
       "      <td>55.0</td>\n",
       "      <td>2757</td>\n",
       "      <td>5.83</td>\n",
       "      <td>5.87</td>\n",
       "      <td>3.64</td>\n",
       "    </tr>\n",
       "  </tbody>\n",
       "</table>\n",
       "<p>53940 rows × 9 columns</p>\n",
       "</div>"
      ],
      "text/plain": [
       "       carat        cut color clarity  table  price     x     y     z\n",
       "0       0.23      Ideal   NaN     SI2   55.0    326  3.95  3.98  2.43\n",
       "1       0.21    Premium     E     SI1   61.0    326  3.89  3.84  2.31\n",
       "2       0.23       Good   NaN     VS1   65.0    327  4.05  4.07  2.31\n",
       "3       0.29    Premium     I     VS2   58.0    334  4.20  4.23  2.63\n",
       "4       0.31       Good     J     SI2   58.0    335  4.34  4.35  2.75\n",
       "...      ...        ...   ...     ...    ...    ...   ...   ...   ...\n",
       "53935   0.72      Ideal     D     SI1   57.0   2757  5.75  5.76  3.50\n",
       "53936   0.72       Good     D     SI1   55.0   2757  5.69  5.75  3.61\n",
       "53937   0.70  Very Good     D     SI1   60.0   2757  5.66  5.68  3.56\n",
       "53938    NaN    Premium     H     SI2   58.0   2757  6.15  6.12  3.74\n",
       "53939   0.75      Ideal     D     SI2   55.0   2757  5.83  5.87  3.64\n",
       "\n",
       "[53940 rows x 9 columns]"
      ]
     },
     "execution_count": 3,
     "metadata": {},
     "output_type": "execute_result"
    }
   ],
   "source": [
    "df"
   ]
  },
  {
   "cell_type": "markdown",
   "id": "242004db-01b5-4353-8186-d1f446839230",
   "metadata": {},
   "source": [
    "### 1. 데이터 프레임의 기본 정보를 파악해보세요.\n",
    "- 행과 열의 개수\n",
    "- 컬럼 이름과 데이터 타입\n",
    "- 각 컬럼별 기초 통계량"
   ]
  },
  {
   "cell_type": "code",
   "execution_count": null,
   "id": "84671487-6b3b-43ed-96ab-16a5070dc620",
   "metadata": {},
   "outputs": [],
   "source": []
  },
  {
   "cell_type": "markdown",
   "id": "ef1b5dd3-155f-4cdf-9a5b-d3bcd76ccb76",
   "metadata": {},
   "source": [
    "### 2. 다이아몬드의 깊이를 나타내는 depth라는 파생 변수를 추가해보세요\n",
    "depth = z / mean(x, y) = 2 * z / (x + y)"
   ]
  },
  {
   "cell_type": "code",
   "execution_count": null,
   "id": "d90114d3-bbdb-487a-8427-0a0da0725039",
   "metadata": {},
   "outputs": [],
   "source": []
  },
  {
   "cell_type": "markdown",
   "id": "5b28de8c-798d-4cc9-98e5-9b3769203bce",
   "metadata": {},
   "source": [
    "### 3. 결측치를 확인하고, 적절한 조치를 취하세요\n",
    "- 결측치가 너무 많고, 크게 중요하지 않다고 판단되는 컬럼 -> 제거\n",
    "- 결측치를 적절한 값으로 채워넣기 (자기 아이디어)"
   ]
  },
  {
   "cell_type": "code",
   "execution_count": null,
   "id": "d00f7099-4081-462d-936c-182f51894237",
   "metadata": {},
   "outputs": [],
   "source": []
  },
  {
   "cell_type": "markdown",
   "id": "6376b73a-97e5-474c-aa8e-ab3d45aa10c5",
   "metadata": {},
   "source": [
    "### 4. 카테고리형 컬럼들을 더미 변수화하고, 기존 컬럼은 삭제하세요."
   ]
  },
  {
   "cell_type": "code",
   "execution_count": null,
   "id": "fa7fd6ab-b768-4e53-8b32-dd0581ba5c76",
   "metadata": {},
   "outputs": [],
   "source": []
  },
  {
   "cell_type": "markdown",
   "id": "e9d2a186-8a50-43f3-b25d-98818ebb22c7",
   "metadata": {},
   "source": [
    "### 5. 연속형 컬럼들은 scaler를 사용하여 적절한 범위로 조정하세요."
   ]
  },
  {
   "cell_type": "code",
   "execution_count": null,
   "id": "358e6206-1d78-4d6f-a094-e40cde1a71c8",
   "metadata": {},
   "outputs": [],
   "source": []
  },
  {
   "cell_type": "markdown",
   "id": "df214d5f-25f9-4340-b40a-d10b37a5adb3",
   "metadata": {},
   "source": [
    "### 6. 컬럼별 피어슨 상관계수를 측정하고 이를 시각화 하세요."
   ]
  },
  {
   "cell_type": "code",
   "execution_count": null,
   "id": "c27be063-0c56-428d-9ac3-86a3d485127b",
   "metadata": {},
   "outputs": [],
   "source": []
  },
  {
   "cell_type": "markdown",
   "id": "a4c6cd68-a15a-418e-aea2-178a58dadffd",
   "metadata": {},
   "source": [
    "### 7. 시각화 자료를 참고하여 가격에 영향을 주는 요소로 어떤 것들이 있는지 확인해보세요. 그 외에 데이터를 통해서 얻을 수 있는 인사이트들을 정리해보세요"
   ]
  },
  {
   "cell_type": "code",
   "execution_count": null,
   "id": "5429bf79-413f-40b9-9da4-b51af0235a28",
   "metadata": {},
   "outputs": [],
   "source": []
  }
 ],
 "metadata": {
  "kernelspec": {
   "display_name": "Python 3 (ipykernel)",
   "language": "python",
   "name": "python3"
  },
  "language_info": {
   "codemirror_mode": {
    "name": "ipython",
    "version": 3
   },
   "file_extension": ".py",
   "mimetype": "text/x-python",
   "name": "python",
   "nbconvert_exporter": "python",
   "pygments_lexer": "ipython3",
   "version": "3.10.8"
  }
 },
 "nbformat": 4,
 "nbformat_minor": 5
}
