{
 "cells": [
  {
   "cell_type": "markdown",
   "id": "f9f3b55a-0fb8-42b1-a12a-dfc8d53b8563",
   "metadata": {},
   "source": [
    "# ch8_6 dataframe preprocess\n",
    "이전 챕터에서는 카테고리형 변수 컬럼들의 인코딩을 적용해보았습니다. 그리고 dummy 컬럼을 활용하여 one-hot encoding을 적용하였습니다. 이번 챕터에서는 Age, Fare 처럼 연속형 확률 변수 컬럼들의 전처리 과정을 배워보겠습니다."
   ]
  },
  {
   "cell_type": "code",
   "execution_count": 56,
   "id": "805f179b-b3ec-4023-83f7-1f03973b8769",
   "metadata": {},
   "outputs": [],
   "source": [
    "import pandas as pd\n",
    "import numpy as np"
   ]
  },
  {
   "cell_type": "code",
   "execution_count": 57,
   "id": "27e125e6-94c1-4de1-befe-b348be69b484",
   "metadata": {},
   "outputs": [],
   "source": [
    "df = pd.read_csv(\"./data/titanic_train_preprocessed_tmp.csv\")"
   ]
  },
  {
   "cell_type": "code",
   "execution_count": 58,
   "id": "301dc0f8-3288-4721-b487-020cb83922a8",
   "metadata": {},
   "outputs": [
    {
     "data": {
      "text/html": [
       "<div>\n",
       "<style scoped>\n",
       "    .dataframe tbody tr th:only-of-type {\n",
       "        vertical-align: middle;\n",
       "    }\n",
       "\n",
       "    .dataframe tbody tr th {\n",
       "        vertical-align: top;\n",
       "    }\n",
       "\n",
       "    .dataframe thead th {\n",
       "        text-align: right;\n",
       "    }\n",
       "</style>\n",
       "<table border=\"1\" class=\"dataframe\">\n",
       "  <thead>\n",
       "    <tr style=\"text-align: right;\">\n",
       "      <th></th>\n",
       "      <th>PassengerId</th>\n",
       "      <th>Survived</th>\n",
       "      <th>Sex</th>\n",
       "      <th>Age</th>\n",
       "      <th>SibSp</th>\n",
       "      <th>Parch</th>\n",
       "      <th>Fare</th>\n",
       "      <th>FamilySize</th>\n",
       "      <th>IsAlone</th>\n",
       "      <th>Embarked_C</th>\n",
       "      <th>Embarked_Q</th>\n",
       "      <th>Embarked_S</th>\n",
       "      <th>Pclass_1</th>\n",
       "      <th>Pclass_2</th>\n",
       "      <th>Pclass_3</th>\n",
       "    </tr>\n",
       "  </thead>\n",
       "  <tbody>\n",
       "    <tr>\n",
       "      <th>0</th>\n",
       "      <td>1</td>\n",
       "      <td>0</td>\n",
       "      <td>1</td>\n",
       "      <td>22.00</td>\n",
       "      <td>1</td>\n",
       "      <td>0</td>\n",
       "      <td>7.2500</td>\n",
       "      <td>1</td>\n",
       "      <td>0</td>\n",
       "      <td>0</td>\n",
       "      <td>0</td>\n",
       "      <td>1</td>\n",
       "      <td>0</td>\n",
       "      <td>0</td>\n",
       "      <td>1</td>\n",
       "    </tr>\n",
       "    <tr>\n",
       "      <th>1</th>\n",
       "      <td>2</td>\n",
       "      <td>1</td>\n",
       "      <td>0</td>\n",
       "      <td>38.00</td>\n",
       "      <td>1</td>\n",
       "      <td>0</td>\n",
       "      <td>71.2833</td>\n",
       "      <td>1</td>\n",
       "      <td>0</td>\n",
       "      <td>1</td>\n",
       "      <td>0</td>\n",
       "      <td>0</td>\n",
       "      <td>1</td>\n",
       "      <td>0</td>\n",
       "      <td>0</td>\n",
       "    </tr>\n",
       "    <tr>\n",
       "      <th>2</th>\n",
       "      <td>3</td>\n",
       "      <td>1</td>\n",
       "      <td>0</td>\n",
       "      <td>26.00</td>\n",
       "      <td>0</td>\n",
       "      <td>0</td>\n",
       "      <td>7.9250</td>\n",
       "      <td>0</td>\n",
       "      <td>1</td>\n",
       "      <td>0</td>\n",
       "      <td>0</td>\n",
       "      <td>1</td>\n",
       "      <td>0</td>\n",
       "      <td>0</td>\n",
       "      <td>1</td>\n",
       "    </tr>\n",
       "    <tr>\n",
       "      <th>3</th>\n",
       "      <td>4</td>\n",
       "      <td>1</td>\n",
       "      <td>0</td>\n",
       "      <td>35.00</td>\n",
       "      <td>1</td>\n",
       "      <td>0</td>\n",
       "      <td>53.1000</td>\n",
       "      <td>1</td>\n",
       "      <td>0</td>\n",
       "      <td>0</td>\n",
       "      <td>0</td>\n",
       "      <td>1</td>\n",
       "      <td>1</td>\n",
       "      <td>0</td>\n",
       "      <td>0</td>\n",
       "    </tr>\n",
       "    <tr>\n",
       "      <th>4</th>\n",
       "      <td>5</td>\n",
       "      <td>0</td>\n",
       "      <td>1</td>\n",
       "      <td>35.00</td>\n",
       "      <td>0</td>\n",
       "      <td>0</td>\n",
       "      <td>8.0500</td>\n",
       "      <td>0</td>\n",
       "      <td>1</td>\n",
       "      <td>0</td>\n",
       "      <td>0</td>\n",
       "      <td>1</td>\n",
       "      <td>0</td>\n",
       "      <td>0</td>\n",
       "      <td>1</td>\n",
       "    </tr>\n",
       "    <tr>\n",
       "      <th>...</th>\n",
       "      <td>...</td>\n",
       "      <td>...</td>\n",
       "      <td>...</td>\n",
       "      <td>...</td>\n",
       "      <td>...</td>\n",
       "      <td>...</td>\n",
       "      <td>...</td>\n",
       "      <td>...</td>\n",
       "      <td>...</td>\n",
       "      <td>...</td>\n",
       "      <td>...</td>\n",
       "      <td>...</td>\n",
       "      <td>...</td>\n",
       "      <td>...</td>\n",
       "      <td>...</td>\n",
       "    </tr>\n",
       "    <tr>\n",
       "      <th>886</th>\n",
       "      <td>887</td>\n",
       "      <td>0</td>\n",
       "      <td>1</td>\n",
       "      <td>27.00</td>\n",
       "      <td>0</td>\n",
       "      <td>0</td>\n",
       "      <td>13.0000</td>\n",
       "      <td>0</td>\n",
       "      <td>1</td>\n",
       "      <td>0</td>\n",
       "      <td>0</td>\n",
       "      <td>1</td>\n",
       "      <td>0</td>\n",
       "      <td>1</td>\n",
       "      <td>0</td>\n",
       "    </tr>\n",
       "    <tr>\n",
       "      <th>887</th>\n",
       "      <td>888</td>\n",
       "      <td>1</td>\n",
       "      <td>0</td>\n",
       "      <td>19.00</td>\n",
       "      <td>0</td>\n",
       "      <td>0</td>\n",
       "      <td>30.0000</td>\n",
       "      <td>0</td>\n",
       "      <td>1</td>\n",
       "      <td>0</td>\n",
       "      <td>0</td>\n",
       "      <td>1</td>\n",
       "      <td>1</td>\n",
       "      <td>0</td>\n",
       "      <td>0</td>\n",
       "    </tr>\n",
       "    <tr>\n",
       "      <th>888</th>\n",
       "      <td>889</td>\n",
       "      <td>0</td>\n",
       "      <td>0</td>\n",
       "      <td>21.75</td>\n",
       "      <td>1</td>\n",
       "      <td>2</td>\n",
       "      <td>23.4500</td>\n",
       "      <td>3</td>\n",
       "      <td>0</td>\n",
       "      <td>0</td>\n",
       "      <td>0</td>\n",
       "      <td>1</td>\n",
       "      <td>0</td>\n",
       "      <td>0</td>\n",
       "      <td>1</td>\n",
       "    </tr>\n",
       "    <tr>\n",
       "      <th>889</th>\n",
       "      <td>890</td>\n",
       "      <td>1</td>\n",
       "      <td>1</td>\n",
       "      <td>26.00</td>\n",
       "      <td>0</td>\n",
       "      <td>0</td>\n",
       "      <td>30.0000</td>\n",
       "      <td>0</td>\n",
       "      <td>1</td>\n",
       "      <td>1</td>\n",
       "      <td>0</td>\n",
       "      <td>0</td>\n",
       "      <td>1</td>\n",
       "      <td>0</td>\n",
       "      <td>0</td>\n",
       "    </tr>\n",
       "    <tr>\n",
       "      <th>890</th>\n",
       "      <td>891</td>\n",
       "      <td>0</td>\n",
       "      <td>1</td>\n",
       "      <td>32.00</td>\n",
       "      <td>0</td>\n",
       "      <td>0</td>\n",
       "      <td>7.7500</td>\n",
       "      <td>0</td>\n",
       "      <td>1</td>\n",
       "      <td>0</td>\n",
       "      <td>1</td>\n",
       "      <td>0</td>\n",
       "      <td>0</td>\n",
       "      <td>0</td>\n",
       "      <td>1</td>\n",
       "    </tr>\n",
       "  </tbody>\n",
       "</table>\n",
       "<p>891 rows × 15 columns</p>\n",
       "</div>"
      ],
      "text/plain": [
       "     PassengerId  Survived  Sex    Age  SibSp  Parch     Fare  FamilySize  \\\n",
       "0              1         0    1  22.00      1      0   7.2500           1   \n",
       "1              2         1    0  38.00      1      0  71.2833           1   \n",
       "2              3         1    0  26.00      0      0   7.9250           0   \n",
       "3              4         1    0  35.00      1      0  53.1000           1   \n",
       "4              5         0    1  35.00      0      0   8.0500           0   \n",
       "..           ...       ...  ...    ...    ...    ...      ...         ...   \n",
       "886          887         0    1  27.00      0      0  13.0000           0   \n",
       "887          888         1    0  19.00      0      0  30.0000           0   \n",
       "888          889         0    0  21.75      1      2  23.4500           3   \n",
       "889          890         1    1  26.00      0      0  30.0000           0   \n",
       "890          891         0    1  32.00      0      0   7.7500           0   \n",
       "\n",
       "     IsAlone  Embarked_C  Embarked_Q  Embarked_S  Pclass_1  Pclass_2  Pclass_3  \n",
       "0          0           0           0           1         0         0         1  \n",
       "1          0           1           0           0         1         0         0  \n",
       "2          1           0           0           1         0         0         1  \n",
       "3          0           0           0           1         1         0         0  \n",
       "4          1           0           0           1         0         0         1  \n",
       "..       ...         ...         ...         ...       ...       ...       ...  \n",
       "886        1           0           0           1         0         1         0  \n",
       "887        1           0           0           1         1         0         0  \n",
       "888        0           0           0           1         0         0         1  \n",
       "889        1           1           0           0         1         0         0  \n",
       "890        1           0           1           0         0         0         1  \n",
       "\n",
       "[891 rows x 15 columns]"
      ]
     },
     "execution_count": 58,
     "metadata": {},
     "output_type": "execute_result"
    }
   ],
   "source": [
    "df"
   ]
  },
  {
   "cell_type": "markdown",
   "id": "5833d925-2e7c-42a7-b3b7-bc7c666984b2",
   "metadata": {},
   "source": [
    "## 연속형 확률 변수 전처리\n",
    "### 분포 확인\n",
    "df.plot 함수를 활용하여 연속형 확률 변수들을 각각 plot 해보겠습니다."
   ]
  },
  {
   "cell_type": "code",
   "execution_count": 59,
   "id": "447d87d5-9bb3-42ef-8442-75e823d63ad4",
   "metadata": {},
   "outputs": [
    {
     "data": {
      "text/plain": [
       "<Axes: ylabel='Frequency'>"
      ]
     },
     "execution_count": 59,
     "metadata": {},
     "output_type": "execute_result"
    },
    {
     "data": {
      "image/png": "[encoded data removed]",
      "text/plain": [
       "<Figure size 640x480 with 1 Axes>"
      ]
     },
     "metadata": {},
     "output_type": "display_data"
    }
   ],
   "source": [
    "df[\"Age\"].plot(kind=\"hist\", bins=np.arange(0, 80, 5))"
   ]
  },
  {
   "cell_type": "code",
   "execution_count": 60,
   "id": "23d0c5be-0a03-43b3-8c93-970837677a1f",
   "metadata": {},
   "outputs": [
    {
     "data": {
      "text/plain": [
       "<Axes: ylabel='Frequency'>"
      ]
     },
     "execution_count": 60,
     "metadata": {},
     "output_type": "execute_result"
    },
    {
     "data": {
      "image/png": "[encoded data removed]",
      "text/plain": [
       "<Figure size 640x480 with 1 Axes>"
      ]
     },
     "metadata": {},
     "output_type": "display_data"
    }
   ],
   "source": [
    "df[\"Fare\"].plot(kind=\"hist\", bins=np.arange(0, 600, 10))"
   ]
  },
  {
   "cell_type": "markdown",
   "id": "7b1874fd-63a4-471b-9e73-dea3aa246494",
   "metadata": {},
   "source": [
    "### log scale\n",
    "Fare의 경우엔 아래쪽으로 쏠려있고, 큰 값들이 보입니다. 이런 경우, log를 취해주면 우리가 좋아하는 종모양 분포에 가까워집니다. 0 값이 포함되어 있기 때문에 1을 더해주고 로그를 취해주는 np.log1p를 사용해보겠습니다."
   ]
  },
  {
   "attachments": {
    "4be2f6e7-c6da-4c54-a533-65cf6ca28823.png": {
     "image/png": "[encoded data removed]"
    }
   },
   "cell_type": "markdown",
   "id": "33494e5f-074c-4366-ab1f-a9f9a87415c6",
   "metadata": {},
   "source": [
    "![image.png](attachment:4be2f6e7-c6da-4c54-a533-65cf6ca28823.png)"
   ]
  },
  {
   "cell_type": "code",
   "execution_count": 61,
   "id": "d851010c-6513-4def-866f-7255dc7d19a3",
   "metadata": {},
   "outputs": [],
   "source": [
    "df[\"Fare\"] = np.log1p(df[\"Fare\"])"
   ]
  },
  {
   "cell_type": "code",
   "execution_count": 62,
   "id": "70cc1115-bd81-44ff-bf99-3ee5fe72260a",
   "metadata": {},
   "outputs": [
    {
     "data": {
      "text/plain": [
       "<Axes: ylabel='Frequency'>"
      ]
     },
     "execution_count": 62,
     "metadata": {},
     "output_type": "execute_result"
    },
    {
     "data": {
      "image/png": "[encoded data removed]",
      "text/plain": [
       "<Figure size 640x480 with 1 Axes>"
      ]
     },
     "metadata": {},
     "output_type": "display_data"
    }
   ],
   "source": [
    "df[\"Fare\"].plot(kind=\"hist\", bins=np.arange(0, 7, 0.5))"
   ]
  },
  {
   "cell_type": "markdown",
   "id": "045acca1-f65c-4cb2-a638-ae13cf82dcc9",
   "metadata": {},
   "source": [
    "log를 취해준 결과, 왼쪽으로 쏠림 현상이 완화되었고 값들의 범위가 좁혀졌습니다. log scale은 정말 많이 사용되는 기법이니, 꼭 기억해주세요."
   ]
  },
  {
   "cell_type": "markdown",
   "id": "a962861c-27f3-423d-878f-b27492811f7a",
   "metadata": {},
   "source": [
    "### Standard Scaling & MinMax Scaling\n",
    "연속형 확률 변수의 크기를 조정해주면 예측 모델이 훨씬 안정적으로 학습되며, 크게 두 가지가 있습니다.\n",
    "\n",
    "- min-max scaling: 최소값을 0, 최대값을 1로 고정하고 그 비율을 나머지 값들에 적용. 만약 최대나 최소값이 극단적일 경우 부적합. ex) 0세 = 0, 80세=1, 20세=0.25. \n",
    "- standard scaling: 각 값에서 평균값을 빼주고 표준편차로 나눠줌.\n",
    "\n",
    "이 외에도 다양한 방식들이 있습니다. 다만 위에서 Age와 log를 취해준 Fare 모두 대략적으로 정규분포를 따르므로 standard scaling을 적용해주겠습니다. 그 외의 SibSp, Parch, FamilySize는 min-max scaler를 사용하겠습니다."
   ]
  },
  {
   "cell_type": "code",
   "execution_count": 63,
   "id": "86f4a692-8a59-485f-b66e-4394612e5f38",
   "metadata": {},
   "outputs": [],
   "source": [
    "from sklearn.preprocessing import StandardScaler, MinMaxScaler"
   ]
  },
  {
   "cell_type": "code",
   "execution_count": 64,
   "id": "925399ce-07cb-4636-8df0-70305f76e2db",
   "metadata": {},
   "outputs": [],
   "source": [
    "standard_scaler = StandardScaler()\n",
    "minmax_scaler = MinMaxScaler()"
   ]
  },
  {
   "cell_type": "code",
   "execution_count": 65,
   "id": "6bf74a73-6340-43a6-a125-316dc50b84fe",
   "metadata": {},
   "outputs": [],
   "source": [
    "df[[\"Age\", \"Fare\"]] = standard_scaler.fit_transform(df[[\"Age\", \"Fare\"]])"
   ]
  },
  {
   "cell_type": "code",
   "execution_count": 66,
   "id": "852e325d-7b28-43b0-9022-34a0a09ea748",
   "metadata": {},
   "outputs": [
    {
     "data": {
      "text/html": [
       "<div>\n",
       "<style scoped>\n",
       "    .dataframe tbody tr th:only-of-type {\n",
       "        vertical-align: middle;\n",
       "    }\n",
       "\n",
       "    .dataframe tbody tr th {\n",
       "        vertical-align: top;\n",
       "    }\n",
       "\n",
       "    .dataframe thead th {\n",
       "        text-align: right;\n",
       "    }\n",
       "</style>\n",
       "<table border=\"1\" class=\"dataframe\">\n",
       "  <thead>\n",
       "    <tr style=\"text-align: right;\">\n",
       "      <th></th>\n",
       "      <th>PassengerId</th>\n",
       "      <th>Survived</th>\n",
       "      <th>Sex</th>\n",
       "      <th>Age</th>\n",
       "      <th>SibSp</th>\n",
       "      <th>Parch</th>\n",
       "      <th>Fare</th>\n",
       "      <th>FamilySize</th>\n",
       "      <th>IsAlone</th>\n",
       "      <th>Embarked_C</th>\n",
       "      <th>Embarked_Q</th>\n",
       "      <th>Embarked_S</th>\n",
       "      <th>Pclass_1</th>\n",
       "      <th>Pclass_2</th>\n",
       "      <th>Pclass_3</th>\n",
       "    </tr>\n",
       "  </thead>\n",
       "  <tbody>\n",
       "    <tr>\n",
       "      <th>0</th>\n",
       "      <td>1</td>\n",
       "      <td>0</td>\n",
       "      <td>1</td>\n",
       "      <td>-0.551366</td>\n",
       "      <td>1</td>\n",
       "      <td>0</td>\n",
       "      <td>-0.879741</td>\n",
       "      <td>1</td>\n",
       "      <td>0</td>\n",
       "      <td>0</td>\n",
       "      <td>0</td>\n",
       "      <td>1</td>\n",
       "      <td>0</td>\n",
       "      <td>0</td>\n",
       "      <td>1</td>\n",
       "    </tr>\n",
       "    <tr>\n",
       "      <th>1</th>\n",
       "      <td>2</td>\n",
       "      <td>1</td>\n",
       "      <td>0</td>\n",
       "      <td>0.654030</td>\n",
       "      <td>1</td>\n",
       "      <td>0</td>\n",
       "      <td>1.361220</td>\n",
       "      <td>1</td>\n",
       "      <td>0</td>\n",
       "      <td>1</td>\n",
       "      <td>0</td>\n",
       "      <td>0</td>\n",
       "      <td>1</td>\n",
       "      <td>0</td>\n",
       "      <td>0</td>\n",
       "    </tr>\n",
       "    <tr>\n",
       "      <th>2</th>\n",
       "      <td>3</td>\n",
       "      <td>1</td>\n",
       "      <td>0</td>\n",
       "      <td>-0.250017</td>\n",
       "      <td>0</td>\n",
       "      <td>0</td>\n",
       "      <td>-0.798540</td>\n",
       "      <td>0</td>\n",
       "      <td>1</td>\n",
       "      <td>0</td>\n",
       "      <td>0</td>\n",
       "      <td>1</td>\n",
       "      <td>0</td>\n",
       "      <td>0</td>\n",
       "      <td>1</td>\n",
       "    </tr>\n",
       "    <tr>\n",
       "      <th>3</th>\n",
       "      <td>4</td>\n",
       "      <td>1</td>\n",
       "      <td>0</td>\n",
       "      <td>0.428018</td>\n",
       "      <td>1</td>\n",
       "      <td>0</td>\n",
       "      <td>1.062038</td>\n",
       "      <td>1</td>\n",
       "      <td>0</td>\n",
       "      <td>0</td>\n",
       "      <td>0</td>\n",
       "      <td>1</td>\n",
       "      <td>1</td>\n",
       "      <td>0</td>\n",
       "      <td>0</td>\n",
       "    </tr>\n",
       "    <tr>\n",
       "      <th>4</th>\n",
       "      <td>5</td>\n",
       "      <td>0</td>\n",
       "      <td>1</td>\n",
       "      <td>0.428018</td>\n",
       "      <td>0</td>\n",
       "      <td>0</td>\n",
       "      <td>-0.784179</td>\n",
       "      <td>0</td>\n",
       "      <td>1</td>\n",
       "      <td>0</td>\n",
       "      <td>0</td>\n",
       "      <td>1</td>\n",
       "      <td>0</td>\n",
       "      <td>0</td>\n",
       "      <td>1</td>\n",
       "    </tr>\n",
       "    <tr>\n",
       "      <th>...</th>\n",
       "      <td>...</td>\n",
       "      <td>...</td>\n",
       "      <td>...</td>\n",
       "      <td>...</td>\n",
       "      <td>...</td>\n",
       "      <td>...</td>\n",
       "      <td>...</td>\n",
       "      <td>...</td>\n",
       "      <td>...</td>\n",
       "      <td>...</td>\n",
       "      <td>...</td>\n",
       "      <td>...</td>\n",
       "      <td>...</td>\n",
       "      <td>...</td>\n",
       "      <td>...</td>\n",
       "    </tr>\n",
       "    <tr>\n",
       "      <th>886</th>\n",
       "      <td>887</td>\n",
       "      <td>0</td>\n",
       "      <td>1</td>\n",
       "      <td>-0.174680</td>\n",
       "      <td>0</td>\n",
       "      <td>0</td>\n",
       "      <td>-0.333698</td>\n",
       "      <td>0</td>\n",
       "      <td>1</td>\n",
       "      <td>0</td>\n",
       "      <td>0</td>\n",
       "      <td>1</td>\n",
       "      <td>0</td>\n",
       "      <td>1</td>\n",
       "      <td>0</td>\n",
       "    </tr>\n",
       "    <tr>\n",
       "      <th>887</th>\n",
       "      <td>888</td>\n",
       "      <td>1</td>\n",
       "      <td>0</td>\n",
       "      <td>-0.777378</td>\n",
       "      <td>0</td>\n",
       "      <td>0</td>\n",
       "      <td>0.487082</td>\n",
       "      <td>0</td>\n",
       "      <td>1</td>\n",
       "      <td>0</td>\n",
       "      <td>0</td>\n",
       "      <td>1</td>\n",
       "      <td>1</td>\n",
       "      <td>0</td>\n",
       "      <td>0</td>\n",
       "    </tr>\n",
       "    <tr>\n",
       "      <th>888</th>\n",
       "      <td>889</td>\n",
       "      <td>0</td>\n",
       "      <td>0</td>\n",
       "      <td>-0.570201</td>\n",
       "      <td>1</td>\n",
       "      <td>2</td>\n",
       "      <td>0.242007</td>\n",
       "      <td>3</td>\n",
       "      <td>0</td>\n",
       "      <td>0</td>\n",
       "      <td>0</td>\n",
       "      <td>1</td>\n",
       "      <td>0</td>\n",
       "      <td>0</td>\n",
       "      <td>1</td>\n",
       "    </tr>\n",
       "    <tr>\n",
       "      <th>889</th>\n",
       "      <td>890</td>\n",
       "      <td>1</td>\n",
       "      <td>1</td>\n",
       "      <td>-0.250017</td>\n",
       "      <td>0</td>\n",
       "      <td>0</td>\n",
       "      <td>0.487082</td>\n",
       "      <td>0</td>\n",
       "      <td>1</td>\n",
       "      <td>1</td>\n",
       "      <td>0</td>\n",
       "      <td>0</td>\n",
       "      <td>1</td>\n",
       "      <td>0</td>\n",
       "      <td>0</td>\n",
       "    </tr>\n",
       "    <tr>\n",
       "      <th>890</th>\n",
       "      <td>891</td>\n",
       "      <td>0</td>\n",
       "      <td>1</td>\n",
       "      <td>0.202006</td>\n",
       "      <td>0</td>\n",
       "      <td>0</td>\n",
       "      <td>-0.818987</td>\n",
       "      <td>0</td>\n",
       "      <td>1</td>\n",
       "      <td>0</td>\n",
       "      <td>1</td>\n",
       "      <td>0</td>\n",
       "      <td>0</td>\n",
       "      <td>0</td>\n",
       "      <td>1</td>\n",
       "    </tr>\n",
       "  </tbody>\n",
       "</table>\n",
       "<p>891 rows × 15 columns</p>\n",
       "</div>"
      ],
      "text/plain": [
       "     PassengerId  Survived  Sex       Age  SibSp  Parch      Fare  FamilySize  \\\n",
       "0              1         0    1 -0.551366      1      0 -0.879741           1   \n",
       "1              2         1    0  0.654030      1      0  1.361220           1   \n",
       "2              3         1    0 -0.250017      0      0 -0.798540           0   \n",
       "3              4         1    0  0.428018      1      0  1.062038           1   \n",
       "4              5         0    1  0.428018      0      0 -0.784179           0   \n",
       "..           ...       ...  ...       ...    ...    ...       ...         ...   \n",
       "886          887         0    1 -0.174680      0      0 -0.333698           0   \n",
       "887          888         1    0 -0.777378      0      0  0.487082           0   \n",
       "888          889         0    0 -0.570201      1      2  0.242007           3   \n",
       "889          890         1    1 -0.250017      0      0  0.487082           0   \n",
       "890          891         0    1  0.202006      0      0 -0.818987           0   \n",
       "\n",
       "     IsAlone  Embarked_C  Embarked_Q  Embarked_S  Pclass_1  Pclass_2  Pclass_3  \n",
       "0          0           0           0           1         0         0         1  \n",
       "1          0           1           0           0         1         0         0  \n",
       "2          1           0           0           1         0         0         1  \n",
       "3          0           0           0           1         1         0         0  \n",
       "4          1           0           0           1         0         0         1  \n",
       "..       ...         ...         ...         ...       ...       ...       ...  \n",
       "886        1           0           0           1         0         1         0  \n",
       "887        1           0           0           1         1         0         0  \n",
       "888        0           0           0           1         0         0         1  \n",
       "889        1           1           0           0         1         0         0  \n",
       "890        1           0           1           0         0         0         1  \n",
       "\n",
       "[891 rows x 15 columns]"
      ]
     },
     "execution_count": 66,
     "metadata": {},
     "output_type": "execute_result"
    }
   ],
   "source": [
    "df"
   ]
  },
  {
   "cell_type": "code",
   "execution_count": 67,
   "id": "52e9841b-0a6a-4b22-8aba-f2f80f88f8ba",
   "metadata": {},
   "outputs": [
    {
     "data": {
      "text/plain": [
       "<Axes: ylabel='Frequency'>"
      ]
     },
     "execution_count": 67,
     "metadata": {},
     "output_type": "execute_result"
    },
    {
     "data": {
      "image/png": "[encoded data removed]",
      "text/plain": [
       "<Figure size 640x480 with 1 Axes>"
      ]
     },
     "metadata": {},
     "output_type": "display_data"
    }
   ],
   "source": [
    "df[\"Age\"].plot(kind=\"hist\")"
   ]
  },
  {
   "cell_type": "code",
   "execution_count": 68,
   "id": "fdff4744-9c56-44f2-9b3a-038310e93aca",
   "metadata": {},
   "outputs": [
    {
     "data": {
      "text/plain": [
       "<Axes: ylabel='Frequency'>"
      ]
     },
     "execution_count": 68,
     "metadata": {},
     "output_type": "execute_result"
    },
    {
     "data": {
      "image/png": "[encoded data removed]",
      "text/plain": [
       "<Figure size 640x480 with 1 Axes>"
      ]
     },
     "metadata": {},
     "output_type": "display_data"
    }
   ],
   "source": [
    "df[\"Fare\"].plot(kind=\"hist\")"
   ]
  },
  {
   "cell_type": "code",
   "execution_count": 69,
   "id": "89e33e3d-af8e-4f78-ad39-b1cabf66a10a",
   "metadata": {},
   "outputs": [],
   "source": [
    "df[[\"SibSp\", \"Parch\", \"FamilySize\"]] = minmax_scaler.fit_transform(df[[\"SibSp\", \"Parch\", \"FamilySize\"]])"
   ]
  },
  {
   "cell_type": "code",
   "execution_count": 70,
   "id": "e3cff891-8788-426f-bf50-54094178bc3c",
   "metadata": {},
   "outputs": [
    {
     "data": {
      "text/html": [
       "<div>\n",
       "<style scoped>\n",
       "    .dataframe tbody tr th:only-of-type {\n",
       "        vertical-align: middle;\n",
       "    }\n",
       "\n",
       "    .dataframe tbody tr th {\n",
       "        vertical-align: top;\n",
       "    }\n",
       "\n",
       "    .dataframe thead th {\n",
       "        text-align: right;\n",
       "    }\n",
       "</style>\n",
       "<table border=\"1\" class=\"dataframe\">\n",
       "  <thead>\n",
       "    <tr style=\"text-align: right;\">\n",
       "      <th></th>\n",
       "      <th>PassengerId</th>\n",
       "      <th>Survived</th>\n",
       "      <th>Sex</th>\n",
       "      <th>Age</th>\n",
       "      <th>SibSp</th>\n",
       "      <th>Parch</th>\n",
       "      <th>Fare</th>\n",
       "      <th>FamilySize</th>\n",
       "      <th>IsAlone</th>\n",
       "      <th>Embarked_C</th>\n",
       "      <th>Embarked_Q</th>\n",
       "      <th>Embarked_S</th>\n",
       "      <th>Pclass_1</th>\n",
       "      <th>Pclass_2</th>\n",
       "      <th>Pclass_3</th>\n",
       "    </tr>\n",
       "  </thead>\n",
       "  <tbody>\n",
       "    <tr>\n",
       "      <th>0</th>\n",
       "      <td>1</td>\n",
       "      <td>0</td>\n",
       "      <td>1</td>\n",
       "      <td>-0.551366</td>\n",
       "      <td>0.125</td>\n",
       "      <td>0.000000</td>\n",
       "      <td>-0.879741</td>\n",
       "      <td>0.1</td>\n",
       "      <td>0</td>\n",
       "      <td>0</td>\n",
       "      <td>0</td>\n",
       "      <td>1</td>\n",
       "      <td>0</td>\n",
       "      <td>0</td>\n",
       "      <td>1</td>\n",
       "    </tr>\n",
       "    <tr>\n",
       "      <th>1</th>\n",
       "      <td>2</td>\n",
       "      <td>1</td>\n",
       "      <td>0</td>\n",
       "      <td>0.654030</td>\n",
       "      <td>0.125</td>\n",
       "      <td>0.000000</td>\n",
       "      <td>1.361220</td>\n",
       "      <td>0.1</td>\n",
       "      <td>0</td>\n",
       "      <td>1</td>\n",
       "      <td>0</td>\n",
       "      <td>0</td>\n",
       "      <td>1</td>\n",
       "      <td>0</td>\n",
       "      <td>0</td>\n",
       "    </tr>\n",
       "    <tr>\n",
       "      <th>2</th>\n",
       "      <td>3</td>\n",
       "      <td>1</td>\n",
       "      <td>0</td>\n",
       "      <td>-0.250017</td>\n",
       "      <td>0.000</td>\n",
       "      <td>0.000000</td>\n",
       "      <td>-0.798540</td>\n",
       "      <td>0.0</td>\n",
       "      <td>1</td>\n",
       "      <td>0</td>\n",
       "      <td>0</td>\n",
       "      <td>1</td>\n",
       "      <td>0</td>\n",
       "      <td>0</td>\n",
       "      <td>1</td>\n",
       "    </tr>\n",
       "    <tr>\n",
       "      <th>3</th>\n",
       "      <td>4</td>\n",
       "      <td>1</td>\n",
       "      <td>0</td>\n",
       "      <td>0.428018</td>\n",
       "      <td>0.125</td>\n",
       "      <td>0.000000</td>\n",
       "      <td>1.062038</td>\n",
       "      <td>0.1</td>\n",
       "      <td>0</td>\n",
       "      <td>0</td>\n",
       "      <td>0</td>\n",
       "      <td>1</td>\n",
       "      <td>1</td>\n",
       "      <td>0</td>\n",
       "      <td>0</td>\n",
       "    </tr>\n",
       "    <tr>\n",
       "      <th>4</th>\n",
       "      <td>5</td>\n",
       "      <td>0</td>\n",
       "      <td>1</td>\n",
       "      <td>0.428018</td>\n",
       "      <td>0.000</td>\n",
       "      <td>0.000000</td>\n",
       "      <td>-0.784179</td>\n",
       "      <td>0.0</td>\n",
       "      <td>1</td>\n",
       "      <td>0</td>\n",
       "      <td>0</td>\n",
       "      <td>1</td>\n",
       "      <td>0</td>\n",
       "      <td>0</td>\n",
       "      <td>1</td>\n",
       "    </tr>\n",
       "    <tr>\n",
       "      <th>...</th>\n",
       "      <td>...</td>\n",
       "      <td>...</td>\n",
       "      <td>...</td>\n",
       "      <td>...</td>\n",
       "      <td>...</td>\n",
       "      <td>...</td>\n",
       "      <td>...</td>\n",
       "      <td>...</td>\n",
       "      <td>...</td>\n",
       "      <td>...</td>\n",
       "      <td>...</td>\n",
       "      <td>...</td>\n",
       "      <td>...</td>\n",
       "      <td>...</td>\n",
       "      <td>...</td>\n",
       "    </tr>\n",
       "    <tr>\n",
       "      <th>886</th>\n",
       "      <td>887</td>\n",
       "      <td>0</td>\n",
       "      <td>1</td>\n",
       "      <td>-0.174680</td>\n",
       "      <td>0.000</td>\n",
       "      <td>0.000000</td>\n",
       "      <td>-0.333698</td>\n",
       "      <td>0.0</td>\n",
       "      <td>1</td>\n",
       "      <td>0</td>\n",
       "      <td>0</td>\n",
       "      <td>1</td>\n",
       "      <td>0</td>\n",
       "      <td>1</td>\n",
       "      <td>0</td>\n",
       "    </tr>\n",
       "    <tr>\n",
       "      <th>887</th>\n",
       "      <td>888</td>\n",
       "      <td>1</td>\n",
       "      <td>0</td>\n",
       "      <td>-0.777378</td>\n",
       "      <td>0.000</td>\n",
       "      <td>0.000000</td>\n",
       "      <td>0.487082</td>\n",
       "      <td>0.0</td>\n",
       "      <td>1</td>\n",
       "      <td>0</td>\n",
       "      <td>0</td>\n",
       "      <td>1</td>\n",
       "      <td>1</td>\n",
       "      <td>0</td>\n",
       "      <td>0</td>\n",
       "    </tr>\n",
       "    <tr>\n",
       "      <th>888</th>\n",
       "      <td>889</td>\n",
       "      <td>0</td>\n",
       "      <td>0</td>\n",
       "      <td>-0.570201</td>\n",
       "      <td>0.125</td>\n",
       "      <td>0.333333</td>\n",
       "      <td>0.242007</td>\n",
       "      <td>0.3</td>\n",
       "      <td>0</td>\n",
       "      <td>0</td>\n",
       "      <td>0</td>\n",
       "      <td>1</td>\n",
       "      <td>0</td>\n",
       "      <td>0</td>\n",
       "      <td>1</td>\n",
       "    </tr>\n",
       "    <tr>\n",
       "      <th>889</th>\n",
       "      <td>890</td>\n",
       "      <td>1</td>\n",
       "      <td>1</td>\n",
       "      <td>-0.250017</td>\n",
       "      <td>0.000</td>\n",
       "      <td>0.000000</td>\n",
       "      <td>0.487082</td>\n",
       "      <td>0.0</td>\n",
       "      <td>1</td>\n",
       "      <td>1</td>\n",
       "      <td>0</td>\n",
       "      <td>0</td>\n",
       "      <td>1</td>\n",
       "      <td>0</td>\n",
       "      <td>0</td>\n",
       "    </tr>\n",
       "    <tr>\n",
       "      <th>890</th>\n",
       "      <td>891</td>\n",
       "      <td>0</td>\n",
       "      <td>1</td>\n",
       "      <td>0.202006</td>\n",
       "      <td>0.000</td>\n",
       "      <td>0.000000</td>\n",
       "      <td>-0.818987</td>\n",
       "      <td>0.0</td>\n",
       "      <td>1</td>\n",
       "      <td>0</td>\n",
       "      <td>1</td>\n",
       "      <td>0</td>\n",
       "      <td>0</td>\n",
       "      <td>0</td>\n",
       "      <td>1</td>\n",
       "    </tr>\n",
       "  </tbody>\n",
       "</table>\n",
       "<p>891 rows × 15 columns</p>\n",
       "</div>"
      ],
      "text/plain": [
       "     PassengerId  Survived  Sex       Age  SibSp     Parch      Fare  \\\n",
       "0              1         0    1 -0.551366  0.125  0.000000 -0.879741   \n",
       "1              2         1    0  0.654030  0.125  0.000000  1.361220   \n",
       "2              3         1    0 -0.250017  0.000  0.000000 -0.798540   \n",
       "3              4         1    0  0.428018  0.125  0.000000  1.062038   \n",
       "4              5         0    1  0.428018  0.000  0.000000 -0.784179   \n",
       "..           ...       ...  ...       ...    ...       ...       ...   \n",
       "886          887         0    1 -0.174680  0.000  0.000000 -0.333698   \n",
       "887          888         1    0 -0.777378  0.000  0.000000  0.487082   \n",
       "888          889         0    0 -0.570201  0.125  0.333333  0.242007   \n",
       "889          890         1    1 -0.250017  0.000  0.000000  0.487082   \n",
       "890          891         0    1  0.202006  0.000  0.000000 -0.818987   \n",
       "\n",
       "     FamilySize  IsAlone  Embarked_C  Embarked_Q  Embarked_S  Pclass_1  \\\n",
       "0           0.1        0           0           0           1         0   \n",
       "1           0.1        0           1           0           0         1   \n",
       "2           0.0        1           0           0           1         0   \n",
       "3           0.1        0           0           0           1         1   \n",
       "4           0.0        1           0           0           1         0   \n",
       "..          ...      ...         ...         ...         ...       ...   \n",
       "886         0.0        1           0           0           1         0   \n",
       "887         0.0        1           0           0           1         1   \n",
       "888         0.3        0           0           0           1         0   \n",
       "889         0.0        1           1           0           0         1   \n",
       "890         0.0        1           0           1           0         0   \n",
       "\n",
       "     Pclass_2  Pclass_3  \n",
       "0           0         1  \n",
       "1           0         0  \n",
       "2           0         1  \n",
       "3           0         0  \n",
       "4           0         1  \n",
       "..        ...       ...  \n",
       "886         1         0  \n",
       "887         0         0  \n",
       "888         0         1  \n",
       "889         0         0  \n",
       "890         0         1  \n",
       "\n",
       "[891 rows x 15 columns]"
      ]
     },
     "execution_count": 70,
     "metadata": {},
     "output_type": "execute_result"
    }
   ],
   "source": [
    "df"
   ]
  },
  {
   "cell_type": "code",
   "execution_count": 71,
   "id": "01345467-ae2d-4f02-b6e0-33c4df15267f",
   "metadata": {},
   "outputs": [
    {
     "data": {
      "text/plain": [
       "<Axes: ylabel='Frequency'>"
      ]
     },
     "execution_count": 71,
     "metadata": {},
     "output_type": "execute_result"
    },
    {
     "data": {
      "image/png": "[encoded data removed]",
      "text/plain": [
       "<Figure size 640x480 with 1 Axes>"
      ]
     },
     "metadata": {},
     "output_type": "display_data"
    }
   ],
   "source": [
    "df[\"SibSp\"].plot(kind=\"hist\")"
   ]
  },
  {
   "cell_type": "code",
   "execution_count": 72,
   "id": "0ddbde8c-4e02-4aeb-b60c-7e86d486d408",
   "metadata": {},
   "outputs": [
    {
     "data": {
      "text/plain": [
       "<Axes: ylabel='Frequency'>"
      ]
     },
     "execution_count": 72,
     "metadata": {},
     "output_type": "execute_result"
    },
    {
     "data": {
      "image/png": "[encoded data removed]",
      "text/plain": [
       "<Figure size 640x480 with 1 Axes>"
      ]
     },
     "metadata": {},
     "output_type": "display_data"
    }
   ],
   "source": [
    "df[\"Parch\"].plot(kind=\"hist\")"
   ]
  },
  {
   "cell_type": "code",
   "execution_count": 73,
   "id": "45bd397d-061c-4f28-ac2c-e967fca606af",
   "metadata": {},
   "outputs": [
    {
     "data": {
      "text/plain": [
       "<Axes: ylabel='Frequency'>"
      ]
     },
     "execution_count": 73,
     "metadata": {},
     "output_type": "execute_result"
    },
    {
     "data": {
      "image/png": "[encoded data removed]",
      "text/plain": [
       "<Figure size 640x480 with 1 Axes>"
      ]
     },
     "metadata": {},
     "output_type": "display_data"
    }
   ],
   "source": [
    "df[\"FamilySize\"].plot(kind=\"hist\")"
   ]
  },
  {
   "cell_type": "markdown",
   "id": "7e655b58-febd-436f-9d0d-b71fa0a71262",
   "metadata": {},
   "source": [
    "### scaler 저장\n",
    "앞서 사용한 scaler들은 train 데이터 셋에 맞게 피팅 시켜놓은 것들입니다. 이를 추후 test set에도 사용하기 위해 python pickle을 이용하여 객체의 상태를 저장하겠습니다."
   ]
  },
  {
   "cell_type": "code",
   "execution_count": 74,
   "id": "c8081db5-f4ed-4204-8667-0def0c66a524",
   "metadata": {},
   "outputs": [],
   "source": [
    "import pickle"
   ]
  },
  {
   "cell_type": "code",
   "execution_count": 75,
   "id": "2abd41dc-3f7a-456a-b2f7-c24340f51601",
   "metadata": {},
   "outputs": [],
   "source": [
    "with open(\"./data/standard_scaler.pkl\", \"wb\") as fw:\n",
    "    pickle.dump(standard_scaler, fw)"
   ]
  },
  {
   "cell_type": "code",
   "execution_count": 76,
   "id": "1d6b2fa2-3455-4665-8316-ef9c06c88f6d",
   "metadata": {},
   "outputs": [],
   "source": [
    "with open(\"./data/minmax_scaler.pkl\", \"wb\") as fw:\n",
    "    pickle.dump(minmax_scaler, fw)"
   ]
  },
  {
   "cell_type": "markdown",
   "id": "a118b96a-9357-4a9d-9645-2cb87517f87c",
   "metadata": {},
   "source": [
    "standard scaler를 적용하면 값들의 부호가 + 혹은 -가 섞여있습니다만 이는 모델 학습시에 크게 고려하지 않아도 괜찮습니다.\n",
    "\n",
    "누누이 말씀드리지만 정답이 정해져있는 분야가 아닙니다. Age 컬럼에 standard scaler를 적용해도 괜찮고, Fare 컬럼에 min-max scaler를 적용해도 괜찮습니다. 다른 스케일링 기법이 적합해보인다면 적용해보고, 실제로 효과가 있는지 확인해보면 됩니다. 머신러닝이라는 분야가 경험적으로 이렇게 하면 잘되더라 식으로 발전한 면이 많기 때문에 모든 것이 명확하게 딱 떨어지지 않을 수 있습니다."
   ]
  },
  {
   "cell_type": "code",
   "execution_count": 55,
   "id": "34720905-9bf9-4a8f-a968-6342625733db",
   "metadata": {},
   "outputs": [],
   "source": [
    "df.to_csv(\"./data/titanic_train_preprocessed.csv\", index=False)"
   ]
  },
  {
   "cell_type": "markdown",
   "id": "85ca918e-dc63-453a-97d5-ceb54109c414",
   "metadata": {},
   "source": [
    "## 정리\n",
    "지금까지 연속형 확률변수의 전처리를 진행해보았습니다. 먼저 분포를 시각화하고, 지나치게 쏠림 현상이 있으면 log scale을 적용해주었습니다. 그 다음 standard scaler와 minmax scaler를 적용하여 값들의 범위를 조정하였습니다.\n",
    "\n",
    "이것으로 타이타닉 생존자 데이터 셋의 전처리를 마쳤습니다. 꽤나 복잡한 과정을 거쳤는데요, 실제 코드 자체는 몇줄 되지 않습니다. 다음 챕터에서는 이를 함수로 깔끔하게 정리하고 train set과 test set을 전처리하여 저장해보겠습니다."
   ]
  },
  {
   "cell_type": "code",
   "execution_count": null,
   "id": "1af53c6e-fad0-46d2-b21d-bfac4b2b7caa",
   "metadata": {},
   "outputs": [],
   "source": []
  }
 ],
 "metadata": {
  "kernelspec": {
   "display_name": "Python 3 (ipykernel)",
   "language": "python",
   "name": "python3"
  },
  "language_info": {
   "codemirror_mode": {
    "name": "ipython",
    "version": 3
   },
   "file_extension": ".py",
   "mimetype": "text/x-python",
   "name": "python",
   "nbconvert_exporter": "python",
   "pygments_lexer": "ipython3",
   "version": "3.10.8"
  }
 },
 "nbformat": 4,
 "nbformat_minor": 5
}
