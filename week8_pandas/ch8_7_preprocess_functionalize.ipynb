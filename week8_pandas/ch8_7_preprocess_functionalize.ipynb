{
 "cells": [
  {
   "cell_type": "markdown",
   "id": "7fe6454c-dd67-4014-a0a3-a5a5252b8cd0",
   "metadata": {},
   "source": [
    "# ch8_7 전처리 과정 함수화\n",
    "이전 챕터에서 스텝 바이 스텝으로 train 데이터 프레임 전처리 과정을 살펴보았습니다. 그런데 우리가 전처리 해야할 데이터 프레임은 test도 있습니다. 그렇다면 전처리 과정을 함수로 예쁘게 코딩해놓으면 편리하겠죠? 이번 챕터에서는 전처리 과정을 함수화 하고, train과 test 데이터 셋을 전처리하여 파일로 저장해보겠습니다."
   ]
  },
  {
   "cell_type": "code",
   "execution_count": 1,
   "id": "b407d6f5-8a6a-4f85-b1b8-dda3f5d03b5f",
   "metadata": {},
   "outputs": [],
   "source": [
    "import pandas as pd\n",
    "import numpy as np"
   ]
  },
  {
   "cell_type": "code",
   "execution_count": null,
   "id": "705f7e41-efc8-4afb-bf93-586fdf095030",
   "metadata": {},
   "outputs": [],
   "source": []
  },
  {
   "cell_type": "markdown",
   "id": "ebe56d42-07f7-45f7-bf98-0a2fd402d9d8",
   "metadata": {},
   "source": [
    "## 정리\n",
    "이번 챕터에서는 전처리 과정을 함수화 했습니다. 그 과정에서 편의성을 위해 미리 파일로 저장해두었던 scaler들을 pickle을 이용해서 불러오는 방법을 익혀보았습니다. 다음 챕터에서는 본격적으로 전처리한 데이터를 가지고 상관관계도 분석해보고, 예측 모델도 만들어보겠습니다. "
   ]
  },
  {
   "cell_type": "code",
   "execution_count": null,
   "id": "0c2c2b7b-3d60-487d-8f7d-1c3a3dfc8d44",
   "metadata": {},
   "outputs": [],
   "source": []
  }
 ],
 "metadata": {
  "kernelspec": {
   "display_name": "Python 3 (ipykernel)",
   "language": "python",
   "name": "python3"
  },
  "language_info": {
   "codemirror_mode": {
    "name": "ipython",
    "version": 3
   },
   "file_extension": ".py",
   "mimetype": "text/x-python",
   "name": "python",
   "nbconvert_exporter": "python",
   "pygments_lexer": "ipython3",
   "version": "3.10.8"
  }
 },
 "nbformat": 4,
 "nbformat_minor": 5
}
