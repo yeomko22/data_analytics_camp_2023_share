{
 "cells": [
  {
   "cell_type": "markdown",
   "id": "3a9caa75-cb46-4649-b335-3f1a3f344682",
   "metadata": {},
   "source": [
    "## ch8_2 pandas dataframe\n",
    "이번 챕터에서는 본격적으로 여러 컬럼과 로우가 들어있는 테이블 데이터를 pandas dataframe을 사용하여 다뤄보겠습니다. 먼저 아래 링크로 들어가서 음악 스트리밍 서비스 spotify가 공개한 2019년 가장 많이 스트리밍 된 트랙 데이터 셋을 다운 받아서 data 폴더 아래에 위치시키겠습니다. 파일 이름이 길어서 \"spotify_2019.csv\"로 변경하겠습니다.\n",
    "\n",
    "데이터 셋: https://www.kaggle.com/datasets/prasertk/spotify-global-2019-moststreamed-tracks"
   ]
  },
  {
   "cell_type": "markdown",
   "id": "264a6483-8607-4264-acb4-814f18c846d0",
   "metadata": {},
   "source": [
    "### csv 파일로부터 dataframe 생성하기\n",
    "pd.read_csv 함수를 사용하면 csv 파일의 데이터를 읽어서 pandas dataframe을 생성합니다. 살펴보면 2019년 가장 많이 스트리밍 된 트랙 1714개에 대해서 아티스트, 스트리밍 횟수 등의 정보를 알려줍니다."
   ]
  },
  {
   "cell_type": "code",
   "execution_count": 1,
   "id": "dffba0d9-ee74-4999-b7c6-1ad2a5f8005a",
   "metadata": {},
   "outputs": [],
   "source": [
    "import pandas as pd"
   ]
  },
  {
   "cell_type": "code",
   "execution_count": 3,
   "id": "4410c32b-c853-4428-abfc-8b32d4c23342",
   "metadata": {},
   "outputs": [],
   "source": [
    "df = pd.read_csv(\"./data/spotify_2019.csv\")"
   ]
  },
  {
   "cell_type": "markdown",
   "id": "95121f33-1b66-4bc8-bf27-b86ba4e3e81b",
   "metadata": {},
   "source": [
    "### dataframe에 들어있는 값 일부 확인하기\n",
    "df를 그대로 출력해도 jupyter notebook 상에서는 데이터를 확인할 수 있다. df.head나 df.tail을 이용할 경우, 데이터 프레임의 맨 앞 행들 혹은 맨 마지막 행들을 확인할 수 있다."
   ]
  },
  {
   "cell_type": "code",
   "execution_count": null,
   "id": "ff1a24ab-bcda-4f23-b81d-1c08905f9b8a",
   "metadata": {},
   "outputs": [],
   "source": []
  },
  {
   "cell_type": "markdown",
   "id": "f95cffb7-3105-4d2b-a015-bb6016ffe9cc",
   "metadata": {},
   "source": [
    "### dataframe 기본 정보 확인하기\n",
    "pandas는 dataframe에 포함된 데이터들을 살펴보는데 편리한 기능들을 제공해줍니다. \n",
    "\n",
    "먼저 간단히 데이터 프레임에 행이 몇개고, 컬럼이 몇개인지를 알고 싶으면 df.shape를 사용합니다."
   ]
  },
  {
   "cell_type": "code",
   "execution_count": null,
   "id": "8a9a6a97-319a-4a28-8f59-a2a9c9da4152",
   "metadata": {},
   "outputs": [],
   "source": []
  },
  {
   "cell_type": "markdown",
   "id": "ce2d1058-afe1-413a-8028-ceab526c64f9",
   "metadata": {},
   "source": [
    "다음으로 df.info()를 사용하면 데이터 프레임에 어떤 컬럼들이 있고, 각각의 데이터 타입은 어떤지 알 수 있습니다."
   ]
  },
  {
   "cell_type": "code",
   "execution_count": null,
   "id": "a70929da-7b99-4839-9d98-f767e5398b3c",
   "metadata": {},
   "outputs": [],
   "source": []
  },
  {
   "cell_type": "markdown",
   "id": "40cedd23-e339-4883-b2fa-7a07a46598a8",
   "metadata": {},
   "source": [
    "다음으로 df.describe()를 이용하여 각 컬럼별로 최소값과 최대값, 평균, 분산 등 기초 통계량을 계산해보겠습니다. 이를 통해서 아주 기본적인 데이터 분석을 진행할 수 있습니다."
   ]
  },
  {
   "cell_type": "code",
   "execution_count": null,
   "id": "d3027269-929e-4942-8769-52ecbe598b6f",
   "metadata": {},
   "outputs": [],
   "source": []
  },
  {
   "cell_type": "markdown",
   "id": "6734cc2b-60f0-4fbf-8519-8c6351f1dc9c",
   "metadata": {},
   "source": [
    "### column 명으로 데이터 조회"
   ]
  },
  {
   "cell_type": "code",
   "execution_count": null,
   "id": "c8b55033-edc2-4636-85f9-d598893400bb",
   "metadata": {},
   "outputs": [],
   "source": []
  },
  {
   "cell_type": "markdown",
   "id": "a8f7d8d6-5382-4fa2-ad53-8b4ba39d4b7d",
   "metadata": {},
   "source": [
    "### dataframe iloc\n",
    "iloc은 integer location의 약자로, 정수 인덱스를 사용하여 특정 row와 column을 가져올 수 있습니다."
   ]
  },
  {
   "cell_type": "code",
   "execution_count": null,
   "id": "2b348a50-9ea2-4fda-b069-d48bb3800bac",
   "metadata": {},
   "outputs": [],
   "source": []
  },
  {
   "cell_type": "markdown",
   "id": "a73eee72-c3af-44c2-b6dd-76ebe8692ba2",
   "metadata": {},
   "source": [
    "iloc과 slicing을 같이 사용하면 데이터프레임의 특정 범위를 가져올 수 있습니다."
   ]
  },
  {
   "cell_type": "code",
   "execution_count": null,
   "id": "3adfa55c-17f9-4d89-9c2c-8efa8f2c74ef",
   "metadata": {},
   "outputs": [],
   "source": []
  },
  {
   "cell_type": "markdown",
   "id": "32695c66-17ac-4586-a2d7-fa43ed87fa87",
   "metadata": {},
   "source": [
    "### 연습문제\n",
    "현재 dataframe은 스트리밍 횟수를 기준으로 내림차순 정렬이 된 상태입니다. 스트리밍 횟수 순위가 10위부터 19위인 트랙들의 트랙 이름, 아티스트, 스트리밍 횟수를 가져오세요."
   ]
  },
  {
   "cell_type": "code",
   "execution_count": 14,
   "id": "70614c73-54c8-4a09-87d7-55419e4e73e6",
   "metadata": {},
   "outputs": [
    {
     "data": {
      "text/html": [
       "<div>\n",
       "<style scoped>\n",
       "    .dataframe tbody tr th:only-of-type {\n",
       "        vertical-align: middle;\n",
       "    }\n",
       "\n",
       "    .dataframe tbody tr th {\n",
       "        vertical-align: top;\n",
       "    }\n",
       "\n",
       "    .dataframe thead th {\n",
       "        text-align: right;\n",
       "    }\n",
       "</style>\n",
       "<table border=\"1\" class=\"dataframe\">\n",
       "  <thead>\n",
       "    <tr style=\"text-align: right;\">\n",
       "      <th></th>\n",
       "      <th>Track Name</th>\n",
       "      <th>Artist</th>\n",
       "      <th>Streams</th>\n",
       "    </tr>\n",
       "  </thead>\n",
       "  <tbody>\n",
       "    <tr>\n",
       "      <th>10</th>\n",
       "      <td>Without Me</td>\n",
       "      <td>Halsey</td>\n",
       "      <td>605653817</td>\n",
       "    </tr>\n",
       "    <tr>\n",
       "      <th>11</th>\n",
       "      <td>Calma - Remix</td>\n",
       "      <td>Pedro Capó</td>\n",
       "      <td>591435651</td>\n",
       "    </tr>\n",
       "    <tr>\n",
       "      <th>12</th>\n",
       "      <td>Dancing With A Stranger (with Normani)</td>\n",
       "      <td>Sam Smith</td>\n",
       "      <td>560659214</td>\n",
       "    </tr>\n",
       "    <tr>\n",
       "      <th>13</th>\n",
       "      <td>Goodbyes (Feat. Young Thug)</td>\n",
       "      <td>Post Malone</td>\n",
       "      <td>501130662</td>\n",
       "    </tr>\n",
       "    <tr>\n",
       "      <th>14</th>\n",
       "      <td>Beautiful People (feat. Khalid)</td>\n",
       "      <td>Ed Sheeran</td>\n",
       "      <td>499741532</td>\n",
       "    </tr>\n",
       "    <tr>\n",
       "      <th>15</th>\n",
       "      <td>Old Town Road (feat. Billy Ray Cyrus) - Remix</td>\n",
       "      <td>Lil Nas X</td>\n",
       "      <td>490147372</td>\n",
       "    </tr>\n",
       "    <tr>\n",
       "      <th>16</th>\n",
       "      <td>China</td>\n",
       "      <td>Anuel AA</td>\n",
       "      <td>486837636</td>\n",
       "    </tr>\n",
       "    <tr>\n",
       "      <th>17</th>\n",
       "      <td>Callaita</td>\n",
       "      <td>Bad Bunny</td>\n",
       "      <td>478232047</td>\n",
       "    </tr>\n",
       "    <tr>\n",
       "      <th>18</th>\n",
       "      <td>MIDDLE CHILD</td>\n",
       "      <td>J. Cole</td>\n",
       "      <td>471425764</td>\n",
       "    </tr>\n",
       "    <tr>\n",
       "      <th>19</th>\n",
       "      <td>High Hopes</td>\n",
       "      <td>Panic! At The Disco</td>\n",
       "      <td>470921270</td>\n",
       "    </tr>\n",
       "  </tbody>\n",
       "</table>\n",
       "</div>"
      ],
      "text/plain": [
       "                                       Track Name               Artist  \\\n",
       "10                                     Without Me               Halsey   \n",
       "11                                  Calma - Remix           Pedro Capó   \n",
       "12         Dancing With A Stranger (with Normani)            Sam Smith   \n",
       "13                    Goodbyes (Feat. Young Thug)          Post Malone   \n",
       "14                Beautiful People (feat. Khalid)           Ed Sheeran   \n",
       "15  Old Town Road (feat. Billy Ray Cyrus) - Remix            Lil Nas X   \n",
       "16                                          China             Anuel AA   \n",
       "17                                       Callaita            Bad Bunny   \n",
       "18                                   MIDDLE CHILD              J. Cole   \n",
       "19                                     High Hopes  Panic! At The Disco   \n",
       "\n",
       "      Streams  \n",
       "10  605653817  \n",
       "11  591435651  \n",
       "12  560659214  \n",
       "13  501130662  \n",
       "14  499741532  \n",
       "15  490147372  \n",
       "16  486837636  \n",
       "17  478232047  \n",
       "18  471425764  \n",
       "19  470921270  "
      ]
     },
     "execution_count": 14,
     "metadata": {},
     "output_type": "execute_result"
    }
   ],
   "source": []
  },
  {
   "cell_type": "markdown",
   "id": "f614aa03-7248-4307-8c84-d8eae9e4ef36",
   "metadata": {},
   "source": []
  }
 ],
 "metadata": {
  "kernelspec": {
   "display_name": "Python 3 (ipykernel)",
   "language": "python",
   "name": "python3"
  },
  "language_info": {
   "codemirror_mode": {
    "name": "ipython",
    "version": 3
   },
   "file_extension": ".py",
   "mimetype": "text/x-python",
   "name": "python",
   "nbconvert_exporter": "python",
   "pygments_lexer": "ipython3",
   "version": "3.10.8"
  }
 },
 "nbformat": 4,
 "nbformat_minor": 5
}
