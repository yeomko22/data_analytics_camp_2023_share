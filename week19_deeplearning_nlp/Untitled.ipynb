{
 "cells": [
  {
   "cell_type": "code",
   "execution_count": 10,
   "id": "122f7b4b-d068-468a-b3d0-68021f0f2121",
   "metadata": {},
   "outputs": [],
   "source": [
    "from PIL import Image\n",
    "datadir = \"/Users/user/Downloads\"\n",
    "\n",
    "# List of image filenames to merge\n",
    "image_filenames = [\n",
    "    'attention_1.png', \n",
    "    'attention_2.png', \n",
    "    'attention_3.png', \n",
    "    'attention_4.png', \n",
    "    'attention_5.png', \n",
    "]\n",
    "# Open each image and append to a list\n",
    "images = [Image.open(f\"{datadir}/{filename}\") for filename in image_filenames]"
   ]
  },
  {
   "cell_type": "code",
   "execution_count": 11,
   "id": "f0c8029e-14c2-4fd8-8c1b-74242fa820aa",
   "metadata": {},
   "outputs": [],
   "source": [
    "images[0].save('merged.gif', save_all=True, append_images=images[1:], loop=0, duration=500)"
   ]
  },
  {
   "cell_type": "code",
   "execution_count": null,
   "id": "1acbcb49-6d14-42f0-b5a0-4e95bd29260b",
   "metadata": {},
   "outputs": [],
   "source": []
  }
 ],
 "metadata": {
  "kernelspec": {
   "display_name": "Python 3 (ipykernel)",
   "language": "python",
   "name": "python3"
  },
  "language_info": {
   "codemirror_mode": {
    "name": "ipython",
    "version": 3
   },
   "file_extension": ".py",
   "mimetype": "text/x-python",
   "name": "python",
   "nbconvert_exporter": "python",
   "pygments_lexer": "ipython3",
   "version": "3.10.8"
  }
 },
 "nbformat": 4,
 "nbformat_minor": 5
}
