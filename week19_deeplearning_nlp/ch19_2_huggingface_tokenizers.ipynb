{
 "cells": [
  {
   "cell_type": "markdown",
   "id": "b08f5510-1e26-4b95-b62e-22b79a61cd2f",
   "metadata": {},
   "source": [
    "# ch 19_2 huggingface tokenizers\n",
    "\n",
    "이번 챕터에서는 huggingface에서 제공하는 tokenizers 라이브러리를 이용해서 직접 corpus 데이터 셋을 가지고 subword tokenizer를 학습시켜 보겠습니다."
   ]
  },
  {
   "cell_type": "markdown",
   "id": "4c6f02dc-81d2-42d6-9431-8adaba8a0a97",
   "metadata": {},
   "source": [
    "## 데이터 셋 준비"
   ]
  },
  {
   "cell_type": "markdown",
   "id": "ee9efdff-2f2c-47f2-98b5-f23bbf22acb1",
   "metadata": {},
   "source": [
    "### 네이버 영화 리뷰 데이터 셋\n",
    "\n",
    "네이버 영화 리뷰 데이터 셋으로 간단히 학습을 진행해보겠습니다."
   ]
  },
  {
   "cell_type": "code",
   "execution_count": 215,
   "id": "f1d6ee99-31e8-4222-8408-623362be7632",
   "metadata": {},
   "outputs": [],
   "source": [
    "import pandas as pd"
   ]
  },
  {
   "cell_type": "code",
   "execution_count": 216,
   "id": "714e9a00-c221-4757-a2fa-2c93057bb958",
   "metadata": {},
   "outputs": [],
   "source": [
    "train_df = pd.read_csv(\"./data/naver_reviews_train.csv\")"
   ]
  },
  {
   "cell_type": "code",
   "execution_count": 217,
   "id": "0b62d5ae-82a2-48af-8749-18fc0267ab46",
   "metadata": {},
   "outputs": [
    {
     "data": {
      "text/html": [
       "<div>\n",
       "<style scoped>\n",
       "    .dataframe tbody tr th:only-of-type {\n",
       "        vertical-align: middle;\n",
       "    }\n",
       "\n",
       "    .dataframe tbody tr th {\n",
       "        vertical-align: top;\n",
       "    }\n",
       "\n",
       "    .dataframe thead th {\n",
       "        text-align: right;\n",
       "    }\n",
       "</style>\n",
       "<table border=\"1\" class=\"dataframe\">\n",
       "  <thead>\n",
       "    <tr style=\"text-align: right;\">\n",
       "      <th></th>\n",
       "      <th>document</th>\n",
       "      <th>label</th>\n",
       "    </tr>\n",
       "  </thead>\n",
       "  <tbody>\n",
       "    <tr>\n",
       "      <th>0</th>\n",
       "      <td>아 더빙.. 진짜 짜증나네요 목소리</td>\n",
       "      <td>0</td>\n",
       "    </tr>\n",
       "    <tr>\n",
       "      <th>1</th>\n",
       "      <td>흠...포스터보고 초딩영화줄....오버연기조차 가볍지 않구나</td>\n",
       "      <td>1</td>\n",
       "    </tr>\n",
       "    <tr>\n",
       "      <th>2</th>\n",
       "      <td>너무재밓었다그래서보는것을추천한다</td>\n",
       "      <td>0</td>\n",
       "    </tr>\n",
       "    <tr>\n",
       "      <th>3</th>\n",
       "      <td>교도소 이야기구먼 ..솔직히 재미는 없다..평점 조정</td>\n",
       "      <td>0</td>\n",
       "    </tr>\n",
       "    <tr>\n",
       "      <th>4</th>\n",
       "      <td>사이몬페그의 익살스런 연기가 돋보였던 영화!스파이더맨에서 늙어보이기만 했던 커스틴 ...</td>\n",
       "      <td>1</td>\n",
       "    </tr>\n",
       "    <tr>\n",
       "      <th>...</th>\n",
       "      <td>...</td>\n",
       "      <td>...</td>\n",
       "    </tr>\n",
       "    <tr>\n",
       "      <th>149995</th>\n",
       "      <td>인간이 문제지.. 소는 뭔죄인가..</td>\n",
       "      <td>0</td>\n",
       "    </tr>\n",
       "    <tr>\n",
       "      <th>149996</th>\n",
       "      <td>평점이 너무 낮아서...</td>\n",
       "      <td>1</td>\n",
       "    </tr>\n",
       "    <tr>\n",
       "      <th>149997</th>\n",
       "      <td>이게 뭐요? 한국인은 거들먹거리고 필리핀 혼혈은 착하다?</td>\n",
       "      <td>0</td>\n",
       "    </tr>\n",
       "    <tr>\n",
       "      <th>149998</th>\n",
       "      <td>청춘 영화의 최고봉.방황과 우울했던 날들의 자화상</td>\n",
       "      <td>1</td>\n",
       "    </tr>\n",
       "    <tr>\n",
       "      <th>149999</th>\n",
       "      <td>한국 영화 최초로 수간하는 내용이 담긴 영화</td>\n",
       "      <td>0</td>\n",
       "    </tr>\n",
       "  </tbody>\n",
       "</table>\n",
       "<p>150000 rows × 2 columns</p>\n",
       "</div>"
      ],
      "text/plain": [
       "                                                 document  label\n",
       "0                                     아 더빙.. 진짜 짜증나네요 목소리      0\n",
       "1                       흠...포스터보고 초딩영화줄....오버연기조차 가볍지 않구나      1\n",
       "2                                       너무재밓었다그래서보는것을추천한다      0\n",
       "3                           교도소 이야기구먼 ..솔직히 재미는 없다..평점 조정      0\n",
       "4       사이몬페그의 익살스런 연기가 돋보였던 영화!스파이더맨에서 늙어보이기만 했던 커스틴 ...      1\n",
       "...                                                   ...    ...\n",
       "149995                                인간이 문제지.. 소는 뭔죄인가..      0\n",
       "149996                                      평점이 너무 낮아서...      1\n",
       "149997                    이게 뭐요? 한국인은 거들먹거리고 필리핀 혼혈은 착하다?      0\n",
       "149998                        청춘 영화의 최고봉.방황과 우울했던 날들의 자화상      1\n",
       "149999                           한국 영화 최초로 수간하는 내용이 담긴 영화      0\n",
       "\n",
       "[150000 rows x 2 columns]"
      ]
     },
     "execution_count": 217,
     "metadata": {},
     "output_type": "execute_result"
    }
   ],
   "source": [
    "train_df"
   ]
  },
  {
   "cell_type": "markdown",
   "id": "f4a77185-e75a-416e-8b79-baf5a791b39b",
   "metadata": {},
   "source": [
    "### 데이터 셋 전처리\n",
    "\n",
    "결측치를 제거하고, 특수문자나 한자를 제거해주겠습니다."
   ]
  },
  {
   "cell_type": "code",
   "execution_count": 218,
   "id": "f15413ea-a7d3-49aa-afdf-0ddef5ad3c31",
   "metadata": {},
   "outputs": [
    {
     "data": {
      "text/plain": [
       "document    5\n",
       "label       0\n",
       "dtype: int64"
      ]
     },
     "execution_count": 218,
     "metadata": {},
     "output_type": "execute_result"
    }
   ],
   "source": [
    "train_df.isnull().sum()"
   ]
  },
  {
   "cell_type": "code",
   "execution_count": 219,
   "id": "36c723e8-51ce-4ef2-be3a-0b741b3c5270",
   "metadata": {},
   "outputs": [],
   "source": [
    "train_df = train_df.dropna()"
   ]
  },
  {
   "cell_type": "code",
   "execution_count": 249,
   "id": "993cde45-c955-41b6-b4a3-226baaa166e9",
   "metadata": {},
   "outputs": [],
   "source": [
    "import re\n",
    "\n",
    "# 특수 문자 제거 및 소문자화\n",
    "def preprocess_text(text: str) -> str:\n",
    "    text = text.lower()\n",
    "    # text = re.sub(r\"[^ㄱ-힣a-zA-Z0-9!?.,\\']\", r\" \", text)\n",
    "    text = re.sub(r\"[^ㄱ-ㅎㅏ-ㅣ가-힣a-zA-Z!?.,\\' ]\", \"\", text)\n",
    "    text = re.sub(r\"\\s+\", \" \", text)\n",
    "    return text.strip()"
   ]
  },
  {
   "cell_type": "code",
   "execution_count": 251,
   "id": "e32adc62-38fe-4149-a957-eefe817cc6f0",
   "metadata": {},
   "outputs": [
    {
     "data": {
      "text/plain": [
       "'최고의 영화...!! 단연코 best 보는 내내 눈물 ㅠㅠ'"
      ]
     },
     "execution_count": 251,
     "metadata": {},
     "output_type": "execute_result"
    }
   ],
   "source": [
    "example = \"亞 최고의 영화...!! 단연코 BEST 보는 내내 눈물 ㅠㅠ\"\n",
    "preprocess_text(example)"
   ]
  },
  {
   "cell_type": "code",
   "execution_count": 252,
   "id": "e3f2cfc2-dea4-4c58-aa53-345ca18574ef",
   "metadata": {},
   "outputs": [
    {
     "name": "stderr",
     "output_type": "stream",
     "text": [
      "/var/folders/wx/2vw1xwz972zdxff5h8gzrml00000gn/T/ipykernel_13815/1102241259.py:1: SettingWithCopyWarning: \n",
      "A value is trying to be set on a copy of a slice from a DataFrame.\n",
      "Try using .loc[row_indexer,col_indexer] = value instead\n",
      "\n",
      "See the caveats in the documentation: https://pandas.pydata.org/pandas-docs/stable/user_guide/indexing.html#returning-a-view-versus-a-copy\n",
      "  train_df[\"document\"] = train_df[\"document\"].apply(lambda x: preprocess_text(x))\n"
     ]
    }
   ],
   "source": [
    "train_df[\"document\"] = train_df[\"document\"].apply(lambda x: preprocess_text(x))"
   ]
  },
  {
   "cell_type": "code",
   "execution_count": 253,
   "id": "d7aa5f11-ead7-43db-a4f9-326cd2d87ebe",
   "metadata": {},
   "outputs": [
    {
     "data": {
      "text/html": [
       "<div>\n",
       "<style scoped>\n",
       "    .dataframe tbody tr th:only-of-type {\n",
       "        vertical-align: middle;\n",
       "    }\n",
       "\n",
       "    .dataframe tbody tr th {\n",
       "        vertical-align: top;\n",
       "    }\n",
       "\n",
       "    .dataframe thead th {\n",
       "        text-align: right;\n",
       "    }\n",
       "</style>\n",
       "<table border=\"1\" class=\"dataframe\">\n",
       "  <thead>\n",
       "    <tr style=\"text-align: right;\">\n",
       "      <th></th>\n",
       "      <th>document</th>\n",
       "      <th>label</th>\n",
       "    </tr>\n",
       "  </thead>\n",
       "  <tbody>\n",
       "    <tr>\n",
       "      <th>0</th>\n",
       "      <td>아 더빙.. 진짜 짜증나네요 목소리</td>\n",
       "      <td>0</td>\n",
       "    </tr>\n",
       "    <tr>\n",
       "      <th>1</th>\n",
       "      <td>흠...포스터보고 초딩영화줄....오버연기조차 가볍지 않구나</td>\n",
       "      <td>1</td>\n",
       "    </tr>\n",
       "    <tr>\n",
       "      <th>2</th>\n",
       "      <td>너무재밓었다그래서보는것을추천한다</td>\n",
       "      <td>0</td>\n",
       "    </tr>\n",
       "    <tr>\n",
       "      <th>3</th>\n",
       "      <td>교도소 이야기구먼 ..솔직히 재미는 없다..평점 조정</td>\n",
       "      <td>0</td>\n",
       "    </tr>\n",
       "    <tr>\n",
       "      <th>4</th>\n",
       "      <td>사이몬페그의 익살스런 연기가 돋보였던 영화!스파이더맨에서 늙어보이기만 했던 커스틴 ...</td>\n",
       "      <td>1</td>\n",
       "    </tr>\n",
       "    <tr>\n",
       "      <th>...</th>\n",
       "      <td>...</td>\n",
       "      <td>...</td>\n",
       "    </tr>\n",
       "    <tr>\n",
       "      <th>149995</th>\n",
       "      <td>인간이 문제지.. 소는 뭔죄인가..</td>\n",
       "      <td>0</td>\n",
       "    </tr>\n",
       "    <tr>\n",
       "      <th>149996</th>\n",
       "      <td>평점이 너무 낮아서...</td>\n",
       "      <td>1</td>\n",
       "    </tr>\n",
       "    <tr>\n",
       "      <th>149997</th>\n",
       "      <td>이게 뭐요? 한국인은 거들먹거리고 필리핀 혼혈은 착하다?</td>\n",
       "      <td>0</td>\n",
       "    </tr>\n",
       "    <tr>\n",
       "      <th>149998</th>\n",
       "      <td>청춘 영화의 최고봉.방황과 우울했던 날들의 자화상</td>\n",
       "      <td>1</td>\n",
       "    </tr>\n",
       "    <tr>\n",
       "      <th>149999</th>\n",
       "      <td>한국 영화 최초로 수간하는 내용이 담긴 영화</td>\n",
       "      <td>0</td>\n",
       "    </tr>\n",
       "  </tbody>\n",
       "</table>\n",
       "<p>149995 rows × 2 columns</p>\n",
       "</div>"
      ],
      "text/plain": [
       "                                                 document  label\n",
       "0                                     아 더빙.. 진짜 짜증나네요 목소리      0\n",
       "1                       흠...포스터보고 초딩영화줄....오버연기조차 가볍지 않구나      1\n",
       "2                                       너무재밓었다그래서보는것을추천한다      0\n",
       "3                           교도소 이야기구먼 ..솔직히 재미는 없다..평점 조정      0\n",
       "4       사이몬페그의 익살스런 연기가 돋보였던 영화!스파이더맨에서 늙어보이기만 했던 커스틴 ...      1\n",
       "...                                                   ...    ...\n",
       "149995                                인간이 문제지.. 소는 뭔죄인가..      0\n",
       "149996                                      평점이 너무 낮아서...      1\n",
       "149997                    이게 뭐요? 한국인은 거들먹거리고 필리핀 혼혈은 착하다?      0\n",
       "149998                        청춘 영화의 최고봉.방황과 우울했던 날들의 자화상      1\n",
       "149999                           한국 영화 최초로 수간하는 내용이 담긴 영화      0\n",
       "\n",
       "[149995 rows x 2 columns]"
      ]
     },
     "execution_count": 253,
     "metadata": {},
     "output_type": "execute_result"
    }
   ],
   "source": [
    "train_df"
   ]
  },
  {
   "cell_type": "markdown",
   "id": "bfcfb1b1-092c-417a-b159-2e180b237008",
   "metadata": {},
   "source": [
    "## huggingface tokenizers\n",
    "\n",
    "huggingface는 AI 스타트업으로 오픈 소스 라이브러리로 유명합니다. 특히 NLP 분야에서는 huggingface에서 제공하는 트랜스포머 모델을 사용하는 것이 거의 표준으로 자리잡았습니다. 주요 라이브러리는 아래와 같습니다. \n",
    "\n",
    "- transformers: 트랜스포머 기본 모델과 이를 응용한 NLP 모델들을 제공\n",
    "- tokenizers: subword tokenizer 제공\n",
    "\n",
    "huggingface의 tokenizers는 subword tokenizer의 구현체입니다. 이를 사용하여 tokenizer를 학습시켜 보겠습니다."
   ]
  },
  {
   "cell_type": "code",
   "execution_count": 255,
   "id": "14fc00b4-059b-44b8-bc50-321f273df38b",
   "metadata": {},
   "outputs": [
    {
     "name": "stdout",
     "output_type": "stream",
     "text": [
      "huggingface/tokenizers: The current process just got forked, after parallelism has already been used. Disabling parallelism to avoid deadlocks...\n",
      "To disable this warning, you can either:\n",
      "\t- Avoid using `tokenizers` before the fork if possible\n",
      "\t- Explicitly set the environment variable TOKENIZERS_PARALLELISM=(true | false)\n",
      "Requirement already satisfied: tokenizers in /Users/user/miniconda3/lib/python3.10/site-packages (0.13.2)\n",
      "\n",
      "\u001b[1m[\u001b[0m\u001b[34;49mnotice\u001b[0m\u001b[1;39;49m]\u001b[0m\u001b[39;49m A new release of pip is available: \u001b[0m\u001b[31;49m23.1.2\u001b[0m\u001b[39;49m -> \u001b[0m\u001b[32;49m23.2.1\u001b[0m\n",
      "\u001b[1m[\u001b[0m\u001b[34;49mnotice\u001b[0m\u001b[1;39;49m]\u001b[0m\u001b[39;49m To update, run: \u001b[0m\u001b[32;49mpip install --upgrade pip\u001b[0m\n"
     ]
    }
   ],
   "source": [
    "!pip install tokenizers"
   ]
  },
  {
   "cell_type": "markdown",
   "id": "0212e38a-461e-46d7-8d6b-96d42dc4b9f3",
   "metadata": {},
   "source": [
    "### Trainer\n",
    "WordPiece 기반의 subword tokenizer를 만들어보겠습니다.  먼저 tokenizer를 학습시키기 위한 trainer를 만들어줍니다. 이 때, special tokens를 넣어주어야 하는데, 각 토큰의 의미는 다음과 같습니다.\n",
    "\n",
    "- [PAD]: padding의 약자로 문장 간에 길이를 맞춰주기 위해 일부러 채워넣은 토큰을 의미합니다.\n",
    "- [UNK]: unknown의 약자로 인식하지 못한 토큰을 나타냅니다.\n",
    "- [SOS]: start of sentence의 약자로 문장의 시작을 표시해줍니다.\n",
    "- [EOS]: end of sentence의 약자로 문장의 끝을 표시해줍니다."
   ]
  },
  {
   "cell_type": "code",
   "execution_count": 260,
   "id": "bc4a3b58-6e16-48af-b9f3-f5ee3c1521e1",
   "metadata": {},
   "outputs": [],
   "source": [
    "from tokenizers.trainers import WordPieceTrainer\n",
    "\n",
    "trainer = WordPieceTrainer(\n",
    "    vocab_size=10000,\n",
    "    min_frequency=5,\n",
    "    special_tokens=[\"[PAD]\", \"[UNK]\", \"[SOS]\", \"[EOS]\"]\n",
    ")"
   ]
  },
  {
   "cell_type": "markdown",
   "id": "c838c82d-a95b-4b0c-a14f-375d3d307577",
   "metadata": {},
   "source": [
    "### Tokenizer\n",
    "\n",
    "이제 tokenizer 객체를 만들어주고 trainer를 이용해서 학습시켜 줍니다."
   ]
  },
  {
   "cell_type": "code",
   "execution_count": 266,
   "id": "fd6727ec-8e1f-48c4-acc6-5d6c798fe054",
   "metadata": {},
   "outputs": [],
   "source": [
    "from tokenizers import Tokenizer\n",
    "from tokenizers.models import WordPiece \n",
    "from tokenizers.pre_tokenizers import Whitespace\n",
    "\n",
    "def batch_iterator(df, batch_size=1000):\n",
    "    for i in range(0, len(df), batch_size):\n",
    "        batch_df = df.iloc[i:i+batch_size]\n",
    "        yield batch_df[\"document\"] "
   ]
  },
  {
   "cell_type": "code",
   "execution_count": 267,
   "id": "33182be9-a48c-45aa-9cf1-2e8d7ba6374b",
   "metadata": {},
   "outputs": [
    {
     "name": "stdout",
     "output_type": "stream",
     "text": [
      "\n",
      "\n",
      "\n"
     ]
    }
   ],
   "source": [
    "tokenizer = Tokenizer(WordPiece())\n",
    "tokenizer.pre_tokenizer = Whitespace()\n",
    "tokenizer.train_from_iterator(batch_iterator(train_df),  trainer=trainer)"
   ]
  },
  {
   "cell_type": "markdown",
   "id": "e4dd1491-9711-4648-97f2-002325d64b7a",
   "metadata": {},
   "source": [
    "## tokenizer 확인\n",
    "\n",
    "tokenizer가 잘 학습되었는지 확인해보겠습니다."
   ]
  },
  {
   "cell_type": "markdown",
   "id": "182ede0e-15e0-4450-99c4-350410db649a",
   "metadata": {},
   "source": [
    "### vocab 확인\n",
    "\n",
    "먼저 tokenizer vocab에 어떤 토큰들이 추가되었는지 살펴보겠습니다."
   ]
  },
  {
   "cell_type": "code",
   "execution_count": 277,
   "id": "cc134f52-d35e-4c61-a614-277c297eebc7",
   "metadata": {},
   "outputs": [],
   "source": [
    "vocabs = tokenizer.get_vocab()\n",
    "sorted_vocabs = sorted(vocabs.items(), key=lambda x: x[1])"
   ]
  },
  {
   "cell_type": "code",
   "execution_count": null,
   "id": "acd4e041-48a0-47ea-b53e-fa1b593e1da1",
   "metadata": {},
   "outputs": [],
   "source": [
    "print(sorted_vocabs)"
   ]
  },
  {
   "cell_type": "markdown",
   "id": "620f5b96-dbb7-48d2-86b7-5add687a7f21",
   "metadata": {},
   "source": [
    "4000 ~ 5000개까지는 초기 기본 토큰들로 채워져 있고, 그 뒤로는 함께 자주 등장하는 글자끼리 묶인 토큰들을 확인할 수 있습니다. 앞에 ##이 붙은 토큰들은 단어의 시작 지점이 아닌 위치에 등장하는 토큰들입니다."
   ]
  },
  {
   "cell_type": "markdown",
   "id": "bf29bd92-2cbc-4d97-ad0b-bbdaafda9526",
   "metadata": {},
   "source": [
    "### 샘플 토큰화\n",
    "\n",
    "예시 문장들을 토큰화 해보겠습니다."
   ]
  },
  {
   "cell_type": "code",
   "execution_count": 284,
   "id": "5b9058d6-af61-4e64-9ae5-f2c4493f2910",
   "metadata": {},
   "outputs": [],
   "source": [
    "samples = [\n",
    "    \"너무 재밌어요, 꿀잼 인정!\",\n",
    "    \"보다가 중간에 졸았습니다 ㅠㅠ 비추에요\"\n",
    "]"
   ]
  },
  {
   "cell_type": "code",
   "execution_count": 285,
   "id": "ad25eae7-9705-4a5c-a28d-8f6704e87fd3",
   "metadata": {},
   "outputs": [
    {
     "name": "stdout",
     "output_type": "stream",
     "text": [
      "[4876, 5383, 6, 6014, 6295, 4]\n",
      "['너무', '재밌어요', ',', '꿀잼', '인정', '!']\n",
      "[5278, 5824, 1843, 6945, 5033, 6190, 5372]\n",
      "['보다가', '중간에', '졸', '##았습니다', 'ㅠㅠ', '비추', '##에요']\n"
     ]
    }
   ],
   "source": [
    "for sample in samples:\n",
    "    output = tokenizer.encode(sample)\n",
    "    print(output.ids)\n",
    "    print(output.tokens)"
   ]
  },
  {
   "cell_type": "markdown",
   "id": "ee7804e2-c961-45db-b4d8-76d17d42efa5",
   "metadata": {},
   "source": [
    "### 저장\n",
    "\n",
    "잘 학습된 것을 확인했다면 파일에 저장하겠습니다."
   ]
  },
  {
   "cell_type": "code",
   "execution_count": 286,
   "id": "38899999-287c-4489-add0-f81a8e09f6dd",
   "metadata": {},
   "outputs": [],
   "source": [
    "tokenizer.save(\"./data/tokenizer.json\")"
   ]
  },
  {
   "cell_type": "markdown",
   "id": "0b4a5e3a-7625-4eb5-a9bd-5036ef7fb759",
   "metadata": {},
   "source": [
    "## 정리\n",
    "\n",
    "이번 챕터에서는 huggingface에서 제공하는 tokenizers 라이브러리를 이용해서 직접 subword tokenizer를 만들어보았습니다. subword tokenizer는 활용도가 매우 높으니, 사용법을 잘 기억해주시기 바랍니다."
   ]
  },
  {
   "cell_type": "code",
   "execution_count": null,
   "id": "f577a249-06ad-4123-bbb6-5527d1ad1b0d",
   "metadata": {},
   "outputs": [],
   "source": []
  }
 ],
 "metadata": {
  "kernelspec": {
   "display_name": "Python 3 (ipykernel)",
   "language": "python",
   "name": "python3"
  },
  "language_info": {
   "codemirror_mode": {
    "name": "ipython",
    "version": 3
   },
   "file_extension": ".py",
   "mimetype": "text/x-python",
   "name": "python",
   "nbconvert_exporter": "python",
   "pygments_lexer": "ipython3",
   "version": "3.10.8"
  }
 },
 "nbformat": 4,
 "nbformat_minor": 5
}
