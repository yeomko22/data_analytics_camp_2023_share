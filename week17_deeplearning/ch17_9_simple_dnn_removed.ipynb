{
 "cells": [
  {
   "cell_type": "markdown",
   "id": "939d0bf6-aee9-4fa7-8484-7e8507d93dbd",
   "metadata": {},
   "source": [
    "# ch 17_9 Simple DNN\n",
    "\n",
    "이번 챕터에서는 이론으로 배운 딥러닝 모델을 간단히 구현해보겠습니다. 이전 펭귄 클래시피케이션 모델을 다층 신경망 방식으로 구현해보겠습니다. pytorch의 도움을 받으면 어렵지않게 구현할 수 있습니다."
   ]
  },
  {
   "cell_type": "markdown",
   "id": "d1d4c211-be18-4e6e-84e2-c108e70fa3cc",
   "metadata": {},
   "source": [
    "## 데이터 셋 준비"
   ]
  },
  {
   "cell_type": "code",
   "execution_count": 1,
   "id": "544078e7-8fb9-434e-a9c8-f27f3cf58176",
   "metadata": {},
   "outputs": [
    {
     "data": {
      "text/html": [
       "<div>\n",
       "<style scoped>\n",
       "    .dataframe tbody tr th:only-of-type {\n",
       "        vertical-align: middle;\n",
       "    }\n",
       "\n",
       "    .dataframe tbody tr th {\n",
       "        vertical-align: top;\n",
       "    }\n",
       "\n",
       "    .dataframe thead th {\n",
       "        text-align: right;\n",
       "    }\n",
       "</style>\n",
       "<table border=\"1\" class=\"dataframe\">\n",
       "  <thead>\n",
       "    <tr style=\"text-align: right;\">\n",
       "      <th></th>\n",
       "      <th>species</th>\n",
       "      <th>culmen_length_mm</th>\n",
       "      <th>culmen_depth_mm</th>\n",
       "      <th>flipper_length_mm</th>\n",
       "      <th>body_mass_g</th>\n",
       "      <th>island_Biscoe</th>\n",
       "      <th>island_Dream</th>\n",
       "      <th>island_Torgersen</th>\n",
       "      <th>is_male</th>\n",
       "    </tr>\n",
       "  </thead>\n",
       "  <tbody>\n",
       "    <tr>\n",
       "      <th>0</th>\n",
       "      <td>0</td>\n",
       "      <td>-0.897653</td>\n",
       "      <td>0.783487</td>\n",
       "      <td>-1.429521</td>\n",
       "      <td>-0.571229</td>\n",
       "      <td>0</td>\n",
       "      <td>0</td>\n",
       "      <td>1</td>\n",
       "      <td>1</td>\n",
       "    </tr>\n",
       "    <tr>\n",
       "      <th>1</th>\n",
       "      <td>0</td>\n",
       "      <td>-0.824290</td>\n",
       "      <td>0.121896</td>\n",
       "      <td>-1.072408</td>\n",
       "      <td>-0.509011</td>\n",
       "      <td>0</td>\n",
       "      <td>0</td>\n",
       "      <td>1</td>\n",
       "      <td>0</td>\n",
       "    </tr>\n",
       "    <tr>\n",
       "      <th>2</th>\n",
       "      <td>0</td>\n",
       "      <td>-0.677564</td>\n",
       "      <td>0.427246</td>\n",
       "      <td>-0.429605</td>\n",
       "      <td>-1.193405</td>\n",
       "      <td>0</td>\n",
       "      <td>0</td>\n",
       "      <td>1</td>\n",
       "      <td>0</td>\n",
       "    </tr>\n",
       "    <tr>\n",
       "      <th>3</th>\n",
       "      <td>0</td>\n",
       "      <td>-1.337831</td>\n",
       "      <td>1.088836</td>\n",
       "      <td>-0.572450</td>\n",
       "      <td>-0.944535</td>\n",
       "      <td>0</td>\n",
       "      <td>0</td>\n",
       "      <td>1</td>\n",
       "      <td>0</td>\n",
       "    </tr>\n",
       "    <tr>\n",
       "      <th>4</th>\n",
       "      <td>0</td>\n",
       "      <td>-0.860972</td>\n",
       "      <td>1.750427</td>\n",
       "      <td>-0.786718</td>\n",
       "      <td>-0.695664</td>\n",
       "      <td>0</td>\n",
       "      <td>0</td>\n",
       "      <td>1</td>\n",
       "      <td>1</td>\n",
       "    </tr>\n",
       "    <tr>\n",
       "      <th>...</th>\n",
       "      <td>...</td>\n",
       "      <td>...</td>\n",
       "      <td>...</td>\n",
       "      <td>...</td>\n",
       "      <td>...</td>\n",
       "      <td>...</td>\n",
       "      <td>...</td>\n",
       "      <td>...</td>\n",
       "      <td>...</td>\n",
       "    </tr>\n",
       "    <tr>\n",
       "      <th>329</th>\n",
       "      <td>2</td>\n",
       "      <td>0.587947</td>\n",
       "      <td>-1.761093</td>\n",
       "      <td>0.927425</td>\n",
       "      <td>0.890886</td>\n",
       "      <td>1</td>\n",
       "      <td>0</td>\n",
       "      <td>0</td>\n",
       "      <td>0</td>\n",
       "    </tr>\n",
       "    <tr>\n",
       "      <th>330</th>\n",
       "      <td>2</td>\n",
       "      <td>0.514584</td>\n",
       "      <td>-1.455743</td>\n",
       "      <td>0.998847</td>\n",
       "      <td>0.797560</td>\n",
       "      <td>1</td>\n",
       "      <td>0</td>\n",
       "      <td>0</td>\n",
       "      <td>0</td>\n",
       "    </tr>\n",
       "    <tr>\n",
       "      <th>331</th>\n",
       "      <td>2</td>\n",
       "      <td>1.174851</td>\n",
       "      <td>-0.743261</td>\n",
       "      <td>1.498806</td>\n",
       "      <td>1.917477</td>\n",
       "      <td>1</td>\n",
       "      <td>0</td>\n",
       "      <td>0</td>\n",
       "      <td>1</td>\n",
       "    </tr>\n",
       "    <tr>\n",
       "      <th>332</th>\n",
       "      <td>2</td>\n",
       "      <td>0.221132</td>\n",
       "      <td>-1.201285</td>\n",
       "      <td>0.784580</td>\n",
       "      <td>1.233083</td>\n",
       "      <td>1</td>\n",
       "      <td>0</td>\n",
       "      <td>0</td>\n",
       "      <td>0</td>\n",
       "    </tr>\n",
       "    <tr>\n",
       "      <th>333</th>\n",
       "      <td>2</td>\n",
       "      <td>1.083147</td>\n",
       "      <td>-0.539695</td>\n",
       "      <td>0.856002</td>\n",
       "      <td>1.481954</td>\n",
       "      <td>1</td>\n",
       "      <td>0</td>\n",
       "      <td>0</td>\n",
       "      <td>1</td>\n",
       "    </tr>\n",
       "  </tbody>\n",
       "</table>\n",
       "<p>334 rows × 9 columns</p>\n",
       "</div>"
      ],
      "text/plain": [
       "     species  culmen_length_mm  culmen_depth_mm  flipper_length_mm  \\\n",
       "0          0         -0.897653         0.783487          -1.429521   \n",
       "1          0         -0.824290         0.121896          -1.072408   \n",
       "2          0         -0.677564         0.427246          -0.429605   \n",
       "3          0         -1.337831         1.088836          -0.572450   \n",
       "4          0         -0.860972         1.750427          -0.786718   \n",
       "..       ...               ...              ...                ...   \n",
       "329        2          0.587947        -1.761093           0.927425   \n",
       "330        2          0.514584        -1.455743           0.998847   \n",
       "331        2          1.174851        -0.743261           1.498806   \n",
       "332        2          0.221132        -1.201285           0.784580   \n",
       "333        2          1.083147        -0.539695           0.856002   \n",
       "\n",
       "     body_mass_g  island_Biscoe  island_Dream  island_Torgersen  is_male  \n",
       "0      -0.571229              0             0                 1        1  \n",
       "1      -0.509011              0             0                 1        0  \n",
       "2      -1.193405              0             0                 1        0  \n",
       "3      -0.944535              0             0                 1        0  \n",
       "4      -0.695664              0             0                 1        1  \n",
       "..           ...            ...           ...               ...      ...  \n",
       "329     0.890886              1             0                 0        0  \n",
       "330     0.797560              1             0                 0        0  \n",
       "331     1.917477              1             0                 0        1  \n",
       "332     1.233083              1             0                 0        0  \n",
       "333     1.481954              1             0                 0        1  \n",
       "\n",
       "[334 rows x 9 columns]"
      ]
     },
     "execution_count": 1,
     "metadata": {},
     "output_type": "execute_result"
    }
   ],
   "source": [
    "import pandas as pd\n",
    "\n",
    "df = pd.read_csv(\"./data/penguins_preprocessed.csv\")\n",
    "df"
   ]
  },
  {
   "cell_type": "code",
   "execution_count": 2,
   "id": "d7288e9f-8c33-4bc9-b77e-f3990b346e06",
   "metadata": {},
   "outputs": [],
   "source": [
    "from sklearn.model_selection import train_test_split\n",
    "\n",
    "X = df.drop([\"species\"], axis=1)\n",
    "y = df[\"species\"]\n",
    "x_train, x_val, y_train, y_val = train_test_split(X, y, test_size=0.2)"
   ]
  },
  {
   "cell_type": "code",
   "execution_count": 4,
   "id": "e2b14eb2-6d76-4e26-a56d-5ac2a2ced86f",
   "metadata": {},
   "outputs": [],
   "source": [
    "import torch\n",
    "\n",
    "x_train = torch.Tensor(x_train.values)\n",
    "y_train = torch.Tensor(y_train.values).type(torch.long)\n",
    "x_val = torch.Tensor(x_val.values)\n",
    "y_val = torch.Tensor(y_val.values).type(torch.long)"
   ]
  },
  {
   "cell_type": "markdown",
   "id": "a7a3444a-056e-4c7a-b99b-e8dd0999ff9d",
   "metadata": {},
   "source": [
    "## Deep Neural Network"
   ]
  },
  {
   "cell_type": "markdown",
   "id": "8571c9d3-b8b2-4029-9c36-df3b9b26a6eb",
   "metadata": {},
   "source": [
    "### 모델 작성"
   ]
  },
  {
   "cell_type": "code",
   "execution_count": 52,
   "id": "49834cc4-5e58-4439-affa-5ec7ad0f8b8b",
   "metadata": {},
   "outputs": [],
   "source": [
    "import torch\n",
    "\n",
    "class SimpleDNN(torch.nn.Module):\n",
    "    def __init__(self, input_dim, hidden_dim, output_dim):\n",
    "        super(SimpleDNN, self).__init__()\n",
    "        self.fc1 = torch.nn.Linear(input_dim, 3)\n",
    "        self.fc2 = torch.nn.Linear(3, 5)\n",
    "        self.fc3 = torch.nn.Linear(5, output_dim)\n",
    "        self.activation = torch.nn.Sigmoid()\n",
    "        self.softmax = torch.nn.Softmax(dim=1)\n",
    "        \n",
    "    def forward(self, x):\n",
    "        x = self.activation(self.fc1(x))\n",
    "        x = self.activation(self.fc2(x))\n",
    "        x = self.softmax(self.fc3(x))\n",
    "        return x"
   ]
  },
  {
   "cell_type": "code",
   "execution_count": 53,
   "id": "d4c42c6b-7ce3-406e-a3bb-e4375e456922",
   "metadata": {},
   "outputs": [
    {
     "data": {
      "text/plain": [
       "torch.Size([267, 8])"
      ]
     },
     "execution_count": 53,
     "metadata": {},
     "output_type": "execute_result"
    }
   ],
   "source": [
    "x_train.shape"
   ]
  },
  {
   "cell_type": "code",
   "execution_count": 54,
   "id": "9d13e567-399f-4d84-9924-ef663f522841",
   "metadata": {},
   "outputs": [],
   "source": [
    "model = SimpleDNN(input_dim=8, hidden_dim=40, output_dim=3)"
   ]
  },
  {
   "cell_type": "code",
   "execution_count": 55,
   "id": "3628d442-620b-4829-958c-ff3fd7d29e83",
   "metadata": {},
   "outputs": [
    {
     "name": "stdout",
     "output_type": "stream",
     "text": [
      "Requirement already satisfied: torchsummary in /Users/user/miniconda3/lib/python3.10/site-packages (1.5.1)\n",
      "\n",
      "\u001b[1m[\u001b[0m\u001b[34;49mnotice\u001b[0m\u001b[1;39;49m]\u001b[0m\u001b[39;49m A new release of pip is available: \u001b[0m\u001b[31;49m23.1.2\u001b[0m\u001b[39;49m -> \u001b[0m\u001b[32;49m23.2.1\u001b[0m\n",
      "\u001b[1m[\u001b[0m\u001b[34;49mnotice\u001b[0m\u001b[1;39;49m]\u001b[0m\u001b[39;49m To update, run: \u001b[0m\u001b[32;49mpip install --upgrade pip\u001b[0m\n"
     ]
    }
   ],
   "source": [
    "!pip install torchsummary"
   ]
  },
  {
   "cell_type": "code",
   "execution_count": 56,
   "id": "e732f321-7165-4670-b058-8df9a02639df",
   "metadata": {},
   "outputs": [
    {
     "data": {
      "text/plain": [
       "SimpleDNN(\n",
       "  (fc1): Linear(in_features=8, out_features=3, bias=True)\n",
       "  (fc2): Linear(in_features=3, out_features=5, bias=True)\n",
       "  (fc3): Linear(in_features=5, out_features=3, bias=True)\n",
       "  (activation): Sigmoid()\n",
       "  (softmax): Softmax(dim=1)\n",
       ")"
      ]
     },
     "execution_count": 56,
     "metadata": {},
     "output_type": "execute_result"
    }
   ],
   "source": [
    "model"
   ]
  },
  {
   "cell_type": "code",
   "execution_count": 57,
   "id": "7b77f9ce-9e25-4fae-9052-60f4d1daface",
   "metadata": {},
   "outputs": [],
   "source": [
    "from torchsummary import summary"
   ]
  },
  {
   "cell_type": "code",
   "execution_count": 58,
   "id": "50627605-87cf-48b1-bf60-27e3d70a1d43",
   "metadata": {},
   "outputs": [
    {
     "name": "stdout",
     "output_type": "stream",
     "text": [
      "----------------------------------------------------------------\n",
      "        Layer (type)               Output Shape         Param #\n",
      "================================================================\n",
      "            Linear-1               [-1, 267, 3]              27\n",
      "           Sigmoid-2               [-1, 267, 3]               0\n",
      "            Linear-3               [-1, 267, 5]              20\n",
      "           Sigmoid-4               [-1, 267, 5]               0\n",
      "            Linear-5               [-1, 267, 3]              18\n",
      "           Softmax-6               [-1, 267, 3]               0\n",
      "================================================================\n",
      "Total params: 65\n",
      "Trainable params: 65\n",
      "Non-trainable params: 0\n",
      "----------------------------------------------------------------\n",
      "Input size (MB): 0.01\n",
      "Forward/backward pass size (MB): 0.04\n",
      "Params size (MB): 0.00\n",
      "Estimated Total Size (MB): 0.05\n",
      "----------------------------------------------------------------\n"
     ]
    }
   ],
   "source": [
    "summary(model, input_size=(267, 8))"
   ]
  },
  {
   "cell_type": "markdown",
   "id": "0c5f5d52-90c2-44ea-90b7-27c55c2e839f",
   "metadata": {},
   "source": [
    "### 하이퍼 파라미터 셋팅"
   ]
  },
  {
   "cell_type": "code",
   "execution_count": 36,
   "id": "a43631dc-fe60-4f33-af6b-c8731f11ea6e",
   "metadata": {},
   "outputs": [],
   "source": [
    "learning_rate = 0.01\n",
    "optimizer = torch.optim.Adam(model.parameters(), lr=learning_rate)\n",
    "criterion = torch.nn.CrossEntropyLoss()\n",
    "epochs = 200"
   ]
  },
  {
   "cell_type": "markdown",
   "id": "f0cf4396-7816-4774-8b37-23fcc59006c6",
   "metadata": {},
   "source": [
    "### 모델 학습"
   ]
  },
  {
   "cell_type": "code",
   "execution_count": 37,
   "id": "f83a4939-97be-4231-bf9a-196f9a2f139e",
   "metadata": {},
   "outputs": [],
   "source": [
    "from collections import defaultdict\n",
    "from sklearn.metrics import accuracy_score\n",
    "\n",
    "def train(model):\n",
    "    logs = defaultdict(list)\n",
    "    for epoch in range(epochs):\n",
    "        model.train()\n",
    "        optimizer.zero_grad()\n",
    "\n",
    "        outputs = model(x_train)\n",
    "        loss = criterion(outputs, y_train)\n",
    "        loss.backward()\n",
    "        optimizer.step()\n",
    "\n",
    "        pred = torch.argmax(outputs, dim=1) \n",
    "        acc = accuracy_score(y_train, pred)\n",
    "\n",
    "        # validation step\n",
    "        with torch.no_grad():\n",
    "            val_outputs = model(x_val)\n",
    "            val_loss = criterion(val_outputs, y_val)\n",
    "            val_pred = torch.argmax(val_outputs, dim=1) \n",
    "            val_acc = accuracy_score(y_val, val_pred)\n",
    "\n",
    "        logs[\"train_loss\"].append(loss.item())\n",
    "        logs[\"train_acc\"].append(acc)\n",
    "        logs[\"val_loss\"].append(val_loss.item())\n",
    "        logs[\"val_acc\"].append(val_acc)\n",
    "\n",
    "        if (epoch + 1) % 10 == 0:\n",
    "            print(f\"epoch: {epoch + 1} train - loss: {round(loss.item(), 4)} acc: {round(acc, 4)}\"\\\n",
    "                  f\" val - loss: {round(val_loss.item(), 4)} acc: {round(val_acc, 4)}\")\n",
    "    return logs"
   ]
  },
  {
   "cell_type": "code",
   "execution_count": 38,
   "id": "5abfd064-b4c1-441a-bdaa-69619234b39a",
   "metadata": {},
   "outputs": [
    {
     "name": "stdout",
     "output_type": "stream",
     "text": [
      "epoch: 10 train - loss: 1.0507 acc: 0.4569 val - loss: 1.0754 acc: 0.3582\n",
      "epoch: 20 train - loss: 1.0023 acc: 0.4569 val - loss: 1.0216 acc: 0.3582\n",
      "epoch: 30 train - loss: 0.9014 acc: 0.7978 val - loss: 0.9016 acc: 0.791\n",
      "epoch: 40 train - loss: 0.8021 acc: 0.7978 val - loss: 0.8036 acc: 0.791\n",
      "epoch: 50 train - loss: 0.7637 acc: 0.7978 val - loss: 0.7703 acc: 0.791\n",
      "epoch: 60 train - loss: 0.7523 acc: 0.7978 val - loss: 0.7596 acc: 0.791\n",
      "epoch: 70 train - loss: 0.748 acc: 0.7978 val - loss: 0.7545 acc: 0.791\n",
      "epoch: 80 train - loss: 0.7454 acc: 0.7978 val - loss: 0.7513 acc: 0.791\n",
      "epoch: 90 train - loss: 0.7424 acc: 0.7978 val - loss: 0.7474 acc: 0.791\n",
      "epoch: 100 train - loss: 0.7368 acc: 0.7978 val - loss: 0.7407 acc: 0.791\n",
      "epoch: 110 train - loss: 0.7254 acc: 0.7978 val - loss: 0.7287 acc: 0.791\n",
      "epoch: 120 train - loss: 0.7072 acc: 0.7978 val - loss: 0.7112 acc: 0.791\n",
      "epoch: 130 train - loss: 0.6866 acc: 0.8951 val - loss: 0.6915 acc: 0.8955\n",
      "epoch: 140 train - loss: 0.6587 acc: 0.9738 val - loss: 0.6626 acc: 0.9701\n",
      "epoch: 150 train - loss: 0.6266 acc: 0.9925 val - loss: 0.6318 acc: 0.9851\n",
      "epoch: 160 train - loss: 0.6014 acc: 0.9963 val - loss: 0.6072 acc: 0.9851\n",
      "epoch: 170 train - loss: 0.5852 acc: 0.9963 val - loss: 0.59 acc: 0.9851\n",
      "epoch: 180 train - loss: 0.5756 acc: 1.0 val - loss: 0.5796 acc: 1.0\n",
      "epoch: 190 train - loss: 0.5699 acc: 1.0 val - loss: 0.5737 acc: 1.0\n",
      "epoch: 200 train - loss: 0.5663 acc: 1.0 val - loss: 0.57 acc: 1.0\n"
     ]
    }
   ],
   "source": [
    "logs = train(model)"
   ]
  },
  {
   "cell_type": "markdown",
   "id": "fab1e838-d277-471f-9f50-e43a7000055a",
   "metadata": {},
   "source": [
    "### 결과 시각화"
   ]
  },
  {
   "cell_type": "code",
   "execution_count": 39,
   "id": "6584410a-3e72-48a5-a5bc-b07ee10cf3d4",
   "metadata": {},
   "outputs": [
    {
     "data": {
      "text/plain": [
       "<matplotlib.legend.Legend at 0x29fa7c640>"
      ]
     },
     "execution_count": 39,
     "metadata": {},
     "output_type": "execute_result"
    },
    {
     "data": {
      "image/png": "[encoded data removed]",
      "text/plain": [
       "<Figure size 1000x400 with 2 Axes>"
      ]
     },
     "metadata": {},
     "output_type": "display_data"
    }
   ],
   "source": [
    "from matplotlib import pyplot as plt\n",
    "\n",
    "fig = plt.figure(figsize=(10, 4))\n",
    "\n",
    "ax0 = fig.add_subplot(1, 2, 1)\n",
    "ax1 = fig.add_subplot(1, 2, 2)\n",
    "ax0.plot(logs[\"train_loss\"], label=\"train\")\n",
    "ax0.plot(logs[\"val_loss\"], label=\"val\")\n",
    "ax0.legend()\n",
    "ax0.set_title(\"loss\")\n",
    "\n",
    "ax1.plot(logs[\"train_acc\"], label=\"train\")\n",
    "ax1.plot(logs[\"val_acc\"], label=\"val\")\n",
    "ax1.legend()\n",
    "ax1.set_title(\"accuracy\")\n",
    "plt.legend()"
   ]
  },
  {
   "cell_type": "markdown",
   "id": "99f003a5-5fe1-44ee-abac-e9eb46ecb041",
   "metadata": {},
   "source": [
    "## 정리\n",
    "\n",
    "이번 챕터에서는 이론으로만 배웠던 딥러닝을 실제로 구현해보았습니다. 그 결과, 지금까지 우리가 linear regression이나 logistic regression을 Grandient Descent 방식으로 학습시킨 코드와 그다지 다르지 않았습니다. 차이가 있다면 신경망 레이어를 여러 겹 쌓고, 그 사이 사이에 비선형 함수인 sigmoid를 끼워넣은 모델이라는 점입니다. 선형 레이어 사이 사이에 비선형성을 넣어준다는 점을 꼭 기억해주시고 넘어가시기 바랍니다."
   ]
  }
 ],
 "metadata": {
  "kernelspec": {
   "display_name": "Python 3 (ipykernel)",
   "language": "python",
   "name": "python3"
  },
  "language_info": {
   "codemirror_mode": {
    "name": "ipython",
    "version": 3
   },
   "file_extension": ".py",
   "mimetype": "text/x-python",
   "name": "python",
   "nbconvert_exporter": "python",
   "pygments_lexer": "ipython3",
   "version": "3.10.8"
  }
 },
 "nbformat": 4,
 "nbformat_minor": 5
}
