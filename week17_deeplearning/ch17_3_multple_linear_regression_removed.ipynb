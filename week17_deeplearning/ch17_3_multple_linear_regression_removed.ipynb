{
 "cells": [
  {
   "cell_type": "markdown",
   "id": "2805ec85-7f35-4723-81fe-992ba2215bea",
   "metadata": {},
   "source": [
    "# ch 17_3. multiple linear regerssion\n",
    "\n",
    "## Multiple Linear Regression\n",
    "이번에는 지난 챕터에 이어서 다중 선형 회귀를 torch를 이용해서 학습시켜보겠습니다. 아래와 같은 데이터가 주어졌다고 해보겠습니다.\n",
    "\n",
    "| x1(quiz1) | x2(quiz2) | x3(midterm1) | Y(final) |\n",
    "| --- | --- | --- | --- |\n",
    "| 73 | 80 | 75 | 152 |\n",
    "| 93 | 88 | 93 | 185 |\n",
    "| 89 | 91 | 90 | 180 |\n",
    "| 96 | 98 | 100 | 196 |\n",
    "| 73 | 66 | 70 | 142 |\n",
    "\n",
    "이렇게 독립 변수가 3개인 상황에서 H(x)를 세워보겠습니다. \n",
    "\n",
    "$$H(x_{1}, x_{2}, x_{3})=w_{1}x_{1}+w_{2}x_{2}+w_{3}x_{3}+b$$\n",
    "\n",
    "$$cost(W,b)=\\frac{1}{m}\\sum_{i=1}^{m}(H(x_{1i}, x_{2i}, x_{3i})-y_{i})^2$$"
   ]
  },
  {
   "cell_type": "markdown",
   "id": "67f00775-ae8d-456e-8a61-6c70039df8db",
   "metadata": {},
   "source": [
    "독립 변수가 n개인 상황도 마찬가지겠죠? 위 식을 일반화 시켜보겠습니다.\n",
    "\n",
    "$$H(x_{1}, x_{2}, ..., x_{n})=w_{1}x_{1}+w_{2}x_{2}+...+w_{n}x_{n}+b$$\n",
    "\n",
    "$$cost(W,b)=\\frac{1}{m}\\sum_{i=1}^{m}(H(x_{1i}, x_{2i}, ..., x_{ni})-y_{i})^2$$"
   ]
  },
  {
   "cell_type": "markdown",
   "id": "1277726f-35db-4def-bfa3-82a7c7b65c90",
   "metadata": {},
   "source": [
    "## Matrix\n",
    "\n",
    "독립 변수의 개수가 많아질 수록 표현하기가 불편합니다. 이 때, Matrix를 이용하면 데이터를 효과적으로 표현할 수 있습니다. 행렬의 곱셈을 이용하면 n개의 독립 변수와 n개의 weight의 곱을 아래 처럼 표현할 수 있습니다.\n",
    "\n",
    "$$(x_{1},x_{2},...x_{n})\\cdot\\begin{pmatrix}\n",
    " w_{1}\\\\ \n",
    " w_{2}\\\\\n",
    " ...\\\\\n",
    " w_{n}\\\\\n",
    "\\end{pmatrix}=(x_{1}w_{1}+x_{2}w_{2}+...+x_{n}w_{n})$$"
   ]
  },
  {
   "cell_type": "markdown",
   "id": "5695705b-ff3a-4e55-89e1-803fd1d51679",
   "metadata": {},
   "source": [
    "이를 단순화 시키면 아래처럼 나타낼 수 있습니다. X는 독립 변수의 행렬, W는 weight의 행렬이 됩니다. 두 행렬의 곱으로 hypothesis 함수를 표현할 수 있습니다.\n",
    "\n",
    "$$H(X)=XW$$"
   ]
  },
  {
   "cell_type": "markdown",
   "id": "ea5ffddd-5554-428b-8d90-a1d1951d9a12",
   "metadata": {},
   "source": [
    "다시 예시 데이터로 돌아가보겠습니다.\n",
    "\n",
    "| x1(quiz1) | x2(quiz2) | x3(midterm1) | Y(final) |\n",
    "| --- | --- | --- | --- |\n",
    "| 73 | 80 | 75 | 152 |\n",
    "| 93 | 88 | 93 | 185 |\n",
    "| 89 | 91 | 90 | 180 |\n",
    "| 96 | 98 | 100 | 196 |\n",
    "| 73 | 66 | 70 | 142 |\n",
    "\n",
    "하나의 데이터 샘플에는 x1, x2, x3 총 3개의 독립 변수가 들어있습니다. 각각의 독립변수에 weight를 곱해주어 예측 값을 만들고, 이를 실제 y값과 비교하고자 합니다. 이 때, 각각의 데이터 샘플을 따로따로 계산해주는 것이 아니라, 행렬로 만들어서 한번에 계산하면 훨씬 효과적이겠죠? 수식으로 한번 표현해보겠습니다."
   ]
  },
  {
   "cell_type": "markdown",
   "id": "cca467bb-a6fd-422b-89e8-8022d98ed18b",
   "metadata": {},
   "source": [
    "$$n:\\text{독립 변수의 개수}$$\n",
    "$$m:\\text{전체 데이터 샘플의 개수}$$\n",
    "\n",
    "$$\n",
    "\\begin{pmatrix}\n",
    "x_{11},x_{12},...x_{1n} \\\\\n",
    "x_{21},x_{22},...x_{2n} \\\\\n",
    "...\\\\\n",
    "x_{m1},x_{m2},...x_{mn} \\\\\n",
    "\\end{pmatrix}\n",
    "\\cdot\n",
    "\\begin{pmatrix}\n",
    " w_{1}\\\\ \n",
    " w_{2}\\\\\n",
    " ...\\\\\n",
    " w_{n}\\\\\n",
    "\\end{pmatrix}=\n",
    "\\begin{pmatrix}\n",
    "x_{11}w_{1}+x_{12}w_{2}+x_{1n}w_{n} \\\\\n",
    "x_{21}w_{1}+x_{22}w_{2}+x_{2n}w_{n} \\\\\n",
    "...\\\\\n",
    "x_{m1}w_{1}+x_{m2}w_{2}+x_{mn}w_{n} \\\\\n",
    "\\end{pmatrix}\n",
    "$$\n",
    "\n",
    "$$[M, N] * [N, 1] = [M, 1]$$\n",
    "$$𝐻(𝑋)=𝑋𝑊$$"
   ]
  },
  {
   "cell_type": "markdown",
   "id": "780ad26d-6ef4-47be-91e8-4ba2c1fc0a5d",
   "metadata": {},
   "source": [
    "## torch multiple linear regression\n",
    "\n",
    "torch를 이용해서 다중 선형 회귀를 학습시켜 보겠습니다. 다이아몬드 데이터 셋에서 다이아몬드의 carat, x, y, z 값을 이용해서 price를 예측하는 모델을 학습시켜보겠습니다. "
   ]
  },
  {
   "cell_type": "code",
   "execution_count": 11,
   "id": "966172ae-55a2-4fb9-9681-b72f9ead801e",
   "metadata": {},
   "outputs": [],
   "source": [
    "import pandas as pd\n",
    "from sklearn.preprocessing import MinMaxScaler\n",
    "\n",
    "df = pd.read_csv(\"./data/diamonds.csv\")\n",
    "df = df.sample(1000, random_state=1234)\n",
    "df = df[[\"carat\", \"x\", \"y\", \"z\", \"price\"]]\n",
    "\n",
    "minmax_scaler = MinMaxScaler()\n",
    "df[[\"carat\", \"x\", \"y\", \"z\", \"price\"]] = minmax_scaler.fit_transform(df)"
   ]
  },
  {
   "cell_type": "code",
   "execution_count": 12,
   "id": "5743ae4b-1924-46e7-b011-fe516ae96afb",
   "metadata": {},
   "outputs": [
    {
     "data": {
      "text/html": [
       "<div>\n",
       "<style scoped>\n",
       "    .dataframe tbody tr th:only-of-type {\n",
       "        vertical-align: middle;\n",
       "    }\n",
       "\n",
       "    .dataframe tbody tr th {\n",
       "        vertical-align: top;\n",
       "    }\n",
       "\n",
       "    .dataframe thead th {\n",
       "        text-align: right;\n",
       "    }\n",
       "</style>\n",
       "<table border=\"1\" class=\"dataframe\">\n",
       "  <thead>\n",
       "    <tr style=\"text-align: right;\">\n",
       "      <th></th>\n",
       "      <th>carat</th>\n",
       "      <th>x</th>\n",
       "      <th>y</th>\n",
       "      <th>z</th>\n",
       "      <th>price</th>\n",
       "    </tr>\n",
       "  </thead>\n",
       "  <tbody>\n",
       "    <tr>\n",
       "      <th>18197</th>\n",
       "      <td>0.565401</td>\n",
       "      <td>0.677670</td>\n",
       "      <td>0.687747</td>\n",
       "      <td>0.752542</td>\n",
       "      <td>0.380155</td>\n",
       "    </tr>\n",
       "    <tr>\n",
       "      <th>34622</th>\n",
       "      <td>0.033755</td>\n",
       "      <td>0.095146</td>\n",
       "      <td>0.094862</td>\n",
       "      <td>0.081356</td>\n",
       "      <td>0.027204</td>\n",
       "    </tr>\n",
       "    <tr>\n",
       "      <th>42495</th>\n",
       "      <td>0.118143</td>\n",
       "      <td>0.240777</td>\n",
       "      <td>0.252964</td>\n",
       "      <td>0.261017</td>\n",
       "      <td>0.051482</td>\n",
       "    </tr>\n",
       "    <tr>\n",
       "      <th>40139</th>\n",
       "      <td>0.198312</td>\n",
       "      <td>0.337864</td>\n",
       "      <td>0.316206</td>\n",
       "      <td>0.403390</td>\n",
       "      <td>0.040373</td>\n",
       "    </tr>\n",
       "    <tr>\n",
       "      <th>3872</th>\n",
       "      <td>0.282700</td>\n",
       "      <td>0.436893</td>\n",
       "      <td>0.452569</td>\n",
       "      <td>0.484746</td>\n",
       "      <td>0.168590</td>\n",
       "    </tr>\n",
       "    <tr>\n",
       "      <th>...</th>\n",
       "      <td>...</td>\n",
       "      <td>...</td>\n",
       "      <td>...</td>\n",
       "      <td>...</td>\n",
       "      <td>...</td>\n",
       "    </tr>\n",
       "    <tr>\n",
       "      <th>21956</th>\n",
       "      <td>0.535865</td>\n",
       "      <td>0.673786</td>\n",
       "      <td>0.701581</td>\n",
       "      <td>0.711864</td>\n",
       "      <td>0.523113</td>\n",
       "    </tr>\n",
       "    <tr>\n",
       "      <th>52371</th>\n",
       "      <td>0.122363</td>\n",
       "      <td>0.258252</td>\n",
       "      <td>0.276680</td>\n",
       "      <td>0.257627</td>\n",
       "      <td>0.115645</td>\n",
       "    </tr>\n",
       "    <tr>\n",
       "      <th>16157</th>\n",
       "      <td>0.476793</td>\n",
       "      <td>0.633010</td>\n",
       "      <td>0.640316</td>\n",
       "      <td>0.667797</td>\n",
       "      <td>0.329919</td>\n",
       "    </tr>\n",
       "    <tr>\n",
       "      <th>15720</th>\n",
       "      <td>0.341772</td>\n",
       "      <td>0.504854</td>\n",
       "      <td>0.511858</td>\n",
       "      <td>0.542373</td>\n",
       "      <td>0.320815</td>\n",
       "    </tr>\n",
       "    <tr>\n",
       "      <th>16337</th>\n",
       "      <td>0.367089</td>\n",
       "      <td>0.524272</td>\n",
       "      <td>0.553360</td>\n",
       "      <td>0.579661</td>\n",
       "      <td>0.334038</td>\n",
       "    </tr>\n",
       "  </tbody>\n",
       "</table>\n",
       "<p>1000 rows × 5 columns</p>\n",
       "</div>"
      ],
      "text/plain": [
       "          carat         x         y         z     price\n",
       "18197  0.565401  0.677670  0.687747  0.752542  0.380155\n",
       "34622  0.033755  0.095146  0.094862  0.081356  0.027204\n",
       "42495  0.118143  0.240777  0.252964  0.261017  0.051482\n",
       "40139  0.198312  0.337864  0.316206  0.403390  0.040373\n",
       "3872   0.282700  0.436893  0.452569  0.484746  0.168590\n",
       "...         ...       ...       ...       ...       ...\n",
       "21956  0.535865  0.673786  0.701581  0.711864  0.523113\n",
       "52371  0.122363  0.258252  0.276680  0.257627  0.115645\n",
       "16157  0.476793  0.633010  0.640316  0.667797  0.329919\n",
       "15720  0.341772  0.504854  0.511858  0.542373  0.320815\n",
       "16337  0.367089  0.524272  0.553360  0.579661  0.334038\n",
       "\n",
       "[1000 rows x 5 columns]"
      ]
     },
     "execution_count": 12,
     "metadata": {},
     "output_type": "execute_result"
    }
   ],
   "source": [
    "df"
   ]
  },
  {
   "cell_type": "markdown",
   "id": "00d9ff86-9498-47bd-bbbc-07dded948d5b",
   "metadata": {},
   "source": [
    "### MultiLinearRegression 모델 클래스 작성\n",
    "\n",
    "torch를 이용한 다중 선형 회귀 모델 클래스를 작성합니다. input_dim과 output_dim을 파라미터로 전달받을 수 있도록 구현되어 있기 때문에, 이전 챕터에서 단순 선형 회귀 모델과 구현은 동일합니다."
   ]
  },
  {
   "cell_type": "code",
   "execution_count": 13,
   "id": "35e46a42-0706-4f8e-b8ef-69c5aadc3f38",
   "metadata": {},
   "outputs": [],
   "source": [
    "import torch\n",
    "\n",
    "class LinearRegression(torch.nn.Module):\n",
    "    def __init__(self, input_dim, output_dim):\n",
    "        super(LinearRegression, self).__init__()\n",
    "        self.linear = torch.nn.Linear(input_dim, output_dim)\n",
    "        \n",
    "    def forward(self, x):\n",
    "        x = self.linear(x)\n",
    "        return x"
   ]
  },
  {
   "cell_type": "code",
   "execution_count": 7,
   "id": "82c8a94c-7a59-44cc-b200-261576a4a651",
   "metadata": {},
   "outputs": [],
   "source": [
    "model = LinearRegression(input_dim=4, output_dim=1)"
   ]
  },
  {
   "cell_type": "code",
   "execution_count": 8,
   "id": "ac196d88-c07f-4005-8f4c-5f7bce9ec37b",
   "metadata": {},
   "outputs": [
    {
     "data": {
      "text/plain": [
       "LinearRegression(\n",
       "  (linear): Linear(in_features=4, out_features=1, bias=True)\n",
       ")"
      ]
     },
     "execution_count": 8,
     "metadata": {},
     "output_type": "execute_result"
    }
   ],
   "source": [
    "model"
   ]
  },
  {
   "cell_type": "code",
   "execution_count": 9,
   "id": "ed5854d7-435b-4441-b953-76d4ea2c508d",
   "metadata": {},
   "outputs": [
    {
     "data": {
      "text/plain": [
       "Parameter containing:\n",
       "tensor([[-0.2549, -0.3965,  0.2904, -0.2937]], requires_grad=True)"
      ]
     },
     "execution_count": 9,
     "metadata": {},
     "output_type": "execute_result"
    }
   ],
   "source": [
    "model.linear.weight"
   ]
  },
  {
   "cell_type": "code",
   "execution_count": 10,
   "id": "580a4a8d-8d58-4905-bb04-9f8d80d6634f",
   "metadata": {},
   "outputs": [
    {
     "data": {
      "text/plain": [
       "Parameter containing:\n",
       "tensor([0.3351], requires_grad=True)"
      ]
     },
     "execution_count": 10,
     "metadata": {},
     "output_type": "execute_result"
    }
   ],
   "source": [
    "model.linear.bias"
   ]
  },
  {
   "cell_type": "markdown",
   "id": "9662849b-74aa-41b6-82df-1b918e237bbc",
   "metadata": {},
   "source": [
    "### 하이퍼 파라미터 설정\n",
    "\n",
    "독립 변수 개수가 1개에서 4개로 늘어난 것에 유의해서 하이퍼 파라미터를 설정한 뒤, 모델 객체를 생성해주겠습니다."
   ]
  },
  {
   "cell_type": "code",
   "execution_count": 14,
   "id": "2cbc28cd-ac77-44f1-acca-05444d1c1983",
   "metadata": {},
   "outputs": [],
   "source": [
    "learning_rate = 0.1\n",
    "optimizer = torch.optim.SGD(model.parameters(), lr=learning_rate)\n",
    "criterion = torch.nn.MSELoss()\n",
    "epochs = 100"
   ]
  },
  {
   "cell_type": "markdown",
   "id": "ee8ef198-10cd-40fe-a1ab-70d5818cd907",
   "metadata": {},
   "source": [
    "### 데이터 텐서로 변경"
   ]
  },
  {
   "cell_type": "code",
   "execution_count": 15,
   "id": "b32520cc-ab3c-45ef-8293-5f2388edf25b",
   "metadata": {},
   "outputs": [],
   "source": [
    "inputs = torch.Tensor(df[[\"carat\", \"x\", \"y\", \"z\"]].values)\n",
    "labels = torch.Tensor(df[\"price\"].values.reshape(-1, 1))"
   ]
  },
  {
   "cell_type": "code",
   "execution_count": 23,
   "id": "d7d038ec-12a4-4163-92fb-c48747617ca2",
   "metadata": {},
   "outputs": [
    {
     "data": {
      "text/plain": [
       "(tensor([[0.5654, 0.6777, 0.6877, 0.7525],\n",
       "         [0.0338, 0.0951, 0.0949, 0.0814],\n",
       "         [0.1181, 0.2408, 0.2530, 0.2610],\n",
       "         ...,\n",
       "         [0.4768, 0.6330, 0.6403, 0.6678],\n",
       "         [0.3418, 0.5049, 0.5119, 0.5424],\n",
       "         [0.3671, 0.5243, 0.5534, 0.5797]]),\n",
       " torch.Size([1000, 4]))"
      ]
     },
     "execution_count": 23,
     "metadata": {},
     "output_type": "execute_result"
    }
   ],
   "source": [
    "inputs, inputs.shape"
   ]
  },
  {
   "cell_type": "code",
   "execution_count": 25,
   "id": "9da789ed-59a5-4f24-bf8a-7008afbb93b1",
   "metadata": {},
   "outputs": [
    {
     "data": {
      "text/plain": [
       "torch.Size([1000, 1])"
      ]
     },
     "execution_count": 25,
     "metadata": {},
     "output_type": "execute_result"
    }
   ],
   "source": [
    "labels.shape"
   ]
  },
  {
   "cell_type": "markdown",
   "id": "49103a6a-7781-48e3-841f-341aa974001f",
   "metadata": {},
   "source": [
    "### Train\n",
    "\n",
    "이제 torch를 이용한 다중 선형 회귀 모델을 학습시켜보겠습니다."
   ]
  },
  {
   "cell_type": "code",
   "execution_count": 26,
   "id": "2c158a16-f505-4783-9620-58d8dfd85d6a",
   "metadata": {},
   "outputs": [
    {
     "name": "stdout",
     "output_type": "stream",
     "text": [
      "epoch: 10 loss: 0.07298693805932999\n",
      "epoch: 20 loss: 0.04904935508966446\n",
      "epoch: 30 loss: 0.03424091637134552\n",
      "epoch: 40 loss: 0.025067390874028206\n",
      "epoch: 50 loss: 0.019382523372769356\n",
      "epoch: 60 loss: 0.015857553109526634\n",
      "epoch: 70 loss: 0.013669832609593868\n",
      "epoch: 80 loss: 0.012310048565268517\n",
      "epoch: 90 loss: 0.01146287377923727\n",
      "epoch: 100 loss: 0.010933092795312405\n"
     ]
    }
   ],
   "source": [
    "losses = []\n",
    "for epoch in range(epochs):\n",
    "    model.train()\n",
    "    optimizer.zero_grad()\n",
    "    \n",
    "    # 예측값 계산\n",
    "    outputs = model(inputs)\n",
    "    # 오차 계산\n",
    "    loss = criterion(outputs, labels)\n",
    "    losses.append(loss.item())\n",
    "    # 편미분 수행\n",
    "    loss.backward()\n",
    "    # learning rate 만큼 모델 파라미터 업데이트\n",
    "    optimizer.step()\n",
    "    \n",
    "    if (epoch + 1) % 10 == 0:\n",
    "        print(f\"epoch: {epoch + 1} loss: {loss.item()}\")"
   ]
  },
  {
   "cell_type": "markdown",
   "id": "552d4da1-0acf-49b2-ad8a-e903c1d5d7cb",
   "metadata": {},
   "source": [
    "### 결과 시각화"
   ]
  },
  {
   "cell_type": "code",
   "execution_count": 28,
   "id": "eb6e26df-2f72-4a24-b42d-c25027c12a97",
   "metadata": {},
   "outputs": [
    {
     "data": {
      "text/plain": [
       "<matplotlib.legend.Legend at 0x297fd7160>"
      ]
     },
     "execution_count": 28,
     "metadata": {},
     "output_type": "execute_result"
    },
    {
     "data": {
      "image/png": "[encoded data removed]",
      "text/plain": [
       "<Figure size 640x480 with 1 Axes>"
      ]
     },
     "metadata": {},
     "output_type": "display_data"
    }
   ],
   "source": [
    "from matplotlib import pyplot as plt\n",
    "\n",
    "plt.plot(losses, label=\"train loss\")\n",
    "plt.xlabel(\"epochs\")\n",
    "plt.ylabel(\"loss\")\n",
    "plt.legend()"
   ]
  },
  {
   "cell_type": "markdown",
   "id": "6f7d1c8d-4b8b-4a42-851d-81327ecc1bb3",
   "metadata": {},
   "source": [
    "다중 선형 회귀도 순조롭게 학습되는 것을 확인할 수 있습니다. 독립 변수의 차원이 4이기 때문에 시각화가 불가하여 여기까지만 진행하겠습니다. 최종 학습된 모델 파라미터는 아래와 같습니다."
   ]
  },
  {
   "cell_type": "code",
   "execution_count": 29,
   "id": "0abfdced-147b-45a0-bbc4-21bb4f74d93e",
   "metadata": {},
   "outputs": [
    {
     "data": {
      "text/plain": [
       "Parameter containing:\n",
       "tensor([[ 0.1356, -0.0527,  0.6359,  0.0711]], requires_grad=True)"
      ]
     },
     "execution_count": 29,
     "metadata": {},
     "output_type": "execute_result"
    }
   ],
   "source": [
    "model.linear.weight"
   ]
  },
  {
   "cell_type": "code",
   "execution_count": 30,
   "id": "284297d5-a734-4bdf-ba68-8900269bb0a7",
   "metadata": {},
   "outputs": [
    {
     "data": {
      "text/plain": [
       "Parameter containing:\n",
       "tensor([-0.0739], requires_grad=True)"
      ]
     },
     "execution_count": 30,
     "metadata": {},
     "output_type": "execute_result"
    }
   ],
   "source": [
    "model.linear.bias"
   ]
  },
  {
   "cell_type": "markdown",
   "id": "fd711a9e-82a2-4077-a997-d77c8aae04d3",
   "metadata": {},
   "source": [
    "## 정리\n",
    "\n",
    "이번 챕터에서는 다중 선형 회귀를 torch를 이용해서 학습시켜 보았습니다. 다중 선형 회귀 모델보다도 더 중요한 부분은 독립변수와 웨이트와의 곱이 행렬 곱으로 표현된다는 점입니다. 이 부분을 잘 기억하고 넘어가기 바랍니다."
   ]
  },
  {
   "cell_type": "code",
   "execution_count": null,
   "id": "3a706f21-30ec-4128-9aa3-b57be4cd2a2a",
   "metadata": {},
   "outputs": [],
   "source": []
  }
 ],
 "metadata": {
  "kernelspec": {
   "display_name": "Python 3 (ipykernel)",
   "language": "python",
   "name": "python3"
  },
  "language_info": {
   "codemirror_mode": {
    "name": "ipython",
    "version": 3
   },
   "file_extension": ".py",
   "mimetype": "text/x-python",
   "name": "python",
   "nbconvert_exporter": "python",
   "pygments_lexer": "ipython3",
   "version": "3.10.8"
  }
 },
 "nbformat": 4,
 "nbformat_minor": 5
}
