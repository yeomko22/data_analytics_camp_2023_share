{
 "cells": [
  {
   "cell_type": "markdown",
   "id": "9f0341bf-8c57-488d-a149-c3ad77fffdf9",
   "metadata": {},
   "source": [
    "# Practice 2. Classification\n",
    "\n",
    "torch를 이용해서 linear multiclass classification 모델을 만들어보세요.\n",
    "\n",
    "데이터 셋 링크: "
   ]
  },
  {
   "cell_type": "code",
   "execution_count": null,
   "id": "9d395b3b-9bbb-483d-ac53-bdda6730f947",
   "metadata": {},
   "outputs": [],
   "source": []
  }
 ],
 "metadata": {
  "kernelspec": {
   "display_name": "Python 3 (ipykernel)",
   "language": "python",
   "name": "python3"
  },
  "language_info": {
   "codemirror_mode": {
    "name": "ipython",
    "version": 3
   },
   "file_extension": ".py",
   "mimetype": "text/x-python",
   "name": "python",
   "nbconvert_exporter": "python",
   "pygments_lexer": "ipython3",
   "version": "3.10.8"
  }
 },
 "nbformat": 4,
 "nbformat_minor": 5
}
