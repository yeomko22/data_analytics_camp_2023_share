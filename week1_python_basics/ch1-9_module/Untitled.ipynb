{
 "cells": [
  {
   "cell_type": "code",
   "execution_count": 1,
   "id": "28d8e013-95ca-427c-a5a1-90b851a1a827",
   "metadata": {},
   "outputs": [],
   "source": [
    "import requests"
   ]
  },
  {
   "cell_type": "code",
   "execution_count": 2,
   "id": "ba7f5285-5f73-42c8-bf02-c6119828a159",
   "metadata": {},
   "outputs": [],
   "source": [
    "url = \"http://apis.data.go.kr/1262000/CountryCovid19SafetyServiceNew/getCountrySafetyNewsListNew?serviceKey=waWyDzzFHa2n8avWs3QkbnrBwtucwrMwTM0oN6h%2BYhqThwIwIBFSkC3dpdhHhnJSzOWUbF0Li8n9sZ9WRH%2BTgQ%3D%3D\""
   ]
  },
  {
   "cell_type": "code",
   "execution_count": 4,
   "id": "9c703a47-98a1-468a-a403-f0de0ec4ebdf",
   "metadata": {},
   "outputs": [],
   "source": [
    "resp = requests.get(url)"
   ]
  },
  {
   "cell_type": "code",
   "execution_count": 5,
   "id": "82c754a9-30a0-4787-92a8-53c381b53149",
   "metadata": {},
   "outputs": [
    {
     "data": {
      "text/plain": [
       "<Response [200]>"
      ]
     },
     "execution_count": 5,
     "metadata": {},
     "output_type": "execute_result"
    }
   ],
   "source": [
    "resp"
   ]
  },
  {
   "cell_type": "code",
   "execution_count": 7,
   "id": "2b4058e6-f923-4254-b6b2-105af8821047",
   "metadata": {},
   "outputs": [],
   "source": [
    "resp_json = resp.json()"
   ]
  },
  {
   "cell_type": "code",
   "execution_count": 12,
   "id": "f846f898-69e2-40f1-9e56-b9feeb230dab",
   "metadata": {},
   "outputs": [],
   "source": [
    "import csv\n",
    "\n",
    "with open(\"./data.csv\", \"w\") as fw:\n",
    "    writer = csv.writer(fw)\n",
    "    items =  resp_json[\"data\"]\n",
    "    for item in items:\n",
    "        writer.writerow([item[\"txt_origin_cn\"]])"
   ]
  },
  {
   "cell_type": "code",
   "execution_count": null,
   "id": "2f8623ba-d0f4-40a2-852f-4a76de8081c1",
   "metadata": {},
   "outputs": [],
   "source": []
  }
 ],
 "metadata": {
  "kernelspec": {
   "display_name": "Python 3 (ipykernel)",
   "language": "python",
   "name": "python3"
  },
  "language_info": {
   "codemirror_mode": {
    "name": "ipython",
    "version": 3
   },
   "file_extension": ".py",
   "mimetype": "text/x-python",
   "name": "python",
   "nbconvert_exporter": "python",
   "pygments_lexer": "ipython3",
   "version": "3.10.8"
  }
 },
 "nbformat": 4,
 "nbformat_minor": 5
}
