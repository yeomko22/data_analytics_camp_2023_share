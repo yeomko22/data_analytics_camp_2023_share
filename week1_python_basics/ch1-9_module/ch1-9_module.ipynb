{
 "cells": [
  {
   "cell_type": "markdown",
   "id": "f5f8fea8-d70c-4022-9d40-4f1a7195490f",
   "metadata": {
    "tags": []
   },
   "source": [
    "# ch 1-9 모듈\n",
    "\n",
    "## 모듈화의 필요성\n",
    "\n",
    "지금까지 우리들은 모든 작업을 주피터 노트북 상에서 작업했습니다.  \n",
    "코드에 대한 설명을 마크다운으로 편하게 작성할 수 있고, 바로바로 코드의 실행 결과를 확인할 수 있는 것이 편리했기 때문입니다.\n",
    "\n",
    "그런데 우리가 앞서 개발한 카페 운영 게임을 실제 프러덕션 환경에 배포한다고 생각해보겠습니다.  \n",
    "이 경우, 코드에 대한 설명이라던가 셀 단위의 코드 실행은 굳이 필요하지 않겠죠?\n",
    "오히려 주피터 노트북의 형태로 코드를 작성할 경우, 어느 클래스가 실제로 배포되는 코드인지 알기가 어렵습니다.  \n",
    "\n",
    "때문에 실제 현업에서는 주피터 노트북은 AI 연구나 데이터 분석 시에 많이 사용합니다.  \n",
    "백엔드 서버 등을 개발할 때에는 python 파일을 직접 작성합니다.  \n",
    "\n",
    "앞서 노트북 형태로 작성한 코드들을 python 파일로 옮긴다고 생각해보겠습니다.  \n",
    "주요 코드들은 espresso, americano, refrigerator, barista 클래스 코드와 실제 이를 테스트하는 로직이 될 것 입니다.  \n",
    "그런데 모든 클래스의 코드들을 python 파일 하나에 다 적을 경우, 매우 보기 힘들어집니다.  \n",
    "프로젝트의 규모가 커질 수록, 클래스가 많아질 수록 점점 더 읽기 어렵겠죠.\n",
    "\n",
    "각 클래스 별로 쪼개서 파일을 만들고, 기능과 역할이 비슷한 것들끼리 한 폴더로 묶어주면 훨씬 코드가 읽기 편하겠죠?  \n",
    "이러한 작업을 python에서는 모듈화한다고 표현합니다.  "
   ]
  },
  {
   "cell_type": "markdown",
   "id": "97b1f098-972d-470a-8000-58aa7d90a9d6",
   "metadata": {},
   "source": [
    "## 모듈화 사용하기\n",
    "\n",
    "카페 게임의 경우 크게 커피 메뉴를 나타내는 클래스들과 카페 운영과 관련된 클래스로 묶어볼 수 있습니다.  \n",
    "그리고 그 아래에 클래스의 소스코드를 담아줄 수 있습니다.\n",
    "\n",
    "미리 모듈화 한 디렉터리 구조는 이렇습니다."
   ]
  },
  {
   "cell_type": "code",
   "execution_count": 1,
   "id": "7fbfbad7-a867-4ed7-934e-6ac2956420ac",
   "metadata": {},
   "outputs": [
    {
     "name": "stdout",
     "output_type": "stream",
     "text": [
      "\u001b[1;36m.\u001b[0m\n",
      "├── ch1-9_module.ipynb\n",
      "├── \u001b[1;36mcoffee\u001b[0m\n",
      "│   ├── americano.py\n",
      "│   └── espresso.py\n",
      "├── main.py\n",
      "└── \u001b[1;36mshop\u001b[0m\n",
      "    ├── barista.py\n",
      "    └── refrigerator.py\n",
      "\n",
      "3 directories, 6 files\n"
     ]
    }
   ],
   "source": [
    "!tree ."
   ]
  },
  {
   "cell_type": "markdown",
   "id": "fc189809-d1f0-4ed1-9ae2-0d7ec85e729c",
   "metadata": {},
   "source": [
    "구조를 보면 coffee와 shop 두 디렉터리로 분리하고, 한 파일에 클래스 하나만 포함되도록 코드를 분리했습니다.  \n",
    "그리고 main.py에서 각각을 import 해와서 바리스타 객체를 생성하고 손님의 주문을 받도록 했습니다.  "
   ]
  },
  {
   "cell_type": "markdown",
   "id": "64c33cb7-a1cb-455d-b040-3b2b51d92d62",
   "metadata": {},
   "source": [
    "## import 사용하기\n",
    "\n",
    "import 문법은 우리가 python 내장 라이브러리를 사용하면서 많이 써봤습니다.  \n",
    "이는 사실은 python을 설치하면서 함께 설치된 python module을 import 해오는 것입니다.  \n",
    "우리가 만든 모듈도 똑같은 방식으로 import를 해올 수 있습니다."
   ]
  },
  {
   "cell_type": "code",
   "execution_count": 4,
   "id": "bbe8771a-729b-44f3-9a3f-36bc238e49a9",
   "metadata": {},
   "outputs": [],
   "source": [
    "import coffee"
   ]
  },
  {
   "cell_type": "code",
   "execution_count": 5,
   "id": "188d756e-01a4-4b92-93b3-2cfb93017216",
   "metadata": {},
   "outputs": [
    {
     "name": "stdout",
     "output_type": "stream",
     "text": [
      "espresso 객체를 생성합니다.\n",
      "에스프레소 정보\n",
      "bean 하와이 코나 커피\n",
      "shot 3\n",
      "-----------------------\n"
     ]
    }
   ],
   "source": [
    "espresso = coffee.espresso.Espresso(bean=\"하와이 코나 커피\", shots=3)\n",
    "espresso.print_info()"
   ]
  },
  {
   "cell_type": "markdown",
   "id": "d2d81328-f677-4f09-a8ac-52a34814fb97",
   "metadata": {},
   "source": [
    "- coffee 모듈을 import  해준 다음, 그 안에 espresso.py 안의 Espresso 클래스를 찾아서 객체를 만들어주었습니다.\n",
    "- 이처러 모듈 전체를 import  하지 않고, 특정 클래스만 찾아서 import를 해줄 수도 있습니다."
   ]
  },
  {
   "cell_type": "code",
   "execution_count": 6,
   "id": "6337f734-9504-4c0a-9786-42d4ef57436e",
   "metadata": {},
   "outputs": [],
   "source": [
    "from coffee.espresso import Espresso"
   ]
  },
  {
   "cell_type": "code",
   "execution_count": 7,
   "id": "97466db6-f2ef-4fd7-8028-9f40c762493f",
   "metadata": {},
   "outputs": [
    {
     "name": "stdout",
     "output_type": "stream",
     "text": [
      "espresso 객체를 생성합니다.\n",
      "에스프레소 정보\n",
      "bean 하와이 코나 커피\n",
      "shot 3\n",
      "-----------------------\n"
     ]
    }
   ],
   "source": [
    "espresso = coffee.espresso.Espresso(bean=\"하와이 코나 커피\", shots=3)\n",
    "espresso.print_info()"
   ]
  },
  {
   "cell_type": "markdown",
   "id": "28d6f99a-8be6-43d9-bead-fd5407d49336",
   "metadata": {},
   "source": [
    "## main.py\n",
    "\n",
    "main.py를 열어보시면 아래와 같은 코드가 보일 겁니다.\n",
    "```python\n",
    "if __name__ == \"__main__\":\n",
    "    ...\n",
    "```\n",
    "이는 카페 운영 게임이라는 프로그램을 실행할 때, 처음 진입하는 진입점을 의미하며, 메인 함수라고 부릅니다.  \n",
    "java와 같은 언어에서는 이 main 함수의 사용이 강제되지만, 사실 python의 경우 이렇게 메인 함수를 표기 안해준다고 에러가 나지는 않습니다.  \n",
    "그래도 관습적으로 프로그램의 진입점, 가장 먼저 실행되어야 하는 코드 등은 이렇게 main 함수를 만들어서 작성해줍니다.  \n",
    "pycharm에서는 main까지 입력하고 tab을 치면 자동으로 완성됩니다."
   ]
  }
 ],
 "metadata": {
  "kernelspec": {
   "display_name": "Python 3 (ipykernel)",
   "language": "python",
   "name": "python3"
  },
  "language_info": {
   "codemirror_mode": {
    "name": "ipython",
    "version": 3
   },
   "file_extension": ".py",
   "mimetype": "text/x-python",
   "name": "python",
   "nbconvert_exporter": "python",
   "pygments_lexer": "ipython3",
   "version": "3.10.8"
  }
 },
 "nbformat": 4,
 "nbformat_minor": 5
}
