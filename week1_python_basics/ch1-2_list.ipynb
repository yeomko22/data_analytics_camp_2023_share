{
 "cells": [
  {
   "cell_type": "markdown",
   "id": "e59ec14a-56db-4364-a7a9-728d4ec2bb1e",
   "metadata": {},
   "source": [
    "# ch2. 리스트 \n",
    "\n",
    "하나의 값은 변수로 표현할 수 있었습니다. 이러한 변수들이 모여있는 집합을 배열이라고 부릅니다.\n",
    "\n",
    "파이썬에서는 list 문법을 통해 이를 지원합니다."
   ]
  },
  {
   "cell_type": "markdown",
   "id": "220a80a3-74fc-47bf-925e-1d7c8f70c456",
   "metadata": {},
   "source": [
    "## 리스트 만들기\n",
    "- 리스트는 \"[]\" 문법으로 만들 수 있습니다.\n",
    "- 리스트를 만들 때, 배열에 포함할 요소들을 함께 전달할 수 있습니다."
   ]
  },
  {
   "cell_type": "code",
   "execution_count": 1,
   "id": "66b1a8b5-6aa7-42d1-8949-45bde46540f1",
   "metadata": {},
   "outputs": [
    {
     "data": {
      "text/plain": [
       "([1, 2, 3, 4, 5], list)"
      ]
     },
     "execution_count": 1,
     "metadata": {},
     "output_type": "execute_result"
    }
   ],
   "source": [
    "nums = [1, 2, 3, 4 ,5]\n",
    "nums, type(nums)"
   ]
  },
  {
   "cell_type": "code",
   "execution_count": 3,
   "id": "cccbec67-e7c8-4870-be3a-efab84d282ec",
   "metadata": {},
   "outputs": [
    {
     "data": {
      "text/plain": [
       "(['사과', '바나나', '키위'], list)"
      ]
     },
     "execution_count": 3,
     "metadata": {},
     "output_type": "execute_result"
    }
   ],
   "source": [
    "fruits = [\"사과\", \"바나나\", \"키위\"]\n",
    "fruits, type(fruits)"
   ]
  },
  {
   "cell_type": "code",
   "execution_count": 4,
   "id": "06cec4ef-c3cb-4f7d-8811-099cae19468e",
   "metadata": {},
   "outputs": [],
   "source": [
    "apple = \"사과\"\n",
    "banana = \"바나나\"\n",
    "kiwi = \"키위\""
   ]
  },
  {
   "cell_type": "code",
   "execution_count": 5,
   "id": "c68db660-e227-48a5-9057-ef1e2a66ff80",
   "metadata": {},
   "outputs": [],
   "source": [
    "fruits = [apple, banana, kiwi]"
   ]
  },
  {
   "cell_type": "code",
   "execution_count": 6,
   "id": "1ff669e0-3abc-4954-9147-41c20f37dfed",
   "metadata": {},
   "outputs": [
    {
     "data": {
      "text/plain": [
       "['사과', '바나나', '키위']"
      ]
     },
     "execution_count": 6,
     "metadata": {},
     "output_type": "execute_result"
    }
   ],
   "source": [
    "fruits"
   ]
  },
  {
   "cell_type": "markdown",
   "id": "b83f8e64-d133-414b-ab4e-f959d00c2abc",
   "metadata": {},
   "source": [
    "- python list에서는 서로 다른 데이터 타입을 가진 변수들도 하나의 배열로 묶일 수 있습니다."
   ]
  },
  {
   "cell_type": "code",
   "execution_count": 8,
   "id": "45bc9760-5754-4250-accd-7ae631de1771",
   "metadata": {},
   "outputs": [],
   "source": [
    "mixed_list = [1, 2, \"사과\", banana, True, 3.5]"
   ]
  },
  {
   "cell_type": "markdown",
   "id": "1fe19b2a-8b50-4498-b6ad-513b8789e767",
   "metadata": {},
   "source": [
    "## 인덱스로 리스트 요소 접근\n",
    "- 리스트는 맨 앞의 요소부터 순서대로 0, 1, 2, ... 인덱스를 가집니다.\n",
    "- 이 인덱스로 배열의 요소를 읽을 수도 있고, 변경할 수도 있습니다.\n",
    "- 인덱스가 0으로 시작하기 때문에 배열의 마지막 요소의 인덱스는 배열의 길이 - 1이 됩니다. 배열의 마지막 인덱스를 접근하려 할 경우, 에러가 발생합니다."
   ]
  },
  {
   "cell_type": "code",
   "execution_count": 85,
   "id": "2b31e93f-2b55-415a-a18a-2a65a0ce4964",
   "metadata": {},
   "outputs": [
    {
     "name": "stdout",
     "output_type": "stream",
     "text": [
      "0\n",
      "1\n",
      "2\n",
      "3\n",
      "4\n"
     ]
    }
   ],
   "source": [
    "for i in range(5):\n",
    "    print(i)"
   ]
  },
  {
   "cell_type": "code",
   "execution_count": 86,
   "id": "fe4d680c-9fff-44d0-878c-3a6ef3c5ecd7",
   "metadata": {},
   "outputs": [],
   "source": [
    "nums = [0, 1, 2, 3, 4, 5, 6, 7, 8, 9]"
   ]
  },
  {
   "cell_type": "code",
   "execution_count": 87,
   "id": "22469037-8da2-4ef7-90c9-4ff66b8dd22e",
   "metadata": {},
   "outputs": [
    {
     "data": {
      "text/plain": [
       "2"
      ]
     },
     "execution_count": 87,
     "metadata": {},
     "output_type": "execute_result"
    }
   ],
   "source": [
    "nums[2]"
   ]
  },
  {
   "cell_type": "code",
   "execution_count": 82,
   "id": "3aeb9a01-022e-4c91-90dc-96ca210e8efd",
   "metadata": {},
   "outputs": [
    {
     "data": {
      "text/plain": [
       "[1, 2, 3]"
      ]
     },
     "execution_count": 82,
     "metadata": {},
     "output_type": "execute_result"
    }
   ],
   "source": [
    "nums[1:4]"
   ]
  },
  {
   "cell_type": "code",
   "execution_count": 83,
   "id": "740db535-1dba-4dfd-9737-1bedaedd66b0",
   "metadata": {},
   "outputs": [
    {
     "data": {
      "text/plain": [
       "([0, 1, 2, 3, 4], [5, 6, 7, 8, 9])"
      ]
     },
     "execution_count": 83,
     "metadata": {},
     "output_type": "execute_result"
    }
   ],
   "source": [
    "nums[:5], nums[5:]"
   ]
  },
  {
   "cell_type": "code",
   "execution_count": 84,
   "id": "4c7a9301-a5fc-495a-8123-1f72195546c4",
   "metadata": {},
   "outputs": [
    {
     "data": {
      "text/plain": [
       "0"
      ]
     },
     "execution_count": 84,
     "metadata": {},
     "output_type": "execute_result"
    }
   ],
   "source": [
    "nums[0]"
   ]
  },
  {
   "cell_type": "code",
   "execution_count": 11,
   "id": "8defdff4-c97f-4499-85ff-7a48fa552ebd",
   "metadata": {},
   "outputs": [
    {
     "data": {
      "text/plain": [
       "2"
      ]
     },
     "execution_count": 11,
     "metadata": {},
     "output_type": "execute_result"
    }
   ],
   "source": [
    "nums[1]"
   ]
  },
  {
   "cell_type": "code",
   "execution_count": 12,
   "id": "9229a755-ca00-4cd7-a27c-412a8f4f4868",
   "metadata": {},
   "outputs": [
    {
     "data": {
      "text/plain": [
       "3"
      ]
     },
     "execution_count": 12,
     "metadata": {},
     "output_type": "execute_result"
    }
   ],
   "source": [
    "nums[2]"
   ]
  },
  {
   "cell_type": "code",
   "execution_count": 61,
   "id": "8862fefd-3a8f-4d7d-a8a2-e115cd7b8b97",
   "metadata": {},
   "outputs": [
    {
     "data": {
      "text/plain": [
       "9"
      ]
     },
     "execution_count": 61,
     "metadata": {},
     "output_type": "execute_result"
    }
   ],
   "source": [
    "nums[8]"
   ]
  },
  {
   "cell_type": "code",
   "execution_count": 62,
   "id": "2a2b6b46-58ee-478e-93ac-35ec3c499b84",
   "metadata": {},
   "outputs": [
    {
     "ename": "IndexError",
     "evalue": "list index out of range",
     "output_type": "error",
     "traceback": [
      "\u001b[0;31m---------------------------------------------------------------------------\u001b[0m",
      "\u001b[0;31mIndexError\u001b[0m                                Traceback (most recent call last)",
      "Cell \u001b[0;32mIn[62], line 1\u001b[0m\n\u001b[0;32m----> 1\u001b[0m \u001b[43mnums\u001b[49m\u001b[43m[\u001b[49m\u001b[38;5;241;43m9\u001b[39;49m\u001b[43m]\u001b[49m\n",
      "\u001b[0;31mIndexError\u001b[0m: list index out of range"
     ]
    }
   ],
   "source": [
    "nums[9]"
   ]
  },
  {
   "cell_type": "code",
   "execution_count": 63,
   "id": "a442a5d9-8d08-4cf9-96f1-1c3c1865266e",
   "metadata": {},
   "outputs": [
    {
     "data": {
      "text/plain": [
       "8"
      ]
     },
     "execution_count": 63,
     "metadata": {},
     "output_type": "execute_result"
    }
   ],
   "source": [
    "nums[-2]"
   ]
  },
  {
   "cell_type": "code",
   "execution_count": 64,
   "id": "a5f97f02-2fee-46c4-9a31-cdb4e1bbfe13",
   "metadata": {},
   "outputs": [
    {
     "data": {
      "text/plain": [
       "[2, 3, 4, 5]"
      ]
     },
     "execution_count": 64,
     "metadata": {},
     "output_type": "execute_result"
    }
   ],
   "source": [
    "nums[1:5]"
   ]
  },
  {
   "cell_type": "code",
   "execution_count": 65,
   "id": "407c60bb-c690-4d90-b2d3-63ea265d8ba1",
   "metadata": {},
   "outputs": [
    {
     "data": {
      "text/plain": [
       "[1, 2, 3, 4, 5]"
      ]
     },
     "execution_count": 65,
     "metadata": {},
     "output_type": "execute_result"
    }
   ],
   "source": [
    "nums[:5]"
   ]
  },
  {
   "cell_type": "code",
   "execution_count": 66,
   "id": "5f4da690-fddf-4c9a-919b-9f408c43f44a",
   "metadata": {},
   "outputs": [
    {
     "data": {
      "text/plain": [
       "[6, 7, 8, 9]"
      ]
     },
     "execution_count": 66,
     "metadata": {},
     "output_type": "execute_result"
    }
   ],
   "source": [
    "nums[5:]"
   ]
  },
  {
   "cell_type": "code",
   "execution_count": 67,
   "id": "9ad38125-b8b4-48e0-a2f9-607f056b9a22",
   "metadata": {},
   "outputs": [],
   "source": [
    "nums = [1, 2, 3, 4, 5, 6, 7, 8, 9]"
   ]
  },
  {
   "cell_type": "code",
   "execution_count": 68,
   "id": "17f4a5ff-67a4-4a7f-b006-3aa0d49ea88a",
   "metadata": {},
   "outputs": [
    {
     "data": {
      "text/plain": [
       "[7, 8, 9]"
      ]
     },
     "execution_count": 68,
     "metadata": {},
     "output_type": "execute_result"
    }
   ],
   "source": [
    "nums[-3:]"
   ]
  },
  {
   "cell_type": "code",
   "execution_count": 69,
   "id": "5ff15715-cc2f-4f64-a3ac-0feba6eb4832",
   "metadata": {},
   "outputs": [
    {
     "data": {
      "text/plain": [
       "[1, 2, 3, 4, 5, 6]"
      ]
     },
     "execution_count": 69,
     "metadata": {},
     "output_type": "execute_result"
    }
   ],
   "source": [
    "nums[:-3]"
   ]
  },
  {
   "cell_type": "code",
   "execution_count": 70,
   "id": "79e22659-cb63-4140-85d0-aefebf4da65b",
   "metadata": {},
   "outputs": [
    {
     "data": {
      "text/plain": [
       "[2, 4, 6, 8]"
      ]
     },
     "execution_count": 70,
     "metadata": {},
     "output_type": "execute_result"
    }
   ],
   "source": [
    "nums[1:8:2]"
   ]
  },
  {
   "cell_type": "code",
   "execution_count": 71,
   "id": "c42d3fdb-b085-4859-8d9e-3871a5f10e7d",
   "metadata": {},
   "outputs": [],
   "source": [
    "nested_list = [[1, 2, 3, [5,6,7]], 5, \"hello\", [8,9]]"
   ]
  },
  {
   "cell_type": "code",
   "execution_count": 72,
   "id": "615a91a5-58f1-447e-abc1-44ca6a6930bb",
   "metadata": {},
   "outputs": [
    {
     "data": {
      "text/plain": [
       "[[1, 2, 3, [5, 6, 7]], 5, 'hello', [8, 9]]"
      ]
     },
     "execution_count": 72,
     "metadata": {},
     "output_type": "execute_result"
    }
   ],
   "source": [
    "nested_list"
   ]
  },
  {
   "cell_type": "code",
   "execution_count": 73,
   "id": "425d264d-1ce9-42be-b57b-c2a731c9286a",
   "metadata": {},
   "outputs": [
    {
     "data": {
      "text/plain": [
       "[8, 9]"
      ]
     },
     "execution_count": 73,
     "metadata": {},
     "output_type": "execute_result"
    }
   ],
   "source": [
    "nested_list[-1]"
   ]
  },
  {
   "cell_type": "code",
   "execution_count": 74,
   "id": "035df10a-3ef1-451f-b308-691eccbfb5f9",
   "metadata": {},
   "outputs": [
    {
     "data": {
      "text/plain": [
       "8"
      ]
     },
     "execution_count": 74,
     "metadata": {},
     "output_type": "execute_result"
    }
   ],
   "source": [
    "nested_list[-1][-2]"
   ]
  },
  {
   "cell_type": "code",
   "execution_count": 38,
   "id": "e5ea90e1-bdf8-452f-ab39-ffff6bf238c5",
   "metadata": {},
   "outputs": [
    {
     "data": {
      "text/plain": [
       "[1, 2, 3, [5, 6, 7]]"
      ]
     },
     "execution_count": 38,
     "metadata": {},
     "output_type": "execute_result"
    }
   ],
   "source": [
    "nested_list[0]"
   ]
  },
  {
   "cell_type": "code",
   "execution_count": 39,
   "id": "9c8afa63-f461-430e-8896-0a8ab319a276",
   "metadata": {},
   "outputs": [
    {
     "data": {
      "text/plain": [
       "1"
      ]
     },
     "execution_count": 39,
     "metadata": {},
     "output_type": "execute_result"
    }
   ],
   "source": [
    "nested_list[0][0]"
   ]
  },
  {
   "cell_type": "code",
   "execution_count": 43,
   "id": "f81d520b-6122-4db6-b303-cfeb937d2fef",
   "metadata": {},
   "outputs": [
    {
     "data": {
      "text/plain": [
       "5"
      ]
     },
     "execution_count": 43,
     "metadata": {},
     "output_type": "execute_result"
    }
   ],
   "source": [
    "nested_list[0][-1][0]"
   ]
  },
  {
   "cell_type": "code",
   "execution_count": 30,
   "id": "7a632ede-e87b-4bb6-a38b-9927b31fd3d9",
   "metadata": {},
   "outputs": [
    {
     "data": {
      "text/plain": [
       "7"
      ]
     },
     "execution_count": 30,
     "metadata": {},
     "output_type": "execute_result"
    }
   ],
   "source": [
    "nested_list[0][3][2]"
   ]
  },
  {
   "cell_type": "code",
   "execution_count": 31,
   "id": "a596c22b-df61-416f-b66a-9e62d66385bf",
   "metadata": {},
   "outputs": [
    {
     "data": {
      "text/plain": [
       "9"
      ]
     },
     "execution_count": 31,
     "metadata": {},
     "output_type": "execute_result"
    }
   ],
   "source": [
    "nested_list[3][1]"
   ]
  },
  {
   "cell_type": "code",
   "execution_count": 32,
   "id": "d0be35c8-71f1-4d40-b6a9-b5b1de16f1de",
   "metadata": {},
   "outputs": [],
   "source": [
    "nested_list[3][1] = \"nice\""
   ]
  },
  {
   "cell_type": "code",
   "execution_count": 33,
   "id": "ec3aaf61-3564-4ed2-8f1b-52d2d546c461",
   "metadata": {},
   "outputs": [
    {
     "data": {
      "text/plain": [
       "[[1, 2, 3, [5, 6, 7]], 5, 'hello', [8, 'nice']]"
      ]
     },
     "execution_count": 33,
     "metadata": {},
     "output_type": "execute_result"
    }
   ],
   "source": [
    "nested_list"
   ]
  },
  {
   "cell_type": "markdown",
   "id": "28dbbdef-0741-4472-9930-45d9e9849270",
   "metadata": {},
   "source": [
    "- 배열 안에 배열이 중첩되어 있을 경우, []를 여러번 반복해서 해당 요소에 접근할 수 있습니다."
   ]
  },
  {
   "cell_type": "code",
   "execution_count": 89,
   "id": "5bd6b02c-f1fa-4d54-83eb-114a640ca435",
   "metadata": {},
   "outputs": [],
   "source": [
    "# 2중 배열로 표현한 구구단\n",
    "gugudan = [\n",
    "    [1, 2, 3, 4, 5, 6, 7, 8, 9],\n",
    "    [2, 4, 6, 8, 10, 12, 14, 16, 18],\n",
    "    [3, 6, 9, 12, 15, 18, 21, 24, 27],\n",
    "    [4, 8, 12, 16, 20, 24, 28, 32, 36],\n",
    "    [5, 10, 15, 20, 25, 30, 35, 40, 45],\n",
    "    [6, 12, 18, 24, 30, 36, 42, 48, 54],\n",
    "    [7, 14, 21, 28, 35, 42, 49, 56, 63],\n",
    "    [8, 16, 24, 32, 40, 48, 56, 64, 72],\n",
    "    [9, 18, 27, 36, 45, 54, 63, 72, 81]\n",
    "]"
   ]
  },
  {
   "cell_type": "markdown",
   "id": "c461784d-28d7-4fad-97de-bbc6e19881df",
   "metadata": {},
   "source": [
    "- 구구단 3단 출력하기"
   ]
  },
  {
   "cell_type": "code",
   "execution_count": 93,
   "id": "77ccb049-3d8c-4fb0-ad30-dc681df3d2ae",
   "metadata": {},
   "outputs": [
    {
     "name": "stdout",
     "output_type": "stream",
     "text": [
      "[18, 21, 24, 27]\n"
     ]
    }
   ],
   "source": [
    "print(gugudan[2][-4:])"
   ]
  },
  {
   "cell_type": "markdown",
   "id": "3cffbc85-3954-40ce-bb18-5127fe5d3b9a",
   "metadata": {},
   "source": [
    "## 리스트 추가, 수정, 삭제\n",
    "- 한번 생성한 리스트의 요소는 수정하거나 삭제할 수 있습니다."
   ]
  },
  {
   "cell_type": "markdown",
   "id": "bdad9de2-feef-4ef1-a288-7d3bf69cdf7d",
   "metadata": {
    "tags": []
   },
   "source": [
    "### 리스트에 요소 추가하기\n",
    "- append 함수를 사용하면 배열에 원하는 요소를 추가할 수 있습니다.\n",
    "- 배열 안에 배열도 추가할 수 있습니다."
   ]
  },
  {
   "cell_type": "code",
   "execution_count": 110,
   "id": "5cc21775-75d7-4f64-838b-e01c7b8360a3",
   "metadata": {},
   "outputs": [],
   "source": [
    "nums_tuple = (1, 2, 3, 4)"
   ]
  },
  {
   "cell_type": "code",
   "execution_count": 112,
   "id": "2e261849-96cd-44f1-83bd-19bfe830a746",
   "metadata": {},
   "outputs": [
    {
     "ename": "AttributeError",
     "evalue": "'tuple' object has no attribute 'extend'",
     "output_type": "error",
     "traceback": [
      "\u001b[0;31m---------------------------------------------------------------------------\u001b[0m",
      "\u001b[0;31mAttributeError\u001b[0m                            Traceback (most recent call last)",
      "Cell \u001b[0;32mIn[112], line 1\u001b[0m\n\u001b[0;32m----> 1\u001b[0m \u001b[43mnums_tuple\u001b[49m\u001b[38;5;241;43m.\u001b[39;49m\u001b[43mextend\u001b[49m([\u001b[38;5;241m5\u001b[39m])\n",
      "\u001b[0;31mAttributeError\u001b[0m: 'tuple' object has no attribute 'extend'"
     ]
    }
   ],
   "source": [
    "nums_tuple.extend([5])"
   ]
  },
  {
   "cell_type": "code",
   "execution_count": 114,
   "id": "c3d15176-c9ed-41b0-a6be-874d39c7b88b",
   "metadata": {},
   "outputs": [
    {
     "ename": "TypeError",
     "evalue": "'tuple' object does not support item assignment",
     "output_type": "error",
     "traceback": [
      "\u001b[0;31m---------------------------------------------------------------------------\u001b[0m",
      "\u001b[0;31mTypeError\u001b[0m                                 Traceback (most recent call last)",
      "Cell \u001b[0;32mIn[114], line 1\u001b[0m\n\u001b[0;32m----> 1\u001b[0m \u001b[43mnums_tuple\u001b[49m\u001b[43m[\u001b[49m\u001b[38;5;241;43m0\u001b[39;49m\u001b[43m]\u001b[49m \u001b[38;5;241m=\u001b[39m \u001b[38;5;241m10\u001b[39m\n",
      "\u001b[0;31mTypeError\u001b[0m: 'tuple' object does not support item assignment"
     ]
    }
   ],
   "source": [
    "nums_tuple[0] = 10"
   ]
  },
  {
   "cell_type": "code",
   "execution_count": 117,
   "id": "0bca1a73-346f-4273-92c3-42a1fe4d574b",
   "metadata": {},
   "outputs": [],
   "source": [
    "nums = [0, 1, 2, 3, 4]"
   ]
  },
  {
   "cell_type": "code",
   "execution_count": 108,
   "id": "93dae547-d35c-4500-8a3a-cd4d1a689b7e",
   "metadata": {},
   "outputs": [],
   "source": [
    "nums.append(add_nums)"
   ]
  },
  {
   "cell_type": "code",
   "execution_count": 109,
   "id": "6d2f76e0-695d-4846-93d8-5b78ac868e90",
   "metadata": {},
   "outputs": [
    {
     "data": {
      "text/plain": [
       "[0, 1, 2, 3, 4, 5, 6, 7, 8, [5, 6, 7, 8]]"
      ]
     },
     "execution_count": 109,
     "metadata": {},
     "output_type": "execute_result"
    }
   ],
   "source": [
    "nums"
   ]
  },
  {
   "cell_type": "markdown",
   "id": "8dabb87c-cd77-441f-a196-13d4d1c66573",
   "metadata": {},
   "source": [
    "- extend를 사용하면 다른 배열의 모든 요소들을 해당 배열에 추가할 수 있습니다."
   ]
  },
  {
   "cell_type": "code",
   "execution_count": 122,
   "id": "525592be-255e-4bfd-b4bf-01f2a825c1d6",
   "metadata": {},
   "outputs": [
    {
     "name": "stdout",
     "output_type": "stream",
     "text": [
      "5\n",
      "6\n",
      "7\n",
      "8\n"
     ]
    }
   ],
   "source": [
    "add_nums = (5, 6, 7, 8)\n",
    "for num in add_nums:\n",
    "    print(num)\n",
    "nums.extend((5, 6, 7, 8))"
   ]
  },
  {
   "cell_type": "code",
   "execution_count": 119,
   "id": "e2eb7232-f7a9-464e-abb9-ece2108b4d1c",
   "metadata": {},
   "outputs": [
    {
     "data": {
      "text/plain": [
       "[0, 1, 2, 3, 4, 5, 6, 7, 8]"
      ]
     },
     "execution_count": 119,
     "metadata": {},
     "output_type": "execute_result"
    }
   ],
   "source": [
    "nums"
   ]
  },
  {
   "cell_type": "code",
   "execution_count": 99,
   "id": "0bf0ea4f-625f-42d8-8a77-174766fdcceb",
   "metadata": {},
   "outputs": [],
   "source": [
    "nums_a = [1, 2, 3, 4]\n",
    "nums_b = [5, 6, 7, 8]"
   ]
  },
  {
   "cell_type": "code",
   "execution_count": 101,
   "id": "932372a1-d9ae-47eb-aa7f-49d18a3cb43d",
   "metadata": {},
   "outputs": [],
   "source": [
    "nums_c = nums_a + nums_b"
   ]
  },
  {
   "cell_type": "code",
   "execution_count": 102,
   "id": "ccb24798-d7eb-455b-a9b9-1d7667ff9426",
   "metadata": {},
   "outputs": [
    {
     "data": {
      "text/plain": [
       "[1, 2, 3, 4, 5, 6, 7, 8]"
      ]
     },
     "execution_count": 102,
     "metadata": {},
     "output_type": "execute_result"
    }
   ],
   "source": [
    "nums_c"
   ]
  },
  {
   "cell_type": "markdown",
   "id": "c939cc9e-6614-4f87-91a4-3cc25890e7e4",
   "metadata": {},
   "source": [
    "### 리스트 요소 업데이트\n",
    "- 리스트의 요소는 한번 할당된 뒤, 계속해서 수정할 수 있습니다.\n",
    "- 특정 인덱스에 새로운 값을 할당하면 됩니다."
   ]
  },
  {
   "cell_type": "code",
   "execution_count": 103,
   "id": "0882b74d-93b3-4aff-99c3-ed3115fe0cd0",
   "metadata": {},
   "outputs": [],
   "source": [
    "nums_c[0] += 5"
   ]
  },
  {
   "cell_type": "code",
   "execution_count": 104,
   "id": "2460ec4a-58f7-47e9-bba4-1bacbe788ec6",
   "metadata": {},
   "outputs": [
    {
     "data": {
      "text/plain": [
       "[6, 2, 3, 4, 5, 6, 7, 8]"
      ]
     },
     "execution_count": 104,
     "metadata": {},
     "output_type": "execute_result"
    }
   ],
   "source": [
    "nums_c"
   ]
  },
  {
   "cell_type": "markdown",
   "id": "553e795d-0978-49cf-b893-87a9d340e755",
   "metadata": {},
   "source": [
    "### 리스트 요소 삭제\n",
    "- del 키워드로 리스트에서 특정 인덱스 값을 삭제할 수 있습니다. \n",
    "- 다만 현업에서는 filter라는 함수를 사용하며, 조건문과 lambda를 배운 뒤에 소개하겠습니다. "
   ]
  },
  {
   "cell_type": "code",
   "execution_count": 144,
   "id": "38a649e0-6732-4a28-b6f6-1fe28bb5d7cf",
   "metadata": {},
   "outputs": [],
   "source": [
    "nums = [0 ,1 , 2, 3, 4, 5]"
   ]
  },
  {
   "cell_type": "code",
   "execution_count": 133,
   "id": "f895b898-7b93-4a01-9e34-29721b5353f8",
   "metadata": {},
   "outputs": [
    {
     "data": {
      "text/plain": [
       "[1, 2, 3, 4, 5]"
      ]
     },
     "execution_count": 133,
     "metadata": {},
     "output_type": "execute_result"
    }
   ],
   "source": [
    "nums"
   ]
  },
  {
   "cell_type": "code",
   "execution_count": 134,
   "id": "9ea7d832-0db8-4ab7-b98e-2eb9e240c949",
   "metadata": {},
   "outputs": [
    {
     "data": {
      "text/plain": [
       "[1, 2, 3, 4, 5]"
      ]
     },
     "execution_count": 134,
     "metadata": {},
     "output_type": "execute_result"
    }
   ],
   "source": [
    "nums"
   ]
  },
  {
   "cell_type": "code",
   "execution_count": 137,
   "id": "59d3bb06-d463-4d8c-8c3d-29f5e1aac8ff",
   "metadata": {},
   "outputs": [],
   "source": [
    "even_nums = nums[1::2]"
   ]
  },
  {
   "cell_type": "code",
   "execution_count": 138,
   "id": "8ba10378-5c3d-4c2c-ba48-524d53a8d708",
   "metadata": {},
   "outputs": [
    {
     "data": {
      "text/plain": [
       "[2, 4]"
      ]
     },
     "execution_count": 138,
     "metadata": {},
     "output_type": "execute_result"
    }
   ],
   "source": [
    "even_nums"
   ]
  },
  {
   "cell_type": "code",
   "execution_count": 139,
   "id": "cd8b5941-e317-4044-9240-8368f3a73929",
   "metadata": {},
   "outputs": [],
   "source": [
    "odd_nums = nums[::2]"
   ]
  },
  {
   "cell_type": "code",
   "execution_count": 140,
   "id": "48c1b544-ddc4-4f11-b601-0a382d970ccd",
   "metadata": {},
   "outputs": [
    {
     "data": {
      "text/plain": [
       "[1, 3, 5]"
      ]
     },
     "execution_count": 140,
     "metadata": {},
     "output_type": "execute_result"
    }
   ],
   "source": [
    "odd_nums"
   ]
  },
  {
   "cell_type": "code",
   "execution_count": 141,
   "id": "4e0d88f9-a4d6-46df-979c-a165739b2ef4",
   "metadata": {},
   "outputs": [],
   "source": [
    "nums = nums[1:]"
   ]
  },
  {
   "cell_type": "code",
   "execution_count": 142,
   "id": "1f76fbea-b90b-4199-b62f-69b3918f512b",
   "metadata": {},
   "outputs": [
    {
     "data": {
      "text/plain": [
       "[2, 3, 4, 5]"
      ]
     },
     "execution_count": 142,
     "metadata": {},
     "output_type": "execute_result"
    }
   ],
   "source": [
    "nums"
   ]
  },
  {
   "cell_type": "code",
   "execution_count": 145,
   "id": "8e3f2731-a8be-48b9-ab76-10069a6665cf",
   "metadata": {},
   "outputs": [
    {
     "data": {
      "text/plain": [
       "[0, 1, 2, 3, 4]"
      ]
     },
     "execution_count": 145,
     "metadata": {},
     "output_type": "execute_result"
    }
   ],
   "source": [
    "nums = nums[:-1]\n",
    "nums"
   ]
  },
  {
   "cell_type": "markdown",
   "id": "ac2d1032-c7f4-4152-8da4-8b0cbe929b27",
   "metadata": {
    "tags": []
   },
   "source": [
    "## Q. 슬라이싱을 이용해서 [0, 1, 4, 5] 배열을 구하라"
   ]
  },
  {
   "cell_type": "code",
   "execution_count": 161,
   "id": "ea28030d-d173-4132-b924-9d80e3d3cb46",
   "metadata": {},
   "outputs": [],
   "source": [
    "nums = [0, 1, 2, 3, 4, 5]"
   ]
  },
  {
   "cell_type": "code",
   "execution_count": 156,
   "id": "71818930-2343-42d3-a688-874e00eaaa83",
   "metadata": {},
   "outputs": [],
   "source": [
    "del nums[2:4]"
   ]
  },
  {
   "cell_type": "code",
   "execution_count": 157,
   "id": "73bd28db-e234-4e7d-80c2-3511cc51de33",
   "metadata": {},
   "outputs": [
    {
     "data": {
      "text/plain": [
       "[0, 1, 4, 5]"
      ]
     },
     "execution_count": 157,
     "metadata": {},
     "output_type": "execute_result"
    }
   ],
   "source": [
    "nums"
   ]
  },
  {
   "cell_type": "code",
   "execution_count": 162,
   "id": "94150e4b-32e2-4eb2-addb-ce18c01aac85",
   "metadata": {},
   "outputs": [],
   "source": [
    "nums.remove(3)\n",
    "nums.remove(2)"
   ]
  },
  {
   "cell_type": "code",
   "execution_count": 163,
   "id": "cea4656e-d7b9-4c24-9739-806ab2e32bbf",
   "metadata": {},
   "outputs": [
    {
     "data": {
      "text/plain": [
       "[0, 1, 4, 5]"
      ]
     },
     "execution_count": 163,
     "metadata": {},
     "output_type": "execute_result"
    }
   ],
   "source": [
    "nums"
   ]
  },
  {
   "cell_type": "markdown",
   "id": "f173a69a-ef86-452f-b096-3b8c6e3851d8",
   "metadata": {},
   "source": [
    "## 리스트 뒤집기\n",
    "- [::-11] 혹은 reverse 함수로 배열을 뒤집을 수 있습니다\n",
    "- reverse의 경우엔 배열을 뒤집은 다음 다시 할당을 하지만, [::-1]은 뒤집기만 할 뿐, 다시 할당을 하지 않습니다."
   ]
  },
  {
   "cell_type": "code",
   "execution_count": 180,
   "id": "fc46cbd7-cdf1-43c4-a6b0-25683e87cd37",
   "metadata": {},
   "outputs": [],
   "source": [
    "nums = [0, 1, 2, 3, 4, 5]"
   ]
  },
  {
   "cell_type": "code",
   "execution_count": 203,
   "id": "5b5cb357-fa71-41f0-a42e-5f6685e3831a",
   "metadata": {},
   "outputs": [],
   "source": [
    "reversed_nums = nums[::-1]"
   ]
  },
  {
   "cell_type": "code",
   "execution_count": 204,
   "id": "7b7e931f-de4d-4e02-9dcd-e3cd7ac789be",
   "metadata": {},
   "outputs": [
    {
     "data": {
      "text/plain": [
       "[5, 4, 3, 2, 1, 0]"
      ]
     },
     "execution_count": 204,
     "metadata": {},
     "output_type": "execute_result"
    }
   ],
   "source": [
    "reversed_nums"
   ]
  },
  {
   "cell_type": "code",
   "execution_count": null,
   "id": "16d67030-0426-435d-8ca8-c15998d43e2f",
   "metadata": {},
   "outputs": [],
   "source": []
  },
  {
   "cell_type": "markdown",
   "id": "fc888dda-d6c8-49d1-a4c6-d658fdfd04f2",
   "metadata": {},
   "source": [
    "## 리스트 소팅\n",
    "- 숫자나 문자로만 이루어진 배열은 .sort() 함수를 이용해서 정렬을 할 수 있습니다.\n",
    "- sort는 list의 내장 함수로, 리턴 값 없이 해당 리스트를 정렬합니다.\n",
    "- sorted는 더 복잡한 정렬을 할 때 사용하는 함수로, 배열을 파라미터로 받아서 정렬된 배열을 리턴합니다. 복잡한 정렬 조건을 추가로 리턴받을 수도 있습니다.\n",
    "- 현업에서는 보통 sorted를 많이 사용합니다."
   ]
  },
  {
   "cell_type": "code",
   "execution_count": null,
   "id": "2ffda1c2-1a9e-4303-aede-d4163f096ac7",
   "metadata": {},
   "outputs": [],
   "source": []
  },
  {
   "cell_type": "markdown",
   "id": "2d65bc79-778a-4069-b77e-3febf8025040",
   "metadata": {},
   "source": [
    "- 문자열로 이루어진 배열도 사전 순으로 정렬이 가능하다."
   ]
  },
  {
   "cell_type": "code",
   "execution_count": null,
   "id": "58f4dee6-5f7d-497f-becb-8f06c05b0697",
   "metadata": {},
   "outputs": [],
   "source": []
  },
  {
   "cell_type": "markdown",
   "id": "951f29ed-dffc-4f57-9825-9fb49286bdb2",
   "metadata": {},
   "source": [
    "- sorted를 이용하면 복잡한 정렬 조건도 쉽게 해결할 수 있다.\n",
    "- ex) 다음은 이름과 수학 점수, 국어 점수, 총 점 을 묶은 배열입니다. 총 점이 높은 순서대로 이름을 출력하세요. 총점이 동점일 경우, 수학 점수가 높은 사람을 먼저 출력하세요. 수학과 국어가 모두 동점일 경우, 누가 먼저 출력되도 상관 없습니다."
   ]
  },
  {
   "cell_type": "code",
   "execution_count": 175,
   "id": "a3c7fb2b-147d-4458-a32a-ea927bdfd321",
   "metadata": {},
   "outputs": [],
   "source": [
    "scores = [\n",
    "    (\"민수\", 50, 70),\n",
    "    (\"동현\", 60, 90),\n",
    "    (\"진희\", 40, 80),\n",
    "    (\"준용\", 50, 80),\n",
    "    (\"희수\", 70, 70),\n",
    "    (\"창서\", 60, 60),\n",
    "]"
   ]
  },
  {
   "cell_type": "code",
   "execution_count": 205,
   "id": "eaa057a7-b702-4705-a546-2e986f716e44",
   "metadata": {},
   "outputs": [
    {
     "name": "stdout",
     "output_type": "stream",
     "text": [
      "[('동현', 60, 90), ('희수', 70, 70), ('준용', 50, 80), ('창서', 60, 60), ('민수', 50, 70), ('진희', 40, 80)]\n"
     ]
    }
   ],
   "source": [
    "sorted_scores = sorted(scores, key=lambda x: (-(x[1]+x[2]), -x[1], x[0]))\n",
    "print(sorted_scores)"
   ]
  },
  {
   "cell_type": "markdown",
   "id": "eca01ecf-11a4-4927-ba35-4dbb6ca559a7",
   "metadata": {},
   "source": [
    "## 리스트 산술 연산\n",
    "- 리스트끼리 \"+\" 연산이 가능합니다. 이는 두 배열을 하나의 배열로 이어붙여줍니다.\n",
    "- 리스트는 int 변수와 \"*\" 연산이 가능합니다. 이는 배열을 n번 반복해줍니다."
   ]
  },
  {
   "cell_type": "code",
   "execution_count": null,
   "id": "c316e76b-d505-46d0-a640-89c9a12384cd",
   "metadata": {},
   "outputs": [],
   "source": []
  },
  {
   "cell_type": "markdown",
   "id": "0dd1cffd-695a-4098-a867-144d25333e26",
   "metadata": {},
   "source": [
    "## 심화 주제"
   ]
  },
  {
   "cell_type": "markdown",
   "id": "adf3f070-b568-4c82-8d83-5020eb6ad646",
   "metadata": {},
   "source": [
    "### python list의 내부 구현\n",
    "python list는 하나의 배열 안에 서로 다른 데이터 타입을 가진 변수들을 담을 수 있습니다. 파이썬의 리스트는 내부적으로 어떻게 구현되어 있기에 이것이 가능할까요? 그리고 이에 따른 장점과 단점은 어떤 것들이 있을까요?\n",
    "\n",
    "읽기 자료: https://jakevdp.github.io/PythonDataScienceHandbook/02.01-understanding-data-types.html"
   ]
  },
  {
   "cell_type": "code",
   "execution_count": null,
   "id": "5071b85b-a02e-40c1-b050-8c38de0b508a",
   "metadata": {},
   "outputs": [],
   "source": []
  },
  {
   "cell_type": "markdown",
   "id": "0337c52c-0b9d-4eed-afd7-0a24d4b08720",
   "metadata": {},
   "source": [
    "### append와 extend의 차이\n",
    "\n",
    "- python 배열에 새로운 요소를 추가하려면 append 혹은 extend 함수를 사용해야합니다. \n",
    "- 어떤 방식이 더 빠르고 메모리 효율적으로 동작할까요? 그리고 각각이 적합한 상황은 언제일까요?"
   ]
  },
  {
   "cell_type": "code",
   "execution_count": null,
   "id": "c4a1f740-2155-4d3f-8832-e24429dc2aa2",
   "metadata": {},
   "outputs": [],
   "source": []
  },
  {
   "cell_type": "markdown",
   "id": "16b2eb4f-cfa4-4fe0-b185-6b183fdc387a",
   "metadata": {},
   "source": [
    "### python sorting 내부 구현\n",
    "- 파이썬의 내부 소팅 알고리즘은 time-sort입니다. 이는 여러가지 sorting 알고리즘들의 장점을 모아 구현된 알고리즘입니다. merge sort, quick sort, insertion sort를 이미 공부하셨다면, python의 time sort를 공부해보세요!"
   ]
  },
  {
   "cell_type": "code",
   "execution_count": null,
   "id": "929734bd-5f80-4e29-a6ae-b9202680ecb1",
   "metadata": {},
   "outputs": [],
   "source": []
  }
 ],
 "metadata": {
  "kernelspec": {
   "display_name": "Python 3 (ipykernel)",
   "language": "python",
   "name": "python3"
  },
  "language_info": {
   "codemirror_mode": {
    "name": "ipython",
    "version": 3
   },
   "file_extension": ".py",
   "mimetype": "text/x-python",
   "name": "python",
   "nbconvert_exporter": "python",
   "pygments_lexer": "ipython3",
   "version": "3.10.8"
  }
 },
 "nbformat": 4,
 "nbformat_minor": 5
}
