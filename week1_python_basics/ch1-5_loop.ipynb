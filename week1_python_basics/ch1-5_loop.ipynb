{
 "cells": [
  {
   "cell_type": "markdown",
   "id": "d3be8230-d710-4125-8a78-6b2e85cd5ba3",
   "metadata": {},
   "source": [
    "# ch5. 반복문\n",
    "\n",
    "앞선 시간에 여러 변수들을 모아놓은 리스트와 튜플, 딕셔너리에 대해서 알아보았습니다.\n",
    "\n",
    "이제 이 여러 변수들을 다루는 프로그램을 짜기 위해 필수적인 반복문에 대해서 알아보겠습니다. \n",
    "\n",
    "python에서는 for과 while 문법을 제공합니다. 보통 현업에서 반복을 구현할 때는 for를 많이 사용하고, while은 무한 루프를 구현해야 하는 상황에서 사용합니다."
   ]
  },
  {
   "cell_type": "markdown",
   "id": "a086b0a5-cf47-4c3b-81f1-88ba80db3a32",
   "metadata": {},
   "source": [
    "## for-loop\n",
    "\n",
    "### for-loop 기본 사용법\n",
    "기본 사용법은 아래와 같습니다.\n",
    "```\n",
    "for 변수 in 리스트(또는 튜플, 문자열):\n",
    "    수행할 문장1\n",
    "    수행할 문장2\n",
    "```"
   ]
  },
  {
   "cell_type": "code",
   "execution_count": 1,
   "id": "40ce5882-fe28-41c6-9d76-41e5c2123c55",
   "metadata": {},
   "outputs": [],
   "source": [
    "nums = [1, 2, 3, 4, 5]"
   ]
  },
  {
   "cell_type": "markdown",
   "id": "036c571c-55b5-4584-b19b-89c7a3c59397",
   "metadata": {},
   "source": [
    "for문에 비구조 할당을 적용할 수도 있습니다. 추후에 데이터 처리를 공부하실 때 매우 유용합니다."
   ]
  },
  {
   "cell_type": "code",
   "execution_count": 3,
   "id": "02481569-206f-4c6b-a099-cf57203d6d06",
   "metadata": {},
   "outputs": [],
   "source": [
    "math_scores = [\n",
    "    (\"민수\", 100),\n",
    "    (\"지혜\", 90),\n",
    "    (\"두호\", 85),\n",
    "]"
   ]
  },
  {
   "cell_type": "markdown",
   "id": "207ba4cd-f2c3-4e6d-a27a-725e32ac92a0",
   "metadata": {},
   "source": [
    "### for-loop with range\n",
    "- range를 사용하여 접근하고자 하는 인덱스 범위를 설정해 줄 수 있습니다."
   ]
  },
  {
   "cell_type": "code",
   "execution_count": null,
   "id": "b997d90b-f858-47be-8898-90e452c38429",
   "metadata": {},
   "outputs": [],
   "source": []
  },
  {
   "cell_type": "markdown",
   "id": "c6f3f5cb-740d-419e-a175-5b5905ab51c8",
   "metadata": {},
   "source": [
    "## continue와 break\n",
    "- 반복문을 실행할 때 특정 조건을 만났을 때는 이후의 로직을 수행하지 않고, 계속 진행하고 싶을 수도 있습니다. 이 때 continue를 사용합니다.\n",
    "- 반복문을 실행할 때 특정 조건을 만나면 반복을 멈추고 싶을 수 있습니다. 이 때 break를 사용합니다.\n",
    "- continue와 break는 반복문을 제어하는데에도 유용하고, 잘쓰면 코드가 간결해집니다. "
   ]
  },
  {
   "cell_type": "markdown",
   "id": "97d2ec34-e537-4190-bc48-3e32350d41c7",
   "metadata": {},
   "source": [
    "### continue\n",
    "- 예시) 수학 점수가 60점 이하인 학생 중에서 국어 점수도 60점 이하인 학생을 출력하시오"
   ]
  },
  {
   "cell_type": "code",
   "execution_count": 4,
   "id": "fbe69e9e-adac-45e1-b18f-a708ea045abf",
   "metadata": {},
   "outputs": [],
   "source": [
    "# (이름, 수학 점수, 국어 점수)\n",
    "scores = [\n",
    "    (\"민수\", 55, 40),\n",
    "    (\"두호\", 40, 70),\n",
    "    (\"지혜\", 60, 80),\n",
    "    (\"강산\", 50, 60),\n",
    "]"
   ]
  },
  {
   "cell_type": "code",
   "execution_count": null,
   "id": "812ae278-3863-481c-9a26-89d363aeb817",
   "metadata": {},
   "outputs": [],
   "source": []
  },
  {
   "cell_type": "markdown",
   "id": "de6248f7-8d69-4058-b81f-0931b7a52417",
   "metadata": {},
   "source": [
    "### break\n",
    "- break문은 특정 조건이 완료되면 반복 시행 횟수가 더 남았다 하더라도 반복문을 종료하는 것입니다.\n",
    "- 퀴즈) 0부터 100 사이 숫자 중에 3으로 나눠서 나머지가 2가 되는 수 10개를 찾으시오"
   ]
  },
  {
   "cell_type": "code",
   "execution_count": null,
   "id": "7a0f6e94-997c-42f6-9fd1-ea1c4a724f52",
   "metadata": {},
   "outputs": [],
   "source": []
  },
  {
   "cell_type": "markdown",
   "id": "2d460946-0242-4951-b4d6-76ecc271be64",
   "metadata": {},
   "source": [
    "### for-loop으로 dictionary 반복하기\n",
    "- dictionary의 key와 value에 반복적인 작업을 적용하고 싶을 때가 왕왕 있습니다. 그 때 사용하기 좋습니다."
   ]
  },
  {
   "cell_type": "code",
   "execution_count": 5,
   "id": "79c944ea-abe7-48a0-abf9-a83e1560a17e",
   "metadata": {},
   "outputs": [],
   "source": [
    "math_score_dict = {\n",
    "    \"민수\": 100,\n",
    "    \"두호\":  85,\n",
    "    \"지혜\": 70,\n",
    "}"
   ]
  },
  {
   "cell_type": "code",
   "execution_count": null,
   "id": "dcbfed32-be7c-436a-809b-7108aff34d68",
   "metadata": {},
   "outputs": [],
   "source": []
  },
  {
   "cell_type": "markdown",
   "id": "355bc171-4a25-4801-81a1-f3756a50465f",
   "metadata": {},
   "source": [
    "## forloop 연습하기"
   ]
  },
  {
   "cell_type": "markdown",
   "id": "a454d7a9-4f61-4e7c-a538-3ef52182e9ee",
   "metadata": {},
   "source": [
    "### 높이를 입력받아서 크리스마스 트리 출력\n",
    "- 크기를 입력하면 그 크기만큼 아래 같은 트리를 출력하세요"
   ]
  },
  {
   "cell_type": "code",
   "execution_count": 11,
   "id": "017e6118-a318-46d0-9a6f-dccd0df11d7d",
   "metadata": {},
   "outputs": [],
   "source": [
    "def print_tree(height):\n",
    "    pass"
   ]
  },
  {
   "cell_type": "code",
   "execution_count": 31,
   "id": "64d1066c-1f61-4279-8872-0b014758e517",
   "metadata": {},
   "outputs": [
    {
     "name": "stdout",
     "output_type": "stream",
     "text": [
      "*\n",
      "**\n",
      "***\n",
      "****\n",
      "*****\n",
      "******\n",
      "*******\n",
      "********\n",
      "*********\n",
      "**********\n"
     ]
    }
   ],
   "source": [
    "print_tree(10)"
   ]
  },
  {
   "cell_type": "markdown",
   "id": "da1c6f1f-85f3-483e-be68-b5f9b6c7642f",
   "metadata": {},
   "source": [
    "### 높이를 입력받아서 역방향 크리스마스 트리 출력"
   ]
  },
  {
   "cell_type": "code",
   "execution_count": 12,
   "id": "149bd45d-00bd-462e-a21d-b80e1421be68",
   "metadata": {},
   "outputs": [],
   "source": [
    "def print_reverse_tree(height):\n",
    "    pass"
   ]
  },
  {
   "cell_type": "code",
   "execution_count": 10,
   "id": "e4ee3875-85ee-48e5-9aba-c2f2c993763b",
   "metadata": {},
   "outputs": [
    {
     "name": "stdout",
     "output_type": "stream",
     "text": [
      "         *\n",
      "        **\n",
      "       ***\n",
      "      ****\n",
      "     *****\n",
      "    ******\n",
      "   *******\n",
      "  ********\n",
      " *********\n",
      "**********\n"
     ]
    }
   ],
   "source": [
    "print_reverse_tree(10)"
   ]
  },
  {
   "cell_type": "markdown",
   "id": "f73f3634-a76b-4dea-94d5-aa0fe764724c",
   "metadata": {},
   "source": [
    "###  Quiz. 높이를 입력 받아서 피라미드 출력"
   ]
  },
  {
   "cell_type": "code",
   "execution_count": 13,
   "id": "f7687b54-eec3-4ec6-b831-29f906481ad5",
   "metadata": {},
   "outputs": [],
   "source": [
    "def print_pyramid(height):\n",
    "    pass"
   ]
  },
  {
   "cell_type": "code",
   "execution_count": 50,
   "id": "be73a857-1d72-4eca-8499-6158aaddb3ca",
   "metadata": {},
   "outputs": [
    {
     "name": "stdout",
     "output_type": "stream",
     "text": [
      "         *         \n",
      "        ***        \n",
      "       *****       \n",
      "      *******      \n",
      "     *********     \n",
      "    ***********    \n",
      "   *************   \n",
      "  ***************  \n",
      " ***************** \n",
      "*******************\n"
     ]
    }
   ],
   "source": [
    "print_pyramid(10)"
   ]
  },
  {
   "cell_type": "markdown",
   "id": "097edf5f-12dc-4e46-b6e7-8e3b11ba4d90",
   "metadata": {},
   "source": [
    "### Quiz. 높이를 입력 받아서 다이아몬드 출력\n",
    "- 높이가 홀수 일 경우엔 가장 긴 라인이 한줄, 짝수일 경우엔 2줄이 됩니다."
   ]
  },
  {
   "cell_type": "code",
   "execution_count": 14,
   "id": "c82d123a-a7cb-4b10-afcd-dcfc31dfbaa2",
   "metadata": {},
   "outputs": [],
   "source": [
    "def print_diamond(height):\n",
    "    pass"
   ]
  },
  {
   "cell_type": "code",
   "execution_count": 79,
   "id": "0f1be87f-8129-4c13-b997-858fbd1fdeb4",
   "metadata": {},
   "outputs": [
    {
     "name": "stdout",
     "output_type": "stream",
     "text": [
      "     *     \n",
      "    ***    \n",
      "   *****   \n",
      "  *******  \n",
      " ********* \n",
      "***********\n",
      "***********\n",
      " ********* \n",
      "  *******  \n",
      "   *****   \n",
      "    ***    \n",
      "     *     \n"
     ]
    }
   ],
   "source": [
    "print_diamond(10)"
   ]
  },
  {
   "cell_type": "markdown",
   "id": "8e6ac170-ad3a-4871-9991-02eb72b92461",
   "metadata": {},
   "source": [
    "### Quiz. 반지름을 입력받아서 원 출력\n",
    "- 원의 방정식을 이용할 것"
   ]
  },
  {
   "cell_type": "code",
   "execution_count": 15,
   "id": "675d0295-ed62-46f1-8643-d0fefac3e67d",
   "metadata": {},
   "outputs": [],
   "source": [
    "def print_circle(radius):\n",
    "    pass"
   ]
  },
  {
   "cell_type": "code",
   "execution_count": 81,
   "id": "01d14e94-e41a-4314-9902-221bbdc6e96f",
   "metadata": {},
   "outputs": [
    {
     "name": "stdout",
     "output_type": "stream",
     "text": [
      "                    *                     \n",
      "            * * * * * * * * *             \n",
      "        * * * * * * * * * * * * *         \n",
      "      * * * * * * * * * * * * * * *       \n",
      "    * * * * * * * * * * * * * * * * *     \n",
      "    * * * * * * * * * * * * * * * * *     \n",
      "  * * * * * * * * * * * * * * * * * * *   \n",
      "  * * * * * * * * * * * * * * * * * * *   \n",
      "  * * * * * * * * * * * * * * * * * * *   \n",
      "  * * * * * * * * * * * * * * * * * * *   \n",
      "* * * * * * * * * * * * * * * * * * * * * \n",
      "  * * * * * * * * * * * * * * * * * * *   \n",
      "  * * * * * * * * * * * * * * * * * * *   \n",
      "  * * * * * * * * * * * * * * * * * * *   \n",
      "  * * * * * * * * * * * * * * * * * * *   \n",
      "    * * * * * * * * * * * * * * * * *     \n",
      "    * * * * * * * * * * * * * * * * *     \n",
      "      * * * * * * * * * * * * * * *       \n",
      "        * * * * * * * * * * * * *         \n",
      "            * * * * * * * * *             \n",
      "                    *                     \n"
     ]
    }
   ],
   "source": [
    "print_circle(10)"
   ]
  },
  {
   "cell_type": "markdown",
   "id": "d6655810-576f-4789-95e9-38792c34b57a",
   "metadata": {
    "tags": []
   },
   "source": [
    "### Quiz. for 문으로 잔돈 개수 세기\n",
    "이전 if else 문에서 연습했던 연습문제를 for문으로 깔끔하게 표현할 수 있습니다.  \n",
    "Q. 물건을 하나 사고 50000원짜리 지폐를 한장 지불했습니다. 잔돈으로 받게될 지폐와 동전의 개수를 구하시오  \n",
    "거스름 돈 조건\n",
    "- 만원을 줄 수 있으면 만원을 줍니다.\n",
    "- 오천원을 줄 수 있으면 오천원을 줍니다.\n",
    "- 천원을 줄 수 있으면 천원을 줍니다.\n",
    "- 오백원을 줄 수 있으면 오백원을 줍니다.\n",
    "- 백원을 줄 수 있으면 백원을 줍니다.\n",
    "- 백원 이하는 고려하지 않습니다.\n",
    "- 지폐  하나와 동전 하나는 똑같이 개수 하나로 칩니다."
   ]
  },
  {
   "cell_type": "code",
   "execution_count": 3,
   "id": "a3b9700b-4a4f-4f1e-8852-4b9ddf02b6a0",
   "metadata": {},
   "outputs": [],
   "source": [
    "answer = 0\n",
    "change_units = [50000, 10000, 5000, 1000, 500, 100]\n",
    "pay = 50000\n",
    "price = 34500\n",
    "change = pay - price\n",
    "answer = 0"
   ]
  },
  {
   "cell_type": "code",
   "execution_count": null,
   "id": "2ebcbb21-14c9-4231-9c50-70370437b232",
   "metadata": {},
   "outputs": [],
   "source": []
  },
  {
   "cell_type": "markdown",
   "id": "b7f8e014-0697-4cd7-b711-0bb978389144",
   "metadata": {
    "tags": []
   },
   "source": [
    "## eumerate 사용하기\n",
    "- enumerate는 \"열거하다\" 라는 뜻으로 반복문을 수행할 때, 해당 element의 인덱스를 알고 싶을 때 사용합니다."
   ]
  },
  {
   "cell_type": "code",
   "execution_count": 16,
   "id": "2aa83642-06b7-4bd3-b6e9-1f20c984ffd6",
   "metadata": {},
   "outputs": [],
   "source": [
    "str_list = [\"hello\", \"world\", \"nice\", \"to\", \"meet\", \"you\"]"
   ]
  },
  {
   "cell_type": "code",
   "execution_count": null,
   "id": "520b7a83-39e6-466f-8164-b6bb61de4076",
   "metadata": {},
   "outputs": [],
   "source": []
  },
  {
   "cell_type": "markdown",
   "id": "bc8f9783-a10e-4863-802f-5388fbbbbaad",
   "metadata": {
    "tags": []
   },
   "source": [
    "## while loop \n",
    "- while문은 특정 조건이 충족될 때까지 반복을 계속하는 문법입니다.\n",
    "- while문은 자칫 실수하면 무한루프를 발생시킬 수 있습니다. 때문에 실제 현업에서 사용할 때는 매우 신중해야합니다.\n",
    "- 일반적으로 반복을 구현할 때는 for-loop을 사용하고, 무한 루프를 구현할 때는 while을 사용합니다. "
   ]
  },
  {
   "cell_type": "code",
   "execution_count": 17,
   "id": "811416ec-c18e-4040-954d-8fdaf1c2388f",
   "metadata": {},
   "outputs": [],
   "source": [
    "nums = [1, 2, 3, 4, 5, 6, 7, 8, 9]"
   ]
  },
  {
   "cell_type": "code",
   "execution_count": null,
   "id": "8b053915-10c8-4224-85ed-16fa84648622",
   "metadata": {},
   "outputs": [],
   "source": []
  },
  {
   "cell_type": "markdown",
   "id": "047f9d4b-2a79-4b6e-bac7-0a98402cc25f",
   "metadata": {
    "tags": []
   },
   "source": [
    "### 무한루프\n",
    "- 무한루프는 아래 처럼 만들 수 있습니다. 이 때 꼭 ,탈출 조건을 명시해주어야 합니다.\n",
    "```\n",
    "while True:\n",
    "    ...\n",
    "    if 탈출 조건:\n",
    "        break\n",
    "```"
   ]
  },
  {
   "cell_type": "markdown",
   "id": "89e80ef4-95f0-4484-bb7a-3bed8e6d4894",
   "metadata": {
    "tags": []
   },
   "source": [
    "### 연습 문제 while 문으로 숫자 게임 만들기\n",
    "- 퀴즈) while문으로 무한루프를 만들어 0과 50 사이 값을 추측해보는 숫자게임을 만들어보겠습니다."
   ]
  },
  {
   "cell_type": "code",
   "execution_count": null,
   "id": "3dbfc8c0-62a5-4b75-9bae-a93bca52d727",
   "metadata": {},
   "outputs": [],
   "source": []
  },
  {
   "cell_type": "markdown",
   "id": "98290d60-16f5-47b8-8316-dd94cc003312",
   "metadata": {
    "tags": []
   },
   "source": [
    "## List Comprehension\n",
    "### List Comprehension 사용\n",
    "- python의 독특한 문법 중의 하나로 list comprehension이 있습니다. \n",
    "- 이는 리스트를 생성하는 문법에 반복문을 넣어서 간결하게 반복을 구현하는 방법입니다."
   ]
  },
  {
   "cell_type": "code",
   "execution_count": 18,
   "id": "907ee6aa-c956-4760-9457-b4f9f14d796c",
   "metadata": {},
   "outputs": [
    {
     "data": {
      "text/plain": [
       "[0, 1, 2, 3, 4, 5, 6, 7, 8, 9]"
      ]
     },
     "execution_count": 18,
     "metadata": {},
     "output_type": "execute_result"
    }
   ],
   "source": [
    "# 0부터 20 사이 수로 이루어진 배열 생성\n",
    "\n",
    "# forloop으로 만들 경우\n",
    "nums = []\n",
    "for i in range(10):\n",
    "        nums.append(i)\n",
    "nums"
   ]
  },
  {
   "cell_type": "code",
   "execution_count": 144,
   "id": "d33ee498-2399-4494-9ac3-76755edc280d",
   "metadata": {},
   "outputs": [
    {
     "data": {
      "text/plain": [
       "[0, 1, 2, 3, 4, 5, 6, 7, 8, 9]"
      ]
     },
     "execution_count": 144,
     "metadata": {},
     "output_type": "execute_result"
    }
   ],
   "source": [
    "# list comprehension으로 만들 경우\n"
   ]
  },
  {
   "cell_type": "markdown",
   "id": "9e43860e-f158-4e0e-ac6f-e1f88f1df705",
   "metadata": {},
   "source": [
    "### List Comprehension에 조건문 적용\n",
    "- list comprehension에 조건문을 추가할 수도 있다."
   ]
  },
  {
   "cell_type": "code",
   "execution_count": 130,
   "id": "380f123e-f442-4f4c-a67d-e37ae03511d9",
   "metadata": {},
   "outputs": [
    {
     "data": {
      "text/plain": [
       "[0, 2, 4, 6, 8]"
      ]
     },
     "execution_count": 130,
     "metadata": {},
     "output_type": "execute_result"
    }
   ],
   "source": [
    "# 0과 10 사이 짝수를 담은 배열을 생성하시오.\n"
   ]
  },
  {
   "cell_type": "markdown",
   "id": "390c7b4e-4e1e-4164-8bb7-555db7783884",
   "metadata": {},
   "source": [
    "### Nested List Comprehension\n",
    "- list comprehension을 중첩해서 nested list를 생성할 수도 있습니다.\n",
    "- 그러나 가독성이 좋지 못해서 지나친 list comprehension 중첩은 현업에서 지양합니다."
   ]
  },
  {
   "cell_type": "code",
   "execution_count": 145,
   "id": "48a3d900-9786-4408-a549-06da24bb06a4",
   "metadata": {},
   "outputs": [
    {
     "data": {
      "text/plain": [
       "[[0, 1, 2, 3, 4],\n",
       " [1, 2, 3, 4, 5],\n",
       " [2, 3, 4, 5, 6],\n",
       " [3, 4, 5, 6, 7],\n",
       " [4, 5, 6, 7, 8]]"
      ]
     },
     "execution_count": 145,
     "metadata": {},
     "output_type": "execute_result"
    }
   ],
   "source": []
  },
  {
   "cell_type": "markdown",
   "id": "3f06cacc-df94-4e9a-8e15-04c2377fc7b3",
   "metadata": {
    "tags": []
   },
   "source": [
    "### Quiz. list comprehension을 중첩해서 구구단을 생성해보세요\n",
    "- 한줄로도 구현할 수 있습니다!\n"
   ]
  },
  {
   "cell_type": "code",
   "execution_count": null,
   "id": "e994eb25-87ea-4f59-ba4e-02ef45006a45",
   "metadata": {},
   "outputs": [],
   "source": []
  },
  {
   "cell_type": "markdown",
   "id": "766502b2-8493-4e4d-851a-ebbf1a40f96a",
   "metadata": {
    "tags": []
   },
   "source": [
    "## Dictionary Comprehension"
   ]
  },
  {
   "cell_type": "markdown",
   "id": "64916e66-5b81-497f-9ba6-b39468d68d79",
   "metadata": {},
   "source": [
    "### Dictionary Comprehesion 사용\n",
    "- dictionary도 list와 비슷한 방식으로 만들 수 있다.\n",
    "- ex) 0부터 10 사이의 수를 key로 가지고, 그 수의 3배수를 value로 가지는 딕셔너리를 만드시오."
   ]
  },
  {
   "cell_type": "code",
   "execution_count": 22,
   "id": "9c0def73-e1ee-457b-a3dc-dfadb0608bfb",
   "metadata": {},
   "outputs": [],
   "source": [
    "# for loop으로 만들 경우\n"
   ]
  },
  {
   "cell_type": "code",
   "execution_count": 23,
   "id": "c3de9507-2fb9-4ab6-bbb0-abab3516be91",
   "metadata": {},
   "outputs": [],
   "source": [
    "# dictionary comprehension으로 만들 경우\n"
   ]
  },
  {
   "cell_type": "markdown",
   "id": "019977c7-12c8-48a5-bfcf-3c6bc14f32d6",
   "metadata": {},
   "source": [
    "### Dictionary Comprension 조건문 적용하기\n",
    "- 마찬가지로 dictionary comprehension에도 조건문을 추가할 수 있습니다.\n",
    "- 0과 10 사이 수 중 짝수만 key로 가지고, 그 수의 3배수를 value로 가지는 딕셔너리를 만드시오"
   ]
  },
  {
   "cell_type": "code",
   "execution_count": null,
   "id": "181911b2-50f6-4872-9736-0a069685393a",
   "metadata": {},
   "outputs": [],
   "source": []
  },
  {
   "cell_type": "markdown",
   "id": "36390289-a551-40b6-b2f0-4304fdfd8ba8",
   "metadata": {
    "tags": []
   },
   "source": [
    "## 심화"
   ]
  },
  {
   "cell_type": "markdown",
   "id": "a2573a14-83aa-4938-afd5-189e74fbb49a",
   "metadata": {},
   "source": [
    "### python iterator, generator\n",
    "python에서 반복을 구현하는 방법은 크게 iterator와 generator가 있습니다.  \n",
    "iterate는 반복한다는 의미이고, generate는 만들어낸다는 의미입니다. 이름만으로도 느낌이 살짝 다르죠?\n",
    "\n",
    "일반적인 for문과 while문으로 반복을 구현할 경우, iterator 쓰는 것입니다. 예시를 보시죠"
   ]
  },
  {
   "cell_type": "code",
   "execution_count": 10,
   "id": "1bce868f-5b46-43f9-a300-83f5d82fcfd9",
   "metadata": {},
   "outputs": [
    {
     "data": {
      "text/plain": [
       "<list_iterator at 0x1130cd7b0>"
      ]
     },
     "execution_count": 10,
     "metadata": {},
     "output_type": "execute_result"
    }
   ],
   "source": [
    "nums = [1, 2, 3, 4, 5]\n",
    "nums_iterator = nums.__iter__()\n",
    "nums_iterator"
   ]
  },
  {
   "cell_type": "markdown",
   "id": "1d577b18-ecc4-47ee-9bd9-1ef0c751f213",
   "metadata": {},
   "source": [
    "nums라는 리스트 내부에는 __iter__()라는 함수가 구현되어 있고, 그 함수를 호출하면 list_iterator 라는 객체를 리턴합니다.\n",
    "이 iterator를 한번 사용해보겠습니다."
   ]
  },
  {
   "cell_type": "code",
   "execution_count": 11,
   "id": "3d3c88de-f54d-4e97-87f3-214024109087",
   "metadata": {},
   "outputs": [
    {
     "data": {
      "text/plain": [
       "1"
      ]
     },
     "execution_count": 11,
     "metadata": {},
     "output_type": "execute_result"
    }
   ],
   "source": [
    "next(nums_iterator)"
   ]
  },
  {
   "cell_type": "code",
   "execution_count": 12,
   "id": "ab15c902-6b54-4d39-83e3-91753da79517",
   "metadata": {},
   "outputs": [
    {
     "data": {
      "text/plain": [
       "2"
      ]
     },
     "execution_count": 12,
     "metadata": {},
     "output_type": "execute_result"
    }
   ],
   "source": [
    "next(nums_iterator)"
   ]
  },
  {
   "cell_type": "code",
   "execution_count": 13,
   "id": "29444a05-e726-4ed0-a925-72a2903e4a4f",
   "metadata": {},
   "outputs": [
    {
     "data": {
      "text/plain": [
       "3"
      ]
     },
     "execution_count": 13,
     "metadata": {},
     "output_type": "execute_result"
    }
   ],
   "source": [
    "next(nums_iterator)"
   ]
  },
  {
   "cell_type": "markdown",
   "id": "b27389c7-a73a-455b-8ad2-7aa9316f9ef7",
   "metadata": {},
   "source": [
    "next 함수를 이용해서 iterator를 하나씩 넘길 수 있습니다.  \n",
    "아하! list 안에 내장된 iterator는 인덱스 순서대로 element를 리턴해주는구나 라는걸 알 수 있습니다.  \n",
    "이처럼 __iter__ 함수가 내장된 객체는 iterator를 통해서 반복할 수 있습니다.  \n",
    "\n",
    "이제 generator를 알아봅시다. generator를 만들기 위해서는 yield라는 새로운 문법을 알아야 합니다."
   ]
  },
  {
   "cell_type": "code",
   "execution_count": 25,
   "id": "ff25b9a5-4145-499f-93e5-1d04223d70dc",
   "metadata": {},
   "outputs": [],
   "source": [
    "def generate(n):\n",
    "    for i in range(n):\n",
    "        print(\"cur num\", i)\n",
    "        yield i"
   ]
  },
  {
   "cell_type": "code",
   "execution_count": 26,
   "id": "800f6238-6477-47a7-a563-e1ccfebecbbe",
   "metadata": {},
   "outputs": [
    {
     "data": {
      "text/plain": [
       "<generator object generate at 0x113289ee0>"
      ]
     },
     "execution_count": 26,
     "metadata": {},
     "output_type": "execute_result"
    }
   ],
   "source": [
    "nums_generator = generate(5)\n",
    "nums_generator"
   ]
  },
  {
   "cell_type": "markdown",
   "id": "55e2aeb0-498a-416b-9f46-b809e8302cd0",
   "metadata": {},
   "source": [
    "yield의 개념을 정확히 이해하기 위해서는 블로킹과 논블로킹, 싱크와 어싱크에 대해서 이해해야 합니다.  \n",
    "자세한 설명은 다음으로 미루고 지금은 yield는 일시 정지라고 이해하시면 됩니다.  \n",
    "우리가 지금까지 for 문을 사용한 대로라면 generate 함수를 호출할 경우 n만큼 반복하면서 print가 실행되어야 합니다.  \n",
    "하지만 그렇지 않고 웬 generator가 리턴되었습니다."
   ]
  },
  {
   "cell_type": "code",
   "execution_count": 28,
   "id": "58e05a83-da9f-4318-8675-0e583a739e74",
   "metadata": {},
   "outputs": [
    {
     "name": "stdout",
     "output_type": "stream",
     "text": [
      "cur num 0\n"
     ]
    },
    {
     "data": {
      "text/plain": [
       "0"
      ]
     },
     "execution_count": 28,
     "metadata": {},
     "output_type": "execute_result"
    }
   ],
   "source": [
    "next(nums_generator)"
   ]
  },
  {
   "cell_type": "code",
   "execution_count": 29,
   "id": "71cde1a8-db49-49ae-abf3-b22e36ae5c21",
   "metadata": {},
   "outputs": [
    {
     "name": "stdout",
     "output_type": "stream",
     "text": [
      "cur num 1\n"
     ]
    },
    {
     "data": {
      "text/plain": [
       "1"
      ]
     },
     "execution_count": 29,
     "metadata": {},
     "output_type": "execute_result"
    }
   ],
   "source": [
    "next(nums_generator)"
   ]
  },
  {
   "cell_type": "code",
   "execution_count": 30,
   "id": "b9f1f16a-42d6-405c-975c-7f03b7e6917a",
   "metadata": {},
   "outputs": [
    {
     "name": "stdout",
     "output_type": "stream",
     "text": [
      "cur num 2\n"
     ]
    },
    {
     "data": {
      "text/plain": [
       "2"
      ]
     },
     "execution_count": 30,
     "metadata": {},
     "output_type": "execute_result"
    }
   ],
   "source": [
    "next(nums_generator)"
   ]
  },
  {
   "cell_type": "markdown",
   "id": "ca069b95-4aa7-4eb2-8565-c9357280f614",
   "metadata": {},
   "source": [
    "iterator와 같은 방식으로 next 함수를 이용하면 다음 실행으로 넘어갑니다.  \n",
    "아하! generator라는 것은 yield를 한번 실행하고 다음번 next가 호출되기 전까지 일시정지를 하는구나!로 이해하시면 됩니다.  \n",
    "\n",
    "자 그러면 여기서 고민해볼 포인트가 있습니다. 왜 iterator로 모든 반복을 만들지 않고 generator가 필요했던 걸까요?  \n",
    "심지어 이는 앞으로 우리가 대량의 데이터를 처리해야할 때, 반드시 사용해야하는 도구입니다.  \n",
    "그 이유를 공부해보세요.\n",
    "\n",
    "읽기 자료: https://www.freecodecamp.org/news/how-and-why-you-should-use-python-generators-f6fb56650888/"
   ]
  },
  {
   "cell_type": "code",
   "execution_count": null,
   "id": "e1128cfd-ddb5-4254-9ab6-ce2eb4b01014",
   "metadata": {},
   "outputs": [],
   "source": []
  }
 ],
 "metadata": {
  "kernelspec": {
   "display_name": "Python 3 (ipykernel)",
   "language": "python",
   "name": "python3"
  },
  "language_info": {
   "codemirror_mode": {
    "name": "ipython",
    "version": 3
   },
   "file_extension": ".py",
   "mimetype": "text/x-python",
   "name": "python",
   "nbconvert_exporter": "python",
   "pygments_lexer": "ipython3",
   "version": "3.10.8"
  }
 },
 "nbformat": 4,
 "nbformat_minor": 5
}
