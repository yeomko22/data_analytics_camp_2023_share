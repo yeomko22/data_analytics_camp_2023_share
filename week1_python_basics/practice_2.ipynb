{
 "cells": [
  {
   "cell_type": "markdown",
   "id": "f9f25ca3-d0c8-4cf4-95e4-b9cb5d0d66c1",
   "metadata": {},
   "source": [
    "## 복습 2. 성적표\n",
    "\n",
    "### 1. 학생 이름과 수학 성적, 국어 성적이 tuple로 묶여있는 리스트가 있습니다. 이를 학생 이름을 key, 수학 성적과 국어 성적이 튜플로 묶인 값을 value로 갖는 딕셔너리로 변경해보세요. for 문을 사용하세요."
   ]
  },
  {
   "cell_type": "code",
   "execution_count": 2,
   "id": "422e95bd-333f-4c5d-8b41-01007315f8ce",
   "metadata": {},
   "outputs": [],
   "source": [
    "score_list = [\n",
    "    (\"민수\", 90, 95),\n",
    "    (\"지영\", 45, 50),\n",
    "    (\"연수\", 70, 85),\n",
    "    (\"해인\", 80, 90),\n",
    "    (\"지아\", 55, 75),\n",
    "    (\"기덕\", 80, 85),\n",
    "    (\"우영\", 75, 95),\n",
    "    (\"강산\", 50, 55),\n",
    "    (\"연지\", 75, 65),\n",
    "    (\"동호\", 95,  90),\n",
    "]"
   ]
  },
  {
   "cell_type": "code",
   "execution_count": 6,
   "id": "f676aa69-dfa9-498c-b40d-1b4e235f0980",
   "metadata": {},
   "outputs": [
    {
     "data": {
      "text/plain": [
       "{'민수': (90, 95),\n",
       " '지영': (45, 50),\n",
       " '연수': (70, 85),\n",
       " '해인': (80, 90),\n",
       " '지아': (55, 75),\n",
       " '기덕': (80, 85),\n",
       " '우영': (75, 95),\n",
       " '강산': (50, 55),\n",
       " '연지': (75, 65),\n",
       " '동호': (95, 90)}"
      ]
     },
     "execution_count": 6,
     "metadata": {},
     "output_type": "execute_result"
    }
   ],
   "source": [
    "score_dict = {}\n",
    "\n",
    "for name, math, korean in score_list:\n",
    "    score_dict[name] = (math, korean)\n",
    "score_dict"
   ]
  },
  {
   "cell_type": "markdown",
   "id": "84da2b5e-8e14-4dd3-b481-d81a67761c93",
   "metadata": {},
   "source": [
    "### 2.  for 문을 사용해서 학생 이름과 총점을 출력하세요"
   ]
  },
  {
   "cell_type": "code",
   "execution_count": 7,
   "id": "55348027-b484-4c4e-960f-336fc7615f84",
   "metadata": {},
   "outputs": [
    {
     "name": "stdout",
     "output_type": "stream",
     "text": [
      "민수 185\n",
      "지영 95\n",
      "연수 155\n",
      "해인 170\n",
      "지아 130\n",
      "기덕 165\n",
      "우영 170\n",
      "강산 105\n",
      "연지 140\n",
      "동호 185\n"
     ]
    }
   ],
   "source": [
    "for name, (math, korean) in score_dict.items():\n",
    "    print(name, math + korean)"
   ]
  },
  {
   "cell_type": "markdown",
   "id": "c8407529-4c60-4f23-8123-4460f3095382",
   "metadata": {},
   "source": [
    "### 3. 수학 문제 하나가 잘못되어 전원 정답 처리를 하게 되었습니다. 민수와 지아는 원래도 그 문제를 맞춰서 그대로 두고, 나머지 억울하게 틀린 학생들의 점수만 5점씩 올려주세요. for문과 if 문, continue, in 문법을 사용하세요"
   ]
  },
  {
   "cell_type": "code",
   "execution_count": 8,
   "id": "ca7660b4-55ab-448f-be87-04d7831f9e08",
   "metadata": {},
   "outputs": [
    {
     "data": {
      "text/plain": [
       "{'민수': (90, 95),\n",
       " '지영': (50, 50),\n",
       " '연수': (75, 85),\n",
       " '해인': (85, 90),\n",
       " '지아': (55, 75),\n",
       " '기덕': (85, 85),\n",
       " '우영': (80, 95),\n",
       " '강산': (55, 55),\n",
       " '연지': (80, 65),\n",
       " '동호': (100, 90)}"
      ]
     },
     "execution_count": 8,
     "metadata": {},
     "output_type": "execute_result"
    }
   ],
   "source": [
    "for name, (math, korean) in score_dict.items():\n",
    "    if name in [\"민수\", \"지아\"]:\n",
    "        continue\n",
    "    score_dict[name] = (math + 5, korean)\n",
    "score_dict"
   ]
  },
  {
   "cell_type": "markdown",
   "id": "9da0056f-c636-4b3d-8e34-3463f79725b6",
   "metadata": {},
   "source": [
    "### 4.  수학은 70점 이하일 경우 재시험 대상자입니다. 국어는 60점 이하일 경우 재시험 대상자입니다. 수학과 국어 각각 재시험 대상자를 출력하세요. for문을 사용하세요"
   ]
  },
  {
   "cell_type": "code",
   "execution_count": 10,
   "id": "9eb6745c-a9a3-4472-a1be-9a5a7c4df780",
   "metadata": {},
   "outputs": [
    {
     "name": "stdout",
     "output_type": "stream",
     "text": [
      "수학 재시험 대상자\n",
      "지영\n",
      "지아\n",
      "강산\n",
      "\n",
      "국어 재시험 대상자\n",
      "지영\n",
      "강산\n"
     ]
    }
   ],
   "source": [
    "print(\"수학 재시험 대상자\")\n",
    "for name, (math, korean) in score_dict.items():\n",
    "    if math <= 70:\n",
    "        print(name)\n",
    "\n",
    "print(\"\\n국어 재시험 대상자\")\n",
    "for name, (math, korean) in score_dict.items():\n",
    "    if korean <= 60:\n",
    "        print(name)"
   ]
  },
  {
   "cell_type": "markdown",
   "id": "f2cf6563-d28e-4b01-8b91-06be04a1cf26",
   "metadata": {},
   "source": [
    "### 5.  수학 점수의 평균(mean)과 중간값(median)을 구하세요. 국어 점수의 평균과 중간값도 구하세요. for 문과  len을 사용하세요. for문을 한번만 사용하세요."
   ]
  },
  {
   "cell_type": "code",
   "execution_count": 13,
   "id": "20377a46-ae08-4500-b6c8-029039a51289",
   "metadata": {},
   "outputs": [
    {
     "name": "stdout",
     "output_type": "stream",
     "text": [
      "math average: 75.5 median: 80\n",
      "korean average: 78.5 median: 85\n"
     ]
    }
   ],
   "source": [
    "math_scores = []\n",
    "korean_scores = []\n",
    "for name, (math, korean) in score_dict.items():\n",
    "    math_scores.append(math)\n",
    "    korean_scores.append(korean)\n",
    "\n",
    "print(\"math average:\", sum(math_scores) / len(math_scores), \"median:\", sorted(math_scores)[len(math_scores)//2])\n",
    "print(\"korean average:\", sum(korean_scores) / len(korean_scores), \"median:\", sorted(korean_scores)[len(korean_scores)//2])"
   ]
  },
  {
   "cell_type": "markdown",
   "id": "4883aac5-f167-423a-94e9-a92e7f53cabd",
   "metadata": {},
   "source": [
    "### 6. (선택) 학생의 이름과 수학 점수 등수,, 국어 점수 등수를  묶은 딕셔너리를 만들어보세요. 동점자가 있을 경우, 공동 등수로 표기합니다.\n",
    "ex) 수학점수  \n",
    "민호: 70점  \n",
    "진수: 80점  \n",
    "경호: 70점  \n",
    "준영: 90점  \n",
    "\n",
    "준영: 1등  \n",
    "진수: 2등   \n",
    "경호, 민호: 3등  \n",
    "\n",
    "만들어야할 딕셔너리  \n",
    "{  \n",
    "    \"민수\": (2, 1),  \n",
    "    ...  \n",
    "}"
   ]
  },
  {
   "cell_type": "code",
   "execution_count": 25,
   "id": "b1c07dc3-85e5-4b0b-8f0e-59298c47fb33",
   "metadata": {},
   "outputs": [],
   "source": [
    "math_scores = []\n",
    "korean_scores = []\n",
    "for name, (math, korean) in score_dict.items():\n",
    "    math_scores.append(math)\n",
    "    korean_scores.append(korean)\n",
    "    \n",
    "sorted_unique_math_scores = sorted(list(set(math_scores)), reverse=True)\n",
    "sorted_unique_korean_scores = sorted(list(set(korean_scores)), reverse=True)"
   ]
  },
  {
   "cell_type": "code",
   "execution_count": 26,
   "id": "98c1a2d9-f9ce-4fb2-815f-28d08fb7c099",
   "metadata": {},
   "outputs": [
    {
     "data": {
      "text/plain": [
       "[100, 90, 85, 80, 75, 55, 50]"
      ]
     },
     "execution_count": 26,
     "metadata": {},
     "output_type": "execute_result"
    }
   ],
   "source": [
    "sorted_unique_math_scores"
   ]
  },
  {
   "cell_type": "code",
   "execution_count": 27,
   "id": "be30fe39-1469-4369-8829-d0f6cfa0f336",
   "metadata": {},
   "outputs": [
    {
     "data": {
      "text/plain": [
       "[95, 90, 85, 75, 65, 55, 50]"
      ]
     },
     "execution_count": 27,
     "metadata": {},
     "output_type": "execute_result"
    }
   ],
   "source": [
    "sorted_unique_korean_scores"
   ]
  },
  {
   "cell_type": "code",
   "execution_count": 28,
   "id": "1ddb99dd-4232-4b67-bc83-d6939fd5cbd1",
   "metadata": {},
   "outputs": [],
   "source": [
    "math_rank = {}\n",
    "for i, math_score in enumerate(sorted_unique_math_scores):\n",
    "    math_rank[math_score] = (i + 1)"
   ]
  },
  {
   "cell_type": "code",
   "execution_count": 29,
   "id": "3f49335d-e1b0-48ae-b63f-efb53d8610f1",
   "metadata": {},
   "outputs": [],
   "source": [
    "korean_rank = {}\n",
    "for i, korean_score in enumerate(sorted_unique_korean_scores):\n",
    "    korean_rank[korean_score] = (i + 1)"
   ]
  },
  {
   "cell_type": "code",
   "execution_count": 30,
   "id": "0f72f8f4-d9a4-44a3-89a6-964868a8fc4c",
   "metadata": {},
   "outputs": [
    {
     "data": {
      "text/plain": [
       "{100: 1, 90: 2, 85: 3, 80: 4, 75: 5, 55: 6, 50: 7}"
      ]
     },
     "execution_count": 30,
     "metadata": {},
     "output_type": "execute_result"
    }
   ],
   "source": [
    "math_rank"
   ]
  },
  {
   "cell_type": "code",
   "execution_count": 31,
   "id": "68a615b2-fee9-44b9-a610-b78172c4a660",
   "metadata": {},
   "outputs": [
    {
     "data": {
      "text/plain": [
       "{95: 1, 90: 2, 85: 3, 75: 4, 65: 5, 55: 6, 50: 7}"
      ]
     },
     "execution_count": 31,
     "metadata": {},
     "output_type": "execute_result"
    }
   ],
   "source": [
    "korean_rank"
   ]
  },
  {
   "cell_type": "code",
   "execution_count": 33,
   "id": "24277579-6d96-4a61-a74d-48687ee70622",
   "metadata": {},
   "outputs": [],
   "source": [
    "rank_dict = {}\n",
    "for name, (math, korean) in score_dict.items():\n",
    "    rank_dict[name] = (math_rank[math], korean_rank[korean])"
   ]
  },
  {
   "cell_type": "code",
   "execution_count": 34,
   "id": "d909519e-b44c-4af8-9b73-bad2d8832a20",
   "metadata": {},
   "outputs": [
    {
     "data": {
      "text/plain": [
       "{'민수': (2, 1),\n",
       " '지영': (7, 7),\n",
       " '연수': (5, 3),\n",
       " '해인': (3, 2),\n",
       " '지아': (6, 4),\n",
       " '기덕': (3, 3),\n",
       " '우영': (4, 1),\n",
       " '강산': (6, 6),\n",
       " '연지': (4, 5),\n",
       " '동호': (1, 2)}"
      ]
     },
     "execution_count": 34,
     "metadata": {},
     "output_type": "execute_result"
    }
   ],
   "source": [
    "rank_dict"
   ]
  },
  {
   "cell_type": "code",
   "execution_count": null,
   "id": "519d0b30-a9c8-4d4f-b50d-5e5bfd1d8251",
   "metadata": {},
   "outputs": [],
   "source": []
  }
 ],
 "metadata": {
  "kernelspec": {
   "display_name": "Python 3 (ipykernel)",
   "language": "python",
   "name": "python3"
  },
  "language_info": {
   "codemirror_mode": {
    "name": "ipython",
    "version": 3
   },
   "file_extension": ".py",
   "mimetype": "text/x-python",
   "name": "python",
   "nbconvert_exporter": "python",
   "pygments_lexer": "ipython3",
   "version": "3.10.8"
  }
 },
 "nbformat": 4,
 "nbformat_minor": 5
}
