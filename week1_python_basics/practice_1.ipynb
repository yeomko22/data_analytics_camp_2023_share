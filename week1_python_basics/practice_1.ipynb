{
 "cells": [
  {
   "cell_type": "markdown",
   "id": "fde933d9-a556-4dc1-a650-6c9e86f179ab",
   "metadata": {},
   "source": [
    "## 복습"
   ]
  },
  {
   "cell_type": "markdown",
   "id": "3bf12cb4-f199-470d-8f24-46776e74ea03",
   "metadata": {},
   "source": [
    "1. 주어진 과일 이름 리스트를 key: 과일 이름, value: 개수 형태의 딕셔너리로 변경해보세요. for 문을 사용하세요."
   ]
  },
  {
   "cell_type": "code",
   "execution_count": 2,
   "id": "16c524f6-6b43-41e3-b402-a3c70b68f5dd",
   "metadata": {},
   "outputs": [],
   "source": [
    "fruits = [\n",
    "    '수박', '메론', '당근', '수박', '메론', '수박', '메론', '수박', '메론', '당근', \n",
    "    '메론', '수박', '메론', '메론', '딸기', '메론', '딸기', '딸기', '수박', '딸기', \n",
    "    '참외', '수박', '딸기', '메론', '메론', '참외', '당근'\n",
    "] "
   ]
  },
  {
   "cell_type": "code",
   "execution_count": 3,
   "id": "b91169da-2d1d-4c5e-b59a-eeccc94da529",
   "metadata": {},
   "outputs": [],
   "source": [
    "fruit_dict = {}\n",
    "\n",
    "for fruit in fruits:\n",
    "    if fruit in fruit_dict:\n",
    "        fruit_dict[fruit] += 1\n",
    "    else:\n",
    "        fruit_dict[fruit] = 1"
   ]
  },
  {
   "cell_type": "code",
   "execution_count": 4,
   "id": "abbf2f2d-f5eb-462b-a038-e261d517a799",
   "metadata": {},
   "outputs": [
    {
     "data": {
      "text/plain": [
       "{'수박': 7, '메론': 10, '당근': 3, '딸기': 5, '참외': 2}"
      ]
     },
     "execution_count": 4,
     "metadata": {},
     "output_type": "execute_result"
    }
   ],
   "source": [
    "fruit_dict"
   ]
  },
  {
   "cell_type": "markdown",
   "id": "8e085df2-0faf-43bc-83f8-e170879f8140",
   "metadata": {},
   "source": [
    "2. 수박, 딸기, 참외 개수의 총합을 구해보세요. dictionary.itmes()와 for문, 비구조 할당을 사용해보세요"
   ]
  },
  {
   "cell_type": "code",
   "execution_count": 6,
   "id": "3c691189-2a3f-4c32-9775-69f599661337",
   "metadata": {},
   "outputs": [
    {
     "name": "stdout",
     "output_type": "stream",
     "text": [
      "total_count 14\n"
     ]
    }
   ],
   "source": [
    "total_count = 0\n",
    "for fruit, count in fruit_dict.items():\n",
    "    if fruit in [\"수박\", \"딸기\", \"참외\"]:\n",
    "        total_count += count \n",
    "print(\"total_count\", total_count)"
   ]
  },
  {
   "cell_type": "markdown",
   "id": "6d26516b-2abb-4e4c-baf8-3f3ad138a4d4",
   "metadata": {},
   "source": [
    "3. 손님들이 와서 메론을 1개, 참외를 2개 사갔습니다. 이를 딕셔너리에 반영하세요. 개수가 0개가되어 팔 수 없는 과일은 딕셔너리에서 삭제하세요."
   ]
  },
  {
   "cell_type": "code",
   "execution_count": 7,
   "id": "ac1c9649-278d-4caa-8066-c615bd2d6597",
   "metadata": {},
   "outputs": [
    {
     "name": "stdout",
     "output_type": "stream",
     "text": [
      "{'수박': 7, '메론': 9, '당근': 3, '딸기': 5}\n"
     ]
    }
   ],
   "source": [
    "fruit_dict[\"메론\"] -= 1\n",
    "fruit_dict[\"참외\"] -= 2\n",
    "\n",
    "if fruit_dict[\"메론\"] == 0:\n",
    "    del fruit_dict[\"메론\"]\n",
    "if fruit_dict[\"참외\"] == 0:\n",
    "    del fruit_dict[\"참외\"]\n",
    "print(fruit_dict)"
   ]
  },
  {
   "cell_type": "markdown",
   "id": "ef4e5720-dbdb-4966-97f0-4248dbe9f227",
   "metadata": {},
   "source": [
    "4. 과일 가게에 새로운 열대 과일들이 들어왔습니다. 망고 6개, 파파야 2개를 추가해주세요"
   ]
  },
  {
   "cell_type": "code",
   "execution_count": 8,
   "id": "7016d0f4-08fa-4ae4-a1a1-2a5e1014a9e9",
   "metadata": {},
   "outputs": [],
   "source": [
    "fruit_dict[\"망고\"] = 6\n",
    "fruit_dict[\"파파야\"] = 2"
   ]
  },
  {
   "cell_type": "markdown",
   "id": "d14c1115-5007-49d5-a6f2-4b4714b806c7",
   "metadata": {},
   "source": [
    "5. 과일 메뉴판을 만들겠습니다. for문과 dictionary items 문을 사용해서 과일 가게에서 현재 살 수 있는 과일 이름과 수량을 출력해보세요"
   ]
  },
  {
   "cell_type": "code",
   "execution_count": 11,
   "id": "63b61ac6-8aa8-42d7-8fe9-9b9b194a7dfe",
   "metadata": {},
   "outputs": [
    {
     "name": "stdout",
     "output_type": "stream",
     "text": [
      "과일 이름: 수박 \t개수: 7\n",
      "과일 이름: 메론 \t개수: 9\n",
      "과일 이름: 당근 \t개수: 3\n",
      "과일 이름: 딸기 \t개수: 5\n",
      "과일 이름: 망고 \t개수: 6\n",
      "과일 이름: 파파야 \t개수: 2\n"
     ]
    }
   ],
   "source": [
    "for fruit, count in fruit_dict.items():\n",
    "    print(\"과일 이름:\", fruit, \"\\t개수:\", count)"
   ]
  },
  {
   "cell_type": "markdown",
   "id": "6670e794-559e-4f61-9a53-3a3dd89550c5",
   "metadata": {},
   "source": [
    "6. 손님이 사고 싶은 과일과 수량을 말하면 지불해야할 금액을 출력하는 코드를 작성하세요. if else 문을 사용하시고, 팔 수 없는 과일을 물어봤을 떄는 에러를 내지 말고, \"그 과일은 팔 수 없습니다.\" 라고 출력하세요"
   ]
  },
  {
   "cell_type": "code",
   "execution_count": 12,
   "id": "e9917ff1-36e1-409c-b46f-c9d948c7aede",
   "metadata": {},
   "outputs": [],
   "source": [
    "fruit_price = {\n",
    "    \"딸기\": 10000,\n",
    "    \"당근\": 1500,\n",
    "    \"수박\": 12000,\n",
    "    \"참외\": 6000,\n",
    "    \"메론\": 20000,\n",
    "    \"망고\": 9800,\n",
    "    \"파파야\": 2500\n",
    "}"
   ]
  },
  {
   "cell_type": "code",
   "execution_count": 13,
   "id": "17fb5f65-f7b6-459a-8cb0-0465aec321c5",
   "metadata": {},
   "outputs": [
    {
     "name": "stdout",
     "output_type": "stream",
     "text": [
      "가격이 총 36000 입니다.\n"
     ]
    }
   ],
   "source": [
    "order_fruit = \"수박\"\n",
    "order_count = 3\n",
    "\n",
    "if order_fruit not in fruit_dict:\n",
    "    print(\"팔 수 없는 과일입니다.\")\n",
    "elif fruit_dict[order_fruit] < order_count:\n",
    "    print(\"수량이 부족합니다.\")\n",
    "else:\n",
    "    print(f\"가격이 총 {fruit_price[order_fruit] * order_count} 입니다.\")"
   ]
  },
  {
   "cell_type": "code",
   "execution_count": null,
   "id": "0a8595aa-82f2-4193-a1b3-826ad95e774a",
   "metadata": {},
   "outputs": [],
   "source": []
  }
 ],
 "metadata": {
  "kernelspec": {
   "display_name": "Python 3 (ipykernel)",
   "language": "python",
   "name": "python3"
  },
  "language_info": {
   "codemirror_mode": {
    "name": "ipython",
    "version": 3
   },
   "file_extension": ".py",
   "mimetype": "text/x-python",
   "name": "python",
   "nbconvert_exporter": "python",
   "pygments_lexer": "ipython3",
   "version": "3.10.8"
  }
 },
 "nbformat": 4,
 "nbformat_minor": 5
}
