{
 "cells": [
  {
   "cell_type": "markdown",
   "id": "38ed34e6",
   "metadata": {
    "tags": []
   },
   "source": [
    "# ch1. 변수\n",
    "\n",
    "변수(Variable)이란 프로그래밍에서 모든 값을 표현하는 가장 기본이 되는 값입니다. 숫자도 변수고, 문자열도 변수입니다.  \n",
    "이를 컴퓨터 공학적으로 표현하면 \"값을 메모리에 값을 할당하기 위한 공간\"이라고 표현합니다.  \n",
    "이름이 변수인 이유는 이 값을 수정할 수 있기 때문입니다.  \n",
    "이와 상반되게 수정할 수 없는 값은 상수(Constant)라고 표현합니다만, python 언어는 변수만 지원하므로 아직 신경쓰지 않아도 됩니다.\n",
    "\n",
    "Python에서 가장 기본적으로 사용되는 네 가지 변수 타입이 있습니다.\n",
    "\n",
    "- 정수형 변수 (int)\n",
    "- 실수형 변수 (float)\n",
    "- 문자열 변수 (str)\n",
    "- 논리형 변수 (bool)"
   ]
  },
  {
   "cell_type": "markdown",
   "id": "31492036-a3d3-424f-8312-6a6c3e377320",
   "metadata": {
    "tags": []
   },
   "source": [
    "## 변수의 할당\n",
    "- 할당 연산자 \"=\"를 이용하여 변수를 할당합니다.\n",
    "- \"변수명 = 변수값\" 형태로 사용합니다.\n",
    "- 항상 변수명이 할당 연산자 왼쪽에 와야 합니다. "
   ]
  },
  {
   "cell_type": "code",
   "execution_count": 56,
   "id": "5699310c-504d-4703-a5b8-edbc81d5a929",
   "metadata": {},
   "outputs": [
    {
     "data": {
      "text/plain": [
       "10"
      ]
     },
     "execution_count": 56,
     "metadata": {},
     "output_type": "execute_result"
    }
   ],
   "source": []
  },
  {
   "cell_type": "markdown",
   "id": "da42a70a-4aa9-4bd0-ae92-a24b0bb3e405",
   "metadata": {},
   "source": [
    "## 정수형 변수\n",
    "- int, integer라고 부릅니다. \n",
    "- 양의 정수, 음의 정수를 나타냅니다."
   ]
  },
  {
   "cell_type": "code",
   "execution_count": null,
   "id": "b67ab418",
   "metadata": {},
   "outputs": [],
   "source": []
  },
  {
   "cell_type": "markdown",
   "id": "07aa6034-c6d1-460d-8fea-44ee0ff62049",
   "metadata": {},
   "source": [
    "### 산술 연산자\n",
    "- 더하기, 빼기, 곱하기, 나누기 등의 산술 연산을 의미합니다.\n",
    "- arithmatic(산술) operator(연산자) 라고도 합니다.\n",
    "\n",
    "|기호|연산|\n",
    "|-|-|\n",
    "|+|더하기|\n",
    "|-|빼기|\n",
    "|*|곱하기|\n",
    "|/|나누기|\n",
    "|//|실수 나누기|\n",
    "|%|나누고 남은 나머지|"
   ]
  },
  {
   "cell_type": "code",
   "execution_count": null,
   "id": "67c444a3-736f-4585-af62-383a4c713859",
   "metadata": {},
   "outputs": [],
   "source": []
  },
  {
   "cell_type": "markdown",
   "id": "23715969-ae38-4dfa-8624-6ed505e19fb4",
   "metadata": {},
   "source": [
    "### 할당 연산자\n",
    "- 할당 연산자를 사용하면 간결하게 표현이 가능합니다. \n",
    "\n",
    "|기호|연산|\n",
    "|----|----|\n",
    "|=|오른쪽 값을 왼쪽 값에 대입|\n",
    "|+=|오른쪽 값을 왼쪽 값에 더한 뒤, 대입|\n",
    "|-=|오른쪽 값을 왼쪽 값에 빼준 뒤, 대입|\n",
    "|*=|오른쪽 값을 왼쪽 값에 곱한 뒤, 대입|\n",
    "|%=|오른쪽 값을 왼쪽 값에 나눈 나머지를 대입|"
   ]
  },
  {
   "cell_type": "code",
   "execution_count": null,
   "id": "9239dd8a-4efb-48ad-b26d-e33bc9eb6913",
   "metadata": {},
   "outputs": [],
   "source": []
  },
  {
   "cell_type": "markdown",
   "id": "f88fe8f8-df01-4d4d-bd07-dcfc7c2ef5bb",
   "metadata": {},
   "source": [
    "## 실수형 변수\n",
    "- float이라고 부릅니다.\n",
    "- 양과 음의 무한대를 표현할 수 있습니다."
   ]
  },
  {
   "cell_type": "code",
   "execution_count": null,
   "id": "77017c76-9c06-4f95-a203-386e7710f1d4",
   "metadata": {},
   "outputs": [],
   "source": []
  },
  {
   "cell_type": "markdown",
   "id": "1a2b8bf1-9210-4324-8864-a6be3cae5330",
   "metadata": {},
   "source": [
    "## 논리형 변수\n",
    "- True 인지 False인지를 나타내는 변수입니다.\n",
    "- bool(불리안)이라고 부릅니다.\n",
    "- 논리 연산자(ex. >, <, ==, !=)\n",
    "- 0과 1, 문자열로도 생성할 수 있습니다."
   ]
  },
  {
   "cell_type": "code",
   "execution_count": null,
   "id": "4ee4eb9b-e665-4838-8ba5-ed444658a921",
   "metadata": {},
   "outputs": [],
   "source": []
  },
  {
   "cell_type": "markdown",
   "id": "27cad6c6-dcdd-445a-b07a-1cd3cbb148d9",
   "metadata": {},
   "source": [
    "### 논리 연산자\n",
    "- logical operator라고도 부릅니다.\n",
    "- 논리 연산을 수행하여 bool 변수를 리턴합니다.\n",
    "\n",
    "|기호|연산|\n",
    "|----|----|\n",
    "|and|모두가 True여야 True 리턴, 모두가 Fasle여야 False 리턴|\n",
    "|or|하나라도 True라면 True 리턴, 모두가 False여야 False 리턴|\n",
    "|not|True면 False를 리턴, False면 True를 리턴|"
   ]
  },
  {
   "cell_type": "code",
   "execution_count": null,
   "id": "dd55d4ba-4352-4d45-98d5-91ff81882f11",
   "metadata": {},
   "outputs": [],
   "source": []
  },
  {
   "cell_type": "markdown",
   "id": "aaa8f128-ffce-49d8-bbe2-08b6ac963e57",
   "metadata": {},
   "source": [
    "### 비교 연산자\n",
    "- logical operator라고도 부릅니다.\n",
    "- 비교연산을 수행하여 bool 변수를 리턴합니다.\n",
    "\n",
    "|기호|연산|\n",
    "|----|----|\n",
    "|==|두 변수의 |\n",
    "|or|하나라도 True라면 True 리턴, 모두가 False여야 False 리턴|\n",
    "|not|True면 False를 리턴, False면 True를 리턴|"
   ]
  },
  {
   "cell_type": "code",
   "execution_count": null,
   "id": "5440a93e-5427-4d48-803d-917580a7574c",
   "metadata": {},
   "outputs": [],
   "source": []
  },
  {
   "cell_type": "markdown",
   "id": "c7da245b-6319-4d6e-aeca-b72a3cccb7bd",
   "metadata": {},
   "source": [
    "## 문자열 변수\n",
    "- str(string, 스트링)이라고 부릅니다.\n",
    "- \"\", '', ``, \"\"\"\"\"\"으로 정의할 수 있습니다. 일반적으로는 \"\"을 사용합니다. "
   ]
  },
  {
   "cell_type": "code",
   "execution_count": null,
   "id": "bbd6ed97-1f7d-441b-a2c8-c941fbfaa595",
   "metadata": {},
   "outputs": [],
   "source": []
  },
  {
   "cell_type": "markdown",
   "id": "c36658f6-ad6a-4c5e-b181-267a3376ee64",
   "metadata": {},
   "source": [
    "- \"\"\" \"\"\"은 주로 한줄에 표현되지 않고 여러줄에 걸치는 문자열을 정의할 때 사용합니다."
   ]
  },
  {
   "cell_type": "code",
   "execution_count": null,
   "id": "217185ce-8a81-449c-b3d0-99ddd4370548",
   "metadata": {},
   "outputs": [],
   "source": []
  },
  {
   "cell_type": "markdown",
   "id": "edcdfa1e-b1d2-4308-8315-18e77309a799",
   "metadata": {},
   "source": [
    "### Escape Sequence\n",
    "- 줄바꿈, 탭, 따옴표, 쌍따옴표 등 문자열 안에서 그 본래의 문자로 표현할 수 없는 문자들을 표현하기 위한 기호들입니다.  \n",
    "- print() 함수로 출력을 해보면 해당 기호들이 어떻게 출력되는지 확인할 수 있습니다.\n",
    "    - 줄바꿈: \\n\n",
    "    - 탭: \\t\n",
    "    - 쌍따옴표: \\\"\n",
    "    - 따옴표: \\'\n",
    "    - 역슬래쉬: \\\\"
   ]
  },
  {
   "cell_type": "code",
   "execution_count": null,
   "id": "73d7e128-b90b-4307-b899-572333da8e6b",
   "metadata": {},
   "outputs": [],
   "source": []
  },
  {
   "cell_type": "markdown",
   "id": "98dc284f-4c78-41ab-81d7-71b4a1272314",
   "metadata": {},
   "source": [
    "### 문자열 포맷팅\n",
    "- 문자열 사이 사이에 변수를 넣고 싶을 때 사용합니다. \n",
    "- format 함수를 사용하는 방법과 f-string을 사용하는 방법이 있습니다.\n"
   ]
  },
  {
   "cell_type": "code",
   "execution_count": null,
   "id": "676b36bb-49d1-4853-b7d5-408afceef421",
   "metadata": {},
   "outputs": [],
   "source": []
  },
  {
   "cell_type": "markdown",
   "id": "9dc94469-dea0-414e-ba38-15972480da5d",
   "metadata": {},
   "source": [
    "- formated 문자열을 활용해서 \"민수는 3살입니다.\" 출력하시오"
   ]
  },
  {
   "cell_type": "code",
   "execution_count": null,
   "id": "facf5635-1822-42c4-853e-6fbbce663da6",
   "metadata": {},
   "outputs": [],
   "source": []
  },
  {
   "cell_type": "markdown",
   "id": "debcafa6-fc69-4f87-99c0-7cd04ac55467",
   "metadata": {},
   "source": [
    "### 문자열 변수의 산술 연산\n",
    "- str() 함수를 이용하면 정수형, 실수형, 논리형 변수를 문자열로 변환할 수 있습니다.\n",
    "- 문자열 끼리는 \"+\" 산술 연산이 가능합니다.\n",
    "- 문자열 * N을 하면 해당 문자열을 N번 반복한 문자열이 됩니다.\n",
    "- 문자열로 변환할 경우, 문자열 변수와의 산술 연산이 가능합니다.\n"
   ]
  },
  {
   "cell_type": "code",
   "execution_count": null,
   "id": "b0a940ef-16b0-4de5-a69f-d581278159d0",
   "metadata": {},
   "outputs": [],
   "source": []
  },
  {
   "cell_type": "markdown",
   "id": "b89dce9e-e01b-4d2e-8b7f-80b54e7dc6a8",
   "metadata": {},
   "source": [
    "### 그 외에 유용한 문자열 연산\n",
    "- 대문자, 소문자 변환: upper, lower\n",
    "- 특정 문자열 대치: replace"
   ]
  },
  {
   "cell_type": "code",
   "execution_count": null,
   "id": "710dff39-cbee-4c95-b5e0-c4ddda13c902",
   "metadata": {},
   "outputs": [],
   "source": []
  },
  {
   "cell_type": "markdown",
   "id": "c434d5af-929b-48ab-8f34-00459bbfea3e",
   "metadata": {},
   "source": [
    "## 심화 주제\n",
    "- 이미 python에 익숙하신 분들을 위한 섹션입니다.\n",
    "- 아직 코딩에 익숙치 않은 수강생 분들은 신경쓰지 않아도 좋습니다.\n",
    "- 나중에 코딩에 익숙해지고, 면접을 준비하거나 시간이 남을 때 꼭 공부해주세요\n",
    "\n",
    "### python int의 구현\n",
    "- python의 int는 아주 큰 수도 담을 수 있습니다. 이는 c++나 Java와 같은 언어에서는 찾아볼 수 없는 특징입니다.\n",
    "- 왜 파이썬에서는 이것이 가능한지 설명할 수 있어야 합니다."
   ]
  },
  {
   "cell_type": "code",
   "execution_count": null,
   "id": "b77ebe51-1add-4f9b-af71-090ff1b14d0d",
   "metadata": {},
   "outputs": [],
   "source": []
  },
  {
   "cell_type": "markdown",
   "id": "46580ad7-1dbf-49e6-ae2e-5661c07749d4",
   "metadata": {},
   "source": [
    "### Python Type\n",
    "- 앞서 str(), int()와 같은 문법으로 변수를 만들 수 있었습니다. 그리고 그렇게 만든 변수의 타입은 각각 str, int였습니다.\n",
    "- 그런데 str과 int 자체의 type을 출력해보면 type이라고 리턴됩니다.\n",
    "- 이것이 의미하는 바가 무엇일까요? 그리고 python의 또 다른 타입들은 어떤 것들이 있을까요?"
   ]
  },
  {
   "cell_type": "code",
   "execution_count": null,
   "id": "4f906812-9921-4d28-b296-3d1181a49631",
   "metadata": {},
   "outputs": [],
   "source": []
  },
  {
   "cell_type": "markdown",
   "id": "d8adab44-ea76-4aa7-9d70-17fc5b9cd18b",
   "metadata": {},
   "source": [
    "## 참고 자료\n",
    "- 공부하시다가 모르는 부분이 생기면 이 책을 참고하시면 좋습니다. https://wikidocs.net/13"
   ]
  }
 ],
 "metadata": {
  "kernelspec": {
   "display_name": "Python 3 (ipykernel)",
   "language": "python",
   "name": "python3"
  },
  "language_info": {
   "codemirror_mode": {
    "name": "ipython",
    "version": 3
   },
   "file_extension": ".py",
   "mimetype": "text/x-python",
   "name": "python",
   "nbconvert_exporter": "python",
   "pygments_lexer": "ipython3",
   "version": "3.10.8"
  }
 },
 "nbformat": 4,
 "nbformat_minor": 5
}
