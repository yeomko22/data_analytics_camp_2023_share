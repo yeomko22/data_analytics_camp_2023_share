{
 "cells": [
  {
   "cell_type": "markdown",
   "id": "b2b45b91-01f9-4a57-941f-20e6672b141a",
   "metadata": {},
   "source": [
    "# ch3. 튜플과 딕셔너리 \n",
    "\n",
    "이전 시간에는 값들이 모여있는 집합인 리스트에 대해서 배웠습니다. 그런데 파이썬에는 값들이 모여있는 집합을 표현하는 튜플과 딕셔너리라는 타입도 있습니다.\n",
    "\n",
    "이번 시간에는 튜플과 딕셔너리의 기본 개념과 사용법에 대해서 알아보겠습니다."
   ]
  },
  {
   "cell_type": "markdown",
   "id": "13039e17-c8fb-483f-8cd7-afd9259886d8",
   "metadata": {},
   "source": [
    "## 튜플\n",
    "- \"()\"이란 문법으로 생성이 가능합니다. 리스트와 마찬가지로 여러가지 변수를 요소로 갖습니다.\n",
    "- index, slice 등 리스트와 거의 대부분의 기능이 같습니다. \n",
    "- 다만, 튜플의 경우 한번 할당한 요소를 변경할 수 없습니다. 이를 immutable이라고 부릅니다.\n",
    "- 때문에 append나 extend를 이용해 요소를 추가할 수 없고, 특정 인덱스의 값을 업데이트 할 수 없습니다."
   ]
  },
  {
   "cell_type": "code",
   "execution_count": null,
   "id": "8939ea12-812d-412e-a377-0b4c977394f6",
   "metadata": {},
   "outputs": [],
   "source": []
  },
  {
   "cell_type": "markdown",
   "id": "3c308f00-b51b-4cc7-ae79-9138091130da",
   "metadata": {},
   "source": [
    "## tuple을 사용하는 이유\n",
    "리스트가 있음에도 튜플을 사용하는 이유는 무엇일까요? 크게 두 가지 이유가 있습니다.\n",
    "1. tuple은 list에 비해 가볍습니다. tuple은 요소가 동적으로 추가되지 않아서 크기가 고정됩니다. 때문에 리스트처럼 유연성을 고려하지 않기 때문에 그만큼 메모리 사용량과 연산을 아낄 수 있습니다.\n",
    "\n",
    "2. 불변성이 필요한 상황이 있습니다. list는 동적으로 요소가 추가되거나 값이 업데이트 될 수 있습니다. 이런 가변성은 에러를 일으키는 원인이 되기도 합니다. 때문에 수정되어서는 안되는 데이터의 경우, 메모리에 tuple로 올려놓는 것이 경제적이면서도 안전합니다."
   ]
  },
  {
   "cell_type": "code",
   "execution_count": null,
   "id": "22488986-b75f-4815-9459-3cf4b82fab32",
   "metadata": {},
   "outputs": [],
   "source": []
  },
  {
   "cell_type": "markdown",
   "id": "3e85d870-d945-481e-a06f-161101ec2d35",
   "metadata": {},
   "source": [
    "### Tuple을 사용해야하는 상황\n",
    "- 데이터 분석 시에 튜플을 사용하는 상황은 많이 발생합니다.\n",
    "- 가령 학생 100만명의 이름, 수학 점수, 국어 점수 데이터 셋을 전달받아 분석 작업을 해야한다고 생각해보겠습니다. 이 때, (이름, 수학 점수, 국어 점수)를 묶어서 튜플을 만들고, 이러한 튜플들의 리스트 형태로 데이터 셋을 관리하면 좋습니다. \n",
    "- 각각의 데이터 레코드는 수정될 일이 없지만, 새로운 학생의 점수 데이터가 추가될 수는 있기 때문에 학생 한명의 데이터는 튜플로, 전체 데이터는 리스트로 관리하는 것입니다."
   ]
  },
  {
   "cell_type": "code",
   "execution_count": 19,
   "id": "dde988c6-ede1-4dbc-8382-a0e86ddc0e9a",
   "metadata": {},
   "outputs": [],
   "source": [
    "score_data = [\n",
    "    (\"민수\", 100, 95),\n",
    "    (\"혜진\", 85, 100),\n",
    "    (\"민수\", 90, 95),\n",
    "]"
   ]
  },
  {
   "cell_type": "markdown",
   "id": "4d70b102-65ee-4308-b7dd-37edf001bc1c",
   "metadata": {},
   "source": [
    "## 비구조 할당\n",
    "- 영어로 desctructuring assignment라고도 부릅니다.\n",
    "- tuple로 묶여진 변수를 풀어서 가져오고 싶을 때, 사용합니다.\n"
   ]
  },
  {
   "cell_type": "code",
   "execution_count": 3,
   "id": "d4107de1-e16d-406c-a767-bbc48cc9a3a7",
   "metadata": {},
   "outputs": [],
   "source": [
    "# 이름과 수학 점수가 묶인 튜플\n",
    "tuple_a = (\"민수\", 100)"
   ]
  },
  {
   "cell_type": "code",
   "execution_count": null,
   "id": "ae366ccf-196c-431d-98cd-0928b0ba95b7",
   "metadata": {},
   "outputs": [],
   "source": []
  },
  {
   "cell_type": "markdown",
   "id": "59a94d1b-fdf2-48ac-afca-accc0ccbe274",
   "metadata": {},
   "source": [
    "- 리스트도 마찬가지로 비구조 할당을 할 수 있습니다."
   ]
  },
  {
   "cell_type": "code",
   "execution_count": null,
   "id": "2f613f63-e5ce-4014-a072-6bb597b2c498",
   "metadata": {},
   "outputs": [],
   "source": []
  },
  {
   "cell_type": "markdown",
   "id": "81c126f3-c7a9-4b64-b274-021ec35f3b34",
   "metadata": {},
   "source": [
    "## Dictionary\n",
    "딕셔너리를 이해하기 위해서는 먼저 Key-Value 데이터에 대해서 이해해야 합니다. 예를 들어서 사람 이름과 생일을 매핑한 배열이 있다고 가정하겠습니다."
   ]
  },
  {
   "cell_type": "code",
   "execution_count": 1,
   "id": "cfdb4c4e-8107-48ac-9a51-c8f71763b9da",
   "metadata": {},
   "outputs": [],
   "source": [
    "birthdays = [\n",
    "    (\"민수\", \"2000-03-01\"),\n",
    "    (\"준용\", \"2000-02-11\"),\n",
    "    (\"혜진\", \"2000-08-10\"),\n",
    "    (\"지혜\", \"2000-12-30\"),\n",
    "    (\"강산\", \"2000-07-05\"),\n",
    "]"
   ]
  },
  {
   "cell_type": "code",
   "execution_count": null,
   "id": "07094c1d-0e28-4070-bd74-70d1b2563ff1",
   "metadata": {},
   "outputs": [],
   "source": []
  },
  {
   "cell_type": "markdown",
   "id": "e8cba179-689f-45e7-8320-376cd9369b51",
   "metadata": {},
   "source": [
    "- 이 때, 만일 강산이의 생일이 궁금할 경우, 배열을 모두 뒤져보면서 첫번째 인덱스의 요소가 강산인 경우를 찾아서 생일을 리턴해주어야 합니다.\n",
    "- 만일 100만명의 이름과 생일이 매핑된 데이터라면, 강산이의 생일을 찾기 위해 최악의 경우 100만번 반복을 해야합니다. \n",
    "- 이처럼 강산이의 생일을 알기 위해서 전체 데이터셋을 모두 뒤져야 하므로 데이터 셋의 개수인 N만큼 반복을 해야합니다. 이를 컴퓨터 공학에서는 \"time-complexity가 O(n)이다\"라고 표현합니다. (지금은 이 말 뜻을 몰라도 괜찮습니다.)\n",
    "- 만일 이름만 가지고 바로 생일을 알 수 있으면 어떨까요? "
   ]
  },
  {
   "cell_type": "code",
   "execution_count": 3,
   "id": "923d1659-0a5a-4456-a7ad-0b254704b550",
   "metadata": {},
   "outputs": [],
   "source": [
    "birthdays_dict = {\n",
    "    \"민수\": \"2000-03-01\",\n",
    "    \"준용\": \"2000-02-11\",\n",
    "    \"혜진\": \"2000-08-10\",\n",
    "    \"지혜\": \"2000-12-30\",\n",
    "    \"강산\": \"2000-07-05\",\n",
    "}"
   ]
  },
  {
   "cell_type": "code",
   "execution_count": null,
   "id": "6d811968-1137-4f08-8df6-05b8de1b6ac2",
   "metadata": {},
   "outputs": [],
   "source": []
  },
  {
   "cell_type": "markdown",
   "id": "2fa62460-61b1-4652-b6c5-f36d9d8d1b9c",
   "metadata": {},
   "source": [
    "- 위 예시에서는 python dictionary를 이용해서 이름과 생일 데이터를 표현한 것입니다. \n",
    "- 이름이 key로 주어지면, 곧바로 이에 매핑된 생일을 리턴해주게 됩니다. \n",
    "- 이 경우, 전체 데이터 셋의 개수만큼 반복을 할 필요없이 곧바로 생일 데이터를 가져올 수 있습니다. \n",
    "- 이를 컴퓨터 공학에서는 \"time-complexity가 O(1)\"이다 라고 표현합니다."
   ]
  },
  {
   "cell_type": "markdown",
   "id": "6b5aa0b6-a5b7-476d-b000-542fccf20805",
   "metadata": {},
   "source": [
    "### Key-Value dataset\n",
    "- Key-Value라는건 위 데이터처럼 데이터를 찾을 때 필요한 key와 실제 데이터 value가 매핑된 데이터 셋을 말합니다. \n",
    "- 위 예시에서는 key가 이름, value가 생일이 됩니다. 프로그래밍에서는 이러한 Key-Value 데이터 셋이 아주아주 많이 사용됩니다.\n",
    "- 파이썬에서는 dictionary 라는 기본 타입을 제공해서 아주 편하게 이런 Key-Value 데이터를 다룰 수 있습니다."
   ]
  },
  {
   "cell_type": "markdown",
   "id": "5b8749f2-0bdc-4faa-a377-6e5e2adf7eb0",
   "metadata": {},
   "source": [
    "### Dictionary 만들기\n",
    "- \"{}\" 문법을 사용할 경우, 편하게 딕셔너리를 만들 수 있습니다. 딕셔너리의 키로는 int, str 등을 많이 사용하며 tuple도 가능합니다.\n",
    "- dict() 문법으로도 딕셔너리를 만들 수 있지만, 잘 사용하지는 않습니다."
   ]
  },
  {
   "cell_type": "code",
   "execution_count": 4,
   "id": "0f35f6ec-5d59-49f2-be6b-7c67f81f5690",
   "metadata": {},
   "outputs": [
    {
     "data": {
      "text/plain": [
       "{'민수': '2000-03-01',\n",
       " '준용': '2000-02-11',\n",
       " '혜진': '2000-08-10',\n",
       " '지혜': '2000-12-30',\n",
       " '강산': '2000-07-05'}"
      ]
     },
     "execution_count": 4,
     "metadata": {},
     "output_type": "execute_result"
    }
   ],
   "source": [
    "birthdays_dict = {\n",
    "    \"민수\": \"2000-03-01\",\n",
    "    \"준용\": \"2000-02-11\",\n",
    "    \"혜진\": \"2000-08-10\",\n",
    "    \"지혜\": \"2000-12-30\",\n",
    "    \"강산\": \"2000-07-05\",\n",
    "}\n",
    "birthdays_dict"
   ]
  },
  {
   "cell_type": "code",
   "execution_count": null,
   "id": "528849f6-7647-402d-9c1c-c78f09af708a",
   "metadata": {},
   "outputs": [],
   "source": []
  },
  {
   "cell_type": "code",
   "execution_count": 7,
   "id": "87880526-05b7-4ea2-bc8f-267ca0c75fdb",
   "metadata": {},
   "outputs": [
    {
     "data": {
      "text/plain": [
       "{'민수': '2000-03-01',\n",
       " '준용': '2000-02-11',\n",
       " '혜진': '2000-08-10',\n",
       " '지혜': '2000-12-30',\n",
       " '강산': '2000-07-05'}"
      ]
     },
     "execution_count": 7,
     "metadata": {},
     "output_type": "execute_result"
    }
   ],
   "source": [
    "birthdays_dict = dict(\n",
    "    민수=\"2000-03-01\",\n",
    "    준용=\"2000-02-11\",\n",
    "    혜진=\"2000-08-10\",\n",
    "    지혜=\"2000-12-30\",\n",
    "    강산=\"2000-07-05\",\n",
    ")\n",
    "birthdays_dict"
   ]
  },
  {
   "cell_type": "code",
   "execution_count": null,
   "id": "7f415b96-7eb7-41ae-8d77-6b906f883d73",
   "metadata": {},
   "outputs": [],
   "source": []
  },
  {
   "cell_type": "markdown",
   "id": "daaeff12-0f8c-4f25-bebd-9c341b9b7134",
   "metadata": {},
   "source": [
    "- 값을 요청할 때는 \"딕셔너리명[키 이름]\"으로 요청합니다.\n",
    "- key 값이 딕셔너리에 없을 경우 에러가 납니다.\n",
    "- 딕셔너리에 새로운 값을 추가할 경우, \"딕셔너리변수명[키이름] = 벨류\" 문법을 사용합니다. 해당 키 값이 이미 딕셔너리에 있을 경우, 값을 덮어씁니다."
   ]
  },
  {
   "cell_type": "code",
   "execution_count": null,
   "id": "3a6025b3-b969-4442-ae47-d48be809ed29",
   "metadata": {},
   "outputs": [],
   "source": []
  },
  {
   "cell_type": "markdown",
   "id": "4e20e146-c94c-4ccf-98d3-c3f38a3b683f",
   "metadata": {},
   "source": [
    "- 민수 생일 업데이트"
   ]
  },
  {
   "cell_type": "code",
   "execution_count": null,
   "id": "78610f4e-2627-451f-88dc-a0af047d0bf9",
   "metadata": {},
   "outputs": [],
   "source": []
  },
  {
   "cell_type": "markdown",
   "id": "980e7d14-a15a-4ef4-b181-d4d788ae3f0d",
   "metadata": {},
   "source": [
    "- 찬성이 생일 추가"
   ]
  },
  {
   "cell_type": "code",
   "execution_count": null,
   "id": "b7d6c58d-5a78-4bc6-bf44-ddd1f2392a09",
   "metadata": {},
   "outputs": [],
   "source": []
  },
  {
   "cell_type": "markdown",
   "id": "e8a65ec5-81bb-4372-a0e6-efbb75e11d75",
   "metadata": {},
   "source": [
    "### 키가 없을 경우, 에러 발생시키지 않고 값 가져오기\n",
    "값을 요청한 키가 딕셔너리에 없을 경우, 에러를 발생시키지 않고 값을 가져오려면 두 가지 방법이 있습니다. 2번째 방법이 매우 간결합니다.\n",
    "1. 키가 딕셔너리에 있는지 먼저 확인하고 값을 가져오기\n",
    "2. dictionary의 내장 함수 get을 사용하기"
   ]
  },
  {
   "cell_type": "code",
   "execution_count": null,
   "id": "32208680-1ccb-4ba9-a46e-e3af2726f114",
   "metadata": {},
   "outputs": [],
   "source": []
  },
  {
   "cell_type": "markdown",
   "id": "d40da370-0150-4a51-a99e-868b1c5070d8",
   "metadata": {},
   "source": [
    "### 특정 키 값 삭제하기\n",
    "\n",
    "- del 키워드를 사용해서 특정 키 값을 딕셔너리에서 삭제할 수 있습니다."
   ]
  },
  {
   "cell_type": "code",
   "execution_count": 76,
   "id": "f0ebdc96-6470-4e24-ae0d-2c773fcb9b27",
   "metadata": {},
   "outputs": [
    {
     "data": {
      "text/plain": [
       "{'민수': '2000-03-01',\n",
       " '준용': '2000-02-11',\n",
       " '혜진': '2000-08-10',\n",
       " '지혜': '2000-12-30',\n",
       " '강산': '2000-07-05'}"
      ]
     },
     "execution_count": 76,
     "metadata": {},
     "output_type": "execute_result"
    }
   ],
   "source": [
    "birthdays_dict = {\n",
    "    \"민수\": \"2000-03-01\",\n",
    "    \"준용\": \"2000-02-11\",\n",
    "    \"혜진\": \"2000-08-10\",\n",
    "    \"지혜\": \"2000-12-30\",\n",
    "    \"강산\": \"2000-07-05\",\n",
    "}\n",
    "birthdays_dict"
   ]
  },
  {
   "cell_type": "code",
   "execution_count": null,
   "id": "0ca4cf64-dfbc-4120-bf95-f15d1a6b84f1",
   "metadata": {},
   "outputs": [],
   "source": []
  },
  {
   "cell_type": "markdown",
   "id": "e6585a19-1fc9-4007-be3b-9a8f9a657d28",
   "metadata": {},
   "source": [
    "## 심화"
   ]
  },
  {
   "cell_type": "markdown",
   "id": "969b231d-6589-4dfd-94a5-d3cb8399da94",
   "metadata": {},
   "source": [
    "### python dictionary의 key로 tuple은 되고 list는 안되는 이유\n",
    "- python dictionary의 key로 tuple은 사용할 수 있는 반면, list는 불가합니다.\n",
    "- 이는 python list는 mutable한 반면, tuple은 immutable하기 때문입니다. 왜 mutable한 list는 dictionary의 key가 될 수 없는지 공부해봅시다.\n",
    "\n",
    "- 읽기 자료: https://wiki.python.org/moin/DictionaryKeys"
   ]
  },
  {
   "cell_type": "code",
   "execution_count": null,
   "id": "f23a02a3-2bcd-4f95-ae94-9d2494937e6a",
   "metadata": {},
   "outputs": [],
   "source": []
  }
 ],
 "metadata": {
  "kernelspec": {
   "display_name": "Python 3 (ipykernel)",
   "language": "python",
   "name": "python3"
  },
  "language_info": {
   "codemirror_mode": {
    "name": "ipython",
    "version": 3
   },
   "file_extension": ".py",
   "mimetype": "text/x-python",
   "name": "python",
   "nbconvert_exporter": "python",
   "pygments_lexer": "ipython3",
   "version": "3.10.8"
  }
 },
 "nbformat": 4,
 "nbformat_minor": 5
}
