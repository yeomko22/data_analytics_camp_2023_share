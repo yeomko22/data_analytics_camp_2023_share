{
 "cells": [
  {
   "cell_type": "markdown",
   "id": "e59ec14a-56db-4364-a7a9-728d4ec2bb1e",
   "metadata": {},
   "source": [
    "# ch2. 리스트 \n",
    "\n",
    "하나의 값은 변수로 표현할 수 있었습니다. 이러한 변수들이 모여있는 집합을 배열이라고 부릅니다.\n",
    "\n",
    "파이썬에서는 list 문법을 통해 이를 지원합니다."
   ]
  },
  {
   "cell_type": "markdown",
   "id": "220a80a3-74fc-47bf-925e-1d7c8f70c456",
   "metadata": {},
   "source": [
    "## 리스트 만들기\n",
    "- 리스트는 \"[]\" 문법으로 만들 수 있습니다.\n",
    "- 리스트를 만들 때, 배열에 포함할 요소들을 함께 전달할 수 있습니다."
   ]
  },
  {
   "cell_type": "code",
   "execution_count": null,
   "id": "66b1a8b5-6aa7-42d1-8949-45bde46540f1",
   "metadata": {},
   "outputs": [],
   "source": []
  },
  {
   "cell_type": "markdown",
   "id": "b83f8e64-d133-414b-ab4e-f959d00c2abc",
   "metadata": {},
   "source": [
    "- python list에서는 서로 다른 데이터 타입을 가진 변수들도 하나의 배열로 묶일 수 있습니다."
   ]
  },
  {
   "cell_type": "code",
   "execution_count": null,
   "id": "b2f7fbca-80d8-45be-85c0-267e02d515f0",
   "metadata": {},
   "outputs": [],
   "source": []
  },
  {
   "cell_type": "markdown",
   "id": "1fe19b2a-8b50-4498-b6ad-513b8789e767",
   "metadata": {},
   "source": [
    "## 인덱스로 리스트 요소 접근\n",
    "- 리스트는 맨 앞의 요소부터 순서대로 0, 1, 2, ... 인덱스를 가집니다.\n",
    "- 이 인덱스로 배열의 요소를 읽을 수도 있고, 변경할 수도 있습니다.\n",
    "- 인덱스가 0으로 시작하기 때문에 배열의 마지막 요소의 인덱스는 배열의 길이 - 1이 됩니다. 배열의 마지막 인덱스를 접근하려 할 경우, 에러가 발생합니다."
   ]
  },
  {
   "cell_type": "code",
   "execution_count": null,
   "id": "fe4d680c-9fff-44d0-878c-3a6ef3c5ecd7",
   "metadata": {},
   "outputs": [],
   "source": []
  },
  {
   "cell_type": "markdown",
   "id": "06e04918-6985-4863-82d8-9021823f2beb",
   "metadata": {},
   "source": [
    "- \"-\"를 인덱스 앞에 붙여주면 뒤에서부터 접근할 수 있습니다."
   ]
  },
  {
   "cell_type": "code",
   "execution_count": null,
   "id": "c42d3fdb-b085-4859-8d9e-3871a5f10e7d",
   "metadata": {},
   "outputs": [],
   "source": []
  },
  {
   "cell_type": "markdown",
   "id": "28dbbdef-0741-4472-9930-45d9e9849270",
   "metadata": {},
   "source": [
    "- 배열 안에 배열이 중첩되어 있을 경우, []를 여러번 반복해서 해당 요소에 접근할 수 있습니다."
   ]
  },
  {
   "cell_type": "code",
   "execution_count": 74,
   "id": "5bd6b02c-f1fa-4d54-83eb-114a640ca435",
   "metadata": {},
   "outputs": [],
   "source": [
    "# 2중 배열로 표현한 구구단\n",
    "gugudan = [\n",
    "    [1, 2, 3, 4, 5, 6, 7, 8, 9],\n",
    "    [2, 4, 6, 8, 10, 12, 14, 16, 18],\n",
    "    [3, 6, 9, 12, 15, 18, 21, 24, 27],\n",
    "    [4, 8, 12, 16, 20, 24, 28, 32, 36],\n",
    "    [5, 10, 15, 20, 25, 30, 35, 40, 45],\n",
    "    [6, 12, 18, 24, 30, 36, 42, 48, 54],\n",
    "    [7, 14, 21, 28, 35, 42, 49, 56, 63],\n",
    "    [8, 16, 24, 32, 40, 48, 56, 64, 72],\n",
    "    [9, 18, 27, 36, 45, 54, 63, 72, 81]\n",
    "]"
   ]
  },
  {
   "cell_type": "markdown",
   "id": "c461784d-28d7-4fad-97de-bbc6e19881df",
   "metadata": {},
   "source": [
    "- 구구단 3단 출력하기"
   ]
  },
  {
   "cell_type": "code",
   "execution_count": null,
   "id": "77ccb049-3d8c-4fb0-ad30-dc681df3d2ae",
   "metadata": {},
   "outputs": [],
   "source": []
  },
  {
   "cell_type": "markdown",
   "id": "3cffbc85-3954-40ce-bb18-5127fe5d3b9a",
   "metadata": {},
   "source": [
    "## 리스트 추가, 수정, 삭제\n",
    "- 한번 생성한 리스트의 요소는 수정하거나 삭제할 수 있습니다."
   ]
  },
  {
   "cell_type": "markdown",
   "id": "bdad9de2-feef-4ef1-a288-7d3bf69cdf7d",
   "metadata": {
    "tags": []
   },
   "source": [
    "### 리스트에 요소 추가하기\n",
    "- append 함수를 사용하면 배열에 원하는 요소를 추가할 수 있습니다.\n",
    "- 배열 안에 배열도 추가할 수 있습니다.\n"
   ]
  },
  {
   "cell_type": "code",
   "execution_count": null,
   "id": "0bca1a73-346f-4273-92c3-42a1fe4d574b",
   "metadata": {},
   "outputs": [],
   "source": []
  },
  {
   "cell_type": "markdown",
   "id": "8dabb87c-cd77-441f-a196-13d4d1c66573",
   "metadata": {},
   "source": [
    "- extend를 사용하면 다른 배열의 모든 요소들을 해당 배열에 추가할 수 있습니다."
   ]
  },
  {
   "cell_type": "code",
   "execution_count": null,
   "id": "525592be-255e-4bfd-b4bf-01f2a825c1d6",
   "metadata": {},
   "outputs": [],
   "source": []
  },
  {
   "cell_type": "markdown",
   "id": "c939cc9e-6614-4f87-91a4-3cc25890e7e4",
   "metadata": {},
   "source": [
    "### 리스트 요소 업데이트\n",
    "- 리스트의 요소는 한번 할당된 뒤, 계속해서 수정할 수 있습니다.\n",
    "- 특정 인덱스에 새로운 값을 할당하면 됩니다."
   ]
  },
  {
   "cell_type": "code",
   "execution_count": null,
   "id": "0882b74d-93b3-4aff-99c3-ed3115fe0cd0",
   "metadata": {},
   "outputs": [],
   "source": []
  },
  {
   "cell_type": "markdown",
   "id": "553e795d-0978-49cf-b893-87a9d340e755",
   "metadata": {},
   "source": [
    "### 리스트 요소 삭제\n",
    "- del 키워드로 리스트에서 특정 인덱스 값을 삭제할 수 있습니다. \n",
    "- 다만 현업에서는 filter라는 함수를 사용하며, 조건문과 lambda를 배운 뒤에 소개하겠습니다. "
   ]
  },
  {
   "cell_type": "code",
   "execution_count": null,
   "id": "38a649e0-6732-4a28-b6f6-1fe28bb5d7cf",
   "metadata": {},
   "outputs": [],
   "source": []
  },
  {
   "cell_type": "markdown",
   "id": "b12f14a9-c895-4336-b4cc-7e3451876bd1",
   "metadata": {},
   "source": [
    "### 리스트에 요소 추가"
   ]
  },
  {
   "cell_type": "code",
   "execution_count": null,
   "id": "353e14d3-0035-43f9-9931-2e0fa8ffbb0c",
   "metadata": {},
   "outputs": [],
   "source": []
  },
  {
   "cell_type": "markdown",
   "id": "76c7d9ef-d2d7-4141-9dde-738aabb2181e",
   "metadata": {},
   "source": [
    "- 특정 인덱스의 값을 del 키워드로 삭제할 수 있습니다. 현업에서는 이 방식 보다는 filter 함수를 더 많이 사용합니다. \n",
    "- 이는 추후 python lambda를 알려드리면서 다루겠습니다."
   ]
  },
  {
   "cell_type": "code",
   "execution_count": null,
   "id": "73e9d57b-6efd-49dc-ac09-886aced7df4d",
   "metadata": {},
   "outputs": [],
   "source": []
  },
  {
   "cell_type": "markdown",
   "id": "9d436a99-3242-49df-b780-2c45e975cd74",
   "metadata": {},
   "source": [
    "- slice 방식으로 배열의 필요없는 부분을 잘라내기도 합니다."
   ]
  },
  {
   "cell_type": "code",
   "execution_count": null,
   "id": "9ad7d0f2-5015-44af-ab34-e94a0b6b8d18",
   "metadata": {},
   "outputs": [],
   "source": []
  },
  {
   "cell_type": "markdown",
   "id": "884799b7-6d85-412e-9995-ff372d975e0b",
   "metadata": {
    "tags": []
   },
   "source": [
    "## 슬라이싱\n",
    "- 인덱스를 기준으로 배열의 특정 범위를 나눌 때 사용한다.\n",
    "- \":\" 기호를 사용한다."
   ]
  },
  {
   "cell_type": "code",
   "execution_count": null,
   "id": "60afdebf-d9f5-4477-8a25-0b4344c0c714",
   "metadata": {},
   "outputs": [],
   "source": []
  },
  {
   "cell_type": "markdown",
   "id": "f173a69a-ef86-452f-b096-3b8c6e3851d8",
   "metadata": {},
   "source": [
    "## 리스트 뒤집기\n",
    "- [::-11] 혹은 reverse 함수로 배열을 뒤집을 수 있습니다\n",
    "- reverse의 경우엔 배열을 뒤집은 다음 다시 할당을 하지만, [::-1]은 뒤집기만 할 뿐, 다시 할당을 하지 않습니다."
   ]
  },
  {
   "cell_type": "code",
   "execution_count": null,
   "id": "fc46cbd7-cdf1-43c4-a6b0-25683e87cd37",
   "metadata": {},
   "outputs": [],
   "source": []
  },
  {
   "cell_type": "markdown",
   "id": "fc888dda-d6c8-49d1-a4c6-d658fdfd04f2",
   "metadata": {},
   "source": [
    "## 리스트 소팅\n",
    "- 숫자나 문자로만 이루어진 배열은 .sort() 함수를 이용해서 정렬을 할 수 있습니다.\n",
    "- sort는 list의 내장 함수로, 리턴 값 없이 해당 리스트를 정렬합니다.\n",
    "- sorted는 더 복잡한 정렬을 할 때 사용하는 함수로, 배열을 파라미터로 받아서 정렬된 배열을 리턴합니다. 복잡한 정렬 조건을 추가로 리턴받을 수도 있습니다.\n",
    "- 현업에서는 보통 sorted를 많이 사용합니다."
   ]
  },
  {
   "cell_type": "code",
   "execution_count": null,
   "id": "2ffda1c2-1a9e-4303-aede-d4163f096ac7",
   "metadata": {},
   "outputs": [],
   "source": []
  },
  {
   "cell_type": "markdown",
   "id": "2d65bc79-778a-4069-b77e-3febf8025040",
   "metadata": {},
   "source": [
    "- 문자열로 이루어진 배열도 사전 순으로 정렬이 가능하다."
   ]
  },
  {
   "cell_type": "code",
   "execution_count": null,
   "id": "58f4dee6-5f7d-497f-becb-8f06c05b0697",
   "metadata": {},
   "outputs": [],
   "source": []
  },
  {
   "cell_type": "markdown",
   "id": "951f29ed-dffc-4f57-9825-9fb49286bdb2",
   "metadata": {},
   "source": [
    "- sorted를 이용하면 복잡한 정렬 조건도 쉽게 해결할 수 있다.\n",
    "- ex) 다음은 이름과 수학 점수, 국어 점수, 총 점 을 묶은 배열입니다. 총 점이 높은 순서대로 이름을 출력하세요. 총점이 동점일 경우, 수학 점수가 높은 사람을 먼저 출력하세요. 수학과 국어가 모두 동점일 경우, 누가 먼저 출력되도 상관 없습니다."
   ]
  },
  {
   "cell_type": "code",
   "execution_count": 149,
   "id": "a3c7fb2b-147d-4458-a32a-ea927bdfd321",
   "metadata": {},
   "outputs": [],
   "source": [
    "scores = [\n",
    "    (\"민수\", 50, 70),\n",
    "    (\"동현\", 60, 90),\n",
    "    (\"진희\", 40, 80),\n",
    "    (\"준용\", 50, 80),\n",
    "    (\"희수\", 70, 70),\n",
    "    (\"창서\", 60, 60),\n",
    "]"
   ]
  },
  {
   "cell_type": "code",
   "execution_count": null,
   "id": "43974258-0e54-4c93-a51d-f1be1d05b844",
   "metadata": {},
   "outputs": [],
   "source": []
  },
  {
   "cell_type": "markdown",
   "id": "eca01ecf-11a4-4927-ba35-4dbb6ca559a7",
   "metadata": {},
   "source": [
    "## 리스트 산술 연산\n",
    "- 리스트끼리 \"+\" 연산이 가능합니다. 이는 두 배열을 하나의 배열로 이어붙여줍니다.\n",
    "- 리스트는 int 변수와 \"*\" 연산이 가능합니다. 이는 배열을 n번 반복해줍니다."
   ]
  },
  {
   "cell_type": "code",
   "execution_count": null,
   "id": "c316e76b-d505-46d0-a640-89c9a12384cd",
   "metadata": {},
   "outputs": [],
   "source": []
  },
  {
   "cell_type": "markdown",
   "id": "0dd1cffd-695a-4098-a867-144d25333e26",
   "metadata": {},
   "source": [
    "## 심화 주제"
   ]
  },
  {
   "cell_type": "markdown",
   "id": "adf3f070-b568-4c82-8d83-5020eb6ad646",
   "metadata": {},
   "source": [
    "### python list의 내부 구현\n",
    "python list는 하나의 배열 안에 서로 다른 데이터 타입을 가진 변수들을 담을 수 있습니다. 파이썬의 리스트는 내부적으로 어떻게 구현되어 있기에 이것이 가능할까요? 그리고 이에 따른 장점과 단점은 어떤 것들이 있을까요?\n",
    "\n",
    "읽기 자료: https://jakevdp.github.io/PythonDataScienceHandbook/02.01-understanding-data-types.html"
   ]
  },
  {
   "cell_type": "code",
   "execution_count": null,
   "id": "5071b85b-a02e-40c1-b050-8c38de0b508a",
   "metadata": {},
   "outputs": [],
   "source": []
  },
  {
   "cell_type": "markdown",
   "id": "0337c52c-0b9d-4eed-afd7-0a24d4b08720",
   "metadata": {},
   "source": [
    "### append와 extend의 차이\n",
    "\n",
    "- python 배열에 새로운 요소를 추가하려면 append 혹은 extend 함수를 사용해야합니다. \n",
    "- 어떤 방식이 더 빠르고 메모리 효율적으로 동작할까요? 그리고 각각이 적합한 상황은 언제일까요?"
   ]
  },
  {
   "cell_type": "code",
   "execution_count": null,
   "id": "c4a1f740-2155-4d3f-8832-e24429dc2aa2",
   "metadata": {},
   "outputs": [],
   "source": []
  },
  {
   "cell_type": "markdown",
   "id": "16b2eb4f-cfa4-4fe0-b185-6b183fdc387a",
   "metadata": {},
   "source": [
    "### python sorting 내부 구현\n",
    "- 파이썬의 내부 소팅 알고리즘은 time-sort입니다. 이는 여러가지 sorting 알고리즘들의 장점을 모아 구현된 알고리즘입니다. merge sort, quick sort, insertion sort를 이미 공부하셨다면, python의 time sort를 공부해보세요!"
   ]
  },
  {
   "cell_type": "code",
   "execution_count": null,
   "id": "4c523195-777d-4e86-95e1-6ce2258ed537",
   "metadata": {},
   "outputs": [],
   "source": []
  }
 ],
 "metadata": {
  "kernelspec": {
   "display_name": "Python 3 (ipykernel)",
   "language": "python",
   "name": "python3"
  },
  "language_info": {
   "codemirror_mode": {
    "name": "ipython",
    "version": 3
   },
   "file_extension": ".py",
   "mimetype": "text/x-python",
   "name": "python",
   "nbconvert_exporter": "python",
   "pygments_lexer": "ipython3",
   "version": "3.10.8"
  }
 },
 "nbformat": 4,
 "nbformat_minor": 5
}
