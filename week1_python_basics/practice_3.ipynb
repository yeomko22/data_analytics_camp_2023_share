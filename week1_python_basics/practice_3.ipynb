{
 "cells": [
  {
   "cell_type": "code",
   "execution_count": 1,
   "id": "0aa4db81-b7fc-4047-a109-d49bd3e09240",
   "metadata": {},
   "outputs": [],
   "source": [
    "# 1: wall, 0: can go, 2: player, 3: goal\n",
    "maze_one = [\n",
    "    [1, 3, 1, 1, 1],\n",
    "    [1, 0, 0, 0, 1],\n",
    "    [1, 0, 0, 0, 1],\n",
    "    [1, 0, 0, 0, 1],\n",
    "    [1, 1, 1, 2, 1],\n",
    "]\n",
    "# (4, 3)\n",
    "\n",
    "maze_two = [\n",
    "    [1, 1, 1, 3, 1],\n",
    "    [1, 0, 0, 0, 1],\n",
    "    [1, 0, 1, 1, 1],\n",
    "    [1, 0, 0, 0, 1],\n",
    "    [1, 1, 1, 2, 1],\n",
    "]\n",
    "\n",
    "maze_three = [\n",
    "    [1, 1, 1, 1, 1],\n",
    "    [1, 0, 0, 0, 1],\n",
    "    [1, 0, 1, 0, 1],\n",
    "    [1, 0, 1, 0, 1],\n",
    "    [1, 2, 1,  3, 1],\n",
    "]"
   ]
  },
  {
   "cell_type": "code",
   "execution_count": 2,
   "id": "075a582a-d87e-4a2e-af03-81f782ff2d5e",
   "metadata": {},
   "outputs": [],
   "source": [
    "def print_maze(maze):\n",
    "    for row in maze:\n",
    "        print(row)"
   ]
  },
  {
   "cell_type": "code",
   "execution_count": 3,
   "id": "4dd4aef3-560c-4f06-a4c6-b51152e0104c",
   "metadata": {},
   "outputs": [
    {
     "name": "stdout",
     "output_type": "stream",
     "text": [
      "[1, 1, 1, 1, 1]\n",
      "[1, 0, 0, 0, 1]\n",
      "[1, 0, 1, 0, 1]\n",
      "[1, 0, 1, 0, 1]\n",
      "[1, 2, 1, 3, 1]\n"
     ]
    }
   ],
   "source": [
    "print_maze(maze_three)"
   ]
  },
  {
   "cell_type": "code",
   "execution_count": 4,
   "id": "a4be4e8e-a088-4e6a-8c52-6660b2fcd1c1",
   "metadata": {},
   "outputs": [],
   "source": [
    "# 1번 문제\n",
    "def get_player_loc(maze):\n",
    "    # for문을 돌면서 player 위치 찾아서 player_loc에 튜플 할당\n",
    "    player_loc = (-1, -1)\n",
    "    for i in range(len(maze)):\n",
    "        for j in range(len(maze[0])):\n",
    "            if maze[i][j] == 2:\n",
    "                player_loc = (i, j)\n",
    "    return player_loc"
   ]
  },
  {
   "cell_type": "code",
   "execution_count": 5,
   "id": "9de50dc6-c36f-4518-adb9-ad8b141f2042",
   "metadata": {},
   "outputs": [
    {
     "data": {
      "text/plain": [
       "(4, 1)"
      ]
     },
     "execution_count": 5,
     "metadata": {},
     "output_type": "execute_result"
    }
   ],
   "source": [
    "get_player_loc(maze_three)"
   ]
  },
  {
   "cell_type": "code",
   "execution_count": 6,
   "id": "24b76331-5d83-48a9-a073-3fb4c713800f",
   "metadata": {},
   "outputs": [],
   "source": [
    "directions = {\"up\": (-1, 0), \"down\": (1, 0), \"right\": (0, 1), \"left\": (0, -1)}"
   ]
  },
  {
   "cell_type": "code",
   "execution_count": 7,
   "id": "93c55c63-d350-43f4-98c4-9aa95f088222",
   "metadata": {},
   "outputs": [],
   "source": [
    "# 2번 문제\n",
    "def get_movable_directions(maze, player_loc):\n",
    "    # 미로와 플레이어의 위치를 가지고 진행 가능한 방향 문자열을 리스트에 담아서 리턴\n",
    "    movable_directions = [] # ex) [\"up\"]\n",
    "    player_y, player_x = player_loc\n",
    "    \n",
    "    for direction, (move_y, move_x) in directions.items():\n",
    "        new_y = player_y + move_y\n",
    "        new_x = player_x + move_x\n",
    "        \n",
    "        # 없는 인덱스일 경우, 에러가 안나도록 처리해주어야 함\n",
    "        if new_y < 0 or new_y > len(maze) - 1:\n",
    "            continue\n",
    "        if new_x < 0 or new_x > len(maze[0]) - 1:\n",
    "            continue\n",
    "        \n",
    "        if maze[new_y][new_x] == 0 or maze[new_y][new_x] == 3:\n",
    "            movable_directions.append(direction)\n",
    "    return movable_directions"
   ]
  },
  {
   "cell_type": "code",
   "execution_count": 10,
   "id": "f5726efb-341f-48de-bac7-39e85e531370",
   "metadata": {},
   "outputs": [
    {
     "name": "stdout",
     "output_type": "stream",
     "text": [
      "['up']\n"
     ]
    }
   ],
   "source": [
    "player_loc = get_player_loc(maze_two)\n",
    "movable_directions = get_movable_directions(maze_two, player_loc)\n",
    "print(movable_directions)"
   ]
  },
  {
   "cell_type": "code",
   "execution_count": 12,
   "id": "a57c0421-3c12-47a6-bfa4-be49f6319c56",
   "metadata": {},
   "outputs": [],
   "source": [
    "from copy import deepcopy\n",
    "# 3번 문제\n",
    "# copy를 사용하는 방식\n",
    "def move_with_copy(maze, player_loc, direction):\n",
    "    # 파라미터로 주어진 방향으로 플레이어를 이동시킨다.\n",
    "    # maze 리스트에 인덱스로 접근해서 값을 변경해주면 된다.\n",
    "    new_maze = deepcopy(maze)\n",
    "    player_y, player_x = player_loc\n",
    "    move_y, move_x = directions[direction]\n",
    "    new_y = player_y + move_y\n",
    "    new_x = player_x + move_x\n",
    "    new_maze[player_y][player_x] = 0\n",
    "    new_maze[new_y][new_x] = 2\n",
    "    return new_maze"
   ]
  },
  {
   "cell_type": "code",
   "execution_count": 14,
   "id": "116c766a-2e5c-4ab4-80c4-5d86fe0b012a",
   "metadata": {},
   "outputs": [],
   "source": [
    "def move_without_copy(maze, player_loc, direction):\n",
    "    # 파라미터로 주어진 방향으로 플레이어를 이동시킨다.\n",
    "    # maze 리스트에 인덱스로 접근해서 값을 변경해주면 된다.\n",
    "    player_y, player_x = player_loc\n",
    "    move_y, move_x = directions[direction]\n",
    "    new_y = player_y + move_y\n",
    "    new_x = player_x + move_x\n",
    "    maze[player_y][player_x] = 0\n",
    "    maze[new_y][new_x] = 2"
   ]
  },
  {
   "cell_type": "code",
   "execution_count": 15,
   "id": "cf6164fd-78cd-44a7-8aba-97a6e2033281",
   "metadata": {},
   "outputs": [],
   "source": [
    "def get_goal_loc(maze):\n",
    "    goal_loc = (-1, -1)\n",
    "    # for문을 돌면서 player 위치 찾아서 player_loc에 튜플 할당\n",
    "    for i in range(len(maze)):\n",
    "        for j in range(len(maze[0])):\n",
    "            if maze[i][j] == 3:\n",
    "                goal_loc = (i, j)\n",
    "    return goal_loc "
   ]
  },
  {
   "cell_type": "code",
   "execution_count": 22,
   "id": "1fe96b7f-5912-43f1-ab86-ec0b0e9b5081",
   "metadata": {},
   "outputs": [],
   "source": [
    "def escape_game(maze):\n",
    "    goal_loc = get_goal_loc(maze)\n",
    "    while True:\n",
    "        print_maze(maze)\n",
    "        player_loc = get_player_loc(maze)\n",
    "        if player_loc == goal_loc:\n",
    "            print(\"나 자유다!!!ㅠㅠㅠ\")\n",
    "            break\n",
    "        movable_directions = get_movable_directions(maze, player_loc)\n",
    "        while True:\n",
    "            print(movable_directions)\n",
    "            move_direction = input(\"어느 방향으로 진행하시겠습니까?\")\n",
    "            if move_direction in movable_directions:\n",
    "                break\n",
    "            print(\"잘못된 입력입니다.\")\n",
    "        # move_with_copy를 사용할 때는 결과값을 다시 maze에 할당해줘야 합니다.\n",
    "        # maze = move_with_copy(maze, player_loc, move_direction)\n",
    "        move_without_copy(maze, player_loc, move_direction)"
   ]
  },
  {
   "cell_type": "code",
   "execution_count": 23,
   "id": "0e134843-cf12-4dbc-bed3-7fad6ff6cbf8",
   "metadata": {},
   "outputs": [
    {
     "name": "stdout",
     "output_type": "stream",
     "text": [
      "[1, 1, 1, 1, 1]\n",
      "[1, 0, 0, 0, 1]\n",
      "[1, 0, 1, 0, 1]\n",
      "[1, 0, 1, 0, 1]\n",
      "[1, 2, 1, 3, 1]\n",
      "['up']\n"
     ]
    },
    {
     "name": "stdin",
     "output_type": "stream",
     "text": [
      "어느 방향으로 진행하시겠습니까? up\n"
     ]
    },
    {
     "name": "stdout",
     "output_type": "stream",
     "text": [
      "[1, 1, 1, 1, 1]\n",
      "[1, 0, 0, 0, 1]\n",
      "[1, 0, 1, 0, 1]\n",
      "[1, 2, 1, 0, 1]\n",
      "[1, 0, 1, 3, 1]\n",
      "['up', 'down']\n"
     ]
    },
    {
     "name": "stdin",
     "output_type": "stream",
     "text": [
      "어느 방향으로 진행하시겠습니까? up\n"
     ]
    },
    {
     "name": "stdout",
     "output_type": "stream",
     "text": [
      "[1, 1, 1, 1, 1]\n",
      "[1, 0, 0, 0, 1]\n",
      "[1, 2, 1, 0, 1]\n",
      "[1, 0, 1, 0, 1]\n",
      "[1, 0, 1, 3, 1]\n",
      "['up', 'down']\n"
     ]
    },
    {
     "name": "stdin",
     "output_type": "stream",
     "text": [
      "어느 방향으로 진행하시겠습니까? up\n"
     ]
    },
    {
     "name": "stdout",
     "output_type": "stream",
     "text": [
      "[1, 1, 1, 1, 1]\n",
      "[1, 2, 0, 0, 1]\n",
      "[1, 0, 1, 0, 1]\n",
      "[1, 0, 1, 0, 1]\n",
      "[1, 0, 1, 3, 1]\n",
      "['down', 'right']\n"
     ]
    },
    {
     "name": "stdin",
     "output_type": "stream",
     "text": [
      "어느 방향으로 진행하시겠습니까? right\n"
     ]
    },
    {
     "name": "stdout",
     "output_type": "stream",
     "text": [
      "[1, 1, 1, 1, 1]\n",
      "[1, 0, 2, 0, 1]\n",
      "[1, 0, 1, 0, 1]\n",
      "[1, 0, 1, 0, 1]\n",
      "[1, 0, 1, 3, 1]\n",
      "['right', 'left']\n"
     ]
    },
    {
     "name": "stdin",
     "output_type": "stream",
     "text": [
      "어느 방향으로 진행하시겠습니까? right\n"
     ]
    },
    {
     "name": "stdout",
     "output_type": "stream",
     "text": [
      "[1, 1, 1, 1, 1]\n",
      "[1, 0, 0, 2, 1]\n",
      "[1, 0, 1, 0, 1]\n",
      "[1, 0, 1, 0, 1]\n",
      "[1, 0, 1, 3, 1]\n",
      "['down', 'left']\n"
     ]
    },
    {
     "name": "stdin",
     "output_type": "stream",
     "text": [
      "어느 방향으로 진행하시겠습니까? down\n"
     ]
    },
    {
     "name": "stdout",
     "output_type": "stream",
     "text": [
      "[1, 1, 1, 1, 1]\n",
      "[1, 0, 0, 0, 1]\n",
      "[1, 0, 1, 2, 1]\n",
      "[1, 0, 1, 0, 1]\n",
      "[1, 0, 1, 3, 1]\n",
      "['up', 'down']\n"
     ]
    },
    {
     "name": "stdin",
     "output_type": "stream",
     "text": [
      "어느 방향으로 진행하시겠습니까? down\n"
     ]
    },
    {
     "name": "stdout",
     "output_type": "stream",
     "text": [
      "[1, 1, 1, 1, 1]\n",
      "[1, 0, 0, 0, 1]\n",
      "[1, 0, 1, 0, 1]\n",
      "[1, 0, 1, 2, 1]\n",
      "[1, 0, 1, 3, 1]\n",
      "['up', 'down']\n"
     ]
    },
    {
     "name": "stdin",
     "output_type": "stream",
     "text": [
      "어느 방향으로 진행하시겠습니까? dwon\n"
     ]
    },
    {
     "name": "stdout",
     "output_type": "stream",
     "text": [
      "잘못된 입력입니다.\n",
      "['up', 'down']\n"
     ]
    },
    {
     "name": "stdin",
     "output_type": "stream",
     "text": [
      "어느 방향으로 진행하시겠습니까? dwon\n"
     ]
    },
    {
     "name": "stdout",
     "output_type": "stream",
     "text": [
      "잘못된 입력입니다.\n",
      "['up', 'down']\n"
     ]
    },
    {
     "name": "stdin",
     "output_type": "stream",
     "text": [
      "어느 방향으로 진행하시겠습니까? down\n"
     ]
    },
    {
     "name": "stdout",
     "output_type": "stream",
     "text": [
      "[1, 1, 1, 1, 1]\n",
      "[1, 0, 0, 0, 1]\n",
      "[1, 0, 1, 0, 1]\n",
      "[1, 0, 1, 0, 1]\n",
      "[1, 0, 1, 2, 1]\n",
      "나 자유다!!!ㅠㅠㅠ\n"
     ]
    }
   ],
   "source": [
    "escape_game(maze_three)"
   ]
  },
  {
   "cell_type": "code",
   "execution_count": null,
   "id": "f4b72452-3cc7-4b8b-9bb3-199fac12bb34",
   "metadata": {},
   "outputs": [],
   "source": []
  }
 ],
 "metadata": {
  "kernelspec": {
   "display_name": "Python 3 (ipykernel)",
   "language": "python",
   "name": "python3"
  },
  "language_info": {
   "codemirror_mode": {
    "name": "ipython",
    "version": 3
   },
   "file_extension": ".py",
   "mimetype": "text/x-python",
   "name": "python",
   "nbconvert_exporter": "python",
   "pygments_lexer": "ipython3",
   "version": "3.10.8"
  }
 },
 "nbformat": 4,
 "nbformat_minor": 5
}
