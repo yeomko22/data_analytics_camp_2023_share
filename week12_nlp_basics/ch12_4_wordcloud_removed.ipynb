{
 "cells": [
  {
   "cell_type": "markdown",
   "id": "c46d453e-b0ec-4589-8c80-6fafaa3e8ecb",
   "metadata": {},
   "source": [
    "# ch 12_4. word cloud\n",
    "\n",
    "이전 챕터에서 2022년 한국 야구 데이터 셋을 토큰화 했습니다. 이번 챕터에서는 가장 기본적인 자연어 데이터 시각화 기법인 워드 클라우드에 대해서 알아보겠습니다. 워드 클라우드는 특정 단어와 함께 등장한 단어의 빈도 수를 집계해서, 어떤 단어가 연관되어 있는지를 시각적으로 표현하는 기법입니다."
   ]
  },
  {
   "cell_type": "code",
   "execution_count": 1,
   "id": "35dce899-59f8-4589-98e9-a6cd419e2b82",
   "metadata": {},
   "outputs": [
    {
     "name": "stdout",
     "output_type": "stream",
     "text": [
      "Requirement already satisfied: wordcloud in /Users/user/miniconda3/lib/python3.10/site-packages (1.9.1.1)\n",
      "Requirement already satisfied: numpy>=1.6.1 in /Users/user/miniconda3/lib/python3.10/site-packages (from wordcloud) (1.23.5)\n",
      "Requirement already satisfied: pillow in /Users/user/miniconda3/lib/python3.10/site-packages (from wordcloud) (9.4.0)\n",
      "Requirement already satisfied: matplotlib in /Users/user/miniconda3/lib/python3.10/site-packages (from wordcloud) (3.7.1)\n",
      "Requirement already satisfied: contourpy>=1.0.1 in /Users/user/miniconda3/lib/python3.10/site-packages (from matplotlib->wordcloud) (1.0.7)\n",
      "Requirement already satisfied: cycler>=0.10 in /Users/user/miniconda3/lib/python3.10/site-packages (from matplotlib->wordcloud) (0.11.0)\n",
      "Requirement already satisfied: fonttools>=4.22.0 in /Users/user/miniconda3/lib/python3.10/site-packages (from matplotlib->wordcloud) (4.39.2)\n",
      "Requirement already satisfied: kiwisolver>=1.0.1 in /Users/user/miniconda3/lib/python3.10/site-packages (from matplotlib->wordcloud) (1.4.4)\n",
      "Requirement already satisfied: packaging>=20.0 in /Users/user/miniconda3/lib/python3.10/site-packages (from matplotlib->wordcloud) (22.0)\n",
      "Requirement already satisfied: pyparsing>=2.3.1 in /Users/user/miniconda3/lib/python3.10/site-packages (from matplotlib->wordcloud) (3.0.9)\n",
      "Requirement already satisfied: python-dateutil>=2.7 in /Users/user/miniconda3/lib/python3.10/site-packages (from matplotlib->wordcloud) (2.8.2)\n",
      "Requirement already satisfied: six>=1.5 in /Users/user/miniconda3/lib/python3.10/site-packages (from python-dateutil>=2.7->matplotlib->wordcloud) (1.16.0)\n"
     ]
    }
   ],
   "source": [
    "!pip install wordcloud"
   ]
  },
  {
   "cell_type": "markdown",
   "id": "5c5b6f41-8f1c-49f0-9134-0ded9d493178",
   "metadata": {},
   "source": [
    "## 선수 이름 데이터 준비\n",
    "우리가 만들어보고 싶은 건 특정 선수 이름이 주어지면, 그 선수와 함께 언급되는 단어들을 시각적으로 보여주는 것입니다. 이를 위해서 먼저 토큰화 한 뉴스 기사 데이터에서 특정 선수가 언급되면, 함께 언급된 단어들의 빈도수를 세어 딕셔너리 형태로 만들어보겠습니다. \n",
    "\n",
    "먼저 기사에 선수 이름이 포함되었는지 여부를 판단하기 위해 크롤러 시간에 짰던 코드를 재사용합니다."
   ]
  },
  {
   "cell_type": "code",
   "execution_count": 2,
   "id": "13b1ce9c-3b70-4a0d-b62d-1038a8479d90",
   "metadata": {},
   "outputs": [],
   "source": [
    "import pandas as pd"
   ]
  },
  {
   "cell_type": "code",
   "execution_count": 3,
   "id": "9aadd0b9-3e47-4c32-b026-6d947a8d36fb",
   "metadata": {},
   "outputs": [],
   "source": [
    "df = pd.read_csv(\"./data/baseball_players.csv\", index_col=[\"구단\"])"
   ]
  },
  {
   "cell_type": "code",
   "execution_count": 4,
   "id": "aac445b7-96df-439b-acaf-00cc56f2852d",
   "metadata": {},
   "outputs": [
    {
     "data": {
      "text/html": [
       "<div>\n",
       "<style scoped>\n",
       "    .dataframe tbody tr th:only-of-type {\n",
       "        vertical-align: middle;\n",
       "    }\n",
       "\n",
       "    .dataframe tbody tr th {\n",
       "        vertical-align: top;\n",
       "    }\n",
       "\n",
       "    .dataframe thead th {\n",
       "        text-align: right;\n",
       "    }\n",
       "</style>\n",
       "<table border=\"1\" class=\"dataframe\">\n",
       "  <thead>\n",
       "    <tr style=\"text-align: right;\">\n",
       "      <th></th>\n",
       "      <th>투수</th>\n",
       "      <th>포수</th>\n",
       "      <th>내야수</th>\n",
       "      <th>외야수</th>\n",
       "    </tr>\n",
       "    <tr>\n",
       "      <th>구단</th>\n",
       "      <th></th>\n",
       "      <th></th>\n",
       "      <th></th>\n",
       "      <th></th>\n",
       "    </tr>\n",
       "  </thead>\n",
       "  <tbody>\n",
       "    <tr>\n",
       "      <th>롯데</th>\n",
       "      <td>김진욱\\n한현희\\n최준용\\n박세웅\\n구승민\\n김상수\\n반즈\\n신정락\\n최이준\\n김원...</td>\n",
       "      <td>유강남\\n정보근</td>\n",
       "      <td>안치홍\\n한동희\\n김민수\\n노진혁\\n박승욱\\n이학주\\n전준우\\n정훈</td>\n",
       "      <td>안권수\\n렉스\\n김민석\\n고승민\\n윤동희</td>\n",
       "    </tr>\n",
       "    <tr>\n",
       "      <th>SSG</th>\n",
       "      <td>고효준\\n서진용\\n김광현\\n맥카티\\n노경은\\n박민호\\n문승원\\n오원석\\n임준섭\\n신...</td>\n",
       "      <td>김민식\\n조형우</td>\n",
       "      <td>최정\\n박성한\\n김건웅\\n최주환\\n전의산\\n최경모\\n김성현</td>\n",
       "      <td>추신수\\n에레디아\\n한유섬\\n오태곤\\n김정민\\n최상민</td>\n",
       "    </tr>\n",
       "    <tr>\n",
       "      <th>LG</th>\n",
       "      <td>임찬규\\n함덕주\\n정우영\\n진해수\\n켈리\\n이정용\\n배재준\\n박명근\\n김진성\\n플럿...</td>\n",
       "      <td>김기연\\n박동원</td>\n",
       "      <td>오지환\\n서건창\\n김민성\\n문보경\\n송찬의\\n정주현</td>\n",
       "      <td>박해민\\n김현수\\n오스틴\\n신민재\\n홍창기\\n문성주</td>\n",
       "    </tr>\n",
       "    <tr>\n",
       "      <th>두산</th>\n",
       "      <td>박치국\\n홍건희\\n이병헌\\n김동주\\n최지강\\n알칸타라\\n김명신\\n곽빈\\n최원준\\n김...</td>\n",
       "      <td>장승현\\n양의지</td>\n",
       "      <td>허경민\\n강승호\\n전민재\\n김재호\\n양석환\\n이유찬</td>\n",
       "      <td>로하스\\n정수빈\\n김재환\\n강진성\\n조수행\\n양찬열\\n송승환</td>\n",
       "    </tr>\n",
       "    <tr>\n",
       "      <th>NC</th>\n",
       "      <td>송명기\\n페디\\n김태현\\n김영규\\n김시훈\\n임정호\\n하준영\\n이용준\\n신민혁\\n김진...</td>\n",
       "      <td>박세혁\\n안중열</td>\n",
       "      <td>도태훈\\n박민우\\n오영수\\n서호철\\n오태양\\n윤형준\\n김한별\\n김주원</td>\n",
       "      <td>천재환\\n김성욱\\n손아섭\\n박건우\\n한석현</td>\n",
       "    </tr>\n",
       "    <tr>\n",
       "      <th>KIA</th>\n",
       "      <td>윤영철\\n임기영\\n이준영\\n최지민\\n메디나\\n이의리\\n장현식\\n전상현\\n김기훈\\n양...</td>\n",
       "      <td>주효상\\n한승택</td>\n",
       "      <td>박찬호\\n김규성\\n김선빈\\n변우혁\\n황대인\\n홍종표\\n류지혁</td>\n",
       "      <td>이우성\\n김호령\\n소크라테스\\n최형우\\n고종욱\\n이창진</td>\n",
       "    </tr>\n",
       "    <tr>\n",
       "      <th>삼성</th>\n",
       "      <td>김대우\\n원태인\\n우규민\\n이승현\\n오승환\\n김태훈\\n백정현\\n뷰캐넌\\n문용익\\n최...</td>\n",
       "      <td>이병헌\\n김태군\\n강민호</td>\n",
       "      <td>김재상\\n이성규\\n김영웅\\n조민성\\n오재일\\n김지찬\\n이재현\\n공민규</td>\n",
       "      <td>윤정빈\\n김성윤\\n구자욱\\n피렐라</td>\n",
       "    </tr>\n",
       "    <tr>\n",
       "      <th>키움</th>\n",
       "      <td>최원태\\n김재웅\\n김성진\\n양현\\n안우진\\n요키시\\n임창민\\n하영민\\n정찬헌\\n김동...</td>\n",
       "      <td>김동헌\\n이지영</td>\n",
       "      <td>전병우\\n이원석\\n김태진\\n러셀\\n김혜성\\n김휘집</td>\n",
       "      <td>김준완\\n이용규\\n임병욱\\n이형종\\n박찬혁\\n이정후\\n이병규</td>\n",
       "    </tr>\n",
       "    <tr>\n",
       "      <th>KT</th>\n",
       "      <td>고영표\\n김민\\n엄상백\\n슐서\\n손동현\\n벤자민\\n박세진\\n김영현\\n조이현\\n박영현...</td>\n",
       "      <td>장성우\\n김준태</td>\n",
       "      <td>문상준\\n황재균\\n오윤석\\n강민성\\n강백호\\n박경수\\n김상수</td>\n",
       "      <td>이시원\\n조용호\\n문상철\\n알포드\\n홍현빈\\n김민혁</td>\n",
       "    </tr>\n",
       "    <tr>\n",
       "      <th>한화</th>\n",
       "      <td>문동주\\n남지민\\n김기중\\n페냐\\n장민재\\n이태양\\n김범수\\n윤대경\\n김민우\\n김서...</td>\n",
       "      <td>최재훈\\n박상언</td>\n",
       "      <td>김태연\\n정은원\\n이성곤\\n오선진\\n문현빈\\n노시환</td>\n",
       "      <td>노수광\\n채은성\\n유로결\\n이진영\\n이원석\\n장진혁</td>\n",
       "    </tr>\n",
       "  </tbody>\n",
       "</table>\n",
       "</div>"
      ],
      "text/plain": [
       "                                                    투수             포수  \\\n",
       "구단                                                                      \n",
       "롯데   김진욱\\n한현희\\n최준용\\n박세웅\\n구승민\\n김상수\\n반즈\\n신정락\\n최이준\\n김원...       유강남\\n정보근   \n",
       "SSG  고효준\\n서진용\\n김광현\\n맥카티\\n노경은\\n박민호\\n문승원\\n오원석\\n임준섭\\n신...       김민식\\n조형우   \n",
       "LG   임찬규\\n함덕주\\n정우영\\n진해수\\n켈리\\n이정용\\n배재준\\n박명근\\n김진성\\n플럿...       김기연\\n박동원   \n",
       "두산   박치국\\n홍건희\\n이병헌\\n김동주\\n최지강\\n알칸타라\\n김명신\\n곽빈\\n최원준\\n김...       장승현\\n양의지   \n",
       "NC   송명기\\n페디\\n김태현\\n김영규\\n김시훈\\n임정호\\n하준영\\n이용준\\n신민혁\\n김진...       박세혁\\n안중열   \n",
       "KIA  윤영철\\n임기영\\n이준영\\n최지민\\n메디나\\n이의리\\n장현식\\n전상현\\n김기훈\\n양...       주효상\\n한승택   \n",
       "삼성   김대우\\n원태인\\n우규민\\n이승현\\n오승환\\n김태훈\\n백정현\\n뷰캐넌\\n문용익\\n최...  이병헌\\n김태군\\n강민호   \n",
       "키움   최원태\\n김재웅\\n김성진\\n양현\\n안우진\\n요키시\\n임창민\\n하영민\\n정찬헌\\n김동...       김동헌\\n이지영   \n",
       "KT   고영표\\n김민\\n엄상백\\n슐서\\n손동현\\n벤자민\\n박세진\\n김영현\\n조이현\\n박영현...       장성우\\n김준태   \n",
       "한화   문동주\\n남지민\\n김기중\\n페냐\\n장민재\\n이태양\\n김범수\\n윤대경\\n김민우\\n김서...       최재훈\\n박상언   \n",
       "\n",
       "                                        내야수                                외야수  \n",
       "구단                                                                              \n",
       "롯데    안치홍\\n한동희\\n김민수\\n노진혁\\n박승욱\\n이학주\\n전준우\\n정훈             안권수\\n렉스\\n김민석\\n고승민\\n윤동희  \n",
       "SSG        최정\\n박성한\\n김건웅\\n최주환\\n전의산\\n최경모\\n김성현      추신수\\n에레디아\\n한유섬\\n오태곤\\n김정민\\n최상민  \n",
       "LG             오지환\\n서건창\\n김민성\\n문보경\\n송찬의\\n정주현       박해민\\n김현수\\n오스틴\\n신민재\\n홍창기\\n문성주  \n",
       "두산             허경민\\n강승호\\n전민재\\n김재호\\n양석환\\n이유찬  로하스\\n정수빈\\n김재환\\n강진성\\n조수행\\n양찬열\\n송승환  \n",
       "NC   도태훈\\n박민우\\n오영수\\n서호철\\n오태양\\n윤형준\\n김한별\\n김주원            천재환\\n김성욱\\n손아섭\\n박건우\\n한석현  \n",
       "KIA       박찬호\\n김규성\\n김선빈\\n변우혁\\n황대인\\n홍종표\\n류지혁     이우성\\n김호령\\n소크라테스\\n최형우\\n고종욱\\n이창진  \n",
       "삼성   김재상\\n이성규\\n김영웅\\n조민성\\n오재일\\n김지찬\\n이재현\\n공민규                 윤정빈\\n김성윤\\n구자욱\\n피렐라  \n",
       "키움              전병우\\n이원석\\n김태진\\n러셀\\n김혜성\\n김휘집  김준완\\n이용규\\n임병욱\\n이형종\\n박찬혁\\n이정후\\n이병규  \n",
       "KT        문상준\\n황재균\\n오윤석\\n강민성\\n강백호\\n박경수\\n김상수       이시원\\n조용호\\n문상철\\n알포드\\n홍현빈\\n김민혁  \n",
       "한화             김태연\\n정은원\\n이성곤\\n오선진\\n문현빈\\n노시환       노수광\\n채은성\\n유로결\\n이진영\\n이원석\\n장진혁  "
      ]
     },
     "execution_count": 4,
     "metadata": {},
     "output_type": "execute_result"
    }
   ],
   "source": [
    "df"
   ]
  },
  {
   "cell_type": "code",
   "execution_count": 34,
   "id": "23bf79e6-ce2a-4524-b58f-f6aa627cea1c",
   "metadata": {},
   "outputs": [
    {
     "name": "stdout",
     "output_type": "stream",
     "text": [
      "{'양현', '김한별', '홍창기', '박민우', '김성현', '김태군', '페냐', '이준영', '나균안', '장성우', '김태현', '홍종표', '슐서', '김기중', '구자욱', '김현수', '김민혁', '최충연', '김휘집', '류지혁', '정찬헌', '임준섭', '채은성', '김영현', '문성주', '임찬규', '박민호', '이진영', '문승원', '김건웅', '정철원', '한동희', '박명근', '이재현', '김동주', '전민재', '이태양', '조민석', '한석현', '정보근', '조민성', '임정호', '김성욱', '문용익', '김동혁', '정해영', '우규민', '페디', '장진혁', '김혜성', '전준우', '송찬의', '이유찬', '조수행', '박상원', '최원태', '문상준', '후라도', '박성한', '김준완', '진해수', '임창민', '윤형준', '구승민', '고효준', '도태훈', '김호령', '김태진', '문동주', '공민규', '문상철', '한승주', '이창진', '윤대경', '전병우', '오태양', '김주원', '뷰캐넌', '이원석', '정주현', '이우성', '윤영철', '강민호', '노수광', '윤정빈', '이승현', '노진혁', '최승용', '송명기', '이의리', '김민석', '오재일', '홍건희', '정수빈', '수아레즈', '김민', '신정락', '남지민', '황대인', '최이준', '강승호', '안우진', '김원중', '김진성', '김윤식', '하준영', '임기영', '김진호', '한승택', '김영웅', '오윤석', '최지강', '유로결', '러셀', '이용준', '강민성', '윤정현', '박동원', '김민수', '이성규', '이지강', '이선우', '엄상백', '소크라테스', '최재훈', '오선진', '김규성', '노경은', '김영규', '신민혁', '원태인', '김재환', '맥카티', '정우람', '요키시', '김유성', '조이현', '피렐라', '이병헌', '홍현빈', '한현희', '최정', '이용규', '박종훈', '정훈', '주효상', '임병욱', '오스틴', '김준태', '고승민', '렉스', '메디나', '오지환', '김지찬', '김광현', '김태연', '김서현', '문보경', '김동헌', '정은원', '백승건', '박치국', '김기연', '알칸타라', '로하스', '벤자민', '에레디아', '반즈', '신민재', '이정후', '오원석', '최원준', '구창모', '양현종', '서호철', '백정현', '김상수', '안권수', '스트레일리', '김대유', '박찬호', '김대우', '윤동희', '윤명준', '김태훈', '이시원', '이성곤', '최지민', '황재균', '정우영', '이상민', '김성윤', '박해민', '박세혁', '김기훈', '박찬혁', '장민재', '송승환', '오태곤', '서진용', '양찬열', '이형종', '김진욱', '전상현', '최상민', '양석환', '추신수', '장현식', '장승현', '김민성', '강재민', '고종욱', '오승환', '양의지', '알포드', '김정민', '오영수', '최민준', '켈리', '김재호', '이준호', '김재상', '문현빈', '한유섬', '박승욱', '유영찬', '고영표', '김민우', '신헌민', '안치홍', '김선빈', '김재웅', '박건우', '강진성', '최경모', '허경민', '최주환', '김명신', '이정용', '이지영', '고봉재', '김성진', '이병규', '박세진', '하영민', '김재윤', '박상언', '배재준', '유강남', '안중열', '손동현', '박경수', '함덕주', '손아섭', '천재환', '조용호', '최형우', '노시환', '박세웅', '김민식', '전의산', '최성훈', '서건창', '최준용', '김준형', '박영현', '김범수', '플럿코', '변우혁', '곽빈', '강백호', '앤더슨', '김시훈', '이학주', '조형우'}\n"
     ]
    }
   ],
   "source": [
    "print(players)"
   ]
  },
  {
   "cell_type": "code",
   "execution_count": null,
   "id": "303b1f07-889c-48b5-a6d2-dfd11be47394",
   "metadata": {},
   "outputs": [],
   "source": []
  },
  {
   "cell_type": "markdown",
   "id": "086012bb-61e5-479c-97d7-0b2f10ffa8d2",
   "metadata": {},
   "source": [
    "## 기사 토큰화 환 데이터 셋 준비"
   ]
  },
  {
   "cell_type": "markdown",
   "id": "654ee517-69e5-42eb-804d-ead076d3f3e5",
   "metadata": {},
   "source": [
    "토큰화한 데이터 셋을 순회하며 특정 기사에 선수 이름이 포함되어 있을 경우, 함께 언급된 일반 명사, 고유 명사의 빈도수를 세어서 딕셔너리에 추가합니다."
   ]
  },
  {
   "cell_type": "code",
   "execution_count": 43,
   "id": "c01a7e2d-afbb-4db2-9d19-ff1ebe9d7b3f",
   "metadata": {},
   "outputs": [],
   "source": [
    "import pandas as pd\n",
    "from tqdm import tqdm"
   ]
  },
  {
   "cell_type": "code",
   "execution_count": 51,
   "id": "e63983a5-d357-4758-b49c-946969aed0c7",
   "metadata": {},
   "outputs": [],
   "source": [
    "df = pd.read_csv(\"./data/baseball_tokenized_10K.csv\")"
   ]
  },
  {
   "cell_type": "code",
   "execution_count": 5,
   "id": "9a1266e1-9a06-448f-9664-78350c258c94",
   "metadata": {},
   "outputs": [
    {
     "data": {
      "text/html": [
       "<div>\n",
       "<style scoped>\n",
       "    .dataframe tbody tr th:only-of-type {\n",
       "        vertical-align: middle;\n",
       "    }\n",
       "\n",
       "    .dataframe tbody tr th {\n",
       "        vertical-align: top;\n",
       "    }\n",
       "\n",
       "    .dataframe thead th {\n",
       "        text-align: right;\n",
       "    }\n",
       "</style>\n",
       "<table border=\"1\" class=\"dataframe\">\n",
       "  <thead>\n",
       "    <tr style=\"text-align: right;\">\n",
       "      <th></th>\n",
       "      <th>투수</th>\n",
       "      <th>포수</th>\n",
       "      <th>내야수</th>\n",
       "      <th>외야수</th>\n",
       "    </tr>\n",
       "    <tr>\n",
       "      <th>구단</th>\n",
       "      <th></th>\n",
       "      <th></th>\n",
       "      <th></th>\n",
       "      <th></th>\n",
       "    </tr>\n",
       "  </thead>\n",
       "  <tbody>\n",
       "    <tr>\n",
       "      <th>롯데</th>\n",
       "      <td>김진욱\\n한현희\\n최준용\\n박세웅\\n구승민\\n김상수\\n반즈\\n신정락\\n최이준\\n김원...</td>\n",
       "      <td>유강남\\n정보근</td>\n",
       "      <td>안치홍\\n한동희\\n김민수\\n노진혁\\n박승욱\\n이학주\\n전준우\\n정훈</td>\n",
       "      <td>안권수\\n렉스\\n김민석\\n고승민\\n윤동희</td>\n",
       "    </tr>\n",
       "    <tr>\n",
       "      <th>SSG</th>\n",
       "      <td>고효준\\n서진용\\n김광현\\n맥카티\\n노경은\\n박민호\\n문승원\\n오원석\\n임준섭\\n신...</td>\n",
       "      <td>김민식\\n조형우</td>\n",
       "      <td>최정\\n박성한\\n김건웅\\n최주환\\n전의산\\n최경모\\n김성현</td>\n",
       "      <td>추신수\\n에레디아\\n한유섬\\n오태곤\\n김정민\\n최상민</td>\n",
       "    </tr>\n",
       "    <tr>\n",
       "      <th>LG</th>\n",
       "      <td>임찬규\\n함덕주\\n정우영\\n진해수\\n켈리\\n이정용\\n배재준\\n박명근\\n김진성\\n플럿...</td>\n",
       "      <td>김기연\\n박동원</td>\n",
       "      <td>오지환\\n서건창\\n김민성\\n문보경\\n송찬의\\n정주현</td>\n",
       "      <td>박해민\\n김현수\\n오스틴\\n신민재\\n홍창기\\n문성주</td>\n",
       "    </tr>\n",
       "    <tr>\n",
       "      <th>두산</th>\n",
       "      <td>박치국\\n홍건희\\n이병헌\\n김동주\\n최지강\\n알칸타라\\n김명신\\n곽빈\\n최원준\\n김...</td>\n",
       "      <td>장승현\\n양의지</td>\n",
       "      <td>허경민\\n강승호\\n전민재\\n김재호\\n양석환\\n이유찬</td>\n",
       "      <td>로하스\\n정수빈\\n김재환\\n강진성\\n조수행\\n양찬열\\n송승환</td>\n",
       "    </tr>\n",
       "    <tr>\n",
       "      <th>NC</th>\n",
       "      <td>송명기\\n페디\\n김태현\\n김영규\\n김시훈\\n임정호\\n하준영\\n이용준\\n신민혁\\n김진...</td>\n",
       "      <td>박세혁\\n안중열</td>\n",
       "      <td>도태훈\\n박민우\\n오영수\\n서호철\\n오태양\\n윤형준\\n김한별\\n김주원</td>\n",
       "      <td>천재환\\n김성욱\\n손아섭\\n박건우\\n한석현</td>\n",
       "    </tr>\n",
       "    <tr>\n",
       "      <th>KIA</th>\n",
       "      <td>윤영철\\n임기영\\n이준영\\n최지민\\n메디나\\n이의리\\n장현식\\n전상현\\n김기훈\\n양...</td>\n",
       "      <td>주효상\\n한승택</td>\n",
       "      <td>박찬호\\n김규성\\n김선빈\\n변우혁\\n황대인\\n홍종표\\n류지혁</td>\n",
       "      <td>이우성\\n김호령\\n소크라테스\\n최형우\\n고종욱\\n이창진</td>\n",
       "    </tr>\n",
       "    <tr>\n",
       "      <th>삼성</th>\n",
       "      <td>김대우\\n원태인\\n우규민\\n이승현\\n오승환\\n김태훈\\n백정현\\n뷰캐넌\\n문용익\\n최...</td>\n",
       "      <td>이병헌\\n김태군\\n강민호</td>\n",
       "      <td>김재상\\n이성규\\n김영웅\\n조민성\\n오재일\\n김지찬\\n이재현\\n공민규</td>\n",
       "      <td>윤정빈\\n김성윤\\n구자욱\\n피렐라</td>\n",
       "    </tr>\n",
       "    <tr>\n",
       "      <th>키움</th>\n",
       "      <td>최원태\\n김재웅\\n김성진\\n양현\\n안우진\\n요키시\\n임창민\\n하영민\\n정찬헌\\n김동...</td>\n",
       "      <td>김동헌\\n이지영</td>\n",
       "      <td>전병우\\n이원석\\n김태진\\n러셀\\n김혜성\\n김휘집</td>\n",
       "      <td>김준완\\n이용규\\n임병욱\\n이형종\\n박찬혁\\n이정후\\n이병규</td>\n",
       "    </tr>\n",
       "    <tr>\n",
       "      <th>KT</th>\n",
       "      <td>고영표\\n김민\\n엄상백\\n슐서\\n손동현\\n벤자민\\n박세진\\n김영현\\n조이현\\n박영현...</td>\n",
       "      <td>장성우\\n김준태</td>\n",
       "      <td>문상준\\n황재균\\n오윤석\\n강민성\\n강백호\\n박경수\\n김상수</td>\n",
       "      <td>이시원\\n조용호\\n문상철\\n알포드\\n홍현빈\\n김민혁</td>\n",
       "    </tr>\n",
       "    <tr>\n",
       "      <th>한화</th>\n",
       "      <td>문동주\\n남지민\\n김기중\\n페냐\\n장민재\\n이태양\\n김범수\\n윤대경\\n김민우\\n김서...</td>\n",
       "      <td>최재훈\\n박상언</td>\n",
       "      <td>김태연\\n정은원\\n이성곤\\n오선진\\n문현빈\\n노시환</td>\n",
       "      <td>노수광\\n채은성\\n유로결\\n이진영\\n이원석\\n장진혁</td>\n",
       "    </tr>\n",
       "  </tbody>\n",
       "</table>\n",
       "</div>"
      ],
      "text/plain": [
       "                                                    투수             포수  \\\n",
       "구단                                                                      \n",
       "롯데   김진욱\\n한현희\\n최준용\\n박세웅\\n구승민\\n김상수\\n반즈\\n신정락\\n최이준\\n김원...       유강남\\n정보근   \n",
       "SSG  고효준\\n서진용\\n김광현\\n맥카티\\n노경은\\n박민호\\n문승원\\n오원석\\n임준섭\\n신...       김민식\\n조형우   \n",
       "LG   임찬규\\n함덕주\\n정우영\\n진해수\\n켈리\\n이정용\\n배재준\\n박명근\\n김진성\\n플럿...       김기연\\n박동원   \n",
       "두산   박치국\\n홍건희\\n이병헌\\n김동주\\n최지강\\n알칸타라\\n김명신\\n곽빈\\n최원준\\n김...       장승현\\n양의지   \n",
       "NC   송명기\\n페디\\n김태현\\n김영규\\n김시훈\\n임정호\\n하준영\\n이용준\\n신민혁\\n김진...       박세혁\\n안중열   \n",
       "KIA  윤영철\\n임기영\\n이준영\\n최지민\\n메디나\\n이의리\\n장현식\\n전상현\\n김기훈\\n양...       주효상\\n한승택   \n",
       "삼성   김대우\\n원태인\\n우규민\\n이승현\\n오승환\\n김태훈\\n백정현\\n뷰캐넌\\n문용익\\n최...  이병헌\\n김태군\\n강민호   \n",
       "키움   최원태\\n김재웅\\n김성진\\n양현\\n안우진\\n요키시\\n임창민\\n하영민\\n정찬헌\\n김동...       김동헌\\n이지영   \n",
       "KT   고영표\\n김민\\n엄상백\\n슐서\\n손동현\\n벤자민\\n박세진\\n김영현\\n조이현\\n박영현...       장성우\\n김준태   \n",
       "한화   문동주\\n남지민\\n김기중\\n페냐\\n장민재\\n이태양\\n김범수\\n윤대경\\n김민우\\n김서...       최재훈\\n박상언   \n",
       "\n",
       "                                        내야수                                외야수  \n",
       "구단                                                                              \n",
       "롯데    안치홍\\n한동희\\n김민수\\n노진혁\\n박승욱\\n이학주\\n전준우\\n정훈             안권수\\n렉스\\n김민석\\n고승민\\n윤동희  \n",
       "SSG        최정\\n박성한\\n김건웅\\n최주환\\n전의산\\n최경모\\n김성현      추신수\\n에레디아\\n한유섬\\n오태곤\\n김정민\\n최상민  \n",
       "LG             오지환\\n서건창\\n김민성\\n문보경\\n송찬의\\n정주현       박해민\\n김현수\\n오스틴\\n신민재\\n홍창기\\n문성주  \n",
       "두산             허경민\\n강승호\\n전민재\\n김재호\\n양석환\\n이유찬  로하스\\n정수빈\\n김재환\\n강진성\\n조수행\\n양찬열\\n송승환  \n",
       "NC   도태훈\\n박민우\\n오영수\\n서호철\\n오태양\\n윤형준\\n김한별\\n김주원            천재환\\n김성욱\\n손아섭\\n박건우\\n한석현  \n",
       "KIA       박찬호\\n김규성\\n김선빈\\n변우혁\\n황대인\\n홍종표\\n류지혁     이우성\\n김호령\\n소크라테스\\n최형우\\n고종욱\\n이창진  \n",
       "삼성   김재상\\n이성규\\n김영웅\\n조민성\\n오재일\\n김지찬\\n이재현\\n공민규                 윤정빈\\n김성윤\\n구자욱\\n피렐라  \n",
       "키움              전병우\\n이원석\\n김태진\\n러셀\\n김혜성\\n김휘집  김준완\\n이용규\\n임병욱\\n이형종\\n박찬혁\\n이정후\\n이병규  \n",
       "KT        문상준\\n황재균\\n오윤석\\n강민성\\n강백호\\n박경수\\n김상수       이시원\\n조용호\\n문상철\\n알포드\\n홍현빈\\n김민혁  \n",
       "한화             김태연\\n정은원\\n이성곤\\n오선진\\n문현빈\\n노시환       노수광\\n채은성\\n유로결\\n이진영\\n이원석\\n장진혁  "
      ]
     },
     "execution_count": 5,
     "metadata": {},
     "output_type": "execute_result"
    }
   ],
   "source": [
    "df"
   ]
  },
  {
   "cell_type": "code",
   "execution_count": null,
   "id": "b64e4287-caef-4b7e-9a14-302accf9fb86",
   "metadata": {},
   "outputs": [],
   "source": []
  },
  {
   "cell_type": "markdown",
   "id": "a0270074-6ae4-479e-b3ee-94dc63817771",
   "metadata": {},
   "source": [
    "### 결측치 확인 및 제거"
   ]
  },
  {
   "cell_type": "code",
   "execution_count": null,
   "id": "d53bc35c-7b22-4b45-8797-99da8dab57ac",
   "metadata": {},
   "outputs": [],
   "source": []
  },
  {
   "cell_type": "markdown",
   "id": "225f5073-9813-4029-98ee-153619d73914",
   "metadata": {},
   "source": [
    "### 명사 추출\n",
    "제목과 본문을 토큰화한 문자열에서 일반 명사와 고유 명사만 추출하여 데이터 프레임의 컬럼으로 추가합니다."
   ]
  },
  {
   "cell_type": "code",
   "execution_count": null,
   "id": "a30cf8a1-b3e0-4e2c-9b2f-8ffa2d9fe1dc",
   "metadata": {},
   "outputs": [],
   "source": []
  },
  {
   "cell_type": "markdown",
   "id": "23e6f2bb-f384-4172-8f1e-c11575e7c62f",
   "metadata": {},
   "source": [
    "### 동시 출현 빈도 집계\n",
    "특정 선수의 이름과 함께 등장한 명사를 defaultdict와 Counter를 이용해서 집계합니다."
   ]
  },
  {
   "cell_type": "code",
   "execution_count": null,
   "id": "9d8c8b3d-44c1-4950-97d7-0f1941832478",
   "metadata": {},
   "outputs": [],
   "source": []
  },
  {
   "cell_type": "markdown",
   "id": "8efab458-d63c-46f0-a485-e455ab91995a",
   "metadata": {},
   "source": [
    "## word cloud 시각화"
   ]
  },
  {
   "cell_type": "markdown",
   "id": "4a06bd1e-f54f-4185-8c34-b42653a73599",
   "metadata": {},
   "source": [
    "함께 등장하는 단어를 세었으니 이제 워드 클라우드를 만들어보겠습니다. 폰트 적용 부분은 아래 가이드를 읽어보고, 본인의 환경에 맞게 코드를 수정하면 됩니다.\n",
    "\n",
    "- [윈도우 폰트 적용 가이드](https://doitgrow.com/34#:~:text=%EC%9B%8C%EB%93%9C%ED%81%B4%EB%9D%BC%EC%9A%B0%EB%93%9C%EC%97%90%20%EC%82%AC%EC%9A%A9%ED%95%A0%20%ED%8F%B0%ED%8A%B8,%EA%B2%B0%EA%B3%BC%EB%A5%BC%20%ED%99%95%EC%9D%B8%ED%95%A0%20%EC%88%98%20%EC%9E%88%EC%8A%B5%EB%8B%88%EB%8B%A4.)\n",
    "- [맥 폰트 적용 가이드](https://business-analytics.tistory.com/3)"
   ]
  },
  {
   "cell_type": "code",
   "execution_count": null,
   "id": "aea668a6-f861-4db6-85e1-1009cf9f54b5",
   "metadata": {},
   "outputs": [],
   "source": []
  },
  {
   "cell_type": "markdown",
   "id": "8ecdbe80-1245-43fe-b9e9-84d98cf0e0f6",
   "metadata": {},
   "source": [
    "## 정리\n",
    "이번 챕터에서는 자연어 데이터 시각화 하면 가장 먼저 떠오르는 워드 클라우드를 만들어 보았습니다. 사실 워드 클라우드는 직관적으로 의미를 전달하는 것이 어려워서 잘 사용되지 않습니다. 이어지는 챕터들에서 더 정교화 된 자연어처리 알고리즘들을 배워보겠습니다."
   ]
  }
 ],
 "metadata": {
  "kernelspec": {
   "display_name": "Python 3 (ipykernel)",
   "language": "python",
   "name": "python3"
  },
  "language_info": {
   "codemirror_mode": {
    "name": "ipython",
    "version": 3
   },
   "file_extension": ".py",
   "mimetype": "text/x-python",
   "name": "python",
   "nbconvert_exporter": "python",
   "pygments_lexer": "ipython3",
   "version": "3.10.8"
  }
 },
 "nbformat": 4,
 "nbformat_minor": 5
}
