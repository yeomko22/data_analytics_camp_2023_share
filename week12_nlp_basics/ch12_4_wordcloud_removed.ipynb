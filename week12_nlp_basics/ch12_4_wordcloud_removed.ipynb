{
 "cells": [
  {
   "cell_type": "markdown",
   "id": "c46d453e-b0ec-4589-8c80-6fafaa3e8ecb",
   "metadata": {},
   "source": [
    "# ch 12_4. word cloud\n",
    "\n",
    "이전 챕터에서 2022년 한국 야구 데이터 셋을 토큰화 했습니다. 이번 챕터에서는 가장 기본적인 자연어 데이터 시각화 기법인 워드 클라우드에 대해서 알아보겠습니다. 워드 클라우드는 특정 단어와 함께 등장한 단어의 빈도 수를 집계해서, 어떤 단어가 연관되어 있는지를 시각적으로 표현하는 기법입니다."
   ]
  },
  {
   "cell_type": "code",
   "execution_count": 1,
   "id": "35dce899-59f8-4589-98e9-a6cd419e2b82",
   "metadata": {},
   "outputs": [
    {
     "name": "stdout",
     "output_type": "stream",
     "text": [
      "Requirement already satisfied: wordcloud in /Users/user/miniconda3/lib/python3.10/site-packages (1.9.1.1)\n",
      "Requirement already satisfied: numpy>=1.6.1 in /Users/user/miniconda3/lib/python3.10/site-packages (from wordcloud) (1.23.5)\n",
      "Requirement already satisfied: pillow in /Users/user/miniconda3/lib/python3.10/site-packages (from wordcloud) (9.4.0)\n",
      "Requirement already satisfied: matplotlib in /Users/user/miniconda3/lib/python3.10/site-packages (from wordcloud) (3.7.1)\n",
      "Requirement already satisfied: contourpy>=1.0.1 in /Users/user/miniconda3/lib/python3.10/site-packages (from matplotlib->wordcloud) (1.0.7)\n",
      "Requirement already satisfied: cycler>=0.10 in /Users/user/miniconda3/lib/python3.10/site-packages (from matplotlib->wordcloud) (0.11.0)\n",
      "Requirement already satisfied: fonttools>=4.22.0 in /Users/user/miniconda3/lib/python3.10/site-packages (from matplotlib->wordcloud) (4.39.2)\n",
      "Requirement already satisfied: kiwisolver>=1.0.1 in /Users/user/miniconda3/lib/python3.10/site-packages (from matplotlib->wordcloud) (1.4.4)\n",
      "Requirement already satisfied: packaging>=20.0 in /Users/user/miniconda3/lib/python3.10/site-packages (from matplotlib->wordcloud) (22.0)\n",
      "Requirement already satisfied: pyparsing>=2.3.1 in /Users/user/miniconda3/lib/python3.10/site-packages (from matplotlib->wordcloud) (3.0.9)\n",
      "Requirement already satisfied: python-dateutil>=2.7 in /Users/user/miniconda3/lib/python3.10/site-packages (from matplotlib->wordcloud) (2.8.2)\n",
      "Requirement already satisfied: six>=1.5 in /Users/user/miniconda3/lib/python3.10/site-packages (from python-dateutil>=2.7->matplotlib->wordcloud) (1.16.0)\n"
     ]
    }
   ],
   "source": [
    "!pip install wordcloud"
   ]
  },
  {
   "cell_type": "markdown",
   "id": "5c5b6f41-8f1c-49f0-9134-0ded9d493178",
   "metadata": {},
   "source": [
    "## 데이터 준비\n",
    "우리가 만들어보고 싶은 건 특정 선수 이름이 주어지면, 그 선수와 함께 언급되는 단어들을 시각적으로 보여주는 것입니다. 이를 위해서 먼저 토큰화 한 뉴스 기사 데이터에서 특정 선수가 언급되면, 함께 언급된 단어들의 빈도수를 세어 딕셔너리 형태로 만들어보겠습니다. \n",
    "\n",
    "먼저 기사에 선수 이름이 포함되었는지 여부를 판단하기 위해 크롤러 시간에 짰던 코드를 재사용합니다."
   ]
  },
  {
   "cell_type": "code",
   "execution_count": 3,
   "id": "d84d79fa-1ac2-4760-bb5e-4dde90b40e40",
   "metadata": {},
   "outputs": [],
   "source": [
    "import csv\n",
    "\n",
    "def load_players():\n",
    "    players = []\n",
    "    with open(\"./data/baseball_players.csv\") as fr:\n",
    "        reader = csv.reader(fr)\n",
    "        next(reader)\n",
    "        for row in reader:\n",
    "            team, pitcher_str, catcher_str, infielder_str, outfielder_str = row\n",
    "            pitchers = pitcher_str.split(\"\\n\")\n",
    "            catchers = catcher_str.split(\"\\n\")\n",
    "            infielders = infielder_str.split(\"\\n\")\n",
    "            outfielders = outfielder_str.split(\"\\n\")\n",
    "            players.extend(pitchers + catchers + infielders + outfielders)\n",
    "    players = set(players)\n",
    "    return players"
   ]
  },
  {
   "cell_type": "code",
   "execution_count": 4,
   "id": "a06b36f0-537e-40d3-9a0a-77f9e1e50433",
   "metadata": {},
   "outputs": [],
   "source": [
    "players = load_players() "
   ]
  },
  {
   "cell_type": "code",
   "execution_count": 5,
   "id": "23bf79e6-ce2a-4524-b58f-f6aa627cea1c",
   "metadata": {},
   "outputs": [
    {
     "name": "stdout",
     "output_type": "stream",
     "text": [
      "{'송찬의', '곽빈', '이용규', '양현', '김진성', '장진혁', '노시환', '이원석', '한석현', '김대우', '김민', '김현수', '박건우', '이시원', '박성한', '박치국', '김성윤', '우규민', '켈리', '강승호', '김한별', '윤대경', '김진욱', '이준호', '안치홍', '최원준', '김지찬', '전민재', '하준영', '고영표', '변우혁', '정우람', '오승환', '한승주', '앤더슨', '강민호', '장성우', '양찬열', '전준우', '로하스', '양현종', '하영민', '윤정현', '홍현빈', '박찬호', '구자욱', '조형우', '황대인', '이창진', '김동헌', '페디', '서호철', '장민재', '이정후', '채은성', '김동주', '윤형준', '김규성', '이병규', '김범수', '윤영철', '김태훈', '한유섬', '문동주', '서건창', '문용익', '이선우', '신헌민', '김성현', '김태현', '김주원', '박세혁', '반즈', '김선빈', '강백호', '김재상', '김태진', '최경모', '김유성', '정수빈', '양석환', '플럿코', '김명신', '김건웅', '한동희', '이재현', '류지혁', '요키시', '김기중', '김준완', '김민우', '이상민', '안중열', '고종욱', '전상현', '박민호', '백정현', '이우성', '조민석', '김재웅', '최재훈', '조민성', '고승민', '이성규', '윤명준', '정철원', '진해수', '최형우', '이용준', '김태군', '김민식', '김기훈', '김대유', '조수행', '정보근', '강진성', '오윤석', '박세웅', '이유찬', '문성주', '고효준', '김윤식', '페냐', '임정호', '김영웅', '최승용', '허경민', '신민혁', '임병욱', '박해민', '김준형', '최상민', '김정민', '정우영', '문현빈', '최원태', '이진영', '후라도', '장승현', '이승현', '피렐라', '러셀', '최지민', '메디나', '김재환', '도태훈', '렉스', '한승택', '오원석', '백승건', '이준영', '이태양', '유로결', '벤자민', '박영현', '이학주', '함덕주', '최민준', '김진호', '손아섭', '윤정빈', '배재준', '박명근', '문승원', '김민수', '홍종표', '김재윤', '남지민', '안우진', '김태연', '이형종', '이성곤', '오영수', '김민석', '공민규', '최주환', '유강남', '김동혁', '송승환', '원태인', '박찬혁', '이병헌', '정훈', '최성훈', '김호령', '소크라테스', '조용호', '김원중', '윤동희', '김휘집', '최지강', '임기영', '주효상', '황재균', '김성욱', '전의산', '오스틴', '최정', '강민성', '김민혁', '김서현', '임창민', '임찬규', '임준섭', '오지환', '맥카티', '스트레일리', '한현희', '노경은', '추신수', '나균안', '김영규', '김혜성', '정은원', '에레디아', '문상준', '오태양', '정주현', '송명기', '김민성', '김광현', '최충연', '김재호', '박종훈', '오태곤', '신정락', '김영현', '서진용', '이의리', '오재일', '엄상백', '문상철', '알포드', '노수광', '전병우', '슐서', '오선진', '박민우', '유영찬', '김준태', '구승민', '박경수', '장현식', '김상수', '정찬헌', '박세진', '최이준', '이정용', '이지강', '최준용', '양의지', '구창모', '김기연', '박상원', '신민재', '박승욱', '문보경', '홍건희', '고봉재', '정해영', '손동현', '노진혁', '알칸타라', '이지영', '뷰캐넌', '천재환', '강재민', '박상언', '김시훈', '홍창기', '박동원', '조이현', '김성진', '안권수', '수아레즈'}\n"
     ]
    }
   ],
   "source": [
    "print(players)"
   ]
  },
  {
   "cell_type": "markdown",
   "id": "654ee517-69e5-42eb-804d-ead076d3f3e5",
   "metadata": {},
   "source": [
    "토큰화한 데이터 셋을 순회하며 특정 기사에 선수 이름이 포함되어 있을 경우, 함께 언급된 일반 명사, 고유 명사의 빈도수를 세어서 딕셔너리에 추가합니다."
   ]
  },
  {
   "cell_type": "code",
   "execution_count": null,
   "id": "b85f97ae-ba17-446d-944e-2c43d97f9419",
   "metadata": {},
   "outputs": [],
   "source": []
  },
  {
   "cell_type": "markdown",
   "id": "a0270074-6ae4-479e-b3ee-94dc63817771",
   "metadata": {},
   "source": [
    "### 결측치 제거"
   ]
  },
  {
   "cell_type": "code",
   "execution_count": null,
   "id": "f3681a12-a8e5-4908-adfd-9ff938061a80",
   "metadata": {},
   "outputs": [],
   "source": []
  },
  {
   "cell_type": "markdown",
   "id": "225f5073-9813-4029-98ee-153619d73914",
   "metadata": {},
   "source": [
    "### 명사 추출\n",
    "제목과 본문을 토큰화한 문자열에서 일반 명사와 고유 명사만 추출하여 데이터 프레임의 컬럼으로 추가합니다."
   ]
  },
  {
   "cell_type": "code",
   "execution_count": null,
   "id": "7c37f8a3-bc6e-4034-be15-06c8afc9bbf4",
   "metadata": {},
   "outputs": [],
   "source": []
  },
  {
   "cell_type": "markdown",
   "id": "23e6f2bb-f384-4172-8f1e-c11575e7c62f",
   "metadata": {},
   "source": [
    "### 동시 출현 빈도 집계\n",
    "특정 선수의 이름과 함께 등장한 명사를 defaultdict와 Counter를 이용해서 집계합니다."
   ]
  },
  {
   "cell_type": "code",
   "execution_count": null,
   "id": "ea12275b-5146-4e5a-b397-b51a1826cf90",
   "metadata": {},
   "outputs": [],
   "source": []
  },
  {
   "cell_type": "markdown",
   "id": "8efab458-d63c-46f0-a485-e455ab91995a",
   "metadata": {},
   "source": [
    "## word cloud 시각화"
   ]
  },
  {
   "cell_type": "code",
   "execution_count": null,
   "id": "c8007066-73a4-4d91-8037-409299822718",
   "metadata": {},
   "outputs": [],
   "source": []
  },
  {
   "cell_type": "markdown",
   "id": "8ecdbe80-1245-43fe-b9e9-84d98cf0e0f6",
   "metadata": {},
   "source": [
    "## 정리\n",
    "이번 챕터에서는 자연어 데이터 시각화 하면 가장 먼저 떠오르는 워드 클라우드를 만들어 보았습니다. 사실 워드 클라우드는 직관적으로 의미를 전달하는 것이 어려워서 잘 사용되지 않습니다. 이어지는 챕터들에서 더 정교화 된 자연어처리 알고리즘들을 배워보겠습니다."
   ]
  },
  {
   "cell_type": "code",
   "execution_count": null,
   "id": "c580e73d-ab90-4213-87cc-b523d97e4940",
   "metadata": {},
   "outputs": [],
   "source": []
  }
 ],
 "metadata": {
  "kernelspec": {
   "display_name": "Python 3 (ipykernel)",
   "language": "python",
   "name": "python3"
  },
  "language_info": {
   "codemirror_mode": {
    "name": "ipython",
    "version": 3
   },
   "file_extension": ".py",
   "mimetype": "text/x-python",
   "name": "python",
   "nbconvert_exporter": "python",
   "pygments_lexer": "ipython3",
   "version": "3.10.8"
  }
 },
 "nbformat": 4,
 "nbformat_minor": 5
}
