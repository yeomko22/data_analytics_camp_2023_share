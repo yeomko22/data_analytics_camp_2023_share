{
 "cells": [
  {
   "cell_type": "markdown",
   "id": "ff748c1c-d988-4cb4-a193-30f6ea9b39fe",
   "metadata": {},
   "source": [
    "# ch 12_6 tf-idf vectorizor \n",
    "이번 챕터에서는 scikit learn에 내장된 Tfidf 구현체를 이용하여 2022년 야구 뉴스 데이터 셋을 벡터로 표현해보겠습니다. 그리고 그 과정에서 사용되는 희소 행렬과 벡터 유사도의 개념을 익혀보겠습니다."
   ]
  },
  {
   "cell_type": "markdown",
   "id": "54229c0f-d3fa-4f21-a35c-656881767d42",
   "metadata": {},
   "source": [
    "## 데이터 준비\n",
    "\n",
    "미리 토큰화 해놓은 데이터를 읽어와서 명사만 집계해보겠습니다."
   ]
  },
  {
   "cell_type": "code",
   "execution_count": 5,
   "id": "3511a16e-281b-46be-9bf4-17bfadd43c34",
   "metadata": {},
   "outputs": [],
   "source": [
    "import pandas as pd\n",
    "\n",
    "df = pd.read_csv(\"./data/baseball_title_tokens.csv\")"
   ]
  },
  {
   "cell_type": "code",
   "execution_count": 8,
   "id": "cca7840b-05ad-4629-861b-2b47d3123974",
   "metadata": {},
   "outputs": [],
   "source": [
    "df = df.dropna()"
   ]
  },
  {
   "cell_type": "code",
   "execution_count": 9,
   "id": "e6e7f4c1-293d-4b1c-af9d-2a330f7291c8",
   "metadata": {},
   "outputs": [
    {
     "name": "stderr",
     "output_type": "stream",
     "text": [
      "100%|███████████████████████████████| 102479/102479 [00:05<00:00, 18181.74it/s]\n",
      "/var/folders/wx/2vw1xwz972zdxff5h8gzrml00000gn/T/ipykernel_82474/593474298.py:4: SettingWithCopyWarning: \n",
      "A value is trying to be set on a copy of a slice from a DataFrame.\n",
      "Try using .loc[row_indexer,col_indexer] = value instead\n",
      "\n",
      "See the caveats in the documentation: https://pandas.pydata.org/pandas-docs/stable/user_guide/indexing.html#returning-a-view-versus-a-copy\n",
      "  df[\"title_tokens\"] = df[\"title_tokens\"].progress_apply(lambda x: eval(x))\n"
     ]
    }
   ],
   "source": [
    "from tqdm import tqdm\n",
    "\n",
    "tqdm.pandas()\n",
    "df[\"title_tokens\"] = df[\"title_tokens\"].progress_apply(lambda x: eval(x))"
   ]
  },
  {
   "cell_type": "code",
   "execution_count": 11,
   "id": "ee47eadd-6141-42e8-b072-2fe69ad00426",
   "metadata": {},
   "outputs": [
    {
     "name": "stderr",
     "output_type": "stream",
     "text": [
      "100%|██████████████████████████████| 102479/102479 [00:00<00:00, 428814.36it/s]\n",
      "/var/folders/wx/2vw1xwz972zdxff5h8gzrml00000gn/T/ipykernel_82474/3281825623.py:4: SettingWithCopyWarning: \n",
      "A value is trying to be set on a copy of a slice from a DataFrame.\n",
      "Try using .loc[row_indexer,col_indexer] = value instead\n",
      "\n",
      "See the caveats in the documentation: https://pandas.pydata.org/pandas-docs/stable/user_guide/indexing.html#returning-a-view-versus-a-copy\n",
      "  df[\"title_nouns\"] = df[\"title_tokens\"].progress_apply(lambda x: extract_nouns(x))\n"
     ]
    }
   ],
   "source": [
    "def extract_nouns(content_tokens):\n",
    "    return [text for text, tag in content_tokens if tag in (\"NNP\", \"NNG\")]\n",
    "\n",
    "df[\"title_nouns\"] = df[\"title_tokens\"].progress_apply(lambda x: extract_nouns(x))"
   ]
  },
  {
   "cell_type": "code",
   "execution_count": 12,
   "id": "b20d1b7c-86d9-4995-89c3-b00ed1109a1b",
   "metadata": {},
   "outputs": [
    {
     "data": {
      "text/html": [
       "<div>\n",
       "<style scoped>\n",
       "    .dataframe tbody tr th:only-of-type {\n",
       "        vertical-align: middle;\n",
       "    }\n",
       "\n",
       "    .dataframe tbody tr th {\n",
       "        vertical-align: top;\n",
       "    }\n",
       "\n",
       "    .dataframe thead th {\n",
       "        text-align: right;\n",
       "    }\n",
       "</style>\n",
       "<table border=\"1\" class=\"dataframe\">\n",
       "  <thead>\n",
       "    <tr style=\"text-align: right;\">\n",
       "      <th></th>\n",
       "      <th>title</th>\n",
       "      <th>title_tokens</th>\n",
       "      <th>title_nouns</th>\n",
       "    </tr>\n",
       "  </thead>\n",
       "  <tbody>\n",
       "    <tr>\n",
       "      <th>0</th>\n",
       "      <td>KBO 역대급 외인타자, 끝내 10개 구단 외면 받고 사라지나</td>\n",
       "      <td>[(KBO, NNP), (역대, NNG), (급, NNG), (외, NNB), (이...</td>\n",
       "      <td>[KBO, 역대, 급, 타자, 구단, 외면]</td>\n",
       "    </tr>\n",
       "    <tr>\n",
       "      <th>1</th>\n",
       "      <td>'불혹의 거인’ 침묵이 심상찮다...'꿈'이 영원히 사라지고 있는데...</td>\n",
       "      <td>[(', SS), (불혹, NNG), (의, JKG), (거인, NNP), (’, ...</td>\n",
       "      <td>[불혹, 거인, 침묵, 꿈]</td>\n",
       "    </tr>\n",
       "    <tr>\n",
       "      <th>2</th>\n",
       "      <td>'롯데맨'으로 새해 맞은 문경찬 \"불펜 경쟁서 살아남겠다\" [MK인터뷰]</td>\n",
       "      <td>[(', SS), (롯데, NNP), (맨, NNP), (', SS), (으로, J...</td>\n",
       "      <td>[롯데, 맨, 새해, 문경, 불펜, 경쟁, 인터뷰]</td>\n",
       "    </tr>\n",
       "    <tr>\n",
       "      <th>3</th>\n",
       "      <td>'유일한 FA 미계약자' 정훈 결국 해 넘겼다, 롯데 \"이견 좁혀가는 중\"</td>\n",
       "      <td>[(', SS), (유일한, NNP), (FA, SL), (미, NNP), (계약자...</td>\n",
       "      <td>[유일한, 미, 계약자, 정훈, 롯데, 이견]</td>\n",
       "    </tr>\n",
       "    <tr>\n",
       "      <th>4</th>\n",
       "      <td>\"KIA 5강 이상, SSG 알찬 보강, NC 구창모 오면…\" 허구연 위원 픽, 2...</td>\n",
       "      <td>[(\", SS), (KIA, NNP), (5, SN), (강, NNP), (이상, ...</td>\n",
       "      <td>[KIA, 강, 이상, SSG, 보강, NC, 구창모, 허구연, 위원, 주목, 팀]</td>\n",
       "    </tr>\n",
       "    <tr>\n",
       "      <th>...</th>\n",
       "      <td>...</td>\n",
       "      <td>...</td>\n",
       "      <td>...</td>\n",
       "    </tr>\n",
       "    <tr>\n",
       "      <th>102477</th>\n",
       "      <td>‘위기의 남자’ 김동엽, 박진만 감독은 대행 시절 “쓰지 않겠다”고 했다</td>\n",
       "      <td>[(‘, SS), (위기의 남자, NNP), (’, SS), (김동엽, NNP), ...</td>\n",
       "      <td>[위기의 남자, 김동엽, 박진만, 감독, 대행, 시절]</td>\n",
       "    </tr>\n",
       "    <tr>\n",
       "      <th>102478</th>\n",
       "      <td>'21년 대타 타율 .371' 결국 은퇴를 선언한 前 두산 포수 최용제</td>\n",
       "      <td>[(', SS), (21년, NNP), (대타, NNP), (타율, NNP), (....</td>\n",
       "      <td>[21년, 대타, 타율, 은퇴, 선언, 두산, 포수, 최용]</td>\n",
       "    </tr>\n",
       "    <tr>\n",
       "      <th>102479</th>\n",
       "      <td>“스트레스 받는 성격 아닌데…” KIA 캡틴의 진심, 이적생 3루수에게 고맙다</td>\n",
       "      <td>[(“, SS), (스트레스, NNP), (받, VV), (는, ETM), (성격,...</td>\n",
       "      <td>[스트레스, 성격, KIA, 캡틴, 진심, 3루수]</td>\n",
       "    </tr>\n",
       "    <tr>\n",
       "      <th>102480</th>\n",
       "      <td>'호주에서도 못 잡으면…' 드래프트 전체 1순위 국대 출신 좌완 파이어볼러 깊어지는 고민</td>\n",
       "      <td>[(', SS), (호주, NNP), (에서, JKB), (도, JX), (못, M...</td>\n",
       "      <td>[호주, 드래프트, 전체, 순위, 국, 출신, 좌완, 파이어볼, 러, 고민]</td>\n",
       "    </tr>\n",
       "    <tr>\n",
       "      <th>102481</th>\n",
       "      <td>외부 FA 시원하게 지른 키움, 내부 FA 한현희·정찬헌 계약 지지부진한 이유는?</td>\n",
       "      <td>[(외부, NNG), (FA, SL), (시원, XR), (하, XSA), (게, ...</td>\n",
       "      <td>[외부, 키움, 내부, 한현희, 정찬헌, 계약, 지지부진, 이유]</td>\n",
       "    </tr>\n",
       "  </tbody>\n",
       "</table>\n",
       "<p>102479 rows × 3 columns</p>\n",
       "</div>"
      ],
      "text/plain": [
       "                                                    title  \\\n",
       "0                      KBO 역대급 외인타자, 끝내 10개 구단 외면 받고 사라지나   \n",
       "1                '불혹의 거인’ 침묵이 심상찮다...'꿈'이 영원히 사라지고 있는데...   \n",
       "2                '롯데맨'으로 새해 맞은 문경찬 \"불펜 경쟁서 살아남겠다\" [MK인터뷰]   \n",
       "3               '유일한 FA 미계약자' 정훈 결국 해 넘겼다, 롯데 \"이견 좁혀가는 중\"   \n",
       "4       \"KIA 5강 이상, SSG 알찬 보강, NC 구창모 오면…\" 허구연 위원 픽, 2...   \n",
       "...                                                   ...   \n",
       "102477           ‘위기의 남자’ 김동엽, 박진만 감독은 대행 시절 “쓰지 않겠다”고 했다   \n",
       "102478            '21년 대타 타율 .371' 결국 은퇴를 선언한 前 두산 포수 최용제   \n",
       "102479        “스트레스 받는 성격 아닌데…” KIA 캡틴의 진심, 이적생 3루수에게 고맙다   \n",
       "102480  '호주에서도 못 잡으면…' 드래프트 전체 1순위 국대 출신 좌완 파이어볼러 깊어지는 고민   \n",
       "102481      외부 FA 시원하게 지른 키움, 내부 FA 한현희·정찬헌 계약 지지부진한 이유는?   \n",
       "\n",
       "                                             title_tokens  \\\n",
       "0       [(KBO, NNP), (역대, NNG), (급, NNG), (외, NNB), (이...   \n",
       "1       [(', SS), (불혹, NNG), (의, JKG), (거인, NNP), (’, ...   \n",
       "2       [(', SS), (롯데, NNP), (맨, NNP), (', SS), (으로, J...   \n",
       "3       [(', SS), (유일한, NNP), (FA, SL), (미, NNP), (계약자...   \n",
       "4       [(\", SS), (KIA, NNP), (5, SN), (강, NNP), (이상, ...   \n",
       "...                                                   ...   \n",
       "102477  [(‘, SS), (위기의 남자, NNP), (’, SS), (김동엽, NNP), ...   \n",
       "102478  [(', SS), (21년, NNP), (대타, NNP), (타율, NNP), (....   \n",
       "102479  [(“, SS), (스트레스, NNP), (받, VV), (는, ETM), (성격,...   \n",
       "102480  [(', SS), (호주, NNP), (에서, JKB), (도, JX), (못, M...   \n",
       "102481  [(외부, NNG), (FA, SL), (시원, XR), (하, XSA), (게, ...   \n",
       "\n",
       "                                           title_nouns  \n",
       "0                             [KBO, 역대, 급, 타자, 구단, 외면]  \n",
       "1                                      [불혹, 거인, 침묵, 꿈]  \n",
       "2                         [롯데, 맨, 새해, 문경, 불펜, 경쟁, 인터뷰]  \n",
       "3                            [유일한, 미, 계약자, 정훈, 롯데, 이견]  \n",
       "4       [KIA, 강, 이상, SSG, 보강, NC, 구창모, 허구연, 위원, 주목, 팀]  \n",
       "...                                                ...  \n",
       "102477                  [위기의 남자, 김동엽, 박진만, 감독, 대행, 시절]  \n",
       "102478               [21년, 대타, 타율, 은퇴, 선언, 두산, 포수, 최용]  \n",
       "102479                    [스트레스, 성격, KIA, 캡틴, 진심, 3루수]  \n",
       "102480      [호주, 드래프트, 전체, 순위, 국, 출신, 좌완, 파이어볼, 러, 고민]  \n",
       "102481            [외부, 키움, 내부, 한현희, 정찬헌, 계약, 지지부진, 이유]  \n",
       "\n",
       "[102479 rows x 3 columns]"
      ]
     },
     "execution_count": 12,
     "metadata": {},
     "output_type": "execute_result"
    }
   ],
   "source": [
    "df"
   ]
  },
  {
   "cell_type": "markdown",
   "id": "9e4dacab-ae8b-4d60-af83-789f1780512e",
   "metadata": {},
   "source": [
    "## scikit-learn TfidfVectorizer\n",
    "scikit-learn에 내장된 TfidfVectorizer를 사용해보겠습니다. 미리 토큰화와 전처리를 해놓았기 때문에 tokenizer와 preprocessor에 dummy_fun을 전달하겠습니다."
   ]
  },
  {
   "cell_type": "code",
   "execution_count": 15,
   "id": "77c66063-f025-4185-a356-c01c96540d65",
   "metadata": {},
   "outputs": [],
   "source": [
    "from sklearn.feature_extraction.text import TfidfVectorizer\n",
    "\n",
    "def dummy_fun(doc):\n",
    "    return doc\n",
    "\n",
    "tfidf = TfidfVectorizer(\n",
    "    analyzer=\"word\",\n",
    "    tokenizer=dummy_fun,\n",
    "    preprocessor=dummy_fun,\n",
    "    token_pattern=None\n",
    ")"
   ]
  },
  {
   "cell_type": "markdown",
   "id": "c3dbafb7-deb4-4834-8a3d-76224e5bec80",
   "metadata": {},
   "source": [
    "명사 리스트만 전달하여 tf-idf vectorizor를 학습시켜 보겠습니다. "
   ]
  },
  {
   "cell_type": "code",
   "execution_count": 16,
   "id": "00a58cd5-b016-482d-9856-e06d5b385451",
   "metadata": {},
   "outputs": [],
   "source": [
    "tfidf_csr_matrix = tfidf.fit_transform(df[\"title_nouns\"])"
   ]
  },
  {
   "cell_type": "code",
   "execution_count": 18,
   "id": "8e27e4e4-825b-4eda-994e-db8b8a5cff90",
   "metadata": {},
   "outputs": [
    {
     "data": {
      "text/plain": [
       "(<102479x14889 sparse matrix of type '<class 'numpy.float64'>'\n",
       " \twith 773059 stored elements in Compressed Sparse Row format>,\n",
       " scipy.sparse._csr.csr_matrix)"
      ]
     },
     "execution_count": 18,
     "metadata": {},
     "output_type": "execute_result"
    }
   ],
   "source": [
    "tfidf_csr_matrix, type(tfidf_csr_matrix)"
   ]
  },
  {
   "cell_type": "markdown",
   "id": "5600e17b-7ed4-4898-a5c8-90109b94376f",
   "metadata": {},
   "source": [
    "## CSR matrix\n",
    "자, tf-idf 알고리즘을 학습시킨 뒤, 기사 하나를 tf-idf로 변환하면 CSR_matrix라는 것이 리턴됩니다. 이를 번역하면 압축된 희소 행렬이라는 개념입니다. 이는 희소 행렬을 효율적으로 표현한 자료구조입니다.\n",
    "\n",
    "기사 제목에 쓰인 단어의 수는 무척 많습니다. 반면에 하나의 기사 제목에 포함된 단어의 수는 적습니다. 이를 일반 list나 ndarray로 표현하게 될 경우, 쓸모없는 0 값이 많이 포함됩니다."
   ]
  },
  {
   "cell_type": "code",
   "execution_count": 19,
   "id": "e9d29ba0-6faf-48c7-8698-13da08ca4aaa",
   "metadata": {},
   "outputs": [],
   "source": [
    "tfidf_vector_list = tfidf_csr_matrix.toarray()"
   ]
  },
  {
   "cell_type": "code",
   "execution_count": 23,
   "id": "afcba676-68f9-48ba-b40f-4f780146bed1",
   "metadata": {},
   "outputs": [
    {
     "data": {
      "text/plain": [
       "array([0., 0., 0., ..., 0., 0., 0.])"
      ]
     },
     "execution_count": 23,
     "metadata": {},
     "output_type": "execute_result"
    }
   ],
   "source": [
    "sample = tfidf_vector_list[0]\n",
    "sample"
   ]
  },
  {
   "cell_type": "code",
   "execution_count": 30,
   "id": "a02b5752-da5f-42bb-a428-584ea6847444",
   "metadata": {},
   "outputs": [
    {
     "name": "stdout",
     "output_type": "stream",
     "text": [
      "0이 아닌 원소 개수: 6\n",
      "0인 원소 개수: 14883\n"
     ]
    }
   ],
   "source": [
    "print(\"0이 아닌 원소 개수:\", len(sample[sample != 0]))\n",
    "print(\"0인 원소 개수:\", len(sample[sample == 0]))"
   ]
  },
  {
   "cell_type": "markdown",
   "id": "0378c0b9-e1c4-4c02-8cd7-c21ca6297f6d",
   "metadata": {},
   "source": [
    "이렇게 실질적인 값의 개수가 전체 차원에 비해 현저하게 적은 것을 sparse하다고 표현합니다. 0 값들을 직접 저장하지 않고, 실제 값들이 들어있는 index와 value만 저장하면 훨씬 효율적이겠죠? 이를 지원하는 것이 scipy의 compressed sparse matrix입니다."
   ]
  },
  {
   "cell_type": "code",
   "execution_count": 31,
   "id": "79fd0a1c-99ae-4788-be5a-75cde3bc1f92",
   "metadata": {},
   "outputs": [
    {
     "name": "stdout",
     "output_type": "stream",
     "text": [
      "['KBO', '역대', '급', '타자', '구단', '외면']\n",
      "  (0, 9104)\t0.5832708422962386\n",
      "  (0, 1778)\t0.40118600558969275\n",
      "  (0, 13033)\t0.30843914447491494\n",
      "  (0, 2102)\t0.43248008730260834\n",
      "  (0, 8599)\t0.3834463399376442\n",
      "  (0, 541)\t0.2638940811703792\n"
     ]
    }
   ],
   "source": [
    "print(df.iloc[0][\"title_nouns\"])\n",
    "print(tfidf_csr_matrix[0])"
   ]
  },
  {
   "cell_type": "markdown",
   "id": "a466da29-f872-4bd3-bb5c-4b6551a7182b",
   "metadata": {},
   "source": [
    "compressed sparse matrix를 살펴보면 각 단어의 인덱스와 tf-idf 스코어 값이 들어있습니다. 이를 이용해서 차원이 아무리 크더라도 메모리를 효율적으로 사용할 수 있습니다."
   ]
  },
  {
   "cell_type": "markdown",
   "id": "809202a5-c443-422e-a02d-e442cb4954f2",
   "metadata": {},
   "source": [
    "## TF-IDF를 이용한 문장 벡터화\n",
    "\n",
    "사전에 학습한 문장 이외에 새로운 문장이 들어왔을 때, 이를 벡터로 변환해보겠습니다."
   ]
  },
  {
   "cell_type": "code",
   "execution_count": 32,
   "id": "3a0a3e63-2552-45ba-b5e6-da3df4b353b9",
   "metadata": {},
   "outputs": [],
   "source": [
    "from konlpy.tag import Komoran\n",
    "\n",
    "komoran = Komoran(userdic=\"./data/user.dic\")"
   ]
  },
  {
   "cell_type": "code",
   "execution_count": 33,
   "id": "e6a4f180-e0a0-45b2-aa32-52ea110ebd72",
   "metadata": {},
   "outputs": [],
   "source": [
    "def extract_nouns(text):\n",
    "    tokens = komoran.pos(text)\n",
    "    nouns = [text for text, tag in tokens if tag in (\"NNP\", \"NNG\")]\n",
    "    return nouns"
   ]
  },
  {
   "cell_type": "code",
   "execution_count": 34,
   "id": "318b6a04-fec6-477d-be5f-0a664d3564ac",
   "metadata": {},
   "outputs": [],
   "source": [
    "query = \"이정후 선수가 SSG와의 경기에서 연타석 홈런을 터뜨렸습니다.\""
   ]
  },
  {
   "cell_type": "code",
   "execution_count": 35,
   "id": "64c89fff-6f9a-4a55-bb04-38e6b7caeff7",
   "metadata": {},
   "outputs": [
    {
     "name": "stdout",
     "output_type": "stream",
     "text": [
      "['이정후', '선수', 'SSG', '경기', '연', '타석', '홈런']\n"
     ]
    }
   ],
   "source": [
    "query_nouns = extract_nouns(query)\n",
    "print(query_nouns)"
   ]
  },
  {
   "cell_type": "code",
   "execution_count": 39,
   "id": "a4b4179d-e6e4-4218-9970-fd174deb8920",
   "metadata": {},
   "outputs": [],
   "source": [
    "query_csr_matrix = tfidf.transform([query_nouns])"
   ]
  },
  {
   "attachments": {
    "76c8ce1e-eff3-4308-9961-1baa27d0fb01.png": {
     "image/png": "[encoded data removed]"
    }
   },
   "cell_type": "markdown",
   "id": "33cd52e7-5895-41d5-bdd4-256579a455e5",
   "metadata": {},
   "source": [
    "## 벡터 유사도 비교\n",
    "\n",
    "벡터들 간에는 서로 유사도를 비교할 수 있습니다. 그 중에서 가장 많이 사용되는 것은 코사인 유사도입니다. 코사인 유사도는 두 벡터 간의 코사인 각도를 이용하여 구할 수 있는 두 벡터의 유사도를 의미합니다. \n",
    "\n",
    "두 벡터의 방향이 완전히 동일한 경우에는 1의 값을 가지며, 90°의 각을 이루면 0, 180°로 반대의 방향을 가지면 -1의 값을 갖게 됩니다. 즉, 결국 코사인 유사도는 -1 이상 1 이하의 값을 가지며 값이 1에 가까울수록 유사도가 높다고 판단할 수 있습니다. 이를 직관적으로 이해하면 두 벡터가 가리키는 방향이 얼마나 유사한가를 의미합니다.\n",
    "\n",
    "![image.png](attachment:76c8ce1e-eff3-4308-9961-1baa27d0fb01.png)"
   ]
  },
  {
   "attachments": {
    "ab319283-2326-4977-92de-57ccdb416779.png": {
     "image/png": "[encoded data removed]"
    }
   },
   "cell_type": "markdown",
   "id": "477beda9-b811-4fe2-a0b1-093d21a0f065",
   "metadata": {},
   "source": [
    "![image.png](attachment:ab319283-2326-4977-92de-57ccdb416779.png)"
   ]
  },
  {
   "cell_type": "markdown",
   "id": "2acb4026-b355-4c25-91ed-692315b17bb1",
   "metadata": {},
   "source": [
    "이를 수식으로 나타내면 아래와 같습니다. 코사인 제 2 법칙을 이용해서 유도합니다. 수식은 잘 모르셔도 무방합니다. 벡터간의 유사도는 코사인 유사도를 사용한다 정도만 이해하고 넘어가면 됩니다.\n",
    "\n",
    "\n",
    "$$similarity=cos(Θ)=\\frac{A⋅B}{||A||\\ ||B||}=\\frac{\\sum_{i=1}^{n}{A_{i}×B_{i}}}{\\sqrt{\\sum_{i=1}^{n}(A_{i})^2}×\\sqrt{\\sum_{i=1}^{n}(B_{i})^2}}$$"
   ]
  },
  {
   "cell_type": "markdown",
   "id": "c30790bd-27e6-4e4c-8f17-3b8cfdde7a08",
   "metadata": {},
   "source": [
    "## TF-IDF를 이용한 검색\n",
    "\n",
    "검색 쿼리를 백터화하고, 기존 문서들과의 유사도를 비교해서 가장 유사한 문장을 찾아서 리턴하면 검색을 구현할 수 있습니다."
   ]
  },
  {
   "cell_type": "code",
   "execution_count": 67,
   "id": "4eddd409-18ce-4075-9332-80945b71027e",
   "metadata": {},
   "outputs": [],
   "source": [
    "from sklearn.metrics.pairwise import cosine_similarity\n",
    "\n",
    "def tfidf_search(query, k=5):\n",
    "    # tfidf를 이용하여 query를 벡터로 변환\n",
    "    query_nouns = extract_nouns(query)\n",
    "    query_csr_matrix = tfidf.transform([query_nouns])\n",
    "    \n",
    "    # consine similarity 측정하고, 가장 유사한 top k 문서 찾음\n",
    "    similarites = cosine_similarity(query_csr_matrix, tfidf_csr_matrix).flatten()\n",
    "    top_similarities = sorted(similarites, reverse=True)[:k]\n",
    "    top_indices = similarites.argsort()[-k:][::-1]\n",
    "    top_titles = [df.iloc[i][\"title\"] for i in top_indices]\n",
    "    \n",
    "    # 결과 출력\n",
    "    for top_title, top_similarity in zip(top_titles, top_similarities):\n",
    "        print(round(top_similarity, 4), top_title)"
   ]
  },
  {
   "cell_type": "code",
   "execution_count": 70,
   "id": "ebf9144a-e949-4604-8efb-071e12a7a60c",
   "metadata": {},
   "outputs": [
    {
     "name": "stdout",
     "output_type": "stream",
     "text": [
      "0.6861 한국-일본 프로야구 WBC에서 14년 만에 만난다\n",
      "0.6724 ‘한국계 MLB’ 에드먼, 내년 한국 WBC 대표로 나서나\n",
      "0.6593 MLB 100년 만에 한국 온다\n",
      "0.6303 이강철 감독, 2023 WBC 한국 야구대표팀 이끈다\n",
      "0.6261 WBC 한국 대표팀 사령탑에 이강철\n"
     ]
    }
   ],
   "source": [
    "query = \"WBC 한국\"\n",
    "tfidf_search(query=query)"
   ]
  },
  {
   "cell_type": "markdown",
   "id": "8756ca19-daeb-4945-befb-e8fe3489c026",
   "metadata": {},
   "source": [
    "## 정리\n",
    "\n",
    "이번 챕터에서는 대표적인 빈도수 기반의 NLP 알고리즘인 tf-idf에 대해서 배워보았습니다. tf-idf는 직관적이고 가볍기 때문에 실무에서도 종종 쓰이는 기법입니다. 특히 자연어 기반의 간단한 추천 시스템을 구현하는데 사용됩니다.\n",
    "\n",
    "또한 벡터 간에 코사인 유사도를 계산하여 간단한 검색 엔진을 구현해 보았습니다. 벡터 유사도 계산은 AI 기반 시스템에서 정말 많이 사용하므로, 꼭 기억하시기 바랍니다. "
   ]
  },
  {
   "cell_type": "code",
   "execution_count": null,
   "id": "e865dfae-8e1e-4b97-b27a-bf62c2ac6653",
   "metadata": {},
   "outputs": [],
   "source": []
  }
 ],
 "metadata": {
  "kernelspec": {
   "display_name": "Python 3 (ipykernel)",
   "language": "python",
   "name": "python3"
  },
  "language_info": {
   "codemirror_mode": {
    "name": "ipython",
    "version": 3
   },
   "file_extension": ".py",
   "mimetype": "text/x-python",
   "name": "python",
   "nbconvert_exporter": "python",
   "pygments_lexer": "ipython3",
   "version": "3.10.8"
  }
 },
 "nbformat": 4,
 "nbformat_minor": 5
}
