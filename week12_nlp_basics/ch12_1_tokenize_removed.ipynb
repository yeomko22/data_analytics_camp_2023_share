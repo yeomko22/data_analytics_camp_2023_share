{
 "cells": [
  {
   "cell_type": "markdown",
   "id": "4bf36e4d-ac8e-4c0c-849b-72348c00c26a",
   "metadata": {},
   "source": [
    "# ch 1. Tokenize\n",
    "자연어 처리에서 텍스트 데이터를 corpus(코퍼스, 말뭉치)라고 부릅니다. 크롤링 시간에 수집했던 뉴스 기사들도 코퍼스라고 부를 수 있습니다. 주어진 코퍼스(corpus)에서 토큰(token)이라 불리는 단위로 나누는 작업을 토큰화(tokenization)라고 합니다. \n",
    "\n",
    "토큰은 컴퓨터가 텍스트를 처리하는 최소 의미 단위가 됩니다. 토큰화에는 여러 기법들이 있습니다. 딥러닝 등장 이전의 NLP에서는 주로 언어학 관점에서 정의한 최소 의미 단위인 형태소를 기준으로 토큰화를 했습니다. 하지만 최근 딥러닝 모델들은 데이터로부터 자연스럽게 토크나이저를 학습하는 subword 토큰화를 사용하며, 딥러닝을 이용한 NLP 시간에 배워보겠습니다.\n",
    "\n",
    "형태소 단위로 문장을 토큰화 해주는 기술을 형태소 분석기라고 부릅니다. 형태소 분석기는 언어학적으로 해석이 가능한 장점이 있습니다만, 고유명사나 신조어 대응이 어려운 한계가 있습니다. 이번 챕터에서는 기본적인 토큰화 기법들과 형태소 분석기를 실습해보겠습니다."
   ]
  },
  {
   "cell_type": "markdown",
   "id": "72a16dc3-6cb4-4e9e-9164-c57f1c4a018d",
   "metadata": {},
   "source": [
    "## 공백 기준의 토큰화\n",
    "먼저 생각할 수 있는 가장 단순한 토큰화 기법은 공백을 기준으로 잘라내는 것입니다."
   ]
  },
  {
   "cell_type": "code",
   "execution_count": 30,
   "id": "5dfdc189-69f8-46ab-b0e2-d510f75edfef",
   "metadata": {},
   "outputs": [],
   "source": [
    "sentence = '롯데 자이언츠의 거인 이대호(40)의 꿈이 무너져가고 있다. 이대호가 새해 40세 불혹(不惑)의 나이가 됐다. 불혹은 주위에서 어떤 일이 벌어져도 중심을 잃지 않고 자신만의 원칙을 지켜 나갈 수 있는 경지에 오르는 시기다. 이번 스토브리그에 롯데 구단에 걱정스러운 일이 벌어지고 있다. 그런데 이대호는 어떤 대외 활동도 하지 않고 침묵하며 조용히 개인 훈련에 집중하는 모습이다. 불혹이 돼서인가? 지난 2017년 1월24일이다. 벌써 5년의 시간이 흘렀다. 롯데의 프랜차이즈 스타 이대호가 일본프로야구 미국 메이저리그를 거쳐 고향팀 롯데로 돌아왔다. 그는 ‘조선의 4번타자’답게 단숨에 최고가 됐다. 삼성에서 FA가 된 최형우가 고향팀 KIA 타이거즈와 4년 계약을 하면서 기록한 총액 100억 원을 훨씬 넘어 150억 원에 롯데와 계약했다. 당시 인터뷰에서 이대호는 ‘메이저리그에서 열심히 노력해 꿈을 이루었다. 남은 것은 롯데로 돌아와 함께 우승을 하는 것이다. 마지막 소원이 롯데의 우승’이라고 밝혔다. 2001년 롯데에 2차 1순위로 입단해 2011시즌까지 11시즌 동안 이대호는 무려 225개의 홈런을 쏘아 올렸다. 그리고 2008~2011 시즌까지 4년 연속 롯데를 포스트시즌으로 이끌었으나 한국시리즈 우승을 못하고 일본 프로야구로 떠났다.'"
   ]
  },
  {
   "cell_type": "code",
   "execution_count": 31,
   "id": "29a7dd33-9b46-4a3a-8c9a-9ed576fe95e5",
   "metadata": {},
   "outputs": [
    {
     "name": "stdout",
     "output_type": "stream",
     "text": [
      "['롯데', '자이언츠의', '거인', '이대호(40)의', '꿈이', '무너져가고', '있다.', '이대호가', '새해', '40세', '불혹(不惑)의', '나이가', '됐다.', '불혹은', '주위에서', '어떤', '일이', '벌어져도', '중심을', '잃지', '않고', '자신만의', '원칙을', '지켜', '나갈', '수', '있는', '경지에', '오르는', '시기다.', '이번', '스토브리그에', '롯데', '구단에', '걱정스러운', '일이', '벌어지고', '있다.', '그런데', '이대호는', '어떤', '대외', '활동도', '하지', '않고', '침묵하며', '조용히', '개인', '훈련에', '집중하는', '모습이다.', '불혹이', '돼서인가?', '지난', '2017년', '1월24일이다.', '벌써', '5년의', '시간이', '흘렀다.', '롯데의', '프랜차이즈', '스타', '이대호가', '일본프로야구', '미국', '메이저리그를', '거쳐', '고향팀', '롯데로', '돌아왔다.', '그는', '‘조선의', '4번타자’답게', '단숨에', '최고가', '됐다.', '삼성에서', 'FA가', '된', '최형우가', '고향팀', 'KIA', '타이거즈와', '4년', '계약을', '하면서', '기록한', '총액', '100억', '원을', '훨씬', '넘어', '150억', '원에', '롯데와', '계약했다.', '당시', '인터뷰에서', '이대호는', '‘메이저리그에서', '열심히', '노력해', '꿈을', '이루었다.', '남은', '것은', '롯데로', '돌아와', '함께', '우승을', '하는', '것이다.', '마지막', '소원이', '롯데의', '우승’이라고', '밝혔다.', '2001년', '롯데에', '2차', '1순위로', '입단해', '2011시즌까지', '11시즌', '동안', '이대호는', '무려', '225개의', '홈런을', '쏘아', '올렸다.', '그리고', '2008~2011', '시즌까지', '4년', '연속', '롯데를', '포스트시즌으로', '이끌었으나', '한국시리즈', '우승을', '못하고', '일본', '프로야구로', '떠났다.']\n"
     ]
    }
   ],
   "source": [
    "tokens = sentence.split(\" \")\n",
    "print(tokens)"
   ]
  },
  {
   "cell_type": "markdown",
   "id": "c83b0328-292d-414b-9a9e-c383419efc5b",
   "metadata": {},
   "source": [
    "이렇게 공백을 기준으로 토큰을 만들게 되면 한국어의 특성상 조사를 떼어낼 수가 없습니다. 즉, \"이대호가\", \"이대호는\"과 같이 실제로는 비슷한 의미를 갖는 토큰을 전혀 다른 토큰으로 인식하게 됩니다. 토큰화가 제대로 이루어지지 않으면 제 아무리 고도화 된 AI 모델을 학습시킨다 하더라도 정확도를 기대할 수 없습니다.\n",
    "\n",
    "공백을 기준으로 잡는 것 외에도 온 점이나 쉼표를 기준으로 토큰화를 하는 기법들이 있지만, 마찬가지로 낮은 정확도로 인해 사용하지 않습니다."
   ]
  },
  {
   "cell_type": "markdown",
   "id": "46c1905d-c9b8-46a4-ad93-f28da0c8b410",
   "metadata": {},
   "source": [
    "## 형태소 분석기를 이용한 토큰화\n",
    "다음으로 형태소 분석기를 이용한 토큰화를 해보겠습니다. 가장 쉽게 사용할 수 있는 konlpy의 komoran을 사용하여 실습을 진행해보겠습니다. konlpy는 한국어 자연어 처리 라이브러리이고, komoran은 konlpy를 통해 이용할 수 있는 형태소 분석기 중 하나입니다."
   ]
  },
  {
   "cell_type": "code",
   "execution_count": 33,
   "id": "515d95f0-c100-456a-a6c6-59a60ade0eea",
   "metadata": {},
   "outputs": [],
   "source": [
    "from konlpy.tag import Komoran"
   ]
  },
  {
   "cell_type": "code",
   "execution_count": 34,
   "id": "5e105ca2-8c28-40a9-8cd6-02a74c606eda",
   "metadata": {},
   "outputs": [],
   "source": [
    "komoran = Komoran()"
   ]
  },
  {
   "cell_type": "code",
   "execution_count": 35,
   "id": "88adb8ec-07a2-4f94-8f96-529f697a287a",
   "metadata": {},
   "outputs": [],
   "source": [
    "tokens = komoran.pos(sentence)"
   ]
  },
  {
   "cell_type": "code",
   "execution_count": 36,
   "id": "05bc835b-e674-4ade-9496-ba04050803dc",
   "metadata": {},
   "outputs": [
    {
     "name": "stdout",
     "output_type": "stream",
     "text": [
      "[('롯데 자이언츠', 'NNP'), ('의', 'JKG'), ('거인', 'NNP'), ('이대호', 'NNP'), ('(', 'SS'), ('40', 'SN'), (')', 'SS'), ('의', 'JKG'), ('꿈', 'NNG'), ('이', 'JKS'), ('무너지', 'VV'), ('어', 'EC'), ('가', 'VX'), ('고', 'EC'), ('있', 'VX'), ('다', 'EF'), ('.', 'SF'), ('이대호', 'NNP'), ('가', 'JKS'), ('새해', 'NNP'), ('40', 'SN'), ('세', 'NNB'), ('불혹', 'NNG'), ('(', 'SS'), ('不惑', 'SH'), (')', 'SS'), ('의', 'JKG'), ('나이', 'NNG'), ('가', 'JKS'), ('되', 'VV'), ('었', 'EP'), ('다', 'EF'), ('.', 'SF'), ('불혹', 'NNG'), ('은', 'JX'), ('주위', 'NNG'), ('에서', 'JKB'), ('어떤', 'MM'), ('일', 'NNG'), ('이', 'JKS'), ('벌어지', 'VV'), ('어도', 'EC'), ('중심', 'NNG'), ('을', 'JKO'), ('잃', 'VV'), ('지', 'EC'), ('않', 'VX'), ('고', 'EC'), ('자신', 'NNG'), ('만', 'JX'), ('의', 'JKG'), ('원칙', 'NNG'), ('을', 'JKO'), ('지키', 'VV'), ('어', 'EC'), ('나가', 'VV'), ('ㄹ', 'ETM'), ('수', 'NNB'), ('있', 'VV'), ('는', 'ETM'), ('경지', 'NNG'), ('에', 'JKB'), ('오르', 'VV'), ('는', 'ETM'), ('시기', 'NNP'), ('다', 'EF'), ('.', 'SF'), ('이번', 'NNG'), ('스토브리그에', 'NA'), ('롯데', 'NNP'), ('구단', 'NNP'), ('에', 'JKB'), ('걱정', 'NNG'), ('스럽', 'XSA'), ('ㄴ', 'ETM'), ('일', 'NNG'), ('이', 'JKS'), ('벌어지', 'VV'), ('고', 'EC'), ('있', 'VX'), ('다', 'EF'), ('.', 'SF'), ('그런데', 'MAJ'), ('이대호', 'NNP'), ('는', 'JX'), ('어떤', 'MM'), ('대외', 'NNG'), ('활동', 'NNG'), ('도', 'JX'), ('하', 'VV'), ('지', 'EC'), ('않', 'VX'), ('고', 'EC'), ('침묵', 'NNG'), ('하', 'XSV'), ('며', 'EC'), ('조용히', 'MAG'), ('개인', 'NNG'), ('훈련', 'NNG'), ('에', 'JKB'), ('집중', 'NNG'), ('하', 'XSV'), ('는', 'ETM'), ('모습', 'NNG'), ('이', 'VCP'), ('다', 'EF'), ('.', 'SF'), ('불혹', 'NNG'), ('이', 'JKS'), ('되', 'VV'), ('어서', 'EC'), ('이', 'VCP'), ('ㄴ가', 'EF'), ('?', 'SF'), ('지나', 'VV'), ('ㄴ', 'ETM'), ('2017년 1월', 'NNP'), ('24', 'SN'), ('일', 'NNB'), ('이', 'VCP'), ('다', 'EF'), ('.', 'SF'), ('벌써', 'MAG'), ('5년', 'NNP'), ('의', 'JKG'), ('시간', 'NNG'), ('이', 'JKS'), ('흐르', 'VV'), ('었', 'EP'), ('다', 'EF'), ('.', 'SF'), ('롯데', 'NNP'), ('의', 'JKG'), ('프랜차이즈', 'NNP'), ('스타', 'NNP'), ('이대호', 'NNP'), ('가', 'JKS'), ('일본', 'NNP'), ('프로', 'NNP'), ('야구', 'NNP'), ('미국', 'NNP'), ('메이저', 'NNP'), ('리그', 'NNP'), ('를', 'JKO'), ('거치', 'VV'), ('어', 'EC'), ('고향', 'NNG'), ('팀', 'NNG'), ('롯데', 'NNP'), ('로', 'JKB'), ('돌아오', 'VV'), ('았', 'EP'), ('다', 'EF'), ('.', 'SF'), ('그', 'NP'), ('는', 'JX'), ('‘', 'SS'), ('조선', 'NNP'), ('의', 'JKG'), ('4', 'SN'), ('번', 'NNB'), ('타자', 'NNP'), ('’', 'SS'), ('답', 'XSA'), ('게', 'EC'), ('단숨에', 'MAG'), ('최고', 'NNG'), ('가', 'JKS'), ('되', 'VV'), ('었', 'EP'), ('다', 'EF'), ('.', 'SF'), ('삼성', 'NNP'), ('에서', 'JKB'), ('FA', 'SL'), ('가', 'JKS'), ('되', 'VV'), ('ㄴ', 'ETM'), ('최형우', 'NNP'), ('가', 'JKS'), ('고향', 'NNG'), ('팀', 'NNG'), ('KIA 타이거즈', 'NNP'), ('와', 'JC'), ('4', 'SN'), ('년', 'NNB'), ('계약', 'NNG'), ('을', 'JKO'), ('하', 'VV'), ('면서', 'EC'), ('기록', 'NNG'), ('하', 'XSV'), ('ㄴ', 'ETM'), ('총액', 'NNG'), ('100', 'SN'), ('억', 'NR'), ('원', 'NNB'), ('을', 'JKO'), ('훨씬', 'MAG'), ('넘', 'VV'), ('어', 'EC'), ('150', 'SN'), ('억', 'NR'), ('원', 'NNB'), ('에', 'JKB'), ('롯데', 'NNP'), ('와', 'JC'), ('계약', 'NNG'), ('하', 'XSV'), ('았', 'EP'), ('다', 'EF'), ('.', 'SF'), ('당시', 'NNG'), ('인터뷰', 'NNP'), ('에서', 'JKB'), ('이대호', 'NNP'), ('는', 'JX'), ('‘', 'SS'), ('메이저', 'NNP'), ('리그', 'NNP'), ('에서', 'JKB'), ('열심히', 'MAG'), ('노력', 'NNG'), ('하', 'XSV'), ('아', 'EC'), ('꿈', 'NNG'), ('을', 'JKO'), ('이루', 'VV'), ('었', 'EP'), ('다', 'EF'), ('.', 'SF'), ('남은', 'NNP'), ('것', 'NNB'), ('은', 'JX'), ('롯데', 'NNP'), ('로', 'JKB'), ('돌아오', 'VV'), ('아', 'EC'), ('함께', 'MAG'), ('우승', 'NNG'), ('을', 'JKO'), ('하', 'VV'), ('는', 'ETM'), ('것', 'NNB'), ('이', 'VCP'), ('다', 'EF'), ('.', 'SF'), ('마지막', 'NNG'), ('소원', 'NNG'), ('이', 'JKS'), ('롯데', 'NNP'), ('의', 'JKG'), ('우승', 'NNP'), ('’', 'SS'), ('이라고', 'JKQ'), ('밝히', 'VV'), ('었', 'EP'), ('다', 'EF'), ('.', 'SF'), ('2001', 'SN'), ('년', 'NNB'), ('롯데', 'NNP'), ('에', 'JKB'), ('2', 'SN'), ('차', 'NNB'), ('1', 'SN'), ('순위', 'NNP'), ('로', 'JKB'), ('입단', 'NNG'), ('하', 'XSV'), ('아', 'EC'), ('2011', 'SN'), ('시즌', 'NNP'), ('까지', 'JX'), ('11', 'SN'), ('시즌', 'NNP'), ('동안', 'NNG'), ('이대호', 'NNP'), ('는', 'JX'), ('무려', 'MAG'), ('225', 'SN'), ('개', 'NNB'), ('의', 'JKG'), ('홈런', 'NNG'), ('을', 'JKO'), ('쏘', 'VV'), ('아', 'EC'), ('올리', 'VV'), ('었', 'EP'), ('다', 'EF'), ('.', 'SF'), ('그리고', 'MAJ'), ('2008', 'SN'), ('~', 'SO'), ('2011', 'SN'), ('시즌', 'NNG'), ('까지', 'JX'), ('4', 'SN'), ('년', 'NNB'), ('연속', 'NNP'), ('롯데', 'NNP'), ('를', 'JKO'), ('포스트', 'NNP'), ('시즌', 'NNP'), ('으로', 'JKB'), ('이끌', 'VV'), ('었', 'EP'), ('으나', 'EC'), ('한국시리즈', 'NNP'), ('우승', 'NNG'), ('을', 'JKO'), ('못하', 'VX'), ('고', 'EC'), ('일본', 'NNP'), ('프로야', 'NNP'), ('구로', 'NNP'), ('떠나', 'VV'), ('았', 'EP'), ('다', 'EF'), ('.', 'SF')]\n"
     ]
    }
   ],
   "source": [
    "print(tokens)"
   ]
  },
  {
   "cell_type": "markdown",
   "id": "4fdf5895-f091-4152-992e-e5e1a421b510",
   "metadata": {},
   "source": [
    "형태소 분석기를 이용하면 각 토큰별로 품사와 함께 토큰화 된 텍스트를 가져올 수 있습니다. 또한 \"롯데 자이언츠\"처럼 중간에 공백이 삽입된 명사도 고유명사로 잘 구분하는 모습을 보여줍니다. \"이대호가\", \"이대호는\"과 같은 단어도 \"이대호\", \"가\", \"이대호\", \"는\"으로 분리해주어 의미 단위로 토큰을 잘 분리하는 모습을 보여줍니다.\n",
    "\n",
    "하지만 형태소 분석기는 신조어나 고유 명사에 상당히 취약한 모습을 보이기도 합니다. "
   ]
  },
  {
   "cell_type": "code",
   "execution_count": 37,
   "id": "eda636c2-6c24-4972-abab-62a767456abd",
   "metadata": {},
   "outputs": [
    {
     "name": "stdout",
     "output_type": "stream",
     "text": [
      "[('SSG', 'SL'), ('랜더스의', 'NA'), ('추신수', 'NNP'), ('선수', 'NNG'), ('가', 'JKS'), ('NC 다이노스', 'NNP'), ('의', 'JKG'), ('안우', 'NNP'), ('진', 'NNP'), ('선수', 'NNG'), ('를', 'JKO'), ('상대로', 'NNP'), ('홈런', 'NNG'), ('을', 'JKO'), ('치', 'VV'), ('었', 'EP'), ('습니다', 'EF'), ('.', 'SF')]\n"
     ]
    }
   ],
   "source": [
    "sentence = \"SSG 랜더스의 추신수 선수가 NC 다이노스의 안우진 선수를 상대로 홈런을 쳤습니다.\"\n",
    "print(komoran.pos(sentence))"
   ]
  },
  {
   "cell_type": "markdown",
   "id": "3ccb5586-69a2-4d83-bb32-05460b0fdc81",
   "metadata": {},
   "source": [
    "\"SSG\", \"랜더스\", \"안우진\" 등의 고유 명사를 NNP로 잡아내지 못하는 모습을 보입니다. 이러한 형태소 분석기의 한계점은 고유 명사를 직접 지정하는 사용자 사전 기능으로 극복할 수 있습니다."
   ]
  },
  {
   "cell_type": "code",
   "execution_count": 38,
   "id": "4a14e820-956b-4564-b669-d8da5ff31762",
   "metadata": {},
   "outputs": [],
   "source": [
    "komoran = Komoran(userdic=\"./data/user.dic\")"
   ]
  },
  {
   "cell_type": "code",
   "execution_count": 39,
   "id": "fd391206-7021-4863-a6e2-57680d7f0e36",
   "metadata": {},
   "outputs": [
    {
     "name": "stdout",
     "output_type": "stream",
     "text": [
      "[('SSG', 'NNP'), ('랜더스', 'NNP'), ('의', 'JKG'), ('추신수', 'NNP'), ('선수', 'NNG'), ('가', 'JKS'), ('NC', 'NNP'), ('다이노스', 'NNP'), ('의', 'JKG'), ('안우진', 'NNP'), ('선수', 'NNG'), ('를', 'JKO'), ('상대로', 'NNP'), ('홈런', 'NNG'), ('을', 'JKO'), ('치', 'VV'), ('었', 'EP'), ('습니다', 'EF'), ('.', 'SF')]\n"
     ]
    }
   ],
   "source": [
    "print(komoran.pos(sentence))"
   ]
  },
  {
   "cell_type": "markdown",
   "id": "7a349110-e507-4a92-86c0-7608ec3c6f89",
   "metadata": {},
   "source": [
    "## 전체 데이터 셋 토크나이즈\n",
    "\n",
    "웹 크롤링 시간에 정규 표현식을 이용해서 전처리 했었던 데이터 셋을 tokenize 해보겠습니다. 한번 전체 데이터 셋 중 1000개만 토큰화하여 결과를 CSV 파일에 써보겠습니다."
   ]
  },
  {
   "cell_type": "code",
   "execution_count": 40,
   "id": "71c24fda-8de8-4166-ab04-249aa6d3346d",
   "metadata": {},
   "outputs": [
    {
     "data": {
      "text/html": [
       "<div>\n",
       "<style scoped>\n",
       "    .dataframe tbody tr th:only-of-type {\n",
       "        vertical-align: middle;\n",
       "    }\n",
       "\n",
       "    .dataframe tbody tr th {\n",
       "        vertical-align: top;\n",
       "    }\n",
       "\n",
       "    .dataframe thead th {\n",
       "        text-align: right;\n",
       "    }\n",
       "</style>\n",
       "<table border=\"1\" class=\"dataframe\">\n",
       "  <thead>\n",
       "    <tr style=\"text-align: right;\">\n",
       "      <th></th>\n",
       "      <th>url</th>\n",
       "      <th>datetime_str</th>\n",
       "      <th>title</th>\n",
       "      <th>content</th>\n",
       "      <th>title_tokenized</th>\n",
       "    </tr>\n",
       "  </thead>\n",
       "  <tbody>\n",
       "    <tr>\n",
       "      <th>0</th>\n",
       "      <td>https://sports.news.naver.com/news?oid=117&amp;aid...</td>\n",
       "      <td>20220101</td>\n",
       "      <td>KBO 역대급 외인타자, 끝내 10개 구단 외면 받고 사라지나</td>\n",
       "      <td>KBO 리그 10개 구단의 외국인선수 구성도 막바지를 향하고 있다. 이미 대부분 구...</td>\n",
       "      <td>[(KBO, NNP), (역대, NNG), (급, NNG), (외, NNB), (이...</td>\n",
       "    </tr>\n",
       "    <tr>\n",
       "      <th>1</th>\n",
       "      <td>https://sports.news.naver.com/news?oid=117&amp;aid...</td>\n",
       "      <td>20220101</td>\n",
       "      <td>'불혹의 거인’ 침묵이 심상찮다...'꿈'이 영원히 사라지고 있는데...</td>\n",
       "      <td>롯데 자이언츠의 거인 이대호(40)의 꿈이 무너져가고 있다. 이대호가 새해 40세 ...</td>\n",
       "      <td>[(', SS), (불혹, NNG), (의, JKG), (거인, NNP), (’, ...</td>\n",
       "    </tr>\n",
       "    <tr>\n",
       "      <th>2</th>\n",
       "      <td>https://sports.news.naver.com/news?oid=410&amp;aid...</td>\n",
       "      <td>20220101</td>\n",
       "      <td>'롯데맨'으로 새해 맞은 문경찬 \"불펜 경쟁서 살아남겠다\" [MK인터뷰]</td>\n",
       "      <td>“어쩌다 보니 새해맞이 서프라이즈가 됐네요.”2021년의 마지막 날 오후. 문경찬(...</td>\n",
       "      <td>[(', SS), (롯데, NNP), (맨, NNP), (', SS), (으로, J...</td>\n",
       "    </tr>\n",
       "    <tr>\n",
       "      <th>3</th>\n",
       "      <td>https://sports.news.naver.com/news?oid=108&amp;aid...</td>\n",
       "      <td>20220101</td>\n",
       "      <td>'유일한 FA 미계약자' 정훈 결국 해 넘겼다, 롯데 \"이견 좁혀가는 중\"</td>\n",
       "      <td>이번 겨울 FA(프리에이전트) 시장에선 15명 중 14명이 소속팀을 찾았다. 이제 ...</td>\n",
       "      <td>[(', SS), (유일한, NNP), (FA, SL), (미, NNP), (계약자...</td>\n",
       "    </tr>\n",
       "    <tr>\n",
       "      <th>4</th>\n",
       "      <td>https://sports.news.naver.com/news?oid=117&amp;aid...</td>\n",
       "      <td>20220101</td>\n",
       "      <td>\"KIA 5강 이상, SSG 알찬 보강, NC 구창모 오면…\" 허구연 위원 픽, 2...</td>\n",
       "      <td>\"KIA는 5강 이상 달성해야 하는 전력이다.\"2022년이 밝았다. KBO리그 10...</td>\n",
       "      <td>[(\", SS), (KIA, NNP), (5, SN), (강, NNP), (이상, ...</td>\n",
       "    </tr>\n",
       "    <tr>\n",
       "      <th>...</th>\n",
       "      <td>...</td>\n",
       "      <td>...</td>\n",
       "      <td>...</td>\n",
       "      <td>...</td>\n",
       "      <td>...</td>\n",
       "    </tr>\n",
       "    <tr>\n",
       "      <th>102477</th>\n",
       "      <td>https://sports.news.naver.com/news?oid=410&amp;aid...</td>\n",
       "      <td>20221231</td>\n",
       "      <td>‘위기의 남자’ 김동엽, 박진만 감독은 대행 시절 “쓰지 않겠다”고 했다</td>\n",
       "      <td>“내가 감독 대행을 하는 동안에는 볼 수 없을 것이다.”박진만 삼성 감독이 대행 시...</td>\n",
       "      <td>[(‘, SS), (위기의 남자, NNP), (’, SS), (김동엽, NNP), ...</td>\n",
       "    </tr>\n",
       "    <tr>\n",
       "      <th>102478</th>\n",
       "      <td>https://sports.news.naver.com/news?oid=139&amp;aid...</td>\n",
       "      <td>20221231</td>\n",
       "      <td>'21년 대타 타율 .371' 결국 은퇴를 선언한 前 두산 포수 최용제</td>\n",
       "      <td>김경현 기자= 두산 베어스로부터 방출 통보를 받았던 최용제가 소속팀을 구하지 못하고...</td>\n",
       "      <td>[(', SS), (21년, NNP), (대타, NNP), (타율, NNP), (....</td>\n",
       "    </tr>\n",
       "    <tr>\n",
       "      <th>102479</th>\n",
       "      <td>https://sports.news.naver.com/news?oid=117&amp;aid...</td>\n",
       "      <td>20221231</td>\n",
       "      <td>“스트레스 받는 성격 아닌데…” KIA 캡틴의 진심, 이적생 3루수에게 고맙다</td>\n",
       "      <td>“스트레스를 받는 성격이 아니고 털고 넘어가는 스타일인데…”KIA 베테랑 내야수 김...</td>\n",
       "      <td>[(“, SS), (스트레스, NNP), (받, VV), (는, ETM), (성격,...</td>\n",
       "    </tr>\n",
       "    <tr>\n",
       "      <th>102480</th>\n",
       "      <td>https://sports.news.naver.com/news?oid=076&amp;aid...</td>\n",
       "      <td>20221231</td>\n",
       "      <td>'호주에서도 못 잡으면…' 드래프트 전체 1순위 국대 출신 좌완 파이어볼러 깊어지는 고민</td>\n",
       "      <td>롯데 좌완 김진욱(20)의 고심이 깊어지고 있다. 이병규 감독이 이끄는 질롱 코리아...</td>\n",
       "      <td>[(', SS), (호주, NNP), (에서, JKB), (도, JX), (못, M...</td>\n",
       "    </tr>\n",
       "    <tr>\n",
       "      <th>102481</th>\n",
       "      <td>https://sports.news.naver.com/news?oid=109&amp;aid...</td>\n",
       "      <td>20221231</td>\n",
       "      <td>외부 FA 시원하게 지른 키움, 내부 FA 한현희·정찬헌 계약 지지부진한 이유는?</td>\n",
       "      <td>키움 히어로즈 내부 FA 한현희(29)와 정찬헌(32)의 계약이 해를 넘길 가능성이...</td>\n",
       "      <td>[(외부, NNG), (FA, SL), (시원, XR), (하, XSA), (게, ...</td>\n",
       "    </tr>\n",
       "  </tbody>\n",
       "</table>\n",
       "<p>102482 rows × 5 columns</p>\n",
       "</div>"
      ],
      "text/plain": [
       "                                                      url  datetime_str  \\\n",
       "0       https://sports.news.naver.com/news?oid=117&aid...      20220101   \n",
       "1       https://sports.news.naver.com/news?oid=117&aid...      20220101   \n",
       "2       https://sports.news.naver.com/news?oid=410&aid...      20220101   \n",
       "3       https://sports.news.naver.com/news?oid=108&aid...      20220101   \n",
       "4       https://sports.news.naver.com/news?oid=117&aid...      20220101   \n",
       "...                                                   ...           ...   \n",
       "102477  https://sports.news.naver.com/news?oid=410&aid...      20221231   \n",
       "102478  https://sports.news.naver.com/news?oid=139&aid...      20221231   \n",
       "102479  https://sports.news.naver.com/news?oid=117&aid...      20221231   \n",
       "102480  https://sports.news.naver.com/news?oid=076&aid...      20221231   \n",
       "102481  https://sports.news.naver.com/news?oid=109&aid...      20221231   \n",
       "\n",
       "                                                    title  \\\n",
       "0                      KBO 역대급 외인타자, 끝내 10개 구단 외면 받고 사라지나   \n",
       "1                '불혹의 거인’ 침묵이 심상찮다...'꿈'이 영원히 사라지고 있는데...   \n",
       "2                '롯데맨'으로 새해 맞은 문경찬 \"불펜 경쟁서 살아남겠다\" [MK인터뷰]   \n",
       "3               '유일한 FA 미계약자' 정훈 결국 해 넘겼다, 롯데 \"이견 좁혀가는 중\"   \n",
       "4       \"KIA 5강 이상, SSG 알찬 보강, NC 구창모 오면…\" 허구연 위원 픽, 2...   \n",
       "...                                                   ...   \n",
       "102477           ‘위기의 남자’ 김동엽, 박진만 감독은 대행 시절 “쓰지 않겠다”고 했다   \n",
       "102478            '21년 대타 타율 .371' 결국 은퇴를 선언한 前 두산 포수 최용제   \n",
       "102479        “스트레스 받는 성격 아닌데…” KIA 캡틴의 진심, 이적생 3루수에게 고맙다   \n",
       "102480  '호주에서도 못 잡으면…' 드래프트 전체 1순위 국대 출신 좌완 파이어볼러 깊어지는 고민   \n",
       "102481      외부 FA 시원하게 지른 키움, 내부 FA 한현희·정찬헌 계약 지지부진한 이유는?   \n",
       "\n",
       "                                                  content  \\\n",
       "0       KBO 리그 10개 구단의 외국인선수 구성도 막바지를 향하고 있다. 이미 대부분 구...   \n",
       "1       롯데 자이언츠의 거인 이대호(40)의 꿈이 무너져가고 있다. 이대호가 새해 40세 ...   \n",
       "2       “어쩌다 보니 새해맞이 서프라이즈가 됐네요.”2021년의 마지막 날 오후. 문경찬(...   \n",
       "3       이번 겨울 FA(프리에이전트) 시장에선 15명 중 14명이 소속팀을 찾았다. 이제 ...   \n",
       "4       \"KIA는 5강 이상 달성해야 하는 전력이다.\"2022년이 밝았다. KBO리그 10...   \n",
       "...                                                   ...   \n",
       "102477  “내가 감독 대행을 하는 동안에는 볼 수 없을 것이다.”박진만 삼성 감독이 대행 시...   \n",
       "102478  김경현 기자= 두산 베어스로부터 방출 통보를 받았던 최용제가 소속팀을 구하지 못하고...   \n",
       "102479  “스트레스를 받는 성격이 아니고 털고 넘어가는 스타일인데…”KIA 베테랑 내야수 김...   \n",
       "102480  롯데 좌완 김진욱(20)의 고심이 깊어지고 있다. 이병규 감독이 이끄는 질롱 코리아...   \n",
       "102481  키움 히어로즈 내부 FA 한현희(29)와 정찬헌(32)의 계약이 해를 넘길 가능성이...   \n",
       "\n",
       "                                          title_tokenized  \n",
       "0       [(KBO, NNP), (역대, NNG), (급, NNG), (외, NNB), (이...  \n",
       "1       [(', SS), (불혹, NNG), (의, JKG), (거인, NNP), (’, ...  \n",
       "2       [(', SS), (롯데, NNP), (맨, NNP), (', SS), (으로, J...  \n",
       "3       [(', SS), (유일한, NNP), (FA, SL), (미, NNP), (계약자...  \n",
       "4       [(\", SS), (KIA, NNP), (5, SN), (강, NNP), (이상, ...  \n",
       "...                                                   ...  \n",
       "102477  [(‘, SS), (위기의 남자, NNP), (’, SS), (김동엽, NNP), ...  \n",
       "102478  [(', SS), (21년, NNP), (대타, NNP), (타율, NNP), (....  \n",
       "102479  [(“, SS), (스트레스, NNP), (받, VV), (는, ETM), (성격,...  \n",
       "102480  [(', SS), (호주, NNP), (에서, JKB), (도, JX), (못, M...  \n",
       "102481  [(외부, NNG), (FA, SL), (시원, XR), (하, XSA), (게, ...  \n",
       "\n",
       "[102482 rows x 5 columns]"
      ]
     },
     "execution_count": 40,
     "metadata": {},
     "output_type": "execute_result"
    }
   ],
   "source": [
    "df"
   ]
  },
  {
   "cell_type": "code",
   "execution_count": 41,
   "id": "bb8b1f9e-90a0-4a4f-ada9-fc884166724e",
   "metadata": {},
   "outputs": [],
   "source": [
    "sampled_df = df.sample(1000)"
   ]
  },
  {
   "cell_type": "code",
   "execution_count": 42,
   "id": "e5a97c8e-504a-4853-9563-3d69eef31af7",
   "metadata": {},
   "outputs": [],
   "source": [
    "sampled_df[\"title_tokenized\"] = sampled_df[\"title\"].apply(lambda x: komoran.pos(x))"
   ]
  },
  {
   "cell_type": "code",
   "execution_count": 43,
   "id": "d69be615-5587-45ce-ab07-dbb970691853",
   "metadata": {},
   "outputs": [
    {
     "data": {
      "application/vnd.jupyter.widget-view+json": {
       "model_id": "3d7073d0c42c49ee8ebbb45aad986c3e",
       "version_major": 2,
       "version_minor": 0
      },
      "text/plain": [
       "  0%|          | 0/1000 [00:00<?, ?it/s]"
      ]
     },
     "metadata": {},
     "output_type": "display_data"
    }
   ],
   "source": [
    "from tqdm.notebook import tqdm\n",
    "\n",
    "tqdm.pandas()\n",
    "sampled_df[\"title_tokenized\"] = sampled_df[\"title\"].progress_apply(lambda x: komoran.pos(x))"
   ]
  },
  {
   "cell_type": "code",
   "execution_count": 44,
   "id": "7bc1e38f-2fed-4ffc-a88a-618c096dce18",
   "metadata": {},
   "outputs": [
    {
     "data": {
      "application/vnd.jupyter.widget-view+json": {
       "model_id": "c369c4988dd84b2088083f91edc31ae9",
       "version_major": 2,
       "version_minor": 0
      },
      "text/plain": [
       "  0%|          | 0/102482 [00:00<?, ?it/s]"
      ]
     },
     "metadata": {},
     "output_type": "display_data"
    },
    {
     "name": "stdout",
     "output_type": "stream",
     "text": [
      "java.lang.NullPointerException 연봉 10억\n",
      "\t\t\t\t\t\t\t\n",
      "기사입력 2022.04.21. 오후 01:15\n",
      "최종수정 2022.04.21. 오후 01:15\n",
      "기사원문\n",
      "\n",
      "\n",
      "java.lang.NullPointerException 놀린+로니\n",
      "\t\t\t\t\t\t\t\n",
      "기사입력 2022.06.13. 오후 05:25\n",
      "최종수정 2022.06.13. 오후 05:25\n",
      "기사원문\n",
      "\n",
      "\n",
      "java.lang.NullPointerException ‘1군 등록일\n",
      "\t\t\t\t\t\t\t\n",
      "기사입력 2022.06.30. 오전 06:13\n",
      "최종수정 2022.06.30. 오전 06:13\n",
      "기사원문\n",
      "\n",
      "\n"
     ]
    }
   ],
   "source": [
    "def tokenize(x):\n",
    "    try:\n",
    "        tokens = komoran.pos(x)\n",
    "        return tokens\n",
    "    except Exception as e:\n",
    "        print(e, x)\n",
    "        return None\n",
    "    \n",
    "df[\"title_tokenized\"] = df[\"title\"].progress_apply(lambda x: tokenize(x))"
   ]
  },
  {
   "cell_type": "code",
   "execution_count": 45,
   "id": "70f98c77-0c1a-455f-b35f-9e557e3d6bf8",
   "metadata": {},
   "outputs": [
    {
     "data": {
      "application/vnd.jupyter.widget-view+json": {
       "model_id": "a00f8a05537544f0ac87b1993c9d9be8",
       "version_major": 2,
       "version_minor": 0
      },
      "text/plain": [
       "  0%|          | 0/102482 [00:00<?, ?it/s]"
      ]
     },
     "metadata": {},
     "output_type": "display_data"
    },
    {
     "name": "stdout",
     "output_type": "stream",
     "text": [
      "'utf-8' codec can't decode byte 0xed in position 0: invalid continuation byte 🎧 아래 주소로 접속하시면 음성으로 기사를 들을 수 있습니다.[ https://news.sbs.co.kr/n/?id=N1006600737 ] [골룸] 야구에 산다 제72구 : '바람의 손자' 이정후 특집오늘 야구에 산다에서는 '바람의 손자' 이정후(키움 히어로즈)와 함께 합니다.이정후는 프로야구 2021시즌 타격왕 자리에 올랐습니다.지난해 이정후의 타율은 0.360으로, 역대 23세 이하 선수들 중 1위입니다.타고투저의 시대가 막을 내린 작년 리그 환경에서 세운 기록이기에 의미가 남다릅니다.이정후의 야구 인생을 오디오를 통해 들어보세요.녹음 시점: 1월 10일진행: 정우영 캐스터, 이성훈 기자 / 출연: 이정후\n"
     ]
    },
    {
     "ename": "KeyboardInterrupt",
     "evalue": "",
     "output_type": "error",
     "traceback": [
      "\u001b[0;31m---------------------------------------------------------------------------\u001b[0m",
      "\u001b[0;31mKeyboardInterrupt\u001b[0m                         Traceback (most recent call last)",
      "Cell \u001b[0;32mIn[45], line 1\u001b[0m\n\u001b[0;32m----> 1\u001b[0m df[\u001b[38;5;124m\"\u001b[39m\u001b[38;5;124mcontent_tokenized\u001b[39m\u001b[38;5;124m\"\u001b[39m] \u001b[38;5;241m=\u001b[39m \u001b[43mdf\u001b[49m\u001b[43m[\u001b[49m\u001b[38;5;124;43m\"\u001b[39;49m\u001b[38;5;124;43mcontent\u001b[39;49m\u001b[38;5;124;43m\"\u001b[39;49m\u001b[43m]\u001b[49m\u001b[38;5;241;43m.\u001b[39;49m\u001b[43mprogress_apply\u001b[49m\u001b[43m(\u001b[49m\u001b[38;5;28;43;01mlambda\u001b[39;49;00m\u001b[43m \u001b[49m\u001b[43mx\u001b[49m\u001b[43m:\u001b[49m\u001b[43m \u001b[49m\u001b[43mtokenize\u001b[49m\u001b[43m(\u001b[49m\u001b[43mx\u001b[49m\u001b[43m)\u001b[49m\u001b[43m)\u001b[49m\n",
      "File \u001b[0;32m~/miniconda3/lib/python3.10/site-packages/tqdm/std.py:814\u001b[0m, in \u001b[0;36mtqdm.pandas.<locals>.inner_generator.<locals>.inner\u001b[0;34m(df, func, *args, **kwargs)\u001b[0m\n\u001b[1;32m    811\u001b[0m \u001b[38;5;66;03m# Apply the provided function (in **kwargs)\u001b[39;00m\n\u001b[1;32m    812\u001b[0m \u001b[38;5;66;03m# on the df using our wrapper (which provides bar updating)\u001b[39;00m\n\u001b[1;32m    813\u001b[0m \u001b[38;5;28;01mtry\u001b[39;00m:\n\u001b[0;32m--> 814\u001b[0m     \u001b[38;5;28;01mreturn\u001b[39;00m \u001b[38;5;28;43mgetattr\u001b[39;49m\u001b[43m(\u001b[49m\u001b[43mdf\u001b[49m\u001b[43m,\u001b[49m\u001b[43m \u001b[49m\u001b[43mdf_function\u001b[49m\u001b[43m)\u001b[49m\u001b[43m(\u001b[49m\u001b[43mwrapper\u001b[49m\u001b[43m,\u001b[49m\u001b[43m \u001b[49m\u001b[38;5;241;43m*\u001b[39;49m\u001b[38;5;241;43m*\u001b[39;49m\u001b[43mkwargs\u001b[49m\u001b[43m)\u001b[49m\n\u001b[1;32m    815\u001b[0m \u001b[38;5;28;01mfinally\u001b[39;00m:\n\u001b[1;32m    816\u001b[0m     t\u001b[38;5;241m.\u001b[39mclose()\n",
      "File \u001b[0;32m~/miniconda3/lib/python3.10/site-packages/pandas/core/series.py:4771\u001b[0m, in \u001b[0;36mSeries.apply\u001b[0;34m(self, func, convert_dtype, args, **kwargs)\u001b[0m\n\u001b[1;32m   4661\u001b[0m \u001b[38;5;28;01mdef\u001b[39;00m \u001b[38;5;21mapply\u001b[39m(\n\u001b[1;32m   4662\u001b[0m     \u001b[38;5;28mself\u001b[39m,\n\u001b[1;32m   4663\u001b[0m     func: AggFuncType,\n\u001b[0;32m   (...)\u001b[0m\n\u001b[1;32m   4666\u001b[0m     \u001b[38;5;241m*\u001b[39m\u001b[38;5;241m*\u001b[39mkwargs,\n\u001b[1;32m   4667\u001b[0m ) \u001b[38;5;241m-\u001b[39m\u001b[38;5;241m>\u001b[39m DataFrame \u001b[38;5;241m|\u001b[39m Series:\n\u001b[1;32m   4668\u001b[0m     \u001b[38;5;124;03m\"\"\"\u001b[39;00m\n\u001b[1;32m   4669\u001b[0m \u001b[38;5;124;03m    Invoke function on values of Series.\u001b[39;00m\n\u001b[1;32m   4670\u001b[0m \n\u001b[0;32m   (...)\u001b[0m\n\u001b[1;32m   4769\u001b[0m \u001b[38;5;124;03m    dtype: float64\u001b[39;00m\n\u001b[1;32m   4770\u001b[0m \u001b[38;5;124;03m    \"\"\"\u001b[39;00m\n\u001b[0;32m-> 4771\u001b[0m     \u001b[38;5;28;01mreturn\u001b[39;00m \u001b[43mSeriesApply\u001b[49m\u001b[43m(\u001b[49m\u001b[38;5;28;43mself\u001b[39;49m\u001b[43m,\u001b[49m\u001b[43m \u001b[49m\u001b[43mfunc\u001b[49m\u001b[43m,\u001b[49m\u001b[43m \u001b[49m\u001b[43mconvert_dtype\u001b[49m\u001b[43m,\u001b[49m\u001b[43m \u001b[49m\u001b[43margs\u001b[49m\u001b[43m,\u001b[49m\u001b[43m \u001b[49m\u001b[43mkwargs\u001b[49m\u001b[43m)\u001b[49m\u001b[38;5;241;43m.\u001b[39;49m\u001b[43mapply\u001b[49m\u001b[43m(\u001b[49m\u001b[43m)\u001b[49m\n",
      "File \u001b[0;32m~/miniconda3/lib/python3.10/site-packages/pandas/core/apply.py:1105\u001b[0m, in \u001b[0;36mSeriesApply.apply\u001b[0;34m(self)\u001b[0m\n\u001b[1;32m   1102\u001b[0m     \u001b[38;5;28;01mreturn\u001b[39;00m \u001b[38;5;28mself\u001b[39m\u001b[38;5;241m.\u001b[39mapply_str()\n\u001b[1;32m   1104\u001b[0m \u001b[38;5;66;03m# self.f is Callable\u001b[39;00m\n\u001b[0;32m-> 1105\u001b[0m \u001b[38;5;28;01mreturn\u001b[39;00m \u001b[38;5;28;43mself\u001b[39;49m\u001b[38;5;241;43m.\u001b[39;49m\u001b[43mapply_standard\u001b[49m\u001b[43m(\u001b[49m\u001b[43m)\u001b[49m\n",
      "File \u001b[0;32m~/miniconda3/lib/python3.10/site-packages/pandas/core/apply.py:1156\u001b[0m, in \u001b[0;36mSeriesApply.apply_standard\u001b[0;34m(self)\u001b[0m\n\u001b[1;32m   1154\u001b[0m     \u001b[38;5;28;01melse\u001b[39;00m:\n\u001b[1;32m   1155\u001b[0m         values \u001b[38;5;241m=\u001b[39m obj\u001b[38;5;241m.\u001b[39mastype(\u001b[38;5;28mobject\u001b[39m)\u001b[38;5;241m.\u001b[39m_values\n\u001b[0;32m-> 1156\u001b[0m         mapped \u001b[38;5;241m=\u001b[39m \u001b[43mlib\u001b[49m\u001b[38;5;241;43m.\u001b[39;49m\u001b[43mmap_infer\u001b[49m\u001b[43m(\u001b[49m\n\u001b[1;32m   1157\u001b[0m \u001b[43m            \u001b[49m\u001b[43mvalues\u001b[49m\u001b[43m,\u001b[49m\n\u001b[1;32m   1158\u001b[0m \u001b[43m            \u001b[49m\u001b[43mf\u001b[49m\u001b[43m,\u001b[49m\n\u001b[1;32m   1159\u001b[0m \u001b[43m            \u001b[49m\u001b[43mconvert\u001b[49m\u001b[38;5;241;43m=\u001b[39;49m\u001b[38;5;28;43mself\u001b[39;49m\u001b[38;5;241;43m.\u001b[39;49m\u001b[43mconvert_dtype\u001b[49m\u001b[43m,\u001b[49m\n\u001b[1;32m   1160\u001b[0m \u001b[43m        \u001b[49m\u001b[43m)\u001b[49m\n\u001b[1;32m   1162\u001b[0m \u001b[38;5;28;01mif\u001b[39;00m \u001b[38;5;28mlen\u001b[39m(mapped) \u001b[38;5;129;01mand\u001b[39;00m \u001b[38;5;28misinstance\u001b[39m(mapped[\u001b[38;5;241m0\u001b[39m], ABCSeries):\n\u001b[1;32m   1163\u001b[0m     \u001b[38;5;66;03m# GH#43986 Need to do list(mapped) in order to get treated as nested\u001b[39;00m\n\u001b[1;32m   1164\u001b[0m     \u001b[38;5;66;03m#  See also GH#25959 regarding EA support\u001b[39;00m\n\u001b[1;32m   1165\u001b[0m     \u001b[38;5;28;01mreturn\u001b[39;00m obj\u001b[38;5;241m.\u001b[39m_constructor_expanddim(\u001b[38;5;28mlist\u001b[39m(mapped), index\u001b[38;5;241m=\u001b[39mobj\u001b[38;5;241m.\u001b[39mindex)\n",
      "File \u001b[0;32m~/miniconda3/lib/python3.10/site-packages/pandas/_libs/lib.pyx:2918\u001b[0m, in \u001b[0;36mpandas._libs.lib.map_infer\u001b[0;34m()\u001b[0m\n",
      "File \u001b[0;32m~/miniconda3/lib/python3.10/site-packages/tqdm/std.py:809\u001b[0m, in \u001b[0;36mtqdm.pandas.<locals>.inner_generator.<locals>.inner.<locals>.wrapper\u001b[0;34m(*args, **kwargs)\u001b[0m\n\u001b[1;32m    803\u001b[0m \u001b[38;5;28;01mdef\u001b[39;00m \u001b[38;5;21mwrapper\u001b[39m(\u001b[38;5;241m*\u001b[39margs, \u001b[38;5;241m*\u001b[39m\u001b[38;5;241m*\u001b[39mkwargs):\n\u001b[1;32m    804\u001b[0m     \u001b[38;5;66;03m# update tbar correctly\u001b[39;00m\n\u001b[1;32m    805\u001b[0m     \u001b[38;5;66;03m# it seems `pandas apply` calls `func` twice\u001b[39;00m\n\u001b[1;32m    806\u001b[0m     \u001b[38;5;66;03m# on the first column/row to decide whether it can\u001b[39;00m\n\u001b[1;32m    807\u001b[0m     \u001b[38;5;66;03m# take a fast or slow code path; so stop when t.total==t.n\u001b[39;00m\n\u001b[1;32m    808\u001b[0m     t\u001b[38;5;241m.\u001b[39mupdate(n\u001b[38;5;241m=\u001b[39m\u001b[38;5;241m1\u001b[39m \u001b[38;5;28;01mif\u001b[39;00m \u001b[38;5;129;01mnot\u001b[39;00m t\u001b[38;5;241m.\u001b[39mtotal \u001b[38;5;129;01mor\u001b[39;00m t\u001b[38;5;241m.\u001b[39mn \u001b[38;5;241m<\u001b[39m t\u001b[38;5;241m.\u001b[39mtotal \u001b[38;5;28;01melse\u001b[39;00m \u001b[38;5;241m0\u001b[39m)\n\u001b[0;32m--> 809\u001b[0m     \u001b[38;5;28;01mreturn\u001b[39;00m \u001b[43mfunc\u001b[49m\u001b[43m(\u001b[49m\u001b[38;5;241;43m*\u001b[39;49m\u001b[43margs\u001b[49m\u001b[43m,\u001b[49m\u001b[43m \u001b[49m\u001b[38;5;241;43m*\u001b[39;49m\u001b[38;5;241;43m*\u001b[39;49m\u001b[43mkwargs\u001b[49m\u001b[43m)\u001b[49m\n",
      "Cell \u001b[0;32mIn[45], line 1\u001b[0m, in \u001b[0;36m<lambda>\u001b[0;34m(x)\u001b[0m\n\u001b[0;32m----> 1\u001b[0m df[\u001b[38;5;124m\"\u001b[39m\u001b[38;5;124mcontent_tokenized\u001b[39m\u001b[38;5;124m\"\u001b[39m] \u001b[38;5;241m=\u001b[39m df[\u001b[38;5;124m\"\u001b[39m\u001b[38;5;124mcontent\u001b[39m\u001b[38;5;124m\"\u001b[39m]\u001b[38;5;241m.\u001b[39mprogress_apply(\u001b[38;5;28;01mlambda\u001b[39;00m x: \u001b[43mtokenize\u001b[49m\u001b[43m(\u001b[49m\u001b[43mx\u001b[49m\u001b[43m)\u001b[49m)\n",
      "Cell \u001b[0;32mIn[44], line 3\u001b[0m, in \u001b[0;36mtokenize\u001b[0;34m(x)\u001b[0m\n\u001b[1;32m      1\u001b[0m \u001b[38;5;28;01mdef\u001b[39;00m \u001b[38;5;21mtokenize\u001b[39m(x):\n\u001b[1;32m      2\u001b[0m     \u001b[38;5;28;01mtry\u001b[39;00m:\n\u001b[0;32m----> 3\u001b[0m         tokens \u001b[38;5;241m=\u001b[39m \u001b[43mkomoran\u001b[49m\u001b[38;5;241;43m.\u001b[39;49m\u001b[43mpos\u001b[49m\u001b[43m(\u001b[49m\u001b[43mx\u001b[49m\u001b[43m)\u001b[49m\n\u001b[1;32m      4\u001b[0m         \u001b[38;5;28;01mreturn\u001b[39;00m tokens\n\u001b[1;32m      5\u001b[0m     \u001b[38;5;28;01mexcept\u001b[39;00m \u001b[38;5;167;01mException\u001b[39;00m \u001b[38;5;28;01mas\u001b[39;00m e:\n",
      "File \u001b[0;32m~/miniconda3/lib/python3.10/site-packages/konlpy/tag/_komoran.py:92\u001b[0m, in \u001b[0;36mKomoran.pos\u001b[0;34m(self, phrase, flatten, join)\u001b[0m\n\u001b[1;32m     90\u001b[0m \u001b[38;5;28;01mif\u001b[39;00m \u001b[38;5;129;01mnot\u001b[39;00m sentence:\n\u001b[1;32m     91\u001b[0m     \u001b[38;5;28;01mcontinue\u001b[39;00m\n\u001b[0;32m---> 92\u001b[0m result \u001b[38;5;241m=\u001b[39m \u001b[38;5;28;43mself\u001b[39;49m\u001b[38;5;241;43m.\u001b[39;49m\u001b[43mjki\u001b[49m\u001b[38;5;241;43m.\u001b[39;49m\u001b[43manalyze\u001b[49m\u001b[43m(\u001b[49m\u001b[43msentence\u001b[49m\u001b[43m)\u001b[49m\u001b[38;5;241m.\u001b[39mgetTokenList()\n\u001b[1;32m     93\u001b[0m result \u001b[38;5;241m=\u001b[39m [(token\u001b[38;5;241m.\u001b[39mgetMorph(), token\u001b[38;5;241m.\u001b[39mgetPos()) \u001b[38;5;28;01mfor\u001b[39;00m token \u001b[38;5;129;01min\u001b[39;00m result]\n\u001b[1;32m     95\u001b[0m \u001b[38;5;28;01mif\u001b[39;00m join:\n",
      "\u001b[0;31mKeyboardInterrupt\u001b[0m: "
     ]
    }
   ],
   "source": [
    "df[\"content_tokenized\"] = df[\"content\"].progress_apply(lambda x: tokenize(x))"
   ]
  },
  {
   "cell_type": "markdown",
   "id": "e059a655-a00c-4826-8e5e-5043b599ec64",
   "metadata": {},
   "source": [
    "1000개를 토큰화하는데 13초가 걸렸습니다. 전체 기사는 10만개이므로 모두 토큰화 하는데에는 13 * 100 / 60 = 21분 가량이 소요됩니다. 물론 기다릴 수 있는 시간입니다만 아쉽습니다. 여러개의 CPU를 활용해서 동시에 토큰화 작업을 수행하면 전체 소요 시간이 몇배는 단축되지 않을까요? 다음 챕터에서는 python multiprocessing을 이용해서 멀티 코어로 빠르게 토큰화 작업을 수행하는 방법을 알아보겠습니다."
   ]
  },
  {
   "cell_type": "markdown",
   "id": "9cf3cf25-631e-42b3-a97f-26546f17b10c",
   "metadata": {},
   "source": [
    "## 정리\n",
    "이번 챕터에서는 python에서 자연어를 처리하기 위한 첫 스텝인 토큰화에 대해서 알아보았습니다. 그리고 토큰화 방식 중에 하나인 형태소 기반의 토큰화를 알아보았고, konlpy Komoran을 이용해서 토큰화를 해보았습니다.\n",
    "\n",
    "한국어 형태소 분석기에는 Komoran만 있는 것은 아닙니다. 속도 측면에서는 Mecab, 정확도 측면에서는 Khaiii라는 프로젝트가 우수합니다만, 각각 설치 및 사용자 사전 등록이 까다로워서 수업 자료에 사용하지는 않았습니다. 실제 프로젝트를 진행할 때 Komoran의 성능이 아쉽다면 선택해볼만 합니다.\n",
    "\n",
    "다음 챕터에서는 멀티 프로세스를 이용해서 대량의 텍스트를 빠르게 토큰화 하는 방법을 알아보겠습니다."
   ]
  },
  {
   "cell_type": "code",
   "execution_count": null,
   "id": "5e0cd1bc-bbd9-4f60-8a4f-ca3fd1c08de6",
   "metadata": {},
   "outputs": [],
   "source": []
  }
 ],
 "metadata": {
  "kernelspec": {
   "display_name": "Python 3 (ipykernel)",
   "language": "python",
   "name": "python3"
  },
  "language_info": {
   "codemirror_mode": {
    "name": "ipython",
    "version": 3
   },
   "file_extension": ".py",
   "mimetype": "text/x-python",
   "name": "python",
   "nbconvert_exporter": "python",
   "pygments_lexer": "ipython3",
   "version": "3.10.8"
  }
 },
 "nbformat": 4,
 "nbformat_minor": 5
}
