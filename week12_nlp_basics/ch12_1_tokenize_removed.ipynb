{
 "cells": [
  {
   "cell_type": "markdown",
   "id": "4bf36e4d-ac8e-4c0c-849b-72348c00c26a",
   "metadata": {},
   "source": [
    "# ch 1. Tokenize\n",
    "자연어 처리에서 텍스트 데이터를 corpus(코퍼스, 말뭉치)라고 부릅니다. 크롤링 시간에 수집했던 뉴스 기사들도 코퍼스라고 부를 수 있습니다. 주어진 코퍼스(corpus)에서 토큰(token)이라 불리는 단위로 나누는 작업을 토큰화(tokenization)라고 합니다. \n",
    "\n",
    "토큰은 컴퓨터가 텍스트를 처리하는 최소 의미 단위가 됩니다. 토큰화에는 여러 기법들이 있습니다. 딥러닝 등장 이전의 NLP에서는 주로 언어학 관점에서 정의한 최소 의미 단위인 형태소를 기준으로 토큰화를 했습니다. 하지만 최근 딥러닝 모델들은 데이터로부터 자연스럽게 토크나이저를 학습하는 subword 토큰화를 사용하며, 딥러닝을 이용한 NLP 시간에 배워보겠습니다.\n",
    "\n",
    "형태소 단위로 문장을 토큰화 해주는 기술을 형태소 분석기라고 부릅니다. 형태소 분석기는 언어학적으로 해석이 가능한 장점이 있습니다만, 고유명사나 신조어 대응이 어려운 한계가 있습니다. 이번 챕터에서는 기본적인 토큰화 기법들과 형태소 분석기를 실습해보겠습니다."
   ]
  },
  {
   "cell_type": "markdown",
   "id": "72a16dc3-6cb4-4e9e-9164-c57f1c4a018d",
   "metadata": {},
   "source": [
    "## 공백 기준의 토큰화\n",
    "먼저 생각할 수 있는 가장 단순한 토큰화 기법은 공백을 기준으로 잘라내는 것입니다."
   ]
  },
  {
   "cell_type": "code",
   "execution_count": null,
   "id": "5dfdc189-69f8-46ab-b0e2-d510f75edfef",
   "metadata": {},
   "outputs": [],
   "source": [
    "sentence = '롯데 자이언츠의 거인 이대호(40)의 꿈이 무너져가고 있다. 이대호가 새해 40세 불혹(不惑)의 나이가 됐다. 불혹은 주위에서 어떤 일이 벌어져도 중심을 잃지 않고 자신만의 원칙을 지켜 나갈 수 있는 경지에 오르는 시기다. 이번 스토브리그에 롯데 구단에 걱정스러운 일이 벌어지고 있다. 그런데 이대호는 어떤 대외 활동도 하지 않고 침묵하며 조용히 개인 훈련에 집중하는 모습이다. 불혹이 돼서인가? 지난 2017년 1월24일이다. 벌써 5년의 시간이 흘렀다. 롯데의 프랜차이즈 스타 이대호가 일본프로야구 미국 메이저리그를 거쳐 고향팀 롯데로 돌아왔다. 그는 ‘조선의 4번타자’답게 단숨에 최고가 됐다. 삼성에서 FA가 된 최형우가 고향팀 KIA 타이거즈와 4년 계약을 하면서 기록한 총액 100억 원을 훨씬 넘어 150억 원에 롯데와 계약했다. 당시 인터뷰에서 이대호는 ‘메이저리그에서 열심히 노력해 꿈을 이루었다. 남은 것은 롯데로 돌아와 함께 우승을 하는 것이다. 마지막 소원이 롯데의 우승’이라고 밝혔다. 2001년 롯데에 2차 1순위로 입단해 2011시즌까지 11시즌 동안 이대호는 무려 225개의 홈런을 쏘아 올렸다. 그리고 2008~2011 시즌까지 4년 연속 롯데를 포스트시즌으로 이끌었으나 한국시리즈 우승을 못하고 일본 프로야구로 떠났다.'"
   ]
  },
  {
   "cell_type": "code",
   "execution_count": 1,
   "id": "877bd2cf-1db8-47b7-9109-9dd58573a778",
   "metadata": {},
   "outputs": [],
   "source": [
    "import pandas as pd"
   ]
  },
  {
   "cell_type": "code",
   "execution_count": 2,
   "id": "28711366-7b66-4900-b72b-4c8898454cdb",
   "metadata": {},
   "outputs": [],
   "source": [
    "df = pd.read_csv(\"./data/baseball_preprocessed.csv\")"
   ]
  },
  {
   "cell_type": "code",
   "execution_count": 3,
   "id": "b583ab84-309d-47ea-a5f5-d5c928b71e44",
   "metadata": {},
   "outputs": [
    {
     "data": {
      "text/html": [
       "<div>\n",
       "<style scoped>\n",
       "    .dataframe tbody tr th:only-of-type {\n",
       "        vertical-align: middle;\n",
       "    }\n",
       "\n",
       "    .dataframe tbody tr th {\n",
       "        vertical-align: top;\n",
       "    }\n",
       "\n",
       "    .dataframe thead th {\n",
       "        text-align: right;\n",
       "    }\n",
       "</style>\n",
       "<table border=\"1\" class=\"dataframe\">\n",
       "  <thead>\n",
       "    <tr style=\"text-align: right;\">\n",
       "      <th></th>\n",
       "      <th>url</th>\n",
       "      <th>datetime_str</th>\n",
       "      <th>title</th>\n",
       "      <th>content</th>\n",
       "    </tr>\n",
       "  </thead>\n",
       "  <tbody>\n",
       "    <tr>\n",
       "      <th>0</th>\n",
       "      <td>https://sports.news.naver.com/news?oid=117&amp;aid...</td>\n",
       "      <td>20220101</td>\n",
       "      <td>KBO 역대급 외인타자, 끝내 10개 구단 외면 받고 사라지나</td>\n",
       "      <td>KBO 리그 10개 구단의 외국인선수 구성도 막바지를 향하고 있다. 이미 대부분 구...</td>\n",
       "    </tr>\n",
       "    <tr>\n",
       "      <th>1</th>\n",
       "      <td>https://sports.news.naver.com/news?oid=117&amp;aid...</td>\n",
       "      <td>20220101</td>\n",
       "      <td>'불혹의 거인’ 침묵이 심상찮다...'꿈'이 영원히 사라지고 있는데...</td>\n",
       "      <td>롯데 자이언츠의 거인 이대호(40)의 꿈이 무너져가고 있다. 이대호가 새해 40세 ...</td>\n",
       "    </tr>\n",
       "    <tr>\n",
       "      <th>2</th>\n",
       "      <td>https://sports.news.naver.com/news?oid=410&amp;aid...</td>\n",
       "      <td>20220101</td>\n",
       "      <td>'롯데맨'으로 새해 맞은 문경찬 \"불펜 경쟁서 살아남겠다\" [MK인터뷰]</td>\n",
       "      <td>“어쩌다 보니 새해맞이 서프라이즈가 됐네요.”2021년의 마지막 날 오후. 문경찬(...</td>\n",
       "    </tr>\n",
       "    <tr>\n",
       "      <th>3</th>\n",
       "      <td>https://sports.news.naver.com/news?oid=108&amp;aid...</td>\n",
       "      <td>20220101</td>\n",
       "      <td>'유일한 FA 미계약자' 정훈 결국 해 넘겼다, 롯데 \"이견 좁혀가는 중\"</td>\n",
       "      <td>이번 겨울 FA(프리에이전트) 시장에선 15명 중 14명이 소속팀을 찾았다. 이제 ...</td>\n",
       "    </tr>\n",
       "    <tr>\n",
       "      <th>4</th>\n",
       "      <td>https://sports.news.naver.com/news?oid=117&amp;aid...</td>\n",
       "      <td>20220101</td>\n",
       "      <td>\"KIA 5강 이상, SSG 알찬 보강, NC 구창모 오면…\" 허구연 위원 픽, 2...</td>\n",
       "      <td>\"KIA는 5강 이상 달성해야 하는 전력이다.\"2022년이 밝았다. KBO리그 10...</td>\n",
       "    </tr>\n",
       "    <tr>\n",
       "      <th>...</th>\n",
       "      <td>...</td>\n",
       "      <td>...</td>\n",
       "      <td>...</td>\n",
       "      <td>...</td>\n",
       "    </tr>\n",
       "    <tr>\n",
       "      <th>102477</th>\n",
       "      <td>https://sports.news.naver.com/news?oid=410&amp;aid...</td>\n",
       "      <td>20221231</td>\n",
       "      <td>‘위기의 남자’ 김동엽, 박진만 감독은 대행 시절 “쓰지 않겠다”고 했다</td>\n",
       "      <td>“내가 감독 대행을 하는 동안에는 볼 수 없을 것이다.”박진만 삼성 감독이 대행 시...</td>\n",
       "    </tr>\n",
       "    <tr>\n",
       "      <th>102478</th>\n",
       "      <td>https://sports.news.naver.com/news?oid=139&amp;aid...</td>\n",
       "      <td>20221231</td>\n",
       "      <td>'21년 대타 타율 .371' 결국 은퇴를 선언한 前 두산 포수 최용제</td>\n",
       "      <td>김경현 기자= 두산 베어스로부터 방출 통보를 받았던 최용제가 소속팀을 구하지 못하고...</td>\n",
       "    </tr>\n",
       "    <tr>\n",
       "      <th>102479</th>\n",
       "      <td>https://sports.news.naver.com/news?oid=117&amp;aid...</td>\n",
       "      <td>20221231</td>\n",
       "      <td>“스트레스 받는 성격 아닌데…” KIA 캡틴의 진심, 이적생 3루수에게 고맙다</td>\n",
       "      <td>“스트레스를 받는 성격이 아니고 털고 넘어가는 스타일인데…”KIA 베테랑 내야수 김...</td>\n",
       "    </tr>\n",
       "    <tr>\n",
       "      <th>102480</th>\n",
       "      <td>https://sports.news.naver.com/news?oid=076&amp;aid...</td>\n",
       "      <td>20221231</td>\n",
       "      <td>'호주에서도 못 잡으면…' 드래프트 전체 1순위 국대 출신 좌완 파이어볼러 깊어지는 고민</td>\n",
       "      <td>롯데 좌완 김진욱(20)의 고심이 깊어지고 있다. 이병규 감독이 이끄는 질롱 코리아...</td>\n",
       "    </tr>\n",
       "    <tr>\n",
       "      <th>102481</th>\n",
       "      <td>https://sports.news.naver.com/news?oid=109&amp;aid...</td>\n",
       "      <td>20221231</td>\n",
       "      <td>외부 FA 시원하게 지른 키움, 내부 FA 한현희·정찬헌 계약 지지부진한 이유는?</td>\n",
       "      <td>키움 히어로즈 내부 FA 한현희(29)와 정찬헌(32)의 계약이 해를 넘길 가능성이...</td>\n",
       "    </tr>\n",
       "  </tbody>\n",
       "</table>\n",
       "<p>102482 rows × 4 columns</p>\n",
       "</div>"
      ],
      "text/plain": [
       "                                                      url  datetime_str  \\\n",
       "0       https://sports.news.naver.com/news?oid=117&aid...      20220101   \n",
       "1       https://sports.news.naver.com/news?oid=117&aid...      20220101   \n",
       "2       https://sports.news.naver.com/news?oid=410&aid...      20220101   \n",
       "3       https://sports.news.naver.com/news?oid=108&aid...      20220101   \n",
       "4       https://sports.news.naver.com/news?oid=117&aid...      20220101   \n",
       "...                                                   ...           ...   \n",
       "102477  https://sports.news.naver.com/news?oid=410&aid...      20221231   \n",
       "102478  https://sports.news.naver.com/news?oid=139&aid...      20221231   \n",
       "102479  https://sports.news.naver.com/news?oid=117&aid...      20221231   \n",
       "102480  https://sports.news.naver.com/news?oid=076&aid...      20221231   \n",
       "102481  https://sports.news.naver.com/news?oid=109&aid...      20221231   \n",
       "\n",
       "                                                    title  \\\n",
       "0                      KBO 역대급 외인타자, 끝내 10개 구단 외면 받고 사라지나   \n",
       "1                '불혹의 거인’ 침묵이 심상찮다...'꿈'이 영원히 사라지고 있는데...   \n",
       "2                '롯데맨'으로 새해 맞은 문경찬 \"불펜 경쟁서 살아남겠다\" [MK인터뷰]   \n",
       "3               '유일한 FA 미계약자' 정훈 결국 해 넘겼다, 롯데 \"이견 좁혀가는 중\"   \n",
       "4       \"KIA 5강 이상, SSG 알찬 보강, NC 구창모 오면…\" 허구연 위원 픽, 2...   \n",
       "...                                                   ...   \n",
       "102477           ‘위기의 남자’ 김동엽, 박진만 감독은 대행 시절 “쓰지 않겠다”고 했다   \n",
       "102478            '21년 대타 타율 .371' 결국 은퇴를 선언한 前 두산 포수 최용제   \n",
       "102479        “스트레스 받는 성격 아닌데…” KIA 캡틴의 진심, 이적생 3루수에게 고맙다   \n",
       "102480  '호주에서도 못 잡으면…' 드래프트 전체 1순위 국대 출신 좌완 파이어볼러 깊어지는 고민   \n",
       "102481      외부 FA 시원하게 지른 키움, 내부 FA 한현희·정찬헌 계약 지지부진한 이유는?   \n",
       "\n",
       "                                                  content  \n",
       "0       KBO 리그 10개 구단의 외국인선수 구성도 막바지를 향하고 있다. 이미 대부분 구...  \n",
       "1       롯데 자이언츠의 거인 이대호(40)의 꿈이 무너져가고 있다. 이대호가 새해 40세 ...  \n",
       "2       “어쩌다 보니 새해맞이 서프라이즈가 됐네요.”2021년의 마지막 날 오후. 문경찬(...  \n",
       "3       이번 겨울 FA(프리에이전트) 시장에선 15명 중 14명이 소속팀을 찾았다. 이제 ...  \n",
       "4       \"KIA는 5강 이상 달성해야 하는 전력이다.\"2022년이 밝았다. KBO리그 10...  \n",
       "...                                                   ...  \n",
       "102477  “내가 감독 대행을 하는 동안에는 볼 수 없을 것이다.”박진만 삼성 감독이 대행 시...  \n",
       "102478  김경현 기자= 두산 베어스로부터 방출 통보를 받았던 최용제가 소속팀을 구하지 못하고...  \n",
       "102479  “스트레스를 받는 성격이 아니고 털고 넘어가는 스타일인데…”KIA 베테랑 내야수 김...  \n",
       "102480  롯데 좌완 김진욱(20)의 고심이 깊어지고 있다. 이병규 감독이 이끄는 질롱 코리아...  \n",
       "102481  키움 히어로즈 내부 FA 한현희(29)와 정찬헌(32)의 계약이 해를 넘길 가능성이...  \n",
       "\n",
       "[102482 rows x 4 columns]"
      ]
     },
     "execution_count": 3,
     "metadata": {},
     "output_type": "execute_result"
    }
   ],
   "source": [
    "df"
   ]
  },
  {
   "cell_type": "markdown",
   "id": "c83b0328-292d-414b-9a9e-c383419efc5b",
   "metadata": {},
   "source": [
    "이렇게 공백을 기준으로 토큰을 만들게 되면 한국어의 특성상 조사를 떼어낼 수가 없습니다. 즉, \"이대호가\", \"이대호는\"과 같이 실제로는 비슷한 의미를 갖는 토큰을 전혀 다른 토큰으로 인식하게 됩니다. 토큰화가 제대로 이루어지지 않으면 제 아무리 고도화 된 AI 모델을 학습시킨다 하더라도 정확도를 기대할 수 없습니다.\n",
    "\n",
    "공백을 기준으로 잡는 것 외에도 온 점이나 쉼표를 기준으로 토큰화를 하는 기법들이 있지만, 마찬가지로 낮은 정확도로 인해 사용하지 않습니다."
   ]
  },
  {
   "cell_type": "markdown",
   "id": "46c1905d-c9b8-46a4-ad93-f28da0c8b410",
   "metadata": {},
   "source": [
    "## 형태소 분석기를 이용한 토큰화\n",
    "다음으로 형태소 분석기를 이용한 토큰화를 해보겠습니다. 가장 쉽게 사용할 수 있는 konlpy의 komoran을 사용하여 실습을 진행해보겠습니다. konlpy는 한국어 자연어 처리 라이브러리이고, komoran은 konlpy를 통해 이용할 수 있는 형태소 분석기 중 하나입니다."
   ]
  },
  {
   "cell_type": "code",
   "execution_count": null,
   "id": "515d95f0-c100-456a-a6c6-59a60ade0eea",
   "metadata": {},
   "outputs": [],
   "source": []
  },
  {
   "cell_type": "markdown",
   "id": "4fdf5895-f091-4152-992e-e5e1a421b510",
   "metadata": {},
   "source": [
    "형태소 분석기를 이용하면 각 토큰별로 품사와 함께 토큰화 된 텍스트를 가져올 수 있다. 또한 \"롯데 자이언츠\"처럼 중간에 공백이 삽입된 명사도 고유명사로 잘 구분하는 모습을 보여준다. \"이대호가\", \"이대호는\"과 같은 단어도 \"이대호\", \"가\", \"이대호\", \"는\"으로 분리해주어 의미 단위로 토큰을 잘 분리하는 모습을 보여준다.\n",
    "\n",
    "하지만 형태소 분석기는 신조어나 고유 명사에 상당히 취약한 모습을 보이기도 한다. "
   ]
  },
  {
   "cell_type": "code",
   "execution_count": null,
   "id": "eda636c2-6c24-4972-abab-62a767456abd",
   "metadata": {},
   "outputs": [],
   "source": []
  },
  {
   "cell_type": "markdown",
   "id": "3ccb5586-69a2-4d83-bb32-05460b0fdc81",
   "metadata": {},
   "source": [
    "\"SSG\", \"랜더스\", \"안우진\" 등의 고유 명사를 NNP로 잡아내지 못하는 모습을 보입니다. 이러한 형태소 분석기의 한계점은 고유 명사를 직접 지정하는 사용자 사전 기능으로 극복할 수 있습니다."
   ]
  },
  {
   "cell_type": "code",
   "execution_count": null,
   "id": "fd391206-7021-4863-a6e2-57680d7f0e36",
   "metadata": {},
   "outputs": [],
   "source": []
  },
  {
   "cell_type": "markdown",
   "id": "7a349110-e507-4a92-86c0-7608ec3c6f89",
   "metadata": {},
   "source": [
    "## 전체 데이터 셋 토크나이즈\n",
    "\n",
    "웹 크롤링 시간에 정규 표현식을 이용해서 전처리 했었던 데이터 셋을 tokenize 해보겠습니다. 한번 전체 데이터 셋 중 1000개만 토큰화하여 결과를 CSV 파일에 써보겠습니다."
   ]
  },
  {
   "cell_type": "code",
   "execution_count": null,
   "id": "71c24fda-8de8-4166-ab04-249aa6d3346d",
   "metadata": {},
   "outputs": [],
   "source": []
  },
  {
   "cell_type": "markdown",
   "id": "e059a655-a00c-4826-8e5e-5043b599ec64",
   "metadata": {},
   "source": [
    "1000개를 토큰화하는데 13초가 걸렸습니다. 전체 기사는 10만개이므로 모두 토큰화 하는데에는 13 * 100 / 60 = 21분 가량이 소요됩니다. 물론 기다릴 수 있는 시간입니다만 아쉽습니다. 여러개의 CPU를 활용해서 동시에 토큰화 작업을 수행하면 전체 소요 시간이 몇배는 단축되지 않을까요? 다음 챕터에서는 python multiprocessing을 이용해서 멀티 코어로 빠르게 토큰화 작업을 수행하는 방법을 알아보겠습니다."
   ]
  },
  {
   "cell_type": "markdown",
   "id": "9cf3cf25-631e-42b3-a97f-26546f17b10c",
   "metadata": {},
   "source": [
    "## 정리\n",
    "이번 챕터에서는 python에서 자연어를 처리하기 위한 첫 스텝인 토큰화에 대해서 알아보았습니다. 그리고 토큰화 방식 중에 하나인 형태소 기반의 토큰화를 알아보았고, konlpy Komoran을 이용해서 토큰화를 해보았습니다.\n",
    "\n",
    "한국어 형태소 분석기에는 Komoran만 있는 것은 아닙니다. 속도 측면에서는 Mecab, 정확도 측면에서는 Khaiii라는 프로젝트가 우수합니다만, 각각 설치 및 사용자 사전 등록이 까다로워서 수업 자료에 사용하지는 않았습니다. 실제 프로젝트를 진행할 때 Komoran의 성능이 아쉽다면 선택해볼만 합니다.\n",
    "\n",
    "다음 챕터에서는 멀티 프로세스를 이용해서 대량의 텍스트를 빠르게 토큰화 하는 방법을 알아보겠습니다."
   ]
  },
  {
   "cell_type": "code",
   "execution_count": null,
   "id": "5e0cd1bc-bbd9-4f60-8a4f-ca3fd1c08de6",
   "metadata": {},
   "outputs": [],
   "source": []
  }
 ],
 "metadata": {
  "kernelspec": {
   "display_name": "Python 3 (ipykernel)",
   "language": "python",
   "name": "python3"
  },
  "language_info": {
   "codemirror_mode": {
    "name": "ipython",
    "version": 3
   },
   "file_extension": ".py",
   "mimetype": "text/x-python",
   "name": "python",
   "nbconvert_exporter": "python",
   "pygments_lexer": "ipython3",
   "version": "3.10.8"
  }
 },
 "nbformat": 4,
 "nbformat_minor": 5
}
