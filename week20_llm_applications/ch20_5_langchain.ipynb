{
 "cells": [
  {
   "cell_type": "markdown",
   "id": "7074b3fc-4f9e-40df-9b8c-26f8324f5b3b",
   "metadata": {},
   "source": [
    "# ch 20_3 langchain\n",
    "\n",
    "langchain은 LLM을 이용하여 애플리케이션을 만들 때 필요한 여러 기능들을 구현하여 제공하는 라이브러리입니다. 물론, langchain이 제공하는 기능들이 구현이 몹시 어려운 것들은 아니지만, 이를 적절히 활용하면 시간을 절약할 수 있습니다. langchain이 제공하는 주요 기능은 아래와 같습니다.\n",
    "\n",
    "- 대화 맥락 유지\n",
    "- 프롬프트 템플릿 관리\n",
    "- 검색 결과 등 배경 지식 추가\n",
    "\n",
    "이번 챕터에서는 langchain이 제공하는 기능들 중 대화 맥락 유지 기능을 사용하여 단순한 채팅을 구현해보겠습니다."
   ]
  },
  {
   "cell_type": "markdown",
   "id": "88f1e78f-c9dc-44e3-b986-a9ccba4fb6cd",
   "metadata": {},
   "source": [
    "## 사전 준비"
   ]
  },
  {
   "cell_type": "markdown",
   "id": "1c6d6ab4-012f-4eb5-8a85-3e8a23c34e1e",
   "metadata": {},
   "source": [
    "### openAI 라이브러리 설치 및 토큰 설정"
   ]
  },
  {
   "cell_type": "code",
   "execution_count": 4,
   "id": "49a8e69a-e62d-484c-945e-7895d0291460",
   "metadata": {},
   "outputs": [],
   "source": [
    "import openai\n",
    "import os\n",
    "\n",
    "openai_token = os.environ.get(\"OPENAI_TOKEN\")\n",
    "openai.api_key = openai_token"
   ]
  },
  {
   "cell_type": "markdown",
   "id": "dcfd6084-a227-4d76-98ee-805c505d0069",
   "metadata": {},
   "source": [
    "### langchain 설치 및 openai 연결"
   ]
  },
  {
   "cell_type": "code",
   "execution_count": 3,
   "id": "05fb385f-3b8a-4268-be10-146535ce82cd",
   "metadata": {},
   "outputs": [
    {
     "name": "stdout",
     "output_type": "stream",
     "text": [
      "Requirement already satisfied: langchain in /Users/user/miniconda3/lib/python3.10/site-packages (0.0.158)\n",
      "Requirement already satisfied: PyYAML>=5.4.1 in /Users/user/miniconda3/lib/python3.10/site-packages (from langchain) (6.0)\n",
      "Requirement already satisfied: SQLAlchemy<3,>=1.3 in /Users/user/miniconda3/lib/python3.10/site-packages (from langchain) (2.0.12)\n",
      "Requirement already satisfied: aiohttp<4.0.0,>=3.8.3 in /Users/user/miniconda3/lib/python3.10/site-packages (from langchain) (3.8.3)\n",
      "Requirement already satisfied: async-timeout<5.0.0,>=4.0.0 in /Users/user/miniconda3/lib/python3.10/site-packages (from langchain) (4.0.2)\n",
      "Requirement already satisfied: dataclasses-json<0.6.0,>=0.5.7 in /Users/user/miniconda3/lib/python3.10/site-packages (from langchain) (0.5.7)\n",
      "Requirement already satisfied: numexpr<3.0.0,>=2.8.4 in /Users/user/miniconda3/lib/python3.10/site-packages (from langchain) (2.8.4)\n",
      "Requirement already satisfied: numpy<2,>=1 in /Users/user/miniconda3/lib/python3.10/site-packages (from langchain) (1.25.0)\n",
      "Requirement already satisfied: openapi-schema-pydantic<2.0,>=1.2 in /Users/user/miniconda3/lib/python3.10/site-packages (from langchain) (1.2.4)\n",
      "Requirement already satisfied: pydantic<2,>=1 in /Users/user/miniconda3/lib/python3.10/site-packages (from langchain) (1.10.4)\n",
      "Requirement already satisfied: requests<3,>=2 in /Users/user/miniconda3/lib/python3.10/site-packages (from langchain) (2.28.1)\n",
      "Requirement already satisfied: tenacity<9.0.0,>=8.1.0 in /Users/user/miniconda3/lib/python3.10/site-packages (from langchain) (8.1.0)\n",
      "Requirement already satisfied: tqdm>=4.48.0 in /Users/user/miniconda3/lib/python3.10/site-packages (from langchain) (4.64.1)\n",
      "Requirement already satisfied: attrs>=17.3.0 in /Users/user/miniconda3/lib/python3.10/site-packages (from aiohttp<4.0.0,>=3.8.3->langchain) (22.2.0)\n",
      "Requirement already satisfied: charset-normalizer<3.0,>=2.0 in /Users/user/miniconda3/lib/python3.10/site-packages (from aiohttp<4.0.0,>=3.8.3->langchain) (2.0.4)\n",
      "Requirement already satisfied: multidict<7.0,>=4.5 in /Users/user/miniconda3/lib/python3.10/site-packages (from aiohttp<4.0.0,>=3.8.3->langchain) (6.0.4)\n",
      "Requirement already satisfied: yarl<2.0,>=1.0 in /Users/user/miniconda3/lib/python3.10/site-packages (from aiohttp<4.0.0,>=3.8.3->langchain) (1.8.2)\n",
      "Requirement already satisfied: frozenlist>=1.1.1 in /Users/user/miniconda3/lib/python3.10/site-packages (from aiohttp<4.0.0,>=3.8.3->langchain) (1.3.3)\n",
      "Requirement already satisfied: aiosignal>=1.1.2 in /Users/user/miniconda3/lib/python3.10/site-packages (from aiohttp<4.0.0,>=3.8.3->langchain) (1.3.1)\n",
      "Requirement already satisfied: marshmallow<4.0.0,>=3.3.0 in /Users/user/miniconda3/lib/python3.10/site-packages (from dataclasses-json<0.6.0,>=0.5.7->langchain) (3.19.0)\n",
      "Requirement already satisfied: marshmallow-enum<2.0.0,>=1.5.1 in /Users/user/miniconda3/lib/python3.10/site-packages (from dataclasses-json<0.6.0,>=0.5.7->langchain) (1.5.1)\n",
      "Requirement already satisfied: typing-inspect>=0.4.0 in /Users/user/miniconda3/lib/python3.10/site-packages (from dataclasses-json<0.6.0,>=0.5.7->langchain) (0.8.0)\n",
      "Requirement already satisfied: typing-extensions>=4.2.0 in /Users/user/miniconda3/lib/python3.10/site-packages (from pydantic<2,>=1->langchain) (4.4.0)\n",
      "Requirement already satisfied: idna<4,>=2.5 in /Users/user/miniconda3/lib/python3.10/site-packages (from requests<3,>=2->langchain) (2.10)\n",
      "Requirement already satisfied: urllib3<1.27,>=1.21.1 in /Users/user/miniconda3/lib/python3.10/site-packages (from requests<3,>=2->langchain) (1.26.13)\n",
      "Requirement already satisfied: certifi>=2017.4.17 in /Users/user/miniconda3/lib/python3.10/site-packages (from requests<3,>=2->langchain) (2022.12.7)\n",
      "Requirement already satisfied: packaging>=17.0 in /Users/user/miniconda3/lib/python3.10/site-packages (from marshmallow<4.0.0,>=3.3.0->dataclasses-json<0.6.0,>=0.5.7->langchain) (22.0)\n",
      "Requirement already satisfied: mypy-extensions>=0.3.0 in /Users/user/miniconda3/lib/python3.10/site-packages (from typing-inspect>=0.4.0->dataclasses-json<0.6.0,>=0.5.7->langchain) (0.4.3)\n",
      "\n",
      "\u001b[1m[\u001b[0m\u001b[34;49mnotice\u001b[0m\u001b[1;39;49m]\u001b[0m\u001b[39;49m A new release of pip is available: \u001b[0m\u001b[31;49m23.1.2\u001b[0m\u001b[39;49m -> \u001b[0m\u001b[32;49m23.2.1\u001b[0m\n",
      "\u001b[1m[\u001b[0m\u001b[34;49mnotice\u001b[0m\u001b[1;39;49m]\u001b[0m\u001b[39;49m To update, run: \u001b[0m\u001b[32;49mpip install --upgrade pip\u001b[0m\n"
     ]
    }
   ],
   "source": [
    "!pip install langchain"
   ]
  },
  {
   "cell_type": "code",
   "execution_count": 5,
   "id": "ffdef993-3b29-4cfe-9cab-de083c5c7326",
   "metadata": {},
   "outputs": [],
   "source": [
    "from langchain.chat_models import ChatOpenAI\n",
    "\n",
    "llm = ChatOpenAI(\n",
    "    temperature=0,\n",
    "    openai_api_key=openai_token,\n",
    "    model_name=\"gpt-3.5-turbo\"\n",
    ")"
   ]
  },
  {
   "cell_type": "markdown",
   "id": "9d82b7dc-58a5-4f4a-b174-2419578ffc49",
   "metadata": {},
   "source": [
    "## openai ChatCompletion API로 대화 나누기 \n",
    "\n",
    "chatGPT API를 사용하여 대화 맥락을 기록하려면 이전에 나눴던 대화를 함께 입력으로 넣어주어야 합니다."
   ]
  },
  {
   "cell_type": "code",
   "execution_count": 16,
   "id": "faebcb08-e8df-4984-b52c-52a7b8278bfd",
   "metadata": {},
   "outputs": [],
   "source": [
    "def request_chat_completion(messages):\n",
    "    response = openai.ChatCompletion.create(\n",
    "        model=\"gpt-3.5-turbo\",\n",
    "        messages=messages\n",
    "    )\n",
    "    return response[\"choices\"][0][\"message\"][\"content\"] "
   ]
  },
  {
   "cell_type": "code",
   "execution_count": 22,
   "id": "8de56520-a7a4-44ee-b1ba-e210fabcb4c3",
   "metadata": {},
   "outputs": [],
   "source": [
    "def print_messages(messages):\n",
    "    print(\"messages\")\n",
    "    for message in messages:\n",
    "        print(message)\n",
    "        \n",
    "messages = [\n",
    "    {\"role\": \"system\", \"content\": \"당신은 맛잘알입니다.\"},\n",
    "]"
   ]
  },
  {
   "cell_type": "markdown",
   "id": "793c0e1c-bf7a-46ab-a5ac-1af74ec7c4f2",
   "metadata": {},
   "source": [
    "먼저 질문을 입력하여 messages에 추가한 뒤, chatGPT에 답변 생성을 요청해보겠습니다."
   ]
  },
  {
   "cell_type": "code",
   "execution_count": 24,
   "id": "46cb8e74-60d4-4202-a012-4047664ac9fd",
   "metadata": {},
   "outputs": [
    {
     "name": "stdin",
     "output_type": "stream",
     "text": [
      "입력: 점심에 가볍게 먹기 좋은 메뉴를 추천해주세요.\n"
     ]
    },
    {
     "name": "stdout",
     "output_type": "stream",
     "text": [
      "messages\n",
      "{'role': 'system', 'content': '당신은 맛잘알입니다.'}\n",
      "{'role': 'user', 'content': '점심에 가볍게 먹기 좋은 메뉴를 추천해주세요.'}\n",
      "가볍게 먹기 좋은 메뉴로는 다음과 같은 것들이 있습니다:\n",
      "\n",
      "1. 샐러드: 신선한 야채와 생과일을 이용한 샐러드는 가볍고 영양도 풍부합니다. 예를 들어, 그릴드 치킨 샐러드, 시저 샐러드, 과일 샐러드 등이 좋은 선택일 수 있습니다.\n",
      "\n",
      "2. 샌드위치: 신선한 재료와 다양한 소스를 활용한 샌드위치도 좋은 선택입니다. 예를 들어, 터키 샌드위치, 치킨 샌드위치, 야채 샌드위치 등을 고를 수 있습니다.\n",
      "\n",
      "3. 스프: 가벼운 스프도 좋은 선택이 될 수 있습니다. 예를 들어, 토마토 스프, 미소 스프, 채소 수프 등이 있습니다.\n",
      "\n",
      "4. 국수나 면요리: 가볍게 먹고 싶다면 국수나 면요리도 좋은 선택입니다. 예를 들어, 초계국수, 라멘, 미역국수 등을 고를 수 있습니다.\n",
      "\n",
      "5. 초밥: 신선한 재료로 만든 초밥도 가벼운 식사로 좋습니다. 생선과 야채 등을 이용한 초밥을 선택할 수 있습니다.\n",
      "\n",
      "이 외에도 생선구이, 찜요리, 비빔밥 등도 가벼운 식사로 적합한 메뉴입니다. 개인의 취향에 맞게 선택해 보세요!\n"
     ]
    }
   ],
   "source": [
    "user_input = input(\"입력:\")\n",
    "messages.append({\"role\": \"user\", \"content\": user_input})\n",
    "print_messages(messages)\n",
    "response = request_chat_completion(messages)\n",
    "print(response)"
   ]
  },
  {
   "cell_type": "markdown",
   "id": "06182249-1bfa-406c-b6b6-8463d6324889",
   "metadata": {},
   "source": [
    "대화의 맥락을 유지하기 위해서는 chatGPT의 답변을 messages에 추가해주어야 합니다."
   ]
  },
  {
   "cell_type": "code",
   "execution_count": 25,
   "id": "8f82b792-db84-4aaa-94de-555046ffd60e",
   "metadata": {},
   "outputs": [
    {
     "name": "stdout",
     "output_type": "stream",
     "text": [
      "messages\n",
      "{'role': 'system', 'content': '당신은 맛잘알입니다.'}\n",
      "{'role': 'user', 'content': '점심에 가볍게 먹기 좋은 메뉴를 추천해주세요.'}\n",
      "{'role': 'system', 'content': '가볍게 먹기 좋은 메뉴로는 다음과 같은 것들이 있습니다:\\n\\n1. 샐러드: 신선한 야채와 생과일을 이용한 샐러드는 가볍고 영양도 풍부합니다. 예를 들어, 그릴드 치킨 샐러드, 시저 샐러드, 과일 샐러드 등이 좋은 선택일 수 있습니다.\\n\\n2. 샌드위치: 신선한 재료와 다양한 소스를 활용한 샌드위치도 좋은 선택입니다. 예를 들어, 터키 샌드위치, 치킨 샌드위치, 야채 샌드위치 등을 고를 수 있습니다.\\n\\n3. 스프: 가벼운 스프도 좋은 선택이 될 수 있습니다. 예를 들어, 토마토 스프, 미소 스프, 채소 수프 등이 있습니다.\\n\\n4. 국수나 면요리: 가볍게 먹고 싶다면 국수나 면요리도 좋은 선택입니다. 예를 들어, 초계국수, 라멘, 미역국수 등을 고를 수 있습니다.\\n\\n5. 초밥: 신선한 재료로 만든 초밥도 가벼운 식사로 좋습니다. 생선과 야채 등을 이용한 초밥을 선택할 수 있습니다.\\n\\n이 외에도 생선구이, 찜요리, 비빔밥 등도 가벼운 식사로 적합한 메뉴입니다. 개인의 취향에 맞게 선택해 보세요!'}\n"
     ]
    }
   ],
   "source": [
    "messages.append({\"role\": \"system\", \"content\": response})\n",
    "print_messages(messages)"
   ]
  },
  {
   "cell_type": "markdown",
   "id": "c2eb1479-1e7b-44fa-855e-b9a4f001d65f",
   "metadata": {},
   "source": [
    "이제 대화의 맥락을 기억해야만 답변할 수 있는 질문을 던져보겠습니다. 여기서는 이전 대화에서 추천한 메뉴들 중 세번째 옵션에 대해서 추가 설명을 요청해보겠습니다."
   ]
  },
  {
   "cell_type": "code",
   "execution_count": 26,
   "id": "ee6fcbe1-c894-4529-9ef4-1163de4e4ff2",
   "metadata": {},
   "outputs": [
    {
     "name": "stdin",
     "output_type": "stream",
     "text": [
      "입력: 세번째 옵션에 대해서 좀 더 자세히 설명해주세요.\n"
     ]
    },
    {
     "name": "stdout",
     "output_type": "stream",
     "text": [
      "messages\n",
      "{'role': 'system', 'content': '당신은 맛잘알입니다.'}\n",
      "{'role': 'user', 'content': '점심에 가볍게 먹기 좋은 메뉴를 추천해주세요.'}\n",
      "{'role': 'system', 'content': '가볍게 먹기 좋은 메뉴로는 다음과 같은 것들이 있습니다:\\n\\n1. 샐러드: 신선한 야채와 생과일을 이용한 샐러드는 가볍고 영양도 풍부합니다. 예를 들어, 그릴드 치킨 샐러드, 시저 샐러드, 과일 샐러드 등이 좋은 선택일 수 있습니다.\\n\\n2. 샌드위치: 신선한 재료와 다양한 소스를 활용한 샌드위치도 좋은 선택입니다. 예를 들어, 터키 샌드위치, 치킨 샌드위치, 야채 샌드위치 등을 고를 수 있습니다.\\n\\n3. 스프: 가벼운 스프도 좋은 선택이 될 수 있습니다. 예를 들어, 토마토 스프, 미소 스프, 채소 수프 등이 있습니다.\\n\\n4. 국수나 면요리: 가볍게 먹고 싶다면 국수나 면요리도 좋은 선택입니다. 예를 들어, 초계국수, 라멘, 미역국수 등을 고를 수 있습니다.\\n\\n5. 초밥: 신선한 재료로 만든 초밥도 가벼운 식사로 좋습니다. 생선과 야채 등을 이용한 초밥을 선택할 수 있습니다.\\n\\n이 외에도 생선구이, 찜요리, 비빔밥 등도 가벼운 식사로 적합한 메뉴입니다. 개인의 취향에 맞게 선택해 보세요!'}\n",
      "{'role': 'user', 'content': '세번째 옵션에 대해서 좀 더 자세히 설명해주세요.'}\n",
      "가볍게 먹기 좋은 스프는 다양한 종류가 있습니다. \n",
      "\n",
      "1. 토마토 스프: 신선한 토마토를 사용하여 만든 토마토 스프는 산뜻하고 상큼한 맛이 특징입니다. 주로 토마토, 양파, 마늘 등과 함께 올리브 오일, 허브, 소금 등을 이용하여 간을 합니다. 이 외에도 신선한 야채를 추가로 넣어 더욱 건강하고 맛있게 즐길 수 있습니다.\n",
      "\n",
      "2. 미소 스프: 미소(새우, 조개 등의 해산물을 건조·쇠고기 등과 함께 끓인 후 선별한 건조식품)를 이용하여 만든 미소 스프는 맛과 풍미가 특징입니다. 미소와 고사리, 당근 등을 함께 끓여 담백하고 깊은 맛을 낼 수 있습니다.\n",
      "\n",
      "3. 채소 수프: 싱싱한 야채들로 만든 채소 수프는 건강에 좋은 영양소를 골고루 섭취할 수 있어 인기가 많습니다. 예를 들어, 감자, 당근, 양파, 브로콜리, 시금치 등의 야채를 사용하여 끓여 내놓는데, 간이나 향을 더할 수 있는 조미료나 허브 등을 추가해서 맛을 더할 수 있습니다.\n",
      "\n",
      "이 외에도 다양한 종류의 스프가 있으며, 개인의 취향과 식재료에 따라 다양한 레시피를 활용해서 스프를 만들어 즐길 수 있습니다. 몸에 좋은 영양소를 섭취하면서도 가볍게 식사할 수 있습니다.\n"
     ]
    }
   ],
   "source": [
    "user_input = input(\"입력:\")\n",
    "messages.append({\"role\": \"user\", \"content\": user_input})\n",
    "print_messages(messages)\n",
    "response = request_chat_completion(messages)\n",
    "print(response)"
   ]
  },
  {
   "cell_type": "markdown",
   "id": "fe54439d-eb17-408f-aa9a-eba65e91be67",
   "metadata": {},
   "source": [
    "chatGPT가 이전 대화 맥락을 기억하면서 추가 답변을 잘 생성한 것을 확인할 수 있습니다. 이처럼 대화의 맥락을 유지하기 위해서는 지금까지 나눈 대화를 잘 기록해두었다가, 요청을 보낼 때 보내주면 됩니다.\n",
    "\n",
    "그런데 여기서 만약 대화가 길어지면 어떻게 될까요? chatGPT는 한번에 요청으로 보낼 수 있는 토큰 수에 제한이 있습니다. 때문에 모든 대화 내용을 기록할 경우, 금세 토큰 수 제한에 걸리게 됩니다. 따라서 적절하게 대화 내용 중 중요한 내용들만 유지하는 것이 중요합니다. 이 때 사용할 수 있는 기능이 LangChain의 Memory 기능입니다."
   ]
  },
  {
   "cell_type": "markdown",
   "id": "4da1e61c-0a7f-4282-8051-285eaab26d74",
   "metadata": {},
   "source": [
    "## Langchain Memory\n",
    "\n",
    "대화 맥락을 유지하기 위해서 취할 수 있는 조치들은 다음과 같습니다.\n",
    "\n",
    "- 최근 K개의 대화만 유지하기\n",
    "- 전체 대화 내용을 요약해서 유지하기\n",
    "- 최근 K개의 대화를 요약해서 유지하기\n",
    "\n",
    "한번 차근차근 어떻게 사용하는지 알아보겠습니다."
   ]
  },
  {
   "cell_type": "markdown",
   "id": "ad4c8108-fc14-417a-ba2a-a50eaf008e56",
   "metadata": {},
   "source": [
    "### ConversationBufferWindowMemory\n",
    "\n",
    "ConversationBufferWindowMemory를 사용하면 이전 K개 만큼의 대화만 history에 저장할 수 있습니다. 바로 직전의 대화만 기억하도록 설정한 다음, 대화를 진행해보겠습니다."
   ]
  },
  {
   "cell_type": "code",
   "execution_count": 76,
   "id": "5e00b728-4cca-426e-bb74-4d27eb099f93",
   "metadata": {},
   "outputs": [],
   "source": [
    "from langchain.memory import ConversationBufferWindowMemory\n",
    "from langchain.chains import ConversationChain\n",
    "\n",
    "buffer_window_chain = ConversationChain(\n",
    "    llm=llm,\n",
    "    memory=ConversationBufferWindowMemory(k=1)\n",
    ")"
   ]
  },
  {
   "cell_type": "markdown",
   "id": "2ee7d9c0-4ca9-4804-adab-5ea69ba0b612",
   "metadata": {},
   "source": [
    "langchain의 ConversationChain은 내부적으로 프롬프트 템플릿을 가지고 있습니다. 이를 이용해서 LLM에 요청을 보내고, 답변을 받아오는 방식으로 동작합니다."
   ]
  },
  {
   "cell_type": "code",
   "execution_count": 71,
   "id": "c51c4d93-d0f8-45d0-a30f-8216ac62a44a",
   "metadata": {},
   "outputs": [
    {
     "name": "stdout",
     "output_type": "stream",
     "text": [
      "The following is a friendly conversation between a human and an AI. The AI is talkative and provides lots of specific details from its context. If the AI does not know the answer to a question, it truthfully says it does not know.\n",
      "\n",
      "Current conversation:\n",
      "{history}\n",
      "Human: {input}\n",
      "AI:\n"
     ]
    }
   ],
   "source": [
    "print(buffer_window_chain.prompt.template)"
   ]
  },
  {
   "cell_type": "markdown",
   "id": "0c9abebf-fc62-4daa-9654-51ac7091ab94",
   "metadata": {},
   "source": [
    "대화를 진행해보겠습니다. 이전에 나눈 대화 내용은 history에 기록됩니다."
   ]
  },
  {
   "cell_type": "code",
   "execution_count": 81,
   "id": "963b8f01-7bee-42ac-a6e5-4fbf8f78c161",
   "metadata": {},
   "outputs": [],
   "source": [
    "def conversation(chain):\n",
    "    while True:\n",
    "        user_input = input(\"입력:\")\n",
    "        if user_input == \"q\":\n",
    "            break\n",
    "        response = chain(user_input)\n",
    "        print(response)\n",
    "        print(\"========\")"
   ]
  },
  {
   "cell_type": "code",
   "execution_count": 78,
   "id": "c991b71c-202b-4a00-ba94-9d771b6d6653",
   "metadata": {},
   "outputs": [
    {
     "name": "stdin",
     "output_type": "stream",
     "text": [
      "입력: 점심으로 먹기 좋은 가벼운 메뉴를 추천해줘\n"
     ]
    },
    {
     "name": "stdout",
     "output_type": "stream",
     "text": [
      "{'input': '점심으로 먹기 좋은 가벼운 메뉴를 추천해줘', 'history': '', 'response': '점심으로 먹기 좋은 가벼운 메뉴를 추천해드릴게요! 어떤 음식을 선호하시나요? 한식, 중식, 양식 중에서 골라주세요.'}\n",
      "========\n"
     ]
    },
    {
     "name": "stdin",
     "output_type": "stream",
     "text": [
      "입력: 한식으로 가자\n"
     ]
    },
    {
     "name": "stdout",
     "output_type": "stream",
     "text": [
      "{'input': '한식으로 가자', 'history': 'Human: 점심으로 먹기 좋은 가벼운 메뉴를 추천해줘\\nAI: 점심으로 먹기 좋은 가벼운 메뉴를 추천해드릴게요! 어떤 음식을 선호하시나요? 한식, 중식, 양식 중에서 골라주세요.', 'response': '한식으로 가볼까요? 가벼운 한식 메뉴로는 비빔밥, 불고기, 된장찌개, 김치찌개 등이 있어요. 어떤 메뉴가 좋을까요?'}\n",
      "========\n"
     ]
    },
    {
     "name": "stdin",
     "output_type": "stream",
     "text": [
      "입력: 좀 신선한 메뉴 없니?\n"
     ]
    },
    {
     "name": "stdout",
     "output_type": "stream",
     "text": [
      "{'input': '좀 신선한 메뉴 없니?', 'history': 'Human: 한식으로 가자\\nAI: 한식으로 가볼까요? 가벼운 한식 메뉴로는 비빔밥, 불고기, 된장찌개, 김치찌개 등이 있어요. 어떤 메뉴가 좋을까요?', 'response': '신선한 한식 메뉴로는 해물 덮밥, 생선구이, 삼계탕, 물회 등이 있어요. 이 중에서 어떤 메뉴가 원하시나요?'}\n",
      "========\n"
     ]
    },
    {
     "name": "stdin",
     "output_type": "stream",
     "text": [
      "입력: 물회 좋네 주변 맛집 좀 알려줘\n"
     ]
    },
    {
     "name": "stdout",
     "output_type": "stream",
     "text": [
      "{'input': '물회 좋네 주변 맛집 좀 알려줘', 'history': 'Human: 좀 신선한 메뉴 없니?\\nAI: 신선한 한식 메뉴로는 해물 덮밥, 생선구이, 삼계탕, 물회 등이 있어요. 이 중에서 어떤 메뉴가 원하시나요?', 'response': '물회를 맛있게 즐길 수 있는 주변 맛집을 알려드릴게요. 근처에 있는 \"해물물회집\"은 유명한 곳이에요. 그리고 \"바다회집\"도 물회가 맛있는 곳으로 알려져 있어요. 두 곳 모두 신선한 재료로 만든 물회를 제공하고 있으니 한 번 방문해보시는 것을 추천드려요.'}\n",
      "========\n"
     ]
    },
    {
     "name": "stdin",
     "output_type": "stream",
     "text": [
      "입력: 처음에 제안했던 메뉴들이 뭐였지?\n"
     ]
    },
    {
     "name": "stdout",
     "output_type": "stream",
     "text": [
      "{'input': '처음에 제안했던 메뉴들이 뭐였지?', 'history': 'Human: 물회 좋네 주변 맛집 좀 알려줘\\nAI: 물회를 맛있게 즐길 수 있는 주변 맛집을 알려드릴게요. 근처에 있는 \"해물물회집\"은 유명한 곳이에요. 그리고 \"바다회집\"도 물회가 맛있는 곳으로 알려져 있어요. 두 곳 모두 신선한 재료로 만든 물회를 제공하고 있으니 한 번 방문해보시는 것을 추천드려요.', 'response': '처음에 제안했던 메뉴는 \"해물물회집\"과 \"바다회집\"이었어요. 이 두 곳은 물회가 맛있는 곳으로 알려져 있어요. 두 곳 모두 신선한 재료로 만든 물회를 제공하고 있으니 한 번 방문해보시는 것을 추천드려요.'}\n",
      "========\n"
     ]
    },
    {
     "name": "stdin",
     "output_type": "stream",
     "text": [
      "입력: q\n"
     ]
    }
   ],
   "source": [
    "conversation(buffer_window_chain)"
   ]
  },
  {
   "cell_type": "markdown",
   "id": "f301ff03-7b8e-45b3-aca4-0f8f83966cab",
   "metadata": {},
   "source": [
    "ConversationBufferWindowMemory를 사용하면 이렇게 이전 K개의 대화를 그대로 유지할 수 있습니다. 용도에 맞게 k값을 조정하시면 됩니다. 하지만 이렇게 할 경우,  chatGPT가 긴 텍스트를 생성하게 될 경우 토큰 수가 순식간에 늘어난다는 한계점이 있습니다."
   ]
  },
  {
   "cell_type": "markdown",
   "id": "3c2caa97-27ba-4a27-83e5-9cfba6ba45f1",
   "metadata": {},
   "source": [
    "### ConversationSummaryMemory\n",
    "\n",
    "이전 대화 내용을 통째로 기억해야만 할까요? 중요한 정보만 요약해서 저장하면 대화 맥락은 유지하면서 토큰 수는 절약할 수 있겠죠? ConversationSummaryMemory는 LLM을 이용해서 이전 대화 히스토리를 요약해서 저장합니다."
   ]
  },
  {
   "cell_type": "code",
   "execution_count": 82,
   "id": "f753c29d-3fdc-472a-8551-6316107c0284",
   "metadata": {},
   "outputs": [],
   "source": [
    "from langchain.chains.conversation.memory import ConversationSummaryMemory\n",
    "\n",
    "summary_chain = ConversationChain(\n",
    "    llm=llm,\n",
    "    memory=ConversationSummaryMemory(llm=llm)\n",
    ")"
   ]
  },
  {
   "cell_type": "code",
   "execution_count": 83,
   "id": "1bc151f2-5b95-44ed-ae5a-78b80bca311a",
   "metadata": {},
   "outputs": [
    {
     "name": "stdin",
     "output_type": "stream",
     "text": [
      "입력: 점심으로 가볍게 먹기 좋은 메뉴 추천해줘\n"
     ]
    },
    {
     "name": "stdout",
     "output_type": "stream",
     "text": [
      "{'input': '점심으로 가볍게 먹기 좋은 메뉴 추천해줘', 'history': '', 'response': '점심으로 가볍게 먹기 좋은 메뉴를 추천해드릴게요! 어떤 음식을 선호하시나요?'}\n",
      "========\n"
     ]
    },
    {
     "name": "stdin",
     "output_type": "stream",
     "text": [
      "입력: 한식으로 부탁해\n"
     ]
    },
    {
     "name": "stdout",
     "output_type": "stream",
     "text": [
      "{'input': '한식으로 부탁해', 'history': \"The human asks the AI to recommend a light lunch menu. The AI offers to recommend a light lunch menu and asks about the human's food preferences.\", 'response': '한식으로 무엇을 원하시나요? 김치찌개나 불고기 같은 전통적인 한식 메뉴를 추천해 드릴까요? 아니면 비빔밥이나 냉면 같은 가벼운 한식 메뉴를 원하시나요?'}\n",
      "========\n"
     ]
    },
    {
     "name": "stdin",
     "output_type": "stream",
     "text": [
      "입력: 아예 새로운 퓨전 한식은 없을까?\n"
     ]
    },
    {
     "name": "stdout",
     "output_type": "stream",
     "text": [
      "{'input': '아예 새로운 퓨전 한식은 없을까?', 'history': \"The human asks the AI to recommend a light lunch menu. The AI offers to recommend a light lunch menu and asks about the human's food preferences. The human requests a Korean menu. The AI asks if they would like a traditional Korean dish like kimchi jjigae or bulgogi, or if they would prefer a lighter option like bibimbap or naengmyeon.\", 'response': '네, 퓨전 한식 메뉴를 추천해드릴 수 있습니다! 퓨전 한식은 전통적인 한식과 다른 요리 스타일을 결합한 메뉴입니다. 예를 들어, 한국의 전통적인 재료와 서양 요리 스타일을 혼합한 요리들이 있습니다. 예를 들어, \"불고기 피자\"나 \"김치 퀘사디아\"와 같은 퓨전 한식 메뉴가 있습니다. 이런 퓨전 한식 메뉴를 원하시나요?'}\n",
      "========\n"
     ]
    },
    {
     "name": "stdin",
     "output_type": "stream",
     "text": [
      "입력: 응응 퓨전 한식 메뉴를 다양하게 추천해줘\n"
     ]
    },
    {
     "name": "stdout",
     "output_type": "stream",
     "text": [
      "{'input': '응응 퓨전 한식 메뉴를 다양하게 추천해줘', 'history': 'The human asks the AI to recommend a light lunch menu. The AI offers to recommend a light lunch menu and asks about the human\\'s food preferences. The human requests a Korean menu. The AI asks if they would like a traditional Korean dish like kimchi jjigae or bulgogi, or if they would prefer a lighter option like bibimbap or naengmyeon. The human then asks if there are any new fusion Korean dishes available. The AI responds by saying that they can recommend fusion Korean dishes, which combine traditional Korean ingredients with different cooking styles. Examples of fusion Korean dishes include \"bulgogi pizza\" or \"kimchi quesadilla.\" The AI asks if the human would like to try these fusion Korean dishes.', 'response': '퓨전 한식 메뉴를 다양하게 추천해드릴게요! 퓨전 한식은 전통적인 한국 요리 재료를 다른 요리 스타일과 결합시킨 메뉴들이에요. 예를 들어 \"불고기 피자\"나 \"김치 퀘사디아\" 같은 퓨전 한식 메뉴가 있어요. 이런 퓨전 한식 메뉴를 시도해보고 싶으신가요?'}\n",
      "========\n"
     ]
    },
    {
     "name": "stdin",
     "output_type": "stream",
     "text": [
      "입력: 다른 퓨전 한식 메뉴들은 없니?\n"
     ]
    },
    {
     "name": "stdout",
     "output_type": "stream",
     "text": [
      "{'input': '다른 퓨전 한식 메뉴들은 없니?', 'history': 'The human asks the AI to recommend a variety of fusion Korean dishes. The AI responds by saying that they can recommend fusion Korean dishes, which combine traditional Korean ingredients with different cooking styles. Examples of fusion Korean dishes include \"bulgogi pizza\" or \"kimchi quesadilla.\" The AI asks if the human would like to try these fusion Korean dishes.', 'response': '네, 물론입니다! 다른 퓨전 한식 메뉴들도 많이 있습니다. 예를 들어, \"김치 타코\"나 \"불고기 버거\" 같은 것들이 있습니다. 또한, \"비빔밥 샐러드\"나 \"된장 치킨\" 같은 것들도 있습니다. 이런 퓨전 한식 메뉴들은 전통적인 한식 재료와 다양한 요리 스타일을 결합하여 새로운 맛을 만들어냅니다. 어떤 퓨전 한식 메뉴를 시도해보고 싶으세요?'}\n",
      "========\n"
     ]
    },
    {
     "name": "stdin",
     "output_type": "stream",
     "text": [
      "입력: q\n"
     ]
    }
   ],
   "source": [
    "conversation(summary_chain)"
   ]
  },
  {
   "cell_type": "markdown",
   "id": "769ad7d6-37d1-4463-80bd-d3d52dfb922e",
   "metadata": {},
   "source": [
    "대화를 진행할 수록 지금까지 나눈 대화가 요약되어서 history에 기록되는 것을 확인할 수 있습니다. 하지만 이 방식 역시 대화가 길어질 수록 토큰 수가 늘어나는 한계점이 있습니다."
   ]
  },
  {
   "cell_type": "markdown",
   "id": "93793469-82f0-4c4d-988f-7b7184826798",
   "metadata": {},
   "source": [
    "### ConversationSummaryBufferMemory\n",
    "\n",
    "ConversationSummaryBufferMemory는 BufferWindow 방식과 Summary 방식을 섞은 기법입니다. 전체 대화에서 최근 m개의 토큰만 잘라서 요약한 다음, 이를 history에 저장합니다."
   ]
  },
  {
   "cell_type": "code",
   "execution_count": 84,
   "id": "56217bd5-20a8-4758-83b5-922ec388b9a7",
   "metadata": {},
   "outputs": [],
   "source": [
    "from langchain.chains.conversation.memory import ConversationSummaryBufferMemory\n",
    "\n",
    "summary_buffer_chain = ConversationChain(\n",
    "    llm=llm,\n",
    "    memory=ConversationSummaryBufferMemory(\n",
    "        llm=llm,\n",
    "        max_token_limit=20\n",
    "    )\n",
    ")"
   ]
  },
  {
   "cell_type": "code",
   "execution_count": 85,
   "id": "9716666b-ca4d-46f3-ac06-8b637e1937fb",
   "metadata": {},
   "outputs": [
    {
     "name": "stdin",
     "output_type": "stream",
     "text": [
      "입력: 점심으로 가볍게 먹기 좋은 메뉴 추천해줘\n"
     ]
    },
    {
     "name": "stdout",
     "output_type": "stream",
     "text": [
      "{'input': '점심으로 가볍게 먹기 좋은 메뉴 추천해줘', 'history': '', 'response': '점심으로 가볍게 먹기 좋은 메뉴를 추천해드릴게요! 어떤 음식을 선호하시나요?'}\n",
      "========\n"
     ]
    },
    {
     "name": "stdin",
     "output_type": "stream",
     "text": [
      "입력: 한식으로 갑시다\n"
     ]
    },
    {
     "name": "stdout",
     "output_type": "stream",
     "text": [
      "{'input': '한식으로 갑시다', 'history': \"System: The human asks the AI to recommend a light lunch menu. The AI offers to recommend a light lunch menu and asks about the human's food preferences.\", 'response': '한식으로 간단한 점심 메뉴를 추천해드릴게요! 한식으로는 비빔밥, 불고기, 된장찌개, 김치찌개 등이 있습니다. 어떤 음식을 좋아하시나요?'}\n",
      "========\n"
     ]
    },
    {
     "name": "stdin",
     "output_type": "stream",
     "text": [
      "입력: 다 별로에오\n"
     ]
    },
    {
     "name": "stdout",
     "output_type": "stream",
     "text": [
      "{'input': '다 별로에오', 'history': \"System: The human asks the AI to recommend a light lunch menu. The AI offers to recommend a light lunch menu and asks about the human's food preferences. The human requests a Korean menu. The AI suggests options such as bibimbap, bulgogi, doenjang jjigae, and kimchi jjigae and asks about the human's food preferences.\", 'response': '알겠습니다. 그렇다면 다른 음식을 추천해 드릴까요? 어떤 음식을 좋아하시나요?'}\n",
      "========\n"
     ]
    },
    {
     "name": "stdin",
     "output_type": "stream",
     "text": [
      "입력: 새롭고 특별한 음식이요\n"
     ]
    },
    {
     "name": "stdout",
     "output_type": "stream",
     "text": [
      "{'input': '새롭고 특별한 음식이요', 'history': \"System: The human asks the AI to recommend a light lunch menu. The AI offers to recommend a light lunch menu and asks about the human's food preferences. The human requests a Korean menu. The AI suggests options such as bibimbap, bulgogi, doenjang jjigae, and kimchi jjigae and asks about the human's food preferences. The human expresses that they are not interested in those options. The AI acknowledges this and asks if they should recommend a different type of cuisine and inquires about the human's food preferences.\", 'response': '알겠습니다. 새롭고 특별한 음식을 추천해 드릴게요. 한국 음식 이외에 다른 나라의 음식을 원하시나요? 혹시 어떤 나라의 음식을 원하시는지 알려주실 수 있을까요?'}\n",
      "========\n"
     ]
    },
    {
     "name": "stdin",
     "output_type": "stream",
     "text": [
      "입력: 아르헨티나 가능한가요?\n"
     ]
    },
    {
     "name": "stdout",
     "output_type": "stream",
     "text": [
      "{'input': '아르헨티나 가능한가요?', 'history': \"System: The human asks the AI to recommend a light lunch menu. The AI offers to recommend a light lunch menu and asks about the human's food preferences. The human requests a Korean menu. The AI suggests options such as bibimbap, bulgogi, doenjang jjigae, and kimchi jjigae and asks about the human's food preferences. The human expresses that they are not interested in those options. The AI acknowledges this and asks if they should recommend a different type of cuisine and inquires about the human's food preferences. The human requests a new and special type of food. The AI understands and offers to recommend a new and special type of food. The AI asks if the human would like a cuisine from a different country and if they can specify which country's cuisine they prefer.\", 'response': '네, 아르헨티나 음식을 추천해드릴 수 있습니다! 아르헨티나는 유명한 스테이크와 에멤파나다라는 고기 소프트 케이크가 있습니다. 또한, 아르헨티나의 대표적인 음식 중 하나인 아스도라도는 고기와 야채로 만든 스프입니다. 이 외에도, 아르헨티나는 에비타 스테이크, 파스타, 에머파나다, 그리고 많은 종류의 피자도 유명합니다. 어떤 음식을 원하시나요?'}\n",
      "========\n"
     ]
    },
    {
     "name": "stdin",
     "output_type": "stream",
     "text": [
      "입력: 에비타 스테이크 흥미롭군요\n"
     ]
    },
    {
     "name": "stdout",
     "output_type": "stream",
     "text": [
      "{'input': '에비타 스테이크 흥미롭군요', 'history': \"System: The human asks the AI to recommend a light lunch menu. The AI offers to recommend a light lunch menu and asks about the human's food preferences. The human requests a Korean menu. The AI suggests options such as bibimbap, bulgogi, doenjang jjigae, and kimchi jjigae and asks about the human's food preferences. The human expresses that they are not interested in those options. The AI acknowledges this and asks if they should recommend a different type of cuisine and inquires about the human's food preferences. The human requests a new and special type of food. The AI understands and offers to recommend a new and special type of food. The AI asks if the human would like a cuisine from a different country and if they can specify which country's cuisine they prefer. The human asks if it is possible to recommend Argentinean cuisine. The AI confirms and suggests famous Argentinean dishes such as steak, empanadas, and asado. The AI also mentions that Argentina is known for pasta, pizza, and various types of steak. The AI asks the human which dish they would like to try.\", 'response': '에비타 스테이크는 아르헨티나의 유명한 요리 중 하나입니다. 이 요리는 고기를 구워서 제공되며, 주로 소고기를 사용합니다. 에비타 스테이크는 부드럽고 풍미가 풍부하며, 고기의 신선도와 품질에 따라 맛이 달라질 수 있습니다. 이 요리는 보통 그릴에 구워서 제공되며, 곁들여진 소스와 함께 즐기는 것이 일반적입니다. 에비타 스테이크는 아르헨티나의 대표적인 요리 중 하나이며, 아르헨티나를 방문하는 많은 사람들이 즐겨 먹는 음식입니다. 에비타 스테이크를 추천드립니다.'}\n",
      "========\n"
     ]
    },
    {
     "name": "stdin",
     "output_type": "stream",
     "text": [
      "입력: q\n"
     ]
    }
   ],
   "source": [
    "conversation(summary_buffer_chain)"
   ]
  },
  {
   "cell_type": "markdown",
   "id": "3417d8b1-48cc-4a16-8726-16802df5a6b9",
   "metadata": {},
   "source": [
    "## 정리\n",
    "\n",
    "이번 챕터에서는 chatGPT와 대화 맥락을 유지하면서 대화를 나누는 방법을 알아보았습니다. 그리고 langchain을 이용하여 대화 맥락은 유지하면서 토큰 수를 아낄 수 있는 방법을 알아보았습니다. 이를 서비스에 적절히 연결하면 chatbot을 구현할 수 있습니다. 다음 챕터에서는 streamlit과 langchain을 사용하여 간단한 chatbot 서비스를 구현해보겠습니다."
   ]
  },
  {
   "cell_type": "code",
   "execution_count": null,
   "id": "a5568af5-4b80-4689-99ea-72bc997cb143",
   "metadata": {},
   "outputs": [],
   "source": []
  }
 ],
 "metadata": {
  "kernelspec": {
   "display_name": "Python 3 (ipykernel)",
   "language": "python",
   "name": "python3"
  },
  "language_info": {
   "codemirror_mode": {
    "name": "ipython",
    "version": 3
   },
   "file_extension": ".py",
   "mimetype": "text/x-python",
   "name": "python",
   "nbconvert_exporter": "python",
   "pygments_lexer": "ipython3",
   "version": "3.10.8"
  }
 },
 "nbformat": 4,
 "nbformat_minor": 5
}
