{
 "cells": [
  {
   "cell_type": "code",
   "execution_count": 38,
   "id": "d789e05c-91f5-45ce-a7e7-4b46e5a06400",
   "metadata": {},
   "outputs": [],
   "source": [
    "import pymysql \n",
    "\n",
    "conn = pymysql.connect(\n",
    "    host=\"127.0.0.1\",\n",
    "    user=\"root\",\n",
    "    password=\"1234\",\n",
    "    database=\"mystore\",\n",
    ")"
   ]
  },
  {
   "cell_type": "markdown",
   "id": "1eb21071-66f1-4dfe-b025-9268adc61ef8",
   "metadata": {},
   "source": [
    "## Read Query"
   ]
  },
  {
   "cell_type": "code",
   "execution_count": 21,
   "id": "7e14f5ea-3ae4-4664-bdcb-ec3e114b6369",
   "metadata": {},
   "outputs": [],
   "source": [
    "select_sql = \"SELECT * FROM reviews\"\n",
    "with conn.cursor() as cursor:\n",
    "    cursor.execute(select_sql)\n",
    "    result = cursor.fetchall()"
   ]
  },
  {
   "cell_type": "code",
   "execution_count": 22,
   "id": "a0514181-ea83-460b-91df-bd0d65c04688",
   "metadata": {},
   "outputs": [
    {
     "data": {
      "text/plain": [
       "((1, 1, 5),\n",
       " (2, 1, 4),\n",
       " (3, 1, 1),\n",
       " (4, 3, 2),\n",
       " (5, 3, 4),\n",
       " (6, 3, 3),\n",
       " (7, 4, 2),\n",
       " (8, 4, 3),\n",
       " (9, 4, 5),\n",
       " (10, 6, 5),\n",
       " (11, 6, 4),\n",
       " (12, 6, 1),\n",
       " (13, 6, 1))"
      ]
     },
     "execution_count": 22,
     "metadata": {},
     "output_type": "execute_result"
    }
   ],
   "source": [
    "result"
   ]
  },
  {
   "cell_type": "markdown",
   "id": "b43563e3-0db2-4aab-b005-c9cbbab6fcc6",
   "metadata": {},
   "source": [
    "## Write Query"
   ]
  },
  {
   "cell_type": "code",
   "execution_count": 20,
   "id": "a1c53883-c7e8-4767-a2ee-eda161b311a5",
   "metadata": {},
   "outputs": [],
   "source": [
    "insert_sql = \"INSERT INTO reviews(item_id, rating) VALUES (6, 1)\"\n",
    "with conn.cursor() as cursor:\n",
    "    cursor.execute(insert_sql)\n",
    "    conn.commit()"
   ]
  },
  {
   "cell_type": "markdown",
   "id": "c230428a-bc37-4026-8faa-08cd147babf5",
   "metadata": {},
   "source": [
    "## Bulk Write Query"
   ]
  },
  {
   "cell_type": "code",
   "execution_count": 52,
   "id": "cf445678-8306-4769-814e-f6f9a109f970",
   "metadata": {},
   "outputs": [],
   "source": [
    "insert_sql = \"INSERT INTO customers(customer_id, customer_unique_id, customer_zip_code_prefix, customer_city, customer_state) VALUES (%s, %s, %s, %s, %s)\""
   ]
  },
  {
   "cell_type": "code",
   "execution_count": 54,
   "id": "c1796b6a-37e3-4303-849c-3b4b0acba595",
   "metadata": {},
   "outputs": [
    {
     "name": "stdout",
     "output_type": "stream",
     "text": [
      "['06b8999e2fba1a1fbc88172c00ba8bc7', '861eff4711a542e4b93843c6dd7febb0', '14409', 'franca', 'SP']\n",
      "['18955e83d337fd6b2def6b18a428ac77', '290c77bc529b7ac935b93aa66c333dc3', '09790', 'sao bernardo do campo', 'SP']\n",
      "['4e7b3e00288586ebd08712fdd0374a03', '060e732b5b29e8181a18229c7b0b2b5e', '01151', 'sao paulo', 'SP']\n"
     ]
    }
   ],
   "source": [
    "import csv \n",
    "\n",
    "batchsize = 1000 \n",
    "with open(\"./data/olist/customers.csv\") as fr:\n",
    "    reader = csv.reader(fr)\n",
    "    buffer = []\n",
    "    for i, row in enumerate(reader):\n",
    "        if i == 0:\n",
    "            continue\n",
    "        if i > 3:\n",
    "            break\n",
    "        print(row)\n",
    "        continue\n",
    "        buffer.append(row)\n",
    "        if len(buffer) == batchsize:\n",
    "            with conn.cursor() as cursor:\n",
    "                cursor.executemany(insert_sql, buffer)\n",
    "                conn.commit()\n",
    "            buffer = []\n",
    "    if buffer:\n",
    "        with conn.cursor() as cursor:\n",
    "            cursor.executemany(insert_sql, buffer)\n",
    "            conn.commit()"
   ]
  },
  {
   "cell_type": "code",
   "execution_count": 55,
   "id": "cef3b6fd-386d-4410-9977-3fe9adfa9a16",
   "metadata": {},
   "outputs": [],
   "source": [
    "values = [\n",
    "    ['06b8999e2fba1a1fbc88172c00ba8bc7', '861eff4711a542e4b93843c6dd7febb0', '14409', 'franca', 'SP'],\n",
    "    ['18955e83d337fd6b2def6b18a428ac77', '290c77bc529b7ac935b93aa66c333dc3', '09790', 'sao bernardo do campo', 'SP'],\n",
    "    ['4e7b3e00288586ebd08712fdd0374a03', '060e732b5b29e8181a18229c7b0b2b5e', '01151', 'sao paulo', 'SP'],\n",
    "]"
   ]
  },
  {
   "cell_type": "code",
   "execution_count": 56,
   "id": "3991f24d-b89f-4a4d-8620-9d27f8cad76f",
   "metadata": {},
   "outputs": [],
   "source": [
    "with conn.cursor() as cursor:\n",
    "    cursor.executemany(insert_sql, values)\n",
    "    conn.commit()"
   ]
  },
  {
   "cell_type": "code",
   "execution_count": 29,
   "id": "974ff14e-364a-40c8-b559-65f7a7708058",
   "metadata": {},
   "outputs": [],
   "source": [
    "with conn.cursor() as cursor:\n",
    "    cursor.execute(insert_sql, values)\n",
    "    conn.commit()"
   ]
  },
  {
   "cell_type": "code",
   "execution_count": 50,
   "id": "1764f36d-6a32-49e6-bbe8-396c8fa7dec5",
   "metadata": {},
   "outputs": [],
   "source": [
    "select_sql = \"SELECT * FROM customers\"\n",
    "with conn.cursor() as cursor:\n",
    "    cursor.execute(select_sql)\n",
    "    result = cursor.fetchall()"
   ]
  },
  {
   "cell_type": "code",
   "execution_count": 51,
   "id": "ce3cb2c1-5bd0-4bec-be9b-5006f4816f7d",
   "metadata": {},
   "outputs": [
    {
     "name": "stdout",
     "output_type": "stream",
     "text": [
      "99441\n"
     ]
    }
   ],
   "source": [
    "print(len(result))"
   ]
  },
  {
   "cell_type": "code",
   "execution_count": null,
   "id": "584e8041-a951-4fb0-87e3-1ab1b3e5abea",
   "metadata": {},
   "outputs": [],
   "source": []
  }
 ],
 "metadata": {
  "kernelspec": {
   "display_name": "Python 3 (ipykernel)",
   "language": "python",
   "name": "python3"
  },
  "language_info": {
   "codemirror_mode": {
    "name": "ipython",
    "version": 3
   },
   "file_extension": ".py",
   "mimetype": "text/x-python",
   "name": "python",
   "nbconvert_exporter": "python",
   "pygments_lexer": "ipython3",
   "version": "3.10.8"
  }
 },
 "nbformat": 4,
 "nbformat_minor": 5
}
