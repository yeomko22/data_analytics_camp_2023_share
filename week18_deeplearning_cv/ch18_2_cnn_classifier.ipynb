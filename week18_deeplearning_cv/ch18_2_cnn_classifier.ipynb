{
  "nbformat": 4,
  "nbformat_minor": 0,
  "metadata": {
    "colab": {
      "provenance": [],
      "toc_visible": true,
      "gpuType": "T4",
      "authorship_tag": "ABX9TyP4wLofQcsfOsCgrXWLb9G4",
      "include_colab_link": true
    },
    "kernelspec": {
      "name": "python3",
      "display_name": "Python 3"
    },
    "language_info": {
      "name": "python"
    },
    "accelerator": "GPU"
  },
  "cells": [
    {
      "cell_type": "markdown",
      "metadata": {
        "id": "view-in-github",
        "colab_type": "text"
      },
      "source": [
        "<a href=\"https://colab.research.google.com/github/yeomko22/data_analytics_camp_2023_share/blob/main/week18_deeplearning_cv/ch18_2_cnn_classifier.ipynb\" target=\"_parent\"><img src=\"https://colab.research.google.com/assets/colab-badge.svg\" alt=\"Open In Colab\"/></a>"
      ]
    },
    {
      "cell_type": "markdown",
      "source": [
        "# ch 18_2 CNN MNIST Classifier\n",
        "\n",
        "이전 챕터에선 Convolution Neural Network의 기본 개념에 대해서 알아보았습니다. 이번 챕터에서는 직접 torch를 이용하여 손글씨를 분류하는 모델을 만들어보겠습니다."
      ],
      "metadata": {
        "id": "5PrTevOx5NVm"
      }
    },
    {
      "cell_type": "code",
      "source": [
        "from torch.utils.data import DataLoader\n",
        "from torchvision.datasets import MNIST\n",
        "from torchvision.transforms import ToTensor\n",
        "\n",
        "batch_size = 32\n",
        "train_dataset = MNIST(root=\"data\", train=True, download=True, transform=ToTensor())\n",
        "val_dataset = MNIST(root=\"data\", train=False, download=True, transform=ToTensor())\n",
        "train_dataloader = DataLoader(train_dataset, batch_size=batch_size, shuffle=True)\n",
        "val_dataloader = DataLoader(val_dataset, batch_size=batch_size, shuffle=True)"
      ],
      "metadata": {
        "id": "XXlWphiX5Nhm"
      },
      "execution_count": null,
      "outputs": []
    },
    {
      "cell_type": "markdown",
      "source": [
        "## CNN Classifier\n",
        "\n",
        "### 모델 작성\n",
        "\n",
        "간단한 CNN 모델 클래스를 만들어 보겠습니다."
      ],
      "metadata": {
        "id": "ibxUDH9T6Zva"
      }
    },
    {
      "cell_type": "code",
      "source": [
        "import torch\n",
        "from torch import nn\n",
        "\n",
        "\n",
        "class SimpleCNN(nn.Module):\n",
        "    def __init__(self):\n",
        "        super().__init__()\n",
        "        self.conv1 = nn.Conv2d(in_channels=1, out_channels=8, kernel_size=3, padding=\"same\")\n",
        "        self.activation = nn.ReLU()\n",
        "        self.softmax = nn.Softmax(dim=1)\n",
        "        self.pool = nn.MaxPool2d(2, 2)\n",
        "        self.conv2 = nn.Conv2d(in_channels=8, out_channels=16, kernel_size=3, padding=\"same\")\n",
        "        self.fc = nn.Linear(in_features=784, out_features=10)\n",
        "\n",
        "    def forward(self, x):\n",
        "        x = self.pool(self.activation(self.conv1(x)))\n",
        "        x = self.pool(self.activation(self.conv2(x)))\n",
        "        x = torch.flatten(x, 1)\n",
        "        x = self.softmax(self.fc(x))\n",
        "        return x"
      ],
      "metadata": {
        "id": "4IIXFEnG5RGV"
      },
      "execution_count": null,
      "outputs": []
    },
    {
      "cell_type": "code",
      "source": [
        "model = SimpleCNN()"
      ],
      "metadata": {
        "id": "Kos7qFU16XQ_"
      },
      "execution_count": null,
      "outputs": []
    },
    {
      "cell_type": "code",
      "source": [
        "!pip install torchsummary"
      ],
      "metadata": {
        "colab": {
          "base_uri": "https://localhost:8080/"
        },
        "id": "0N-XXfm76yN4",
        "outputId": "3fb6645a-82fa-4df3-d820-d94e96d79093"
      },
      "execution_count": null,
      "outputs": [
        {
          "output_type": "stream",
          "name": "stdout",
          "text": [
            "Requirement already satisfied: torchsummary in /usr/local/lib/python3.10/dist-packages (1.5.1)\n"
          ]
        }
      ]
    },
    {
      "cell_type": "code",
      "source": [
        "for batch in train_dataloader:\n",
        "    print(batch[0].shape)\n",
        "    break"
      ],
      "metadata": {
        "colab": {
          "base_uri": "https://localhost:8080/"
        },
        "id": "LZOpT37e7KqV",
        "outputId": "7e4fb939-8307-499d-90af-7901bc9fe257"
      },
      "execution_count": null,
      "outputs": [
        {
          "output_type": "stream",
          "name": "stdout",
          "text": [
            "torch.Size([32, 1, 28, 28])\n"
          ]
        }
      ]
    },
    {
      "cell_type": "code",
      "source": [
        "from torchsummary import summary\n",
        "\n",
        "summary(model, input_size=(1, 28, 28), device=\"cpu\")"
      ],
      "metadata": {
        "colab": {
          "base_uri": "https://localhost:8080/"
        },
        "id": "1uIaxyYo61lY",
        "outputId": "eb0423ed-d7ac-4178-afa6-0950f1c73ba9"
      },
      "execution_count": null,
      "outputs": [
        {
          "output_type": "stream",
          "name": "stdout",
          "text": [
            "----------------------------------------------------------------\n",
            "        Layer (type)               Output Shape         Param #\n",
            "================================================================\n",
            "            Conv2d-1            [-1, 8, 28, 28]              80\n",
            "              ReLU-2            [-1, 8, 28, 28]               0\n",
            "         MaxPool2d-3            [-1, 8, 14, 14]               0\n",
            "            Conv2d-4           [-1, 16, 14, 14]           1,168\n",
            "              ReLU-5           [-1, 16, 14, 14]               0\n",
            "         MaxPool2d-6             [-1, 16, 7, 7]               0\n",
            "            Linear-7                   [-1, 10]           7,850\n",
            "           Softmax-8                   [-1, 10]               0\n",
            "================================================================\n",
            "Total params: 9,098\n",
            "Trainable params: 9,098\n",
            "Non-trainable params: 0\n",
            "----------------------------------------------------------------\n",
            "Input size (MB): 0.00\n",
            "Forward/backward pass size (MB): 0.16\n",
            "Params size (MB): 0.03\n",
            "Estimated Total Size (MB): 0.20\n",
            "----------------------------------------------------------------\n"
          ]
        }
      ]
    },
    {
      "cell_type": "markdown",
      "source": [
        "### 하이퍼 파라미터 셋팅"
      ],
      "metadata": {
        "id": "QMJU_ffU8Xco"
      }
    },
    {
      "cell_type": "code",
      "source": [
        "learning_rate = 0.001\n",
        "optimizer = torch.optim.Adam(model.parameters(), lr=learning_rate)\n",
        "criterion = torch.nn.CrossEntropyLoss()\n",
        "epochs = 10"
      ],
      "metadata": {
        "id": "yXSyglXs688t"
      },
      "execution_count": null,
      "outputs": []
    },
    {
      "cell_type": "markdown",
      "source": [
        "### 모델 학습"
      ],
      "metadata": {
        "id": "ES5-upOx8fjV"
      }
    },
    {
      "cell_type": "code",
      "source": [
        "def get_mean(metrics):\n",
        "    return round(sum(metrics) / len(metrics), 4)"
      ],
      "metadata": {
        "id": "owBFJZb18cgB"
      },
      "execution_count": null,
      "outputs": []
    },
    {
      "cell_type": "code",
      "source": [
        "from collections import defaultdict\n",
        "import numpy as np\n",
        "from tqdm import tqdm\n",
        "from sklearn.metrics import accuracy_score\n",
        "\n",
        "\n",
        "def train_model(model):\n",
        "    model.train()\n",
        "    loss_list = []\n",
        "    acc_list = []\n",
        "    for x_train, y_train in tqdm(train_dataloader):\n",
        "        outputs = model(x_train)\n",
        "        loss = criterion(outputs, y_train)\n",
        "        loss_list.append(loss.item())\n",
        "\n",
        "        optimizer.zero_grad()\n",
        "        loss.backward()\n",
        "        optimizer.step()\n",
        "\n",
        "        pred = torch.argmax(outputs, dim=1)\n",
        "        acc = accuracy_score(y_train, pred)\n",
        "        acc_list.append(acc)\n",
        "    return get_mean(loss_list), get_mean(acc_list)"
      ],
      "metadata": {
        "id": "SKCRUVOk8jwl"
      },
      "execution_count": null,
      "outputs": []
    },
    {
      "cell_type": "code",
      "source": [
        "def validate_model(model):\n",
        "    model.eval()\n",
        "    loss_list = []\n",
        "    acc_list = []\n",
        "    for x_val, y_val in tqdm(val_dataloader):\n",
        "        with torch.no_grad():\n",
        "            outputs = model(x_val)\n",
        "            loss = criterion(outputs, y_val)\n",
        "            loss_list.append(loss.item())\n",
        "\n",
        "            pred = torch.argmax(outputs, dim=1)\n",
        "            acc = accuracy_score(y_val, pred)\n",
        "            acc_list.append(acc)\n",
        "    return get_mean(loss_list), get_mean(acc_list)"
      ],
      "metadata": {
        "id": "hEuIklgs8mMT"
      },
      "execution_count": null,
      "outputs": []
    },
    {
      "cell_type": "code",
      "source": [
        "from collections import defaultdict\n",
        "\n",
        "\n",
        "def train_validate_model(model):\n",
        "    logs = defaultdict(list)\n",
        "    for epoch in range(epochs):\n",
        "        train_loss, train_acc = train_model(model)\n",
        "        val_loss, val_acc = validate_model(model)\n",
        "        logs[\"train_loss\"].append(train_loss)\n",
        "        logs[\"train_acc\"].append(train_acc)\n",
        "        logs[\"val_loss\"].append(val_loss)\n",
        "        logs[\"val_acc\"].append(val_acc)\n",
        "        print(f\"epoch {epoch + 1} train - loss: {train_loss} acc: {train_acc} val - loss: {val_loss} acc: {val_acc}\")\n",
        "    return logs"
      ],
      "metadata": {
        "id": "jZfXDX1q8of_"
      },
      "execution_count": null,
      "outputs": []
    },
    {
      "cell_type": "code",
      "source": [
        "logs = train_validate_model(model)"
      ],
      "metadata": {
        "colab": {
          "base_uri": "https://localhost:8080/"
        },
        "id": "SLo2vMVb83Tc",
        "outputId": "6f7c0f54-402e-4b04-eebc-90272278f3cb"
      },
      "execution_count": null,
      "outputs": [
        {
          "output_type": "stream",
          "name": "stderr",
          "text": [
            "100%|██████████| 1875/1875 [00:21<00:00, 86.37it/s]\n",
            "100%|██████████| 313/313 [00:02<00:00, 133.61it/s]\n"
          ]
        },
        {
          "output_type": "stream",
          "name": "stdout",
          "text": [
            "epoch 1 train - loss: 1.6051 acc: 0.8658 val - loss: 1.5042 acc: 0.9599\n"
          ]
        },
        {
          "output_type": "stream",
          "name": "stderr",
          "text": [
            "100%|██████████| 1875/1875 [00:20<00:00, 91.52it/s] \n",
            "100%|██████████| 313/313 [00:02<00:00, 129.65it/s]\n"
          ]
        },
        {
          "output_type": "stream",
          "name": "stdout",
          "text": [
            "epoch 2 train - loss: 1.4983 acc: 0.9652 val - loss: 1.4903 acc: 0.9727\n"
          ]
        },
        {
          "output_type": "stream",
          "name": "stderr",
          "text": [
            "100%|██████████| 1875/1875 [00:20<00:00, 91.30it/s]\n",
            "100%|██████████| 313/313 [00:02<00:00, 145.64it/s]\n"
          ]
        },
        {
          "output_type": "stream",
          "name": "stdout",
          "text": [
            "epoch 3 train - loss: 1.4896 acc: 0.9729 val - loss: 1.4906 acc: 0.9722\n"
          ]
        },
        {
          "output_type": "stream",
          "name": "stderr",
          "text": [
            "100%|██████████| 1875/1875 [00:20<00:00, 90.79it/s]\n",
            "100%|██████████| 313/313 [00:02<00:00, 137.81it/s]\n"
          ]
        },
        {
          "output_type": "stream",
          "name": "stdout",
          "text": [
            "epoch 4 train - loss: 1.4848 acc: 0.9775 val - loss: 1.4829 acc: 0.9795\n"
          ]
        },
        {
          "output_type": "stream",
          "name": "stderr",
          "text": [
            "100%|██████████| 1875/1875 [00:20<00:00, 92.48it/s]\n",
            "100%|██████████| 313/313 [00:03<00:00, 104.19it/s]\n"
          ]
        },
        {
          "output_type": "stream",
          "name": "stdout",
          "text": [
            "epoch 5 train - loss: 1.4827 acc: 0.9789 val - loss: 1.4821 acc: 0.9804\n"
          ]
        },
        {
          "output_type": "stream",
          "name": "stderr",
          "text": [
            "100%|██████████| 1875/1875 [00:19<00:00, 94.70it/s]\n",
            "100%|██████████| 313/313 [00:02<00:00, 133.17it/s]\n"
          ]
        },
        {
          "output_type": "stream",
          "name": "stdout",
          "text": [
            "epoch 6 train - loss: 1.4806 acc: 0.9812 val - loss: 1.4787 acc: 0.9828\n"
          ]
        },
        {
          "output_type": "stream",
          "name": "stderr",
          "text": [
            "100%|██████████| 1875/1875 [00:20<00:00, 89.89it/s]\n",
            "100%|██████████| 313/313 [00:02<00:00, 145.37it/s]\n"
          ]
        },
        {
          "output_type": "stream",
          "name": "stdout",
          "text": [
            "epoch 7 train - loss: 1.4789 acc: 0.9826 val - loss: 1.4789 acc: 0.9828\n"
          ]
        },
        {
          "output_type": "stream",
          "name": "stderr",
          "text": [
            "100%|██████████| 1875/1875 [00:20<00:00, 90.94it/s]\n",
            "100%|██████████| 313/313 [00:02<00:00, 143.87it/s]\n"
          ]
        },
        {
          "output_type": "stream",
          "name": "stdout",
          "text": [
            "epoch 8 train - loss: 1.4781 acc: 0.9836 val - loss: 1.4789 acc: 0.9829\n"
          ]
        },
        {
          "output_type": "stream",
          "name": "stderr",
          "text": [
            "100%|██████████| 1875/1875 [00:21<00:00, 88.71it/s]\n",
            "100%|██████████| 313/313 [00:02<00:00, 140.37it/s]\n"
          ]
        },
        {
          "output_type": "stream",
          "name": "stdout",
          "text": [
            "epoch 9 train - loss: 1.4767 acc: 0.985 val - loss: 1.4779 acc: 0.9837\n"
          ]
        },
        {
          "output_type": "stream",
          "name": "stderr",
          "text": [
            "100%|██████████| 1875/1875 [00:21<00:00, 87.01it/s]\n",
            "100%|██████████| 313/313 [00:02<00:00, 141.00it/s]"
          ]
        },
        {
          "output_type": "stream",
          "name": "stdout",
          "text": [
            "epoch 10 train - loss: 1.4759 acc: 0.9855 val - loss: 1.4766 acc: 0.9853\n"
          ]
        },
        {
          "output_type": "stream",
          "name": "stderr",
          "text": [
            "\n"
          ]
        }
      ]
    },
    {
      "cell_type": "markdown",
      "source": [
        "### 결과 시각화"
      ],
      "metadata": {
        "id": "Xwy6KjTjBgHs"
      }
    },
    {
      "cell_type": "code",
      "source": [
        "from matplotlib import pyplot as plt\n",
        "\n",
        "def plot_loss_acc(logs):\n",
        "    fig = plt.figure(figsize=(10, 4))\n",
        "\n",
        "    ax0 = fig.add_subplot(1, 2, 1)\n",
        "    ax1 = fig.add_subplot(1, 2, 2)\n",
        "    ax0.plot(logs[\"train_loss\"], label=\"train\")\n",
        "    ax0.plot(logs[\"val_loss\"], label=\"val\")\n",
        "    ax0.legend()\n",
        "    ax0.set_title(\"loss\")\n",
        "\n",
        "    ax1.plot(logs[\"train_acc\"], label=\"train\")\n",
        "    ax1.plot(logs[\"val_acc\"], label=\"val\")\n",
        "    ax1.legend()\n",
        "    ax1.set_title(\"accuracy\")\n",
        "    plt.legend()"
      ],
      "metadata": {
        "id": "AI4a43_iBfcN"
      },
      "execution_count": null,
      "outputs": []
    },
    {
      "cell_type": "code",
      "source": [
        "plot_loss_acc(logs)"
      ],
      "metadata": {
        "colab": {
          "base_uri": "https://localhost:8080/",
          "height": 391
        },
        "id": "TbbFTffd9LHG",
        "outputId": "f865e14a-842f-4904-a96b-3424437b5c91"
      },
      "execution_count": null,
      "outputs": [
        {
          "output_type": "display_data",
          "data": {
            "text/plain": [
              "<Figure size 1000x400 with 2 Axes>"
            ],
            "image/png": "[encoded data removed]"
          },
          "metadata": {}
        }
      ]
    },
    {
      "cell_type": "markdown",
      "source": [
        "## 정리\n",
        "\n",
        "이번 챕터에서는 간단한 CNN으로 MNIST 이미지 분류 모델을 만들어보았습니다. 그 결과 비교적 적은 파라미터로 98% 정확도에 달하는 모델을 만들 수 있었습니다."
      ],
      "metadata": {
        "id": "tD3g0lljI-s4"
      }
    }
  ]
}