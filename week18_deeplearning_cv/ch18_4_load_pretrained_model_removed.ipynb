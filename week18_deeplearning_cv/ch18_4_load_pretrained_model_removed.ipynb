{
 "cells": [
  {
   "cell_type": "markdown",
   "metadata": {
    "colab_type": "text",
    "id": "view-in-github"
   },
   "source": [
    "<a href=\"https://colab.research.google.com/github/yeomko22/data_analytics_camp_2023_share/blob/main/week18_deeplearning_cv/ch18_4_load_pretrained_model.ipynb\" target=\"_parent\"><img src=\"https://colab.research.google.com/assets/colab-badge.svg\" alt=\"Open In Colab\"/></a>"
   ]
  },
  {
   "cell_type": "markdown",
   "metadata": {
    "id": "m5oVsShX5A8R"
   },
   "source": [
    "# ch18_4 load pretrained model\n",
    "\n",
    "이전 챕터에서 다양한 CNN 아키텍쳐들을 살펴보았습니다. 이러한 아키텍쳐를 직접 코딩하고, 수백만장의 이미지에 대해서 직접 학습시키는 것은 무척 수고스러운 일입니다만, 이미 학습이 완료된 모델들이 많이 공개되어 있습니다. 이번 챕터에서는 이런 공개된 모델들을 쉽게 가져다가 사용하는 방법을 익혀보겠습니다.\n"
   ]
  },
  {
   "cell_type": "markdown",
   "metadata": {
    "id": "gOfwS5bfWh2G"
   },
   "source": [
    "## Pretrained Model 사용하기"
   ]
  },
  {
   "cell_type": "markdown",
   "metadata": {
    "id": "7xVi9UYR7DaM"
   },
   "source": [
    "### Load Model\n",
    "\n",
    "다음 문서를 보면 pretrained model을 로드할 수 있는 다양한 방법들에 대해서 소개되어 있습니다.\n",
    "https://pytorch.org/vision/stable/models.html  \n",
    "\n",
    "[link text](https://)이 중에서 우리는 미리 학습된 resnet 18 모델을 불러와보겠습니다."
   ]
  },
  {
   "cell_type": "code",
   "execution_count": null,
   "metadata": {},
   "outputs": [],
   "source": []
  },
  {
   "cell_type": "markdown",
   "metadata": {
    "id": "wBcJRv9LB_rQ"
   },
   "source": [
    "### Inference"
   ]
  },
  {
   "cell_type": "code",
   "execution_count": null,
   "metadata": {},
   "outputs": [],
   "source": []
  },
  {
   "cell_type": "markdown",
   "metadata": {
    "id": "IBfkGTbxiZlq"
   },
   "source": [
    "## 정리\n",
    "\n",
    "이번 챕터에서는 대량의 데이터 셋을 학습한 pretrained model을 가져와서 사용하는 방법에 대해서 배워봤습니다. 다음 챕터에서는 이런 pretrained model을 내 용도에 맞게 fine-tuning 하는 방법에 대해서 알아보겠습니다."
   ]
  }
 ],
 "metadata": {
  "colab": {
   "authorship_tag": "ABX9TyNAJwrlCOijUve9VeAQco48",
   "include_colab_link": true,
   "mount_file_id": "1HrGV-_X5ZeQF_VVQxY7UA8eE8AFia4Tt",
   "provenance": []
  },
  "kernelspec": {
   "display_name": "Python 3 (ipykernel)",
   "language": "python",
   "name": "python3"
  },
  "language_info": {
   "codemirror_mode": {
    "name": "ipython",
    "version": 3
   },
   "file_extension": ".py",
   "mimetype": "text/x-python",
   "name": "python",
   "nbconvert_exporter": "python",
   "pygments_lexer": "ipython3",
   "version": "3.10.8"
  }
 },
 "nbformat": 4,
 "nbformat_minor": 4
}
