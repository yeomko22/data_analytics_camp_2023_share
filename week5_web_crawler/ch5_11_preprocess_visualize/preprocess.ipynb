{
 "cells": [
  {
   "cell_type": "markdown",
   "id": "93215f88-ad81-4429-b35b-dc0b78265b16",
   "metadata": {},
   "source": [
    "## ch 5_11. 데이터 전처리하기\n",
    "\n",
    "크롤링을 통해 수집한 뉴스 기사 데이터에서 필요없는 부분을 먼저 제거하겠습니다. 텍스트 데이터를 전처리할 때는 정규 표현식을 활용하면 좋습니다.\n",
    "\n",
    "## 불필요한 텍스트 제거\n",
    "- 기사 시작 부분에 언론사나 기자 이름을 언급하는 부분\n",
    "- 기사 마지막 부분에 사진 출처를 언급하는 부분"
   ]
  },
  {
   "cell_type": "markdown",
   "id": "64abac64-1028-4944-899b-ea89cb662bdf",
   "metadata": {},
   "source": [
    "### 전처리 하기 전 텍스트 확인"
   ]
  },
  {
   "cell_type": "code",
   "execution_count": 8,
   "id": "1e421ae1-e1bc-4c95-af74-1a49cb889ebd",
   "metadata": {},
   "outputs": [
    {
     "name": "stderr",
     "output_type": "stream",
     "text": [
      "102919it [00:01, 79891.17it/s]"
     ]
    },
    {
     "name": "stdout",
     "output_type": "stream",
     "text": [
      "total data:  102520 filtered: 399\n"
     ]
    },
    {
     "name": "stderr",
     "output_type": "stream",
     "text": [
      "\n"
     ]
    }
   ],
   "source": [
    "import csv\n",
    "from tqdm import tqdm\n",
    "\n",
    "data = []\n",
    "filtered_cnt = 0 \n",
    "with open(\"./data/baseball_news.csv\") as fr:\n",
    "    reader = csv.reader(fr)\n",
    "    next(reader)\n",
    "    for row in tqdm(reader):\n",
    "        url, date_str, title, content = row\n",
    "        \n",
    "        # 제목이나 본문이 비어있는 기사는 제외\n",
    "        if not title or not content:\n",
    "            filtered_cnt += 1\n",
    "            continue\n",
    "        data.append(row)\n",
    "print(\"total data: \", len(data), \"filtered:\", filtered_cnt)"
   ]
  },
  {
   "cell_type": "code",
   "execution_count": 14,
   "id": "dffa61da-0e2c-401d-afaf-96e8029df696",
   "metadata": {},
   "outputs": [
    {
     "data": {
      "text/plain": [
       "[['https://sports.news.naver.com/news?oid=117&aid=0003566396',\n",
       "  '20220101',\n",
       "  'KBO 역대급 외인타자, 끝내 10개 구단 외면 받고 사라지나',\n",
       "  '[마이데일리 = 윤욱재 기자] KBO 리그 10개 구단의 외국인선수 구성도 막바지를 향하고 있다. 이미 대부분 구단들은 외국인타자 계약을 완료했다. \\'안타 기계\\' 호세 미구엘 페르난데스와 재계약을 추진하고 있는 두산을 제외하면 모든 구단이 2022년에 그라운드를 누빌 외국인타자를 확정한 상태다.키움은 메이저리그 통산 132홈런을 터뜨린 야시엘 푸이그를 전격 영입하면서 화제를 뿌렸다. KT는 헨리 라모스, SSG는 케빈 크론, KIA는 소크라테스 브리토, LG는 리오 루이즈, 롯데는 D.J. 피터스, 한화는 마이크 터크먼, NC는 닉 마티니를 새로 수혈했다. 삼성은 호세 피렐라와 재계약을 맺었다.결국 KBO 리그에서 \\'역대급 외국인타자\\'로 활약했던 그는 10개 구단의 외면을 받고 말 것인가. 바로 에릭 테임즈의 이야기다.테임즈는 2014년 NC에 입단해 처음으로 한국 무대를 밟았다. 타율 .343 37홈런 121타점 11도루를 기록하며 NC의 창단 첫 포스트시즌 진출을 이끌었던 테임즈는 2015년에는 타율 .381 47홈런 140타점 40도루라는 믿기지 않는 성적으로 한국 무대를 완전 정복했다. 그가 달성한 40홈런-40도루 클럽은 KBO 리그 역대 1호 기록이었다. KBO 리그 3년차를 맞은 2016년에도 타율 .321 40홈런 121타점 13도루로 기복이 없었다.한국에서 파워히터로 거듭난 테임즈는 메이저리그 구단들의 관심을 받았고 2017년 밀워키에서 뛰면서 빅리그 복귀의 꿈을 이뤘다. 그해 타율 .247 31홈런 63타점으로 그의 파워가 메이저리그에서도 통할 수 있다는 것을 보여줬다.테임즈는 2018년 타율 .219 16홈런 37타점으로 주춤했고 2019년 타율 .247 25홈런 61타점을 기록한 뒤 2020시즌을 앞두고 워싱턴으로 이적했다. 그러나 그가 워싱턴에서 남긴 성적은 타율 .203 3홈런 12타점이 전부였다.테임즈의 선택은 일본이었다. 지난 해 일본 최고의 명문 요미우리에 입단한 테임즈는 4월 27일 야쿠르트와의 경기에서 좌익수 수비를 하다 오른쪽 발목을 다쳤고 이것이 아킬레스건 파열로 이어져 시즌 아웃을 당하는 불운을 피하지 못했다. 결국 테임즈는 지난 해 8월 웨이버 공시가 되면서 요미우리 유니폼을 벗었다.다시 \\'FA\\' 신분이 된 테임즈가 화제가 된 것은 바로 테임즈의 보류권 때문이었다. NC가 갖고 있던 보류권은 2021년을 끝으로 해제됐다. 따라서 2022시즌을 앞두고 10개 구단이 모두 테임즈를 영입할 수 있는 권한이 있었다.하지만 테임즈를 두고 부정적인 시선이 존재했다. 우선 테임즈가 KBO 리그를 정복할 시기(2014~2016년)는 28~30세로 전성기라 칭할 수 있는 나이였다. 또한 아킬레스건 파열로 수술대에 오른 만큼 몸 상태에 대한 확신을 갖기도 어려웠다. 한 관계자는 \"테임즈가 부상 이력이 있고 나이도 적지 않아 한국으로 돌아오기 쉽지 않을 것\"이라고 전망했는데 현실로 나타나는 분위기다.여기에 메이저리그 직장폐쇄로 인해 갈 길을 잃은 수준급 타자들이 한국과 일본 무대를 노크하면서 굳이 테임즈에게 관심을 가질 이유는 없었다. 푸이그의 경력은 가히 역대급이라 할 수 있고 터크먼, 루이즈, 피터스 등도 지난 해 빅리그에서 뛰었던 따끈따끈한 타자들이다.[에릭 테임즈. 사진 = 마이데일리 DB](윤욱재 기자 wj38@mydaily.co.kr)'],\n",
       " ['https://sports.news.naver.com/news?oid=117&aid=0003566395',\n",
       "  '20220101',\n",
       "  \"'불혹의 거인’ 침묵이 심상찮다...'꿈'이 영원히 사라지고 있는데...\",\n",
       "  '[마이데일리 = 장윤호 기자]롯데 자이언츠의 거인 이대호(40)의 꿈이 무너져가고 있다. 이대호가 새해 40세 불혹(不惑)의 나이가 됐다. 불혹은 주위에서 어떤 일이 벌어져도 중심을 잃지 않고 자신만의 원칙을 지켜 나갈 수 있는 경지에 오르는 시기다. 이번 스토브리그에 롯데 구단에 걱정스러운 일이 벌어지고 있다. 그런데 이대호는 어떤 대외 활동도 하지 않고 침묵하며 조용히 개인 훈련에 집중하는 모습이다. 불혹이 돼서인가? 지난 2017년 1월24일이다. 벌써 5년의 시간이 흘렀다. 롯데의 프랜차이즈 스타 이대호가 일본프로야구 미국 메이저리그를 거쳐 고향팀 롯데로 돌아왔다. 그는 ‘조선의 4번타자’답게 단숨에 최고가 됐다. 삼성에서 FA가 된 최형우가 고향팀 KIA 타이거즈와 4년 계약을 하면서 기록한 총액 100억 원을 훨씬 넘어 150억 원에 롯데와 계약했다. 당시 인터뷰에서 이대호는 ‘메이저리그에서 열심히 노력해 꿈을 이루었다. 남은 것은 롯데로 돌아와 함께 우승을 하는 것이다. 마지막 소원이 롯데의 우승’이라고 밝혔다. 2001년 롯데에 2차 1순위로 입단해 2011시즌까지 11시즌 동안 이대호는 무려 225개의 홈런을 쏘아 올렸다. 그리고 2008~2011 시즌까지 4년 연속 롯데를 포스트시즌으로 이끌었으나 한국시리즈 우승을 못하고 일본 프로야구로 떠났다. 그 때도 롯데에 서운함이 있었으나 말 없이 덮었다. 4년의 계약 기간이 지나갔다. 여전히 롯데는 한국시리즈 근처에 가지 못했다. 이대호는 올해 1월29일 롯데와 2년 총액 26억 원(계약금 8억 원 연봉 8억 원)에 특별한 옵션을 걸었다. 남은 2억 원에 다른 인센티브 조건이 아니라 한국시리즈 우승 의지를 담았다. 그리고 ‘우승하면 받는 1억 원의 옵션을 불우이웃을 돕는데 모두 기부하겠다’고 약속했다. 이대호는 그 때 계약이 늦어져 팬들에게 죄송하다고 말했다. 롯데 팬들이 걱정한 것도 사실이다. 전격 은퇴를 선언할 가능성도 분명히 있었다. 같은 시기 FA 4년 계약을 했던 KIA 최형우는 이미 12월에 3년 총액 47억원(게약금 13억원, 연봉 9억원, 옵션 7억원)에 계약을 맺었다.  차이가 분명히 있다. 최형우와 나이는 1살차였지만 이대호는 4년 계약 기간 중 파워나 기여도에서 그에 뒤지지 않았다. 그런데 단 하나 최형우는 계약 첫 해인 2017시즌 김기태 감독을 도와 팀을 한국시리즈 우승으로 이끌었다. 2022시즌 이대호는 롯데와 17년을 동행하게 된다. 부산에서 태어나고 자란 이대호가 무려 17년이나 한국시리즈 우승을 못하고 유니폼을 벗게 되면 평생 자신은 물론 롯데 팬들의 마음 한켠에 빈 곳이 남아 있게 될 것이다. 그는 2년 재계약을 하면서 은퇴 배수진을 치고 ‘우승을 위해 할 수 있는 모든 것을 다하겠다. 후배들에게 내가 가진 모든 것을 전수해주겠다’고 밝혔다. 그런데 프랜차이즈 스타 손아섭이 NC 다이노스로 떠나고 강민호 재영입도 실패하면서 롯데의 한국시리즈 우승은 점점 멀어져 가고 있다. 이대호의 꿈이 무너져 간다. 이제는 그의 침묵이 어색하다. [사진=마이데일리 DB](장윤호 기자 changyh218@mydaily.co.kr)'],\n",
       " ['https://sports.news.naver.com/news?oid=410&aid=0000841145',\n",
       "  '20220101',\n",
       "  '\\'롯데맨\\'으로 새해 맞은 문경찬 \"불펜 경쟁서 살아남겠다\" [MK인터뷰]',\n",
       "  '“어쩌다 보니 새해맞이 서프라이즈가 됐네요.”2021년의 마지막 날 오후. 문경찬(29)은 소속팀이 NC 다이노스에서 롯데 자이언츠로 바뀌었다는 소식을 접했다.롯데는 지난 31일 NC로 FA(자유계약) 이적한 손아섭(33)의 보상선수로 문경찬을 지명했다. 문경찬은 지난해 8월 KIA 타이거즈에서 NC로 트레이드된 뒤 1년 3개월 만에 또 한 번 유니폼을 바꿔 입게 됐다. 문경찬은 ‘MK스포츠’와의 통화에서 “사실 전날부터 내가 롯데에 보상선수로 가게 될 거라는 소문을 들어서 어쩌면 팀을 옮길 수도 있다는 생각은 했다”며 “막상 현실이 되니 아직 경황은 없다. 새해를 하루 앞두고 서프라이즈처럼 이적하는 기분이다”라고 소감을 전했다.문경찬은 올 시즌 35경기에 등판해 31이닝을 던지며 승리 없이 1패 4홀드 평균자책점 4.94의 성적을 기록했다. 지난해 56경기 5패 10세이브 11홀드 평균자책점 5.02로 주춤했던 가운데 2년 연속 아쉬운 성적을 남겼다. 문경찬은 이 때문에 겨우내 이를 악물고 훈련에 매진 중이었다. 홀로 스프링캠프에 맞춰 컨디션을 끌어올렸던 것과는 다르게 피트니스 센터에서 체계적으로 몸을 만들기 위해 노력했다. 문경찬은 “비시즌 때마다 혼자 운동했었는데 내년에는 꼭 잘하고 싶은 마음으로 센터를 다니면서 열심히 훈련 중이었다”며 “롯데에서 제가 필요했기 때문에 불러주셨다고 생각한다. 기쁜 마음으로 다시 시작할 수 있을 것 같다”고 각오를 밝혔다.또 “NC에는 너무 감사한 기억뿐이다. 주장 (양) 의지 형을 비롯해서 감독님, 코치님, 선수들까지 모두 저를 잘 챙겨 주신 덕분에 편하게 잘 지냈고 적응도 수월했다”며 “한국시리즈 우승 등 좋은 경험을 하고 많은 것을 배우고 간다. 좋은 모습을 보여드리지 못하고 떠나 마음이 무거울 뿐이다”라고 작별 인사를 남겼다.문경찬의 새해 목표는 롯데에서의 ‘생존’이다. 롯데 불펜이 탄탄한 만큼 자신이 1군에서 기회를 얻기 위해서 최선을 다하겠다는 각오다.상무에서 군복무를 함께했던 구승민(31), KIA 시절 한솥밥을 먹었던 안치홍(31), 건국대 6년 선배 전준우(35) 등 친숙한 얼굴들이 있어 롯데 적응에는 어려움이 없을 전망이다.문경찬은 “내가 투수다보니까 롯데와 경기를 할 때면 롯데 투수진을 유심히 지켜봤다”며 “롯데 불펜에 좋은 투수들이 많은데 나도 자리를 잡기 위해서는 경쟁을 해야 한다. 더 동기부여도 되고 각오도 다져지는 것 같다”고 강조했다.이어 “롯데팬들이 열정적인 걸로 유명한데 관심 있게 지켜봐 주시고 응원해 주시면 좋은 모습을 보여드릴 수 있게 최선을 다하겠다”고 덧붙였다.']]"
      ]
     },
     "execution_count": 14,
     "metadata": {},
     "output_type": "execute_result"
    }
   ],
   "source": [
    "data[:3]"
   ]
  },
  {
   "cell_type": "code",
   "execution_count": 81,
   "id": "8a979d64-9471-47fc-951c-888c14068971",
   "metadata": {},
   "outputs": [],
   "source": [
    "example_content = data[0][3]"
   ]
  },
  {
   "cell_type": "code",
   "execution_count": 82,
   "id": "49d15cef-6ba2-4bc4-8103-39e653b13ea7",
   "metadata": {},
   "outputs": [],
   "source": [
    "prefix_pattern_one = re.compile(r\"^\\[.*?\\]\\s*\")"
   ]
  },
  {
   "cell_type": "code",
   "execution_count": 84,
   "id": "fb2c8990-94e1-41ad-b205-6ebdf2d9ba23",
   "metadata": {},
   "outputs": [
    {
     "data": {
      "text/plain": [
       "<re.Match object; span=(0, 17), match='[마이데일리 = 윤욱재 기자] '>"
      ]
     },
     "execution_count": 84,
     "metadata": {},
     "output_type": "execute_result"
    }
   ],
   "source": [
    "prefix_pattern_one.match(example_content)"
   ]
  },
  {
   "cell_type": "markdown",
   "id": "ea9c7f57-a35c-4662-876b-163b4eab47e9",
   "metadata": {},
   "source": [
    "## 필터링에 사용할 정규 표현식 작성 요령\n",
    "\n",
    "1. 예시 데이터를 가지고 정규표현식을 작성한 뒤, 결과를 확인한다.\n",
    "2. 여러 데이터 셋에 대해서도 정규표현식이 의도한 대로 동작하는지 확인한다."
   ]
  },
  {
   "cell_type": "markdown",
   "id": "150d6f3f-061e-4987-8e6f-d5c152157a5d",
   "metadata": {
    "tags": []
   },
   "source": [
    "### 전체 데이터 셋에서 100개를 샘플링해서 정규표현식 패턴에 일치하는 텍스트만 출력"
   ]
  },
  {
   "cell_type": "code",
   "execution_count": 85,
   "id": "e4d54ba8-719c-4dbf-9261-9a540ceafb54",
   "metadata": {},
   "outputs": [],
   "source": [
    "import random\n",
    "\n",
    "random.seed(1234)\n",
    "\n",
    "def check_pattern_match(data, pattern, num_samples=200):\n",
    "    samples = random.choices(data, k=num_samples)\n",
    "    sample_contents = [sample[-1] for sample in samples]\n",
    "    for sample_content in sample_contents:\n",
    "        match = re.match(pattern, sample_content)\n",
    "        if match:\n",
    "            print(match)"
   ]
  },
  {
   "cell_type": "markdown",
   "id": "12fac487-6b3a-409b-a10f-8efe54b72e2e",
   "metadata": {
    "tags": []
   },
   "source": [
    "### 기사 본문 맨 앞에 꺽쇠와 함께 기자 이름, 언론사 이름이 등장하는 경우 필터링\n",
    "- 예시) [마이데일리 = 장윤호 기자]"
   ]
  },
  {
   "cell_type": "code",
   "execution_count": 86,
   "id": "c62ddebb-3311-498f-8667-db8965e41490",
   "metadata": {},
   "outputs": [],
   "source": [
    "prefix_pattern_one = re.compile(r\"^\\[.*?\\]\\s*\")\n",
    "prefix_pattern_two = re.compile(r\"^\\(.*?\\)\\s*\")"
   ]
  },
  {
   "cell_type": "code",
   "execution_count": 87,
   "id": "4300eb75-d6f5-4796-942d-e09b93873be3",
   "metadata": {},
   "outputs": [
    {
     "name": "stdout",
     "output_type": "stream",
     "text": [
      "<re.Match object; span=(0, 9), match='(서울=뉴스1) '>\n",
      "<re.Match object; span=(0, 10), match='(서울=연합뉴스) '>\n",
      "<re.Match object; span=(0, 20), match='(엑스포츠뉴스 잠실, 박윤서 기자) '>\n",
      "<re.Match object; span=(0, 16), match='(엑스포츠뉴스 박윤서 기자) '>\n",
      "<re.Match object; span=(0, 16), match='(MHN스포츠\\xa0박연준\\xa0기자) '>\n",
      "<re.Match object; span=(0, 20), match='(엑스포츠뉴스 고척, 김지수 기자) '>\n",
      "<re.Match object; span=(0, 20), match='(엑스포츠뉴스 수원, 김지수 기자) '>\n",
      "<re.Match object; span=(0, 20), match='(엑스포츠뉴스 창원, 윤승재 기자) '>\n",
      "<re.Match object; span=(0, 16), match='(엑스포츠뉴스 윤승재 기자) '>\n",
      "<re.Match object; span=(0, 16), match='(엑스포츠뉴스 김지수 기자) '>\n",
      "<re.Match object; span=(0, 10), match='(서울=연합뉴스) '>\n",
      "<re.Match object; span=(0, 16), match='(MHN스포츠 박연준 기자) '>\n",
      "<re.Match object; span=(0, 10), match='(서울=연합뉴스) '>\n",
      "<re.Match object; span=(0, 16), match='(엑스포츠뉴스 김지수 기자)\\xa0'>\n",
      "<re.Match object; span=(0, 10), match='(인천=연합뉴스) '>\n",
      "<re.Match object; span=(0, 20), match='(엑스포츠뉴스 수원, 김한준 기자) '>\n",
      "<re.Match object; span=(0, 10), match='(서울=연합뉴스) '>\n",
      "<re.Match object; span=(0, 16), match='(엑스포츠뉴스 조은혜 기자)\\xa0'>\n",
      "<re.Match object; span=(0, 20), match='(엑스포츠뉴스 대전, 김지수 기자) '>\n",
      "<re.Match object; span=(0, 16), match='(MHN스포츠\\xa0박연준\\xa0기자)\\xa0'>\n",
      "<re.Match object; span=(0, 10), match='(서울=연합뉴스) '>\n",
      "<re.Match object; span=(0, 20), match='(엑스포츠뉴스 대구, 김지수 기자) '>\n",
      "<re.Match object; span=(0, 16), match='(엑스포츠뉴스 조은혜 기자)\\xa0'>\n"
     ]
    }
   ],
   "source": [
    "check_pattern_match(data, prefix_pattern_two)"
   ]
  },
  {
   "cell_type": "markdown",
   "id": "f08ef112-4b40-4ead-98c3-0ef85d3765f2",
   "metadata": {},
   "source": [
    "### re.sub 함수를 이용해서 불필요한 텍스트 제거\n",
    "앞서서 검증한 패턴을 가지고 데이터 셋에서 불필요한 부분을 제거"
   ]
  },
  {
   "cell_type": "code",
   "execution_count": 88,
   "id": "cbc7a0fc-8d7f-4bd8-abca-35f93fe6127c",
   "metadata": {},
   "outputs": [],
   "source": [
    "import re\n",
    "\n",
    "def filter_prefix(data):\n",
    "    prefix_pattern_one = re.compile(r\"^\\[.*?\\]\\s*\")\n",
    "    prefix_pattern_two = re.compile(r\"^\\(.*?\\)\\s*\")\n",
    "\n",
    "    filtered_data = []\n",
    "    for url, date_str, title, content in tqdm(data):\n",
    "        # 꺽쇠, 괄호 안에 담긴 언론사, 기자명 제거\n",
    "        \n",
    "        content = re.sub(prefix_pattern_one, \"\", content)\n",
    "        content = re.sub(prefix_pattern_two, \"\", content)\n",
    "        if not content:\n",
    "            continue\n",
    "        filtered_data.append((url, date_str, title, content))\n",
    "    return filtered_data"
   ]
  },
  {
   "cell_type": "code",
   "execution_count": 89,
   "id": "5127a393-c226-445b-8109-d0e608b82f7f",
   "metadata": {},
   "outputs": [
    {
     "name": "stderr",
     "output_type": "stream",
     "text": [
      "100%|████████████████████████████████████████| 102520/102520 [00:01<00:00, 61443.90it/s]\n"
     ]
    }
   ],
   "source": [
    "prefix_filtered_data = filter_prefix(data)"
   ]
  },
  {
   "cell_type": "code",
   "execution_count": 91,
   "id": "21ee6c0a-bb47-4533-afd5-915940ba8d4b",
   "metadata": {},
   "outputs": [
    {
     "name": "stderr",
     "output_type": "stream",
     "text": [
      "100%|████████████████████████████████████████| 102481/102481 [00:02<00:00, 46731.11it/s]\n"
     ]
    }
   ],
   "source": [
    "with open(\"./data/baseball_preprocessed.csv\", \"w\") as fw:\n",
    "    writer = csv.writer(fw)\n",
    "    for row in tqdm(prefix_filtered_data):\n",
    "        writer.writerow(row)"
   ]
  }
 ],
 "metadata": {
  "kernelspec": {
   "display_name": "Python 3 (ipykernel)",
   "language": "python",
   "name": "python3"
  },
  "language_info": {
   "codemirror_mode": {
    "name": "ipython",
    "version": 3
   },
   "file_extension": ".py",
   "mimetype": "text/x-python",
   "name": "python",
   "nbconvert_exporter": "python",
   "pygments_lexer": "ipython3",
   "version": "3.10.8"
  }
 },
 "nbformat": 4,
 "nbformat_minor": 5
}
