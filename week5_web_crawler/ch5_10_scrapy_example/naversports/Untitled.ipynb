{
 "cells": [
  {
   "cell_type": "code",
   "execution_count": 3,
   "id": "aabc139c-8537-4acb-ae0c-60025f047d35",
   "metadata": {},
   "outputs": [
    {
     "name": "stderr",
     "output_type": "stream",
     "text": [
      "102916it [00:01, 74931.11it/s]\n"
     ]
    }
   ],
   "source": [
    "import csv\n",
    "from tqdm import tqdm\n",
    "\n",
    "articles = []\n",
    "with open(\"baseball.csv\") as fr:\n",
    "    reader = csv.reader(fr)\n",
    "    next(reader)\n",
    "    for row in tqdm(reader):\n",
    "        articles.append(row)"
   ]
  },
  {
   "cell_type": "code",
   "execution_count": 4,
   "id": "b8e7eabb-4fcc-4128-9822-7991087a53cb",
   "metadata": {},
   "outputs": [],
   "source": [
    "from datetime import datetime\n",
    "\n",
    "articles = sorted(articles, key=lambda x: datetime.strptime(x[0], \"%Y%m%d\"))"
   ]
  },
  {
   "cell_type": "code",
   "execution_count": 19,
   "id": "4188061b-370b-40aa-a7a9-e66bacc1a8d3",
   "metadata": {},
   "outputs": [],
   "source": [
    "with open(\"baseball_news.csv\", \"w\") as fw:\n",
    "    writer = csv.writer(fw)\n",
    "    writer.writerow([\"datetime\", \"title\", \"content\"])\n",
    "    for dt, title, content in articles:\n",
    "        writer.writerow([dt, title, content])"
   ]
  },
  {
   "cell_type": "code",
   "execution_count": null,
   "id": "9da386ff-de85-43c6-9ee2-deaeae5479aa",
   "metadata": {},
   "outputs": [],
   "source": []
  }
 ],
 "metadata": {
  "kernelspec": {
   "display_name": "Python 3 (ipykernel)",
   "language": "python",
   "name": "python3"
  },
  "language_info": {
   "codemirror_mode": {
    "name": "ipython",
    "version": 3
   },
   "file_extension": ".py",
   "mimetype": "text/x-python",
   "name": "python",
   "nbconvert_exporter": "python",
   "pygments_lexer": "ipython3",
   "version": "3.10.8"
  }
 },
 "nbformat": 4,
 "nbformat_minor": 5
}
