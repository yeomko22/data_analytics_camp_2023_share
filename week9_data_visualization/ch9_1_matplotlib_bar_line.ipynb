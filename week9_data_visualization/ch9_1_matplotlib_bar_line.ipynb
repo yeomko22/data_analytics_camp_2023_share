{
 "cells": [
  {
   "cell_type": "markdown",
   "id": "ddb477a8-612a-4225-816f-1700d0598a92",
   "metadata": {},
   "source": [
    "## ch 1. matplotlib\n",
    "이번 챕터에서는 그동안 알게모르게 사용해왔던 시각화 라이브러리들의 사용법을 하나씩 살펴보겠습니다."
   ]
  },
  {
   "cell_type": "code",
   "execution_count": 1,
   "id": "a80ebd27-6828-47bb-b97e-8c4d5d4c7035",
   "metadata": {},
   "outputs": [],
   "source": [
    "import pandas as pd\n",
    "import numpy as np"
   ]
  },
  {
   "cell_type": "code",
   "execution_count": null,
   "id": "40f95292-feb7-4474-ac42-c71d087ac00a",
   "metadata": {},
   "outputs": [],
   "source": []
  },
  {
   "cell_type": "markdown",
   "id": "6d809f10-1581-4b80-8240-2a96c10466b5",
   "metadata": {},
   "source": [
    "## matplotlib line chart\n",
    "가장 기본 그래프인 선 그래프를 그릴 수 있는 다양한 방법들을 알아봅니다."
   ]
  },
  {
   "cell_type": "code",
   "execution_count": null,
   "id": "7d3e6870-40de-4974-8634-c52565065e52",
   "metadata": {},
   "outputs": [],
   "source": []
  },
  {
   "cell_type": "markdown",
   "id": "b1098b9a-0cbc-481d-9434-770fc4722767",
   "metadata": {},
   "source": [
    "### line chart 그리기 및 스타일링\n",
    "\n",
    "경기도에서 서울로 전입한 사람 수를 line chart로 그려보면서 matplotlib의 기본 옵션들을 익혀보겠습니다. 먼저 plt.plot() 함수에 series를 전달하면 series의 index를 x축, series의 값들을 y축으로 하는 선 그래프를 그릴 수 있습니다. 그 외 옵션들은 다음과 같은 역할을 수행합니다.\n",
    "\n",
    "- plt.figure: 도표 크기 지정\n",
    "- plt.title: 도표 제목 지정\n",
    "- plt.xticks: 도표 x축 각 틱별 라벨 지정\n",
    "- plt.xlabel, plt.ylabel: x축 y축을 각각 설명하는 라벨 지정\n",
    "- plt.legend: 도표 오른쪽 위에 선그래프를 설명하는 라벨 추가. 이 때, plot 함수 호출시에 라벨을 지정해주어야 함."
   ]
  },
  {
   "cell_type": "code",
   "execution_count": null,
   "id": "06e1b93e-d80e-4375-b0e9-6cb53ac00399",
   "metadata": {},
   "outputs": [],
   "source": []
  },
  {
   "cell_type": "markdown",
   "id": "3ba3118a-eca9-4074-af09-e89506d596ac",
   "metadata": {},
   "source": [
    "### matplotlib 스타일링\n",
    "\n",
    "matplotlib에서 지원하는 기능들로 그래프를 더 이쁘게 그릴 수 있습니다. 보기 좋은 떡이 먹기도 좋다고 눈에 잘 들어오는 그래프가 더 좋겠죠?\n",
    "\n",
    "- plt.style.use: 미리 정의된 테마 사용, [테마 링크](https://matplotlib.org/stable/gallery/style_sheets/style_sheets_reference.html)"
   ]
  },
  {
   "cell_type": "code",
   "execution_count": null,
   "id": "233241ff-b43b-4db5-8008-2fdcff26e57d",
   "metadata": {},
   "outputs": [],
   "source": []
  },
  {
   "cell_type": "markdown",
   "id": "bb83bb93-6a5a-48ac-abd0-716ed4fc82cf",
   "metadata": {},
   "source": [
    "### 여러 그래프를 한 도표 안에 그리기\n",
    "여러 데이터에 대해서 plt.plot을 호출하면 한 도표에 여러 그래프를 그릴 수 있습니다 "
   ]
  },
  {
   "cell_type": "code",
   "execution_count": null,
   "id": "81d258fa-0295-47cf-aa4e-bcd2398b7152",
   "metadata": {},
   "outputs": [],
   "source": []
  },
  {
   "cell_type": "markdown",
   "id": "daa9fb47-3e05-4348-a1ff-3db12e5440e4",
   "metadata": {},
   "source": [
    "### 화면 분할\n",
    "matplotlib에서 여러개의 도표를 한번에 만들고 싶을 때가 있다. 그럴 때는 figure의 subplot 기능을 사용하여 axe 객체들을 만들고, 각 axe별로 그래프를 그려주면 됩니다."
   ]
  },
  {
   "cell_type": "code",
   "execution_count": null,
   "id": "637ca298-8469-4725-a454-6c59a9716cb4",
   "metadata": {},
   "outputs": [],
   "source": []
  },
  {
   "cell_type": "markdown",
   "id": "a1d6b1ef-78c9-412e-8c5c-bd22de5e39bf",
   "metadata": {},
   "source": [
    "## area graph\n",
    "plot 메서드에 kind=\"area\" 옵션을 주면 영역 그래프를 그릴 수 있습니다. "
   ]
  },
  {
   "cell_type": "code",
   "execution_count": null,
   "id": "8c409505-3558-4b0a-9930-da7aa3a2def9",
   "metadata": {},
   "outputs": [],
   "source": []
  },
  {
   "cell_type": "markdown",
   "id": "8bb50f0b-ceb9-48ae-b3f4-dda761758099",
   "metadata": {},
   "source": [
    "### stacked area graph\n",
    "stacked 옵션을 True로 놓고 그래프를 그려보면 전체 전입자 수와 각 전입지별 비중을 한눈에 확인할 수 있습니다. area 그래프를 사용할 경우 대부분, 이렇게 stack 옵션을 적용하여 시각화를 합니다."
   ]
  },
  {
   "cell_type": "code",
   "execution_count": null,
   "id": "797a2321-83dd-4191-bf1c-299e28a4fa62",
   "metadata": {},
   "outputs": [],
   "source": []
  },
  {
   "cell_type": "markdown",
   "id": "cbcdb770-caa4-474d-86d6-01540ac35ba2",
   "metadata": {},
   "source": [
    "## bar graph"
   ]
  },
  {
   "cell_type": "markdown",
   "id": "fcf2adc7-efda-44bc-ba93-9773695844d0",
   "metadata": {},
   "source": [
    "### 세로 bar graph 그리기"
   ]
  },
  {
   "cell_type": "code",
   "execution_count": null,
   "id": "351bd30e-666b-4097-950c-50a5d1c42d50",
   "metadata": {},
   "outputs": [],
   "source": []
  },
  {
   "cell_type": "markdown",
   "id": "bb4d3f8a-bdb3-4f41-9c95-16c0658899ae",
   "metadata": {},
   "source": [
    "### 가로 bar graph 그리기\n",
    "kind=barh로 주면 가로 barchart를 그릴 수 있습니다."
   ]
  },
  {
   "cell_type": "code",
   "execution_count": null,
   "id": "11c2d1ca-a24f-48c8-b005-a3f5ada58412",
   "metadata": {},
   "outputs": [],
   "source": []
  },
  {
   "cell_type": "markdown",
   "id": "d904409b-5de9-40a3-9be1-fd9e1e0b28e0",
   "metadata": {},
   "source": [
    "### Stacked bar graph\n",
    "bargraph도 area와 마찬가지로 stack 옵션을 적용하여서 그래프를 그릴 수 있습니다. 주로 구성 비율의 변화 등을 보여줄 때 사용합니다."
   ]
  },
  {
   "cell_type": "code",
   "execution_count": null,
   "id": "13272d45-25d7-4c27-8c55-d6a90c3eff60",
   "metadata": {},
   "outputs": [],
   "source": []
  }
 ],
 "metadata": {
  "kernelspec": {
   "display_name": "Python 3 (ipykernel)",
   "language": "python",
   "name": "python3"
  },
  "language_info": {
   "codemirror_mode": {
    "name": "ipython",
    "version": 3
   },
   "file_extension": ".py",
   "mimetype": "text/x-python",
   "name": "python",
   "nbconvert_exporter": "python",
   "pygments_lexer": "ipython3",
   "version": "3.10.8"
  }
 },
 "nbformat": 4,
 "nbformat_minor": 5
}
