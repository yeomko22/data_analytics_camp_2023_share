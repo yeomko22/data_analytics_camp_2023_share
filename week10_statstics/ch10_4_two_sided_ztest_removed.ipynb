{
 "cells": [
  {
   "cell_type": "markdown",
   "id": "73a0bd4e-fa3b-446d-9452-879b44a40efc",
   "metadata": {},
   "source": [
    "## ch 10_4 단측 검정과 양측 검정\n",
    "\n",
    "이전 챕터에서 모분산을 알 때, 표본 평균 값으로 모평균을 추정하는 z-test에 대해서 배웠습니다. 예제는 아래와 같습니다.\n",
    "\n",
    "*Q: 한 쪽은 한국 청소년들의 TV 시청 시간이 평균 3시간이라고 주장합니다. 다른 측은 3시간보다 작을 것이라 주장합니다. 어느 편이 맞는지 알아보기 위해 임의로 추출한 100명을 조사한 결과 평균 2.75 시간이었습니다. TV 시청 시간은 정규 분포를 따르며 분산은 과거 조사에서 1로 알려져 있습니다.*\n",
    "\n",
    "앞선 두 예제는 모두 대립가설을 \"모평균이 특정 값보다 더 작을 것이다\" 라고 잡았습니다. 이런 방식을 단측 검정이라고 부릅니다. 한편, 대립 가설을 \"모평균이 특정값과 같지 않을 것이다\"라고 잡을 수도 있습니다. 이를 양측 검정이라고 부릅니다.\n",
    "\n",
    "- 귀무가설: 모집단의 평균 TV 시청 시간은 3시간이다.\n",
    "- 대립가설: 모집단의 평균 TV 시청 시간은 3시간이 아닐 것이다.\n",
    "\n",
    "이를 기호를 이용해 표현하면 아래와 같습니다.  \n",
    "\n",
    "$$H_{0}:\\;\\mu=3$$\n",
    "$$H_{a}:\\;\\mu\\neq3$$\n",
    "\n",
    "단측 검정인지, 양측 검정인지가 중요한 이유는 이 방식에 따라서 측정되는 p-value가 달라지기 때문입니다. 양측 검정일 때는 어떻게 p-value가 계산되는지 알아보겠습니다."
   ]
  },
  {
   "cell_type": "markdown",
   "id": "4d536ad1-2b17-4b42-964c-9d0eb4029570",
   "metadata": {},
   "source": [
    "### z-statistic 계산\n",
    "\n",
    "$$검정\\;통계량 Z=\\frac{\\bar{X}-\\mu}{\\sigma/\\sqrt{n}}=\\frac{2.75-3}{1/\\sqrt{100}}=-2.5$$"
   ]
  },
  {
   "cell_type": "markdown",
   "id": "d3a9617c-396f-47c0-b86f-9c304c4b8da4",
   "metadata": {},
   "source": [
    "z 통계량은 이전과 동일하게 -2.5가 나왔습니다. "
   ]
  },
  {
   "cell_type": "code",
   "execution_count": 1,
   "id": "758777f1-31af-4fe8-875b-51c5cc4912e3",
   "metadata": {},
   "outputs": [],
   "source": [
    "from matplotlib import pyplot as plt\n",
    "import numpy as np\n",
    "from scipy.stats import norm"
   ]
  },
  {
   "cell_type": "code",
   "execution_count": 8,
   "id": "6d7d9b02-5baf-4158-9d2a-e80532d9165a",
   "metadata": {},
   "outputs": [
    {
     "data": {
      "text/plain": [
       "Text(0.5, 1.0, 'sample mean distribution')"
      ]
     },
     "execution_count": 8,
     "metadata": {},
     "output_type": "execute_result"
    },
    {
     "data": {
      "image/png": "[encoded data removed]",
      "text/plain": [
       "<Figure size 640x480 with 1 Axes>"
      ]
     },
     "metadata": {},
     "output_type": "display_data"
    }
   ],
   "source": [
    "x = np.linspace(-4, 4, 100)  \n",
    "pdf = norm.pdf(x, loc=0, scale=1)\n",
    "plt.plot(x, pdf)\n",
    "plt.vlines(-2.5, ymin=0, ymax=0.5, color=\"red\")\n",
    "plt.vlines(2.5, ymin=0, ymax=0.5, color=\"red\")\n",
    "plt.vlines(-1.96, ymin=0, ymax=0.5, color=\"blue\")\n",
    "plt.vlines(1.96, ymin=0, ymax=0.5, color=\"blue\")\n",
    "plt.vlines(-1.64, ymin=0, ymax=0.5, color=\"green\")\n",
    "plt.fill_between(x, pdf, where=(x <= -2.5), color=\"red\")\n",
    "plt.fill_between(x, pdf, where=(x >= 2.5), color=\"red\")\n",
    "# plt.fill_between(x, pdf, where=(x <= -1.96), color=\"blue\")\n",
    "# plt.fill_between(x, pdf, where=(x >= 1.96), color=\"blue\")\n",
    "plt.title(\"sample mean distribution\")"
   ]
  },
  {
   "cell_type": "markdown",
   "id": "b8d525a8-2df5-42ae-9d4a-92594f06b313",
   "metadata": {},
   "source": [
    "### p-value 계산\n",
    "\n",
    "대립 가설은 \"모집단의 평균 TV 시청 시간은 3시간이 아닐 것이다\" 였습니다. 즉, 표본 평균이 모평균보다 아주 작거나, 아주 크면 귀무 가설을 기각하게 됩니다. 즉, 작은 방향과 큰 방향 모두 포함한 영역의 확률을 계산하여 p-value를 구합니다. 양쪽을 모두 검정하기 때문에 two-sided testing이라고 부릅니다."
   ]
  },
  {
   "cell_type": "markdown",
   "id": "f6986397-6ff5-47c1-94ff-b0880c4ce6b2",
   "metadata": {},
   "source": [
    "표준 정규 분포는 좌우 대칭이기 때문에 이전에 단측 검정에서 구했던 P(Z<= -2.5)=0.0062 값에 2를 곱해주면 양측 검정의 p-value를 구할 수 있으며, 이는 0.0124가 됩니다. 역시 유의 수준 0.05 보다 낮기 때문에 \"평균 TV 시청 시간이 3시간이다\" 라는 귀무가설은 기각 됩니다."
   ]
  },
  {
   "cell_type": "markdown",
   "id": "618e9037-e860-4b5b-8b97-4d42b066e9b6",
   "metadata": {},
   "source": [
    "## 연습문제\n",
    "\n",
    "*Q1. 오랜 기간동안 멀티 고등학교 학생들의 수학 점수를 알아보았는데, 평균 75점 표준편차 15점인 정규분포를 따랐습니다. 올해 100명의 학생들을 대상으로 수학 점수를 확인하였더니 평균이 79.5점이 나왔습니다. 올해 실시한 수학 시험 점수와 이전에 실시한 수학 점수의 평균이 같은지 유의 수준 0.05에서 검정해보세요.*\n",
    "\n"
   ]
  },
  {
   "cell_type": "markdown",
   "id": "99b46efb-a8ec-4ea0-9e1f-bb8954350c83",
   "metadata": {},
   "source": [
    "귀무 가설: 올해 실시한 수학 점수와 이전 점수의 평균이 같다.  \n",
    "대립 가설: 올해 실시한 수학 점수와 이전 점수의 평균이 다르다.\n",
    "\n",
    "z: (79.5 - 75) / (15 / 10) = 3  \n",
    "p-value = 0.00135 * 2 = 0.0027  \n",
    "p-value < 0.05이므로 귀무 가설 기각!"
   ]
  },
  {
   "cell_type": "markdown",
   "id": "c55c399a-c8cf-4a25-bc7e-7b886cca6dc1",
   "metadata": {},
   "source": [
    "*Q2.  수년간 파이썬 강의를 통한 파이썬 코딩 평균 점수가 80점이었고 표준편차는 15점이었다. 이번학기에 프로젝트를 활용한 파이썬 수업을 100명의 수강생들에게 실시하였고, 파이썬 코딩 평균 점수는 85점이었다. 새로운 강의 방식에 따른 수강생들의 평균 점수 85점이 80점과 같은지 유의수준 .05에서 검증하라.*"
   ]
  },
  {
   "cell_type": "markdown",
   "id": "45a8a21e-0319-45bf-96f9-36ac6bf35611",
   "metadata": {},
   "source": [
    "귀무 가설: 이전 수학 점수와 올해 수학 점수의 평균은 같다.  \n",
    "대립 가설: 이전 수학 점수와 올해 수학 점수의 평균은 다르다.  \n",
    "\n",
    "z = (85 - 80) / (15 / 10) = 3.5  \n",
    "p-value = 0.00023 * 2 = 0.00046  \n",
    "p-value < 0.05이므로 귀무 가설은 기각. 그러므로 이전 수학 점수와 올해 수학 점수의 평균은 같지 않다!"
   ]
  },
  {
   "cell_type": "code",
   "execution_count": null,
   "id": "89b57504-fcc4-4789-920e-01a6917acf62",
   "metadata": {},
   "outputs": [],
   "source": []
  }
 ],
 "metadata": {
  "kernelspec": {
   "display_name": "Python 3 (ipykernel)",
   "language": "python",
   "name": "python3"
  },
  "language_info": {
   "codemirror_mode": {
    "name": "ipython",
    "version": 3
   },
   "file_extension": ".py",
   "mimetype": "text/x-python",
   "name": "python",
   "nbconvert_exporter": "python",
   "pygments_lexer": "ipython3",
   "version": "3.10.8"
  }
 },
 "nbformat": 4,
 "nbformat_minor": 5
}
