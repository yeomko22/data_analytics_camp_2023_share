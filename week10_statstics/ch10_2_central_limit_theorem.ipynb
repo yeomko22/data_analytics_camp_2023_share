{
 "cells": [
  {
   "cell_type": "markdown",
   "id": "569fae56-2a0f-44d7-bfbd-1dffe06b5bc1",
   "metadata": {},
   "source": [
    "## ch10_2 중심 극한 정리\n",
    "\n",
    "통계적 추론을 표본의 특징으로부터 모집단의 특징을 추론하는 것이라고 했습니다. 이 때 중요한 역할을 하는 것이 중심극한 정리입니다.\n",
    "\n",
    "모집단이 평균은 μ, 표준 편차는 σ^2를 따르는 임의의 분포일 때, 표본의 크기가 충분히 크다면 표본 평균의 분포는 평균이 μ, 분산은 σ^2/n인 정규분포를 따른다.\n",
    "\n",
    "$$\\bar{X}\\sim N(\\mu,\\frac{\\sigma^2}{n})$$"
   ]
  },
  {
   "cell_type": "markdown",
   "id": "523813a1-51b6-4950-aed1-0de5a64a1320",
   "metadata": {},
   "source": [
    "여기서 충분히 큰 표본의 크기는 보통 30을 잡습니다. 중심 극한 정리는 수학적으로 증명되었으나, 이는 너무 복잡하므로 직접 시뮬레이션을 돌려보면서 실제로 모집단의 분포와 관계 없이, 표본 평균의 분포가 정규분포를 이루는지 확인해보겠습니다."
   ]
  },
  {
   "cell_type": "code",
   "execution_count": null,
   "id": "61aa8880-181d-4e6b-8b01-9969018c2d2b",
   "metadata": {},
   "outputs": [],
   "source": []
  },
  {
   "cell_type": "markdown",
   "id": "962acd22-c7d7-4598-a0d6-15604c3e91b8",
   "metadata": {},
   "source": [
    "### 모집단 분포 확인\n",
    "Fare 컬럼에 대해서 히스토그램을 그려보면, 왼쪽으로 쏠린 분포를 갖는걸 확인할 수 있습니다."
   ]
  },
  {
   "cell_type": "code",
   "execution_count": null,
   "id": "6952cfa0-8a94-4c80-9e54-c5032d276788",
   "metadata": {},
   "outputs": [],
   "source": []
  },
  {
   "cell_type": "markdown",
   "id": "c9ef9022-8c0f-43d7-829a-5f2094c386fa",
   "metadata": {},
   "source": [
    "### 모평균과 모표준편차 확인\n",
    "모평균은 32, 모표준편차는 49입니다."
   ]
  },
  {
   "cell_type": "code",
   "execution_count": null,
   "id": "f101fcd3-084a-4e77-b1d2-0ff8f8b1a2d2",
   "metadata": {},
   "outputs": [],
   "source": []
  },
  {
   "cell_type": "markdown",
   "id": "7fab91b7-3acc-4ecf-a097-0a09fdbe9d19",
   "metadata": {},
   "source": [
    "중심 극한 정리에 따르면 표본 평균은 평균이 32, 표준 편차가 49 / 샘플의 수의 제곱근인 정규 분포를 따라야 합니다. 한번 샘플의 수가 30이라고 가정하고, 표본 평균의 확률 밀도 함수(probaility density function, pdf)를 그려보겠습니다."
   ]
  },
  {
   "cell_type": "code",
   "execution_count": null,
   "id": "3bda6aab-fe5c-4a2c-ae4c-0bbe47a90b17",
   "metadata": {},
   "outputs": [],
   "source": []
  },
  {
   "cell_type": "markdown",
   "id": "6b82806a-148c-4f8f-9085-beb7d348889f",
   "metadata": {},
   "source": [
    "### 시뮬레이션\n",
    "실제로 표본을 추출해서 평균을 구하는 과정을 반복해서 표본 평균이 정규 분포를 따르는지 확인해봅니다."
   ]
  },
  {
   "cell_type": "code",
   "execution_count": null,
   "id": "3cbe732f-5f76-46cb-bfbe-7ff93ea22e54",
   "metadata": {},
   "outputs": [],
   "source": []
  },
  {
   "cell_type": "markdown",
   "id": "744ba9ae-4299-4bd9-8e67-5c35639d8289",
   "metadata": {},
   "source": [
    "### 중심 극한 정리의 의의\n",
    "중심 극한 정리는 통계적 추론에 핵심적인 역할을 합니다. 많은 통계적 추론 방법은 정규분포 가정에 기초하고 있으며, 중심 극한 정리는 이러한 가정의 타당성을 뒷받침해줍니다. 즉, 표본 평균이나 합 등이 정규분포에 근사하게 되면, 이를 통해 신뢰구간 추정, 가설 검정 등의 통계적 분석을 수행할 수 있게 됩니다."
   ]
  },
  {
   "cell_type": "code",
   "execution_count": null,
   "id": "711fe9b0-c0c0-4933-be94-3a81905e079f",
   "metadata": {},
   "outputs": [],
   "source": []
  }
 ],
 "metadata": {
  "kernelspec": {
   "display_name": "Python 3 (ipykernel)",
   "language": "python",
   "name": "python3"
  },
  "language_info": {
   "codemirror_mode": {
    "name": "ipython",
    "version": 3
   },
   "file_extension": ".py",
   "mimetype": "text/x-python",
   "name": "python",
   "nbconvert_exporter": "python",
   "pygments_lexer": "ipython3",
   "version": "3.10.8"
  }
 },
 "nbformat": 4,
 "nbformat_minor": 5
}
