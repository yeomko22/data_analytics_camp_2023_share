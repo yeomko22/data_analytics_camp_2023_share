{
 "cells": [
  {
   "cell_type": "markdown",
   "id": "5b261764-6451-4cae-b2a4-36578521736d",
   "metadata": {},
   "source": [
    "## chatGPT API 사용\n",
    "\n",
    "chatGPT API를 이용하여 유저가 입력한 값을 바탕으로 마케팅 문구를 생성해보겠습니다. 그 과정에서 프롬프트 엔지니어링에 대해서 알아보겠습니다.\n",
    "\n",
    "프롬프트란 LLM에 입력하는 요청 텍스트입니다. chatGPT 콘솔에서 채팅 형식으로 여러 질문을 던지는 것도 프롬프트에 일종입니다. chatGPT API를 사용하면 직접 프롬프트를 만들어서 요청을 보낼 수 있습니다."
   ]
  },
  {
   "cell_type": "code",
   "execution_count": 1,
   "id": "b2c822cb-b94b-495d-a428-d9d7cce85957",
   "metadata": {},
   "outputs": [],
   "source": [
    "import openai\n",
    "import os"
   ]
  },
  {
   "cell_type": "code",
   "execution_count": 2,
   "id": "a1ad6eab-67bf-410b-89d8-59c1203fe6f9",
   "metadata": {},
   "outputs": [],
   "source": [
    "openai_token = os.environ.get(\"OPENAI_TOKEN\")\n",
    "if not openai_token:\n",
    "    raise ValueError(\"no openai token!\")"
   ]
  },
  {
   "cell_type": "code",
   "execution_count": 3,
   "id": "fbc84e46-133d-4c2f-8816-f3c0acffd142",
   "metadata": {},
   "outputs": [],
   "source": [
    "openai.api_key = openai_token"
   ]
  },
  {
   "cell_type": "markdown",
   "id": "777f5429-d489-4684-9225-f1f510bf4531",
   "metadata": {},
   "source": [
    "## openAI chat completion API 사용하기\n",
    "LLM에게 역할을 부여하고, prompt를 만들어서 전달해보겠습니다. 기본적은 chat completion API를 사용하겠습니다."
   ]
  },
  {
   "cell_type": "code",
   "execution_count": 63,
   "id": "83677ae4-09a5-4613-9956-ae1c0c50dbd9",
   "metadata": {},
   "outputs": [],
   "source": [
    "def generate_prompt(name, description, keywords, n):\n",
    "    prompt = f\"\"\" \n",
    "특정 제품 혹은 브랜드를 광고하기 위한 문구를 {n}개 생성해주세요.\n",
    "제품의 특징이 드러나야 합니다.\n",
    "키워드가 주어질 경우, 반드시 키워드 중 하나를 포함해야 합니다.\n",
    "간결하게 한 문장으로 작성해주세요.\n",
    "---\n",
    "제품/브랜드 이름: {name}\n",
    "제품 간단 정보: {description}\n",
    "키워드: {keywords}\n",
    "---\n",
    "\"\"\"\n",
    "    return prompt.strip() "
   ]
  },
  {
   "cell_type": "code",
   "execution_count": 64,
   "id": "3e099e8b-860d-4b1a-ba94-28138e624f58",
   "metadata": {},
   "outputs": [],
   "source": [
    "name = \"카누\"\n",
    "desc = \"브라질 원두를 사용하여 깊은 풍미와 특유의 향이 있음.\"\n",
    "keywords = [\"카페\", \"작다\"] "
   ]
  },
  {
   "cell_type": "code",
   "execution_count": 65,
   "id": "72bbc82f-fb01-49fc-ba24-03eb700247f6",
   "metadata": {},
   "outputs": [],
   "source": [
    "prompt = generate_prompt(name, desc, keywords, n=5)"
   ]
  },
  {
   "cell_type": "code",
   "execution_count": 67,
   "id": "d34468f2-a2a1-40e8-a2d9-be6dd97031b0",
   "metadata": {},
   "outputs": [],
   "source": [
    "request = generate_request(prompt)"
   ]
  },
  {
   "cell_type": "code",
   "execution_count": 70,
   "id": "464a62d0-0491-4d8f-9536-60b0e88a01b0",
   "metadata": {},
   "outputs": [],
   "source": [
    "def request_chat_completion(prompt):\n",
    "    response = openai.ChatCompletion.create(\n",
    "        model=\"gpt-3.5-turbo-0613\",\n",
    "        messages=[\n",
    "            {\"role\": \"system\", \"content\": \"당신은 전문 카피라이터입니다.\"},\n",
    "            {\"role\": \"user\", \"content\": prompt}\n",
    "        ]\n",
    "    )\n",
    "    return response[\"choices\"][0][\"message\"][\"content\"]"
   ]
  },
  {
   "cell_type": "code",
   "execution_count": 69,
   "id": "e26e24d5-53ba-477c-8e8b-fa8400e2f4a0",
   "metadata": {},
   "outputs": [
    {
     "name": "stdout",
     "output_type": "stream",
     "text": [
      "1. 작은 몸집에 강력한 풍미! 카누, 작지만 감동적인 커피 경험을 선사합니다.\n",
      "2. 카누의 작은 사이즈에서 터지는 깊고 풍부한 향과 맛을 느껴보세요.\n",
      "3. 작은 커피머신, 카누로 집에서도 진정한 카페 퀄리티를 즐겨보세요.\n",
      "4. 브라질 원두의 풍미를 담은 카누, 작지만 커피의 큰 맛을 경험할 수 있습니다.\n",
      "5. 작은 사이즈이지만 작은 원두에서 느껴지는 풍부한 맛, 카누의 매력을 경험해보세요.\n"
     ]
    }
   ],
   "source": [
    "print(request_chat_completion(prompt))"
   ]
  },
  {
   "cell_type": "markdown",
   "id": "e4168210-6e56-4b22-9b8c-41e4834d23c1",
   "metadata": {},
   "source": [
    "원하는 결과가 나올 때까지 프롬프트를 살짝 수정하고, 결과 확인하는 과정을 반복하면서 튜닝하면 됩니다."
   ]
  },
  {
   "cell_type": "markdown",
   "id": "9a315663-b82f-448f-96d0-c6ed72edb8d6",
   "metadata": {},
   "source": [
    "## 정리\n",
    "\n",
    "이번 챕터에서는 chatGPT API를 사용하여 마케팅 문구를 만들어 보았습니다. 이를 streamlit에서 연결해서 사용자의 요구에 맞는 광고 문구를 생성하는 웹 서비스를 만들어보겠습니다. "
   ]
  },
  {
   "cell_type": "code",
   "execution_count": null,
   "id": "62d811f1-6d85-4d78-95ad-1317854e3306",
   "metadata": {},
   "outputs": [],
   "source": []
  }
 ],
 "metadata": {
  "kernelspec": {
   "display_name": "Python 3 (ipykernel)",
   "language": "python",
   "name": "python3"
  },
  "language_info": {
   "codemirror_mode": {
    "name": "ipython",
    "version": 3
   },
   "file_extension": ".py",
   "mimetype": "text/x-python",
   "name": "python",
   "nbconvert_exporter": "python",
   "pygments_lexer": "ipython3",
   "version": "3.10.8"
  }
 },
 "nbformat": 4,
 "nbformat_minor": 5
}
