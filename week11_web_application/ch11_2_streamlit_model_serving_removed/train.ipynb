{
 "cells": [
  {
   "cell_type": "markdown",
   "id": "7e222b72-cec8-400a-a1fd-edefca036468",
   "metadata": {},
   "source": [
    "# ch 11_2 streamlit을 이용한 머신러닝 모델 서빙\n",
    "\n",
    "이번 챕터에서는 streamlit을 이용하여 미리 학습시킨 ML 모델을 서빙하는 서비스를 개발해보겠습니다. 이를 위해서 타이타닉 생존자 데이터 셋을 가지고, 생존율을 예측하는 RandomForestRegressor 모델을 학습시켜 보겠습니다. 모델을 서빙하는 서비스 개발이 목적이니, 모델 학습과 관련된 세부 내용은 생략하겠습니다."
   ]
  },
  {
   "cell_type": "markdown",
   "id": "c610f851-057b-4061-8950-401b10883158",
   "metadata": {},
   "source": [
    "## RandomForesRegressor 모델 학습\n",
    "\n",
    "decision tree 챕터에서 배웠던 모델은 탑승자의 정보를 통대로 생존 여부를 0과 1로 분류하는 classification 모델을 배웠습니다. 이번에는 생존 확률을 0과 1 사이의 값으로 예측하는 regression 모델을 학습시켜보겠습니다. 기본적인 원리는 동일하고, 최종 예측 값이 0과 1 사이 연속적인 값으로 나온다는 것만 기억하면 됩니다."
   ]
  },
  {
   "cell_type": "code",
   "execution_count": 1,
   "id": "05bf5c98-f05e-4c11-ba23-abc62de81360",
   "metadata": {},
   "outputs": [],
   "source": [
    "import pandas as pd"
   ]
  },
  {
   "cell_type": "code",
   "execution_count": 12,
   "id": "d44dbdd5-0e09-46c1-826d-76f070a1eb14",
   "metadata": {},
   "outputs": [],
   "source": [
    "train_df = pd.read_csv(\"./data/titanic_train.csv\")\n",
    "test_df = pd.read_csv(\"./data/titanic_test.csv\")"
   ]
  },
  {
   "cell_type": "code",
   "execution_count": 13,
   "id": "0f5cb61b-107f-4d83-80bb-926d5dfe017e",
   "metadata": {},
   "outputs": [],
   "source": [
    "train_df = train_df[[\"Survived\", \"Pclass\", \"Age\", \"Sex\"]]\n",
    "test_df = test_df[[\"Pclass\", \"Age\", \"Sex\"]]"
   ]
  },
  {
   "cell_type": "code",
   "execution_count": 14,
   "id": "f1c4ef0b-4e8b-46ad-9e57-3e015b45be6a",
   "metadata": {},
   "outputs": [],
   "source": [
    "from sklearn.preprocessing import LabelEncoder\n",
    "\n",
    "label_encoder = LabelEncoder()\n",
    "label_encoder.fit(train_df[\"Sex\"])\n",
    "\n",
    "def preprocess(df):\n",
    "    df[\"Age\"] = df[\"Age\"].fillna(0)\n",
    "    df[\"Sex\"] = label_encoder.transform(df[\"Sex\"])\n",
    "    return df"
   ]
  },
  {
   "cell_type": "code",
   "execution_count": 15,
   "id": "f41b16c0-dda4-4aec-82a8-c1ebb924e869",
   "metadata": {},
   "outputs": [],
   "source": [
    "train_df = preprocess(train_df)\n",
    "test_df = preprocess(test_df)"
   ]
  },
  {
   "cell_type": "code",
   "execution_count": 18,
   "id": "2ad7355f-0bbf-4f28-999c-ef677687cc3b",
   "metadata": {},
   "outputs": [],
   "source": [
    "x_train = train_df.drop([\"Survived\"], axis=1)\n",
    "y_train = train_df[\"Survived\"]\n",
    "x_test = test_df"
   ]
  },
  {
   "cell_type": "code",
   "execution_count": 19,
   "id": "86a762a7-b1b2-450a-a2a7-72b6ce72c921",
   "metadata": {},
   "outputs": [
    {
     "data": {
      "text/html": [
       "<style>#sk-container-id-1 {color: black;background-color: white;}#sk-container-id-1 pre{padding: 0;}#sk-container-id-1 div.sk-toggleable {background-color: white;}#sk-container-id-1 label.sk-toggleable__label {cursor: pointer;display: block;width: 100%;margin-bottom: 0;padding: 0.3em;box-sizing: border-box;text-align: center;}#sk-container-id-1 label.sk-toggleable__label-arrow:before {content: \"▸\";float: left;margin-right: 0.25em;color: #696969;}#sk-container-id-1 label.sk-toggleable__label-arrow:hover:before {color: black;}#sk-container-id-1 div.sk-estimator:hover label.sk-toggleable__label-arrow:before {color: black;}#sk-container-id-1 div.sk-toggleable__content {max-height: 0;max-width: 0;overflow: hidden;text-align: left;background-color: #f0f8ff;}#sk-container-id-1 div.sk-toggleable__content pre {margin: 0.2em;color: black;border-radius: 0.25em;background-color: #f0f8ff;}#sk-container-id-1 input.sk-toggleable__control:checked~div.sk-toggleable__content {max-height: 200px;max-width: 100%;overflow: auto;}#sk-container-id-1 input.sk-toggleable__control:checked~label.sk-toggleable__label-arrow:before {content: \"▾\";}#sk-container-id-1 div.sk-estimator input.sk-toggleable__control:checked~label.sk-toggleable__label {background-color: #d4ebff;}#sk-container-id-1 div.sk-label input.sk-toggleable__control:checked~label.sk-toggleable__label {background-color: #d4ebff;}#sk-container-id-1 input.sk-hidden--visually {border: 0;clip: rect(1px 1px 1px 1px);clip: rect(1px, 1px, 1px, 1px);height: 1px;margin: -1px;overflow: hidden;padding: 0;position: absolute;width: 1px;}#sk-container-id-1 div.sk-estimator {font-family: monospace;background-color: #f0f8ff;border: 1px dotted black;border-radius: 0.25em;box-sizing: border-box;margin-bottom: 0.5em;}#sk-container-id-1 div.sk-estimator:hover {background-color: #d4ebff;}#sk-container-id-1 div.sk-parallel-item::after {content: \"\";width: 100%;border-bottom: 1px solid gray;flex-grow: 1;}#sk-container-id-1 div.sk-label:hover label.sk-toggleable__label {background-color: #d4ebff;}#sk-container-id-1 div.sk-serial::before {content: \"\";position: absolute;border-left: 1px solid gray;box-sizing: border-box;top: 0;bottom: 0;left: 50%;z-index: 0;}#sk-container-id-1 div.sk-serial {display: flex;flex-direction: column;align-items: center;background-color: white;padding-right: 0.2em;padding-left: 0.2em;position: relative;}#sk-container-id-1 div.sk-item {position: relative;z-index: 1;}#sk-container-id-1 div.sk-parallel {display: flex;align-items: stretch;justify-content: center;background-color: white;position: relative;}#sk-container-id-1 div.sk-item::before, #sk-container-id-1 div.sk-parallel-item::before {content: \"\";position: absolute;border-left: 1px solid gray;box-sizing: border-box;top: 0;bottom: 0;left: 50%;z-index: -1;}#sk-container-id-1 div.sk-parallel-item {display: flex;flex-direction: column;z-index: 1;position: relative;background-color: white;}#sk-container-id-1 div.sk-parallel-item:first-child::after {align-self: flex-end;width: 50%;}#sk-container-id-1 div.sk-parallel-item:last-child::after {align-self: flex-start;width: 50%;}#sk-container-id-1 div.sk-parallel-item:only-child::after {width: 0;}#sk-container-id-1 div.sk-dashed-wrapped {border: 1px dashed gray;margin: 0 0.4em 0.5em 0.4em;box-sizing: border-box;padding-bottom: 0.4em;background-color: white;}#sk-container-id-1 div.sk-label label {font-family: monospace;font-weight: bold;display: inline-block;line-height: 1.2em;}#sk-container-id-1 div.sk-label-container {text-align: center;}#sk-container-id-1 div.sk-container {/* jupyter's `normalize.less` sets `[hidden] { display: none; }` but bootstrap.min.css set `[hidden] { display: none !important; }` so we also need the `!important` here to be able to override the default hidden behavior on the sphinx rendered scikit-learn.org. See: https://github.com/scikit-learn/scikit-learn/issues/21755 */display: inline-block !important;position: relative;}#sk-container-id-1 div.sk-text-repr-fallback {display: none;}</style><div id=\"sk-container-id-1\" class=\"sk-top-container\"><div class=\"sk-text-repr-fallback\"><pre>RandomForestRegressor(max_depth=10, min_samples_leaf=2, min_samples_split=5,\n",
       "                      n_estimators=50, random_state=1234)</pre><b>In a Jupyter environment, please rerun this cell to show the HTML representation or trust the notebook. <br />On GitHub, the HTML representation is unable to render, please try loading this page with nbviewer.org.</b></div><div class=\"sk-container\" hidden><div class=\"sk-item\"><div class=\"sk-estimator sk-toggleable\"><input class=\"sk-toggleable__control sk-hidden--visually\" id=\"sk-estimator-id-1\" type=\"checkbox\" checked><label for=\"sk-estimator-id-1\" class=\"sk-toggleable__label sk-toggleable__label-arrow\">RandomForestRegressor</label><div class=\"sk-toggleable__content\"><pre>RandomForestRegressor(max_depth=10, min_samples_leaf=2, min_samples_split=5,\n",
       "                      n_estimators=50, random_state=1234)</pre></div></div></div></div></div>"
      ],
      "text/plain": [
       "RandomForestRegressor(max_depth=10, min_samples_leaf=2, min_samples_split=5,\n",
       "                      n_estimators=50, random_state=1234)"
      ]
     },
     "execution_count": 19,
     "metadata": {},
     "output_type": "execute_result"
    }
   ],
   "source": [
    "from sklearn.ensemble import RandomForestRegressor\n",
    "\n",
    "model = RandomForestRegressor(\n",
    "    n_estimators=50,\n",
    "    max_depth=10,\n",
    "    min_samples_leaf=2,\n",
    "    min_samples_split=5,\n",
    "    random_state=1234\n",
    ")\n",
    "model.fit(x_train.values, y_train.values)"
   ]
  },
  {
   "cell_type": "code",
   "execution_count": 28,
   "id": "d7f48e79-bf65-47d2-ae7a-88ebe05712ab",
   "metadata": {},
   "outputs": [
    {
     "data": {
      "text/plain": [
       "0.2678107722171189"
      ]
     },
     "execution_count": 28,
     "metadata": {},
     "output_type": "execute_result"
    }
   ],
   "source": [
    "pclass = 3\n",
    "age = 20\n",
    "sex = 0\n",
    "model.predict([[pclass, age, sex]])[0]"
   ]
  },
  {
   "cell_type": "markdown",
   "id": "7c7f22a9-1309-4de9-a050-cbeb9450dc66",
   "metadata": {},
   "source": [
    "## 생존율 분포 시각화를 위해 inference 진행\n",
    "\n",
    "유저에게 예상 생존율만 알려주면 너무 휑하니, 전체 생존율 분포 가운데 어디에 위치해 있는지를 알려주는 플랏을 한번 그려보겠습니다. 이를 위해 먼저, 전체 탑승객들의 데이터를 가지고 생존율을 예측해보겠습니다."
   ]
  },
  {
   "cell_type": "code",
   "execution_count": 29,
   "id": "a4ae5dcb-2fc1-4f85-9457-c95b17e6da60",
   "metadata": {},
   "outputs": [
    {
     "name": "stderr",
     "output_type": "stream",
     "text": [
      "/Users/user/miniconda3/lib/python3.10/site-packages/sklearn/base.py:402: UserWarning: X has feature names, but RandomForestRegressor was fitted without feature names\n",
      "  warnings.warn(\n"
     ]
    }
   ],
   "source": [
    "scores = model.predict(pd.concat([x_train, x_test]))"
   ]
  },
  {
   "cell_type": "code",
   "execution_count": 30,
   "id": "0b4ee6e5-618d-42b0-b3a1-2981ddf22f83",
   "metadata": {},
   "outputs": [
    {
     "data": {
      "text/plain": [
       "array([0.08080264, 0.89338095, 0.67469015, ..., 0.00196721, 0.09565066,\n",
       "       0.09565066])"
      ]
     },
     "execution_count": 30,
     "metadata": {},
     "output_type": "execute_result"
    }
   ],
   "source": [
    "scores"
   ]
  },
  {
   "cell_type": "markdown",
   "id": "32c264ca-c8f3-49f9-90b0-10e455ab6e1f",
   "metadata": {},
   "source": [
    "### 생존율 분포 시각화\n",
    "\n",
    "seaborn을 이용하여 전체 생존률 분포에서 어디에 위치하는 지를 보여주기 위한 plot을 그립니다. 생존율이 0.5라고 가정하고 그려보겠습니다."
   ]
  },
  {
   "cell_type": "code",
   "execution_count": 41,
   "id": "dfc616f2-3c07-4600-81d1-2dc5f199f4e7",
   "metadata": {},
   "outputs": [
    {
     "data": {
      "text/plain": [
       "([<matplotlib.axis.XTick at 0x29eb2c070>,\n",
       "  <matplotlib.axis.XTick at 0x29eb2c040>,\n",
       "  <matplotlib.axis.XTick at 0x29e9c1c90>,\n",
       "  <matplotlib.axis.XTick at 0x29eb60b80>,\n",
       "  <matplotlib.axis.XTick at 0x29eb61630>,\n",
       "  <matplotlib.axis.XTick at 0x29eb620e0>],\n",
       " [Text(0.0, 0, '0.0'),\n",
       "  Text(0.2, 0, '0.2'),\n",
       "  Text(0.4, 0, '0.4'),\n",
       "  Text(0.6000000000000001, 0, '0.6'),\n",
       "  Text(0.8, 0, '0.8'),\n",
       "  Text(1.0, 0, '1.0')])"
      ]
     },
     "execution_count": 41,
     "metadata": {},
     "output_type": "execute_result"
    },
    {
     "data": {
      "image/png": "[encoded data removed]",
      "text/plain": [
       "<Figure size 1200x600 with 1 Axes>"
      ]
     },
     "metadata": {},
     "output_type": "display_data"
    }
   ],
   "source": [
    "from matplotlib import pyplot as plt\n",
    "import seaborn as sns\n",
    "import numpy as np\n",
    "\n",
    "fig = plt.figure(figsize=(12, 6))\n",
    "ax = fig.add_subplot()\n",
    "sns.set_style(\"whitegrid\")\n",
    "sns.kdeplot(\n",
    "    scores,\n",
    "    fill=True,\n",
    "    alpha=0.5,\n",
    "    ax=ax,\n",
    ")\n",
    "plt.axvline(0.5, color=\"coral\", label=\"YOU\")\n",
    "plt.legend()\n",
    "plt.xticks(np.arange(0, 1.2, 0.2))"
   ]
  },
  {
   "cell_type": "markdown",
   "id": "399011bc-e108-4819-b9a3-37db0dbad0b8",
   "metadata": {},
   "source": [
    "### scores 저장\n",
    "\n",
    "점수 분포대 plot을 그리기 위해서는 scores 데이터가 필요합니다. csv 파일 형태로 저장합니다."
   ]
  },
  {
   "cell_type": "code",
   "execution_count": 42,
   "id": "be27a41d-5341-46d2-8295-63e70dcab8bb",
   "metadata": {},
   "outputs": [],
   "source": [
    "import csv\n",
    "\n",
    "with open(\"./data/scores.csv\", \"w\") as fw:\n",
    "    writer = csv.writer(fw)\n",
    "    for score in scores:\n",
    "        writer.writerow([score])"
   ]
  },
  {
   "cell_type": "markdown",
   "id": "e60f9fc3-596e-4c00-b4e7-43cdf08ef3ab",
   "metadata": {},
   "source": [
    "## 모델 저장\n",
    "\n",
    "학습시킨 RandomForestRegressor 모델은 pickle을 이용해서 저장합니다."
   ]
  },
  {
   "cell_type": "code",
   "execution_count": 43,
   "id": "00ca2910-bfda-4982-8c30-c710f24dae9d",
   "metadata": {},
   "outputs": [],
   "source": [
    "import pickle\n",
    "\n",
    "with open(\"./data/model.pkl\", \"wb\") as fw:\n",
    "    pickle.dump(model, fw)"
   ]
  },
  {
   "cell_type": "markdown",
   "id": "33cf05c8-79d5-4da7-93ea-827c1e1cd16b",
   "metadata": {},
   "source": [
    "잘 저장되었는지, 한번 읽어와서 인퍼런스를 해보겠습니다."
   ]
  },
  {
   "cell_type": "code",
   "execution_count": 44,
   "id": "2234239f-5601-4e94-84a5-50900cb365f6",
   "metadata": {},
   "outputs": [],
   "source": [
    "with open(\"./data/model.pkl\", \"rb\") as fr:\n",
    "    model = pickle.load(fr)"
   ]
  },
  {
   "cell_type": "code",
   "execution_count": 45,
   "id": "bdcc0cdb-97ff-4c4a-9da4-cfceb9ee48c9",
   "metadata": {},
   "outputs": [
    {
     "data": {
      "text/plain": [
       "array([0.59838095])"
      ]
     },
     "execution_count": 45,
     "metadata": {},
     "output_type": "execute_result"
    }
   ],
   "source": [
    "model.predict([[2, 10, 1]])"
   ]
  },
  {
   "cell_type": "markdown",
   "id": "2018ef38-5276-460d-b63e-347970752200",
   "metadata": {},
   "source": [
    "## 정리\n",
    "\n",
    "이번 챕터에서는 타이타닉호 생존율 예측 서비스를 개발하기 위해 필요한 생존율 예측 모델을 학습시켜보았습니다. RandomForestRegressor를 학습시켜봤고, 이전에 배웠던 classification 모델과 크게 다르지 않았습니다. 또한 단순히 예상 생존율 뿐만 아니라 분포 상에 어디에 위치해 있는지도 시각화 해보았습니다. 이를 바탕으로 streamlit을 사용하여 서비스 개발을 해보겠습니다."
   ]
  },
  {
   "cell_type": "code",
   "execution_count": null,
   "id": "2f651e01-08f2-4334-9ec6-76febcb195bc",
   "metadata": {},
   "outputs": [],
   "source": []
  }
 ],
 "metadata": {
  "kernelspec": {
   "display_name": "Python 3 (ipykernel)",
   "language": "python",
   "name": "python3"
  },
  "language_info": {
   "codemirror_mode": {
    "name": "ipython",
    "version": 3
   },
   "file_extension": ".py",
   "mimetype": "text/x-python",
   "name": "python",
   "nbconvert_exporter": "python",
   "pygments_lexer": "ipython3",
   "version": "3.10.8"
  }
 },
 "nbformat": 4,
 "nbformat_minor": 5
}
