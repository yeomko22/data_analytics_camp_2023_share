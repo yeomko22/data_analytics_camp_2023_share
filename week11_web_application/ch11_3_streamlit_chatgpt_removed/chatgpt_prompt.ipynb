{
 "cells": [
  {
   "cell_type": "markdown",
   "id": "5b261764-6451-4cae-b2a4-36578521736d",
   "metadata": {},
   "source": [
    "## chatGPT API 사용\n",
    "\n",
    "chatGPT API를 이용하여 유저가 입력한 값을 바탕으로 마케팅 문구를 생성해보겠습니다. 그 과정에서 프롬프트 엔지니어링에 대해서 알아보겠습니다.\n",
    "\n",
    "프롬프트란 LLM에 입력하는 요청 텍스트입니다. chatGPT 콘솔에서 채팅 형식으로 여러 질문을 던지는 것도 프롬프트에 일종입니다. chatGPT API를 사용하면 직접 프롬프트를 만들어서 요청을 보낼 수 있습니다."
   ]
  },
  {
   "cell_type": "code",
   "execution_count": null,
   "id": "6d56567f-664a-4c73-8f53-0b9389b4232d",
   "metadata": {},
   "outputs": [],
   "source": []
  },
  {
   "cell_type": "markdown",
   "id": "777f5429-d489-4684-9225-f1f510bf4531",
   "metadata": {},
   "source": [
    "## openAI chat completion API 사용하기\n",
    "LLM에게 역할을 부여하고, prompt를 만들어서 전달해보겠습니다. 기본적은 chat completion API를 사용하겠습니다."
   ]
  },
  {
   "cell_type": "code",
   "execution_count": null,
   "id": "62368ea7-52ef-4080-ad1d-238cdafdbd68",
   "metadata": {},
   "outputs": [],
   "source": []
  },
  {
   "cell_type": "markdown",
   "id": "e4168210-6e56-4b22-9b8c-41e4834d23c1",
   "metadata": {},
   "source": [
    "원하는 결과가 나올 때까지 프롬프트를 살짝 수정하고, 결과 확인하는 과정을 반복하면서 튜닝하면 됩니다."
   ]
  },
  {
   "cell_type": "markdown",
   "id": "9a315663-b82f-448f-96d0-c6ed72edb8d6",
   "metadata": {},
   "source": [
    "## 정리\n",
    "\n",
    "이번 챕터에서는 chatGPT API를 사용하여 마케팅 문구를 만들어 보았습니다. 이를 streamlit에서 연결해서 사용자의 요구에 맞는 광고 문구를 생성하는 웹 서비스를 만들어보겠습니다. "
   ]
  },
  {
   "cell_type": "code",
   "execution_count": null,
   "id": "62d811f1-6d85-4d78-95ad-1317854e3306",
   "metadata": {},
   "outputs": [],
   "source": []
  }
 ],
 "metadata": {
  "kernelspec": {
   "display_name": "Python 3 (ipykernel)",
   "language": "python",
   "name": "python3"
  },
  "language_info": {
   "codemirror_mode": {
    "name": "ipython",
    "version": 3
   },
   "file_extension": ".py",
   "mimetype": "text/x-python",
   "name": "python",
   "nbconvert_exporter": "python",
   "pygments_lexer": "ipython3",
   "version": "3.10.8"
  }
 },
 "nbformat": 4,
 "nbformat_minor": 5
}
