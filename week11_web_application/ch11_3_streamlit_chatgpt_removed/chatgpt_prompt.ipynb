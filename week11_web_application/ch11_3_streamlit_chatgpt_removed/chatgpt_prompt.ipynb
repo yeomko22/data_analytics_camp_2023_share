{
 "cells": [
  {
   "cell_type": "markdown",
   "id": "5b261764-6451-4cae-b2a4-36578521736d",
   "metadata": {},
   "source": [
    "## chatGPT API 사용\n",
    "\n",
    "chatGPT API를 이용하여 유저가 입력한 값을 바탕으로 마케팅 문구를 생성해보겠습니다. 그 과정에서 프롬프트 엔지니어링에 대해서 알아보겠습니다.\n",
    "\n",
    "프롬프트란 LLM에 입력하는 요청 텍스트입니다. chatGPT 콘솔에서 채팅 형식으로 여러 질문을 던지는 것도 프롬프트에 일종입니다. chatGPT API를 사용하면 직접 프롬프트를 만들어서 요청을 보낼 수 있습니다."
   ]
  },
  {
   "cell_type": "code",
   "execution_count": 1,
   "id": "6d56567f-664a-4c73-8f53-0b9389b4232d",
   "metadata": {},
   "outputs": [],
   "source": [
    "import streamlit as st"
   ]
  },
  {
   "cell_type": "code",
   "execution_count": 4,
   "id": "314d2a93-5968-4d39-9895-4baa78283134",
   "metadata": {},
   "outputs": [],
   "source": [
    "import openai"
   ]
  },
  {
   "cell_type": "code",
   "execution_count": 5,
   "id": "eeb93194-fae9-4a6a-87f4-2ae6f045424f",
   "metadata": {},
   "outputs": [],
   "source": [
    "openai.api_key = st.secrets.OPENAI_TOKEN"
   ]
  },
  {
   "cell_type": "code",
   "execution_count": 13,
   "id": "04167846-ee2e-4c92-8ae9-9398e1eff731",
   "metadata": {},
   "outputs": [],
   "source": [
    "response = openai.ChatCompletion.create(\n",
    "    model=\"gpt-3.5-turbo\",\n",
    "    messages=[\n",
    "        {\"role\": \"system\", \"content\": \"당신은 유용한 도우미입니다.\"},\n",
    "        {\"role\": \"user\", \"content\": \"주말에 할만한 취미 생활을 추천해주세요\"}\n",
    "    ]\n",
    ")\n",
    "response[\"choices\"][0][\"message\"][\"content\"]"
   ]
  },
  {
   "cell_type": "code",
   "execution_count": 14,
   "id": "2e8fa5ae-0704-4bf9-9e7a-96bf23797585",
   "metadata": {},
   "outputs": [
    {
     "name": "stdout",
     "output_type": "stream",
     "text": [
      "주말에 즐길 수 있는 다양한 취미 생활을 추천해 드립니다. 아래 목록에서 원하는 활동을 선택해 보세요:\n",
      "\n",
      "1. 요리: 새로운 레시피를 시도해보며 요리 실력을 향상시키거나, 친구들과 함께 테마 파티를 열어 미식 경험을 즐길 수 있습니다.\n",
      "\n",
      "2. 스포츠: 야외에서 축구, 테니스, 골프 등 다양한 스포츠를 즐겨보세요. 혹은 체육관에서 운동을 하여 건강을 관리하고 스트레스를 푸는 것도 좋은 방법입니다.\n",
      "\n",
      "3. 책 읽기: 독서는 휴식과 지식 쌓기에 최적인 방법입니다. 장르에 따라 소설이나 자기계발서, 역사서 등 다양한 책을 읽어보세요.\n",
      "\n",
      "4. 미술과 공예: 그림 그리기, 조각, 자수 등 원하는 미술과 공예 작업을 시작해보세요. 창의적인 과정을 통해 자신의 재능을 표현할 수 있습니다.\n",
      "\n",
      "5. 여행: 주변 도시나 마을을 탐험하러 가거나, 자연과 국립공원에서 하이킹을 즐겨보세요. 새로운 장소를 탐험하며 여유롭고 특별한 경험을 할 수 있습니다.\n",
      "\n",
      "6. 음악: 악기 연주나 노래 부르기, 음악 감상을 통해 음악에 몰두해보세요. 혹은 음악 관련 이벤트에 참석하여 다른 사람들과 소통해보는 것도 좋은 방법입니다.\n",
      "\n",
      "7. 사진: 카메라를 가져와 주변 풍경이나 사람들을 사진으로 담아보세요. 사진 찍는 것은 참신하고 창조적인 시각을 즐기며 기억을 영구적으로 남길 수 있는 좋은 방법입니다.\n",
      "\n",
      "8. 새로운 언어 학습: 온라인 강의를 통해 새로운 언어를 학습해보세요. 다른 문화와 사고방식을 배우는 즐거움을 느낄 수 있습니다.\n",
      "\n",
      "이외에도 많은 취미 활동들이 있습니다. 당신의 관심사나 호기심을 바탕으로 즐길만한 취미 생활을 찾아보세요.\n"
     ]
    }
   ],
   "source": [
    "print(response[\"choices\"][0][\"message\"][\"content\"])"
   ]
  },
  {
   "cell_type": "markdown",
   "id": "777f5429-d489-4684-9225-f1f510bf4531",
   "metadata": {},
   "source": [
    "## openAI chat completion API 사용하기\n",
    "LLM에게 역할을 부여하고, prompt를 만들어서 전달해보겠습니다. 기본적은 chat completion API를 사용하겠습니다."
   ]
  },
  {
   "cell_type": "code",
   "execution_count": 27,
   "id": "62368ea7-52ef-4080-ad1d-238cdafdbd68",
   "metadata": {},
   "outputs": [],
   "source": [
    "def generate_prompt(name, description, keywords, n):\n",
    "    prompt = f\"\"\"\n",
    "특정 제품 혹은 브랜드를 광고하기 위한 문구를 {n}개 생성해주세요.\n",
    "제품의 특징이 드러나야 합니다.\n",
    "키워드가 주어질 경우, 반드시 키워드 중 하나를 포함해야 합니다.\n",
    "초등학생의 말투로 작성해주세요.\n",
    "\n",
    "---\n",
    "제품/브랜드 이름: {name}\n",
    "제품 간단 정보: {description}\n",
    "키워드: {keywords}\n",
    "---\n",
    "\"\"\"\n",
    "    return prompt.strip()"
   ]
  },
  {
   "cell_type": "code",
   "execution_count": 28,
   "id": "b659bc1d-4f1b-4dbd-bdd6-f995b6b001e5",
   "metadata": {},
   "outputs": [],
   "source": [
    "name = \"카누\"\n",
    "desc = \"브라질 원두를 사용하여 깊은 풍미\"\n",
    "keywords = [\"아마존\", \"공유\"]"
   ]
  },
  {
   "cell_type": "code",
   "execution_count": 29,
   "id": "80c3b38c-67e5-4b2c-8cf0-7d59be8be7e5",
   "metadata": {},
   "outputs": [
    {
     "name": "stdout",
     "output_type": "stream",
     "text": [
      "특정 제품 혹은 브랜드를 광고하기 위한 문구를 5개 생성해주세요.\n",
      "제품의 특징이 드러나야 합니다.\n",
      "키워드가 주어질 경우, 반드시 키워드 중 하나를 포함해야 합니다.\n",
      "초등학생의 말투로 작성해주세요.\n",
      "\n",
      "---\n",
      "제품/브랜드 이름: 카누\n",
      "제품 간단 정보: 브라질 원두를 사용하여 깊은 풍미\n",
      "키워드: ['아마존', '공유']\n",
      "---\n"
     ]
    }
   ],
   "source": [
    "prompt = generate_prompt(name, desc, keywords, n=5)\n",
    "print(prompt)"
   ]
  },
  {
   "cell_type": "code",
   "execution_count": 32,
   "id": "b85438da-da28-4b3d-aa88-cdcae8f3e7f1",
   "metadata": {},
   "outputs": [],
   "source": [
    "def request_chat_completion(prompt):\n",
    "    response = openai.ChatCompletion.create(\n",
    "        model=\"gpt-3.5-turbo\",\n",
    "        messages=[\n",
    "            {\"role\": \"system\", \"content\": \"당신은 유용한 도우미입니다.\"},\n",
    "            {\"role\": \"user\", \"content\": prompt}\n",
    "        ]\n",
    "    )\n",
    "    return response[\"choices\"][0][\"message\"][\"content\"]"
   ]
  },
  {
   "cell_type": "markdown",
   "id": "e4168210-6e56-4b22-9b8c-41e4834d23c1",
   "metadata": {},
   "source": [
    "원하는 결과가 나올 때까지 프롬프트를 살짝 수정하고, 결과 확인하는 과정을 반복하면서 튜닝하면 됩니다."
   ]
  },
  {
   "cell_type": "markdown",
   "id": "9a315663-b82f-448f-96d0-c6ed72edb8d6",
   "metadata": {},
   "source": [
    "## 정리\n",
    "\n",
    "이번 챕터에서는 chatGPT API를 사용하여 마케팅 문구를 만들어 보았습니다. 이를 streamlit에서 연결해서 사용자의 요구에 맞는 광고 문구를 생성하는 웹 서비스를 만들어보겠습니다. "
   ]
  },
  {
   "cell_type": "code",
   "execution_count": null,
   "id": "62d811f1-6d85-4d78-95ad-1317854e3306",
   "metadata": {},
   "outputs": [],
   "source": []
  }
 ],
 "metadata": {
  "kernelspec": {
   "display_name": "Python 3 (ipykernel)",
   "language": "python",
   "name": "python3"
  },
  "language_info": {
   "codemirror_mode": {
    "name": "ipython",
    "version": 3
   },
   "file_extension": ".py",
   "mimetype": "text/x-python",
   "name": "python",
   "nbconvert_exporter": "python",
   "pygments_lexer": "ipython3",
   "version": "3.10.8"
  }
 },
 "nbformat": 4,
 "nbformat_minor": 5
}
