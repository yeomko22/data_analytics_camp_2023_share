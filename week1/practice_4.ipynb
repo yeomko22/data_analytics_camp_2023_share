{
 "cells": [
  {
   "cell_type": "markdown",
   "id": "235d9381-3f3c-4dfe-a485-b4ef7aa497e4",
   "metadata": {},
   "source": [
    "## 복습 4."
   ]
  },
  {
   "cell_type": "code",
   "execution_count": 63,
   "id": "a507a5e4-47bd-4c61-ad84-65400dc2ef74",
   "metadata": {},
   "outputs": [
    {
     "name": "stdout",
     "output_type": "stream",
     "text": [
      "Requirement already satisfied: matplotlib in /Users/user/miniconda3/lib/python3.10/site-packages (3.7.1)\n",
      "Requirement already satisfied: kiwisolver>=1.0.1 in /Users/user/miniconda3/lib/python3.10/site-packages (from matplotlib) (1.4.4)\n",
      "Requirement already satisfied: pyparsing>=2.3.1 in /Users/user/miniconda3/lib/python3.10/site-packages (from matplotlib) (3.0.9)\n",
      "Requirement already satisfied: contourpy>=1.0.1 in /Users/user/miniconda3/lib/python3.10/site-packages (from matplotlib) (1.0.7)\n",
      "Requirement already satisfied: cycler>=0.10 in /Users/user/miniconda3/lib/python3.10/site-packages (from matplotlib) (0.11.0)\n",
      "Requirement already satisfied: pillow>=6.2.0 in /Users/user/miniconda3/lib/python3.10/site-packages (from matplotlib) (9.4.0)\n",
      "Requirement already satisfied: python-dateutil>=2.7 in /Users/user/miniconda3/lib/python3.10/site-packages (from matplotlib) (2.8.2)\n",
      "Requirement already satisfied: packaging>=20.0 in /Users/user/miniconda3/lib/python3.10/site-packages (from matplotlib) (22.0)\n",
      "Requirement already satisfied: numpy>=1.20 in /Users/user/miniconda3/lib/python3.10/site-packages (from matplotlib) (1.23.5)\n",
      "Requirement already satisfied: fonttools>=4.22.0 in /Users/user/miniconda3/lib/python3.10/site-packages (from matplotlib) (4.39.2)\n",
      "Requirement already satisfied: six>=1.5 in /Users/user/miniconda3/lib/python3.10/site-packages (from python-dateutil>=2.7->matplotlib) (1.16.0)\n"
     ]
    }
   ],
   "source": [
    "!pip install matplotlib"
   ]
  },
  {
   "cell_type": "markdown",
   "id": "ae82fca8-3ffb-45c7-8dd4-d5d2afea74c6",
   "metadata": {},
   "source": [
    "### 1. data 폴더 아래 위치한 train.csv 파일을 읽어온 뒤, 컬럼의 개수와 로우의 개수를 리턴하는 함수를 작성하세요. with 문과 open을 사용하고, for문으로 순회하여 숫자를 집계하세요."
   ]
  },
  {
   "cell_type": "code",
   "execution_count": 28,
   "id": "5fe15214-ac09-4d60-a441-0c8938a67b32",
   "metadata": {},
   "outputs": [],
   "source": [
    "import csv\n",
    "\n",
    "def count_rows_cols(filepath):\n",
    "    num_rows, num_cols = (0, 0)\n",
    "    with open(filepath) as fr:\n",
    "        reader = csv.reader(fr)\n",
    "        # columns = next(reader)\n",
    "        # num_cols = len(columns)\n",
    "        for _ in reader:\n",
    "            # if i == 0:\n",
    "            #     num_cols = len(row)\n",
    "            #     continue\n",
    "            num_rows += 1\n",
    "    return num_rows, num_cols "
   ]
  },
  {
   "cell_type": "code",
   "execution_count": 29,
   "id": "36e56683-f592-490e-990a-64307d37f9a1",
   "metadata": {},
   "outputs": [
    {
     "data": {
      "text/plain": [
       "(892, 0)"
      ]
     },
     "execution_count": 29,
     "metadata": {},
     "output_type": "execute_result"
    }
   ],
   "source": [
    "count_rows_cols(\"./data/train.csv\")"
   ]
  },
  {
   "cell_type": "code",
   "execution_count": null,
   "id": "695463f5-093d-49ab-b15c-70c3f992c3a9",
   "metadata": {},
   "outputs": [],
   "source": []
  },
  {
   "cell_type": "code",
   "execution_count": 18,
   "id": "b91fc973-04eb-4781-a413-91cf69062dd0",
   "metadata": {},
   "outputs": [
    {
     "name": "stdout",
     "output_type": "stream",
     "text": [
      "['PassengerId', 'Survived', 'Pclass', 'Name', 'Sex', 'Age', 'SibSp', 'Parch', 'Ticket', 'Fare', 'Cabin', 'Embarked']\n",
      "['1', '0', '3', 'Braund, Mr. Owen Harris', 'male', '22', '1', '0', 'A/5 21171', '7.25', '', 'S']\n",
      "['2', '1', '1', 'Cumings, Mrs. John Bradley (Florence Briggs Thayer)', 'female', '38', '1', '0', 'PC 17599', '71.2833', 'C85', 'C']\n",
      "['3', '1', '3', 'Heikkinen, Miss. Laina', 'female', '26', '0', '0', 'STON/O2. 3101282', '7.925', '', 'S']\n",
      "['4', '1', '1', 'Futrelle, Mrs. Jacques Heath (Lily May Peel)', 'female', '35', '1', '0', '113803', '53.1', 'C123', 'S']\n"
     ]
    }
   ],
   "source": [
    "with open(\"./data/train.csv\") as fr:\n",
    "        reader = csv.reader(fr)\n",
    "        print(next(reader))\n",
    "        print(next(reader))\n",
    "        print(next(reader))\n",
    "        print(next(reader))\n",
    "        print(next(reader))"
   ]
  },
  {
   "cell_type": "markdown",
   "id": "49f3df6a-d124-44ac-bd9c-0e799452adcb",
   "metadata": {},
   "source": [
    "### 2. 각 좌석 등급(1등급, 2등급, 3등급)별 생존율을 계산하세요 "
   ]
  },
  {
   "cell_type": "code",
   "execution_count": 30,
   "id": "4af3cd40-b29a-4ca6-94a4-fa478022d6ad",
   "metadata": {},
   "outputs": [
    {
     "name": "stdout",
     "output_type": "stream",
     "text": [
      "{1: [216, 136], 2: [184, 87], 3: [491, 119]}\n"
     ]
    }
   ],
   "source": [
    "with open(\"./data/train.csv\") as fr:\n",
    "    reader = csv.reader(fr)\n",
    "    next(reader)\n",
    "    for row in reader:\n",
    "        survived = int(row[1])\n",
    "        pclass = int(row[2])\n",
    "        if pclass == 1:\n",
    "            first_total += 1\n",
    "            if survived == 1:\n",
    "                first_survived += 1\n",
    "        if pclass == 2:\n",
    "            second_total += 1\n",
    "            if survived == 1:\n",
    "                second_survived += 1\n",
    "        if pclass == 3:\n",
    "            third_total += 1\n",
    "            if survived == 1:\n",
    "                third_survived += 1\n",
    "\n",
    "print(first_survived / first_total)\n",
    "print(second_survived / second_total)\n",
    "print(third_survived / third_total)"
   ]
  },
  {
   "cell_type": "markdown",
   "id": "b7799a8e-bc84-4166-986b-49678a28cb5f",
   "metadata": {},
   "source": [
    "### 3. Age 값이 비어있거나, 이상한 값(소수)이 들어있는 행을 제외한 행들을 preprocessed.csv라는 파일에 쓰세요. isnumeric 함수를 검색해서 용도를 파학하고 사용해보세요.isinstance라는 함수를 검색해서 용도를 파악한 뒤, if 문 조건으로 사용하면 좋습니다."
   ]
  },
  {
   "cell_type": "code",
   "execution_count": 34,
   "id": "f7e46a6b-ee5b-42d4-b4d7-2b40a56f8c44",
   "metadata": {},
   "outputs": [],
   "source": [
    "with open(\"./data/train.csv\") as fr:\n",
    "    reader = csv.reader(fr)\n",
    "    with open(\"./data/preprocessed.csv\", \"w\") as fw:\n",
    "        writer = csv.writer(fw)\n",
    "        # writer.writerow(next(reader))\n",
    "        for i, row in enumerate(reader):\n",
    "            if i == 0:\n",
    "                writer.writerow(row)\n",
    "                continue\n",
    "            age = row[5]\n",
    "            if not age:\n",
    "                continue\n",
    "            if not age.isnumeric():\n",
    "                continue\n",
    "            writer.writerow(row)"
   ]
  },
  {
   "cell_type": "code",
   "execution_count": 35,
   "id": "3eea3704-47cc-4b17-9982-6cf217435729",
   "metadata": {},
   "outputs": [
    {
     "data": {
      "text/plain": [
       "False"
      ]
     },
     "execution_count": 35,
     "metadata": {},
     "output_type": "execute_result"
    }
   ],
   "source": [
    "number_str = \"10.5\"\n",
    "number_str.isnumeric()"
   ]
  },
  {
   "cell_type": "markdown",
   "id": "13d69f5f-7e18-433d-aded-78898b4b5c65",
   "metadata": {},
   "source": [
    "### 4. preprocessed.csv 파일을 이용해서 생존자들의 연령의 평균과 중간값을 구해보세요. 성별 비율을 계산해보세요."
   ]
  },
  {
   "cell_type": "code",
   "execution_count": 36,
   "id": "d9e10c67-2e74-43ee-9d59-b4feaa7a70c5",
   "metadata": {},
   "outputs": [],
   "source": [
    "ages = []\n",
    "survived_ages = []\n",
    "male_count = 0\n",
    "female_count = 0\n",
    "with open(\"./data/preprocessed.csv\") as fr:\n",
    "    reader = csv.reader(fr)\n",
    "    next(reader)\n",
    "    for row in reader:\n",
    "        survived = int(row[1])\n",
    "        sex = row[4]\n",
    "        age = int(row[5])\n",
    "        if sex == \"male\":\n",
    "            male_count += 1\n",
    "        elif sex == \"female\":\n",
    "            female_count += 1\n",
    "        else:\n",
    "            print(\"unknown sex\", sex)\n",
    "        ages.append(age)\n",
    "        if survived == 1:\n",
    "            survived_ages.append(age)"
   ]
  },
  {
   "cell_type": "code",
   "execution_count": 39,
   "id": "4fa51d44-cb2f-46f3-ac8c-4aa3d71bd575",
   "metadata": {},
   "outputs": [
    {
     "name": "stdout",
     "output_type": "stream",
     "text": [
      "689\n",
      "평균 연령 29.847605224963715 연령 중간값 28\n",
      "전체 인원:  689\n",
      "남성 비율: 0.6284470246734397\n",
      "여성 비율: 0.37155297532656023\n"
     ]
    }
   ],
   "source": [
    "print(len(ages))\n",
    "print(\"평균 연령\", sum(ages) / len(ages), \"연령 중간값\", sorted(ages)[len(ages) // 2])\n",
    "print(\"전체 인원: \", male_count + female_count)\n",
    "print(\"남성 비율:\", male_count / (male_count + female_count))\n",
    "print(\"여성 비율:\", female_count / (male_count + female_count))"
   ]
  },
  {
   "cell_type": "code",
   "execution_count": 47,
   "id": "3bb7e277-78dd-46b3-8f32-823adec93dfb",
   "metadata": {},
   "outputs": [
    {
     "data": {
      "text/plain": [
       "<matplotlib.legend.Legend at 0x117b1b280>"
      ]
     },
     "execution_count": 47,
     "metadata": {},
     "output_type": "execute_result"
    },
    {
     "data": {
      "image/png": "[encoded data removed]",
      "text/plain": [
       "<Figure size 640x480 with 1 Axes>"
      ]
     },
     "metadata": {},
     "output_type": "display_data"
    }
   ],
   "source": [
    "from matplotlib import pyplot as plt\n",
    "\n",
    "age_bins = [0, 10, 20, 30, 40, 50, 60, 70, 80]\n",
    "plt.hist(ages, label=\"total\", bins=age_bins)\n",
    "plt.hist(survived_ages, label=\"survived\", bins=age_bins)\n",
    "plt.legend()"
   ]
  },
  {
   "cell_type": "code",
   "execution_count": 55,
   "id": "d699fe2b-673b-477a-a3ad-d7011f99d09b",
   "metadata": {},
   "outputs": [
    {
     "data": {
      "text/plain": [
       "dict_values([[34.54, 34.345, 34.761], [34.541, 34.748, 34.482]])"
      ]
     },
     "execution_count": 55,
     "metadata": {},
     "output_type": "execute_result"
    }
   ],
   "source": [
    "my_dict.values()"
   ]
  },
  {
   "cell_type": "code",
   "execution_count": 43,
   "id": "c56a8382-0881-4ed4-8548-52c09070c7b2",
   "metadata": {},
   "outputs": [
    {
     "data": {
      "text/plain": [
       "{'whiskers': [<matplotlib.lines.Line2D at 0x1179f3d60>,\n",
       "  <matplotlib.lines.Line2D at 0x117a24040>,\n",
       "  <matplotlib.lines.Line2D at 0x117a25030>,\n",
       "  <matplotlib.lines.Line2D at 0x117a252d0>],\n",
       " 'caps': [<matplotlib.lines.Line2D at 0x117a242e0>,\n",
       "  <matplotlib.lines.Line2D at 0x117a24580>,\n",
       "  <matplotlib.lines.Line2D at 0x117a25570>,\n",
       "  <matplotlib.lines.Line2D at 0x117a25810>],\n",
       " 'boxes': [<matplotlib.lines.Line2D at 0x1179f3ac0>,\n",
       "  <matplotlib.lines.Line2D at 0x117a24d90>],\n",
       " 'medians': [<matplotlib.lines.Line2D at 0x117a24820>,\n",
       "  <matplotlib.lines.Line2D at 0x117a25ab0>],\n",
       " 'fliers': [<matplotlib.lines.Line2D at 0x117a24ac0>,\n",
       "  <matplotlib.lines.Line2D at 0x117a25d50>],\n",
       " 'means': []}"
      ]
     },
     "execution_count": 43,
     "metadata": {},
     "output_type": "execute_result"
    },
    {
     "data": {
      "image/png": "[encoded data removed]",
      "text/plain": [
       "<Figure size 640x480 with 1 Axes>"
      ]
     },
     "metadata": {},
     "output_type": "display_data"
    }
   ],
   "source": [
    "plt.boxplot([ages, survived_ages], labels=[\"ages\", \"survived_ages\"])"
   ]
  },
  {
   "cell_type": "markdown",
   "id": "7d9ed551-8eab-4e2a-a071-868fced0e90f",
   "metadata": {},
   "source": [
    "### 5. 다 하셨다면 자유롭게 데이터를 만져보면서 생존율에 결정적인 영향을 미치는 요소가 무엇인지 찾아보세요. "
   ]
  },
  {
   "cell_type": "code",
   "execution_count": null,
   "id": "fe4d281b-5dbb-4fda-90ac-9350ce72f2de",
   "metadata": {},
   "outputs": [],
   "source": []
  }
 ],
 "metadata": {
  "kernelspec": {
   "display_name": "Python 3 (ipykernel)",
   "language": "python",
   "name": "python3"
  },
  "language_info": {
   "codemirror_mode": {
    "name": "ipython",
    "version": 3
   },
   "file_extension": ".py",
   "mimetype": "text/x-python",
   "name": "python",
   "nbconvert_exporter": "python",
   "pygments_lexer": "ipython3",
   "version": "3.10.8"
  }
 },
 "nbformat": 4,
 "nbformat_minor": 5
}
