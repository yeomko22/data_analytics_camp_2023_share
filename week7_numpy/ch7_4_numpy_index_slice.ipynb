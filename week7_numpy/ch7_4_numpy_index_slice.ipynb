{
 "cells": [
  {
   "cell_type": "markdown",
   "id": "2c4e8974-7a96-4bcc-a041-3a1d72048eaa",
   "metadata": {},
   "source": [
    "## ch7_4 numpy indexing, slicing\n",
    "numpy ndarray도 python list와 마찬가지로 인덱싱과 슬라이싱을 지원합니다. 이 때, ndarray에서만 가능한 유용한 문법이 있으니, 이를 잘 익혀보도록 하겠습니다. "
   ]
  },
  {
   "cell_type": "markdown",
   "id": "911a5f14-caec-4d4c-8611-58819c2ae10a",
   "metadata": {},
   "source": [
    "### ndarray index\n",
    "기본적으로 python list에서 index를 이용하여 접근하듯 다차원 배열의 각 원소들에 접근할 수 있습니다."
   ]
  },
  {
   "cell_type": "code",
   "execution_count": 29,
   "id": "abb1297b-dbfb-49dd-bdaf-4ccf4a804aee",
   "metadata": {},
   "outputs": [],
   "source": [
    "import numpy as np"
   ]
  },
  {
   "cell_type": "code",
   "execution_count": 30,
   "id": "c085e9d0-971d-4a25-bcbe-5bc16d3ee20d",
   "metadata": {},
   "outputs": [],
   "source": [
    "a = np.arange(1, 13, 1).reshape([3, 2, 2])"
   ]
  },
  {
   "cell_type": "code",
   "execution_count": 31,
   "id": "4da8967e-8dee-4a1c-84b5-01e43359fe43",
   "metadata": {},
   "outputs": [
    {
     "data": {
      "text/plain": [
       "array([[[ 1,  2],\n",
       "        [ 3,  4]],\n",
       "\n",
       "       [[ 5,  6],\n",
       "        [ 7,  8]],\n",
       "\n",
       "       [[ 9, 10],\n",
       "        [11, 12]]])"
      ]
     },
     "execution_count": 31,
     "metadata": {},
     "output_type": "execute_result"
    }
   ],
   "source": [
    "a"
   ]
  },
  {
   "cell_type": "code",
   "execution_count": 32,
   "id": "30a98348-378a-482e-92d8-21cf69084bc4",
   "metadata": {},
   "outputs": [
    {
     "data": {
      "text/plain": [
       "array([[1, 2],\n",
       "       [3, 4]])"
      ]
     },
     "execution_count": 32,
     "metadata": {},
     "output_type": "execute_result"
    }
   ],
   "source": [
    "a[0]"
   ]
  },
  {
   "cell_type": "code",
   "execution_count": 33,
   "id": "468e79cf-a000-4070-ae91-713bfdcc8d62",
   "metadata": {},
   "outputs": [
    {
     "data": {
      "text/plain": [
       "array([3, 4])"
      ]
     },
     "execution_count": 33,
     "metadata": {},
     "output_type": "execute_result"
    }
   ],
   "source": [
    "a[0][1]"
   ]
  },
  {
   "cell_type": "code",
   "execution_count": 34,
   "id": "48920f19-7cf9-4301-9fc1-0a63e0d7557a",
   "metadata": {},
   "outputs": [
    {
     "data": {
      "text/plain": [
       "4"
      ]
     },
     "execution_count": 34,
     "metadata": {},
     "output_type": "execute_result"
    }
   ],
   "source": [
    "a[0][1][1]"
   ]
  },
  {
   "cell_type": "markdown",
   "id": "4925b390-ef9c-44ef-b7d6-c0c9e4b2847a",
   "metadata": {},
   "source": [
    "인덱스로 접근해서 값을 업데이트 할 수도 있습니다."
   ]
  },
  {
   "cell_type": "code",
   "execution_count": 35,
   "id": "cbc1c713-036f-4710-af86-1eee4ee2f0c3",
   "metadata": {},
   "outputs": [],
   "source": [
    "a[0][0][0] = 100"
   ]
  },
  {
   "cell_type": "code",
   "execution_count": 36,
   "id": "a6ec65be-51ec-4b0c-a574-996ce74ace0a",
   "metadata": {},
   "outputs": [
    {
     "data": {
      "text/plain": [
       "array([[[100,   2],\n",
       "        [  3,   4]],\n",
       "\n",
       "       [[  5,   6],\n",
       "        [  7,   8]],\n",
       "\n",
       "       [[  9,  10],\n",
       "        [ 11,  12]]])"
      ]
     },
     "execution_count": 36,
     "metadata": {},
     "output_type": "execute_result"
    }
   ],
   "source": [
    "a"
   ]
  },
  {
   "cell_type": "markdown",
   "id": "b2dc60b2-3b75-4f1f-8762-1ef215aaca56",
   "metadata": {},
   "source": [
    "그리고 python과는 달리 인덱스 하나에 ,를 이어붙인 문법을 사용할 수 있습니다."
   ]
  },
  {
   "cell_type": "code",
   "execution_count": 37,
   "id": "9ba0258f-bbe4-4f0b-918b-d7a701b47984",
   "metadata": {},
   "outputs": [
    {
     "data": {
      "text/plain": [
       "array([[100,   2],\n",
       "       [  3,   4]])"
      ]
     },
     "execution_count": 37,
     "metadata": {},
     "output_type": "execute_result"
    }
   ],
   "source": [
    "a[0]"
   ]
  },
  {
   "cell_type": "code",
   "execution_count": 38,
   "id": "1f749dfb-b1db-42fc-9f92-f857de62a2aa",
   "metadata": {},
   "outputs": [
    {
     "data": {
      "text/plain": [
       "array([100,   2])"
      ]
     },
     "execution_count": 38,
     "metadata": {},
     "output_type": "execute_result"
    }
   ],
   "source": [
    "a[0, 0]"
   ]
  },
  {
   "cell_type": "code",
   "execution_count": 39,
   "id": "297e8982-b35b-4cb5-b7e4-0b8513ef3cb6",
   "metadata": {},
   "outputs": [
    {
     "data": {
      "text/plain": [
       "100"
      ]
     },
     "execution_count": 39,
     "metadata": {},
     "output_type": "execute_result"
    }
   ],
   "source": [
    "a[0, 0, 0]"
   ]
  },
  {
   "cell_type": "markdown",
   "id": "cc649987-1dcf-4ab0-a9b9-09062362536c",
   "metadata": {},
   "source": [
    "### : 기호 사용해서 특정 축의 데이터 모두 선택하기\n",
    "ndarray index에 : 를 사용하면 해당 축의 모든 데이터를 선택하겠다는 의미입니다."
   ]
  },
  {
   "cell_type": "code",
   "execution_count": 10,
   "id": "ca1a1f72-34b3-4395-a900-042a34d6fb0d",
   "metadata": {},
   "outputs": [],
   "source": [
    "a = np.arange(1, 13, 1).reshape([3, 2, 2])"
   ]
  },
  {
   "cell_type": "code",
   "execution_count": 11,
   "id": "7b051492-4232-4dd0-bfff-8232512d0bcf",
   "metadata": {},
   "outputs": [
    {
     "data": {
      "text/plain": [
       "array([[[ 1,  2],\n",
       "        [ 3,  4]],\n",
       "\n",
       "       [[ 5,  6],\n",
       "        [ 7,  8]],\n",
       "\n",
       "       [[ 9, 10],\n",
       "        [11, 12]]])"
      ]
     },
     "execution_count": 11,
     "metadata": {},
     "output_type": "execute_result"
    }
   ],
   "source": [
    "a"
   ]
  },
  {
   "cell_type": "code",
   "execution_count": 16,
   "id": "44dc6ed4-b803-47f1-b064-3172c9b78093",
   "metadata": {},
   "outputs": [
    {
     "data": {
      "text/plain": [
       "array([[[ 1,  2],\n",
       "        [ 3,  4]],\n",
       "\n",
       "       [[ 5,  6],\n",
       "        [ 7,  8]],\n",
       "\n",
       "       [[ 9, 10],\n",
       "        [11, 12]]])"
      ]
     },
     "execution_count": 16,
     "metadata": {},
     "output_type": "execute_result"
    }
   ],
   "source": [
    "a[:]"
   ]
  },
  {
   "cell_type": "code",
   "execution_count": 17,
   "id": "97c6eb23-ee90-426b-ae2b-9b3a6921ed1f",
   "metadata": {},
   "outputs": [
    {
     "data": {
      "text/plain": [
       "array([[ 3,  4],\n",
       "       [ 7,  8],\n",
       "       [11, 12]])"
      ]
     },
     "execution_count": 17,
     "metadata": {},
     "output_type": "execute_result"
    }
   ],
   "source": [
    "a[:, 1]"
   ]
  },
  {
   "cell_type": "code",
   "execution_count": 40,
   "id": "69665ad6-d20d-4885-811c-4c079febe7a9",
   "metadata": {},
   "outputs": [
    {
     "data": {
      "text/plain": [
       "array([6, 8])"
      ]
     },
     "execution_count": 40,
     "metadata": {},
     "output_type": "execute_result"
    }
   ],
   "source": [
    "a[1, :, 1]"
   ]
  },
  {
   "cell_type": "code",
   "execution_count": 41,
   "id": "13a112f7-a846-4b82-9fba-200b0dbe0597",
   "metadata": {},
   "outputs": [
    {
     "data": {
      "text/plain": [
       "array([[ 3,  4],\n",
       "       [ 7,  8],\n",
       "       [11, 12]])"
      ]
     },
     "execution_count": 41,
     "metadata": {},
     "output_type": "execute_result"
    }
   ],
   "source": [
    "a[:, 1, :]"
   ]
  },
  {
   "cell_type": "code",
   "execution_count": 18,
   "id": "64dd22bb-682c-499b-ae04-bc0a9610f1a4",
   "metadata": {},
   "outputs": [
    {
     "data": {
      "text/plain": [
       "array([2, 4])"
      ]
     },
     "execution_count": 18,
     "metadata": {},
     "output_type": "execute_result"
    }
   ],
   "source": [
    "a[0, :, 1]"
   ]
  },
  {
   "cell_type": "code",
   "execution_count": 19,
   "id": "ec97084d-6981-4aa9-81ce-63b632c2d5d2",
   "metadata": {},
   "outputs": [
    {
     "data": {
      "text/plain": [
       "array([7, 8])"
      ]
     },
     "execution_count": 19,
     "metadata": {},
     "output_type": "execute_result"
    }
   ],
   "source": [
    "a[1, 1, :]"
   ]
  },
  {
   "cell_type": "markdown",
   "id": "faea712b-2b13-461c-a6a0-8fa83dca1d69",
   "metadata": {},
   "source": [
    "### slicing\n",
    "python list와 비슷하게 \"시작 인덱스:끝 인덱스:간격\" 문법으로 슬라이싱을 할 수 있습니다."
   ]
  },
  {
   "cell_type": "code",
   "execution_count": 54,
   "id": "c6490bb9-0dae-40d4-9f98-29ba31ebeff3",
   "metadata": {},
   "outputs": [],
   "source": [
    "slicing_example = np.arange(1, 13, 1)"
   ]
  },
  {
   "cell_type": "code",
   "execution_count": 55,
   "id": "d926963c-8f1d-44b5-bad2-8225fa1fc4e0",
   "metadata": {},
   "outputs": [
    {
     "data": {
      "text/plain": [
       "array([ 1,  2,  3,  4,  5,  6,  7,  8,  9, 10, 11, 12])"
      ]
     },
     "execution_count": 55,
     "metadata": {},
     "output_type": "execute_result"
    }
   ],
   "source": [
    "slicing_example"
   ]
  },
  {
   "cell_type": "code",
   "execution_count": 56,
   "id": "0ff21d63-a0e9-4f7a-af33-98a8888efa99",
   "metadata": {},
   "outputs": [
    {
     "data": {
      "text/plain": [
       "array([3, 4, 5])"
      ]
     },
     "execution_count": 56,
     "metadata": {},
     "output_type": "execute_result"
    }
   ],
   "source": [
    "slicing_example[2:5]"
   ]
  },
  {
   "cell_type": "code",
   "execution_count": 57,
   "id": "3a32e7eb-b288-4826-bd83-02467507975c",
   "metadata": {},
   "outputs": [
    {
     "data": {
      "text/plain": [
       "array([4, 6, 8])"
      ]
     },
     "execution_count": 57,
     "metadata": {},
     "output_type": "execute_result"
    }
   ],
   "source": [
    "slicing_example[3:9:2]"
   ]
  },
  {
   "cell_type": "markdown",
   "id": "33632966-b06f-4cf7-a617-dc16e6f26cea",
   "metadata": {},
   "source": [
    "### 축 선택과 슬라이싱 같이 사용하기"
   ]
  },
  {
   "cell_type": "code",
   "execution_count": 60,
   "id": "6fe22d10-a17a-4bbc-a51d-e838e7d96a44",
   "metadata": {},
   "outputs": [],
   "source": [
    "both_example = np.arange(1, 13, 1).reshape([2, 6])"
   ]
  },
  {
   "cell_type": "code",
   "execution_count": 62,
   "id": "3f579ed5-12ab-4c08-b430-8f7e97151f85",
   "metadata": {},
   "outputs": [
    {
     "data": {
      "text/plain": [
       "array([[ 1,  2,  3,  4,  5,  6],\n",
       "       [ 7,  8,  9, 10, 11, 12]])"
      ]
     },
     "execution_count": 62,
     "metadata": {},
     "output_type": "execute_result"
    }
   ],
   "source": [
    "both_example"
   ]
  },
  {
   "cell_type": "code",
   "execution_count": 64,
   "id": "77528871-f059-4f77-936f-b1d465ec951a",
   "metadata": {},
   "outputs": [
    {
     "data": {
      "text/plain": [
       "array([[ 4,  5],\n",
       "       [10, 11]])"
      ]
     },
     "execution_count": 64,
     "metadata": {},
     "output_type": "execute_result"
    }
   ],
   "source": [
    "both_example[:, 3:5]"
   ]
  },
  {
   "cell_type": "markdown",
   "id": "59949b3a-dc96-4fe3-99ab-a49337c8e1c9",
   "metadata": {},
   "source": [
    "## 연습문제\n",
    "인덱싱과 슬라이싱을 이용하여 아래 결과들을 출력해보세요"
   ]
  },
  {
   "cell_type": "code",
   "execution_count": 43,
   "id": "2562e456-a606-4189-ac11-e4b341969e84",
   "metadata": {},
   "outputs": [],
   "source": [
    "example = np.arange(1, 25, 1).reshape([2, 2, 6])"
   ]
  },
  {
   "cell_type": "code",
   "execution_count": 44,
   "id": "d37d97ba-dd15-4858-95b0-298fa2b3db53",
   "metadata": {},
   "outputs": [
    {
     "data": {
      "text/plain": [
       "array([[[ 1,  2,  3,  4,  5,  6],\n",
       "        [ 7,  8,  9, 10, 11, 12]],\n",
       "\n",
       "       [[13, 14, 15, 16, 17, 18],\n",
       "        [19, 20, 21, 22, 23, 24]]])"
      ]
     },
     "execution_count": 44,
     "metadata": {},
     "output_type": "execute_result"
    }
   ],
   "source": [
    "example"
   ]
  },
  {
   "cell_type": "code",
   "execution_count": 45,
   "id": "fa693bda-8bd5-4290-b137-0e940e90de24",
   "metadata": {},
   "outputs": [
    {
     "data": {
      "text/plain": [
       "array([[ 3,  9],\n",
       "       [15, 21]])"
      ]
     },
     "execution_count": 45,
     "metadata": {},
     "output_type": "execute_result"
    }
   ],
   "source": [
    "example[:, :, 2]"
   ]
  },
  {
   "cell_type": "code",
   "execution_count": 46,
   "id": "bbe0eebf-e0ff-48bd-b250-b05f81abd1f3",
   "metadata": {},
   "outputs": [
    {
     "data": {
      "text/plain": [
       "array([14, 15, 16])"
      ]
     },
     "execution_count": 46,
     "metadata": {},
     "output_type": "execute_result"
    }
   ],
   "source": [
    "example[1, 0, 1:4]"
   ]
  },
  {
   "cell_type": "code",
   "execution_count": 47,
   "id": "fc435bb3-ccae-4bfe-860d-bd1614eddde4",
   "metadata": {},
   "outputs": [
    {
     "data": {
      "text/plain": [
       "array([[[ 2,  3,  4],\n",
       "        [ 8,  9, 10]],\n",
       "\n",
       "       [[14, 15, 16],\n",
       "        [20, 21, 22]]])"
      ]
     },
     "execution_count": 47,
     "metadata": {},
     "output_type": "execute_result"
    }
   ],
   "source": [
    "example[:, :, 1:4]"
   ]
  },
  {
   "cell_type": "code",
   "execution_count": 48,
   "id": "7cc89c60-7e14-4cbd-918c-fd3028c1339c",
   "metadata": {},
   "outputs": [
    {
     "data": {
      "text/plain": [
       "array([[[ 1,  3,  5],\n",
       "        [ 7,  9, 11]],\n",
       "\n",
       "       [[13, 15, 17],\n",
       "        [19, 21, 23]]])"
      ]
     },
     "execution_count": 48,
     "metadata": {},
     "output_type": "execute_result"
    }
   ],
   "source": [
    "example[:, :, 0:5:2]"
   ]
  },
  {
   "cell_type": "code",
   "execution_count": 49,
   "id": "5b301bb8-e446-4900-b784-93881544a64e",
   "metadata": {},
   "outputs": [
    {
     "data": {
      "text/plain": [
       "array([[ 8, 10],\n",
       "       [20, 22]])"
      ]
     },
     "execution_count": 49,
     "metadata": {},
     "output_type": "execute_result"
    }
   ],
   "source": [
    "example[:, 1, 1:4:2]"
   ]
  },
  {
   "cell_type": "code",
   "execution_count": null,
   "id": "c20a0942-75e8-483c-90ce-a3cb3ddce265",
   "metadata": {},
   "outputs": [],
   "source": []
  }
 ],
 "metadata": {
  "kernelspec": {
   "display_name": "Python 3 (ipykernel)",
   "language": "python",
   "name": "python3"
  },
  "language_info": {
   "codemirror_mode": {
    "name": "ipython",
    "version": 3
   },
   "file_extension": ".py",
   "mimetype": "text/x-python",
   "name": "python",
   "nbconvert_exporter": "python",
   "pygments_lexer": "ipython3",
   "version": "3.10.8"
  }
 },
 "nbformat": 4,
 "nbformat_minor": 5
}
