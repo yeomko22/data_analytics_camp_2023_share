{
 "cells": [
  {
   "cell_type": "markdown",
   "id": "2c4e8974-7a96-4bcc-a041-3a1d72048eaa",
   "metadata": {},
   "source": [
    "## ch7_4 numpy indexing, slicing\n",
    "numpy ndarray도 python list와 마찬가지로 인덱싱과 슬라이싱을 지원합니다. 이 때, ndarray에서만 가능한 유용한 문법이 있으니, 이를 잘 익혀보도록 하겠습니다. "
   ]
  },
  {
   "cell_type": "markdown",
   "id": "911a5f14-caec-4d4c-8611-58819c2ae10a",
   "metadata": {},
   "source": [
    "### ndarray index\n",
    "기본적으로 python list에서 index를 이용하여 접근하듯 다차원 배열의 각 원소들에 접근할 수 있습니다."
   ]
  },
  {
   "cell_type": "code",
   "execution_count": 2,
   "id": "abb1297b-dbfb-49dd-bdaf-4ccf4a804aee",
   "metadata": {},
   "outputs": [],
   "source": [
    "import numpy as np"
   ]
  },
  {
   "cell_type": "code",
   "execution_count": 3,
   "id": "c085e9d0-971d-4a25-bcbe-5bc16d3ee20d",
   "metadata": {},
   "outputs": [
    {
     "data": {
      "text/plain": [
       "array([[[ 1,  2],\n",
       "        [ 3,  4]],\n",
       "\n",
       "       [[ 5,  6],\n",
       "        [ 7,  8]],\n",
       "\n",
       "       [[ 9, 10],\n",
       "        [11, 12]]])"
      ]
     },
     "execution_count": 3,
     "metadata": {},
     "output_type": "execute_result"
    }
   ],
   "source": [
    "a = np.arange(1, 13, 1).reshape([3, 2, 2])\n",
    "a"
   ]
  },
  {
   "cell_type": "code",
   "execution_count": 6,
   "id": "956943a8-c4ae-4326-ba73-544fbdae625d",
   "metadata": {},
   "outputs": [
    {
     "data": {
      "text/plain": [
       "4"
      ]
     },
     "execution_count": 6,
     "metadata": {},
     "output_type": "execute_result"
    }
   ],
   "source": [
    "a[0][1][1]"
   ]
  },
  {
   "cell_type": "markdown",
   "id": "4925b390-ef9c-44ef-b7d6-c0c9e4b2847a",
   "metadata": {},
   "source": [
    "인덱스로 접근해서 값을 업데이트 할 수도 있습니다."
   ]
  },
  {
   "cell_type": "code",
   "execution_count": 7,
   "id": "a2273322-6ba1-46a5-ae1e-57dccb6cddd0",
   "metadata": {},
   "outputs": [],
   "source": [
    "a[0][1][1] = 100"
   ]
  },
  {
   "cell_type": "code",
   "execution_count": 8,
   "id": "3137633f-5370-4875-bb4c-a02a85db1e17",
   "metadata": {},
   "outputs": [
    {
     "data": {
      "text/plain": [
       "array([[[  1,   2],\n",
       "        [  3, 100]],\n",
       "\n",
       "       [[  5,   6],\n",
       "        [  7,   8]],\n",
       "\n",
       "       [[  9,  10],\n",
       "        [ 11,  12]]])"
      ]
     },
     "execution_count": 8,
     "metadata": {},
     "output_type": "execute_result"
    }
   ],
   "source": [
    "a"
   ]
  },
  {
   "cell_type": "markdown",
   "id": "b2dc60b2-3b75-4f1f-8762-1ef215aaca56",
   "metadata": {},
   "source": [
    "그리고 python과는 달리 인덱스 하나에 ,를 이어붙인 문법을 사용할 수 있습니다."
   ]
  },
  {
   "cell_type": "code",
   "execution_count": 9,
   "id": "d5a38cb3-490b-4736-8f35-ac7340c3db15",
   "metadata": {},
   "outputs": [
    {
     "data": {
      "text/plain": [
       "array([  3, 100])"
      ]
     },
     "execution_count": 9,
     "metadata": {},
     "output_type": "execute_result"
    }
   ],
   "source": [
    "a[0, 1]"
   ]
  },
  {
   "cell_type": "code",
   "execution_count": 10,
   "id": "c0f40a7a-ed27-4c8e-ab22-cf8179a4864a",
   "metadata": {},
   "outputs": [
    {
     "data": {
      "text/plain": [
       "100"
      ]
     },
     "execution_count": 10,
     "metadata": {},
     "output_type": "execute_result"
    }
   ],
   "source": [
    "a[0, 1, 1]"
   ]
  },
  {
   "cell_type": "code",
   "execution_count": 14,
   "id": "eea709c8-3ad9-4432-a279-343b39a8f1ca",
   "metadata": {},
   "outputs": [
    {
     "data": {
      "text/plain": [
       "array([7, 8])"
      ]
     },
     "execution_count": 14,
     "metadata": {},
     "output_type": "execute_result"
    }
   ],
   "source": [
    "a[1, 1]"
   ]
  },
  {
   "cell_type": "markdown",
   "id": "cc649987-1dcf-4ab0-a9b9-09062362536c",
   "metadata": {},
   "source": [
    "### : 기호 사용해서 특정 축의 데이터 모두 선택하기\n",
    "ndarray index에 : 를 사용하면 해당 축의 모든 데이터를 선택하겠다는 의미입니다."
   ]
  },
  {
   "cell_type": "code",
   "execution_count": 25,
   "id": "be2cac4d-8ab2-48d2-ac20-b4f8ce5a3b35",
   "metadata": {},
   "outputs": [
    {
     "data": {
      "text/plain": [
       "array([[[ 1,  2],\n",
       "        [ 3,  4]],\n",
       "\n",
       "       [[ 5,  6],\n",
       "        [ 7,  8]],\n",
       "\n",
       "       [[ 9, 10],\n",
       "        [11, 12]]])"
      ]
     },
     "execution_count": 25,
     "metadata": {},
     "output_type": "execute_result"
    }
   ],
   "source": [
    "a = np.arange(1, 13, 1).reshape([3, 2, 2])\n",
    "a"
   ]
  },
  {
   "cell_type": "code",
   "execution_count": 32,
   "id": "e8f84b8f-3b3f-4d5d-adb8-b9fad3d09423",
   "metadata": {},
   "outputs": [
    {
     "data": {
      "text/plain": [
       "6"
      ]
     },
     "execution_count": 32,
     "metadata": {},
     "output_type": "execute_result"
    }
   ],
   "source": [
    "# 6: 0, 1\n",
    "# 8: 1, 1\n",
    "a[1, 0, 1]"
   ]
  },
  {
   "cell_type": "code",
   "execution_count": 33,
   "id": "2fae9cb0-788e-44cd-b449-a8eec746c18c",
   "metadata": {},
   "outputs": [
    {
     "data": {
      "text/plain": [
       "8"
      ]
     },
     "execution_count": 33,
     "metadata": {},
     "output_type": "execute_result"
    }
   ],
   "source": [
    "a[1, 1, 1]"
   ]
  },
  {
   "cell_type": "code",
   "execution_count": 34,
   "id": "a1ccfdbe-9d5d-46d2-9a5d-6bfb894717ac",
   "metadata": {},
   "outputs": [
    {
     "data": {
      "text/plain": [
       "array([6, 8])"
      ]
     },
     "execution_count": 34,
     "metadata": {},
     "output_type": "execute_result"
    }
   ],
   "source": [
    "a[1, :, 1]"
   ]
  },
  {
   "cell_type": "code",
   "execution_count": 17,
   "id": "ca816485-2931-4a51-827c-67e76b2f62db",
   "metadata": {},
   "outputs": [
    {
     "data": {
      "text/plain": [
       "array([[ 3,  4],\n",
       "       [ 7,  8],\n",
       "       [11, 12]])"
      ]
     },
     "execution_count": 17,
     "metadata": {},
     "output_type": "execute_result"
    }
   ],
   "source": [
    "a[:, 1]"
   ]
  },
  {
   "cell_type": "code",
   "execution_count": 18,
   "id": "ffd7e4c3-f3fd-4f5b-a31a-5c3cf81034d9",
   "metadata": {},
   "outputs": [
    {
     "data": {
      "text/plain": [
       "array([ 4,  8, 12])"
      ]
     },
     "execution_count": 18,
     "metadata": {},
     "output_type": "execute_result"
    }
   ],
   "source": [
    "a[:, 1, 1]"
   ]
  },
  {
   "cell_type": "code",
   "execution_count": 21,
   "id": "10115e20-7dd8-480d-9c38-50604c553e37",
   "metadata": {},
   "outputs": [
    {
     "data": {
      "text/plain": [
       "array([[5, 6],\n",
       "       [7, 8]])"
      ]
     },
     "execution_count": 21,
     "metadata": {},
     "output_type": "execute_result"
    }
   ],
   "source": [
    "a[1]"
   ]
  },
  {
   "cell_type": "code",
   "execution_count": 20,
   "id": "102df12b-3ed3-4ce8-ae83-eab0440a7b53",
   "metadata": {},
   "outputs": [
    {
     "data": {
      "text/plain": [
       "array([5, 7])"
      ]
     },
     "execution_count": 20,
     "metadata": {},
     "output_type": "execute_result"
    }
   ],
   "source": [
    "a[1, :, 0]"
   ]
  },
  {
   "cell_type": "code",
   "execution_count": 22,
   "id": "e98acbf1-f0bc-4dc7-abd3-a04e2a49121e",
   "metadata": {},
   "outputs": [
    {
     "data": {
      "text/plain": [
       "array([[[ 1,  2],\n",
       "        [ 3,  4]],\n",
       "\n",
       "       [[ 5,  6],\n",
       "        [ 7,  8]],\n",
       "\n",
       "       [[ 9, 10],\n",
       "        [11, 12]]])"
      ]
     },
     "execution_count": 22,
     "metadata": {},
     "output_type": "execute_result"
    }
   ],
   "source": [
    "a"
   ]
  },
  {
   "cell_type": "code",
   "execution_count": null,
   "id": "6ad65f35-0b16-4f04-922a-d53b4436cc8c",
   "metadata": {},
   "outputs": [],
   "source": []
  },
  {
   "cell_type": "code",
   "execution_count": 49,
   "id": "d6339f9d-00cc-419c-b4b8-4d51e3965141",
   "metadata": {},
   "outputs": [],
   "source": [
    "empty_array = np.empty([2,2])"
   ]
  },
  {
   "cell_type": "code",
   "execution_count": 50,
   "id": "94e23923-cce7-47db-93e9-bf7ff39dbf8e",
   "metadata": {},
   "outputs": [
    {
     "name": "stdout",
     "output_type": "stream",
     "text": [
      "0.0\n"
     ]
    }
   ],
   "source": [
    "print(empty_array[0][0])"
   ]
  },
  {
   "cell_type": "code",
   "execution_count": 51,
   "id": "a296f960-52f0-4f16-9dcc-223bd58df14a",
   "metadata": {},
   "outputs": [
    {
     "data": {
      "text/plain": [
       "array([[0., 0.],\n",
       "       [0., 0.]])"
      ]
     },
     "execution_count": 51,
     "metadata": {},
     "output_type": "execute_result"
    }
   ],
   "source": [
    "empty_array"
   ]
  },
  {
   "cell_type": "code",
   "execution_count": null,
   "id": "de5e5eb3-8669-4bf3-a440-f653e18eeb1a",
   "metadata": {},
   "outputs": [],
   "source": []
  },
  {
   "cell_type": "code",
   "execution_count": 44,
   "id": "a7cc4bc9-9f50-485e-ae5b-d1bef5317c25",
   "metadata": {},
   "outputs": [
    {
     "data": {
      "text/plain": [
       "array([[0.39621914, 0.44575918, 0.59027937, 0.40718683, 0.29205288],\n",
       "       [0.65245958, 0.94333328, 0.90397367, 0.03590843, 0.89742227]])"
      ]
     },
     "execution_count": 44,
     "metadata": {},
     "output_type": "execute_result"
    }
   ],
   "source": [
    "np.random.random(10).reshape([2, 5])"
   ]
  },
  {
   "cell_type": "markdown",
   "id": "9d029f90-9862-41f0-a1fe-58f8f789b3cb",
   "metadata": {},
   "source": [
    "### 연습"
   ]
  },
  {
   "cell_type": "code",
   "execution_count": 37,
   "id": "60c12543-93a9-4a9b-9e44-ac510af6becd",
   "metadata": {},
   "outputs": [
    {
     "data": {
      "text/plain": [
       "array([[[ 1,  2,  3],\n",
       "        [ 4,  5,  6],\n",
       "        [ 7,  8,  9]],\n",
       "\n",
       "       [[10, 11, 12],\n",
       "        [13, 14, 15],\n",
       "        [16, 17, 18]],\n",
       "\n",
       "       [[19, 20, 21],\n",
       "        [22, 23, 24],\n",
       "        [25, 26, 27]]])"
      ]
     },
     "execution_count": 37,
     "metadata": {},
     "output_type": "execute_result"
    }
   ],
   "source": [
    "b = np.arange(1, 28, 1).reshape([3, 3, 3])\n",
    "b"
   ]
  },
  {
   "cell_type": "code",
   "execution_count": 53,
   "id": "9629859e-ec4c-4326-a735-2a3feaf784cc",
   "metadata": {},
   "outputs": [
    {
     "data": {
      "text/plain": [
       "array([ 1, 10, 19])"
      ]
     },
     "execution_count": 53,
     "metadata": {},
     "output_type": "execute_result"
    }
   ],
   "source": [
    "b[:, 0, 0]"
   ]
  },
  {
   "cell_type": "code",
   "execution_count": 54,
   "id": "48f2d3da-d6a9-4aba-8748-75f3596823cd",
   "metadata": {},
   "outputs": [
    {
     "data": {
      "text/plain": [
       "array([2, 5, 8])"
      ]
     },
     "execution_count": 54,
     "metadata": {},
     "output_type": "execute_result"
    }
   ],
   "source": [
    "b[0, :, 1]"
   ]
  },
  {
   "cell_type": "code",
   "execution_count": 60,
   "id": "3e8b5a45-b9f5-4cc0-8a46-f9afb1c81b14",
   "metadata": {},
   "outputs": [
    {
     "data": {
      "text/plain": [
       "array([[1, 2, 3],\n",
       "       [4, 5, 6],\n",
       "       [7, 8, 9]])"
      ]
     },
     "execution_count": 60,
     "metadata": {},
     "output_type": "execute_result"
    }
   ],
   "source": [
    "b[0]"
   ]
  },
  {
   "cell_type": "code",
   "execution_count": 61,
   "id": "71ebc10a-c6e2-48e0-bded-5eb066bc2860",
   "metadata": {},
   "outputs": [
    {
     "data": {
      "text/plain": [
       "array([[1, 2, 3],\n",
       "       [4, 5, 6],\n",
       "       [7, 8, 9]])"
      ]
     },
     "execution_count": 61,
     "metadata": {},
     "output_type": "execute_result"
    }
   ],
   "source": [
    "b[0, :, :]"
   ]
  },
  {
   "cell_type": "code",
   "execution_count": 59,
   "id": "593d2fa8-fdec-44f3-957c-3a553b8874a7",
   "metadata": {},
   "outputs": [
    {
     "data": {
      "text/plain": [
       "array([[ 4,  5,  6],\n",
       "       [13, 14, 15],\n",
       "       [22, 23, 24]])"
      ]
     },
     "execution_count": 59,
     "metadata": {},
     "output_type": "execute_result"
    }
   ],
   "source": [
    "b[:, 1, :]"
   ]
  },
  {
   "cell_type": "code",
   "execution_count": 56,
   "id": "170bb50b-40f4-48d2-8e15-e5ece3e4177e",
   "metadata": {},
   "outputs": [
    {
     "data": {
      "text/plain": [
       "array([[ 3,  6,  9],\n",
       "       [12, 15, 18],\n",
       "       [21, 24, 27]])"
      ]
     },
     "execution_count": 56,
     "metadata": {},
     "output_type": "execute_result"
    }
   ],
   "source": [
    "b[:, :, 2]"
   ]
  },
  {
   "cell_type": "markdown",
   "id": "faea712b-2b13-461c-a6a0-8fa83dca1d69",
   "metadata": {},
   "source": [
    "### slicing\n",
    "python list와 비슷하게 \"시작 인덱스:끝 인덱스:간격\" 문법으로 슬라이싱을 할 수 있습니다."
   ]
  },
  {
   "cell_type": "code",
   "execution_count": null,
   "id": "43928730-d260-4280-adbc-c8d11a7427f2",
   "metadata": {},
   "outputs": [],
   "source": []
  },
  {
   "cell_type": "markdown",
   "id": "33632966-b06f-4cf7-a617-dc16e6f26cea",
   "metadata": {},
   "source": [
    "### 축 선택과 슬라이싱 같이 사용하기"
   ]
  },
  {
   "cell_type": "code",
   "execution_count": null,
   "id": "1cf71e49-4ecf-4cd4-8078-ca6debf6284a",
   "metadata": {},
   "outputs": [],
   "source": []
  },
  {
   "cell_type": "markdown",
   "id": "59949b3a-dc96-4fe3-99ab-a49337c8e1c9",
   "metadata": {},
   "source": [
    "## 연습문제\n",
    "인덱싱과 슬라이싱을 이용하여 아래 결과들을 출력해보세요"
   ]
  },
  {
   "cell_type": "code",
   "execution_count": null,
   "id": "2562e456-a606-4189-ac11-e4b341969e84",
   "metadata": {},
   "outputs": [],
   "source": [
    "example = np.arange(1, 25, 1).reshape([2, 2, 6])"
   ]
  },
  {
   "cell_type": "code",
   "execution_count": 44,
   "id": "d37d97ba-dd15-4858-95b0-298fa2b3db53",
   "metadata": {},
   "outputs": [
    {
     "data": {
      "text/plain": [
       "array([[[ 1,  2,  3,  4,  5,  6],\n",
       "        [ 7,  8,  9, 10, 11, 12]],\n",
       "\n",
       "       [[13, 14, 15, 16, 17, 18],\n",
       "        [19, 20, 21, 22, 23, 24]]])"
      ]
     },
     "execution_count": 44,
     "metadata": {},
     "output_type": "execute_result"
    }
   ],
   "source": [
    "example"
   ]
  },
  {
   "cell_type": "code",
   "execution_count": 45,
   "id": "fa693bda-8bd5-4290-b137-0e940e90de24",
   "metadata": {},
   "outputs": [
    {
     "data": {
      "text/plain": [
       "array([[ 3,  9],\n",
       "       [15, 21]])"
      ]
     },
     "execution_count": 45,
     "metadata": {},
     "output_type": "execute_result"
    }
   ],
   "source": []
  },
  {
   "cell_type": "code",
   "execution_count": 46,
   "id": "bbe0eebf-e0ff-48bd-b250-b05f81abd1f3",
   "metadata": {},
   "outputs": [
    {
     "data": {
      "text/plain": [
       "array([14, 15, 16])"
      ]
     },
     "execution_count": 46,
     "metadata": {},
     "output_type": "execute_result"
    }
   ],
   "source": []
  },
  {
   "cell_type": "code",
   "execution_count": 47,
   "id": "fc435bb3-ccae-4bfe-860d-bd1614eddde4",
   "metadata": {},
   "outputs": [
    {
     "data": {
      "text/plain": [
       "array([[[ 2,  3,  4],\n",
       "        [ 8,  9, 10]],\n",
       "\n",
       "       [[14, 15, 16],\n",
       "        [20, 21, 22]]])"
      ]
     },
     "execution_count": 47,
     "metadata": {},
     "output_type": "execute_result"
    }
   ],
   "source": []
  },
  {
   "cell_type": "code",
   "execution_count": 48,
   "id": "7cc89c60-7e14-4cbd-918c-fd3028c1339c",
   "metadata": {},
   "outputs": [
    {
     "data": {
      "text/plain": [
       "array([[[ 1,  3,  5],\n",
       "        [ 7,  9, 11]],\n",
       "\n",
       "       [[13, 15, 17],\n",
       "        [19, 21, 23]]])"
      ]
     },
     "execution_count": 48,
     "metadata": {},
     "output_type": "execute_result"
    }
   ],
   "source": []
  },
  {
   "cell_type": "code",
   "execution_count": 49,
   "id": "5b301bb8-e446-4900-b784-93881544a64e",
   "metadata": {},
   "outputs": [
    {
     "data": {
      "text/plain": [
       "array([[ 8, 10],\n",
       "       [20, 22]])"
      ]
     },
     "execution_count": 49,
     "metadata": {},
     "output_type": "execute_result"
    }
   ],
   "source": []
  },
  {
   "cell_type": "code",
   "execution_count": null,
   "id": "c20a0942-75e8-483c-90ce-a3cb3ddce265",
   "metadata": {},
   "outputs": [],
   "source": []
  }
 ],
 "metadata": {
  "kernelspec": {
   "display_name": "Python 3 (ipykernel)",
   "language": "python",
   "name": "python3"
  },
  "language_info": {
   "codemirror_mode": {
    "name": "ipython",
    "version": 3
   },
   "file_extension": ".py",
   "mimetype": "text/x-python",
   "name": "python",
   "nbconvert_exporter": "python",
   "pygments_lexer": "ipython3",
   "version": "3.10.8"
  }
 },
 "nbformat": 4,
 "nbformat_minor": 5
}
