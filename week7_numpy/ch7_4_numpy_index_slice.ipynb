{
 "cells": [
  {
   "cell_type": "markdown",
   "id": "2c4e8974-7a96-4bcc-a041-3a1d72048eaa",
   "metadata": {},
   "source": [
    "## ch7_4 numpy indexing, slicing\n",
    "numpy ndarray도 python list와 마찬가지로 인덱싱과 슬라이싱을 지원합니다. 이 때, ndarray에서만 가능한 유용한 문법이 있으니, 이를 잘 익혀보도록 하겠습니다. "
   ]
  },
  {
   "cell_type": "markdown",
   "id": "911a5f14-caec-4d4c-8611-58819c2ae10a",
   "metadata": {},
   "source": [
    "### ndarray index\n",
    "기본적으로 python list에서 index를 이용하여 접근하듯 다차원 배열의 각 원소들에 접근할 수 있습니다."
   ]
  },
  {
   "cell_type": "code",
   "execution_count": 29,
   "id": "abb1297b-dbfb-49dd-bdaf-4ccf4a804aee",
   "metadata": {},
   "outputs": [],
   "source": [
    "import numpy as np"
   ]
  },
  {
   "cell_type": "code",
   "execution_count": 30,
   "id": "c085e9d0-971d-4a25-bcbe-5bc16d3ee20d",
   "metadata": {},
   "outputs": [],
   "source": []
  },
  {
   "cell_type": "markdown",
   "id": "4925b390-ef9c-44ef-b7d6-c0c9e4b2847a",
   "metadata": {},
   "source": [
    "인덱스로 접근해서 값을 업데이트 할 수도 있습니다."
   ]
  },
  {
   "cell_type": "code",
   "execution_count": null,
   "id": "a2f25c55-396e-4436-b0cf-5874adb29f77",
   "metadata": {},
   "outputs": [],
   "source": []
  },
  {
   "cell_type": "markdown",
   "id": "b2dc60b2-3b75-4f1f-8762-1ef215aaca56",
   "metadata": {},
   "source": [
    "그리고 python과는 달리 인덱스 하나에 ,를 이어붙인 문법을 사용할 수 있습니다."
   ]
  },
  {
   "cell_type": "code",
   "execution_count": null,
   "id": "eea709c8-3ad9-4432-a279-343b39a8f1ca",
   "metadata": {},
   "outputs": [],
   "source": []
  },
  {
   "cell_type": "markdown",
   "id": "cc649987-1dcf-4ab0-a9b9-09062362536c",
   "metadata": {},
   "source": [
    "### : 기호 사용해서 특정 축의 데이터 모두 선택하기\n",
    "ndarray index에 : 를 사용하면 해당 축의 모든 데이터를 선택하겠다는 의미입니다."
   ]
  },
  {
   "cell_type": "code",
   "execution_count": null,
   "id": "be2cac4d-8ab2-48d2-ac20-b4f8ce5a3b35",
   "metadata": {},
   "outputs": [],
   "source": []
  },
  {
   "cell_type": "markdown",
   "id": "faea712b-2b13-461c-a6a0-8fa83dca1d69",
   "metadata": {},
   "source": [
    "### slicing\n",
    "python list와 비슷하게 \"시작 인덱스:끝 인덱스:간격\" 문법으로 슬라이싱을 할 수 있습니다."
   ]
  },
  {
   "cell_type": "code",
   "execution_count": null,
   "id": "43928730-d260-4280-adbc-c8d11a7427f2",
   "metadata": {},
   "outputs": [],
   "source": []
  },
  {
   "cell_type": "markdown",
   "id": "33632966-b06f-4cf7-a617-dc16e6f26cea",
   "metadata": {},
   "source": [
    "### 축 선택과 슬라이싱 같이 사용하기"
   ]
  },
  {
   "cell_type": "code",
   "execution_count": null,
   "id": "1cf71e49-4ecf-4cd4-8078-ca6debf6284a",
   "metadata": {},
   "outputs": [],
   "source": []
  },
  {
   "cell_type": "markdown",
   "id": "59949b3a-dc96-4fe3-99ab-a49337c8e1c9",
   "metadata": {},
   "source": [
    "## 연습문제\n",
    "인덱싱과 슬라이싱을 이용하여 아래 결과들을 출력해보세요"
   ]
  },
  {
   "cell_type": "code",
   "execution_count": null,
   "id": "2562e456-a606-4189-ac11-e4b341969e84",
   "metadata": {},
   "outputs": [],
   "source": [
    "example = np.arange(1, 25, 1).reshape([2, 2, 6])"
   ]
  },
  {
   "cell_type": "code",
   "execution_count": 44,
   "id": "d37d97ba-dd15-4858-95b0-298fa2b3db53",
   "metadata": {},
   "outputs": [
    {
     "data": {
      "text/plain": [
       "array([[[ 1,  2,  3,  4,  5,  6],\n",
       "        [ 7,  8,  9, 10, 11, 12]],\n",
       "\n",
       "       [[13, 14, 15, 16, 17, 18],\n",
       "        [19, 20, 21, 22, 23, 24]]])"
      ]
     },
     "execution_count": 44,
     "metadata": {},
     "output_type": "execute_result"
    }
   ],
   "source": [
    "example"
   ]
  },
  {
   "cell_type": "code",
   "execution_count": 45,
   "id": "fa693bda-8bd5-4290-b137-0e940e90de24",
   "metadata": {},
   "outputs": [
    {
     "data": {
      "text/plain": [
       "array([[ 3,  9],\n",
       "       [15, 21]])"
      ]
     },
     "execution_count": 45,
     "metadata": {},
     "output_type": "execute_result"
    }
   ],
   "source": []
  },
  {
   "cell_type": "code",
   "execution_count": 46,
   "id": "bbe0eebf-e0ff-48bd-b250-b05f81abd1f3",
   "metadata": {},
   "outputs": [
    {
     "data": {
      "text/plain": [
       "array([14, 15, 16])"
      ]
     },
     "execution_count": 46,
     "metadata": {},
     "output_type": "execute_result"
    }
   ],
   "source": []
  },
  {
   "cell_type": "code",
   "execution_count": 47,
   "id": "fc435bb3-ccae-4bfe-860d-bd1614eddde4",
   "metadata": {},
   "outputs": [
    {
     "data": {
      "text/plain": [
       "array([[[ 2,  3,  4],\n",
       "        [ 8,  9, 10]],\n",
       "\n",
       "       [[14, 15, 16],\n",
       "        [20, 21, 22]]])"
      ]
     },
     "execution_count": 47,
     "metadata": {},
     "output_type": "execute_result"
    }
   ],
   "source": []
  },
  {
   "cell_type": "code",
   "execution_count": 48,
   "id": "7cc89c60-7e14-4cbd-918c-fd3028c1339c",
   "metadata": {},
   "outputs": [
    {
     "data": {
      "text/plain": [
       "array([[[ 1,  3,  5],\n",
       "        [ 7,  9, 11]],\n",
       "\n",
       "       [[13, 15, 17],\n",
       "        [19, 21, 23]]])"
      ]
     },
     "execution_count": 48,
     "metadata": {},
     "output_type": "execute_result"
    }
   ],
   "source": []
  },
  {
   "cell_type": "code",
   "execution_count": 49,
   "id": "5b301bb8-e446-4900-b784-93881544a64e",
   "metadata": {},
   "outputs": [
    {
     "data": {
      "text/plain": [
       "array([[ 8, 10],\n",
       "       [20, 22]])"
      ]
     },
     "execution_count": 49,
     "metadata": {},
     "output_type": "execute_result"
    }
   ],
   "source": []
  },
  {
   "cell_type": "code",
   "execution_count": null,
   "id": "c20a0942-75e8-483c-90ce-a3cb3ddce265",
   "metadata": {},
   "outputs": [],
   "source": []
  }
 ],
 "metadata": {
  "kernelspec": {
   "display_name": "Python 3 (ipykernel)",
   "language": "python",
   "name": "python3"
  },
  "language_info": {
   "codemirror_mode": {
    "name": "ipython",
    "version": 3
   },
   "file_extension": ".py",
   "mimetype": "text/x-python",
   "name": "python",
   "nbconvert_exporter": "python",
   "pygments_lexer": "ipython3",
   "version": "3.10.8"
  }
 },
 "nbformat": 4,
 "nbformat_minor": 5
}
