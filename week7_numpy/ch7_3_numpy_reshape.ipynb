{
 "cells": [
  {
   "cell_type": "markdown",
   "id": "5df401bd-73ad-47a5-8f09-1fd463842374",
   "metadata": {},
   "source": [
    "## ch7_3 다차원 배열의 형태 변경하기\n",
    "np.reshape, np.transpose 등의 함수를 이용하면 다차원 배열의 형태를 원하는 대로 변경할 수 있습니다."
   ]
  },
  {
   "cell_type": "markdown",
   "id": "9cceff17-6c65-4f4d-bb09-a2a873df9ddb",
   "metadata": {},
   "source": [
    "### np.reshape\n",
    "ndarray를 원하는 형태로 지정하여 변경할 수 있습니다. 단, 이 때 변경 전과 변경 후의 다차원 배열의 원소 개수가 동일하게 유지되어야 합니다.  \n",
    "ex) 3 x4 -> 2 x 6"
   ]
  },
  {
   "cell_type": "code",
   "execution_count": 5,
   "id": "c7196564-c9b6-4439-9b5f-4f0a93eace4b",
   "metadata": {},
   "outputs": [],
   "source": [
    "import numpy as np"
   ]
  },
  {
   "cell_type": "code",
   "execution_count": 6,
   "id": "f023b106-5ace-4eba-a820-c364a1a782df",
   "metadata": {},
   "outputs": [],
   "source": [
    "a = np.arange(1, 13, 1)"
   ]
  },
  {
   "cell_type": "code",
   "execution_count": 7,
   "id": "36791352-8466-423e-a067-6c860fb60e30",
   "metadata": {},
   "outputs": [
    {
     "data": {
      "text/plain": [
       "array([ 1,  2,  3,  4,  5,  6,  7,  8,  9, 10, 11, 12])"
      ]
     },
     "execution_count": 7,
     "metadata": {},
     "output_type": "execute_result"
    }
   ],
   "source": [
    "a"
   ]
  },
  {
   "cell_type": "code",
   "execution_count": 8,
   "id": "c3004409-5b1f-4cad-8694-eed29d05f96b",
   "metadata": {},
   "outputs": [
    {
     "data": {
      "text/plain": [
       "array([[ 1,  2,  3,  4,  5,  6],\n",
       "       [ 7,  8,  9, 10, 11, 12]])"
      ]
     },
     "execution_count": 8,
     "metadata": {},
     "output_type": "execute_result"
    }
   ],
   "source": [
    "a.reshape([2, 6])"
   ]
  },
  {
   "cell_type": "code",
   "execution_count": 9,
   "id": "3579272f-5411-4920-aba7-5f45356b0735",
   "metadata": {},
   "outputs": [
    {
     "data": {
      "text/plain": [
       "array([[[ 1,  2,  3],\n",
       "        [ 4,  5,  6]],\n",
       "\n",
       "       [[ 7,  8,  9],\n",
       "        [10, 11, 12]]])"
      ]
     },
     "execution_count": 9,
     "metadata": {},
     "output_type": "execute_result"
    }
   ],
   "source": [
    "a.reshape([2, 2, 3])"
   ]
  },
  {
   "cell_type": "code",
   "execution_count": 10,
   "id": "36685799-8c51-4716-a21a-83048cdfad38",
   "metadata": {},
   "outputs": [
    {
     "data": {
      "text/plain": [
       "array([[ 1,  2,  3],\n",
       "       [ 4,  5,  6],\n",
       "       [ 7,  8,  9],\n",
       "       [10, 11, 12]])"
      ]
     },
     "execution_count": 10,
     "metadata": {},
     "output_type": "execute_result"
    }
   ],
   "source": [
    "a.reshape([4, 3])"
   ]
  },
  {
   "cell_type": "code",
   "execution_count": 11,
   "id": "d7188bf0-4dfb-446d-ada1-1cd826d5c4fe",
   "metadata": {},
   "outputs": [
    {
     "ename": "ValueError",
     "evalue": "cannot reshape array of size 12 into shape (4,2)",
     "output_type": "error",
     "traceback": [
      "\u001b[0;31m---------------------------------------------------------------------------\u001b[0m",
      "\u001b[0;31mValueError\u001b[0m                                Traceback (most recent call last)",
      "Cell \u001b[0;32mIn[11], line 1\u001b[0m\n\u001b[0;32m----> 1\u001b[0m \u001b[43ma\u001b[49m\u001b[38;5;241;43m.\u001b[39;49m\u001b[43mreshape\u001b[49m\u001b[43m(\u001b[49m\u001b[43m[\u001b[49m\u001b[38;5;241;43m4\u001b[39;49m\u001b[43m,\u001b[49m\u001b[43m \u001b[49m\u001b[38;5;241;43m2\u001b[39;49m\u001b[43m]\u001b[49m\u001b[43m)\u001b[49m\n",
      "\u001b[0;31mValueError\u001b[0m: cannot reshape array of size 12 into shape (4,2)"
     ]
    }
   ],
   "source": [
    "a.reshape([4, 2])"
   ]
  },
  {
   "cell_type": "markdown",
   "id": "10ce2391-b709-4046-a44a-4679089b6c3a",
   "metadata": {},
   "source": [
    "### np.transpose\n",
    "np.transpose는 2차원 배열의 x축과 y축을 변경해줄 때 사용합니다. np.transpose 함수에 직접 바꾸고자 하는 축을 입력해주면 해당 축을 바꿔줍니다."
   ]
  },
  {
   "cell_type": "code",
   "execution_count": 40,
   "id": "cd7982b4-5692-445d-a3ed-507b05ba42c5",
   "metadata": {},
   "outputs": [
    {
     "data": {
      "text/plain": [
       "(array([[1, 2, 3],\n",
       "        [4, 5, 6]]),\n",
       " (2, 3))"
      ]
     },
     "execution_count": 40,
     "metadata": {},
     "output_type": "execute_result"
    }
   ],
   "source": [
    "a = np.array([[1, 2, 3], [4, 5, 6]])\n",
    "a, a.shape"
   ]
  },
  {
   "cell_type": "code",
   "execution_count": 41,
   "id": "7e2612c9-5e0c-423d-a579-964aaa31e8a2",
   "metadata": {},
   "outputs": [
    {
     "data": {
      "text/plain": [
       "5"
      ]
     },
     "execution_count": 41,
     "metadata": {},
     "output_type": "execute_result"
    }
   ],
   "source": [
    "a[1][1]"
   ]
  },
  {
   "cell_type": "code",
   "execution_count": 42,
   "id": "d884e6e9-c454-44d8-a928-8a0d7ad969f0",
   "metadata": {},
   "outputs": [
    {
     "data": {
      "text/plain": [
       "6"
      ]
     },
     "execution_count": 42,
     "metadata": {},
     "output_type": "execute_result"
    }
   ],
   "source": [
    "a[1][2]"
   ]
  },
  {
   "cell_type": "code",
   "execution_count": 43,
   "id": "72a15059-93a3-4435-b167-fdd172f8010d",
   "metadata": {},
   "outputs": [],
   "source": [
    "at = a.transpose()"
   ]
  },
  {
   "cell_type": "code",
   "execution_count": 44,
   "id": "33f97e5c-832c-4249-94dd-9be597282636",
   "metadata": {},
   "outputs": [
    {
     "data": {
      "text/plain": [
       "(array([[1, 4],\n",
       "        [2, 5],\n",
       "        [3, 6]]),\n",
       " (3, 2))"
      ]
     },
     "execution_count": 44,
     "metadata": {},
     "output_type": "execute_result"
    }
   ],
   "source": [
    "at, at.shape"
   ]
  },
  {
   "cell_type": "code",
   "execution_count": 45,
   "id": "5cd84166-5087-4b9b-a5c9-8a8744d5bd53",
   "metadata": {},
   "outputs": [],
   "source": [
    "c = np.array([[1, 2], [3, 4]])"
   ]
  },
  {
   "cell_type": "code",
   "execution_count": 49,
   "id": "afef8516-6a08-4529-a8c6-045194527632",
   "metadata": {},
   "outputs": [
    {
     "data": {
      "text/plain": [
       "3"
      ]
     },
     "execution_count": 49,
     "metadata": {},
     "output_type": "execute_result"
    }
   ],
   "source": [
    "c[1][0]"
   ]
  },
  {
   "cell_type": "code",
   "execution_count": 46,
   "id": "22394d47-f8e1-4f63-9867-7859c9b499b1",
   "metadata": {},
   "outputs": [
    {
     "data": {
      "text/plain": [
       "array([[1, 2],\n",
       "       [3, 4]])"
      ]
     },
     "execution_count": 46,
     "metadata": {},
     "output_type": "execute_result"
    }
   ],
   "source": [
    "c"
   ]
  },
  {
   "cell_type": "code",
   "execution_count": 47,
   "id": "78b78ddc-3769-4b47-9efc-e88cd1d0e729",
   "metadata": {},
   "outputs": [
    {
     "data": {
      "text/plain": [
       "array([[1, 3],\n",
       "       [2, 4]])"
      ]
     },
     "execution_count": 47,
     "metadata": {},
     "output_type": "execute_result"
    }
   ],
   "source": [
    "c.transpose()"
   ]
  },
  {
   "cell_type": "code",
   "execution_count": 56,
   "id": "137300e3-2426-49e3-b467-583b14cb64e3",
   "metadata": {},
   "outputs": [],
   "source": [
    "b = np.arange(1, 9, 1)\n",
    "b = b.reshape([2, 2, 2])"
   ]
  },
  {
   "cell_type": "code",
   "execution_count": 57,
   "id": "56b2f18e-e030-4e5e-94ff-8fa3ac59497a",
   "metadata": {},
   "outputs": [
    {
     "data": {
      "text/plain": [
       "array([[[1, 2],\n",
       "        [3, 4]],\n",
       "\n",
       "       [[5, 6],\n",
       "        [7, 8]]])"
      ]
     },
     "execution_count": 57,
     "metadata": {},
     "output_type": "execute_result"
    }
   ],
   "source": [
    "b"
   ]
  },
  {
   "cell_type": "code",
   "execution_count": 58,
   "id": "ae3d0914-84ed-407b-9120-181ebdb65fbc",
   "metadata": {},
   "outputs": [
    {
     "data": {
      "text/plain": [
       "(2, 2, 2)"
      ]
     },
     "execution_count": 58,
     "metadata": {},
     "output_type": "execute_result"
    }
   ],
   "source": [
    "b.shape"
   ]
  },
  {
   "cell_type": "code",
   "execution_count": 50,
   "id": "caa8f600-ad11-4eae-8edb-44faeb3bbb89",
   "metadata": {},
   "outputs": [
    {
     "data": {
      "text/plain": [
       "5"
      ]
     },
     "execution_count": 50,
     "metadata": {},
     "output_type": "execute_result"
    }
   ],
   "source": [
    "b[1][0][0]"
   ]
  },
  {
   "cell_type": "code",
   "execution_count": 51,
   "id": "9b016865-6c2f-4987-8584-402cc6b97999",
   "metadata": {},
   "outputs": [],
   "source": [
    "# 1, 0, 0\n",
    "# -> 0, 1, 0"
   ]
  },
  {
   "cell_type": "code",
   "execution_count": 62,
   "id": "f9cbc700-7a41-429e-a4af-b1aa7fdbf277",
   "metadata": {},
   "outputs": [],
   "source": [
    "bt = np.transpose(b, (2, 1, 0))"
   ]
  },
  {
   "cell_type": "code",
   "execution_count": 63,
   "id": "c7d2e955-abe5-447f-b49c-47d3ec38d22a",
   "metadata": {},
   "outputs": [
    {
     "data": {
      "text/plain": [
       "array([[[1, 5],\n",
       "        [3, 7]],\n",
       "\n",
       "       [[2, 6],\n",
       "        [4, 8]]])"
      ]
     },
     "execution_count": 63,
     "metadata": {},
     "output_type": "execute_result"
    }
   ],
   "source": [
    "bt"
   ]
  },
  {
   "cell_type": "code",
   "execution_count": 55,
   "id": "5d9e4cc1-8d10-4213-9eaa-edef604aeed5",
   "metadata": {},
   "outputs": [
    {
     "data": {
      "text/plain": [
       "3"
      ]
     },
     "execution_count": 55,
     "metadata": {},
     "output_type": "execute_result"
    }
   ],
   "source": [
    "bt[0][1][0]"
   ]
  },
  {
   "cell_type": "code",
   "execution_count": 32,
   "id": "8498ffdf-d0f8-46be-9b31-5b53f4319f5c",
   "metadata": {},
   "outputs": [
    {
     "data": {
      "text/plain": [
       "5"
      ]
     },
     "execution_count": 32,
     "metadata": {},
     "output_type": "execute_result"
    }
   ],
   "source": [
    "bt[0][1][0]"
   ]
  },
  {
   "cell_type": "markdown",
   "id": "7e446ad3-88c3-4e10-90d6-b300ab94879a",
   "metadata": {},
   "source": [
    "### ndarray 펼치기\n",
    "np.flatten을 사용하면 다차원 배열을 1차원으로 펼칠 수 있다."
   ]
  },
  {
   "cell_type": "code",
   "execution_count": 38,
   "id": "97cda057-b256-4751-b715-f4c3e5101f8d",
   "metadata": {},
   "outputs": [
    {
     "data": {
      "text/plain": [
       "array([[[ 1,  2],\n",
       "        [ 3,  4],\n",
       "        [ 5,  6]],\n",
       "\n",
       "       [[ 7,  8],\n",
       "        [ 9, 10],\n",
       "        [11, 12]]])"
      ]
     },
     "execution_count": 38,
     "metadata": {},
     "output_type": "execute_result"
    }
   ],
   "source": [
    "a = np.arange(1, 13, 1).reshape([2, 3, 2])\n",
    "a"
   ]
  },
  {
   "cell_type": "code",
   "execution_count": 39,
   "id": "8bc89744-10ad-4c78-9621-1efc21f219c0",
   "metadata": {},
   "outputs": [
    {
     "data": {
      "text/plain": [
       "array([ 1,  2,  3,  4,  5,  6,  7,  8,  9, 10, 11, 12])"
      ]
     },
     "execution_count": 39,
     "metadata": {},
     "output_type": "execute_result"
    }
   ],
   "source": [
    "a.flatten()"
   ]
  },
  {
   "cell_type": "markdown",
   "id": "9f9f2515-0e0f-40d4-8ce3-ae6c70478db4",
   "metadata": {},
   "source": [
    "### 연습문제\n",
    "np.reshape와 np.transpose를 사용하여 b를 아래 형태들로 만들어 보세요"
   ]
  },
  {
   "cell_type": "code",
   "execution_count": 79,
   "id": "da7d1867-1b57-45f4-993d-e50896e1d922",
   "metadata": {},
   "outputs": [],
   "source": [
    "import numpy as np\n",
    "\n",
    "reshape_example = np.arange(1, 13, 1)"
   ]
  },
  {
   "cell_type": "code",
   "execution_count": 80,
   "id": "76e4b67d-b1fc-4ddb-92d0-d0e48b307d8f",
   "metadata": {},
   "outputs": [
    {
     "data": {
      "text/plain": [
       "array([ 1,  2,  3,  4,  5,  6,  7,  8,  9, 10, 11, 12])"
      ]
     },
     "execution_count": 80,
     "metadata": {},
     "output_type": "execute_result"
    }
   ],
   "source": [
    "reshape_example"
   ]
  },
  {
   "cell_type": "code",
   "execution_count": 82,
   "id": "fb3a8811-dffd-4153-991b-027623a2e66b",
   "metadata": {},
   "outputs": [
    {
     "data": {
      "text/plain": [
       "array([[ 1,  2],\n",
       "       [ 3,  4],\n",
       "       [ 5,  6],\n",
       "       [ 7,  8],\n",
       "       [ 9, 10],\n",
       "       [11, 12]])"
      ]
     },
     "execution_count": 82,
     "metadata": {},
     "output_type": "execute_result"
    }
   ],
   "source": [
    "# 6, 2\n",
    "reshape_example.reshape([6, 2])"
   ]
  },
  {
   "cell_type": "code",
   "execution_count": 59,
   "id": "ad7f32d6-1a4a-45c0-af9e-3d449ddb13a6",
   "metadata": {},
   "outputs": [
    {
     "data": {
      "text/plain": [
       "array([[ 1,  2],\n",
       "       [ 3,  4],\n",
       "       [ 5,  6],\n",
       "       [ 7,  8],\n",
       "       [ 9, 10],\n",
       "       [11, 12]])"
      ]
     },
     "execution_count": 59,
     "metadata": {},
     "output_type": "execute_result"
    }
   ],
   "source": []
  },
  {
   "cell_type": "code",
   "execution_count": 83,
   "id": "b9a96f86-c815-498d-9ac8-e9687701644a",
   "metadata": {},
   "outputs": [
    {
     "data": {
      "text/plain": [
       "array([[[ 1,  2],\n",
       "        [ 3,  4]],\n",
       "\n",
       "       [[ 5,  6],\n",
       "        [ 7,  8]],\n",
       "\n",
       "       [[ 9, 10],\n",
       "        [11, 12]]])"
      ]
     },
     "execution_count": 83,
     "metadata": {},
     "output_type": "execute_result"
    }
   ],
   "source": [
    "# 3, 2, 2\n",
    "reshape_example.reshape([3, 2, 2])"
   ]
  },
  {
   "cell_type": "code",
   "execution_count": 60,
   "id": "397e7b7e-99ec-4382-82c2-24d7e76ba1ee",
   "metadata": {},
   "outputs": [
    {
     "data": {
      "text/plain": [
       "array([[[ 1,  2],\n",
       "        [ 3,  4]],\n",
       "\n",
       "       [[ 5,  6],\n",
       "        [ 7,  8]],\n",
       "\n",
       "       [[ 9, 10],\n",
       "        [11, 12]]])"
      ]
     },
     "execution_count": 60,
     "metadata": {},
     "output_type": "execute_result"
    }
   ],
   "source": []
  },
  {
   "cell_type": "code",
   "execution_count": 84,
   "id": "504848fd-09a1-4447-848d-60fe9e3bf34e",
   "metadata": {},
   "outputs": [],
   "source": [
    "transpose_example = np.arange(1, 13, 1)\n",
    "transpose_example = transpose_example.reshape([2, 2, 3])"
   ]
  },
  {
   "cell_type": "code",
   "execution_count": 85,
   "id": "7b7a85b1-81fa-4f9b-b338-849bd19ff06e",
   "metadata": {},
   "outputs": [
    {
     "data": {
      "text/plain": [
       "array([[[ 1,  2,  3],\n",
       "        [ 4,  5,  6]],\n",
       "\n",
       "       [[ 7,  8,  9],\n",
       "        [10, 11, 12]]])"
      ]
     },
     "execution_count": 85,
     "metadata": {},
     "output_type": "execute_result"
    }
   ],
   "source": [
    "transpose_example"
   ]
  },
  {
   "cell_type": "code",
   "execution_count": 86,
   "id": "fab0114b-c364-4528-83a7-37fefb780c15",
   "metadata": {},
   "outputs": [
    {
     "data": {
      "text/plain": [
       "array([[[ 1,  4],\n",
       "        [ 2,  5],\n",
       "        [ 3,  6]],\n",
       "\n",
       "       [[ 7, 10],\n",
       "        [ 8, 11],\n",
       "        [ 9, 12]]])"
      ]
     },
     "execution_count": 86,
     "metadata": {},
     "output_type": "execute_result"
    }
   ],
   "source": [
    "transpose_example.transpose([0, 2, 1])"
   ]
  },
  {
   "cell_type": "code",
   "execution_count": 87,
   "id": "4f438f94-4caa-47c6-9f08-b1e0f5e1cb83",
   "metadata": {},
   "outputs": [
    {
     "data": {
      "text/plain": [
       "array([[[ 1,  2,  3],\n",
       "        [ 7,  8,  9]],\n",
       "\n",
       "       [[ 4,  5,  6],\n",
       "        [10, 11, 12]]])"
      ]
     },
     "execution_count": 87,
     "metadata": {},
     "output_type": "execute_result"
    }
   ],
   "source": [
    "transpose_example.transpose([1, 0, 2])"
   ]
  },
  {
   "cell_type": "code",
   "execution_count": 88,
   "id": "ab823820-444f-40de-a6eb-3bfe138fab77",
   "metadata": {},
   "outputs": [
    {
     "data": {
      "text/plain": [
       "array([[[ 1,  7],\n",
       "        [ 2,  8],\n",
       "        [ 3,  9]],\n",
       "\n",
       "       [[ 4, 10],\n",
       "        [ 5, 11],\n",
       "        [ 6, 12]]])"
      ]
     },
     "execution_count": 88,
     "metadata": {},
     "output_type": "execute_result"
    }
   ],
   "source": [
    "transpose_example.transpose([1, 2, 0])"
   ]
  },
  {
   "cell_type": "code",
   "execution_count": 89,
   "id": "531dface-f400-44a1-bfc4-517ba29a0205",
   "metadata": {},
   "outputs": [
    {
     "data": {
      "text/plain": [
       "array([[[ 1,  4],\n",
       "        [ 7, 10]],\n",
       "\n",
       "       [[ 2,  5],\n",
       "        [ 8, 11]],\n",
       "\n",
       "       [[ 3,  6],\n",
       "        [ 9, 12]]])"
      ]
     },
     "execution_count": 89,
     "metadata": {},
     "output_type": "execute_result"
    }
   ],
   "source": [
    "transpose_example.transpose([2, 0, 1])"
   ]
  },
  {
   "cell_type": "code",
   "execution_count": 90,
   "id": "b5fcfb2d-1b4c-4445-ab3b-e56b3a334fd2",
   "metadata": {},
   "outputs": [
    {
     "data": {
      "text/plain": [
       "array([[[ 1,  7],\n",
       "        [ 4, 10]],\n",
       "\n",
       "       [[ 2,  8],\n",
       "        [ 5, 11]],\n",
       "\n",
       "       [[ 3,  9],\n",
       "        [ 6, 12]]])"
      ]
     },
     "execution_count": 90,
     "metadata": {},
     "output_type": "execute_result"
    }
   ],
   "source": [
    "transpose_example.transpose([2, 1, 0])"
   ]
  },
  {
   "cell_type": "code",
   "execution_count": 68,
   "id": "4a88628e-845e-4ecc-bf4f-7d6030d55f8c",
   "metadata": {},
   "outputs": [
    {
     "data": {
      "text/plain": [
       "array([[[ 1,  2,  3],\n",
       "        [ 7,  8,  9]],\n",
       "\n",
       "       [[ 4,  5,  6],\n",
       "        [10, 11, 12]]])"
      ]
     },
     "execution_count": 68,
     "metadata": {},
     "output_type": "execute_result"
    }
   ],
   "source": [
    "# 0, 1, 0 -> 1, 0, 0\n",
    "np.transpose(transpose_example, (1, 0, 2))"
   ]
  },
  {
   "cell_type": "code",
   "execution_count": 72,
   "id": "fc66ae72-bddc-4310-bd61-ab67efad5cc7",
   "metadata": {},
   "outputs": [
    {
     "data": {
      "text/plain": [
       "array([[[ 1,  4],\n",
       "        [ 2,  5],\n",
       "        [ 3,  6]],\n",
       "\n",
       "       [[ 7, 10],\n",
       "        [ 8, 11],\n",
       "        [ 9, 12]]])"
      ]
     },
     "execution_count": 72,
     "metadata": {},
     "output_type": "execute_result"
    }
   ],
   "source": [
    "# 0, 0, 2\n",
    "# -> 0, 2, 0\n",
    "np.transpose(transpose_example, (0, 2, 1))"
   ]
  },
  {
   "cell_type": "code",
   "execution_count": 91,
   "id": "3cd77f7a-10b0-4999-8847-0bf7359907f6",
   "metadata": {},
   "outputs": [
    {
     "data": {
      "text/plain": [
       "array([[[ 1,  7],\n",
       "        [ 4, 10]],\n",
       "\n",
       "       [[ 2,  8],\n",
       "        [ 5, 11]],\n",
       "\n",
       "       [[ 3,  9],\n",
       "        [ 6, 12]]])"
      ]
     },
     "execution_count": 91,
     "metadata": {},
     "output_type": "execute_result"
    }
   ],
   "source": [
    "np.transpose(transpose_example, (2, 1, 0))"
   ]
  },
  {
   "cell_type": "code",
   "execution_count": 67,
   "id": "5750cbe5-dec2-4e88-92b7-feaca270622f",
   "metadata": {},
   "outputs": [
    {
     "data": {
      "text/plain": [
       "array([[[ 1,  7],\n",
       "        [ 4, 10]],\n",
       "\n",
       "       [[ 2,  8],\n",
       "        [ 5, 11]],\n",
       "\n",
       "       [[ 3,  9],\n",
       "        [ 6, 12]]])"
      ]
     },
     "execution_count": 67,
     "metadata": {},
     "output_type": "execute_result"
    }
   ],
   "source": []
  }
 ],
 "metadata": {
  "kernelspec": {
   "display_name": "Python 3 (ipykernel)",
   "language": "python",
   "name": "python3"
  },
  "language_info": {
   "codemirror_mode": {
    "name": "ipython",
    "version": 3
   },
   "file_extension": ".py",
   "mimetype": "text/x-python",
   "name": "python",
   "nbconvert_exporter": "python",
   "pygments_lexer": "ipython3",
   "version": "3.10.8"
  }
 },
 "nbformat": 4,
 "nbformat_minor": 5
}
