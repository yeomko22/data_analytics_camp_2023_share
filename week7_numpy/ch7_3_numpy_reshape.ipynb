{
 "cells": [
  {
   "cell_type": "markdown",
   "id": "5df401bd-73ad-47a5-8f09-1fd463842374",
   "metadata": {},
   "source": [
    "## ch7_3 다차원 배열의 형태 변경하기\n",
    "np.reshape, np.transpose 등의 함수를 이용하면 다차원 배열의 형태를 원하는 대로 변경할 수 있습니다."
   ]
  },
  {
   "cell_type": "markdown",
   "id": "9cceff17-6c65-4f4d-bb09-a2a873df9ddb",
   "metadata": {},
   "source": [
    "### np.reshape\n",
    "ndarray를 원하는 형태로 지정하여 변경할 수 있습니다. 단, 이 때 변경 전과 변경 후의 다차원 배열의 원소 개수가 동일하게 유지되어야 합니다.  \n",
    "ex) 3 x4 -> 2 x 6"
   ]
  },
  {
   "cell_type": "code",
   "execution_count": 3,
   "id": "c7196564-c9b6-4439-9b5f-4f0a93eace4b",
   "metadata": {},
   "outputs": [],
   "source": [
    "import numpy as np"
   ]
  },
  {
   "cell_type": "code",
   "execution_count": null,
   "id": "f023b106-5ace-4eba-a820-c364a1a782df",
   "metadata": {},
   "outputs": [],
   "source": []
  },
  {
   "cell_type": "markdown",
   "id": "10ce2391-b709-4046-a44a-4679089b6c3a",
   "metadata": {},
   "source": [
    "### np.transpose\n",
    "np.transpose는 2차원 배열의 x축과 y축을 변경해줄 때 사용합니다. np.transpose 함수에 직접 바꾸고자 하는 축을 입력해주면 해당 축을 바꿔줍니다."
   ]
  },
  {
   "cell_type": "code",
   "execution_count": null,
   "id": "cd7982b4-5692-445d-a3ed-507b05ba42c5",
   "metadata": {},
   "outputs": [],
   "source": []
  },
  {
   "cell_type": "markdown",
   "id": "7e446ad3-88c3-4e10-90d6-b300ab94879a",
   "metadata": {},
   "source": [
    "### ndarray 펼치기\n",
    "np.flatten을 사용하면 다차원 배열을 1차원으로 펼칠 수 있다."
   ]
  },
  {
   "cell_type": "code",
   "execution_count": null,
   "id": "97cda057-b256-4751-b715-f4c3e5101f8d",
   "metadata": {},
   "outputs": [],
   "source": []
  },
  {
   "cell_type": "markdown",
   "id": "9f9f2515-0e0f-40d4-8ce3-ae6c70478db4",
   "metadata": {},
   "source": [
    "### 연습문제\n",
    "np.reshape와 np.transpose를 사용하여 b를 아래 형태들로 만들어 보세요"
   ]
  },
  {
   "cell_type": "code",
   "execution_count": 3,
   "id": "da7d1867-1b57-45f4-993d-e50896e1d922",
   "metadata": {},
   "outputs": [],
   "source": [
    "import numpy as np\n",
    "\n",
    "reshape_example = np.arange(1, 13, 1)"
   ]
  },
  {
   "cell_type": "code",
   "execution_count": 4,
   "id": "76e4b67d-b1fc-4ddb-92d0-d0e48b307d8f",
   "metadata": {},
   "outputs": [
    {
     "data": {
      "text/plain": [
       "array([ 1,  2,  3,  4,  5,  6,  7,  8,  9, 10, 11, 12])"
      ]
     },
     "execution_count": 4,
     "metadata": {},
     "output_type": "execute_result"
    }
   ],
   "source": [
    "reshape_example"
   ]
  },
  {
   "cell_type": "code",
   "execution_count": 59,
   "id": "ad7f32d6-1a4a-45c0-af9e-3d449ddb13a6",
   "metadata": {},
   "outputs": [
    {
     "data": {
      "text/plain": [
       "array([[ 1,  2],\n",
       "       [ 3,  4],\n",
       "       [ 5,  6],\n",
       "       [ 7,  8],\n",
       "       [ 9, 10],\n",
       "       [11, 12]])"
      ]
     },
     "execution_count": 59,
     "metadata": {},
     "output_type": "execute_result"
    }
   ],
   "source": []
  },
  {
   "cell_type": "code",
   "execution_count": 60,
   "id": "397e7b7e-99ec-4382-82c2-24d7e76ba1ee",
   "metadata": {},
   "outputs": [
    {
     "data": {
      "text/plain": [
       "array([[[ 1,  2],\n",
       "        [ 3,  4]],\n",
       "\n",
       "       [[ 5,  6],\n",
       "        [ 7,  8]],\n",
       "\n",
       "       [[ 9, 10],\n",
       "        [11, 12]]])"
      ]
     },
     "execution_count": 60,
     "metadata": {},
     "output_type": "execute_result"
    }
   ],
   "source": []
  },
  {
   "cell_type": "code",
   "execution_count": 64,
   "id": "504848fd-09a1-4447-848d-60fe9e3bf34e",
   "metadata": {},
   "outputs": [],
   "source": [
    "transpose_example = np.arange(1, 13, 1)\n",
    "transpose_example = transpose_example.reshape([2, 2, 3])"
   ]
  },
  {
   "cell_type": "code",
   "execution_count": 65,
   "id": "7b7a85b1-81fa-4f9b-b338-849bd19ff06e",
   "metadata": {},
   "outputs": [
    {
     "data": {
      "text/plain": [
       "array([[[ 1,  2,  3],\n",
       "        [ 4,  5,  6]],\n",
       "\n",
       "       [[ 7,  8,  9],\n",
       "        [10, 11, 12]]])"
      ]
     },
     "execution_count": 65,
     "metadata": {},
     "output_type": "execute_result"
    }
   ],
   "source": [
    "transpose_example"
   ]
  },
  {
   "cell_type": "code",
   "execution_count": 66,
   "id": "4a88628e-845e-4ecc-bf4f-7d6030d55f8c",
   "metadata": {},
   "outputs": [
    {
     "data": {
      "text/plain": [
       "array([[[ 1,  2,  3],\n",
       "        [ 7,  8,  9]],\n",
       "\n",
       "       [[ 4,  5,  6],\n",
       "        [10, 11, 12]]])"
      ]
     },
     "execution_count": 66,
     "metadata": {},
     "output_type": "execute_result"
    }
   ],
   "source": []
  },
  {
   "cell_type": "code",
   "execution_count": 68,
   "id": "de1f813b-94fd-467b-8c1c-c00b873c7782",
   "metadata": {},
   "outputs": [
    {
     "data": {
      "text/plain": [
       "array([[[ 1,  7],\n",
       "        [ 2,  8],\n",
       "        [ 3,  9]],\n",
       "\n",
       "       [[ 4, 10],\n",
       "        [ 5, 11],\n",
       "        [ 6, 12]]])"
      ]
     },
     "execution_count": 68,
     "metadata": {},
     "output_type": "execute_result"
    }
   ],
   "source": []
  },
  {
   "cell_type": "code",
   "execution_count": 67,
   "id": "5750cbe5-dec2-4e88-92b7-feaca270622f",
   "metadata": {},
   "outputs": [
    {
     "data": {
      "text/plain": [
       "array([[[ 1,  7],\n",
       "        [ 4, 10]],\n",
       "\n",
       "       [[ 2,  8],\n",
       "        [ 5, 11]],\n",
       "\n",
       "       [[ 3,  9],\n",
       "        [ 6, 12]]])"
      ]
     },
     "execution_count": 67,
     "metadata": {},
     "output_type": "execute_result"
    }
   ],
   "source": []
  },
  {
   "cell_type": "code",
   "execution_count": null,
   "id": "7538f166-ecc6-4c5b-a0ca-805118d957d5",
   "metadata": {},
   "outputs": [],
   "source": []
  }
 ],
 "metadata": {
  "kernelspec": {
   "display_name": "Python 3 (ipykernel)",
   "language": "python",
   "name": "python3"
  },
  "language_info": {
   "codemirror_mode": {
    "name": "ipython",
    "version": 3
   },
   "file_extension": ".py",
   "mimetype": "text/x-python",
   "name": "python",
   "nbconvert_exporter": "python",
   "pygments_lexer": "ipython3",
   "version": "3.10.8"
  }
 },
 "nbformat": 4,
 "nbformat_minor": 5
}
