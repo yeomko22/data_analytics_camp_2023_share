{
 "cells": [
  {
   "cell_type": "markdown",
   "id": "f70dd89b-467d-4fa0-96cd-aa3c797d2da5",
   "metadata": {},
   "source": [
    "## ch7_5 numpy 연산\n",
    "numpy ndarray도 더하고 빼기 연산을 할 수 있습니다."
   ]
  },
  {
   "cell_type": "markdown",
   "id": "7f60e03e-4501-41cd-b50d-5ee366affe66",
   "metadata": {},
   "source": [
    "### ndarray와 숫자 (스칼라값) 간의 연산\n",
    "ndarray는 숫자와 더하기, 빼기, 나누기, 곱하기가 가능합니다. 이 때, ndarray의 모든 요소들에 해당 숫자 연산이 적용됩니다."
   ]
  },
  {
   "cell_type": "code",
   "execution_count": 1,
   "id": "912d3f3e-6958-4a3c-8865-6edce0d00c89",
   "metadata": {},
   "outputs": [],
   "source": [
    "import numpy as np"
   ]
  },
  {
   "cell_type": "code",
   "execution_count": 3,
   "id": "7a8aea7a-c5b8-4c82-ab08-99d4a28bb145",
   "metadata": {},
   "outputs": [],
   "source": []
  },
  {
   "cell_type": "markdown",
   "id": "ee3004be-8002-4338-9d7a-df3b9608d437",
   "metadata": {},
   "source": [
    "### ndarray 간 연산\n",
    "차원이 동일한 ndarray 간에는 사칙 연산이 가능합니다. 이 때는 ndarray의 동일한 인덱스끼리 연산을 수행합니다."
   ]
  },
  {
   "cell_type": "code",
   "execution_count": 10,
   "id": "aaa0d999-0094-4886-9753-519b9c124825",
   "metadata": {},
   "outputs": [],
   "source": []
  },
  {
   "cell_type": "markdown",
   "id": "12ab9567-9461-4611-929e-2bd0f5e7c311",
   "metadata": {},
   "source": [
    "### numpy boolean 연산\n",
    "ndarray에 부등식 연산을 수행하면 각 원소에 대해서 부등식을 만족하는지 여부를 boolean 값으로 채워준 ndarray를 리턴합니다."
   ]
  },
  {
   "cell_type": "code",
   "execution_count": 57,
   "id": "b1fcd250-7181-404e-bee4-b83b73089d70",
   "metadata": {},
   "outputs": [],
   "source": []
  },
  {
   "cell_type": "markdown",
   "id": "bd43f42b-1e15-4a47-8426-496fbe40f095",
   "metadata": {},
   "source": [
    "이렇게 구한 boolean 값으로 채워진 ndarray는 인덱스처럼 사용할 수 있습니다."
   ]
  },
  {
   "cell_type": "code",
   "execution_count": null,
   "id": "2f3d23dc-68a8-4d00-b597-fb91b7a86904",
   "metadata": {},
   "outputs": [],
   "source": []
  },
  {
   "cell_type": "markdown",
   "id": "b4d32e89-62a3-4dd1-80ec-de62017dcd5b",
   "metadata": {},
   "source": [
    "혹은 np.where를 사용하면 True인 값의 인덱스를 구할 수 있습니다."
   ]
  },
  {
   "cell_type": "code",
   "execution_count": null,
   "id": "f4123a3f-b1ee-4f5b-8c70-43ffd9d684db",
   "metadata": {},
   "outputs": [],
   "source": []
  },
  {
   "cell_type": "markdown",
   "id": "4def10b8-3f98-4cee-930a-a91871db5688",
   "metadata": {},
   "source": [
    "np.where를 통해 구한 값을 다시 인덱스로 사용할 수도 있다."
   ]
  },
  {
   "cell_type": "code",
   "execution_count": null,
   "id": "583d2172-1e03-4d9f-b86f-dd39871e59e2",
   "metadata": {},
   "outputs": [],
   "source": []
  },
  {
   "cell_type": "markdown",
   "id": "a4ea2cb7-d979-4a56-8a33-464abedb8aa3",
   "metadata": {},
   "source": [
    "### ndarray 간의 행렬연산"
   ]
  },
  {
   "cell_type": "code",
   "execution_count": 26,
   "id": "84d995bd-b0ad-495b-8c6b-c9d922eaac2b",
   "metadata": {},
   "outputs": [],
   "source": []
  },
  {
   "cell_type": "markdown",
   "id": "28cf6878-41f6-4d69-8888-7dafdb6733b4",
   "metadata": {},
   "source": [
    "### ndarray 선형대수 연산\n",
    "- numpy에서 이런 것도 해주는구나 정도로 살펴보고 넘어가면 됩니다."
   ]
  },
  {
   "cell_type": "code",
   "execution_count": 29,
   "id": "858611b1-eb22-4b5d-b6b5-53992a83f596",
   "metadata": {},
   "outputs": [],
   "source": []
  },
  {
   "cell_type": "markdown",
   "id": "99fafdcc-281f-4219-a43c-0f2f126d809e",
   "metadata": {},
   "source": [
    "역행렬  구하기"
   ]
  },
  {
   "cell_type": "code",
   "execution_count": null,
   "id": "40993dab-7c7b-4731-a48d-2c0c0cd7bbdb",
   "metadata": {},
   "outputs": [],
   "source": []
  },
  {
   "cell_type": "markdown",
   "id": "4fee03f8-b19e-4b9a-96c4-2bad5dbbb9d2",
   "metadata": {},
   "source": [
    "고유값, 고유벡터 구하기"
   ]
  },
  {
   "cell_type": "code",
   "execution_count": null,
   "id": "33957c63-f419-4b03-a9a8-d13514185172",
   "metadata": {},
   "outputs": [],
   "source": []
  },
  {
   "cell_type": "markdown",
   "id": "7a354827-d5b6-4b26-a17f-da82fd049a83",
   "metadata": {},
   "source": [
    "특이값 분해"
   ]
  },
  {
   "cell_type": "code",
   "execution_count": null,
   "id": "9ff7c398-a063-4b10-889b-0f636cb9753a",
   "metadata": {},
   "outputs": [],
   "source": []
  },
  {
   "cell_type": "markdown",
   "id": "802f3421-4c07-4598-89c3-b21f8043a56d",
   "metadata": {},
   "source": [
    "## 통계학 기본 개념"
   ]
  },
  {
   "cell_type": "markdown",
   "id": "06de9ea9-766c-413a-8439-cb6a624c9789",
   "metadata": {},
   "source": [
    "### 통계학 용어 정리 \n",
    "모집단(population): 관심의 대상이 되는 전체\n",
    "\n",
    "표본(sample): 모집단의 특성을 알기 위해 추출한 일부\n",
    "\n",
    "통계적 추론(inference): 표본의 특징을 통해 전체 에 대한 추론을 하는 것\n",
    "\n",
    "오차(error): 표본을 통해 얻은 정보로 모집단의 특성을 예측한 결과과 실제 모집단의 특성과 차이 나는 정도\n",
    "\n",
    "통계학: 오차에 대한 학문, 표본에서 얻은 정보를 모집단에서의 정보로 바꾸는 과정에서 오차를 줄이는 방법을 연구. 필연적으로 수반되는 오차의 크기를 계산하여 정보 이용자나 의사 결정자에게 제공\n",
    "\n",
    "수치 기술 통계: 숫자를 이용하여 자료의 정보를 요약하여 기술하는 것. 자료의 평균이나 표준 편차, 공분산이나 상관계수 등의 계산값을 기술 통계량이라고 한다."
   ]
  },
  {
   "cell_type": "markdown",
   "id": "09c4dae7-1c4d-4892-9c3a-d4e0c3278df8",
   "metadata": {},
   "source": [
    "### 평균\n",
    "자료의 합을 자료의 개수로 나눠준 값. 모집단의 평균인지, 표본 집단의 평균인지에 따라서 표기 방법만 살짝 다르다. 헷갈린다면 표본 평균, 표본 분산 정도만 이해하고 넘어가도 무방하다.\n",
    "\n",
    "모평균: 그리스어로 M을 나타내는 μ(뮤) 문자를 사용. N은 모집단의 수  \n",
    "\n",
    "$$\\mu=\\frac{\\sum_{i=1}^{n}{x_{i}}}{N}$$\n",
    "\n",
    "표본 평균: X위에 바를 그린 기호로 표현. n은 표본의 크기\n",
    "\n",
    "$$\\bar{X}=\\frac{\\sum_{i=1}^{n}{x_{i}}}{n}$$"
   ]
  },
  {
   "cell_type": "code",
   "execution_count": null,
   "id": "0f781553-c142-4786-94aa-4a1851ede6be",
   "metadata": {},
   "outputs": [],
   "source": []
  },
  {
   "cell_type": "markdown",
   "id": "a4957e18-1be0-4609-be7b-2844decd522c",
   "metadata": {},
   "source": [
    "### 분산, 표준편차\n",
    "자료가 평균을 기준으로 얼만큼 퍼져있는지를 측정한 값. 모든 자료들이 평균으로부터 얼만큼 떨어졌는지 거리를 제곱한 것을 평균낸 것이 분산. 분산을 제곱근 한 것이 표준 편차. 통계학은 분산의 마법이라고 불릴만큼 분산은 통계학에서 중요한 개념\n",
    "\n",
    "모분산: 모표준편차의 제곱으로 표현됨. 각 자료 값들에서 모평균을 빼준 값의 제곱합을 다시 평균낸 값.\n",
    "\n",
    "$$\\sigma^2=\\frac{\\sum_{i=1}^{N}({x_{i}-\\mu)^2}}{N}$$\n",
    "\n",
    "모표준편차: 그리스어 문자료 s를 나타내는 σ를 기호로 사용. 모분산의 제곱근\n",
    "\n",
    "$$\\sigma=\\sqrt{\\sigma^2}$$\n",
    "\n",
    "모집단 {1, 2, 3, 4, 5}의 표본 분산 예시)\n",
    "$$\\frac{(1-3)^2+(2-3)^2+(3-3)^2+(4-3)^2+(5-3)^2}{5}=2.0$$"
   ]
  },
  {
   "cell_type": "code",
   "execution_count": null,
   "id": "b95d5350-d7aa-4b86-aea0-ad6d93a1aca0",
   "metadata": {},
   "outputs": [],
   "source": []
  },
  {
   "cell_type": "markdown",
   "id": "85bd984b-0c46-4d80-9cd2-b3207fbae95d",
   "metadata": {},
   "source": [
    "표본 분산: 표본 표준편차의 제곱으로 표현. 표본의 수 n이 아닌, n-1로 나눠주는데 이는 통계학에서 부르는 자유도(degree of freedom)이라는 개념이다. 완벽히 이해하려면 매우 복잡한 개념으로 일단은 암기하고, 직관적으로는 각 표본들에서 표본 평균을 한번씩 빼준걸 개수에 반영시켜 준다는 의미로 받아들이면 된다.\n",
    "\n",
    "$$s^2=\\frac{\\sum_{i=1}^{n}({x_{i}-\\bar{x})^2}}{n-1}$$\n",
    "\n",
    "표본 표준 편차: s로 표현\n",
    "$$s=\\sqrt{s^2}$$\n",
    "\n",
    "표본 집단 {1, 2, 3, 4, 5}의 표본 분산 예시)\n",
    "$$\\frac{(1-3)^2+(2-3)^2+(3-3)^2+(4-3)^2+(5-3)^2}{5-1}=2.5$$"
   ]
  },
  {
   "cell_type": "code",
   "execution_count": null,
   "id": "9f9f0b34-749b-4806-b664-cd21476f0423",
   "metadata": {},
   "outputs": [],
   "source": []
  },
  {
   "cell_type": "markdown",
   "id": "e4880001-dd6a-415a-a87c-10d25312239c",
   "metadata": {},
   "source": [
    "## 연습문제\n",
    "다양한 numpy 연산을 이용해서 아래 결과를 출력해보세요"
   ]
  },
  {
   "cell_type": "code",
   "execution_count": 47,
   "id": "327e4cd8-1a07-479e-b051-b6f12dd5c58b",
   "metadata": {},
   "outputs": [],
   "source": [
    "a = np.arange(1, 19, 2).reshape([3, 3])\n",
    "b = np.arange(1, 28, 3).reshape([3, 3])"
   ]
  },
  {
   "cell_type": "code",
   "execution_count": 48,
   "id": "eb4effe2-709b-4b51-8ef1-9c5fec24fa6c",
   "metadata": {},
   "outputs": [
    {
     "data": {
      "text/plain": [
       "array([[ 1,  3,  5],\n",
       "       [ 7,  9, 11],\n",
       "       [13, 15, 17]])"
      ]
     },
     "execution_count": 48,
     "metadata": {},
     "output_type": "execute_result"
    }
   ],
   "source": [
    "a"
   ]
  },
  {
   "cell_type": "code",
   "execution_count": 49,
   "id": "5b47c8c1-9888-41f4-a997-02480ba6a139",
   "metadata": {},
   "outputs": [
    {
     "data": {
      "text/plain": [
       "array([[ 1,  4,  7],\n",
       "       [10, 13, 16],\n",
       "       [19, 22, 25]])"
      ]
     },
     "execution_count": 49,
     "metadata": {},
     "output_type": "execute_result"
    }
   ],
   "source": [
    "b"
   ]
  },
  {
   "cell_type": "code",
   "execution_count": null,
   "id": "a1d7fa8c-05bf-43a6-bdb1-3aa63e3dba8e",
   "metadata": {},
   "outputs": [
    {
     "data": {
      "text/plain": [
       "array([[ 2,  4,  6],\n",
       "       [ 8, 10, 12],\n",
       "       [14, 16, 18]])"
      ]
     },
     "execution_count": 52,
     "metadata": {},
     "output_type": "execute_result"
    }
   ],
   "source": []
  },
  {
   "cell_type": "code",
   "execution_count": 54,
   "id": "1bb79d83-1816-482c-8bd0-43fc372b07d9",
   "metadata": {},
   "outputs": [
    {
     "data": {
      "text/plain": [
       "array([[ 2,  7, 12],\n",
       "       [17, 22, 27],\n",
       "       [32, 37, 42]])"
      ]
     },
     "execution_count": 54,
     "metadata": {},
     "output_type": "execute_result"
    }
   ],
   "source": []
  },
  {
   "cell_type": "code",
   "execution_count": 53,
   "id": "232c1f14-5d9f-4796-85b9-67eb46ef34e4",
   "metadata": {},
   "outputs": [
    {
     "data": {
      "text/plain": [
       "array([[ 1,  5,  9],\n",
       "       [13, 17, 21],\n",
       "       [25, 29, 33]])"
      ]
     },
     "execution_count": 53,
     "metadata": {},
     "output_type": "execute_result"
    }
   ],
   "source": []
  },
  {
   "cell_type": "code",
   "execution_count": 55,
   "id": "bc3e8be2-8fe2-4f71-8268-3689d3a2e68f",
   "metadata": {},
   "outputs": [
    {
     "data": {
      "text/plain": [
       "array([[126, 153, 180],\n",
       "       [306, 387, 468],\n",
       "       [486, 621, 756]])"
      ]
     },
     "execution_count": 55,
     "metadata": {},
     "output_type": "execute_result"
    }
   ],
   "source": []
  },
  {
   "cell_type": "code",
   "execution_count": null,
   "id": "3093cf29-faad-418c-b27e-b5238632a3e3",
   "metadata": {},
   "outputs": [],
   "source": []
  }
 ],
 "metadata": {
  "kernelspec": {
   "display_name": "Python 3 (ipykernel)",
   "language": "python",
   "name": "python3"
  },
  "language_info": {
   "codemirror_mode": {
    "name": "ipython",
    "version": 3
   },
   "file_extension": ".py",
   "mimetype": "text/x-python",
   "name": "python",
   "nbconvert_exporter": "python",
   "pygments_lexer": "ipython3",
   "version": "3.10.8"
  }
 },
 "nbformat": 4,
 "nbformat_minor": 5
}
