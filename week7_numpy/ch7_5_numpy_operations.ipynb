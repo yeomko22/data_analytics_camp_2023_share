{
 "cells": [
  {
   "cell_type": "markdown",
   "id": "f70dd89b-467d-4fa0-96cd-aa3c797d2da5",
   "metadata": {},
   "source": [
    "## ch7_5 numpy 연산\n",
    "numpy ndarray도 더하고 빼기 연산을 할 수 있습니다."
   ]
  },
  {
   "cell_type": "markdown",
   "id": "7f60e03e-4501-41cd-b50d-5ee366affe66",
   "metadata": {},
   "source": [
    "### ndarray와 숫자 (스칼라값) 간의 연산\n",
    "ndarray는 숫자와 더하기, 빼기, 나누기, 곱하기가 가능합니다. 이 때, ndarray의 모든 요소들에 해당 숫자 연산이 적용됩니다."
   ]
  },
  {
   "cell_type": "code",
   "execution_count": 1,
   "id": "912d3f3e-6958-4a3c-8865-6edce0d00c89",
   "metadata": {},
   "outputs": [],
   "source": [
    "import numpy as np"
   ]
  },
  {
   "cell_type": "code",
   "execution_count": 3,
   "id": "7a8aea7a-c5b8-4c82-ab08-99d4a28bb145",
   "metadata": {},
   "outputs": [],
   "source": [
    "a = np.arange(1, 13, 1).reshape([2, 2, 3])"
   ]
  },
  {
   "cell_type": "code",
   "execution_count": 4,
   "id": "b00224cf-3140-4ff0-a92a-34a3bc1c1b56",
   "metadata": {},
   "outputs": [
    {
     "data": {
      "text/plain": [
       "array([[[ 1,  2,  3],\n",
       "        [ 4,  5,  6]],\n",
       "\n",
       "       [[ 7,  8,  9],\n",
       "        [10, 11, 12]]])"
      ]
     },
     "execution_count": 4,
     "metadata": {},
     "output_type": "execute_result"
    }
   ],
   "source": [
    "a"
   ]
  },
  {
   "cell_type": "code",
   "execution_count": 5,
   "id": "eab64904-5acc-477c-b067-ec7435f35da5",
   "metadata": {},
   "outputs": [
    {
     "data": {
      "text/plain": [
       "array([[[ 3,  4,  5],\n",
       "        [ 6,  7,  8]],\n",
       "\n",
       "       [[ 9, 10, 11],\n",
       "        [12, 13, 14]]])"
      ]
     },
     "execution_count": 5,
     "metadata": {},
     "output_type": "execute_result"
    }
   ],
   "source": [
    "a + 2"
   ]
  },
  {
   "cell_type": "code",
   "execution_count": 6,
   "id": "de430b38-388b-40fd-8aeb-6061cd91fc51",
   "metadata": {},
   "outputs": [
    {
     "data": {
      "text/plain": [
       "array([[[-1,  0,  1],\n",
       "        [ 2,  3,  4]],\n",
       "\n",
       "       [[ 5,  6,  7],\n",
       "        [ 8,  9, 10]]])"
      ]
     },
     "execution_count": 6,
     "metadata": {},
     "output_type": "execute_result"
    }
   ],
   "source": [
    "a - 2"
   ]
  },
  {
   "cell_type": "code",
   "execution_count": 7,
   "id": "5bd0d21b-bee1-4512-ad8f-6e0baebde915",
   "metadata": {},
   "outputs": [
    {
     "data": {
      "text/plain": [
       "array([[[ 2,  4,  6],\n",
       "        [ 8, 10, 12]],\n",
       "\n",
       "       [[14, 16, 18],\n",
       "        [20, 22, 24]]])"
      ]
     },
     "execution_count": 7,
     "metadata": {},
     "output_type": "execute_result"
    }
   ],
   "source": [
    "a * 2"
   ]
  },
  {
   "cell_type": "code",
   "execution_count": 8,
   "id": "dd8f9c5e-9e78-4d95-986f-5018a7579bf4",
   "metadata": {},
   "outputs": [
    {
     "data": {
      "text/plain": [
       "array([[[0.5, 1. , 1.5],\n",
       "        [2. , 2.5, 3. ]],\n",
       "\n",
       "       [[3.5, 4. , 4.5],\n",
       "        [5. , 5.5, 6. ]]])"
      ]
     },
     "execution_count": 8,
     "metadata": {},
     "output_type": "execute_result"
    }
   ],
   "source": [
    "a / 2"
   ]
  },
  {
   "cell_type": "markdown",
   "id": "ee3004be-8002-4338-9d7a-df3b9608d437",
   "metadata": {},
   "source": [
    "### ndarray 간 연산\n",
    "차원이 동일한 ndarray 간에는 사칙 연산이 가능합니다. 이 때는 ndarray의 동일한 인덱스끼리 연산을 수행합니다."
   ]
  },
  {
   "cell_type": "code",
   "execution_count": 10,
   "id": "aaa0d999-0094-4886-9753-519b9c124825",
   "metadata": {},
   "outputs": [],
   "source": [
    "a = np.array([[1, 2], [3, 4]])\n",
    "b = np.array([[5, 6], [7, 8]])\n",
    "c = np.array([9, 10, 11])"
   ]
  },
  {
   "cell_type": "code",
   "execution_count": 14,
   "id": "109f8520-9bac-4297-863a-20dd2cf21305",
   "metadata": {},
   "outputs": [
    {
     "data": {
      "text/plain": [
       "array([[1, 2],\n",
       "       [3, 4]])"
      ]
     },
     "execution_count": 14,
     "metadata": {},
     "output_type": "execute_result"
    }
   ],
   "source": [
    "a"
   ]
  },
  {
   "cell_type": "code",
   "execution_count": 15,
   "id": "100677de-c846-488c-a02c-d6d15faa1a74",
   "metadata": {},
   "outputs": [
    {
     "data": {
      "text/plain": [
       "array([[5, 6],\n",
       "       [7, 8]])"
      ]
     },
     "execution_count": 15,
     "metadata": {},
     "output_type": "execute_result"
    }
   ],
   "source": [
    "b"
   ]
  },
  {
   "cell_type": "code",
   "execution_count": 16,
   "id": "b481b709-6e55-4195-b24e-c1a885398c4a",
   "metadata": {},
   "outputs": [
    {
     "data": {
      "text/plain": [
       "array([ 9, 10, 11])"
      ]
     },
     "execution_count": 16,
     "metadata": {},
     "output_type": "execute_result"
    }
   ],
   "source": [
    "c"
   ]
  },
  {
   "cell_type": "code",
   "execution_count": 11,
   "id": "9514af4f-3f17-4be5-9f3c-2fe46473e787",
   "metadata": {},
   "outputs": [
    {
     "data": {
      "text/plain": [
       "array([[ 6,  8],\n",
       "       [10, 12]])"
      ]
     },
     "execution_count": 11,
     "metadata": {},
     "output_type": "execute_result"
    }
   ],
   "source": [
    "a + b"
   ]
  },
  {
   "cell_type": "code",
   "execution_count": 12,
   "id": "e24312dc-2730-4da1-908a-94b8c4bf6e1c",
   "metadata": {},
   "outputs": [
    {
     "data": {
      "text/plain": [
       "array([[-4, -4],\n",
       "       [-4, -4]])"
      ]
     },
     "execution_count": 12,
     "metadata": {},
     "output_type": "execute_result"
    }
   ],
   "source": [
    "a - b"
   ]
  },
  {
   "cell_type": "code",
   "execution_count": 13,
   "id": "3d43e596-0088-4c68-8b15-771051380004",
   "metadata": {},
   "outputs": [
    {
     "data": {
      "text/plain": [
       "array([[ 5, 12],\n",
       "       [21, 32]])"
      ]
     },
     "execution_count": 13,
     "metadata": {},
     "output_type": "execute_result"
    }
   ],
   "source": [
    "a * b"
   ]
  },
  {
   "cell_type": "code",
   "execution_count": 17,
   "id": "fd95f62c-f9de-4d4e-8ac2-4507641b4e65",
   "metadata": {},
   "outputs": [
    {
     "data": {
      "text/plain": [
       "array([[0.2       , 0.33333333],\n",
       "       [0.42857143, 0.5       ]])"
      ]
     },
     "execution_count": 17,
     "metadata": {},
     "output_type": "execute_result"
    }
   ],
   "source": [
    "a / b"
   ]
  },
  {
   "cell_type": "code",
   "execution_count": 18,
   "id": "74fa074e-1521-4e47-990e-465711011f88",
   "metadata": {},
   "outputs": [
    {
     "ename": "ValueError",
     "evalue": "operands could not be broadcast together with shapes (2,2) (3,) ",
     "output_type": "error",
     "traceback": [
      "\u001b[0;31m---------------------------------------------------------------------------\u001b[0m",
      "\u001b[0;31mValueError\u001b[0m                                Traceback (most recent call last)",
      "Cell \u001b[0;32mIn[18], line 1\u001b[0m\n\u001b[0;32m----> 1\u001b[0m \u001b[43ma\u001b[49m\u001b[43m \u001b[49m\u001b[38;5;241;43m+\u001b[39;49m\u001b[43m \u001b[49m\u001b[43mc\u001b[49m\n",
      "\u001b[0;31mValueError\u001b[0m: operands could not be broadcast together with shapes (2,2) (3,) "
     ]
    }
   ],
   "source": [
    "a + c"
   ]
  },
  {
   "cell_type": "code",
   "execution_count": 19,
   "id": "e66879ff-4006-4dfe-b620-37f60b12f5d1",
   "metadata": {},
   "outputs": [
    {
     "ename": "ValueError",
     "evalue": "operands could not be broadcast together with shapes (2,2) (3,) ",
     "output_type": "error",
     "traceback": [
      "\u001b[0;31m---------------------------------------------------------------------------\u001b[0m",
      "\u001b[0;31mValueError\u001b[0m                                Traceback (most recent call last)",
      "Cell \u001b[0;32mIn[19], line 1\u001b[0m\n\u001b[0;32m----> 1\u001b[0m \u001b[43mb\u001b[49m\u001b[43m \u001b[49m\u001b[38;5;241;43m+\u001b[39;49m\u001b[43m \u001b[49m\u001b[43mc\u001b[49m\n",
      "\u001b[0;31mValueError\u001b[0m: operands could not be broadcast together with shapes (2,2) (3,) "
     ]
    }
   ],
   "source": [
    "b + c"
   ]
  },
  {
   "cell_type": "markdown",
   "id": "12ab9567-9461-4611-929e-2bd0f5e7c311",
   "metadata": {},
   "source": [
    "### numpy boolean 연산\n",
    "ndarray에 부등식 연산을 수행하면 각 원소에 대해서 부등식을 만족하는지 여부를 boolean 값으로 채워준 ndarray를 리턴합니다."
   ]
  },
  {
   "cell_type": "code",
   "execution_count": 57,
   "id": "b1fcd250-7181-404e-bee4-b83b73089d70",
   "metadata": {},
   "outputs": [],
   "source": [
    "a = np.arange(1, 13, 1).reshape([2, 2, 3])"
   ]
  },
  {
   "cell_type": "code",
   "execution_count": 58,
   "id": "f1290627-1052-4be6-9c34-385381640986",
   "metadata": {},
   "outputs": [
    {
     "data": {
      "text/plain": [
       "array([[[ 1,  2,  3],\n",
       "        [ 4,  5,  6]],\n",
       "\n",
       "       [[ 7,  8,  9],\n",
       "        [10, 11, 12]]])"
      ]
     },
     "execution_count": 58,
     "metadata": {},
     "output_type": "execute_result"
    }
   ],
   "source": [
    "a"
   ]
  },
  {
   "cell_type": "code",
   "execution_count": 59,
   "id": "eb7bd4d4-1439-4653-9b8e-ce264e12f2fb",
   "metadata": {},
   "outputs": [
    {
     "data": {
      "text/plain": [
       "array([[[False, False, False],\n",
       "        [False, False,  True]],\n",
       "\n",
       "       [[ True,  True,  True],\n",
       "        [ True,  True,  True]]])"
      ]
     },
     "execution_count": 59,
     "metadata": {},
     "output_type": "execute_result"
    }
   ],
   "source": [
    "a > 5"
   ]
  },
  {
   "cell_type": "code",
   "execution_count": 60,
   "id": "ab72d0aa-017e-4275-b7f0-e32325e58535",
   "metadata": {},
   "outputs": [
    {
     "data": {
      "text/plain": [
       "array([[[False, False, False],\n",
       "        [False, False, False]],\n",
       "\n",
       "       [[False, False, False],\n",
       "        [ True, False, False]]])"
      ]
     },
     "execution_count": 60,
     "metadata": {},
     "output_type": "execute_result"
    }
   ],
   "source": [
    "a == 10"
   ]
  },
  {
   "cell_type": "markdown",
   "id": "bd43f42b-1e15-4a47-8426-496fbe40f095",
   "metadata": {},
   "source": [
    "이렇게 구한 boolean 값으로 채워진 ndarray는 인덱스처럼 사용할 수 있습니다."
   ]
  },
  {
   "cell_type": "code",
   "execution_count": 65,
   "id": "df1a5465-60f6-422d-ad56-fb893cf50f7f",
   "metadata": {},
   "outputs": [
    {
     "data": {
      "text/plain": [
       "array([ 6,  7,  8,  9, 10, 11, 12])"
      ]
     },
     "execution_count": 65,
     "metadata": {},
     "output_type": "execute_result"
    }
   ],
   "source": [
    "a[a>5]"
   ]
  },
  {
   "cell_type": "markdown",
   "id": "b4d32e89-62a3-4dd1-80ec-de62017dcd5b",
   "metadata": {},
   "source": [
    "혹은 np.where를 사용하면 True인 값의 인덱스를 구할 수 있습니다."
   ]
  },
  {
   "cell_type": "code",
   "execution_count": 67,
   "id": "d707d244-5a36-4c84-a9be-882023eedab2",
   "metadata": {},
   "outputs": [
    {
     "data": {
      "text/plain": [
       "(array([0, 1, 1, 1, 1, 1, 1]),\n",
       " array([1, 0, 0, 0, 1, 1, 1]),\n",
       " array([2, 0, 1, 2, 0, 1, 2]))"
      ]
     },
     "execution_count": 67,
     "metadata": {},
     "output_type": "execute_result"
    }
   ],
   "source": [
    "np.where(a>5)"
   ]
  },
  {
   "cell_type": "code",
   "execution_count": 68,
   "id": "b25d822b-fe44-44cc-a921-49fc27abbb2c",
   "metadata": {},
   "outputs": [
    {
     "data": {
      "text/plain": [
       "(array([0, 0, 0, 1, 1, 1]),\n",
       " array([0, 1, 1, 0, 1, 1]),\n",
       " array([1, 0, 2, 1, 0, 2]))"
      ]
     },
     "execution_count": 68,
     "metadata": {},
     "output_type": "execute_result"
    }
   ],
   "source": [
    "np.where(a%2==0)"
   ]
  },
  {
   "cell_type": "markdown",
   "id": "4def10b8-3f98-4cee-930a-a91871db5688",
   "metadata": {},
   "source": [
    "np.where를 통해 구한 값을 다시 인덱스로 사용할 수도 있다."
   ]
  },
  {
   "cell_type": "code",
   "execution_count": 70,
   "id": "85ef3b82-9a54-4f78-99d8-f7a2a4552047",
   "metadata": {},
   "outputs": [
    {
     "data": {
      "text/plain": [
       "array([ 2,  4,  6,  8, 10, 12])"
      ]
     },
     "execution_count": 70,
     "metadata": {},
     "output_type": "execute_result"
    }
   ],
   "source": [
    "a[np.where(a%2==0)]"
   ]
  },
  {
   "cell_type": "markdown",
   "id": "a4ea2cb7-d979-4a56-8a33-464abedb8aa3",
   "metadata": {},
   "source": [
    "### ndarray 간의 행렬연산"
   ]
  },
  {
   "cell_type": "code",
   "execution_count": 26,
   "id": "84d995bd-b0ad-495b-8c6b-c9d922eaac2b",
   "metadata": {},
   "outputs": [],
   "source": [
    "a = np.arange(1, 9, 1).reshape([2, 4])\n",
    "b = np.arange(10, 18, 1).reshape([4, 2])"
   ]
  },
  {
   "cell_type": "code",
   "execution_count": 21,
   "id": "c8de328e-fa6f-4a4d-8787-f58fbad71322",
   "metadata": {},
   "outputs": [
    {
     "data": {
      "text/plain": [
       "array([[1, 2, 3, 4],\n",
       "       [5, 6, 7, 8]])"
      ]
     },
     "execution_count": 21,
     "metadata": {},
     "output_type": "execute_result"
    }
   ],
   "source": [
    "a"
   ]
  },
  {
   "cell_type": "code",
   "execution_count": 27,
   "id": "0796b49b-97d5-4efd-97aa-1a0ebc9fb4a2",
   "metadata": {},
   "outputs": [
    {
     "data": {
      "text/plain": [
       "array([[10, 11],\n",
       "       [12, 13],\n",
       "       [14, 15],\n",
       "       [16, 17]])"
      ]
     },
     "execution_count": 27,
     "metadata": {},
     "output_type": "execute_result"
    }
   ],
   "source": [
    "b"
   ]
  },
  {
   "cell_type": "code",
   "execution_count": 28,
   "id": "c98d5a81-9bd4-4206-ac00-59ed60b229ea",
   "metadata": {},
   "outputs": [
    {
     "data": {
      "text/plain": [
       "array([[140, 150],\n",
       "       [348, 374]])"
      ]
     },
     "execution_count": 28,
     "metadata": {},
     "output_type": "execute_result"
    }
   ],
   "source": [
    "np.matmul(a, b)"
   ]
  },
  {
   "cell_type": "markdown",
   "id": "28cf6878-41f6-4d69-8888-7dafdb6733b4",
   "metadata": {},
   "source": [
    "### ndarray 선형대수 연산\n",
    "- numpy에서 이런 것도 해주는구나 정도로 살펴보고 넘어가면 됩니다."
   ]
  },
  {
   "cell_type": "code",
   "execution_count": 29,
   "id": "858611b1-eb22-4b5d-b6b5-53992a83f596",
   "metadata": {},
   "outputs": [],
   "source": [
    "a = np.array([[1, 2], [3, 4]])"
   ]
  },
  {
   "cell_type": "code",
   "execution_count": 30,
   "id": "5a45424d-f195-428f-bb7c-54e03344bda0",
   "metadata": {},
   "outputs": [
    {
     "data": {
      "text/plain": [
       "array([[1, 2],\n",
       "       [3, 4]])"
      ]
     },
     "execution_count": 30,
     "metadata": {},
     "output_type": "execute_result"
    }
   ],
   "source": [
    "a"
   ]
  },
  {
   "cell_type": "markdown",
   "id": "99fafdcc-281f-4219-a43c-0f2f126d809e",
   "metadata": {},
   "source": [
    "역행렬  구하기"
   ]
  },
  {
   "cell_type": "code",
   "execution_count": 31,
   "id": "ccc6a672-07ce-415b-994d-2c1cab53dccd",
   "metadata": {},
   "outputs": [
    {
     "data": {
      "text/plain": [
       "array([[-2. ,  1. ],\n",
       "       [ 1.5, -0.5]])"
      ]
     },
     "execution_count": 31,
     "metadata": {},
     "output_type": "execute_result"
    }
   ],
   "source": [
    "np.linalg.inv(a)"
   ]
  },
  {
   "cell_type": "markdown",
   "id": "4fee03f8-b19e-4b9a-96c4-2bad5dbbb9d2",
   "metadata": {},
   "source": [
    "고유값, 고유벡터 구하기"
   ]
  },
  {
   "cell_type": "code",
   "execution_count": 32,
   "id": "84003749-b06e-4ae9-8619-bf032d770b31",
   "metadata": {},
   "outputs": [
    {
     "data": {
      "text/plain": [
       "(array([-0.37228132,  5.37228132]),\n",
       " array([[-0.82456484, -0.41597356],\n",
       "        [ 0.56576746, -0.90937671]]))"
      ]
     },
     "execution_count": 32,
     "metadata": {},
     "output_type": "execute_result"
    }
   ],
   "source": [
    "np.linalg.eig(a)"
   ]
  },
  {
   "cell_type": "markdown",
   "id": "7a354827-d5b6-4b26-a17f-da82fd049a83",
   "metadata": {},
   "source": [
    "특이값 분해"
   ]
  },
  {
   "cell_type": "code",
   "execution_count": 36,
   "id": "f21fe44e-6aa6-4c96-b5e8-1fdd89a8fddb",
   "metadata": {},
   "outputs": [
    {
     "data": {
      "text/plain": [
       "(array([[-0.40455358, -0.9145143 ],\n",
       "        [-0.9145143 ,  0.40455358]]),\n",
       " array([5.4649857 , 0.36596619]),\n",
       " array([[-0.57604844, -0.81741556],\n",
       "        [ 0.81741556, -0.57604844]]))"
      ]
     },
     "execution_count": 36,
     "metadata": {},
     "output_type": "execute_result"
    }
   ],
   "source": [
    "np.linalg.svd(a)"
   ]
  },
  {
   "cell_type": "markdown",
   "id": "f8363baf-d840-4184-b4dd-0bd3907e0f1f",
   "metadata": {},
   "source": [
    "### numpy를 이용한 기초 통계량 계산\n",
    "ndarray를 이용해서 평균, 중간값, 분산, 표준 편차 등 기초 통계량들을 구할 수 있습니다."
   ]
  },
  {
   "cell_type": "code",
   "execution_count": 38,
   "id": "c25f4463-b0b0-4855-bbaf-650bf2cbb5f7",
   "metadata": {},
   "outputs": [],
   "source": [
    "a = np.array([0.5, 2, -7, 15, 3])"
   ]
  },
  {
   "cell_type": "code",
   "execution_count": 39,
   "id": "a3d7f96a-74c1-4144-bdf1-142cf6a1a98c",
   "metadata": {},
   "outputs": [
    {
     "data": {
      "text/plain": [
       "array([ 0.5,  2. , -7. , 15. ,  3. ])"
      ]
     },
     "execution_count": 39,
     "metadata": {},
     "output_type": "execute_result"
    }
   ],
   "source": [
    "a"
   ]
  },
  {
   "cell_type": "code",
   "execution_count": 40,
   "id": "ac318571-c1cf-4fc5-934c-612074e0ccc2",
   "metadata": {},
   "outputs": [
    {
     "data": {
      "text/plain": [
       "-7.0"
      ]
     },
     "execution_count": 40,
     "metadata": {},
     "output_type": "execute_result"
    }
   ],
   "source": [
    "np.min(a)"
   ]
  },
  {
   "cell_type": "code",
   "execution_count": 41,
   "id": "5b83f008-00e4-4076-af39-3a0ae7ddc107",
   "metadata": {},
   "outputs": [
    {
     "data": {
      "text/plain": [
       "15.0"
      ]
     },
     "execution_count": 41,
     "metadata": {},
     "output_type": "execute_result"
    }
   ],
   "source": [
    "np.max(a)"
   ]
  },
  {
   "cell_type": "code",
   "execution_count": 42,
   "id": "43a8307c-03a0-41b0-8319-cc8fab23e3c1",
   "metadata": {},
   "outputs": [
    {
     "data": {
      "text/plain": [
       "2.7"
      ]
     },
     "execution_count": 42,
     "metadata": {},
     "output_type": "execute_result"
    }
   ],
   "source": [
    "np.mean(a)"
   ]
  },
  {
   "cell_type": "code",
   "execution_count": 43,
   "id": "02b3435c-99e7-4c99-a339-5e915da352c8",
   "metadata": {},
   "outputs": [
    {
     "data": {
      "text/plain": [
       "2.0"
      ]
     },
     "execution_count": 43,
     "metadata": {},
     "output_type": "execute_result"
    }
   ],
   "source": [
    "np.median(a)"
   ]
  },
  {
   "cell_type": "code",
   "execution_count": 44,
   "id": "e3714e72-9381-4b3d-becb-62db7b31f9a1",
   "metadata": {},
   "outputs": [
    {
     "data": {
      "text/plain": [
       "50.160000000000004"
      ]
     },
     "execution_count": 44,
     "metadata": {},
     "output_type": "execute_result"
    }
   ],
   "source": [
    "np.var(a)"
   ]
  },
  {
   "cell_type": "code",
   "execution_count": 45,
   "id": "9b556d25-adb5-4a3b-b505-e1f381593553",
   "metadata": {},
   "outputs": [
    {
     "data": {
      "text/plain": [
       "7.0823724838503095"
      ]
     },
     "execution_count": 45,
     "metadata": {},
     "output_type": "execute_result"
    }
   ],
   "source": [
    "np.std(a)"
   ]
  },
  {
   "cell_type": "markdown",
   "id": "e4880001-dd6a-415a-a87c-10d25312239c",
   "metadata": {},
   "source": [
    "## 연습문제\n",
    "다양한 numpy 연산을 이용해서 아래 결과를 출력해보세요"
   ]
  },
  {
   "cell_type": "code",
   "execution_count": 47,
   "id": "327e4cd8-1a07-479e-b051-b6f12dd5c58b",
   "metadata": {},
   "outputs": [],
   "source": [
    "a = np.arange(1, 19, 2).reshape([3, 3])\n",
    "b = np.arange(1, 28, 3).reshape([3, 3])"
   ]
  },
  {
   "cell_type": "code",
   "execution_count": 48,
   "id": "eb4effe2-709b-4b51-8ef1-9c5fec24fa6c",
   "metadata": {},
   "outputs": [
    {
     "data": {
      "text/plain": [
       "array([[ 1,  3,  5],\n",
       "       [ 7,  9, 11],\n",
       "       [13, 15, 17]])"
      ]
     },
     "execution_count": 48,
     "metadata": {},
     "output_type": "execute_result"
    }
   ],
   "source": [
    "a"
   ]
  },
  {
   "cell_type": "code",
   "execution_count": 49,
   "id": "5b47c8c1-9888-41f4-a997-02480ba6a139",
   "metadata": {},
   "outputs": [
    {
     "data": {
      "text/plain": [
       "array([[ 1,  4,  7],\n",
       "       [10, 13, 16],\n",
       "       [19, 22, 25]])"
      ]
     },
     "execution_count": 49,
     "metadata": {},
     "output_type": "execute_result"
    }
   ],
   "source": [
    "b"
   ]
  },
  {
   "cell_type": "code",
   "execution_count": 52,
   "id": "a1d7fa8c-05bf-43a6-bdb1-3aa63e3dba8e",
   "metadata": {},
   "outputs": [
    {
     "data": {
      "text/plain": [
       "array([[ 2,  4,  6],\n",
       "       [ 8, 10, 12],\n",
       "       [14, 16, 18]])"
      ]
     },
     "execution_count": 52,
     "metadata": {},
     "output_type": "execute_result"
    }
   ],
   "source": [
    "(a+1)"
   ]
  },
  {
   "cell_type": "code",
   "execution_count": 54,
   "id": "1bb79d83-1816-482c-8bd0-43fc372b07d9",
   "metadata": {},
   "outputs": [
    {
     "data": {
      "text/plain": [
       "array([[ 2,  7, 12],\n",
       "       [17, 22, 27],\n",
       "       [32, 37, 42]])"
      ]
     },
     "execution_count": 54,
     "metadata": {},
     "output_type": "execute_result"
    }
   ],
   "source": [
    "a + b"
   ]
  },
  {
   "cell_type": "code",
   "execution_count": 53,
   "id": "232c1f14-5d9f-4796-85b9-67eb46ef34e4",
   "metadata": {},
   "outputs": [
    {
     "data": {
      "text/plain": [
       "array([[ 1,  5,  9],\n",
       "       [13, 17, 21],\n",
       "       [25, 29, 33]])"
      ]
     },
     "execution_count": 53,
     "metadata": {},
     "output_type": "execute_result"
    }
   ],
   "source": [
    "(b * 2) - a"
   ]
  },
  {
   "cell_type": "code",
   "execution_count": 55,
   "id": "bc3e8be2-8fe2-4f71-8268-3689d3a2e68f",
   "metadata": {},
   "outputs": [
    {
     "data": {
      "text/plain": [
       "array([[126, 153, 180],\n",
       "       [306, 387, 468],\n",
       "       [486, 621, 756]])"
      ]
     },
     "execution_count": 55,
     "metadata": {},
     "output_type": "execute_result"
    }
   ],
   "source": [
    "np.matmul(a, b)"
   ]
  },
  {
   "cell_type": "code",
   "execution_count": null,
   "id": "3093cf29-faad-418c-b27e-b5238632a3e3",
   "metadata": {},
   "outputs": [],
   "source": []
  }
 ],
 "metadata": {
  "kernelspec": {
   "display_name": "Python 3 (ipykernel)",
   "language": "python",
   "name": "python3"
  },
  "language_info": {
   "codemirror_mode": {
    "name": "ipython",
    "version": 3
   },
   "file_extension": ".py",
   "mimetype": "text/x-python",
   "name": "python",
   "nbconvert_exporter": "python",
   "pygments_lexer": "ipython3",
   "version": "3.10.8"
  }
 },
 "nbformat": 4,
 "nbformat_minor": 5
}
