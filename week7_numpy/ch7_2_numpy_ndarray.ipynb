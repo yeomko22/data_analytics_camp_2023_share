{
 "cells": [
  {
   "cell_type": "markdown",
   "id": "235b29cb-8894-43c8-b600-d5c2e654572c",
   "metadata": {},
   "source": [
    "## ch7_2 numpy ndarray\n",
    "이번 챕터에서는 numpy에서 다차원 배열을 다루는 가장 기본인 ndarray를 직접 만들어보겠습니다.\n"
   ]
  },
  {
   "cell_type": "markdown",
   "id": "9ced8815-c211-42a2-af08-1fae6b122900",
   "metadata": {},
   "source": [
    "### python list를 이용해서 ndarray 생성"
   ]
  },
  {
   "cell_type": "code",
   "execution_count": 1,
   "id": "54d90ca6-d8b6-4bcd-9d42-0d684adf4e1c",
   "metadata": {},
   "outputs": [
    {
     "name": "stdout",
     "output_type": "stream",
     "text": [
      "Requirement already satisfied: numpy in /Users/user/miniconda3/lib/python3.10/site-packages (1.23.5)\n"
     ]
    }
   ],
   "source": [
    "!pip install numpy"
   ]
  },
  {
   "cell_type": "code",
   "execution_count": 2,
   "id": "a65f8a1d-9d86-4ccc-96cc-7c48ceafd2d4",
   "metadata": {},
   "outputs": [],
   "source": [
    "import numpy as np"
   ]
  },
  {
   "cell_type": "code",
   "execution_count": 11,
   "id": "b4343b8a-880b-4dbc-834e-375ed25a0df2",
   "metadata": {},
   "outputs": [],
   "source": [
    "a = np.array([[1, 2, 3, 4], [5, 6, 7, 8]])"
   ]
  },
  {
   "cell_type": "code",
   "execution_count": 12,
   "id": "6762efa5-a24a-4fb8-a2af-afd54a124e2b",
   "metadata": {},
   "outputs": [
    {
     "data": {
      "text/plain": [
       "array([[1, 2, 3, 4],\n",
       "       [5, 6, 7, 8]])"
      ]
     },
     "execution_count": 12,
     "metadata": {},
     "output_type": "execute_result"
    }
   ],
   "source": [
    "a"
   ]
  },
  {
   "cell_type": "code",
   "execution_count": 13,
   "id": "b1d2bce9-f458-41df-b4d6-b49bb0093aee",
   "metadata": {},
   "outputs": [
    {
     "data": {
      "text/plain": [
       "numpy.ndarray"
      ]
     },
     "execution_count": 13,
     "metadata": {},
     "output_type": "execute_result"
    }
   ],
   "source": [
    "type(a)"
   ]
  },
  {
   "cell_type": "code",
   "execution_count": 14,
   "id": "f54dc6eb-e0e7-4905-9512-e63332c5d4a4",
   "metadata": {},
   "outputs": [
    {
     "data": {
      "text/plain": [
       "(2, 4)"
      ]
     },
     "execution_count": 14,
     "metadata": {},
     "output_type": "execute_result"
    }
   ],
   "source": [
    "a.shape"
   ]
  },
  {
   "cell_type": "markdown",
   "id": "3a2f0793-5bcf-4b54-9207-cfe91768d0a9",
   "metadata": {},
   "source": [
    "### np.zeros\n",
    "0으로 채워진 ndarray 리턴"
   ]
  },
  {
   "cell_type": "code",
   "execution_count": 15,
   "id": "b3ab0b3b-4d7a-44b5-b8e8-9ec622b29e73",
   "metadata": {},
   "outputs": [
    {
     "data": {
      "text/plain": [
       "array([[0., 0.],\n",
       "       [0., 0.]])"
      ]
     },
     "execution_count": 15,
     "metadata": {},
     "output_type": "execute_result"
    }
   ],
   "source": [
    "np.zeros([2, 2])"
   ]
  },
  {
   "cell_type": "code",
   "execution_count": 22,
   "id": "baf3498d-0072-42a8-83ae-45d7d10e1663",
   "metadata": {},
   "outputs": [],
   "source": [
    "zero_nums = np.zeros([2, 2, 3], dtype=np.int64)"
   ]
  },
  {
   "cell_type": "code",
   "execution_count": 23,
   "id": "a8c3530d-7248-43c4-82c2-fa35eabab2b6",
   "metadata": {},
   "outputs": [
    {
     "data": {
      "text/plain": [
       "array([[[0, 0, 0],\n",
       "        [0, 0, 0]],\n",
       "\n",
       "       [[0, 0, 0],\n",
       "        [0, 0, 0]]])"
      ]
     },
     "execution_count": 23,
     "metadata": {},
     "output_type": "execute_result"
    }
   ],
   "source": [
    "zero_nums"
   ]
  },
  {
   "cell_type": "code",
   "execution_count": 24,
   "id": "f0a85609-dc04-40f3-aa3b-1e10a46cf862",
   "metadata": {},
   "outputs": [
    {
     "data": {
      "text/plain": [
       "numpy.int64"
      ]
     },
     "execution_count": 24,
     "metadata": {},
     "output_type": "execute_result"
    }
   ],
   "source": [
    "type(zero_nums[0][0][0])"
   ]
  },
  {
   "cell_type": "code",
   "execution_count": 20,
   "id": "04ec8faa-3aa2-4791-9c56-64efb5d40fc0",
   "metadata": {},
   "outputs": [
    {
     "data": {
      "text/plain": [
       "(2, 2, 3)"
      ]
     },
     "execution_count": 20,
     "metadata": {},
     "output_type": "execute_result"
    }
   ],
   "source": [
    "zero_nums.shape"
   ]
  },
  {
   "cell_type": "markdown",
   "id": "c5a1a981-e4cc-4b72-a6d4-2e864d7bd57a",
   "metadata": {},
   "source": [
    "### np.ones\n",
    "1로 채워진 ndarray 리턴"
   ]
  },
  {
   "cell_type": "code",
   "execution_count": 27,
   "id": "a1e83e78-e3e0-42c2-b207-259c55bc35ee",
   "metadata": {},
   "outputs": [
    {
     "data": {
      "text/plain": [
       "array([[1, 1, 1],\n",
       "       [1, 1, 1]])"
      ]
     },
     "execution_count": 27,
     "metadata": {},
     "output_type": "execute_result"
    }
   ],
   "source": [
    "np.ones([2, 3], dtype=np.int64)"
   ]
  },
  {
   "cell_type": "code",
   "execution_count": 29,
   "id": "1523ce3e-49cc-4e5c-842d-96241d341b1d",
   "metadata": {},
   "outputs": [
    {
     "data": {
      "text/plain": [
       "array([[[1, 1],\n",
       "        [1, 1]],\n",
       "\n",
       "       [[1, 1],\n",
       "        [1, 1]],\n",
       "\n",
       "       [[1, 1],\n",
       "        [1, 1]]])"
      ]
     },
     "execution_count": 29,
     "metadata": {},
     "output_type": "execute_result"
    }
   ],
   "source": [
    "np.ones([3, 2, 2], dtype=np.int64)"
   ]
  },
  {
   "cell_type": "markdown",
   "id": "08a012e4-8a02-498f-9429-e9f130666199",
   "metadata": {},
   "source": [
    "### np.full\n",
    "특정 값으로 채워진 ndarray 리턴"
   ]
  },
  {
   "cell_type": "code",
   "execution_count": 32,
   "id": "73099b7a-9443-468f-b767-55671398c640",
   "metadata": {},
   "outputs": [
    {
     "data": {
      "text/plain": [
       "array([[inf, inf],\n",
       "       [inf, inf]])"
      ]
     },
     "execution_count": 32,
     "metadata": {},
     "output_type": "execute_result"
    }
   ],
   "source": [
    "np.full([2, 2], np.inf)"
   ]
  },
  {
   "cell_type": "markdown",
   "id": "e8e4a1d7-32d7-443e-aa1c-200f75f639c2",
   "metadata": {},
   "source": [
    "### np.arange\n",
    "특정 간격으로 채워진 ndarray 생성"
   ]
  },
  {
   "cell_type": "code",
   "execution_count": 40,
   "id": "ff4e5233-83a2-4460-b5bb-c70933499202",
   "metadata": {},
   "outputs": [
    {
     "data": {
      "text/plain": [
       "array([0, 2, 4, 6])"
      ]
     },
     "execution_count": 40,
     "metadata": {},
     "output_type": "execute_result"
    }
   ],
   "source": [
    "np.arange(0, 8, 2)"
   ]
  },
  {
   "cell_type": "markdown",
   "id": "fb4b5540-8ed8-4ea8-aa19-d0bb295f6a2d",
   "metadata": {},
   "source": [
    "### 연습문제\n",
    "np.ones, np.zeros, np.fulls를 사용하여 아래 형태의 ndarray를 생성하시오."
   ]
  },
  {
   "cell_type": "code",
   "execution_count": 42,
   "id": "146aa727-f910-4d00-8fd5-9b8e6b8221ef",
   "metadata": {},
   "outputs": [
    {
     "data": {
      "text/plain": [
       "array([[[1, 1],\n",
       "        [1, 1]],\n",
       "\n",
       "       [[1, 1],\n",
       "        [1, 1]]])"
      ]
     },
     "execution_count": 42,
     "metadata": {},
     "output_type": "execute_result"
    }
   ],
   "source": [
    "# [2, 2, 2]\n",
    "np.ones([2, 2, 2], dtype=np.int64)"
   ]
  },
  {
   "cell_type": "code",
   "execution_count": 45,
   "id": "63276c54-0d82-481c-a0a0-1d037bd93695",
   "metadata": {},
   "outputs": [
    {
     "data": {
      "text/plain": [
       "array([[[0, 0],\n",
       "        [0, 0]],\n",
       "\n",
       "       [[0, 0],\n",
       "        [0, 0]]])"
      ]
     },
     "execution_count": 45,
     "metadata": {},
     "output_type": "execute_result"
    }
   ],
   "source": [
    "np.zeros([2, 2, 2], dtype=np.int64)"
   ]
  },
  {
   "cell_type": "code",
   "execution_count": 46,
   "id": "fb41b094-45a9-4e4e-8bc6-3a6d42aeb08f",
   "metadata": {},
   "outputs": [
    {
     "data": {
      "text/plain": [
       "array([[5, 5, 5],\n",
       "       [5, 5, 5],\n",
       "       [5, 5, 5]])"
      ]
     },
     "execution_count": 46,
     "metadata": {},
     "output_type": "execute_result"
    }
   ],
   "source": [
    "np.full([3, 3], 5)"
   ]
  },
  {
   "cell_type": "code",
   "execution_count": 48,
   "id": "8f4b20a3-7760-4d63-aa19-22140c4b2c06",
   "metadata": {},
   "outputs": [
    {
     "data": {
      "text/plain": [
       "array([ 0, 10, 20, 30, 40, 50, 60, 70, 80, 90])"
      ]
     },
     "execution_count": 48,
     "metadata": {},
     "output_type": "execute_result"
    }
   ],
   "source": [
    "np.arange(0, 100, 10)"
   ]
  },
  {
   "cell_type": "markdown",
   "id": "fea598af-dcce-44ee-8060-d95be8dafa2b",
   "metadata": {},
   "source": [
    "### ndarray datatype 변경하기"
   ]
  },
  {
   "cell_type": "code",
   "execution_count": 49,
   "id": "403b18e3-a681-4f21-9d00-f2fd348d127a",
   "metadata": {},
   "outputs": [],
   "source": [
    "a = np.array([1.1, 2.2, 3.3, 4.4])"
   ]
  },
  {
   "cell_type": "code",
   "execution_count": 50,
   "id": "7f2a37fc-df09-46ad-8df0-92e00ed63386",
   "metadata": {},
   "outputs": [
    {
     "data": {
      "text/plain": [
       "array([1.1, 2.2, 3.3, 4.4])"
      ]
     },
     "execution_count": 50,
     "metadata": {},
     "output_type": "execute_result"
    }
   ],
   "source": [
    "a"
   ]
  },
  {
   "cell_type": "code",
   "execution_count": 51,
   "id": "5c0a7858-6016-48cf-953d-dadec77bd34c",
   "metadata": {},
   "outputs": [
    {
     "data": {
      "text/plain": [
       "numpy.float64"
      ]
     },
     "execution_count": 51,
     "metadata": {},
     "output_type": "execute_result"
    }
   ],
   "source": [
    "type(a[0])"
   ]
  },
  {
   "cell_type": "code",
   "execution_count": 52,
   "id": "f9f84eff-1bd9-4bc9-a819-b63409fc3d08",
   "metadata": {},
   "outputs": [
    {
     "data": {
      "text/plain": [
       "array([1.1, 2.2, 3.3, 4.4], dtype=float32)"
      ]
     },
     "execution_count": 52,
     "metadata": {},
     "output_type": "execute_result"
    }
   ],
   "source": [
    "a.astype(np.float32)"
   ]
  },
  {
   "cell_type": "code",
   "execution_count": 56,
   "id": "31072170-fad0-4290-9de2-c8263f3de802",
   "metadata": {},
   "outputs": [
    {
     "name": "stderr",
     "output_type": "stream",
     "text": [
      "/var/folders/wx/2vw1xwz972zdxff5h8gzrml00000gn/T/ipykernel_45700/1825602769.py:1: DeprecationWarning: `np.object` is a deprecated alias for the builtin `object`. To silence this warning, use `object` by itself. Doing this will not modify any behavior and is safe. \n",
      "Deprecated in NumPy 1.20; for more details and guidance: https://numpy.org/devdocs/release/1.20.0-notes.html#deprecations\n",
      "  a = a.astype(np.object)\n"
     ]
    }
   ],
   "source": [
    "a = a.astype(np.object)"
   ]
  },
  {
   "cell_type": "code",
   "execution_count": 60,
   "id": "d5f779c4-4024-48af-80b8-1b762855fb42",
   "metadata": {},
   "outputs": [
    {
     "data": {
      "text/plain": [
       "array(['1', '2', '3', '4'], dtype='<U1')"
      ]
     },
     "execution_count": 60,
     "metadata": {},
     "output_type": "execute_result"
    }
   ],
   "source": [
    "a.astype(\"<U1\")"
   ]
  },
  {
   "cell_type": "code",
   "execution_count": 55,
   "id": "f95b4d70-9b23-4e20-b359-23514a499e68",
   "metadata": {},
   "outputs": [
    {
     "data": {
      "text/plain": [
       "numpy.int32"
      ]
     },
     "execution_count": 55,
     "metadata": {},
     "output_type": "execute_result"
    }
   ],
   "source": [
    "type(a[0])"
   ]
  },
  {
   "cell_type": "code",
   "execution_count": 58,
   "id": "151658bc-4ca5-4c77-8239-fd5b25267b6d",
   "metadata": {},
   "outputs": [
    {
     "data": {
      "text/plain": [
       "int"
      ]
     },
     "execution_count": 58,
     "metadata": {},
     "output_type": "execute_result"
    }
   ],
   "source": [
    "type(a[0])"
   ]
  },
  {
   "cell_type": "code",
   "execution_count": 59,
   "id": "d84215b9-5b4c-4414-b6a5-f7e918329298",
   "metadata": {},
   "outputs": [
    {
     "data": {
      "text/plain": [
       "array(['1', '2', '3', '4'], dtype='<U1')"
      ]
     },
     "execution_count": 59,
     "metadata": {},
     "output_type": "execute_result"
    }
   ],
   "source": [
    "np.array([\"1\", \"2\", \"3\", \"4\"])"
   ]
  },
  {
   "cell_type": "code",
   "execution_count": null,
   "id": "fff4fadd-29f9-4855-8a03-df6c881c70ef",
   "metadata": {},
   "outputs": [],
   "source": []
  }
 ],
 "metadata": {
  "kernelspec": {
   "display_name": "Python 3 (ipykernel)",
   "language": "python",
   "name": "python3"
  },
  "language_info": {
   "codemirror_mode": {
    "name": "ipython",
    "version": 3
   },
   "file_extension": ".py",
   "mimetype": "text/x-python",
   "name": "python",
   "nbconvert_exporter": "python",
   "pygments_lexer": "ipython3",
   "version": "3.10.8"
  }
 },
 "nbformat": 4,
 "nbformat_minor": 5
}
