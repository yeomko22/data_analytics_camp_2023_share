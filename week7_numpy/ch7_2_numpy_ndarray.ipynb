{
 "cells": [
  {
   "cell_type": "markdown",
   "id": "235b29cb-8894-43c8-b600-d5c2e654572c",
   "metadata": {},
   "source": [
    "## ch7_2 numpy ndarray\n",
    "이번 챕터에서는 numpy에서 다차원 배열을 다루는 가장 기본인 ndarray를 직접 만들어보겠습니다.\n"
   ]
  },
  {
   "cell_type": "markdown",
   "id": "9ced8815-c211-42a2-af08-1fae6b122900",
   "metadata": {},
   "source": [
    "### python list를 이용해서 ndarray 생성"
   ]
  },
  {
   "cell_type": "code",
   "execution_count": 3,
   "id": "a65f8a1d-9d86-4ccc-96cc-7c48ceafd2d4",
   "metadata": {},
   "outputs": [],
   "source": [
    "import numpy as np"
   ]
  },
  {
   "cell_type": "code",
   "execution_count": 7,
   "id": "10e5f5a8-da78-4a5e-8e49-2f8f9b70d4e9",
   "metadata": {},
   "outputs": [],
   "source": [
    "np_1d = np.array([1, 2, 3, 4])"
   ]
  },
  {
   "cell_type": "code",
   "execution_count": 13,
   "id": "fed38574-8002-4c72-a9d9-4ff48fa89035",
   "metadata": {},
   "outputs": [
    {
     "data": {
      "text/plain": [
       "(array([1, 2, 3, 4]), numpy.ndarray)"
      ]
     },
     "execution_count": 13,
     "metadata": {},
     "output_type": "execute_result"
    }
   ],
   "source": [
    "np_nums, type(np_nums)"
   ]
  },
  {
   "cell_type": "code",
   "execution_count": 14,
   "id": "f035df7c-e8ff-4ff1-965f-b0f874543778",
   "metadata": {},
   "outputs": [
    {
     "data": {
      "text/plain": [
       "(4,)"
      ]
     },
     "execution_count": 14,
     "metadata": {},
     "output_type": "execute_result"
    }
   ],
   "source": [
    "np_1d.shape"
   ]
  },
  {
   "cell_type": "code",
   "execution_count": 9,
   "id": "7ac2c364-7115-4ef5-aa7a-70df038cb447",
   "metadata": {},
   "outputs": [],
   "source": [
    "np_2d = np.array([\n",
    "    [1, 2],\n",
    "    [3, 4]\n",
    "])"
   ]
  },
  {
   "cell_type": "code",
   "execution_count": 15,
   "id": "2d285157-c53a-4a37-93b9-60e30662c4bd",
   "metadata": {},
   "outputs": [
    {
     "data": {
      "text/plain": [
       "(array([[1, 2],\n",
       "        [3, 4]]),\n",
       " numpy.ndarray)"
      ]
     },
     "execution_count": 15,
     "metadata": {},
     "output_type": "execute_result"
    }
   ],
   "source": [
    "np_2d, type(np_2d)"
   ]
  },
  {
   "cell_type": "code",
   "execution_count": 16,
   "id": "e3c057a3-5e97-4ea7-87a8-b20f5877499c",
   "metadata": {},
   "outputs": [
    {
     "data": {
      "text/plain": [
       "(2, 2)"
      ]
     },
     "execution_count": 16,
     "metadata": {},
     "output_type": "execute_result"
    }
   ],
   "source": [
    "np_2d.shape"
   ]
  },
  {
   "cell_type": "markdown",
   "id": "3a2f0793-5bcf-4b54-9207-cfe91768d0a9",
   "metadata": {},
   "source": [
    "### np.zeros\n",
    "0으로 채워진 ndarray 리턴"
   ]
  },
  {
   "cell_type": "code",
   "execution_count": 25,
   "id": "3a864fe6-0aaa-4eb1-8951-913543c655cf",
   "metadata": {},
   "outputs": [],
   "source": [
    "zeros = np.zeros([4])"
   ]
  },
  {
   "cell_type": "code",
   "execution_count": 26,
   "id": "5e6f74d3-971b-470f-aa2e-13ab73fbfedd",
   "metadata": {},
   "outputs": [
    {
     "data": {
      "text/plain": [
       "array([0., 0., 0., 0.])"
      ]
     },
     "execution_count": 26,
     "metadata": {},
     "output_type": "execute_result"
    }
   ],
   "source": [
    "zeros"
   ]
  },
  {
   "cell_type": "code",
   "execution_count": 27,
   "id": "dfce47c8-b927-4f8b-9834-5d2b0e2501db",
   "metadata": {},
   "outputs": [
    {
     "data": {
      "text/plain": [
       "(4,)"
      ]
     },
     "execution_count": 27,
     "metadata": {},
     "output_type": "execute_result"
    }
   ],
   "source": [
    "zeros.shape"
   ]
  },
  {
   "cell_type": "code",
   "execution_count": 28,
   "id": "592c630c-761c-493f-9e52-6ace8725d564",
   "metadata": {},
   "outputs": [],
   "source": [
    "zeros = np.zeros([2, 2])"
   ]
  },
  {
   "cell_type": "code",
   "execution_count": 29,
   "id": "028490bf-9f33-491b-8ae8-93118a249905",
   "metadata": {},
   "outputs": [
    {
     "data": {
      "text/plain": [
       "array([[0., 0.],\n",
       "       [0., 0.]])"
      ]
     },
     "execution_count": 29,
     "metadata": {},
     "output_type": "execute_result"
    }
   ],
   "source": [
    "zeros"
   ]
  },
  {
   "cell_type": "code",
   "execution_count": 30,
   "id": "85108661-05c9-486e-a306-4e385f3dd4c3",
   "metadata": {},
   "outputs": [
    {
     "data": {
      "text/plain": [
       "(2, 2)"
      ]
     },
     "execution_count": 30,
     "metadata": {},
     "output_type": "execute_result"
    }
   ],
   "source": [
    "zeros.shape"
   ]
  },
  {
   "cell_type": "markdown",
   "id": "c5a1a981-e4cc-4b72-a6d4-2e864d7bd57a",
   "metadata": {},
   "source": [
    "### np.ones\n",
    "1로 채워진 ndarray 리턴"
   ]
  },
  {
   "cell_type": "code",
   "execution_count": 17,
   "id": "b2b1df15-1b73-45e6-9b12-1fa02f8871fa",
   "metadata": {},
   "outputs": [],
   "source": [
    "ones = np.ones([2, 2])"
   ]
  },
  {
   "cell_type": "code",
   "execution_count": 18,
   "id": "036ead8e-ee71-416d-b783-2efb75648471",
   "metadata": {},
   "outputs": [
    {
     "data": {
      "text/plain": [
       "array([[1., 1.],\n",
       "       [1., 1.]])"
      ]
     },
     "execution_count": 18,
     "metadata": {},
     "output_type": "execute_result"
    }
   ],
   "source": [
    "ones"
   ]
  },
  {
   "cell_type": "code",
   "execution_count": 21,
   "id": "1e86901e-8c73-41b0-9e9f-509f5a2f688d",
   "metadata": {},
   "outputs": [],
   "source": [
    "ones = np.ones([3, 2, 2])"
   ]
  },
  {
   "cell_type": "code",
   "execution_count": 22,
   "id": "437c85c5-c6d5-4340-b6cc-d7b1473e2f3e",
   "metadata": {},
   "outputs": [
    {
     "data": {
      "text/plain": [
       "array([[[1., 1.],\n",
       "        [1., 1.]],\n",
       "\n",
       "       [[1., 1.],\n",
       "        [1., 1.]],\n",
       "\n",
       "       [[1., 1.],\n",
       "        [1., 1.]]])"
      ]
     },
     "execution_count": 22,
     "metadata": {},
     "output_type": "execute_result"
    }
   ],
   "source": [
    "ones"
   ]
  },
  {
   "cell_type": "markdown",
   "id": "08a012e4-8a02-498f-9429-e9f130666199",
   "metadata": {},
   "source": [
    "### np.full\n",
    "특정 값으로 채워진 ndarray 리턴"
   ]
  },
  {
   "cell_type": "code",
   "execution_count": 31,
   "id": "f232195d-dd04-4e96-8bb9-c6a279a2e7a6",
   "metadata": {},
   "outputs": [],
   "source": [
    "fulls = np.full((3, 2), 7)"
   ]
  },
  {
   "cell_type": "code",
   "execution_count": 32,
   "id": "137554e9-ba58-4936-9605-5f56dca13d65",
   "metadata": {},
   "outputs": [
    {
     "data": {
      "text/plain": [
       "array([[7, 7],\n",
       "       [7, 7],\n",
       "       [7, 7]])"
      ]
     },
     "execution_count": 32,
     "metadata": {},
     "output_type": "execute_result"
    }
   ],
   "source": [
    "fulls"
   ]
  },
  {
   "cell_type": "code",
   "execution_count": 33,
   "id": "d1a1629c-92cf-4f1b-b966-0dbea61b1347",
   "metadata": {},
   "outputs": [
    {
     "data": {
      "text/plain": [
       "(3, 2)"
      ]
     },
     "execution_count": 33,
     "metadata": {},
     "output_type": "execute_result"
    }
   ],
   "source": [
    "fulls.shape"
   ]
  },
  {
   "cell_type": "markdown",
   "id": "e8e4a1d7-32d7-443e-aa1c-200f75f639c2",
   "metadata": {},
   "source": [
    "### np.arange\n",
    "특정 간격으로 채워진 ndarray 생성"
   ]
  },
  {
   "cell_type": "code",
   "execution_count": 39,
   "id": "266c489c-b27f-4608-9df2-4b6875dcf15f",
   "metadata": {},
   "outputs": [],
   "source": [
    "intervals = np.arange(1, 10, 2)"
   ]
  },
  {
   "cell_type": "code",
   "execution_count": 41,
   "id": "602ce739-66a4-40dc-ab6e-099f58c73e8e",
   "metadata": {},
   "outputs": [
    {
     "data": {
      "text/plain": [
       "array([1, 3, 5, 7, 9])"
      ]
     },
     "execution_count": 41,
     "metadata": {},
     "output_type": "execute_result"
    }
   ],
   "source": [
    "intervals"
   ]
  },
  {
   "cell_type": "markdown",
   "id": "fb4b5540-8ed8-4ea8-aa19-d0bb295f6a2d",
   "metadata": {},
   "source": [
    "### 연습문제\n",
    "np.ones, np.zeros, np.fulls를 사용하여 아래 형태의 ndarray를 생성하시오."
   ]
  },
  {
   "cell_type": "code",
   "execution_count": 35,
   "id": "146aa727-f910-4d00-8fd5-9b8e6b8221ef",
   "metadata": {},
   "outputs": [
    {
     "data": {
      "text/plain": [
       "array([[[1., 1.],\n",
       "        [1., 1.]],\n",
       "\n",
       "       [[1., 1.],\n",
       "        [1., 1.]]])"
      ]
     },
     "execution_count": 35,
     "metadata": {},
     "output_type": "execute_result"
    }
   ],
   "source": [
    "np.ones([2, 2, 2])"
   ]
  },
  {
   "cell_type": "code",
   "execution_count": 38,
   "id": "63276c54-0d82-481c-a0a0-1d037bd93695",
   "metadata": {},
   "outputs": [
    {
     "data": {
      "text/plain": [
       "array([[[0., 0.],\n",
       "        [0., 0.]],\n",
       "\n",
       "       [[0., 0.],\n",
       "        [0., 0.]],\n",
       "\n",
       "       [[0., 0.],\n",
       "        [0., 0.]]])"
      ]
     },
     "execution_count": 38,
     "metadata": {},
     "output_type": "execute_result"
    }
   ],
   "source": [
    "np.zeros([3, 2, 2])"
   ]
  },
  {
   "cell_type": "code",
   "execution_count": 34,
   "id": "fb41b094-45a9-4e4e-8bc6-3a6d42aeb08f",
   "metadata": {},
   "outputs": [
    {
     "data": {
      "text/plain": [
       "array([[5, 5, 5],\n",
       "       [5, 5, 5],\n",
       "       [5, 5, 5]])"
      ]
     },
     "execution_count": 34,
     "metadata": {},
     "output_type": "execute_result"
    }
   ],
   "source": [
    "np.full((3, 3), 5)"
   ]
  },
  {
   "cell_type": "code",
   "execution_count": 42,
   "id": "8f4b20a3-7760-4d63-aa19-22140c4b2c06",
   "metadata": {},
   "outputs": [
    {
     "data": {
      "text/plain": [
       "array([ 0, 10, 20, 30, 40, 50, 60, 70, 80, 90])"
      ]
     },
     "execution_count": 42,
     "metadata": {},
     "output_type": "execute_result"
    }
   ],
   "source": [
    "np.arange(0, 100, 10)"
   ]
  },
  {
   "cell_type": "code",
   "execution_count": null,
   "id": "403b18e3-a681-4f21-9d00-f2fd348d127a",
   "metadata": {},
   "outputs": [],
   "source": []
  }
 ],
 "metadata": {
  "kernelspec": {
   "display_name": "Python 3 (ipykernel)",
   "language": "python",
   "name": "python3"
  },
  "language_info": {
   "codemirror_mode": {
    "name": "ipython",
    "version": 3
   },
   "file_extension": ".py",
   "mimetype": "text/x-python",
   "name": "python",
   "nbconvert_exporter": "python",
   "pygments_lexer": "ipython3",
   "version": "3.10.8"
  }
 },
 "nbformat": 4,
 "nbformat_minor": 5
}
